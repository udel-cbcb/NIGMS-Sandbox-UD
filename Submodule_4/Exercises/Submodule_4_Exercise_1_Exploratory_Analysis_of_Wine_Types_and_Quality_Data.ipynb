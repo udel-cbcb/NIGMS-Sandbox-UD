{
 "cells": [
  {
   "cell_type": "markdown",
   "metadata": {},
   "source": [
    "# Exploratory Analysis of Wine Types and Quality Data (Solution)\n",
    "\n",
    "Adapted from Dipanjan Sarkar et al. 2018. [Practical Machine Learning with Python](https://link.springer.com/book/10.1007/978-1-4842-3207-1).\n",
    "\n",
    "## Overview\n",
    "\n",
    "This module covers exploratory data analysis of wine types and quality using physicochemical attributes. We will analyze two datasets from the UCI Machine Learning Repository containing red and white wine samples to understand patterns and relationships between wine properties, types and quality ratings.\n",
    "\n",
    "## Learning Objectives\n",
    "\n",
    "- Understand and analyze relationships between wine physicochemical properties and quality ratings\n",
    "- Apply statistical analysis techniques to wine attribute data\n",
    "  - Perform descriptive statistical analysis\n",
    "  - Conduct inferential statistical tests like ANOVA\n",
    "- Create effective visualizations to explore wine data patterns\n",
    "  - Generate univariate distribution plots\n",
    "  - Produce multivariate relationship plots\n",
    "- Build analytical frameworks for wine type and quality prediction\n",
    "\n",
    "### Tasks to complete\n",
    "\n",
    "- Perform descriptive statistical analysis\n",
    "- Conduct inferential statistical tests\n",
    "- Generate univariate distribution visualizations\n",
    "- Create multivariate relationship plots\n",
    "- Analyze patterns between wine attributes and quality\n",
    "\n",
    "## Prerequisites\n",
    "\n",
    "- Python programming environment\n",
    "- Basic understanding of statistical and machine learning concepts\n",
    "- Familiarity with common ML libraries\n"
   ]
  },
  {
   "cell_type": "markdown",
   "metadata": {},
   "source": [
    "## Get Started\n",
    "\n",
    "### Set up conda environment\n",
    "\n",
    "Ensure that you have created then conda environment using the `environment.yml` file included in this repository. E.g.,\n",
    "\n",
    "```\n",
    "# Create conda environment\n",
    "conda env create -f conda_env_submodule_4.yml\n",
    "\n",
    "# Register the kernel\n",
    "python -m ipykernel install --user \\\n",
    "    --name=nigms_sandbox_ud__submodule_4 \\\n",
    "    --display-name \"Python (NIGMS Sandbox UD, Submodule 4)\"\n",
    "```\n",
    "\n",
    "Then, when starting the notebook, select the appropriate kernel from the list.\n",
    "\n",
    "Note that you may need to restart Jupyter Lab for these changes to take effect.\n",
    "\n",
    "### Import necessary libraries\n"
   ]
  },
  {
   "cell_type": "code",
   "execution_count": null,
   "metadata": {},
   "outputs": [],
   "source": [
    "# Import necessary dependencies\n",
    "# We wil use matplotlib and seaborn for exploratory data analysis and visualizations\n",
    "import matplotlib as mpl\n",
    "import matplotlib.pyplot as plt\n",
    "import numpy as np\n",
    "import pandas as pd\n",
    "import seaborn as sns\n",
    "from scipy import stats\n",
    "\n",
    "# make your plot outputs appear and be stored within the notebook.\n",
    "%matplotlib inline \n",
    "\n",
    "# Set up plotting style\n",
    "sns.set(style=\"whitegrid\", palette=\"pastel\")\n",
    "plt.rcParams[\"figure.figsize\"] = (10, 6)"
   ]
  },
  {
   "cell_type": "markdown",
   "metadata": {},
   "source": [
    "## Problem Statement\n",
    "\n",
    "“Given a dataset, or in this case two datasets that deal with physicochemical properties of wine, can you\n",
    "guess the wine type and quality?” We will process,\n",
    "analyze, visualize, and model our dataset based on standard Machine Learning and data mining workflow\n",
    "models like the CRISP-DM model.\n",
    "\n",
    "The datasets used are available in the very popular UCI Machine Learning Repository\n",
    "under the name of Wine Quality Data Set. You can access more details at https://archive.ics.uci.edu/ml/datasets/wine+quality. There are two datasets, one for red wines and the other for white wines.\n",
    "\n",
    "We will be trying to solve the following major problems by\n",
    "leveraging Machine Learning and data analysis on our wine quality dataset.\n",
    "\n",
    "- Predict if each wine sample is a red or white wine.\n",
    "- Predict the quality of each wine sample, which can be low, medium, or high.\n"
   ]
  },
  {
   "cell_type": "markdown",
   "metadata": {},
   "source": [
    "## Load and merge datasets\n"
   ]
  },
  {
   "cell_type": "code",
   "execution_count": null,
   "metadata": {},
   "outputs": [],
   "source": [
    "# Load datasets\n",
    "red_wine = pd.read_csv(\"../../Data/winequality-red.csv\", sep=\";\")\n",
    "white_wine = pd.read_csv(\"../../Data/winequality-white.csv\", sep=\";\")\n",
    "\n",
    "# Add wine type and quality labels\n",
    "red_wine[\"wine_type\"] = \"red\"\n",
    "white_wine[\"wine_type\"] = \"white\"\n",
    "\n",
    "def categorize_quality(quality):\n",
    "    \"\"\"Categorize wine quality into low, medium, or high.\"\"\"\n",
    "    if quality <= 5:\n",
    "        return \"low\"\n",
    "    elif quality <= 7:\n",
    "        return \"medium\"\n",
    "    else:\n",
    "        return \"high\"\n",
    "\n",
    "red_wine[\"quality_label\"] = red_wine[\"quality\"].apply(categorize_quality)\n",
    "white_wine[\"quality_label\"] = # Your code goes here\n",
    "\n",
    "# Merge datasets and shuffle\n",
    "wines = pd.concat([red_wine, white_wine]).sample(frac=1, random_state=42).reset_index(drop=True)"
   ]
  },
  {
   "cell_type": "markdown",
   "metadata": {},
   "source": [
    "## Understand dataset features and values\n"
   ]
  },
  {
   "cell_type": "code",
   "execution_count": null,
   "metadata": {},
   "outputs": [],
   "source": [
    "print(white_wine.shape, red_wine.shape)\n",
    "print(wines.info())"
   ]
  },
  {
   "cell_type": "markdown",
   "metadata": {},
   "source": [
    "We have 4898 white wine data points and 1599 red wine data points. The\n",
    "merged dataset contains a total of 6497 data points and we also get an idea of numeric and categorical\n",
    "attributes.\n"
   ]
  },
  {
   "cell_type": "code",
   "execution_count": null,
   "metadata": {},
   "outputs": [],
   "source": [
    "# Let’s take a peek at our dataset to see some sample data points.\n",
    "wines.head()"
   ]
  },
  {
   "cell_type": "markdown",
   "metadata": {},
   "source": [
    "## Domain knowledge about wine and its attributes\n"
   ]
  },
  {
   "cell_type": "markdown",
   "metadata": {},
   "source": [
    "### Understanding Wine and Types\n",
    "\n",
    "Wine is an alcoholic beverage made from grapes which is fermented without the addition of sugars, acids, enzymes, water, or other nutrients\n",
    "\n",
    "Red wine is made from dark red and black grapes. The color usually ranges from various shades of red, brown and violet. This is produced with whole grapes including the skin which adds to the color and flavor of red wines, giving it a rich flavor.\n",
    "\n",
    "White wine is made from white grapes with no skins or seeds. The color is usually straw-yellow, yellow-green, or yellow-gold. Most white wines have a light and fruity flavor as compared to richer red wines.\n"
   ]
  },
  {
   "cell_type": "markdown",
   "metadata": {},
   "source": [
    "### Understanding Wine Attributes and Properties\n",
    "\n",
    "The 14 attributes are described as follows:\n",
    "\n",
    "- **fixed acidity:** Acids are one of the fundamental properties of wine and contribute greatly to the taste of the wine. Reducing acids significantly might lead to wines tasting flat. Fixed acids include tartaric, malic, citric, and succinic acids which are found in grapes (except succinic). This variable is usually expressed in $\\frac{g(tartaricacid)}{dm^3}$ in the dataset.\n",
    "\n",
    "- **volatile acidity:** These acids are to be distilled out from the wine before completing the production process. It is primarily constituted of acetic acid though other acids like lactic, formic and butyric acids might also be present. Excess of volatile acids are undesirable and lead to unpleasant flavor. In the US, the legal limits of volatile acidity are 1.2 g/L for red table wine and 1.1 g/L for white table wine. The volatile acidity is expressed in $\\frac{g(aceticacid)}{dm^3}$ in the dataset.\n",
    "\n",
    "- **citric acid:** This is one of the fixed acids which gives a wine its freshness. Usually most of it is consumed during the fermentation process and sometimes it is added separately to give the wine more freshness. It's usually expressed in $\\frac{g}{dm^3}$ in the dataset.\n",
    "\n",
    "- **residual sugar:** This typically refers to the natural sugar from grapes which remains after the fermentation process stops, or is stopped. It's usually expressed in $\\frac{g}{dm^3}$ in the dataset.\n",
    "\n",
    "- **chlorides:** This is usually a major contributor to saltiness in wine. It's usually expressed in $\\frac{g(sodiumchloride)}{dm^3}$ in the dataset.\n",
    "\n",
    "- **free sulfur dioxide:** This is the part of the sulphur dioxide that when added to a wine is said to be free after the remaining part binds. Winemakers will always try to get the highest proportion of free sulphur to bind. They are also known as sulfites and too much of it is undesirable and gives a pungent odour. This variable is expressed in $\\frac{mg}{dm^3}$ in the dataset.\n",
    "\n",
    "- **total sulfur dioxide:** This is the sum total of the bound and the free sulfur dioxide ($SO_2$). Here, it's expressed in $\\frac{mg}{dm^3}$. This is mainly added to kill harmful bacteria and preserve quality and freshness. There are usually legal limits for sulfur levels in wines and excess of it can even kill good yeast and give out undesirable odour.\n",
    "\n",
    "- **density:** This can be represented as a comparison of the weight of a specific volume of wine to an equivalent volume of water. It is generally used as a measure of the conversion of sugar to alcohol. Here, it's expressed in $\\frac{g}{cm^3}$.\n",
    "\n",
    "- **pH:** Also known as the potential of hydrogen, this is a numeric scale to specify the acidity or basicity the wine. Fixed acidity contributes the most towards the pH of wines. You might know, solutions with a pH less than 7 are acidic, while solutions with a pH greater than 7 are basic. With a pH of 7, pure water is neutral. Most wines have a pH between 2.9 and 3.9 and are therefore acidic.\n",
    "\n",
    "- **sulphates:** These are mineral salts containing sulfur. Sulphates are to wine as gluten is to food. They are a regular part of the winemaking around the world and are considered essential. They are connected to the fermentation process and affects the wine aroma and flavor. Here, it's expressed in $\\frac{g(potassiumsulphate)}{dm^3}$ in the dataset.\n",
    "\n",
    "- **alcohol:** Wine is an alcoholic beverage. Alcohol is formed as a result of yeast converting sugar during the fermentation process. The percentage of alcohol can vary from wine to wine. Hence it is not a surprise for this attribute to be a part of this dataset. It's usually measured in % vol or alcohol by volume (ABV).\n",
    "\n",
    "- **quality:** Wine experts graded the wine quality between 0 (very bad) and 10 (very excellent). The eventual quality score is the median of at least three evaluations made by the same wine experts.\n",
    "\n",
    "- **wine_type:** Since we originally had two datasets for red and white wine, we introduced this attribute in the final merged dataset which indicates the type of wine for each data point. A wine can either be a 'red' or a 'white' wine. One of the predictive models we will build in this chapter would be such that we can predict the type of wine by looking at other wine attributes.\n",
    "\n",
    "- **quality_label:** This is a derived attribute from the `quality` attribute. We bucket or group wine quality scores into three qualitative buckets namely low, medium and high. Wines with a quality score of 3, 4 & 5 are low quality, scores of 6 & 7 are medium quality and scores of 8 & 9 are high quality wines. We will also build another model in this chapter to predict this wine quality label based on other wine attributes.\n"
   ]
  },
  {
   "cell_type": "markdown",
   "metadata": {},
   "source": [
    "## Exploratory Data Analysis and Visualizations\n",
    "\n",
    "Standard Machine Learning and analytics workflow recommend processing, cleaning, analyzing, and\n",
    "visualizing your data before moving on toward modeling your data. We will also follow the same workflow here.\n"
   ]
  },
  {
   "cell_type": "markdown",
   "metadata": {},
   "source": [
    "### Descriptive Statistics\n"
   ]
  },
  {
   "cell_type": "code",
   "execution_count": null,
   "metadata": {},
   "outputs": [],
   "source": [
    "# Let’s build a descriptive summary table on various wine attributes separated by wine type.\n",
    "# Summary statistics for key attributes based on wine types\n",
    "subset_attributes = [\"residual sugar\", \"total sulfur dioxide\", \"sulphates\", \"alcohol\", \"volatile acidity\", \"quality\"]\n",
    "summary = wines.groupby(\"wine_type\")[subset_attributes].describe().T\n",
    "print(summary)"
   ]
  },
  {
   "cell_type": "markdown",
   "metadata": {},
   "source": [
    "We can see mean residual sugar and total sulfur dioxide content in\n",
    "white wine seems to be much higher than red wine. Also, the mean value of sulphates and volatile acidity\n",
    "seem to be higher in red wine as compared to white wine.\n"
   ]
  },
  {
   "cell_type": "code",
   "execution_count": null,
   "metadata": {},
   "outputs": [],
   "source": [
    "# Calculate summary statistics for key attributes based on wine quality labels\n",
    "quality_summary = # Your code goes here\n",
    "print(quality_summary)"
   ]
  },
  {
   "cell_type": "markdown",
   "metadata": {},
   "source": [
    "Interestingly, mean alcohol levels seem to increase based on the rating of the\n",
    "wine quality. We also see that pH levels are almost consistent across the wine samples of varying quality.\n"
   ]
  },
  {
   "cell_type": "markdown",
   "metadata": {},
   "source": [
    "### Inferential Statistics\n",
    "\n",
    "Inferential Statistics is to draw inferences and propositions of a population using a\n",
    "data sample. The idea is to use statistical methods and models to draw statistical inferences from a given\n",
    "hypotheses. Each hypothesis consists of a null hypothesis and an alternative hypothesis. Based on statistical\n",
    "test results, if the result is statistically significant based on pre-set significance levels (e.g., if obtained\n",
    "p-value is less than 5% significance level), we reject the null hypothesis in favor of the alternative hypothesis.\n",
    "Otherwise, if the results is not statistically significant, we conclude that our null hypothesis was correct.\n"
   ]
  },
  {
   "cell_type": "markdown",
   "metadata": {},
   "source": [
    "#### ANOVA\n",
    "\n",
    "A great statistical model to prove or disprove the difference in mean among subsets of data is to use\n",
    "the one-way ANOVA test. ANOVA stands for “analysis of variance,” which is a nifty statistical model and can\n",
    "be used to analyze statistically significant differences among means or averages of various groups. This is\n",
    "basically achieved using a statistical test that helps us determine whether or not the means of several groups\n",
    "are equal.\n",
    "\n",
    "- The null hypothesis $H_0$ indicates that the group means for the various\n",
    "  groups are not very different from each other based on statistical significance levels.\n",
    "- The alternative\n",
    "  hypotheses, $H_A$, tells us that there exists at least two group means that are statistically significantly different\n",
    "  from each other.\n",
    "\n",
    "Usually the F-statistic and the associated p-value from it is used to determine the statistical\n",
    "significance. Typically a p-value less than 0.05 is taken to be a statistically significant result where we reject\n",
    "the null hypothesis in favor of the original.\n",
    "In our case, three data subsets or groups from the data are created based on wine quality ratings. The\n",
    "mean values in the first test would be based on the wine alcohol content and the second test would be based\n",
    "on the wine pH levels. Also let’s assume the null hypothesis is that the group means for low, medium, and high\n",
    "quality wine is same and the alternate hypothesis would be that there is a difference (statistically significant)\n",
    "between at least two group means.\n"
   ]
  },
  {
   "cell_type": "code",
   "execution_count": null,
   "metadata": {},
   "outputs": [],
   "source": [
    "# Perform ANOVA for alcohol and pH levels across quality labels\n",
    "def perform_anova(data, attribute):\n",
    "    \"\"\"Perform ANOVA test for a given attribute across quality labels.\"\"\"\n",
    "    groups = [data[data[\"quality_label\"] == label][attribute] for label in [\"low\", \"medium\", \"high\"]]\n",
    "    F, p = stats.f_oneway(*groups)\n",
    "    print(f\"ANOVA for {attribute}: F-statistic = {F:.2f}, p-value = {p:.4f}\")\n",
    "\n",
    "perform_anova(wines, \"alcohol\") #perform the one-way ANOVA test based on alcohol levels\n",
    "# perform the one-way ANOVA test based on pH levels\n",
    "# Your code goes here "
   ]
  },
  {
   "cell_type": "markdown",
   "metadata": {},
   "source": [
    "We can clearly see we have a p-value much less than 0.05 in the first test and\n",
    "greater than 0.05 in the second test. This tells us that there is a statistically significant difference in alcohol\n",
    "level means for at least two groups out of the three (rejecting the null hypothesis in favor of the alternative).\n",
    "However, in case of pH level means, we do not reject the null hypothesis and thus we conclude that the pH\n",
    "level means across the three groups are not statistically significantly different.\n"
   ]
  },
  {
   "cell_type": "code",
   "execution_count": null,
   "metadata": {},
   "outputs": [],
   "source": [
    "# We can even visualize these two features and observe the means.\n",
    "f, (ax1, ax2) = plt.subplots(1, 2, figsize=(10, 4))\n",
    "f.suptitle(\"Wine Quality - Alcohol Content/pH\", fontsize=14)\n",
    "f.subplots_adjust(top=0.85, wspace=0.3)\n",
    "\n",
    "# Show boxplot of wine quality classes vs wine alcohol percentage\n",
    "sns.boxplot(x=\"quality_label\", y=\"alcohol\", data=wines, ax=ax1)\n",
    "ax1.set_xlabel(\"Wine Quality Class\", size=12, alpha=0.8)\n",
    "ax1.set_ylabel(\"Wine Alcohol %\", size=12, alpha=0.8)\n",
    "\n",
    "# Show boxplot of wine quality classes vs wine pH.\n",
    "#Your code goes here"
   ]
  },
  {
   "cell_type": "markdown",
   "metadata": {},
   "source": [
    "The boxplots depicted in the Figure above show us stark differences in wine alcohol content distributions\n",
    "based on wine quality as compared to pH levels\n"
   ]
  },
  {
   "cell_type": "markdown",
   "metadata": {},
   "source": [
    "### Univariate Analysis\n",
    "\n",
    "Univariate\n",
    "analysis involves analyzing data such that at any instance of analysis we are only dealing with one variable or\n",
    "feature. No relationships or correlations are analyzed among multiple variables. The simplest way to easily\n",
    "visualize all the variables in your data is to build some histograms.\n"
   ]
  },
  {
   "cell_type": "code",
   "execution_count": null,
   "metadata": {},
   "outputs": [],
   "source": [
    "# visualize distributions of data values for all features of red wines\n",
    "red_wine.hist(\n",
    "    bins=15,\n",
    "    color=\"red\",\n",
    "    edgecolor=\"black\",\n",
    "    linewidth=1.0,\n",
    "    xlabelsize=8,\n",
    "    ylabelsize=8,\n",
    "    grid=False,\n",
    ")\n",
    "plt.tight_layout(rect=(0, 0, 1.2, 1.2))\n",
    "rt = plt.suptitle(\"Red Wine Univariate Plots\", x=0.65, y=1.25, fontsize=14)\n",
    "\n",
    "# visualize distributions of data values for all features of white wines\n",
    "# Your code goes here"
   ]
  },
  {
   "cell_type": "code",
   "execution_count": null,
   "metadata": {},
   "outputs": [],
   "source": [
    "# take residual sugar and plot the distributions across data pertaining to red and white wine samples.\n",
    "fig = plt.figure(figsize=(10, 4))\n",
    "title = fig.suptitle(\"Residual Sugar Content in Wine\", fontsize=14)\n",
    "fig.subplots_adjust(top=0.85, wspace=0.3)\n",
    "\n",
    "ax1 = fig.add_subplot(1, 2, 1)\n",
    "ax1.set_title(\"Red Wine\")\n",
    "ax1.set_xlabel(\"Residual Sugar\")\n",
    "ax1.set_ylabel(\"Frequency\")\n",
    "ax1.set_ylim([0, 2500])\n",
    "ax1.text(\n",
    "    8, 1000, r\"$\\mu$=\" + str(round(red_wine[\"residual sugar\"].mean(), 2)), fontsize=12\n",
    ")\n",
    "r_freq, r_bins, r_patches = ax1.hist(\n",
    "    red_wine[\"residual sugar\"], color=\"red\", bins=15, edgecolor=\"black\", linewidth=1\n",
    ")\n",
    "\n",
    "# plot residual sugar distribution in white wine samples\n",
    "# Your code goes here"
   ]
  },
  {
   "cell_type": "markdown",
   "metadata": {},
   "source": [
    "We can see residual sugar content in white wine\n",
    "samples seems to be more as compared to red wine samples.\n"
   ]
  },
  {
   "cell_type": "code",
   "execution_count": null,
   "metadata": {},
   "outputs": [],
   "source": [
    "# take sulphates and plot the distributions across data pertaining to red and white wine samples.\n",
    "fig = plt.figure(figsize=(10, 4))\n",
    "title = fig.suptitle(\"Sulphates Content in Wine\", fontsize=14)\n",
    "fig.subplots_adjust(top=0.85, wspace=0.3)\n",
    "\n",
    "ax1 = fig.add_subplot(1, 2, 1)\n",
    "ax1.set_title(\"Red Wine\")\n",
    "ax1.set_xlabel(\"Sulphates\")\n",
    "ax1.set_ylabel(\"Frequency\")\n",
    "ax1.set_ylim([0, 1200])\n",
    "ax1.text(1.2, 800, r\"$\\mu$=\" + str(round(red_wine[\"sulphates\"].mean(), 2)), fontsize=12)\n",
    "r_freq, r_bins, r_patches = ax1.hist(\n",
    "    red_wine[\"sulphates\"], color=\"red\", bins=15, edgecolor=\"black\", linewidth=1\n",
    ")\n",
    "\n",
    "ax2 = fig.add_subplot(1, 2, 2)\n",
    "ax2.set_title(\"White Wine\")\n",
    "ax2.set_xlabel(\"Sulphates\")\n",
    "ax2.set_ylabel(\"Frequency\")\n",
    "ax2.set_ylim([0, 1200])\n",
    "ax2.text(\n",
    "    0.8, 800, r\"$\\mu$=\" + str(round(white_wine[\"sulphates\"].mean(), 2)), fontsize=12\n",
    ")\n",
    "w_freq, w_bins, w_patches = ax2.hist(\n",
    "    white_wine[\"sulphates\"], color=\"white\", bins=15, edgecolor=\"black\", linewidth=1\n",
    ")"
   ]
  },
  {
   "cell_type": "markdown",
   "metadata": {},
   "source": [
    "We can see the sulphate content is slightly more in red wine samples\n",
    "as compared to white wine samples.\n"
   ]
  },
  {
   "cell_type": "code",
   "execution_count": null,
   "metadata": {},
   "outputs": [],
   "source": [
    "# take alcohol and plot the distributions across data pertaining to red and white wine samples.\n",
    "fig = plt.figure(figsize=(10, 4))\n",
    "title = fig.suptitle(\"Alcohol Content in Wine\", fontsize=14)\n",
    "fig.subplots_adjust(top=0.85, wspace=0.3)\n",
    "\n",
    "# plot alcohol distribution in red wine samples\n",
    "# Your code goes here\n",
    "\n",
    "\n",
    "# plot alcohol distribution in white wine samples\n",
    "# Your code goes here\n"
   ]
  },
  {
   "cell_type": "markdown",
   "metadata": {},
   "source": [
    "We can see the alcohol content is almost similar in both types on an average. Of\n",
    "course, frequency counts are higher in all cases for white wine because we have more white wine sample\n",
    "records as compared to red wine.\n"
   ]
  },
  {
   "cell_type": "code",
   "execution_count": null,
   "metadata": {},
   "outputs": [],
   "source": [
    "# take quality and plot the distributions across data pertaining to red and white wine samples.\n",
    "fig = plt.figure(figsize=(10, 4))\n",
    "title = fig.suptitle(\"Wine TYpes - Quality\", fontsize=14)\n",
    "fig.subplots_adjust(top=0.85, wspace=0.3)\n",
    "\n",
    "ax1 = fig.add_subplot(1, 2, 1)\n",
    "ax1.set_title(\"Red Wine\")\n",
    "ax1.set_xlabel(\"Quality\")\n",
    "ax1.set_ylabel(\"Frequency\")\n",
    "rw_q = red_wine[\"quality\"].value_counts()\n",
    "rw_q = (list(rw_q.index), list(rw_q.values))\n",
    "ax1.set_ylim([0, 2500])\n",
    "ax1.tick_params(axis=\"both\", which=\"major\", labelsize=8.5)\n",
    "bar1 = ax1.bar(rw_q[0], rw_q[1], color=\"red\", edgecolor=\"black\", linewidth=1)\n",
    "\n",
    "\n",
    "ax2 = fig.add_subplot(1, 2, 2)\n",
    "ax2.set_title(\"White Wine\")\n",
    "ax2.set_xlabel(\"Quality\")\n",
    "ax2.set_ylabel(\"Frequency\")\n",
    "ww_q = white_wine[\"quality\"].value_counts()\n",
    "ww_q = (list(ww_q.index), list(ww_q.values))\n",
    "ax2.set_ylim([0, 2500])\n",
    "ax2.tick_params(axis=\"both\", which=\"major\", labelsize=8.5)\n",
    "bar2 = ax2.bar(ww_q[0], ww_q[1], color=\"white\", edgecolor=\"black\", linewidth=1)"
   ]
  },
  {
   "cell_type": "code",
   "execution_count": null,
   "metadata": {},
   "outputs": [],
   "source": [
    "# take quality_label categorical features and plot the distributions across data pertaining to red and white wine samples.\n",
    "\n",
    "fig = plt.figure(figsize=(10, 4))\n",
    "title = fig.suptitle(\"Wine Type - Quality Label\", fontsize=14)\n",
    "fig.subplots_adjust(top=0.85, wspace=0.3)\n",
    "\n",
    "ax1 = fig.add_subplot(1, 2, 1)\n",
    "ax1.set_title(\"Red Wine\")\n",
    "ax1.set_xlabel(\"Quality Class\")\n",
    "ax1.set_ylabel(\"Frequency\")\n",
    "rw_q = red_wine[\"quality_label\"].value_counts()\n",
    "rw_q = (list(rw_q.index), list(rw_q.values))\n",
    "ax1.set_ylim([0, 3200])\n",
    "bar1 = ax1.bar(\n",
    "    list(range(len(rw_q[0]))),\n",
    "    rw_q[1],\n",
    "    color=\"red\",\n",
    "    edgecolor=\"black\",\n",
    "    linewidth=1,\n",
    "    tick_label=rw_q[0],\n",
    ")\n",
    "\n",
    "ax2 = fig.add_subplot(1, 2, 2)\n",
    "ax2.set_title(\"White Wine\")\n",
    "ax2.set_xlabel(\"Quality Class\")\n",
    "ax2.set_ylabel(\"Frequency\")\n",
    "ww_q = white_wine[\"quality_label\"].value_counts()\n",
    "ww_q = (list(ww_q.index), list(ww_q.values))\n",
    "ax2.set_ylim([0, 3200])\n",
    "bar2 = ax2.bar(\n",
    "    list(range(len(ww_q[0]))),\n",
    "    ww_q[1],\n",
    "    color=\"white\",\n",
    "    edgecolor=\"black\",\n",
    "    linewidth=1,\n",
    "    tick_label=ww_q[0],\n",
    ")"
   ]
  },
  {
   "cell_type": "markdown",
   "metadata": {},
   "source": [
    "It is quite evident that high quality wine samples are far less as compared to low and medium\n",
    "quality wine samples.\n"
   ]
  },
  {
   "cell_type": "markdown",
   "metadata": {},
   "source": [
    "### Multivariate Analysis\n",
    "\n",
    "Analyzing multiple feature variables and their relationships is what multivariate analysis is all about. We\n",
    "would want to see if there are any interesting patterns and relationships among the physicochemical\n",
    "attributes of our wine samples, which might be helpful in our modeling process in the future.\n",
    "\n",
    "One of the best\n",
    "ways to analyze features is to build a pairwise correlation plot depicting the correlation coefficient between\n",
    "each pair of features in the dataset.\n"
   ]
  },
  {
   "cell_type": "code",
   "execution_count": null,
   "metadata": {},
   "outputs": [],
   "source": [
    "# Correlation heatmap\n",
    "plt.figure(figsize=(12, 8))\n",
    "corr = wines.corr()\n",
    "sns.heatmap(corr, annot=True, cmap=\"coolwarm\", fmt=\".2f\", linewidths=0.5)\n",
    "plt.title(\"Wine Attributes Correlation Heatmap\", fontsize=14)\n",
    "plt.show()"
   ]
  },
  {
   "cell_type": "markdown",
   "metadata": {},
   "source": [
    "We can see a strong negative\n",
    "correlation between density and alcohol and a strong positive correlation between total and free sulfur\n",
    "dioxide, which is expected.\n"
   ]
  },
  {
   "cell_type": "code",
   "execution_count": null,
   "metadata": {},
   "outputs": [],
   "source": [
    "# visualize patterns and relationships among multiple variables\n",
    "# using pairwise plots and use different hues for the wine types\n",
    "# essentially plotting three variables at a time.\n",
    "cols = [\"wine_type\", \"quality\", \"sulphates\", \"volatile acidity\"]\n",
    "pp = sns.pairplot(\n",
    "    wines[cols],\n",
    "    hue=\"wine_type\",\n",
    "    height=1.8,\n",
    "    aspect=1.8,\n",
    "    palette={\"red\": \"#FF9999\", \"white\": \"#FFE888\"},\n",
    "    plot_kws=dict(edgecolor=\"black\", linewidth=0.5),\n",
    ")\n",
    "fig = pp.fig\n",
    "fig.subplots_adjust(top=0.93, wspace=0.3)\n",
    "t = fig.suptitle(\"Wine Attributes Pairwise Plots\", fontsize=14)"
   ]
  },
  {
   "cell_type": "markdown",
   "metadata": {},
   "source": [
    "We can notice several interesting patterns, which are in alignment with\n",
    "some insights we obtained earlier.\n",
    "\n",
    "- Presence of higher sulphate levels in red wines as compared to white wines\n",
    "- Lower sulphate levels in wines with high quality ratings\n",
    "- Lower levels of volatile acids in wines with high quality ratings\n",
    "- Presence of higher volatile acid levels in red wines as compared to white wines\n",
    "\n",
    "To observe relationships among features with a more microscopic view, joint plots are excellent visualization\n",
    "tools specifically for multivariate visualizations.\n"
   ]
  },
  {
   "cell_type": "code",
   "execution_count": null,
   "metadata": {},
   "outputs": [],
   "source": [
    "# plot relationship between sulphates, and quality ratings for red wines\n",
    "rj = sns.jointplot(\n",
    "    x=\"quality\",\n",
    "    y=\"sulphates\",\n",
    "    data=red_wine,\n",
    "    kind=\"reg\",\n",
    "    ylim=(0, 2),\n",
    "    color=\"red\",\n",
    "    space=0,\n",
    "    height=4.5,\n",
    "    ratio=4,\n",
    ")\n",
    "rj.ax_joint.set_xticks(list(range(3, 9)))\n",
    "fig = rj.fig\n",
    "fig.subplots_adjust(top=0.9)\n",
    "t = fig.suptitle(\"Red Wine Sulphates - Quality\", fontsize=12)\n",
    "\n",
    "# plot relationship between sulphates, and quality ratings for white wines\n",
    "# Your code goes here"
   ]
  },
  {
   "cell_type": "markdown",
   "metadata": {},
   "source": [
    "The seaborn framework provides facet grids that\n",
    "help us visualize higher number of variables in two-dimensional plots.\n"
   ]
  },
  {
   "cell_type": "code",
   "execution_count": null,
   "metadata": {},
   "outputs": [],
   "source": [
    "# visualize relationships between wine type, quality ratings, volatile acidity, and alcohol volume levels.\n",
    "g = sns.FacetGrid(\n",
    "    wines,\n",
    "    col=\"wine_type\",\n",
    "    hue=\"quality_label\",\n",
    "    col_order=[\"red\", \"white\"],\n",
    "    hue_order=[\"low\", \"medium\", \"high\"],\n",
    "    aspect=1.2,\n",
    "    height=3.5,\n",
    "    palette=sns.light_palette(\"navy\", 3),\n",
    ")\n",
    "g.map(\n",
    "    plt.scatter,\n",
    "    \"volatile acidity\",\n",
    "    \"alcohol\",\n",
    "    alpha=0.9,\n",
    "    edgecolor=\"white\",\n",
    "    linewidth=0.5,\n",
    ")\n",
    "fig = g.fig\n",
    "fig.subplots_adjust(top=0.8, wspace=0.3)\n",
    "fig.suptitle(\"Wine Type - Alcohol - Quality - Acidity\", fontsize=14)\n",
    "l = g.add_legend(title=\"Wine Quality Class\")"
   ]
  },
  {
   "cell_type": "markdown",
   "metadata": {},
   "source": [
    "Not only are we able to successfully visualize\n",
    "four variables, but also we can see meaningful relationships among them. Higher quality wine samples\n",
    "(depicted by darker shades) have lower levels of volatile acidity and higher levels of alcohol content as\n",
    "compared to wine samples with medium and low ratings. Besides this, we can also see that volatile acidity\n",
    "levels are slightly lower in white wine samples as compared to red wine samples.\n"
   ]
  },
  {
   "cell_type": "code",
   "execution_count": null,
   "metadata": {},
   "outputs": [],
   "source": [
    "# visualize relationships between wine type, quality ratings, volatile acidity, and total sulfur dioxide.\n",
    "# Your code goes here"
   ]
  },
  {
   "cell_type": "markdown",
   "metadata": {},
   "source": [
    "We can see _volatile acidity_ as well as _total sulfur dioxide_ is\n",
    "considerably lower in high quality wine samples. Also, total sulfur dioxide is considerable more in white\n",
    "wine samples as compared to red wine samples. However, volatile acidity levels are slightly lower in white\n",
    "wine samples as compared to red wine samples we also observed in the previous plot.\n",
    "\n",
    "A nice way to visualize numerical features segmented by groups (categorical variables) is to use box\n",
    "plots. Let’s try to visualize the relationship between\n",
    "wine alcohol levels grouped by wine quality ratings.\n"
   ]
  },
  {
   "cell_type": "code",
   "execution_count": null,
   "metadata": {},
   "outputs": [],
   "source": [
    "# Visualizing relationships between wine types: quality and alcohol content\n",
    "f, (ax1, ax2) = plt.subplots(1, 2, figsize=(14, 4))\n",
    "f.suptitle(\"Wine Type - Quality - Alcohol Content\", fontsize=14)\n",
    "\n",
    "# Show relationships between wine alcohol content and wine quality\n",
    "sns.boxplot(\n",
    "    x=\"quality\",\n",
    "    y=\"alcohol\",\n",
    "    hue=\"wine_type\",\n",
    "    data=wines,\n",
    "    palette={\"red\": \"#FF9999\", \"white\": \"white\"},\n",
    "    ax=ax1,\n",
    ")\n",
    "ax1.set_xlabel(\"Wine Quality\", size=12, alpha=0.8)\n",
    "ax1.set_ylabel(\"Wine Alcohol %\", size=12, alpha=0.8)\n",
    "\n",
    "# Show relationships between wine alcohol content and wine quality classes (labels)\n",
    "# Your code goes here\n",
    "\n",
    "l = plt.legend(loc=\"best\", title=\"Wine Type\")"
   ]
  },
  {
   "cell_type": "markdown",
   "metadata": {},
   "source": [
    "Each box plot in the figure depicts the distribution of alcohol level\n",
    "for a particular wine quality rating separated by wine types. The box itself depicts the inter-quartile range\n",
    "and the line inside depicts the median value of alcohol. Whiskers indicate the minimum and maximum\n",
    "value with outliers often depicted by individual points.\n",
    "\n",
    "We can clearly observe the wine alcohol by volume\n",
    "distribution has an increasing trend based on higher quality rated wine samples.\n",
    "\n",
    "Similarly we can also using\n",
    "violin plots to visualize distributions of numeric features over categorical feature\n"
   ]
  },
  {
   "cell_type": "code",
   "execution_count": null,
   "metadata": {},
   "outputs": [],
   "source": [
    "# Visualizing relationships between wine types: quality and acidity\n",
    "f, (ax1, ax2) = plt.subplots(1, 2, figsize=(14, 4))\n",
    "f.suptitle(\"Wine Type - Quality - Acidity\", fontsize=14)\n",
    "\n",
    "# Show relationships between wine fixed acidity and wine quality\n",
    "sns.violinplot(\n",
    "    x=\"quality\",\n",
    "    y=\"volatile acidity\",\n",
    "    hue=\"wine_type\",\n",
    "    data=wines,\n",
    "    split=True,\n",
    "    inner=\"quart\",\n",
    "    linewidth=1.3,\n",
    "    palette={\"red\": \"#FF9999\", \"white\": \"white\"},\n",
    "    ax=ax1,\n",
    ")\n",
    "ax1.set_xlabel(\"Wine Quality\", size=12, alpha=0.8)\n",
    "ax1.set_ylabel(\"Wine Fixed Acidity\", size=12, alpha=0.8)\n",
    "\n",
    "# Show relationships between wine fixed acidity and wine quality classes (labels)\n",
    "# Your code goes here\n",
    "\n",
    "l = plt.legend(loc=\"upper right\", title=\"Wine Type\")"
   ]
  },
  {
   "cell_type": "markdown",
   "metadata": {},
   "source": [
    "Each violin plot typically depicts the inter-quartile range with the median which is shown\n",
    "with dotted lines in this figure. We have built a split-violin plot in this case depicting both types of\n",
    "wine.\n",
    "\n",
    "It is quite evident that red wine samples have higher acidity as compared to its white wine counterparts.\n",
    "Also we can see an overall decrease in acidity with higher quality wine for red wine samples but not so much\n",
    "for white wine samples.\n",
    "\n",
    "These code snippets and examples should give you some good frameworks and blueprints to perform effective exploratory data analysis on your datasets in the future.\n"
   ]
  },
  {
   "cell_type": "markdown",
   "metadata": {},
   "source": [
    "## Conclusion\n",
    "\n",
    "Through this analysis, we learned:\n",
    "\n",
    "- How to effectively analyze relationships between wine properties and quality\n",
    "- Statistical techniques for comparing wine attribute distributions\n",
    "- Methods for visualizing multi-dimensional wine data relationships\n",
    "- Patterns distinguishing high vs low quality wines\n",
    "- Differences between red and white wine characteristics\n",
    "\n",
    "## Clean up\n",
    "\n",
    "Remember to shut down your Jupyter Notebook environment and delete any unnecessary files or resources once you've completed the tutorial.\n"
   ]
  }
 ],
 "metadata": {
  "kernelspec": {
   "display_name": "Python (NIGMS Sandbox UD, Submodule 4)",
   "language": "python",
   "name": "nigms_sandbox_ud__submodule_4"
  },
  "language_info": {
   "codemirror_mode": {
    "name": "ipython",
    "version": 3
   },
   "file_extension": ".py",
   "mimetype": "text/x-python",
   "name": "python",
   "nbconvert_exporter": "python",
   "pygments_lexer": "ipython3",
   "version": "3.9.21"
  }
 },
 "nbformat": 4,
 "nbformat_minor": 4
}
