{
 "cells": [
  {
   "cell_type": "markdown",
   "metadata": {},
   "source": [
    "# Predict Drug Activity for Androgen Receptor\n",
    "\n",
    "Adapted from Tomasz K. Piskorz. [Predict Drug activity for androgen receptor](https://github.com/tkpiskorz/cheminformatics_notebooks/blob/master/AR/Androgen%20receptor.ipynb).\n",
    "\n",
    "## Overview\n",
    "\n",
    "This tutorial demonstrates how to use machine learning algorithms to predict drug activity for androgen receptor using Quantitative Structure–Property Relationship (QSPR) descriptors. The analysis uses the Tox21 dataset and molecular descriptors calculated using the `mordred` package to build predictive models.\n",
    "\n",
    "This tutorial uses a couple of packages we have not yet seen.  You can learn more about them here:\n",
    "\n",
    "- RDKit: a Python [Open-Source Cheminformatics Software](https://www.rdkit.org/).\n",
    "- mordred: a python [molecular descriptor calculator](https://github.com/mordred-descriptor/mordred) package.\n",
    "\n",
    "## Learning Objectives\n",
    "\n",
    "- Learn how to work with chemical structure data using RDKit and `mordred`\n",
    "- Understand how to calculate and use molecular descriptors for drug activity prediction \n",
    "- Build and evaluate machine learning models for drug activity classification\n",
    "- Interpret model performance using ROC AUC scores and accuracy metrics\n",
    "\n",
    "### Tasks to complete\n",
    "\n",
    "Load and preprocess Tox21 dataset\n",
    "Calculate molecular descriptors using mordred\n",
    "Train and evaluate Random Forest model\n",
    "Train and evaluate Neural Network model\n",
    "Compare model performances\n",
    "\n",
    "## Prerequisites\n",
    "\n",
    "- A working Python environment and familiarity with Python\n",
    "- Basic understanding of machine learning concepts\n",
    "- Familiarity with pandas and numpy libraries\n",
    "- Knowledge of basic statistical concepts"
   ]
  },
  {
   "cell_type": "markdown",
   "metadata": {},
   "source": [
    "## Get Started\n",
    "\n",
    "### Set up conda environment\n",
    "\n",
    "Ensure that you have created then conda environment using the `environment.yml` file included in this repository.  E.g.,\n",
    "\n",
    "```\n",
    "# Create conda environment\n",
    "conda env create -f conda_env_submodule_4.yml\n",
    "\n",
    "# Register the kernel\n",
    "python -m ipykernel install --user \\\n",
    "    --name=nigms_sandbox_ud__submodule_4 \\\n",
    "    --display-name \"Python (NIGMS Sandbox UD, Submodule 4)\"\n",
    "```\n",
    "\n",
    "Then, when starting the notebook, select the  `\"Python (nigms_sandbox_ud)\"` kernel from the list.\n",
    "\n",
    "Note that you may need to restart Jupyter Lab for these changes to take effect."
   ]
  },
  {
   "cell_type": "markdown",
   "metadata": {},
   "source": [
    "## Import necessary libraries\n",
    "\n",
    "*Note: You may get a deprecation warning regarding `IPython.core.display`.  This shouldn't affect the results of the notebook.)"
   ]
  },
  {
   "cell_type": "code",
   "execution_count": null,
   "metadata": {},
   "outputs": [],
   "source": [
    "import numpy as np\n",
    "import pandas as pd\n",
    "from IPython.core.display import display\n",
    "from mordred import Calculator, descriptors\n",
    "from mordred.error import Missing\n",
    "from rdkit import Chem\n",
    "\n",
    "# Importing pandasTools enables several features that allow for using\n",
    "# RDKit molecules as columns of a Pandas dataframe.\n",
    "from rdkit.Chem import PandasTools\n",
    "from rdkit.Chem.Draw import IPythonConsole\n",
    "from sklearn.ensemble import RandomForestClassifier\n",
    "from sklearn.metrics import roc_auc_score\n",
    "from sklearn.model_selection import train_test_split\n",
    "from sklearn.neural_network import MLPClassifier"
   ]
  },
  {
   "cell_type": "markdown",
   "metadata": {},
   "source": [
    "## *Toxicology in the 21st Century* (Tox21) Dataset\n",
    "\n",
    "The *Toxicology in the 21st Century* (Tox21) initiative created a public database measuring toxicity of compounds, which has been used in the 2014 Tox21 Data Challenge. This dataset contains qualitative toxicity measurements for 8k compounds on 12 different targets, including nuclear receptors and stress response pathways.\n",
    "\n",
    "The data file contains a csv table, in which columns below are used:\n",
    "\n",
    "- \"smiles\" - SMILES representation of the molecular structure\n",
    "- \"NR-XXX\" - Nuclear receptor signaling bioassays results\n",
    "  - [AR](https://pubchem.ncbi.nlm.nih.gov/bioassay/743040): qHTS assay to identify small molecule agonists of the androgen receptor (AR) signaling pathway using the MDA cell line.\n",
    "  - [AhR](https://pubchem.ncbi.nlm.nih.gov/bioassay/743122): qHTS assay to identify small molecule that activate the aryl hydrocarbon receptor (AhR) signaling pathway.\n",
    "  - [AR-LBD](https://pubchem.ncbi.nlm.nih.gov/bioassay/74353): qHTS assay to identify small molecule agonists of the androgen receptor (AR) signaling pathway.\n",
    " - [ER](https://pubchem.ncbi.nlm.nih.gov/bioassay/743079): qHTS assay to identify small molecule agonists of the estrogen receptor alpha (ER-alpha) signaling pathway using the BG1 cell line.\n",
    "  - [ER-LBD](https://pubchem.ncbi.nlm.nih.gov/bioassay/743077): qHTS assay to identify small molecule agonists of the estrogen receptor alpha (ER-alpha) signaling pathway.\n",
    "  - [aromatase](https://pubchem.ncbi.nlm.nih.gov/bioassay/743139): qHTS assay to identify aromatase inhibitors.\n",
    "  - [PPAR-gamma](https://pubchem.ncbi.nlm.nih.gov/bioassay/743140): qHTS assay to identify small molecule agonists of the peroxisome proliferator-activated receptor gamma (PPARg) signaling pathway.\n",
    "\n",
    "- \"SR-XXX\" - Stress response bioassays results\n",
    "\t- [ARE](https://pubchem.ncbi.nlm.nih.gov/bioassay/743219): qHTS assay for small molecule agonists of the antioxidant response element (ARE) signaling pathway.\n",
    "\t- [ATAD5](https://pubchem.ncbi.nlm.nih.gov/bioassay/720516): qHTS assay for small molecules that induce genotoxicity in human embryonic kidney cells expressing luciferase-tagged ATAD5.\n",
    "\t- [HSE](https://pubchem.ncbi.nlm.nih.gov/bioassay/743228): qHTS assay for small molecule activators of the heat shock response signaling pathway. \n",
    "\t- [MMP](https://pubchem.ncbi.nlm.nih.gov/bioassay/720637): qHTS assay for small molecule disruptors of the mitochondrial membrane potential.\n",
    "\t- [p53](https://pubchem.ncbi.nlm.nih.gov/bioassay/720552): qHTS assay for small molecule agonists of the p53 signaling pathway.\n",
    "\n",
    "Please refer to the links at https://tripod.nih.gov/tox21/challenge/data.jsp for details.\n",
    "\n",
    "### References\n",
    "\n",
    "Tox21 Challenge. https://tripod.nih.gov/tox21/challenge/"
   ]
  },
  {
   "cell_type": "markdown",
   "metadata": {},
   "source": [
    "### Load Tox21 dataset"
   ]
  },
  {
   "cell_type": "code",
   "execution_count": null,
   "metadata": {},
   "outputs": [],
   "source": [
    "df = pd.read_csv(\"../../Data/tox21.csv\")"
   ]
  },
  {
   "cell_type": "code",
   "execution_count": null,
   "metadata": {},
   "outputs": [],
   "source": [
    "# Show top 10 rows\n",
    "df.head(10)"
   ]
  },
  {
   "cell_type": "code",
   "execution_count": null,
   "metadata": {},
   "outputs": [],
   "source": [
    "# Show descriptive summary statistics\n",
    "df.describe()"
   ]
  },
  {
   "cell_type": "code",
   "execution_count": null,
   "metadata": {},
   "outputs": [],
   "source": [
    "# Get column names\n",
    "list(df.columns)"
   ]
  },
  {
   "cell_type": "code",
   "execution_count": null,
   "metadata": {},
   "outputs": [],
   "source": [
    "# Get only 'NR-AR','smiles' columns\n",
    "df = df[[\"NR-AR\", \"smiles\"]]\n",
    "df.head()"
   ]
  },
  {
   "cell_type": "code",
   "execution_count": null,
   "metadata": {},
   "outputs": [],
   "source": [
    "df.shape"
   ]
  },
  {
   "cell_type": "code",
   "execution_count": null,
   "metadata": {},
   "outputs": [],
   "source": [
    "# Converts the molecules contains in \"smilesCol\" to RDKit molecules and appends them to the\n",
    "# dataframe \"frame\" using the specified column name.\n",
    "# If desired, a fingerprint can be computed and stored with the molecule objects to accelerate\n",
    "# substructure matching\n",
    "PandasTools.AddMoleculeColumnToFrame(df, smilesCol=\"smiles\")\n",
    "df.head()"
   ]
  },
  {
   "cell_type": "code",
   "execution_count": null,
   "metadata": {},
   "outputs": [],
   "source": [
    "# Remove rows with missing values (NaN)\n",
    "df = df[~df[\"ROMol\"].isnull()]\n",
    "df = df[~df[\"NR-AR\"].isnull()]\n",
    "df.shape"
   ]
  },
  {
   "cell_type": "markdown",
   "metadata": {},
   "source": [
    "We can see 566 rows with missing values (NaN) are removed."
   ]
  },
  {
   "cell_type": "code",
   "execution_count": null,
   "metadata": {},
   "outputs": [],
   "source": [
    "# Draw grid image of molecules in pandas DataFrame for 'NR-AR' of 1\n",
    "display(\n",
    "    PandasTools.FrameToGridImage(\n",
    "        df[df[\"NR-AR\"] == 1].head(5), legendsCol=\"NR-AR\", molsPerRow=5\n",
    "    )\n",
    ")"
   ]
  },
  {
   "cell_type": "code",
   "execution_count": null,
   "metadata": {},
   "outputs": [],
   "source": [
    "# Draw grid image of mols in pandas DataFrame for 'NR-AR' of 0\n",
    "display(\n",
    "    PandasTools.FrameToGridImage(\n",
    "        df[df[\"NR-AR\"] == 0].head(5), legendsCol=\"NR-AR\", molsPerRow=5\n",
    "    )\n",
    ")"
   ]
  },
  {
   "cell_type": "code",
   "execution_count": null,
   "metadata": {},
   "outputs": [],
   "source": [
    "# Count number of distinct elements in 'NR-AR' column\n",
    "df[\"NR-AR\"].unique()"
   ]
  },
  {
   "cell_type": "code",
   "execution_count": null,
   "metadata": {},
   "outputs": [],
   "source": [
    "# Count the total number of elements in 'NR-AR' column\n",
    "df[\"NR-AR\"].count()"
   ]
  },
  {
   "cell_type": "code",
   "execution_count": null,
   "metadata": {},
   "outputs": [],
   "source": [
    "# Sum of the 'NR-AR' column\n",
    "df[\"NR-AR\"].sum()"
   ]
  },
  {
   "cell_type": "markdown",
   "metadata": {},
   "source": [
    "## What is a molecular descriptor?\n",
    "\n",
    "Molecular descriptors can be defined as mathematical representations of molecules’ properties that are generated by algorithms. The numerical values of molecular descriptors are used to quantitatively describe the physical and chemical information of the molecules. They can be used to predict the\n",
    "activity, toxicity, and other properties resulting from the\n",
    "chemical structures of compounds."
   ]
  },
  {
   "cell_type": "code",
   "execution_count": null,
   "metadata": {},
   "outputs": [],
   "source": [
    "# create descriptor calculator with all descriptors\n",
    "calc = Calculator(descriptors, ignore_3D=True)"
   ]
  },
  {
   "cell_type": "code",
   "execution_count": null,
   "metadata": {},
   "outputs": [],
   "source": [
    "# Show the first molecule\n",
    "mol = df[\"ROMol\"][0]\n",
    "mol"
   ]
  },
  {
   "cell_type": "markdown",
   "metadata": {},
   "source": [
    "(The following step may take a few minutes to complete.)"
   ]
  },
  {
   "cell_type": "code",
   "execution_count": null,
   "metadata": {},
   "outputs": [],
   "source": [
    "# pandas method calculates multiple molecules, return pandas DataFrame\n",
    "df2 = calc.pandas(df[\"ROMol\"])"
   ]
  },
  {
   "cell_type": "code",
   "execution_count": null,
   "metadata": {},
   "outputs": [],
   "source": [
    "df2.head()"
   ]
  },
  {
   "cell_type": "code",
   "execution_count": null,
   "metadata": {},
   "outputs": [],
   "source": [
    "df2.shape"
   ]
  },
  {
   "cell_type": "code",
   "execution_count": null,
   "metadata": {},
   "outputs": [],
   "source": [
    "# Find columns with known errored value\n",
    "\n",
    "missing = []\n",
    "for column in df2.columns:\n",
    "    if (df2[column].apply(lambda x: type(x) == Missing)).any():\n",
    "        missing.append(column)"
   ]
  },
  {
   "cell_type": "code",
   "execution_count": null,
   "metadata": {},
   "outputs": [],
   "source": [
    "# Drop columns with known errored value\n",
    "df_new = df2.drop(missing, axis=1)"
   ]
  },
  {
   "cell_type": "code",
   "execution_count": null,
   "metadata": {},
   "outputs": [],
   "source": [
    "df_new.head()"
   ]
  },
  {
   "cell_type": "code",
   "execution_count": null,
   "metadata": {},
   "outputs": [],
   "source": [
    "df_new.shape"
   ]
  },
  {
   "cell_type": "code",
   "execution_count": null,
   "metadata": {},
   "outputs": [],
   "source": [
    "# Target\n",
    "y = df[\"NR-AR\"]\n",
    "\n",
    "# Molecular descriptors\n",
    "X = df_new"
   ]
  },
  {
   "cell_type": "code",
   "execution_count": null,
   "metadata": {},
   "outputs": [],
   "source": [
    "# Split data into 75% training and 25% test sets\n",
    "X_train, X_test, y_train, y_test = train_test_split(X, y)"
   ]
  },
  {
   "cell_type": "markdown",
   "metadata": {},
   "source": [
    "## Random forest\n",
    "\n",
    "A random forest is a meta estimator that fits a number of decision tree\n",
    "classifiers on various sub-samples of the dataset and uses averaging to\n",
    "improve the predictive accuracy and control over-fitting.\n"
   ]
  },
  {
   "cell_type": "code",
   "execution_count": null,
   "metadata": {},
   "outputs": [],
   "source": [
    "# Create a RandomForestClassifer with 100 trees in the forest.\n",
    "clf = RandomForestClassifier(n_estimators=100).fit(X_train, y_train)"
   ]
  },
  {
   "cell_type": "markdown",
   "metadata": {},
   "source": [
    "### Receiver Operating Characteristic Curve (ROC AUC)\n",
    "\n",
    "Compute Area Under the Receiver Operating Characteristic Curve (ROC AUC) from predicted class probabilities\n",
    "\n",
    "The predicted class probabilities of an input sample are computed as\n",
    "the mean predicted class probabilities of the trees in the forest.\n",
    "\n",
    "The class probability of a single tree is the fraction of samples of\n",
    "the same class in a leaf.\n"
   ]
  },
  {
   "cell_type": "code",
   "execution_count": null,
   "metadata": {},
   "outputs": [],
   "source": [
    "roc_auc_score(y_test, clf.predict_proba(X_test)[:, 1])"
   ]
  },
  {
   "cell_type": "code",
   "execution_count": null,
   "metadata": {},
   "outputs": [],
   "source": [
    "# Compute the mean accuracy of training data\n",
    "clf.score(X_train, y_train)"
   ]
  },
  {
   "cell_type": "code",
   "execution_count": null,
   "metadata": {},
   "outputs": [],
   "source": [
    "# Compute the mean accuracy of testing data\n",
    "clf.score(X_test, y_test)"
   ]
  },
  {
   "cell_type": "markdown",
   "metadata": {},
   "source": [
    "## Multi-layer Perceptron classifier\n",
    "\n",
    "This model optimizes the log-loss function using LBFGS or stochastic gradient descent."
   ]
  },
  {
   "cell_type": "code",
   "execution_count": null,
   "metadata": {},
   "outputs": [],
   "source": [
    "print(X_train)\n",
    "\n",
    "print(X_train.dropna())"
   ]
  },
  {
   "cell_type": "markdown",
   "metadata": {},
   "source": [
    "(The following cell may take a few minutes to complete.)"
   ]
  },
  {
   "cell_type": "code",
   "execution_count": null,
   "metadata": {},
   "outputs": [],
   "source": [
    "# Create a Multi-layer Perceptron classifier with 6 hidden layers with corresponding number of neurons of\n",
    "# 1000,500,250,100,50,20\n",
    "clf = MLPClassifier(hidden_layer_sizes=[1000, 500, 250, 100, 50, 20]).fit(\n",
    "    X_train, y_train\n",
    ")"
   ]
  },
  {
   "cell_type": "markdown",
   "metadata": {},
   "source": [
    "### Receiver Operating Characteristic Curve (ROC AUC)\n",
    "\n",
    "Compute Area Under the Receiver Operating Characteristic Curve (ROC AUC) from predicted class probabilities."
   ]
  },
  {
   "cell_type": "code",
   "execution_count": null,
   "metadata": {},
   "outputs": [],
   "source": [
    "roc_auc_score(y_test, clf.predict_proba(X_test)[:, 1])"
   ]
  },
  {
   "cell_type": "code",
   "execution_count": null,
   "metadata": {},
   "outputs": [],
   "source": [
    "# Compute the mean accuracy of testing data\n",
    "clf.score(X_train, y_train)"
   ]
  },
  {
   "cell_type": "code",
   "execution_count": null,
   "metadata": {},
   "outputs": [],
   "source": [
    "# Compute the mean accuracy of testing data\n",
    "clf.score(X_test, y_test)"
   ]
  },
  {
   "cell_type": "markdown",
   "metadata": {},
   "source": [
    "## Conclusion\n",
    "\n",
    "This tutorial demonstrated how to:\n",
    "\n",
    "- Work with chemical structure data using RDKit\n",
    "- Calculate molecular descriptors using `mordred`\n",
    "- Build and evaluate machine learning models for predicting drug activity\n",
    "- Use different model architectures (Random Forest and Neural Networks) for classification tasks\n",
    "- Assess model performance using ROC AUC scores and accuracy metrics\n",
    "\n",
    "## Clean up\n",
    "\n",
    "Remember to shut down your Jupyter Notebook environment and delete any unnecessary files or resources once you've completed the tutorial.\n"
   ]
  }
 ],
 "metadata": {},
 "nbformat": 4,
 "nbformat_minor": 4
}
