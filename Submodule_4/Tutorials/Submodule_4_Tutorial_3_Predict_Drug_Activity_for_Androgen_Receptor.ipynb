{
 "cells": [
  {
   "cell_type": "markdown",
   "metadata": {},
   "source": [
    "# Predict Drug Activity for Androgen Receptor\n",
    "\n",
    "Adapted from Tomasz K. Piskorz. [Predict Drug activity for androgen receptor](https://github.com/tkpiskorz/cheminformatics_notebooks/blob/master/AR/Androgen%20receptor.ipynb).\n",
    "\n",
    "## Overview\n",
    "\n",
    "This tutorial demonstrates how to use machine learning algorithms to predict drug activity for androgen receptor using Quantitative Structure–Property Relationship (QSPR) descriptors. The analysis uses the Tox21 dataset and molecular descriptors calculated using the `mordred` package to build predictive models.\n",
    "\n",
    "## Learning Objectives\n",
    "\n",
    "- Learn how to work with chemical structure data using RDKit and `mordred`\n",
    "- Understand how to calculate and use molecular descriptors for drug activity prediction \n",
    "- Build and evaluate machine learning models for drug activity classification\n",
    "- Interpret model performance using ROC AUC scores and accuracy metrics\n",
    "\n",
    "### Tasks to complete\n",
    "\n",
    "Load and preprocess Tox21 dataset\n",
    "Calculate molecular descriptors using mordred\n",
    "Train and evaluate Random Forest model\n",
    "Train and evaluate Neural Network model\n",
    "Compare model performances\n",
    "\n",
    "## Prerequisites\n",
    "\n",
    "- A working Python environment and familiarity with Python\n",
    "- Basic understanding of machine learning concepts\n",
    "- Familiarity with pandas and numpy libraries\n",
    "- Knowledge of basic statistical concepts"
   ]
  },
  {
   "cell_type": "markdown",
   "metadata": {},
   "source": [
    "## Get Started\n",
    "\n",
    "To start, we install required packages and import the necessary data and libraries."
   ]
  },
  {
   "cell_type": "markdown",
   "metadata": {},
   "source": [
    "### Install required packages\n",
    "\n",
    "This tutorial uses a couple of packages we have not yet seen.  You can learn more about them here:\n",
    "\n",
    "- RDKit: a Python [Open-Source Cheminformatics Software](https://www.rdkit.org/).\n",
    "- mordred: a python [molecular descriptor calculator](https://github.com/mordred-descriptor/mordred) package."
   ]
  },
  {
   "cell_type": "code",
   "execution_count": 1,
   "metadata": {},
   "outputs": [],
   "source": [
    "# %pip install mordred numpy rdkit pandas scikit-learn"
   ]
  },
  {
   "cell_type": "markdown",
   "metadata": {},
   "source": [
    "## Import necessary libraries"
   ]
  },
  {
   "cell_type": "code",
   "execution_count": 2,
   "metadata": {},
   "outputs": [
    {
     "name": "stderr",
     "output_type": "stream",
     "text": [
      "/tmp/ipykernel_44844/1573837776.py:3: DeprecationWarning: Importing display from IPython.core.display is deprecated since IPython 7.14, please import from IPython display\n",
      "  from IPython.core.display import display\n"
     ]
    }
   ],
   "source": [
    "import numpy as np\n",
    "import pandas as pd\n",
    "from IPython.core.display import display\n",
    "from mordred import Calculator, descriptors\n",
    "from mordred.error import Missing\n",
    "from rdkit import Chem\n",
    "\n",
    "# Importing pandasTools enables several features that allow for using\n",
    "# RDKit molecules as columns of a Pandas dataframe.\n",
    "from rdkit.Chem import PandasTools\n",
    "from rdkit.Chem.Draw import IPythonConsole\n",
    "from sklearn.ensemble import RandomForestClassifier\n",
    "from sklearn.metrics import roc_auc_score\n",
    "from sklearn.model_selection import train_test_split\n",
    "from sklearn.neural_network import MLPClassifier"
   ]
  },
  {
   "cell_type": "markdown",
   "metadata": {},
   "source": [
    "## *Toxicology in the 21st Century* (Tox21) Dataset\n",
    "\n",
    "The *Toxicology in the 21st Century* (Tox21) initiative created a public database measuring toxicity of compounds, which has been used in the 2014 Tox21 Data Challenge. This dataset contains qualitative toxicity measurements for 8k compounds on 12 different targets, including nuclear receptors and stress response pathways.\n",
    "\n",
    "The data file contains a csv table, in which columns below are used:\n",
    "\n",
    "- \"smiles\" - SMILES representation of the molecular structure\n",
    "- \"NR-XXX\" - Nuclear receptor signaling bioassays results\n",
    "  - [AR](https://pubchem.ncbi.nlm.nih.gov/bioassay/743040): qHTS assay to identify small molecule agonists of the androgen receptor (AR) signaling pathway using the MDA cell line.\n",
    "  - [AhR](https://pubchem.ncbi.nlm.nih.gov/bioassay/743122): qHTS assay to identify small molecule that activate the aryl hydrocarbon receptor (AhR) signaling pathway.\n",
    "  - [AR-LBD](https://pubchem.ncbi.nlm.nih.gov/bioassay/74353): qHTS assay to identify small molecule agonists of the androgen receptor (AR) signaling pathway.\n",
    " - [ER](https://pubchem.ncbi.nlm.nih.gov/bioassay/743079): qHTS assay to identify small molecule agonists of the estrogen receptor alpha (ER-alpha) signaling pathway using the BG1 cell line.\n",
    "  - [ER-LBD](https://pubchem.ncbi.nlm.nih.gov/bioassay/743077): qHTS assay to identify small molecule agonists of the estrogen receptor alpha (ER-alpha) signaling pathway.\n",
    "  - [aromatase](https://pubchem.ncbi.nlm.nih.gov/bioassay/743139): qHTS assay to identify aromatase inhibitors.\n",
    "  - [PPAR-gamma](https://pubchem.ncbi.nlm.nih.gov/bioassay/743140): qHTS assay to identify small molecule agonists of the peroxisome proliferator-activated receptor gamma (PPARg) signaling pathway.\n",
    "\n",
    "- \"SR-XXX\" - Stress response bioassays results\n",
    "\t- [ARE](https://pubchem.ncbi.nlm.nih.gov/bioassay/743219): qHTS assay for small molecule agonists of the antioxidant response element (ARE) signaling pathway.\n",
    "\t- [ATAD5](https://pubchem.ncbi.nlm.nih.gov/bioassay/720516): qHTS assay for small molecules that induce genotoxicity in human embryonic kidney cells expressing luciferase-tagged ATAD5.\n",
    "\t- [HSE](https://pubchem.ncbi.nlm.nih.gov/bioassay/743228): qHTS assay for small molecule activators of the heat shock response signaling pathway. \n",
    "\t- [MMP](https://pubchem.ncbi.nlm.nih.gov/bioassay/720637): qHTS assay for small molecule disruptors of the mitochondrial membrane potential.\n",
    "\t- [p53](https://pubchem.ncbi.nlm.nih.gov/bioassay/720552): qHTS assay for small molecule agonists of the p53 signaling pathway.\n",
    "\n",
    "Please refer to the links at https://tripod.nih.gov/tox21/challenge/data.jsp for details.\n",
    "\n",
    "### References\n",
    "\n",
    "Tox21 Challenge. https://tripod.nih.gov/tox21/challenge/"
   ]
  },
  {
   "cell_type": "markdown",
   "metadata": {},
   "source": [
    "### Load Tox21 dataset"
   ]
  },
  {
   "cell_type": "code",
   "execution_count": 3,
   "metadata": {},
   "outputs": [],
   "source": [
    "df = pd.read_csv(\"../../Data/tox21.csv\")"
   ]
  },
  {
   "cell_type": "code",
   "execution_count": 4,
   "metadata": {},
   "outputs": [
    {
     "data": {
      "text/html": [
       "<div>\n",
       "<style scoped>\n",
       "    .dataframe tbody tr th:only-of-type {\n",
       "        vertical-align: middle;\n",
       "    }\n",
       "\n",
       "    .dataframe tbody tr th {\n",
       "        vertical-align: top;\n",
       "    }\n",
       "\n",
       "    .dataframe thead th {\n",
       "        text-align: right;\n",
       "    }\n",
       "</style>\n",
       "<table border=\"1\" class=\"dataframe\">\n",
       "  <thead>\n",
       "    <tr style=\"text-align: right;\">\n",
       "      <th></th>\n",
       "      <th>NR-AR</th>\n",
       "      <th>NR-AR-LBD</th>\n",
       "      <th>NR-AhR</th>\n",
       "      <th>NR-Aromatase</th>\n",
       "      <th>NR-ER</th>\n",
       "      <th>NR-ER-LBD</th>\n",
       "      <th>NR-PPAR-gamma</th>\n",
       "      <th>SR-ARE</th>\n",
       "      <th>SR-ATAD5</th>\n",
       "      <th>SR-HSE</th>\n",
       "      <th>SR-MMP</th>\n",
       "      <th>SR-p53</th>\n",
       "      <th>mol_id</th>\n",
       "      <th>smiles</th>\n",
       "    </tr>\n",
       "  </thead>\n",
       "  <tbody>\n",
       "    <tr>\n",
       "      <th>0</th>\n",
       "      <td>0.0</td>\n",
       "      <td>0.0</td>\n",
       "      <td>1.0</td>\n",
       "      <td>NaN</td>\n",
       "      <td>NaN</td>\n",
       "      <td>0.0</td>\n",
       "      <td>0.0</td>\n",
       "      <td>1.0</td>\n",
       "      <td>0.0</td>\n",
       "      <td>0.0</td>\n",
       "      <td>0.0</td>\n",
       "      <td>0.0</td>\n",
       "      <td>TOX3021</td>\n",
       "      <td>CCOc1ccc2nc(S(N)(=O)=O)sc2c1</td>\n",
       "    </tr>\n",
       "    <tr>\n",
       "      <th>1</th>\n",
       "      <td>0.0</td>\n",
       "      <td>0.0</td>\n",
       "      <td>0.0</td>\n",
       "      <td>0.0</td>\n",
       "      <td>0.0</td>\n",
       "      <td>0.0</td>\n",
       "      <td>0.0</td>\n",
       "      <td>NaN</td>\n",
       "      <td>0.0</td>\n",
       "      <td>NaN</td>\n",
       "      <td>0.0</td>\n",
       "      <td>0.0</td>\n",
       "      <td>TOX3020</td>\n",
       "      <td>CCN1C(=O)NC(c2ccccc2)C1=O</td>\n",
       "    </tr>\n",
       "    <tr>\n",
       "      <th>2</th>\n",
       "      <td>NaN</td>\n",
       "      <td>NaN</td>\n",
       "      <td>NaN</td>\n",
       "      <td>NaN</td>\n",
       "      <td>NaN</td>\n",
       "      <td>NaN</td>\n",
       "      <td>NaN</td>\n",
       "      <td>0.0</td>\n",
       "      <td>NaN</td>\n",
       "      <td>0.0</td>\n",
       "      <td>NaN</td>\n",
       "      <td>NaN</td>\n",
       "      <td>TOX3024</td>\n",
       "      <td>CC[C@]1(O)CC[C@H]2[C@@H]3CCC4=CCCC[C@@H]4[C@H]...</td>\n",
       "    </tr>\n",
       "    <tr>\n",
       "      <th>3</th>\n",
       "      <td>0.0</td>\n",
       "      <td>0.0</td>\n",
       "      <td>0.0</td>\n",
       "      <td>0.0</td>\n",
       "      <td>0.0</td>\n",
       "      <td>0.0</td>\n",
       "      <td>0.0</td>\n",
       "      <td>NaN</td>\n",
       "      <td>0.0</td>\n",
       "      <td>NaN</td>\n",
       "      <td>0.0</td>\n",
       "      <td>0.0</td>\n",
       "      <td>TOX3027</td>\n",
       "      <td>CCCN(CC)C(CC)C(=O)Nc1c(C)cccc1C</td>\n",
       "    </tr>\n",
       "    <tr>\n",
       "      <th>4</th>\n",
       "      <td>0.0</td>\n",
       "      <td>0.0</td>\n",
       "      <td>0.0</td>\n",
       "      <td>0.0</td>\n",
       "      <td>0.0</td>\n",
       "      <td>0.0</td>\n",
       "      <td>0.0</td>\n",
       "      <td>0.0</td>\n",
       "      <td>0.0</td>\n",
       "      <td>0.0</td>\n",
       "      <td>0.0</td>\n",
       "      <td>0.0</td>\n",
       "      <td>TOX20800</td>\n",
       "      <td>CC(O)(P(=O)(O)O)P(=O)(O)O</td>\n",
       "    </tr>\n",
       "    <tr>\n",
       "      <th>5</th>\n",
       "      <td>0.0</td>\n",
       "      <td>0.0</td>\n",
       "      <td>0.0</td>\n",
       "      <td>0.0</td>\n",
       "      <td>0.0</td>\n",
       "      <td>0.0</td>\n",
       "      <td>0.0</td>\n",
       "      <td>NaN</td>\n",
       "      <td>0.0</td>\n",
       "      <td>0.0</td>\n",
       "      <td>0.0</td>\n",
       "      <td>0.0</td>\n",
       "      <td>TOX5110</td>\n",
       "      <td>CC(C)(C)OOC(C)(C)CCC(C)(C)OOC(C)(C)C</td>\n",
       "    </tr>\n",
       "    <tr>\n",
       "      <th>6</th>\n",
       "      <td>0.0</td>\n",
       "      <td>0.0</td>\n",
       "      <td>0.0</td>\n",
       "      <td>0.0</td>\n",
       "      <td>0.0</td>\n",
       "      <td>0.0</td>\n",
       "      <td>0.0</td>\n",
       "      <td>0.0</td>\n",
       "      <td>0.0</td>\n",
       "      <td>0.0</td>\n",
       "      <td>0.0</td>\n",
       "      <td>0.0</td>\n",
       "      <td>TOX6619</td>\n",
       "      <td>O=S(=O)(Cl)c1ccccc1</td>\n",
       "    </tr>\n",
       "    <tr>\n",
       "      <th>7</th>\n",
       "      <td>0.0</td>\n",
       "      <td>NaN</td>\n",
       "      <td>0.0</td>\n",
       "      <td>NaN</td>\n",
       "      <td>1.0</td>\n",
       "      <td>NaN</td>\n",
       "      <td>NaN</td>\n",
       "      <td>1.0</td>\n",
       "      <td>0.0</td>\n",
       "      <td>1.0</td>\n",
       "      <td>0.0</td>\n",
       "      <td>1.0</td>\n",
       "      <td>TOX25232</td>\n",
       "      <td>O=C(O)Cc1cc(I)c(Oc2ccc(O)c(I)c2)c(I)c1</td>\n",
       "    </tr>\n",
       "    <tr>\n",
       "      <th>8</th>\n",
       "      <td>0.0</td>\n",
       "      <td>0.0</td>\n",
       "      <td>0.0</td>\n",
       "      <td>0.0</td>\n",
       "      <td>0.0</td>\n",
       "      <td>0.0</td>\n",
       "      <td>0.0</td>\n",
       "      <td>0.0</td>\n",
       "      <td>0.0</td>\n",
       "      <td>0.0</td>\n",
       "      <td>NaN</td>\n",
       "      <td>0.0</td>\n",
       "      <td>TOX22514</td>\n",
       "      <td>OC[C@H](O)[C@@H](O)[C@H](O)CO</td>\n",
       "    </tr>\n",
       "    <tr>\n",
       "      <th>9</th>\n",
       "      <td>NaN</td>\n",
       "      <td>NaN</td>\n",
       "      <td>NaN</td>\n",
       "      <td>NaN</td>\n",
       "      <td>NaN</td>\n",
       "      <td>NaN</td>\n",
       "      <td>NaN</td>\n",
       "      <td>0.0</td>\n",
       "      <td>NaN</td>\n",
       "      <td>0.0</td>\n",
       "      <td>NaN</td>\n",
       "      <td>NaN</td>\n",
       "      <td>TOX22517</td>\n",
       "      <td>CCCCCCCC(=O)[O-].CCCCCCCC(=O)[O-].[Zn+2]</td>\n",
       "    </tr>\n",
       "  </tbody>\n",
       "</table>\n",
       "</div>"
      ],
      "text/plain": [
       "   NR-AR  NR-AR-LBD  NR-AhR  NR-Aromatase  NR-ER  NR-ER-LBD  NR-PPAR-gamma  \\\n",
       "0    0.0        0.0     1.0           NaN    NaN        0.0            0.0   \n",
       "1    0.0        0.0     0.0           0.0    0.0        0.0            0.0   \n",
       "2    NaN        NaN     NaN           NaN    NaN        NaN            NaN   \n",
       "3    0.0        0.0     0.0           0.0    0.0        0.0            0.0   \n",
       "4    0.0        0.0     0.0           0.0    0.0        0.0            0.0   \n",
       "5    0.0        0.0     0.0           0.0    0.0        0.0            0.0   \n",
       "6    0.0        0.0     0.0           0.0    0.0        0.0            0.0   \n",
       "7    0.0        NaN     0.0           NaN    1.0        NaN            NaN   \n",
       "8    0.0        0.0     0.0           0.0    0.0        0.0            0.0   \n",
       "9    NaN        NaN     NaN           NaN    NaN        NaN            NaN   \n",
       "\n",
       "   SR-ARE  SR-ATAD5  SR-HSE  SR-MMP  SR-p53    mol_id  \\\n",
       "0     1.0       0.0     0.0     0.0     0.0   TOX3021   \n",
       "1     NaN       0.0     NaN     0.0     0.0   TOX3020   \n",
       "2     0.0       NaN     0.0     NaN     NaN   TOX3024   \n",
       "3     NaN       0.0     NaN     0.0     0.0   TOX3027   \n",
       "4     0.0       0.0     0.0     0.0     0.0  TOX20800   \n",
       "5     NaN       0.0     0.0     0.0     0.0   TOX5110   \n",
       "6     0.0       0.0     0.0     0.0     0.0   TOX6619   \n",
       "7     1.0       0.0     1.0     0.0     1.0  TOX25232   \n",
       "8     0.0       0.0     0.0     NaN     0.0  TOX22514   \n",
       "9     0.0       NaN     0.0     NaN     NaN  TOX22517   \n",
       "\n",
       "                                              smiles  \n",
       "0                       CCOc1ccc2nc(S(N)(=O)=O)sc2c1  \n",
       "1                          CCN1C(=O)NC(c2ccccc2)C1=O  \n",
       "2  CC[C@]1(O)CC[C@H]2[C@@H]3CCC4=CCCC[C@@H]4[C@H]...  \n",
       "3                    CCCN(CC)C(CC)C(=O)Nc1c(C)cccc1C  \n",
       "4                          CC(O)(P(=O)(O)O)P(=O)(O)O  \n",
       "5               CC(C)(C)OOC(C)(C)CCC(C)(C)OOC(C)(C)C  \n",
       "6                                O=S(=O)(Cl)c1ccccc1  \n",
       "7             O=C(O)Cc1cc(I)c(Oc2ccc(O)c(I)c2)c(I)c1  \n",
       "8                      OC[C@H](O)[C@@H](O)[C@H](O)CO  \n",
       "9           CCCCCCCC(=O)[O-].CCCCCCCC(=O)[O-].[Zn+2]  "
      ]
     },
     "execution_count": 4,
     "metadata": {},
     "output_type": "execute_result"
    }
   ],
   "source": [
    "# Show top 10 rows\n",
    "df.head(10)"
   ]
  },
  {
   "cell_type": "code",
   "execution_count": 5,
   "metadata": {},
   "outputs": [
    {
     "data": {
      "text/html": [
       "<div>\n",
       "<style scoped>\n",
       "    .dataframe tbody tr th:only-of-type {\n",
       "        vertical-align: middle;\n",
       "    }\n",
       "\n",
       "    .dataframe tbody tr th {\n",
       "        vertical-align: top;\n",
       "    }\n",
       "\n",
       "    .dataframe thead th {\n",
       "        text-align: right;\n",
       "    }\n",
       "</style>\n",
       "<table border=\"1\" class=\"dataframe\">\n",
       "  <thead>\n",
       "    <tr style=\"text-align: right;\">\n",
       "      <th></th>\n",
       "      <th>NR-AR</th>\n",
       "      <th>NR-AR-LBD</th>\n",
       "      <th>NR-AhR</th>\n",
       "      <th>NR-Aromatase</th>\n",
       "      <th>NR-ER</th>\n",
       "      <th>NR-ER-LBD</th>\n",
       "      <th>NR-PPAR-gamma</th>\n",
       "      <th>SR-ARE</th>\n",
       "      <th>SR-ATAD5</th>\n",
       "      <th>SR-HSE</th>\n",
       "      <th>SR-MMP</th>\n",
       "      <th>SR-p53</th>\n",
       "    </tr>\n",
       "  </thead>\n",
       "  <tbody>\n",
       "    <tr>\n",
       "      <th>count</th>\n",
       "      <td>7265.000000</td>\n",
       "      <td>6758.000000</td>\n",
       "      <td>6549.000000</td>\n",
       "      <td>5821.000000</td>\n",
       "      <td>6193.000000</td>\n",
       "      <td>6955.000000</td>\n",
       "      <td>6450.000000</td>\n",
       "      <td>5832.000000</td>\n",
       "      <td>7072.000000</td>\n",
       "      <td>6467.000000</td>\n",
       "      <td>5810.000000</td>\n",
       "      <td>6774.000000</td>\n",
       "    </tr>\n",
       "    <tr>\n",
       "      <th>mean</th>\n",
       "      <td>0.042533</td>\n",
       "      <td>0.035070</td>\n",
       "      <td>0.117270</td>\n",
       "      <td>0.051538</td>\n",
       "      <td>0.128048</td>\n",
       "      <td>0.050324</td>\n",
       "      <td>0.028837</td>\n",
       "      <td>0.161523</td>\n",
       "      <td>0.037330</td>\n",
       "      <td>0.057523</td>\n",
       "      <td>0.158003</td>\n",
       "      <td>0.062445</td>\n",
       "    </tr>\n",
       "    <tr>\n",
       "      <th>std</th>\n",
       "      <td>0.201815</td>\n",
       "      <td>0.183969</td>\n",
       "      <td>0.321766</td>\n",
       "      <td>0.221110</td>\n",
       "      <td>0.334170</td>\n",
       "      <td>0.218627</td>\n",
       "      <td>0.167362</td>\n",
       "      <td>0.368044</td>\n",
       "      <td>0.189583</td>\n",
       "      <td>0.232857</td>\n",
       "      <td>0.364776</td>\n",
       "      <td>0.241979</td>\n",
       "    </tr>\n",
       "    <tr>\n",
       "      <th>min</th>\n",
       "      <td>0.000000</td>\n",
       "      <td>0.000000</td>\n",
       "      <td>0.000000</td>\n",
       "      <td>0.000000</td>\n",
       "      <td>0.000000</td>\n",
       "      <td>0.000000</td>\n",
       "      <td>0.000000</td>\n",
       "      <td>0.000000</td>\n",
       "      <td>0.000000</td>\n",
       "      <td>0.000000</td>\n",
       "      <td>0.000000</td>\n",
       "      <td>0.000000</td>\n",
       "    </tr>\n",
       "    <tr>\n",
       "      <th>25%</th>\n",
       "      <td>0.000000</td>\n",
       "      <td>0.000000</td>\n",
       "      <td>0.000000</td>\n",
       "      <td>0.000000</td>\n",
       "      <td>0.000000</td>\n",
       "      <td>0.000000</td>\n",
       "      <td>0.000000</td>\n",
       "      <td>0.000000</td>\n",
       "      <td>0.000000</td>\n",
       "      <td>0.000000</td>\n",
       "      <td>0.000000</td>\n",
       "      <td>0.000000</td>\n",
       "    </tr>\n",
       "    <tr>\n",
       "      <th>50%</th>\n",
       "      <td>0.000000</td>\n",
       "      <td>0.000000</td>\n",
       "      <td>0.000000</td>\n",
       "      <td>0.000000</td>\n",
       "      <td>0.000000</td>\n",
       "      <td>0.000000</td>\n",
       "      <td>0.000000</td>\n",
       "      <td>0.000000</td>\n",
       "      <td>0.000000</td>\n",
       "      <td>0.000000</td>\n",
       "      <td>0.000000</td>\n",
       "      <td>0.000000</td>\n",
       "    </tr>\n",
       "    <tr>\n",
       "      <th>75%</th>\n",
       "      <td>0.000000</td>\n",
       "      <td>0.000000</td>\n",
       "      <td>0.000000</td>\n",
       "      <td>0.000000</td>\n",
       "      <td>0.000000</td>\n",
       "      <td>0.000000</td>\n",
       "      <td>0.000000</td>\n",
       "      <td>0.000000</td>\n",
       "      <td>0.000000</td>\n",
       "      <td>0.000000</td>\n",
       "      <td>0.000000</td>\n",
       "      <td>0.000000</td>\n",
       "    </tr>\n",
       "    <tr>\n",
       "      <th>max</th>\n",
       "      <td>1.000000</td>\n",
       "      <td>1.000000</td>\n",
       "      <td>1.000000</td>\n",
       "      <td>1.000000</td>\n",
       "      <td>1.000000</td>\n",
       "      <td>1.000000</td>\n",
       "      <td>1.000000</td>\n",
       "      <td>1.000000</td>\n",
       "      <td>1.000000</td>\n",
       "      <td>1.000000</td>\n",
       "      <td>1.000000</td>\n",
       "      <td>1.000000</td>\n",
       "    </tr>\n",
       "  </tbody>\n",
       "</table>\n",
       "</div>"
      ],
      "text/plain": [
       "             NR-AR    NR-AR-LBD       NR-AhR  NR-Aromatase        NR-ER  \\\n",
       "count  7265.000000  6758.000000  6549.000000   5821.000000  6193.000000   \n",
       "mean      0.042533     0.035070     0.117270      0.051538     0.128048   \n",
       "std       0.201815     0.183969     0.321766      0.221110     0.334170   \n",
       "min       0.000000     0.000000     0.000000      0.000000     0.000000   \n",
       "25%       0.000000     0.000000     0.000000      0.000000     0.000000   \n",
       "50%       0.000000     0.000000     0.000000      0.000000     0.000000   \n",
       "75%       0.000000     0.000000     0.000000      0.000000     0.000000   \n",
       "max       1.000000     1.000000     1.000000      1.000000     1.000000   \n",
       "\n",
       "         NR-ER-LBD  NR-PPAR-gamma       SR-ARE     SR-ATAD5       SR-HSE  \\\n",
       "count  6955.000000    6450.000000  5832.000000  7072.000000  6467.000000   \n",
       "mean      0.050324       0.028837     0.161523     0.037330     0.057523   \n",
       "std       0.218627       0.167362     0.368044     0.189583     0.232857   \n",
       "min       0.000000       0.000000     0.000000     0.000000     0.000000   \n",
       "25%       0.000000       0.000000     0.000000     0.000000     0.000000   \n",
       "50%       0.000000       0.000000     0.000000     0.000000     0.000000   \n",
       "75%       0.000000       0.000000     0.000000     0.000000     0.000000   \n",
       "max       1.000000       1.000000     1.000000     1.000000     1.000000   \n",
       "\n",
       "            SR-MMP       SR-p53  \n",
       "count  5810.000000  6774.000000  \n",
       "mean      0.158003     0.062445  \n",
       "std       0.364776     0.241979  \n",
       "min       0.000000     0.000000  \n",
       "25%       0.000000     0.000000  \n",
       "50%       0.000000     0.000000  \n",
       "75%       0.000000     0.000000  \n",
       "max       1.000000     1.000000  "
      ]
     },
     "execution_count": 5,
     "metadata": {},
     "output_type": "execute_result"
    }
   ],
   "source": [
    "# Show descriptive summary statistics\n",
    "df.describe()"
   ]
  },
  {
   "cell_type": "code",
   "execution_count": 6,
   "metadata": {},
   "outputs": [
    {
     "data": {
      "text/plain": [
       "['NR-AR',\n",
       " 'NR-AR-LBD',\n",
       " 'NR-AhR',\n",
       " 'NR-Aromatase',\n",
       " 'NR-ER',\n",
       " 'NR-ER-LBD',\n",
       " 'NR-PPAR-gamma',\n",
       " 'SR-ARE',\n",
       " 'SR-ATAD5',\n",
       " 'SR-HSE',\n",
       " 'SR-MMP',\n",
       " 'SR-p53',\n",
       " 'mol_id',\n",
       " 'smiles']"
      ]
     },
     "execution_count": 6,
     "metadata": {},
     "output_type": "execute_result"
    }
   ],
   "source": [
    "# Get column names\n",
    "list(df.columns)"
   ]
  },
  {
   "cell_type": "code",
   "execution_count": 7,
   "metadata": {},
   "outputs": [
    {
     "data": {
      "text/html": [
       "<div>\n",
       "<style scoped>\n",
       "    .dataframe tbody tr th:only-of-type {\n",
       "        vertical-align: middle;\n",
       "    }\n",
       "\n",
       "    .dataframe tbody tr th {\n",
       "        vertical-align: top;\n",
       "    }\n",
       "\n",
       "    .dataframe thead th {\n",
       "        text-align: right;\n",
       "    }\n",
       "</style>\n",
       "<table border=\"1\" class=\"dataframe\">\n",
       "  <thead>\n",
       "    <tr style=\"text-align: right;\">\n",
       "      <th></th>\n",
       "      <th>NR-AR</th>\n",
       "      <th>smiles</th>\n",
       "    </tr>\n",
       "  </thead>\n",
       "  <tbody>\n",
       "    <tr>\n",
       "      <th>0</th>\n",
       "      <td>0.0</td>\n",
       "      <td>CCOc1ccc2nc(S(N)(=O)=O)sc2c1</td>\n",
       "    </tr>\n",
       "    <tr>\n",
       "      <th>1</th>\n",
       "      <td>0.0</td>\n",
       "      <td>CCN1C(=O)NC(c2ccccc2)C1=O</td>\n",
       "    </tr>\n",
       "    <tr>\n",
       "      <th>2</th>\n",
       "      <td>NaN</td>\n",
       "      <td>CC[C@]1(O)CC[C@H]2[C@@H]3CCC4=CCCC[C@@H]4[C@H]...</td>\n",
       "    </tr>\n",
       "    <tr>\n",
       "      <th>3</th>\n",
       "      <td>0.0</td>\n",
       "      <td>CCCN(CC)C(CC)C(=O)Nc1c(C)cccc1C</td>\n",
       "    </tr>\n",
       "    <tr>\n",
       "      <th>4</th>\n",
       "      <td>0.0</td>\n",
       "      <td>CC(O)(P(=O)(O)O)P(=O)(O)O</td>\n",
       "    </tr>\n",
       "  </tbody>\n",
       "</table>\n",
       "</div>"
      ],
      "text/plain": [
       "   NR-AR                                             smiles\n",
       "0    0.0                       CCOc1ccc2nc(S(N)(=O)=O)sc2c1\n",
       "1    0.0                          CCN1C(=O)NC(c2ccccc2)C1=O\n",
       "2    NaN  CC[C@]1(O)CC[C@H]2[C@@H]3CCC4=CCCC[C@@H]4[C@H]...\n",
       "3    0.0                    CCCN(CC)C(CC)C(=O)Nc1c(C)cccc1C\n",
       "4    0.0                          CC(O)(P(=O)(O)O)P(=O)(O)O"
      ]
     },
     "execution_count": 7,
     "metadata": {},
     "output_type": "execute_result"
    }
   ],
   "source": [
    "# Get only 'NR-AR','smiles' columns\n",
    "df = df[[\"NR-AR\", \"smiles\"]]\n",
    "df.head()"
   ]
  },
  {
   "cell_type": "code",
   "execution_count": 8,
   "metadata": {},
   "outputs": [
    {
     "data": {
      "text/plain": [
       "(7831, 2)"
      ]
     },
     "execution_count": 8,
     "metadata": {},
     "output_type": "execute_result"
    }
   ],
   "source": [
    "df.shape"
   ]
  },
  {
   "cell_type": "code",
   "execution_count": 9,
   "metadata": {},
   "outputs": [
    {
     "name": "stderr",
     "output_type": "stream",
     "text": [
      "[15:02:22] WARNING: not removing hydrogen atom without neighbors\n"
     ]
    },
    {
     "data": {
      "text/html": [
       "<div>\n",
       "<style scoped>\n",
       "    .dataframe tbody tr th:only-of-type {\n",
       "        vertical-align: middle;\n",
       "    }\n",
       "\n",
       "    .dataframe tbody tr th {\n",
       "        vertical-align: top;\n",
       "    }\n",
       "\n",
       "    .dataframe thead th {\n",
       "        text-align: right;\n",
       "    }\n",
       "</style>\n",
       "<table border=\"1\" class=\"dataframe\">\n",
       "  <thead>\n",
       "    <tr style=\"text-align: right;\">\n",
       "      <th></th>\n",
       "      <th>NR-AR</th>\n",
       "      <th>smiles</th>\n",
       "      <th>ROMol</th>\n",
       "    </tr>\n",
       "  </thead>\n",
       "  <tbody>\n",
       "    <tr>\n",
       "      <th>0</th>\n",
       "      <td>0.0</td>\n",
       "      <td>CCOc1ccc2nc(S(N)(=O)=O)sc2c1</td>\n",
       "      <td>&lt;rdkit.Chem.rdchem.Mol object at 0x7f101db7b040&gt;</td>\n",
       "    </tr>\n",
       "    <tr>\n",
       "      <th>1</th>\n",
       "      <td>0.0</td>\n",
       "      <td>CCN1C(=O)NC(c2ccccc2)C1=O</td>\n",
       "      <td>&lt;rdkit.Chem.rdchem.Mol object at 0x7f101db7b200&gt;</td>\n",
       "    </tr>\n",
       "    <tr>\n",
       "      <th>2</th>\n",
       "      <td>NaN</td>\n",
       "      <td>CC[C@]1(O)CC[C@H]2[C@@H]3CCC4=CCCC[C@@H]4[C@H]...</td>\n",
       "      <td>&lt;rdkit.Chem.rdchem.Mol object at 0x7f101db7b6d0&gt;</td>\n",
       "    </tr>\n",
       "    <tr>\n",
       "      <th>3</th>\n",
       "      <td>0.0</td>\n",
       "      <td>CCCN(CC)C(CC)C(=O)Nc1c(C)cccc1C</td>\n",
       "      <td>&lt;rdkit.Chem.rdchem.Mol object at 0x7f101db7b120&gt;</td>\n",
       "    </tr>\n",
       "    <tr>\n",
       "      <th>4</th>\n",
       "      <td>0.0</td>\n",
       "      <td>CC(O)(P(=O)(O)O)P(=O)(O)O</td>\n",
       "      <td>&lt;rdkit.Chem.rdchem.Mol object at 0x7f101db7b740&gt;</td>\n",
       "    </tr>\n",
       "  </tbody>\n",
       "</table>\n",
       "</div>"
      ],
      "text/plain": [
       "   NR-AR                                             smiles  \\\n",
       "0    0.0                       CCOc1ccc2nc(S(N)(=O)=O)sc2c1   \n",
       "1    0.0                          CCN1C(=O)NC(c2ccccc2)C1=O   \n",
       "2    NaN  CC[C@]1(O)CC[C@H]2[C@@H]3CCC4=CCCC[C@@H]4[C@H]...   \n",
       "3    0.0                    CCCN(CC)C(CC)C(=O)Nc1c(C)cccc1C   \n",
       "4    0.0                          CC(O)(P(=O)(O)O)P(=O)(O)O   \n",
       "\n",
       "                                              ROMol  \n",
       "0  <rdkit.Chem.rdchem.Mol object at 0x7f101db7b040>  \n",
       "1  <rdkit.Chem.rdchem.Mol object at 0x7f101db7b200>  \n",
       "2  <rdkit.Chem.rdchem.Mol object at 0x7f101db7b6d0>  \n",
       "3  <rdkit.Chem.rdchem.Mol object at 0x7f101db7b120>  \n",
       "4  <rdkit.Chem.rdchem.Mol object at 0x7f101db7b740>  "
      ]
     },
     "execution_count": 9,
     "metadata": {},
     "output_type": "execute_result"
    }
   ],
   "source": [
    "# Converts the molecules contains in \"smilesCol\" to RDKit molecules and appends them to the\n",
    "# dataframe \"frame\" using the specified column name.\n",
    "# If desired, a fingerprint can be computed and stored with the molecule objects to accelerate\n",
    "# substructure matching\n",
    "PandasTools.AddMoleculeColumnToFrame(df, smilesCol=\"smiles\")\n",
    "df.head()"
   ]
  },
  {
   "cell_type": "code",
   "execution_count": 10,
   "metadata": {},
   "outputs": [
    {
     "data": {
      "text/plain": [
       "(7265, 3)"
      ]
     },
     "execution_count": 10,
     "metadata": {},
     "output_type": "execute_result"
    }
   ],
   "source": [
    "# Remove rows with missing values (NaN)\n",
    "df = df[~df[\"ROMol\"].isnull()]\n",
    "df = df[~df[\"NR-AR\"].isnull()]\n",
    "df.shape"
   ]
  },
  {
   "cell_type": "markdown",
   "metadata": {},
   "source": [
    "We can see 566 rows with missing values (NaN) are removed."
   ]
  },
  {
   "cell_type": "code",
   "execution_count": 11,
   "metadata": {},
   "outputs": [
    {
     "data": {
      "image/png": "[encoded data removed]",
      "text/plain": [
       "<IPython.core.display.Image object>"
      ]
     },
     "metadata": {},
     "output_type": "display_data"
    }
   ],
   "source": [
    "# Draw grid image of molecules in pandas DataFrame for 'NR-AR' of 1\n",
    "display(\n",
    "    PandasTools.FrameToGridImage(\n",
    "        df[df[\"NR-AR\"] == 1].head(5), legendsCol=\"NR-AR\", molsPerRow=5\n",
    "    )\n",
    ")"
   ]
  },
  {
   "cell_type": "code",
   "execution_count": 12,
   "metadata": {},
   "outputs": [
    {
     "data": {
      "image/png": "[encoded data removed]",
      "text/plain": [
       "<IPython.core.display.Image object>"
      ]
     },
     "metadata": {},
     "output_type": "display_data"
    }
   ],
   "source": [
    "# Draw grid image of mols in pandas DataFrame for 'NR-AR' of 0\n",
    "display(\n",
    "    PandasTools.FrameToGridImage(\n",
    "        df[df[\"NR-AR\"] == 0].head(5), legendsCol=\"NR-AR\", molsPerRow=5\n",
    "    )\n",
    ")"
   ]
  },
  {
   "cell_type": "code",
   "execution_count": 13,
   "metadata": {},
   "outputs": [
    {
     "data": {
      "text/plain": [
       "array([0., 1.])"
      ]
     },
     "execution_count": 13,
     "metadata": {},
     "output_type": "execute_result"
    }
   ],
   "source": [
    "# Count number of distinct elements in 'NR-AR' column\n",
    "df[\"NR-AR\"].unique()"
   ]
  },
  {
   "cell_type": "code",
   "execution_count": 14,
   "metadata": {},
   "outputs": [
    {
     "data": {
      "text/plain": [
       "7265"
      ]
     },
     "execution_count": 14,
     "metadata": {},
     "output_type": "execute_result"
    }
   ],
   "source": [
    "# Count the total number of elements in 'NR-AR' column\n",
    "df[\"NR-AR\"].count()"
   ]
  },
  {
   "cell_type": "code",
   "execution_count": 15,
   "metadata": {},
   "outputs": [
    {
     "data": {
      "text/plain": [
       "309.0"
      ]
     },
     "execution_count": 15,
     "metadata": {},
     "output_type": "execute_result"
    }
   ],
   "source": [
    "# Sum of the 'NR-AR' column\n",
    "df[\"NR-AR\"].sum()"
   ]
  },
  {
   "cell_type": "markdown",
   "metadata": {},
   "source": [
    "## What is a molecular descriptor?\n",
    "\n",
    "Molecular descriptors can be defined as mathematical representations of molecules’ properties that are generated by algorithms. The numerical values of molecular descriptors are used to quantitatively describe the physical and chemical information of the molecules. They can be used to predict the\n",
    "activity, toxicity, and other properties resulting from the\n",
    "chemical structures of compounds."
   ]
  },
  {
   "cell_type": "code",
   "execution_count": 16,
   "metadata": {},
   "outputs": [],
   "source": [
    "# create descriptor calculator with all descriptors\n",
    "calc = Calculator(descriptors, ignore_3D=True)"
   ]
  },
  {
   "cell_type": "code",
   "execution_count": 17,
   "metadata": {},
   "outputs": [
    {
     "data": {
      "image/png": "[encoded data removed]",
      "text/plain": [
       "<rdkit.Chem.rdchem.Mol at 0x7f101db7b040>"
      ]
     },
     "execution_count": 17,
     "metadata": {},
     "output_type": "execute_result"
    }
   ],
   "source": [
    "# Show the first molecule\n",
    "mol = df[\"ROMol\"][0]\n",
    "mol"
   ]
  },
  {
   "cell_type": "markdown",
   "metadata": {},
   "source": [
    "(The following step may take a few minutes to complete.)"
   ]
  },
  {
   "cell_type": "code",
   "execution_count": 18,
   "metadata": {},
   "outputs": [
    {
     "name": "stderr",
     "output_type": "stream",
     "text": [
      "  1%|          | 44/7265 [00:01<03:09, 38.19it/s][15:02:25] WARNING: not removing hydrogen atom without neighbors\n",
      "[15:02:25] WARNING: not removing hydrogen atom without neighbors\n",
      "[15:02:25] WARNING: not removing hydrogen atom without neighbors\n",
      "100%|██████████| 7265/7265 [04:11<00:00, 28.93it/s]\n"
     ]
    }
   ],
   "source": [
    "# pandas method calculates multiple molecules, return pandas DataFrame\n",
    "df2 = calc.pandas(df[\"ROMol\"])"
   ]
  },
  {
   "cell_type": "code",
   "execution_count": 19,
   "metadata": {},
   "outputs": [
    {
     "data": {
      "text/html": [
       "<div>\n",
       "<style scoped>\n",
       "    .dataframe tbody tr th:only-of-type {\n",
       "        vertical-align: middle;\n",
       "    }\n",
       "\n",
       "    .dataframe tbody tr th {\n",
       "        vertical-align: top;\n",
       "    }\n",
       "\n",
       "    .dataframe thead th {\n",
       "        text-align: right;\n",
       "    }\n",
       "</style>\n",
       "<table border=\"1\" class=\"dataframe\">\n",
       "  <thead>\n",
       "    <tr style=\"text-align: right;\">\n",
       "      <th></th>\n",
       "      <th>ABC</th>\n",
       "      <th>ABCGG</th>\n",
       "      <th>nAcid</th>\n",
       "      <th>nBase</th>\n",
       "      <th>SpAbs_A</th>\n",
       "      <th>SpMax_A</th>\n",
       "      <th>SpDiam_A</th>\n",
       "      <th>SpAD_A</th>\n",
       "      <th>SpMAD_A</th>\n",
       "      <th>LogEE_A</th>\n",
       "      <th>...</th>\n",
       "      <th>SRW10</th>\n",
       "      <th>TSRW10</th>\n",
       "      <th>MW</th>\n",
       "      <th>AMW</th>\n",
       "      <th>WPath</th>\n",
       "      <th>WPol</th>\n",
       "      <th>Zagreb1</th>\n",
       "      <th>Zagreb2</th>\n",
       "      <th>mZagreb1</th>\n",
       "      <th>mZagreb2</th>\n",
       "    </tr>\n",
       "  </thead>\n",
       "  <tbody>\n",
       "    <tr>\n",
       "      <th>0</th>\n",
       "      <td>12.395521</td>\n",
       "      <td>10.847181</td>\n",
       "      <td>0</td>\n",
       "      <td>0</td>\n",
       "      <td>19.462813</td>\n",
       "      <td>2.447713</td>\n",
       "      <td>4.716372</td>\n",
       "      <td>19.462813</td>\n",
       "      <td>1.216426</td>\n",
       "      <td>3.704694</td>\n",
       "      <td>...</td>\n",
       "      <td>9.698614</td>\n",
       "      <td>62.626045</td>\n",
       "      <td>258.013284</td>\n",
       "      <td>9.923588</td>\n",
       "      <td>442</td>\n",
       "      <td>22</td>\n",
       "      <td>84.0</td>\n",
       "      <td>97.0</td>\n",
       "      <td>6.256944</td>\n",
       "      <td>3.444444</td>\n",
       "    </tr>\n",
       "    <tr>\n",
       "      <th>1</th>\n",
       "      <td>11.370728</td>\n",
       "      <td>10.500427</td>\n",
       "      <td>0</td>\n",
       "      <td>0</td>\n",
       "      <td>19.28989</td>\n",
       "      <td>2.435261</td>\n",
       "      <td>4.703788</td>\n",
       "      <td>19.28989</td>\n",
       "      <td>1.285993</td>\n",
       "      <td>3.636116</td>\n",
       "      <td>...</td>\n",
       "      <td>9.553433</td>\n",
       "      <td>61.306823</td>\n",
       "      <td>204.089878</td>\n",
       "      <td>7.558884</td>\n",
       "      <td>353</td>\n",
       "      <td>22</td>\n",
       "      <td>76.0</td>\n",
       "      <td>90.0</td>\n",
       "      <td>5.305556</td>\n",
       "      <td>3.444444</td>\n",
       "    </tr>\n",
       "    <tr>\n",
       "      <th>3</th>\n",
       "      <td>14.308545</td>\n",
       "      <td>13.613603</td>\n",
       "      <td>0</td>\n",
       "      <td>1</td>\n",
       "      <td>24.388886</td>\n",
       "      <td>2.349426</td>\n",
       "      <td>4.698852</td>\n",
       "      <td>24.388886</td>\n",
       "      <td>1.219444</td>\n",
       "      <td>3.870393</td>\n",
       "      <td>...</td>\n",
       "      <td>9.653808</td>\n",
       "      <td>52.828148</td>\n",
       "      <td>276.220164</td>\n",
       "      <td>5.754587</td>\n",
       "      <td>830</td>\n",
       "      <td>30</td>\n",
       "      <td>92.0</td>\n",
       "      <td>105.0</td>\n",
       "      <td>8.666667</td>\n",
       "      <td>4.861111</td>\n",
       "    </tr>\n",
       "    <tr>\n",
       "      <th>4</th>\n",
       "      <td>8.152948</td>\n",
       "      <td>8.723360</td>\n",
       "      <td>4</td>\n",
       "      <td>0</td>\n",
       "      <td>10.363081</td>\n",
       "      <td>2.44949</td>\n",
       "      <td>4.898979</td>\n",
       "      <td>10.363081</td>\n",
       "      <td>0.942098</td>\n",
       "      <td>3.280313</td>\n",
       "      <td>...</td>\n",
       "      <td>9.682903</td>\n",
       "      <td>42.374286</td>\n",
       "      <td>205.974526</td>\n",
       "      <td>10.840765</td>\n",
       "      <td>136</td>\n",
       "      <td>18</td>\n",
       "      <td>56.0</td>\n",
       "      <td>64.0</td>\n",
       "      <td>8.1875</td>\n",
       "      <td>2.125000</td>\n",
       "    </tr>\n",
       "    <tr>\n",
       "      <th>5</th>\n",
       "      <td>15.024215</td>\n",
       "      <td>13.976628</td>\n",
       "      <td>0</td>\n",
       "      <td>0</td>\n",
       "      <td>20.871816</td>\n",
       "      <td>2.297773</td>\n",
       "      <td>4.595546</td>\n",
       "      <td>20.871816</td>\n",
       "      <td>1.043591</td>\n",
       "      <td>3.864202</td>\n",
       "      <td>...</td>\n",
       "      <td>9.674640</td>\n",
       "      <td>53.096806</td>\n",
       "      <td>290.245710</td>\n",
       "      <td>5.374921</td>\n",
       "      <td>934</td>\n",
       "      <td>21</td>\n",
       "      <td>98.0</td>\n",
       "      <td>100.0</td>\n",
       "      <td>11.75</td>\n",
       "      <td>4.000000</td>\n",
       "    </tr>\n",
       "  </tbody>\n",
       "</table>\n",
       "<p>5 rows × 1613 columns</p>\n",
       "</div>"
      ],
      "text/plain": [
       "         ABC      ABCGG  nAcid  nBase    SpAbs_A   SpMax_A  SpDiam_A  \\\n",
       "0  12.395521  10.847181      0      0  19.462813  2.447713  4.716372   \n",
       "1  11.370728  10.500427      0      0   19.28989  2.435261  4.703788   \n",
       "3  14.308545  13.613603      0      1  24.388886  2.349426  4.698852   \n",
       "4   8.152948   8.723360      4      0  10.363081   2.44949  4.898979   \n",
       "5  15.024215  13.976628      0      0  20.871816  2.297773  4.595546   \n",
       "\n",
       "      SpAD_A   SpMAD_A   LogEE_A  ...     SRW10     TSRW10          MW  \\\n",
       "0  19.462813  1.216426  3.704694  ...  9.698614  62.626045  258.013284   \n",
       "1   19.28989  1.285993  3.636116  ...  9.553433  61.306823  204.089878   \n",
       "3  24.388886  1.219444  3.870393  ...  9.653808  52.828148  276.220164   \n",
       "4  10.363081  0.942098  3.280313  ...  9.682903  42.374286  205.974526   \n",
       "5  20.871816  1.043591  3.864202  ...  9.674640  53.096806  290.245710   \n",
       "\n",
       "         AMW WPath WPol  Zagreb1  Zagreb2  mZagreb1  mZagreb2  \n",
       "0   9.923588   442   22     84.0     97.0  6.256944  3.444444  \n",
       "1   7.558884   353   22     76.0     90.0  5.305556  3.444444  \n",
       "3   5.754587   830   30     92.0    105.0  8.666667  4.861111  \n",
       "4  10.840765   136   18     56.0     64.0    8.1875  2.125000  \n",
       "5   5.374921   934   21     98.0    100.0     11.75  4.000000  \n",
       "\n",
       "[5 rows x 1613 columns]"
      ]
     },
     "execution_count": 19,
     "metadata": {},
     "output_type": "execute_result"
    }
   ],
   "source": [
    "df2.head()"
   ]
  },
  {
   "cell_type": "code",
   "execution_count": 20,
   "metadata": {},
   "outputs": [
    {
     "data": {
      "text/plain": [
       "(7265, 1613)"
      ]
     },
     "execution_count": 20,
     "metadata": {},
     "output_type": "execute_result"
    }
   ],
   "source": [
    "df2.shape"
   ]
  },
  {
   "cell_type": "code",
   "execution_count": 21,
   "metadata": {},
   "outputs": [],
   "source": [
    "# Find columns with known errored value\n",
    "\n",
    "missing = []\n",
    "for column in df2.columns:\n",
    "    if (df2[column].apply(lambda x: type(x) == Missing)).any():\n",
    "        missing.append(column)"
   ]
  },
  {
   "cell_type": "code",
   "execution_count": 22,
   "metadata": {},
   "outputs": [],
   "source": [
    "# Drop columns with known errored value\n",
    "df_new = df2.drop(missing, axis=1)"
   ]
  },
  {
   "cell_type": "code",
   "execution_count": 23,
   "metadata": {},
   "outputs": [
    {
     "data": {
      "text/html": [
       "<div>\n",
       "<style scoped>\n",
       "    .dataframe tbody tr th:only-of-type {\n",
       "        vertical-align: middle;\n",
       "    }\n",
       "\n",
       "    .dataframe tbody tr th {\n",
       "        vertical-align: top;\n",
       "    }\n",
       "\n",
       "    .dataframe thead th {\n",
       "        text-align: right;\n",
       "    }\n",
       "</style>\n",
       "<table border=\"1\" class=\"dataframe\">\n",
       "  <thead>\n",
       "    <tr style=\"text-align: right;\">\n",
       "      <th></th>\n",
       "      <th>ABC</th>\n",
       "      <th>ABCGG</th>\n",
       "      <th>nAcid</th>\n",
       "      <th>nBase</th>\n",
       "      <th>nAromAtom</th>\n",
       "      <th>nAromBond</th>\n",
       "      <th>nAtom</th>\n",
       "      <th>nHeavyAtom</th>\n",
       "      <th>nSpiro</th>\n",
       "      <th>nBridgehead</th>\n",
       "      <th>...</th>\n",
       "      <th>SRW09</th>\n",
       "      <th>SRW10</th>\n",
       "      <th>TSRW10</th>\n",
       "      <th>MW</th>\n",
       "      <th>AMW</th>\n",
       "      <th>WPath</th>\n",
       "      <th>WPol</th>\n",
       "      <th>Zagreb1</th>\n",
       "      <th>Zagreb2</th>\n",
       "      <th>mZagreb2</th>\n",
       "    </tr>\n",
       "  </thead>\n",
       "  <tbody>\n",
       "    <tr>\n",
       "      <th>0</th>\n",
       "      <td>12.395521</td>\n",
       "      <td>10.847181</td>\n",
       "      <td>0</td>\n",
       "      <td>0</td>\n",
       "      <td>9</td>\n",
       "      <td>10</td>\n",
       "      <td>26</td>\n",
       "      <td>16</td>\n",
       "      <td>0</td>\n",
       "      <td>0</td>\n",
       "      <td>...</td>\n",
       "      <td>6.861711</td>\n",
       "      <td>9.698614</td>\n",
       "      <td>62.626045</td>\n",
       "      <td>258.013284</td>\n",
       "      <td>9.923588</td>\n",
       "      <td>442</td>\n",
       "      <td>22</td>\n",
       "      <td>84.0</td>\n",
       "      <td>97.0</td>\n",
       "      <td>3.444444</td>\n",
       "    </tr>\n",
       "    <tr>\n",
       "      <th>1</th>\n",
       "      <td>11.370728</td>\n",
       "      <td>10.500427</td>\n",
       "      <td>0</td>\n",
       "      <td>0</td>\n",
       "      <td>6</td>\n",
       "      <td>6</td>\n",
       "      <td>27</td>\n",
       "      <td>15</td>\n",
       "      <td>0</td>\n",
       "      <td>0</td>\n",
       "      <td>...</td>\n",
       "      <td>7.002156</td>\n",
       "      <td>9.553433</td>\n",
       "      <td>61.306823</td>\n",
       "      <td>204.089878</td>\n",
       "      <td>7.558884</td>\n",
       "      <td>353</td>\n",
       "      <td>22</td>\n",
       "      <td>76.0</td>\n",
       "      <td>90.0</td>\n",
       "      <td>3.444444</td>\n",
       "    </tr>\n",
       "    <tr>\n",
       "      <th>3</th>\n",
       "      <td>14.308545</td>\n",
       "      <td>13.613603</td>\n",
       "      <td>0</td>\n",
       "      <td>1</td>\n",
       "      <td>6</td>\n",
       "      <td>6</td>\n",
       "      <td>48</td>\n",
       "      <td>20</td>\n",
       "      <td>0</td>\n",
       "      <td>0</td>\n",
       "      <td>...</td>\n",
       "      <td>0.000000</td>\n",
       "      <td>9.653808</td>\n",
       "      <td>52.828148</td>\n",
       "      <td>276.220164</td>\n",
       "      <td>5.754587</td>\n",
       "      <td>830</td>\n",
       "      <td>30</td>\n",
       "      <td>92.0</td>\n",
       "      <td>105.0</td>\n",
       "      <td>4.861111</td>\n",
       "    </tr>\n",
       "    <tr>\n",
       "      <th>4</th>\n",
       "      <td>8.152948</td>\n",
       "      <td>8.723360</td>\n",
       "      <td>4</td>\n",
       "      <td>0</td>\n",
       "      <td>0</td>\n",
       "      <td>0</td>\n",
       "      <td>19</td>\n",
       "      <td>11</td>\n",
       "      <td>0</td>\n",
       "      <td>0</td>\n",
       "      <td>...</td>\n",
       "      <td>0.000000</td>\n",
       "      <td>9.682903</td>\n",
       "      <td>42.374286</td>\n",
       "      <td>205.974526</td>\n",
       "      <td>10.840765</td>\n",
       "      <td>136</td>\n",
       "      <td>18</td>\n",
       "      <td>56.0</td>\n",
       "      <td>64.0</td>\n",
       "      <td>2.125000</td>\n",
       "    </tr>\n",
       "    <tr>\n",
       "      <th>5</th>\n",
       "      <td>15.024215</td>\n",
       "      <td>13.976628</td>\n",
       "      <td>0</td>\n",
       "      <td>0</td>\n",
       "      <td>0</td>\n",
       "      <td>0</td>\n",
       "      <td>54</td>\n",
       "      <td>20</td>\n",
       "      <td>0</td>\n",
       "      <td>0</td>\n",
       "      <td>...</td>\n",
       "      <td>0.000000</td>\n",
       "      <td>9.674640</td>\n",
       "      <td>53.096806</td>\n",
       "      <td>290.245710</td>\n",
       "      <td>5.374921</td>\n",
       "      <td>934</td>\n",
       "      <td>21</td>\n",
       "      <td>98.0</td>\n",
       "      <td>100.0</td>\n",
       "      <td>4.000000</td>\n",
       "    </tr>\n",
       "  </tbody>\n",
       "</table>\n",
       "<p>5 rows × 687 columns</p>\n",
       "</div>"
      ],
      "text/plain": [
       "         ABC      ABCGG  nAcid  nBase  nAromAtom  nAromBond  nAtom  \\\n",
       "0  12.395521  10.847181      0      0          9         10     26   \n",
       "1  11.370728  10.500427      0      0          6          6     27   \n",
       "3  14.308545  13.613603      0      1          6          6     48   \n",
       "4   8.152948   8.723360      4      0          0          0     19   \n",
       "5  15.024215  13.976628      0      0          0          0     54   \n",
       "\n",
       "   nHeavyAtom  nSpiro  nBridgehead  ...     SRW09     SRW10     TSRW10  \\\n",
       "0          16       0            0  ...  6.861711  9.698614  62.626045   \n",
       "1          15       0            0  ...  7.002156  9.553433  61.306823   \n",
       "3          20       0            0  ...  0.000000  9.653808  52.828148   \n",
       "4          11       0            0  ...  0.000000  9.682903  42.374286   \n",
       "5          20       0            0  ...  0.000000  9.674640  53.096806   \n",
       "\n",
       "           MW        AMW  WPath  WPol  Zagreb1  Zagreb2  mZagreb2  \n",
       "0  258.013284   9.923588    442    22     84.0     97.0  3.444444  \n",
       "1  204.089878   7.558884    353    22     76.0     90.0  3.444444  \n",
       "3  276.220164   5.754587    830    30     92.0    105.0  4.861111  \n",
       "4  205.974526  10.840765    136    18     56.0     64.0  2.125000  \n",
       "5  290.245710   5.374921    934    21     98.0    100.0  4.000000  \n",
       "\n",
       "[5 rows x 687 columns]"
      ]
     },
     "execution_count": 23,
     "metadata": {},
     "output_type": "execute_result"
    }
   ],
   "source": [
    "df_new.head()"
   ]
  },
  {
   "cell_type": "code",
   "execution_count": 24,
   "metadata": {},
   "outputs": [
    {
     "data": {
      "text/plain": [
       "(7265, 687)"
      ]
     },
     "execution_count": 24,
     "metadata": {},
     "output_type": "execute_result"
    }
   ],
   "source": [
    "df_new.shape"
   ]
  },
  {
   "cell_type": "code",
   "execution_count": 25,
   "metadata": {},
   "outputs": [],
   "source": [
    "# Target\n",
    "y = df[\"NR-AR\"]\n",
    "\n",
    "# Molecular descriptors\n",
    "X = df_new"
   ]
  },
  {
   "cell_type": "code",
   "execution_count": 26,
   "metadata": {},
   "outputs": [],
   "source": [
    "# Split data into 75% training and 25% test sets\n",
    "X_train, X_test, y_train, y_test = train_test_split(X, y)"
   ]
  },
  {
   "cell_type": "markdown",
   "metadata": {},
   "source": [
    "## Random forest\n",
    "\n",
    "A random forest is a meta estimator that fits a number of decision tree\n",
    "classifiers on various sub-samples of the dataset and uses averaging to\n",
    "improve the predictive accuracy and control over-fitting.\n"
   ]
  },
  {
   "cell_type": "code",
   "execution_count": 27,
   "metadata": {},
   "outputs": [],
   "source": [
    "# Create a RandomForestClassifer with 100 trees in the forest.\n",
    "clf = RandomForestClassifier(n_estimators=100).fit(X_train, y_train)"
   ]
  },
  {
   "cell_type": "markdown",
   "metadata": {},
   "source": [
    "### Receiver Operating Characteristic Curve (ROC AUC)\n",
    "\n",
    "Compute Area Under the Receiver Operating Characteristic Curve (ROC AUC) from predicted class probabilities\n",
    "\n",
    "The predicted class probabilities of an input sample are computed as\n",
    "the mean predicted class probabilities of the trees in the forest.\n",
    "\n",
    "The class probability of a single tree is the fraction of samples of\n",
    "the same class in a leaf.\n"
   ]
  },
  {
   "cell_type": "code",
   "execution_count": 28,
   "metadata": {},
   "outputs": [
    {
     "data": {
      "text/plain": [
       "0.7829862666069562"
      ]
     },
     "execution_count": 28,
     "metadata": {},
     "output_type": "execute_result"
    }
   ],
   "source": [
    "roc_auc_score(y_test, clf.predict_proba(X_test)[:, 1])"
   ]
  },
  {
   "cell_type": "code",
   "execution_count": 29,
   "metadata": {},
   "outputs": [
    {
     "data": {
      "text/plain": [
       "0.999632892804699"
      ]
     },
     "execution_count": 29,
     "metadata": {},
     "output_type": "execute_result"
    }
   ],
   "source": [
    "# Compute the mean accuracy of training data\n",
    "clf.score(X_train, y_train)"
   ]
  },
  {
   "cell_type": "code",
   "execution_count": 30,
   "metadata": {},
   "outputs": [
    {
     "data": {
      "text/plain": [
       "0.972482113373693"
      ]
     },
     "execution_count": 30,
     "metadata": {},
     "output_type": "execute_result"
    }
   ],
   "source": [
    "# Compute the mean accuracy of testing data\n",
    "clf.score(X_test, y_test)"
   ]
  },
  {
   "cell_type": "markdown",
   "metadata": {},
   "source": [
    "## Multi-layer Perceptron classifier\n",
    "\n",
    "This model optimizes the log-loss function using LBFGS or stochastic gradient descent."
   ]
  },
  {
   "cell_type": "code",
   "execution_count": 31,
   "metadata": {},
   "outputs": [
    {
     "name": "stdout",
     "output_type": "stream",
     "text": [
      "            ABC      ABCGG  nAcid  nBase  nAromAtom  nAromBond  nAtom  \\\n",
      "5621  17.737138  14.840899      0      0          0          0     51   \n",
      "1857  25.301424  19.838948      2      2         17         17     60   \n",
      "1719   7.249407   6.952976      0      0          6          6     21   \n",
      "6267  17.596789  13.936634      0      0          6          6     54   \n",
      "6310   4.352030   4.798324      0      0          0          0     14   \n",
      "...         ...        ...    ...    ...        ...        ...    ...   \n",
      "2321   7.358797   6.909742      0      0          0          0     26   \n",
      "1040  13.889167  12.874192      0      0          0          0     28   \n",
      "2158  18.605421  15.128763      0      0         12         12     49   \n",
      "7716  13.084601  11.426396      0      0         11         11     23   \n",
      "2221   3.754314   4.057055      0      0          0          0     18   \n",
      "\n",
      "      nHeavyAtom  nSpiro  nBridgehead  ...     SRW09      SRW10     TSRW10  \\\n",
      "5621          21       0            0  ...  8.165364  10.653511  77.259581   \n",
      "1857          32       1            0  ...  7.874359  10.472573  85.419850   \n",
      "1719          10       0            0  ...  0.000000   8.899867  39.293282   \n",
      "6267          24       0            0  ...  6.580639   9.643485  70.885864   \n",
      "6310           7       0            0  ...  0.000000   7.486053  31.656710   \n",
      "...          ...     ...          ...  ...       ...        ...        ...   \n",
      "2321          10       0            0  ...  0.000000   8.815964  39.140584   \n",
      "1040          18       0            0  ...  7.711101   9.814055  67.456851   \n",
      "2158          24       0            0  ...  0.000000  10.171260  58.788019   \n",
      "7716          17       0            0  ...  6.783325   9.529303  63.313669   \n",
      "2221           6       0            0  ...  0.000000   7.131699  29.439488   \n",
      "\n",
      "              MW        AMW  WPath  WPol  Zagreb1  Zagreb2  mZagreb2  \n",
      "5621  306.201737   6.003956    787    44    134.0    174.0  4.166667  \n",
      "1857  428.232460   7.137208   3125    51    174.0    210.0  7.097222  \n",
      "1719  137.084064   6.527813    117    12     46.0     51.0  2.361111  \n",
      "6267  338.209324   6.263136   1767    29    110.0    122.0  5.805556  \n",
      "6310  122.013457   8.715247     50     5     24.0     23.0  1.916667  \n",
      "...          ...        ...    ...   ...      ...      ...       ...  \n",
      "2321  136.125201   5.235585    120    11     46.0     50.0  2.277778  \n",
      "1040  258.037567   9.215627    587    26     94.0    111.0  3.888889  \n",
      "2158  364.137612   7.431380   1510    38    126.0    145.0  5.000000  \n",
      "7716  436.772021  18.990088    560    22     86.0     98.0  3.722222  \n",
      "2221   88.088815   4.893823     32     3     20.0     18.0  1.583333  \n",
      "\n",
      "[5448 rows x 687 columns]\n",
      "            ABC      ABCGG  nAcid  nBase  nAromAtom  nAromBond  nAtom  \\\n",
      "5621  17.737138  14.840899      0      0          0          0     51   \n",
      "1857  25.301424  19.838948      2      2         17         17     60   \n",
      "1719   7.249407   6.952976      0      0          6          6     21   \n",
      "6267  17.596789  13.936634      0      0          6          6     54   \n",
      "6310   4.352030   4.798324      0      0          0          0     14   \n",
      "...         ...        ...    ...    ...        ...        ...    ...   \n",
      "2321   7.358797   6.909742      0      0          0          0     26   \n",
      "1040  13.889167  12.874192      0      0          0          0     28   \n",
      "2158  18.605421  15.128763      0      0         12         12     49   \n",
      "7716  13.084601  11.426396      0      0         11         11     23   \n",
      "2221   3.754314   4.057055      0      0          0          0     18   \n",
      "\n",
      "      nHeavyAtom  nSpiro  nBridgehead  ...     SRW09      SRW10     TSRW10  \\\n",
      "5621          21       0            0  ...  8.165364  10.653511  77.259581   \n",
      "1857          32       1            0  ...  7.874359  10.472573  85.419850   \n",
      "1719          10       0            0  ...  0.000000   8.899867  39.293282   \n",
      "6267          24       0            0  ...  6.580639   9.643485  70.885864   \n",
      "6310           7       0            0  ...  0.000000   7.486053  31.656710   \n",
      "...          ...     ...          ...  ...       ...        ...        ...   \n",
      "2321          10       0            0  ...  0.000000   8.815964  39.140584   \n",
      "1040          18       0            0  ...  7.711101   9.814055  67.456851   \n",
      "2158          24       0            0  ...  0.000000  10.171260  58.788019   \n",
      "7716          17       0            0  ...  6.783325   9.529303  63.313669   \n",
      "2221           6       0            0  ...  0.000000   7.131699  29.439488   \n",
      "\n",
      "              MW        AMW  WPath  WPol  Zagreb1  Zagreb2  mZagreb2  \n",
      "5621  306.201737   6.003956    787    44    134.0    174.0  4.166667  \n",
      "1857  428.232460   7.137208   3125    51    174.0    210.0  7.097222  \n",
      "1719  137.084064   6.527813    117    12     46.0     51.0  2.361111  \n",
      "6267  338.209324   6.263136   1767    29    110.0    122.0  5.805556  \n",
      "6310  122.013457   8.715247     50     5     24.0     23.0  1.916667  \n",
      "...          ...        ...    ...   ...      ...      ...       ...  \n",
      "2321  136.125201   5.235585    120    11     46.0     50.0  2.277778  \n",
      "1040  258.037567   9.215627    587    26     94.0    111.0  3.888889  \n",
      "2158  364.137612   7.431380   1510    38    126.0    145.0  5.000000  \n",
      "7716  436.772021  18.990088    560    22     86.0     98.0  3.722222  \n",
      "2221   88.088815   4.893823     32     3     20.0     18.0  1.583333  \n",
      "\n",
      "[5448 rows x 687 columns]\n"
     ]
    }
   ],
   "source": [
    "print(X_train)\n",
    "\n",
    "print(X_train.dropna())"
   ]
  },
  {
   "cell_type": "markdown",
   "metadata": {},
   "source": [
    "(The following cell may take a few minutes to complete.)"
   ]
  },
  {
   "cell_type": "code",
   "execution_count": 32,
   "metadata": {},
   "outputs": [],
   "source": [
    "# Create a Multi-layer Perceptron classifier with 6 hidden layers with corresponding number of neurons of\n",
    "# 1000,500,250,100,50,20\n",
    "clf = MLPClassifier(hidden_layer_sizes=[1000, 500, 250, 100, 50, 20]).fit(\n",
    "    X_train, y_train\n",
    ")"
   ]
  },
  {
   "cell_type": "markdown",
   "metadata": {},
   "source": [
    "### Receiver Operating Characteristic Curve (ROC AUC)\n",
    "\n",
    "Compute Area Under the Receiver Operating Characteristic Curve (ROC AUC) from predicted class probabilities."
   ]
  },
  {
   "cell_type": "code",
   "execution_count": 33,
   "metadata": {},
   "outputs": [
    {
     "data": {
      "text/plain": [
       "0.6349231228541574"
      ]
     },
     "execution_count": 33,
     "metadata": {},
     "output_type": "execute_result"
    }
   ],
   "source": [
    "roc_auc_score(y_test, clf.predict_proba(X_test)[:, 1])"
   ]
  },
  {
   "cell_type": "code",
   "execution_count": 34,
   "metadata": {},
   "outputs": [
    {
     "data": {
      "text/plain": [
       "0.9649412628487518"
      ]
     },
     "execution_count": 34,
     "metadata": {},
     "output_type": "execute_result"
    }
   ],
   "source": [
    "# Compute the mean accuracy of testing data\n",
    "clf.score(X_train, y_train)"
   ]
  },
  {
   "cell_type": "code",
   "execution_count": 35,
   "metadata": {},
   "outputs": [
    {
     "data": {
      "text/plain": [
       "0.9581728123280132"
      ]
     },
     "execution_count": 35,
     "metadata": {},
     "output_type": "execute_result"
    }
   ],
   "source": [
    "# Compute the mean accuracy of testing data\n",
    "clf.score(X_test, y_test)"
   ]
  },
  {
   "cell_type": "markdown",
   "metadata": {},
   "source": [
    "## Conclusion\n",
    "\n",
    "This tutorial demonstrated how to:\n",
    "\n",
    "- Work with chemical structure data using RDKit\n",
    "- Calculate molecular descriptors using `mordred`\n",
    "- Build and evaluate machine learning models for predicting drug activity\n",
    "- Use different model architectures (Random Forest and Neural Networks) for classification tasks\n",
    "- Assess model performance using ROC AUC scores and accuracy metrics\n",
    "\n",
    "## Clean up\n",
    "\n",
    "Remember to shut down your Jupyter Notebook environment and delete any unnecessary files or resources once you've completed the tutorial.\n"
   ]
  }
 ],
 "metadata": {
  "kernelspec": {
   "display_name": "nigms_sandbox_ud",
   "language": "python",
   "name": "python3"
  },
  "language_info": {
   "codemirror_mode": {
    "name": "ipython",
    "version": 3
   },
   "file_extension": ".py",
   "mimetype": "text/x-python",
   "name": "python",
   "nbconvert_exporter": "python",
   "pygments_lexer": "ipython3",
   "version": "3.9.19"
  }
 },
 "nbformat": 4,
 "nbformat_minor": 0
}
