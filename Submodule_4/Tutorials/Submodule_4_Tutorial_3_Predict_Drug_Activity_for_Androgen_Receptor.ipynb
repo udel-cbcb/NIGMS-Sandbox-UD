{
 "cells": [
  {
   "cell_type": "markdown",
   "metadata": {},
   "source": [
    "# Predict Drug Activity for Androgen Receptor\n",
    "\n",
    "Adapted from Tomasz K. Piskorz. [Predict Drug activity for androgen receptor](https://github.com/tkpiskorz/cheminformatics_notebooks/blob/master/AR/Androgen%20receptor.ipynb).\n",
    "\n",
    "## Overview\n",
    "\n",
    "This tutorial demonstrates how to use machine learning algorithms to predict drug activity for androgen receptor using Quantitative Structure–Property Relationship (QSPR) descriptors. The analysis uses the Tox21 dataset and molecular descriptors calculated using the `mordred` package to build predictive models.\n",
    "\n",
    "This tutorial uses a couple of packages we have not yet seen. You can learn more about them here:\n",
    "\n",
    "- RDKit: a Python [Open-Source Cheminformatics Software](https://www.rdkit.org/).\n",
    "- mordred: a python [molecular descriptor calculator](https://github.com/mordred-descriptor/mordred) package.\n",
    "\n",
    "## Learning Objectives\n",
    "\n",
    "- Learn how to work with chemical structure data using RDKit and `mordred`\n",
    "- Understand how to calculate and use molecular descriptors for drug activity prediction\n",
    "- Build and evaluate machine learning models for drug activity classification\n",
    "- Interpret model performance using ROC AUC scores and accuracy metrics\n",
    "\n",
    "### Tasks to complete\n",
    "\n",
    "Load and preprocess Tox21 dataset\n",
    "Calculate molecular descriptors using mordred\n",
    "Train and evaluate Random Forest model\n",
    "Train and evaluate Neural Network model\n",
    "Compare model performances\n",
    "\n",
    "## Prerequisites\n",
    "\n",
    "- A working Python environment and familiarity with Python\n",
    "- Basic understanding of machine learning concepts\n",
    "- Familiarity with pandas and numpy libraries\n",
    "- Knowledge of basic statistical concepts\n"
   ]
  },
  {
   "cell_type": "markdown",
   "metadata": {},
   "source": [
    "## Get Started\n",
    "\n",
    "- Please select kernel \"conda_tensorflow2_p310\" from SageMaker notebook instance.\n"
   ]
  },
  {
   "cell_type": "markdown",
   "metadata": {},
   "source": [
    "## Import necessary libraries\n",
    "\n",
    "\\*Note: You may get a deprecation warning regarding `IPython.core.display`. This shouldn't affect the results of the notebook.\n"
   ]
  },
  {
   "cell_type": "code",
   "execution_count": 37,
   "metadata": {},
   "outputs": [
    {
     "name": "stdout",
     "output_type": "stream",
     "text": [
      "Requirement already satisfied: mordredcommunity==2.0.6 in /Users/chenc/miniconda3/lib/python3.9/site-packages (2.0.6)\n",
      "Requirement already satisfied: rdkit in /Users/chenc/miniconda3/lib/python3.9/site-packages (from mordredcommunity==2.0.6) (2024.9.5)\n",
      "Requirement already satisfied: six in /Users/chenc/miniconda3/lib/python3.9/site-packages (from mordredcommunity==2.0.6) (1.16.0)\n",
      "Requirement already satisfied: numpy in /Users/chenc/miniconda3/lib/python3.9/site-packages (from mordredcommunity==2.0.6) (1.26.4)\n",
      "Requirement already satisfied: networkx in /Users/chenc/miniconda3/lib/python3.9/site-packages (from mordredcommunity==2.0.6) (2.8.5)\n",
      "Requirement already satisfied: packaging in /Users/chenc/miniconda3/lib/python3.9/site-packages (from mordredcommunity==2.0.6) (23.1)\n",
      "Requirement already satisfied: Pillow in /Users/chenc/miniconda3/lib/python3.9/site-packages (from rdkit->mordredcommunity==2.0.6) (9.5.0)\n",
      "Note: you may need to restart the kernel to use updated packages.\n"
     ]
    }
   ],
   "source": [
    "# Install the mordredcommunity library version 2.0.6 using pip package manager.\n",
    "%pip install mordredcommunity==2.0.6"
   ]
  },
  {
   "cell_type": "code",
   "execution_count": 38,
   "metadata": {},
   "outputs": [],
   "source": [
    "# Import the NumPy library for numerical operations, often used for array manipulation and mathematical functions.\n",
    "import numpy as np\n",
    "# Import the Pandas library for data manipulation and analysis, particularly for working with DataFrames.\n",
    "import pandas as pd\n",
    "# Import the display function from IPython.display to enable rich outputs like DataFrames in notebooks.\n",
    "from IPython.display import display\n",
    "# Import the Calculator class and the descriptors module from the mordred library. Mordred is used for molecular descriptor calculation.\n",
    "from mordred import Calculator, descriptors\n",
    "# Import the Missing class from mordred.error to handle missing descriptor values.\n",
    "from mordred.error import Missing\n",
    "# Import the Chem module from RDKit, which is the core module for chemical informatics tasks like molecule handling.\n",
    "from rdkit import Chem\n",
    "\n",
    "# Import PandasTools from rdkit.Chem. This module enhances Pandas DataFrames to work seamlessly with RDKit molecules.\n",
    "# It allows you to store and manipulate RDKit molecules directly within DataFrame columns.\n",
    "from rdkit.Chem import PandasTools\n",
    "# Import IPythonConsole from rdkit.Chem.Draw to enable the display of molecule images directly in IPython environments like Jupyter notebooks.\n",
    "from rdkit.Chem.Draw import IPythonConsole\n",
    "# Import the RandomForestClassifier from sklearn.ensemble. This is a machine learning model used for classification tasks.\n",
    "from sklearn.ensemble import RandomForestClassifier\n",
    "# Import the roc_auc_score function from sklearn.metrics to evaluate the performance of classification models, specifically using the Area Under the ROC Curve metric.\n",
    "from sklearn.metrics import roc_auc_score\n",
    "# Import the train_test_split function from sklearn.model_selection to split datasets into training and testing sets for model evaluation.\n",
    "from sklearn.model_selection import train_test_split\n",
    "# Import the MLPClassifier from sklearn.neural_network. This is a Multi-layer Perceptron classifier, a type of neural network used for classification.\n",
    "from sklearn.neural_network import MLPClassifier"
   ]
  },
  {
   "cell_type": "markdown",
   "metadata": {},
   "source": [
    "## _Toxicology in the 21st Century_ (Tox21) Dataset\n",
    "\n",
    "The _Toxicology in the 21st Century_ (Tox21) initiative created a public database measuring toxicity of compounds, which has been used in the 2014 Tox21 Data Challenge. This dataset contains qualitative toxicity measurements for 8k compounds on 12 different targets, including nuclear receptors and stress response pathways.\n",
    "\n",
    "The data file contains a csv table, in which columns below are used:\n",
    "\n",
    "- \"smiles\" - SMILES representation of the molecular structure\n",
    "- \"NR-XXX\" - Nuclear receptor signaling bioassays results\n",
    "  - [AR](https://pubchem.ncbi.nlm.nih.gov/bioassay/743040): qHTS assay to identify small molecule agonists of the androgen receptor (AR) signaling pathway using the MDA cell line.\n",
    "  - [AhR](https://pubchem.ncbi.nlm.nih.gov/bioassay/743122): qHTS assay to identify small molecule that activate the aryl hydrocarbon receptor (AhR) signaling pathway.\n",
    "  - [AR-LBD](https://pubchem.ncbi.nlm.nih.gov/bioassay/74353): qHTS assay to identify small molecule agonists of the androgen receptor (AR) signaling pathway.\n",
    "- [ER](https://pubchem.ncbi.nlm.nih.gov/bioassay/743079): qHTS assay to identify small molecule agonists of the estrogen receptor alpha (ER-alpha) signaling pathway using the BG1 cell line.\n",
    "- [ER-LBD](https://pubchem.ncbi.nlm.nih.gov/bioassay/743077): qHTS assay to identify small molecule agonists of the estrogen receptor alpha (ER-alpha) signaling pathway.\n",
    "- [aromatase](https://pubchem.ncbi.nlm.nih.gov/bioassay/743139): qHTS assay to identify aromatase inhibitors.\n",
    "- [PPAR-gamma](https://pubchem.ncbi.nlm.nih.gov/bioassay/743140): qHTS assay to identify small molecule agonists of the peroxisome proliferator-activated receptor gamma (PPARg) signaling pathway.\n",
    "\n",
    "- \"SR-XXX\" - Stress response bioassays results\n",
    "  - [ARE](https://pubchem.ncbi.nlm.nih.gov/bioassay/743219): qHTS assay for small molecule agonists of the antioxidant response element (ARE) signaling pathway.\n",
    "  - [ATAD5](https://pubchem.ncbi.nlm.nih.gov/bioassay/720516): qHTS assay for small molecules that induce genotoxicity in human embryonic kidney cells expressing luciferase-tagged ATAD5.\n",
    "  - [HSE](https://pubchem.ncbi.nlm.nih.gov/bioassay/743228): qHTS assay for small molecule activators of the heat shock response signaling pathway.\n",
    "  - [MMP](https://pubchem.ncbi.nlm.nih.gov/bioassay/720637): qHTS assay for small molecule disruptors of the mitochondrial membrane potential.\n",
    "  - [p53](https://pubchem.ncbi.nlm.nih.gov/bioassay/720552): qHTS assay for small molecule agonists of the p53 signaling pathway.\n",
    "\n",
    "Please refer to the links at https://tripod.nih.gov/tox21/challenge/data.jsp for details.\n",
    "\n",
    "### References\n",
    "\n",
    "Tox21 Challenge. https://tripod.nih.gov/tox21/challenge/\n"
   ]
  },
  {
   "cell_type": "markdown",
   "metadata": {},
   "source": [
    "### Load Tox21 dataset\n"
   ]
  },
  {
   "cell_type": "code",
   "execution_count": 39,
   "metadata": {},
   "outputs": [],
   "source": [
    "# Reads the tox21.csv file from the \"../../Data/\" directory into a pandas DataFrame called 'df'.\n",
    "df = pd.read_csv(\"../../Data/tox21.csv\")"
   ]
  },
  {
   "cell_type": "code",
   "execution_count": 40,
   "metadata": {},
   "outputs": [
    {
     "data": {
      "text/html": [
       "<div>\n",
       "<style scoped>\n",
       "    .dataframe tbody tr th:only-of-type {\n",
       "        vertical-align: middle;\n",
       "    }\n",
       "\n",
       "    .dataframe tbody tr th {\n",
       "        vertical-align: top;\n",
       "    }\n",
       "\n",
       "    .dataframe thead th {\n",
       "        text-align: right;\n",
       "    }\n",
       "</style>\n",
       "<table border=\"1\" class=\"dataframe\">\n",
       "  <thead>\n",
       "    <tr style=\"text-align: right;\">\n",
       "      <th></th>\n",
       "      <th>NR-AR</th>\n",
       "      <th>NR-AR-LBD</th>\n",
       "      <th>NR-AhR</th>\n",
       "      <th>NR-Aromatase</th>\n",
       "      <th>NR-ER</th>\n",
       "      <th>NR-ER-LBD</th>\n",
       "      <th>NR-PPAR-gamma</th>\n",
       "      <th>SR-ARE</th>\n",
       "      <th>SR-ATAD5</th>\n",
       "      <th>SR-HSE</th>\n",
       "      <th>SR-MMP</th>\n",
       "      <th>SR-p53</th>\n",
       "      <th>mol_id</th>\n",
       "      <th>smiles</th>\n",
       "    </tr>\n",
       "  </thead>\n",
       "  <tbody>\n",
       "    <tr>\n",
       "      <th>0</th>\n",
       "      <td>0.0</td>\n",
       "      <td>0.0</td>\n",
       "      <td>1.0</td>\n",
       "      <td>NaN</td>\n",
       "      <td>NaN</td>\n",
       "      <td>0.0</td>\n",
       "      <td>0.0</td>\n",
       "      <td>1.0</td>\n",
       "      <td>0.0</td>\n",
       "      <td>0.0</td>\n",
       "      <td>0.0</td>\n",
       "      <td>0.0</td>\n",
       "      <td>TOX3021</td>\n",
       "      <td>CCOc1ccc2nc(S(N)(=O)=O)sc2c1</td>\n",
       "    </tr>\n",
       "    <tr>\n",
       "      <th>1</th>\n",
       "      <td>0.0</td>\n",
       "      <td>0.0</td>\n",
       "      <td>0.0</td>\n",
       "      <td>0.0</td>\n",
       "      <td>0.0</td>\n",
       "      <td>0.0</td>\n",
       "      <td>0.0</td>\n",
       "      <td>NaN</td>\n",
       "      <td>0.0</td>\n",
       "      <td>NaN</td>\n",
       "      <td>0.0</td>\n",
       "      <td>0.0</td>\n",
       "      <td>TOX3020</td>\n",
       "      <td>CCN1C(=O)NC(c2ccccc2)C1=O</td>\n",
       "    </tr>\n",
       "    <tr>\n",
       "      <th>2</th>\n",
       "      <td>NaN</td>\n",
       "      <td>NaN</td>\n",
       "      <td>NaN</td>\n",
       "      <td>NaN</td>\n",
       "      <td>NaN</td>\n",
       "      <td>NaN</td>\n",
       "      <td>NaN</td>\n",
       "      <td>0.0</td>\n",
       "      <td>NaN</td>\n",
       "      <td>0.0</td>\n",
       "      <td>NaN</td>\n",
       "      <td>NaN</td>\n",
       "      <td>TOX3024</td>\n",
       "      <td>CC[C@]1(O)CC[C@H]2[C@@H]3CCC4=CCCC[C@@H]4[C@H]...</td>\n",
       "    </tr>\n",
       "    <tr>\n",
       "      <th>3</th>\n",
       "      <td>0.0</td>\n",
       "      <td>0.0</td>\n",
       "      <td>0.0</td>\n",
       "      <td>0.0</td>\n",
       "      <td>0.0</td>\n",
       "      <td>0.0</td>\n",
       "      <td>0.0</td>\n",
       "      <td>NaN</td>\n",
       "      <td>0.0</td>\n",
       "      <td>NaN</td>\n",
       "      <td>0.0</td>\n",
       "      <td>0.0</td>\n",
       "      <td>TOX3027</td>\n",
       "      <td>CCCN(CC)C(CC)C(=O)Nc1c(C)cccc1C</td>\n",
       "    </tr>\n",
       "    <tr>\n",
       "      <th>4</th>\n",
       "      <td>0.0</td>\n",
       "      <td>0.0</td>\n",
       "      <td>0.0</td>\n",
       "      <td>0.0</td>\n",
       "      <td>0.0</td>\n",
       "      <td>0.0</td>\n",
       "      <td>0.0</td>\n",
       "      <td>0.0</td>\n",
       "      <td>0.0</td>\n",
       "      <td>0.0</td>\n",
       "      <td>0.0</td>\n",
       "      <td>0.0</td>\n",
       "      <td>TOX20800</td>\n",
       "      <td>CC(O)(P(=O)(O)O)P(=O)(O)O</td>\n",
       "    </tr>\n",
       "    <tr>\n",
       "      <th>5</th>\n",
       "      <td>0.0</td>\n",
       "      <td>0.0</td>\n",
       "      <td>0.0</td>\n",
       "      <td>0.0</td>\n",
       "      <td>0.0</td>\n",
       "      <td>0.0</td>\n",
       "      <td>0.0</td>\n",
       "      <td>NaN</td>\n",
       "      <td>0.0</td>\n",
       "      <td>0.0</td>\n",
       "      <td>0.0</td>\n",
       "      <td>0.0</td>\n",
       "      <td>TOX5110</td>\n",
       "      <td>CC(C)(C)OOC(C)(C)CCC(C)(C)OOC(C)(C)C</td>\n",
       "    </tr>\n",
       "    <tr>\n",
       "      <th>6</th>\n",
       "      <td>0.0</td>\n",
       "      <td>0.0</td>\n",
       "      <td>0.0</td>\n",
       "      <td>0.0</td>\n",
       "      <td>0.0</td>\n",
       "      <td>0.0</td>\n",
       "      <td>0.0</td>\n",
       "      <td>0.0</td>\n",
       "      <td>0.0</td>\n",
       "      <td>0.0</td>\n",
       "      <td>0.0</td>\n",
       "      <td>0.0</td>\n",
       "      <td>TOX6619</td>\n",
       "      <td>O=S(=O)(Cl)c1ccccc1</td>\n",
       "    </tr>\n",
       "    <tr>\n",
       "      <th>7</th>\n",
       "      <td>0.0</td>\n",
       "      <td>NaN</td>\n",
       "      <td>0.0</td>\n",
       "      <td>NaN</td>\n",
       "      <td>1.0</td>\n",
       "      <td>NaN</td>\n",
       "      <td>NaN</td>\n",
       "      <td>1.0</td>\n",
       "      <td>0.0</td>\n",
       "      <td>1.0</td>\n",
       "      <td>0.0</td>\n",
       "      <td>1.0</td>\n",
       "      <td>TOX25232</td>\n",
       "      <td>O=C(O)Cc1cc(I)c(Oc2ccc(O)c(I)c2)c(I)c1</td>\n",
       "    </tr>\n",
       "    <tr>\n",
       "      <th>8</th>\n",
       "      <td>0.0</td>\n",
       "      <td>0.0</td>\n",
       "      <td>0.0</td>\n",
       "      <td>0.0</td>\n",
       "      <td>0.0</td>\n",
       "      <td>0.0</td>\n",
       "      <td>0.0</td>\n",
       "      <td>0.0</td>\n",
       "      <td>0.0</td>\n",
       "      <td>0.0</td>\n",
       "      <td>NaN</td>\n",
       "      <td>0.0</td>\n",
       "      <td>TOX22514</td>\n",
       "      <td>OC[C@H](O)[C@@H](O)[C@H](O)CO</td>\n",
       "    </tr>\n",
       "    <tr>\n",
       "      <th>9</th>\n",
       "      <td>NaN</td>\n",
       "      <td>NaN</td>\n",
       "      <td>NaN</td>\n",
       "      <td>NaN</td>\n",
       "      <td>NaN</td>\n",
       "      <td>NaN</td>\n",
       "      <td>NaN</td>\n",
       "      <td>0.0</td>\n",
       "      <td>NaN</td>\n",
       "      <td>0.0</td>\n",
       "      <td>NaN</td>\n",
       "      <td>NaN</td>\n",
       "      <td>TOX22517</td>\n",
       "      <td>CCCCCCCC(=O)[O-].CCCCCCCC(=O)[O-].[Zn+2]</td>\n",
       "    </tr>\n",
       "  </tbody>\n",
       "</table>\n",
       "</div>"
      ],
      "text/plain": [
       "   NR-AR  NR-AR-LBD  NR-AhR  NR-Aromatase  NR-ER  NR-ER-LBD  NR-PPAR-gamma  \\\n",
       "0    0.0        0.0     1.0           NaN    NaN        0.0            0.0   \n",
       "1    0.0        0.0     0.0           0.0    0.0        0.0            0.0   \n",
       "2    NaN        NaN     NaN           NaN    NaN        NaN            NaN   \n",
       "3    0.0        0.0     0.0           0.0    0.0        0.0            0.0   \n",
       "4    0.0        0.0     0.0           0.0    0.0        0.0            0.0   \n",
       "5    0.0        0.0     0.0           0.0    0.0        0.0            0.0   \n",
       "6    0.0        0.0     0.0           0.0    0.0        0.0            0.0   \n",
       "7    0.0        NaN     0.0           NaN    1.0        NaN            NaN   \n",
       "8    0.0        0.0     0.0           0.0    0.0        0.0            0.0   \n",
       "9    NaN        NaN     NaN           NaN    NaN        NaN            NaN   \n",
       "\n",
       "   SR-ARE  SR-ATAD5  SR-HSE  SR-MMP  SR-p53    mol_id  \\\n",
       "0     1.0       0.0     0.0     0.0     0.0   TOX3021   \n",
       "1     NaN       0.0     NaN     0.0     0.0   TOX3020   \n",
       "2     0.0       NaN     0.0     NaN     NaN   TOX3024   \n",
       "3     NaN       0.0     NaN     0.0     0.0   TOX3027   \n",
       "4     0.0       0.0     0.0     0.0     0.0  TOX20800   \n",
       "5     NaN       0.0     0.0     0.0     0.0   TOX5110   \n",
       "6     0.0       0.0     0.0     0.0     0.0   TOX6619   \n",
       "7     1.0       0.0     1.0     0.0     1.0  TOX25232   \n",
       "8     0.0       0.0     0.0     NaN     0.0  TOX22514   \n",
       "9     0.0       NaN     0.0     NaN     NaN  TOX22517   \n",
       "\n",
       "                                              smiles  \n",
       "0                       CCOc1ccc2nc(S(N)(=O)=O)sc2c1  \n",
       "1                          CCN1C(=O)NC(c2ccccc2)C1=O  \n",
       "2  CC[C@]1(O)CC[C@H]2[C@@H]3CCC4=CCCC[C@@H]4[C@H]...  \n",
       "3                    CCCN(CC)C(CC)C(=O)Nc1c(C)cccc1C  \n",
       "4                          CC(O)(P(=O)(O)O)P(=O)(O)O  \n",
       "5               CC(C)(C)OOC(C)(C)CCC(C)(C)OOC(C)(C)C  \n",
       "6                                O=S(=O)(Cl)c1ccccc1  \n",
       "7             O=C(O)Cc1cc(I)c(Oc2ccc(O)c(I)c2)c(I)c1  \n",
       "8                      OC[C@H](O)[C@@H](O)[C@H](O)CO  \n",
       "9           CCCCCCCC(=O)[O-].CCCCCCCC(=O)[O-].[Zn+2]  "
      ]
     },
     "execution_count": 40,
     "metadata": {},
     "output_type": "execute_result"
    }
   ],
   "source": [
    "# Display the first 10 rows of the DataFrame 'df' to get a quick overview of the data.\n",
    "df.head(10)"
   ]
  },
  {
   "cell_type": "code",
   "execution_count": 41,
   "metadata": {},
   "outputs": [
    {
     "data": {
      "text/html": [
       "<div>\n",
       "<style scoped>\n",
       "    .dataframe tbody tr th:only-of-type {\n",
       "        vertical-align: middle;\n",
       "    }\n",
       "\n",
       "    .dataframe tbody tr th {\n",
       "        vertical-align: top;\n",
       "    }\n",
       "\n",
       "    .dataframe thead th {\n",
       "        text-align: right;\n",
       "    }\n",
       "</style>\n",
       "<table border=\"1\" class=\"dataframe\">\n",
       "  <thead>\n",
       "    <tr style=\"text-align: right;\">\n",
       "      <th></th>\n",
       "      <th>NR-AR</th>\n",
       "      <th>NR-AR-LBD</th>\n",
       "      <th>NR-AhR</th>\n",
       "      <th>NR-Aromatase</th>\n",
       "      <th>NR-ER</th>\n",
       "      <th>NR-ER-LBD</th>\n",
       "      <th>NR-PPAR-gamma</th>\n",
       "      <th>SR-ARE</th>\n",
       "      <th>SR-ATAD5</th>\n",
       "      <th>SR-HSE</th>\n",
       "      <th>SR-MMP</th>\n",
       "      <th>SR-p53</th>\n",
       "    </tr>\n",
       "  </thead>\n",
       "  <tbody>\n",
       "    <tr>\n",
       "      <th>count</th>\n",
       "      <td>7265.000000</td>\n",
       "      <td>6758.000000</td>\n",
       "      <td>6549.000000</td>\n",
       "      <td>5821.000000</td>\n",
       "      <td>6193.000000</td>\n",
       "      <td>6955.000000</td>\n",
       "      <td>6450.000000</td>\n",
       "      <td>5832.000000</td>\n",
       "      <td>7072.000000</td>\n",
       "      <td>6467.000000</td>\n",
       "      <td>5810.000000</td>\n",
       "      <td>6774.000000</td>\n",
       "    </tr>\n",
       "    <tr>\n",
       "      <th>mean</th>\n",
       "      <td>0.042533</td>\n",
       "      <td>0.035070</td>\n",
       "      <td>0.117270</td>\n",
       "      <td>0.051538</td>\n",
       "      <td>0.128048</td>\n",
       "      <td>0.050324</td>\n",
       "      <td>0.028837</td>\n",
       "      <td>0.161523</td>\n",
       "      <td>0.037330</td>\n",
       "      <td>0.057523</td>\n",
       "      <td>0.158003</td>\n",
       "      <td>0.062445</td>\n",
       "    </tr>\n",
       "    <tr>\n",
       "      <th>std</th>\n",
       "      <td>0.201815</td>\n",
       "      <td>0.183969</td>\n",
       "      <td>0.321766</td>\n",
       "      <td>0.221110</td>\n",
       "      <td>0.334170</td>\n",
       "      <td>0.218627</td>\n",
       "      <td>0.167362</td>\n",
       "      <td>0.368044</td>\n",
       "      <td>0.189583</td>\n",
       "      <td>0.232857</td>\n",
       "      <td>0.364776</td>\n",
       "      <td>0.241979</td>\n",
       "    </tr>\n",
       "    <tr>\n",
       "      <th>min</th>\n",
       "      <td>0.000000</td>\n",
       "      <td>0.000000</td>\n",
       "      <td>0.000000</td>\n",
       "      <td>0.000000</td>\n",
       "      <td>0.000000</td>\n",
       "      <td>0.000000</td>\n",
       "      <td>0.000000</td>\n",
       "      <td>0.000000</td>\n",
       "      <td>0.000000</td>\n",
       "      <td>0.000000</td>\n",
       "      <td>0.000000</td>\n",
       "      <td>0.000000</td>\n",
       "    </tr>\n",
       "    <tr>\n",
       "      <th>25%</th>\n",
       "      <td>0.000000</td>\n",
       "      <td>0.000000</td>\n",
       "      <td>0.000000</td>\n",
       "      <td>0.000000</td>\n",
       "      <td>0.000000</td>\n",
       "      <td>0.000000</td>\n",
       "      <td>0.000000</td>\n",
       "      <td>0.000000</td>\n",
       "      <td>0.000000</td>\n",
       "      <td>0.000000</td>\n",
       "      <td>0.000000</td>\n",
       "      <td>0.000000</td>\n",
       "    </tr>\n",
       "    <tr>\n",
       "      <th>50%</th>\n",
       "      <td>0.000000</td>\n",
       "      <td>0.000000</td>\n",
       "      <td>0.000000</td>\n",
       "      <td>0.000000</td>\n",
       "      <td>0.000000</td>\n",
       "      <td>0.000000</td>\n",
       "      <td>0.000000</td>\n",
       "      <td>0.000000</td>\n",
       "      <td>0.000000</td>\n",
       "      <td>0.000000</td>\n",
       "      <td>0.000000</td>\n",
       "      <td>0.000000</td>\n",
       "    </tr>\n",
       "    <tr>\n",
       "      <th>75%</th>\n",
       "      <td>0.000000</td>\n",
       "      <td>0.000000</td>\n",
       "      <td>0.000000</td>\n",
       "      <td>0.000000</td>\n",
       "      <td>0.000000</td>\n",
       "      <td>0.000000</td>\n",
       "      <td>0.000000</td>\n",
       "      <td>0.000000</td>\n",
       "      <td>0.000000</td>\n",
       "      <td>0.000000</td>\n",
       "      <td>0.000000</td>\n",
       "      <td>0.000000</td>\n",
       "    </tr>\n",
       "    <tr>\n",
       "      <th>max</th>\n",
       "      <td>1.000000</td>\n",
       "      <td>1.000000</td>\n",
       "      <td>1.000000</td>\n",
       "      <td>1.000000</td>\n",
       "      <td>1.000000</td>\n",
       "      <td>1.000000</td>\n",
       "      <td>1.000000</td>\n",
       "      <td>1.000000</td>\n",
       "      <td>1.000000</td>\n",
       "      <td>1.000000</td>\n",
       "      <td>1.000000</td>\n",
       "      <td>1.000000</td>\n",
       "    </tr>\n",
       "  </tbody>\n",
       "</table>\n",
       "</div>"
      ],
      "text/plain": [
       "             NR-AR    NR-AR-LBD       NR-AhR  NR-Aromatase        NR-ER  \\\n",
       "count  7265.000000  6758.000000  6549.000000   5821.000000  6193.000000   \n",
       "mean      0.042533     0.035070     0.117270      0.051538     0.128048   \n",
       "std       0.201815     0.183969     0.321766      0.221110     0.334170   \n",
       "min       0.000000     0.000000     0.000000      0.000000     0.000000   \n",
       "25%       0.000000     0.000000     0.000000      0.000000     0.000000   \n",
       "50%       0.000000     0.000000     0.000000      0.000000     0.000000   \n",
       "75%       0.000000     0.000000     0.000000      0.000000     0.000000   \n",
       "max       1.000000     1.000000     1.000000      1.000000     1.000000   \n",
       "\n",
       "         NR-ER-LBD  NR-PPAR-gamma       SR-ARE     SR-ATAD5       SR-HSE  \\\n",
       "count  6955.000000    6450.000000  5832.000000  7072.000000  6467.000000   \n",
       "mean      0.050324       0.028837     0.161523     0.037330     0.057523   \n",
       "std       0.218627       0.167362     0.368044     0.189583     0.232857   \n",
       "min       0.000000       0.000000     0.000000     0.000000     0.000000   \n",
       "25%       0.000000       0.000000     0.000000     0.000000     0.000000   \n",
       "50%       0.000000       0.000000     0.000000     0.000000     0.000000   \n",
       "75%       0.000000       0.000000     0.000000     0.000000     0.000000   \n",
       "max       1.000000       1.000000     1.000000     1.000000     1.000000   \n",
       "\n",
       "            SR-MMP       SR-p53  \n",
       "count  5810.000000  6774.000000  \n",
       "mean      0.158003     0.062445  \n",
       "std       0.364776     0.241979  \n",
       "min       0.000000     0.000000  \n",
       "25%       0.000000     0.000000  \n",
       "50%       0.000000     0.000000  \n",
       "75%       0.000000     0.000000  \n",
       "max       1.000000     1.000000  "
      ]
     },
     "execution_count": 41,
     "metadata": {},
     "output_type": "execute_result"
    }
   ],
   "source": [
    "# Show descriptive summary statistics for the DataFrame 'df'.\n",
    "# This will include count, mean, std, min, 25%, 50%, 75%, max for numerical columns.\n",
    "# For categorical columns, it will include count, unique, top, and freq.\n",
    "df.describe()"
   ]
  },
  {
   "cell_type": "code",
   "execution_count": 42,
   "metadata": {},
   "outputs": [
    {
     "data": {
      "text/plain": [
       "['NR-AR',\n",
       " 'NR-AR-LBD',\n",
       " 'NR-AhR',\n",
       " 'NR-Aromatase',\n",
       " 'NR-ER',\n",
       " 'NR-ER-LBD',\n",
       " 'NR-PPAR-gamma',\n",
       " 'SR-ARE',\n",
       " 'SR-ATAD5',\n",
       " 'SR-HSE',\n",
       " 'SR-MMP',\n",
       " 'SR-p53',\n",
       " 'mol_id',\n",
       " 'smiles']"
      ]
     },
     "execution_count": 42,
     "metadata": {},
     "output_type": "execute_result"
    }
   ],
   "source": [
    "# Get column names of the DataFrame 'df' and convert them to a list.\n",
    "list(df.columns)"
   ]
  },
  {
   "cell_type": "code",
   "execution_count": 43,
   "metadata": {},
   "outputs": [
    {
     "data": {
      "text/html": [
       "<div>\n",
       "<style scoped>\n",
       "    .dataframe tbody tr th:only-of-type {\n",
       "        vertical-align: middle;\n",
       "    }\n",
       "\n",
       "    .dataframe tbody tr th {\n",
       "        vertical-align: top;\n",
       "    }\n",
       "\n",
       "    .dataframe thead th {\n",
       "        text-align: right;\n",
       "    }\n",
       "</style>\n",
       "<table border=\"1\" class=\"dataframe\">\n",
       "  <thead>\n",
       "    <tr style=\"text-align: right;\">\n",
       "      <th></th>\n",
       "      <th>NR-AR</th>\n",
       "      <th>smiles</th>\n",
       "    </tr>\n",
       "  </thead>\n",
       "  <tbody>\n",
       "    <tr>\n",
       "      <th>0</th>\n",
       "      <td>0.0</td>\n",
       "      <td>CCOc1ccc2nc(S(N)(=O)=O)sc2c1</td>\n",
       "    </tr>\n",
       "    <tr>\n",
       "      <th>1</th>\n",
       "      <td>0.0</td>\n",
       "      <td>CCN1C(=O)NC(c2ccccc2)C1=O</td>\n",
       "    </tr>\n",
       "    <tr>\n",
       "      <th>2</th>\n",
       "      <td>NaN</td>\n",
       "      <td>CC[C@]1(O)CC[C@H]2[C@@H]3CCC4=CCCC[C@@H]4[C@H]...</td>\n",
       "    </tr>\n",
       "    <tr>\n",
       "      <th>3</th>\n",
       "      <td>0.0</td>\n",
       "      <td>CCCN(CC)C(CC)C(=O)Nc1c(C)cccc1C</td>\n",
       "    </tr>\n",
       "    <tr>\n",
       "      <th>4</th>\n",
       "      <td>0.0</td>\n",
       "      <td>CC(O)(P(=O)(O)O)P(=O)(O)O</td>\n",
       "    </tr>\n",
       "  </tbody>\n",
       "</table>\n",
       "</div>"
      ],
      "text/plain": [
       "   NR-AR                                             smiles\n",
       "0    0.0                       CCOc1ccc2nc(S(N)(=O)=O)sc2c1\n",
       "1    0.0                          CCN1C(=O)NC(c2ccccc2)C1=O\n",
       "2    NaN  CC[C@]1(O)CC[C@H]2[C@@H]3CCC4=CCCC[C@@H]4[C@H]...\n",
       "3    0.0                    CCCN(CC)C(CC)C(=O)Nc1c(C)cccc1C\n",
       "4    0.0                          CC(O)(P(=O)(O)O)P(=O)(O)O"
      ]
     },
     "execution_count": 43,
     "metadata": {},
     "output_type": "execute_result"
    }
   ],
   "source": [
    "# Selects only the columns 'NR-AR' and 'smiles' from the DataFrame 'df'.\n",
    "df = df[[\"NR-AR\", \"smiles\"]]\n",
    "# Displays the first few rows of the DataFrame 'df' with the selected columns.\n",
    "df.head()"
   ]
  },
  {
   "cell_type": "code",
   "execution_count": 44,
   "metadata": {},
   "outputs": [
    {
     "data": {
      "text/plain": [
       "(7831, 2)"
      ]
     },
     "execution_count": 44,
     "metadata": {},
     "output_type": "execute_result"
    }
   ],
   "source": [
    "# Get the shape of the DataFrame 'df' (number of rows and columns).\n",
    "df.shape"
   ]
  },
  {
   "cell_type": "code",
   "execution_count": 45,
   "metadata": {},
   "outputs": [
    {
     "data": {
      "text/html": [
       "<div>\n",
       "<style scoped>\n",
       "    .dataframe tbody tr th:only-of-type {\n",
       "        vertical-align: middle;\n",
       "    }\n",
       "\n",
       "    .dataframe tbody tr th {\n",
       "        vertical-align: top;\n",
       "    }\n",
       "\n",
       "    .dataframe thead th {\n",
       "        text-align: right;\n",
       "    }\n",
       "</style>\n",
       "<table border=\"1\" class=\"dataframe\">\n",
       "  <thead>\n",
       "    <tr style=\"text-align: right;\">\n",
       "      <th></th>\n",
       "      <th>NR-AR</th>\n",
       "      <th>smiles</th>\n",
       "      <th>ROMol</th>\n",
       "    </tr>\n",
       "  </thead>\n",
       "  <tbody>\n",
       "    <tr>\n",
       "      <th>0</th>\n",
       "      <td>0.0</td>\n",
       "      <td>CCOc1ccc2nc(S(N)(=O)=O)sc2c1</td>\n",
       "      <td>&lt;rdkit.Chem.rdchem.Mol object at 0x7f976ab7bba0&gt;</td>\n",
       "    </tr>\n",
       "    <tr>\n",
       "      <th>1</th>\n",
       "      <td>0.0</td>\n",
       "      <td>CCN1C(=O)NC(c2ccccc2)C1=O</td>\n",
       "      <td>&lt;rdkit.Chem.rdchem.Mol object at 0x7f976ab7bc10&gt;</td>\n",
       "    </tr>\n",
       "    <tr>\n",
       "      <th>2</th>\n",
       "      <td>NaN</td>\n",
       "      <td>CC[C@]1(O)CC[C@H]2[C@@H]3CCC4=CCCC[C@@H]4[C@H]...</td>\n",
       "      <td>&lt;rdkit.Chem.rdchem.Mol object at 0x7f976ab7ba50&gt;</td>\n",
       "    </tr>\n",
       "    <tr>\n",
       "      <th>3</th>\n",
       "      <td>0.0</td>\n",
       "      <td>CCCN(CC)C(CC)C(=O)Nc1c(C)cccc1C</td>\n",
       "      <td>&lt;rdkit.Chem.rdchem.Mol object at 0x7f976ab7bc80&gt;</td>\n",
       "    </tr>\n",
       "    <tr>\n",
       "      <th>4</th>\n",
       "      <td>0.0</td>\n",
       "      <td>CC(O)(P(=O)(O)O)P(=O)(O)O</td>\n",
       "      <td>&lt;rdkit.Chem.rdchem.Mol object at 0x7f976ab7bcf0&gt;</td>\n",
       "    </tr>\n",
       "  </tbody>\n",
       "</table>\n",
       "</div>"
      ],
      "text/plain": [
       "   NR-AR                                             smiles  \\\n",
       "0    0.0                       CCOc1ccc2nc(S(N)(=O)=O)sc2c1   \n",
       "1    0.0                          CCN1C(=O)NC(c2ccccc2)C1=O   \n",
       "2    NaN  CC[C@]1(O)CC[C@H]2[C@@H]3CCC4=CCCC[C@@H]4[C@H]...   \n",
       "3    0.0                    CCCN(CC)C(CC)C(=O)Nc1c(C)cccc1C   \n",
       "4    0.0                          CC(O)(P(=O)(O)O)P(=O)(O)O   \n",
       "\n",
       "                                              ROMol  \n",
       "0  <rdkit.Chem.rdchem.Mol object at 0x7f976ab7bba0>  \n",
       "1  <rdkit.Chem.rdchem.Mol object at 0x7f976ab7bc10>  \n",
       "2  <rdkit.Chem.rdchem.Mol object at 0x7f976ab7ba50>  \n",
       "3  <rdkit.Chem.rdchem.Mol object at 0x7f976ab7bc80>  \n",
       "4  <rdkit.Chem.rdchem.Mol object at 0x7f976ab7bcf0>  "
      ]
     },
     "execution_count": 45,
     "metadata": {},
     "output_type": "execute_result"
    }
   ],
   "source": [
    "# Converts the molecules contained in the column \"smilesCol\" to RDKit molecule objects and adds them to the DataFrame \"df\".\n",
    "# This function also allows for the optional computation and storage of molecular fingerprints to speed up substructure searching.\n",
    "from rdkit import RDLogger\n",
    "\n",
    "# Suppress RDKit warnings to keep the output cleaner.\n",
    "RDLogger.DisableLog('rdApp.warning')  # Disables RDKit warning messages.\n",
    "RDLogger.DisableLog('rdApp.error')    # Disables RDKit error messages as well (optional, but good for cleaner output).\n",
    "\n",
    "PandasTools.AddMoleculeColumnToFrame(df, smilesCol=\"smiles\") # Uses PandasTools to add a new column of RDKit molecule objects to the DataFrame 'df'. The molecules are created from the SMILES strings in the column named \"smiles\".\n",
    "df.head() # Displays the first few rows of the DataFrame 'df' to show the newly added molecule column."
   ]
  },
  {
   "cell_type": "code",
   "execution_count": 46,
   "metadata": {},
   "outputs": [
    {
     "data": {
      "text/plain": [
       "(7258, 3)"
      ]
     },
     "execution_count": 46,
     "metadata": {},
     "output_type": "execute_result"
    }
   ],
   "source": [
    "# Remove rows from the DataFrame 'df' where the 'ROMol' column contains missing values (NaN).\n",
    "df = df[~df[\"ROMol\"].isnull()]\n",
    "# Remove rows from the DataFrame 'df' where the 'NR-AR' column contains missing values (NaN).\n",
    "df = df[~df[\"NR-AR\"].isnull()]\n",
    "# Print the shape (number of rows and columns) of the DataFrame 'df' after removing rows with missing values.\n",
    "df.shape"
   ]
  },
  {
   "cell_type": "markdown",
   "metadata": {},
   "source": [
    "We can see 566 rows with missing values (NaN) are removed.\n"
   ]
  },
  {
   "cell_type": "code",
   "execution_count": 47,
   "metadata": {},
   "outputs": [
    {
     "data": {
      "image/png": "[encoded data removed]",
      "text/plain": [
       "<IPython.core.display.Image object>"
      ]
     },
     "metadata": {},
     "output_type": "display_data"
    }
   ],
   "source": [
    "# Use RDKit PandasTools to generate a grid image of molecules from a Pandas DataFrame.\n",
    "display(\n",
    "    PandasTools.FrameToGridImage(\n",
    "        # Filter the DataFrame 'df' to select rows where the 'NR-AR' column is equal to 1.\n",
    "        df[df[\"NR-AR\"] == 1].head(5),\n",
    "        # Specify that the 'NR-AR' column should be used to generate legends for each molecule in the grid.\n",
    "        legendsCol=\"NR-AR\",\n",
    "        # Set the number of molecules to be displayed in each row of the grid to 5.\n",
    "        molsPerRow=5\n",
    "    )\n",
    ")"
   ]
  },
  {
   "cell_type": "code",
   "execution_count": 48,
   "metadata": {},
   "outputs": [
    {
     "data": {
      "image/png": "[encoded data removed]",
      "text/plain": [
       "<IPython.core.display.Image object>"
      ]
     },
     "metadata": {},
     "output_type": "display_data"
    }
   ],
   "source": [
    "# Display a grid image of molecules from a Pandas DataFrame where the 'NR-AR' column is equal to 0.\n",
    "display(\n",
    "    PandasTools.FrameToGridImage(\n",
    "        # Filter the DataFrame 'df' to include only rows where the 'NR-AR' column is 0.\n",
    "        df[df[\"NR-AR\"] == 0].head(5),\n",
    "        # Specify that the 'NR-AR' column should be used for legends in the grid image.\n",
    "        legendsCol=\"NR-AR\",\n",
    "        # Set the number of molecules to display per row in the grid to 5.\n",
    "        molsPerRow=5\n",
    "    )\n",
    ")"
   ]
  },
  {
   "cell_type": "code",
   "execution_count": 49,
   "metadata": {},
   "outputs": [
    {
     "data": {
      "text/plain": [
       "array([0., 1.])"
      ]
     },
     "execution_count": 49,
     "metadata": {},
     "output_type": "execute_result"
    }
   ],
   "source": [
    "# Get the unique values from the 'NR-AR' column of the DataFrame 'df'. This effectively counts the number of distinct elements in that column.\n",
    "df[\"NR-AR\"].unique()"
   ]
  },
  {
   "cell_type": "code",
   "execution_count": 50,
   "metadata": {},
   "outputs": [
    {
     "data": {
      "text/plain": [
       "7258"
      ]
     },
     "execution_count": 50,
     "metadata": {},
     "output_type": "execute_result"
    }
   ],
   "source": [
    "# Counts the number of non-missing values in the 'NR-AR' column of the DataFrame 'df'.\n",
    "df[\"NR-AR\"].count()"
   ]
  },
  {
   "cell_type": "code",
   "execution_count": 51,
   "metadata": {},
   "outputs": [
    {
     "data": {
      "text/plain": [
       "308.0"
      ]
     },
     "execution_count": 51,
     "metadata": {},
     "output_type": "execute_result"
    }
   ],
   "source": [
    "# Calculate and return the sum of the values in the 'NR-AR' column of the DataFrame 'df'.\n",
    "df[\"NR-AR\"].sum()"
   ]
  },
  {
   "cell_type": "markdown",
   "metadata": {},
   "source": [
    "## What is a molecular descriptor?\n",
    "\n",
    "Molecular descriptors can be defined as mathematical representations of molecules’ properties that are generated by algorithms. The numerical values of molecular descriptors are used to quantitatively describe the physical and chemical information of the molecules. They can be used to predict the\n",
    "activity, toxicity, and other properties resulting from the\n",
    "chemical structures of compounds.\n"
   ]
  },
  {
   "cell_type": "code",
   "execution_count": 52,
   "metadata": {},
   "outputs": [],
   "source": [
    "# Create a descriptor calculator object named 'calc' that will compute all descriptors listed in the 'descriptors' variable.\n",
    "# The argument 'ignore_3D=True' specifies that 3D descriptors should be excluded from the calculation.\n",
    "calc = Calculator(descriptors, ignore_3D=True)"
   ]
  },
  {
   "cell_type": "code",
   "execution_count": 53,
   "metadata": {},
   "outputs": [
    {
     "data": {
      "image/png": "[encoded data removed]",
      "text/plain": [
       "<rdkit.Chem.rdchem.Mol at 0x7f976ab7bba0>"
      ]
     },
     "execution_count": 53,
     "metadata": {},
     "output_type": "execute_result"
    }
   ],
   "source": [
    "# Accesses the first element of the 'ROMol' column in the DataFrame 'df'.\n",
    "mol = df[\"ROMol\"][0]\n",
    "# Displays the 'mol' object, which likely represents a molecule loaded by RDKit.\n",
    "mol"
   ]
  },
  {
   "cell_type": "markdown",
   "metadata": {},
   "source": [
    "(The following step may take a few minutes to complete.)\n"
   ]
  },
  {
   "cell_type": "code",
   "execution_count": 54,
   "metadata": {},
   "outputs": [
    {
     "name": "stderr",
     "output_type": "stream",
     "text": [
      "100%|█████████████████████████████████████████████████████████████████████████████████████████████████████████████████████| 7258/7258 [01:15<00:00, 95.62it/s]\n"
     ]
    }
   ],
   "source": [
    "# Uses the 'pandas' method from the 'calc' object to calculate molecular properties for multiple molecules in the 'ROMol' column of DataFrame 'df'. Returns the results as a pandas DataFrame named 'df2'.\n",
    "df2 = calc.pandas(df[\"ROMol\"])"
   ]
  },
  {
   "cell_type": "code",
   "execution_count": 55,
   "metadata": {},
   "outputs": [
    {
     "data": {
      "text/html": [
       "<div>\n",
       "<style scoped>\n",
       "    .dataframe tbody tr th:only-of-type {\n",
       "        vertical-align: middle;\n",
       "    }\n",
       "\n",
       "    .dataframe tbody tr th {\n",
       "        vertical-align: top;\n",
       "    }\n",
       "\n",
       "    .dataframe thead th {\n",
       "        text-align: right;\n",
       "    }\n",
       "</style>\n",
       "<table border=\"1\" class=\"dataframe\">\n",
       "  <thead>\n",
       "    <tr style=\"text-align: right;\">\n",
       "      <th></th>\n",
       "      <th>ABC</th>\n",
       "      <th>ABCGG</th>\n",
       "      <th>nAcid</th>\n",
       "      <th>nBase</th>\n",
       "      <th>SpAbs_A</th>\n",
       "      <th>SpMax_A</th>\n",
       "      <th>SpDiam_A</th>\n",
       "      <th>SpAD_A</th>\n",
       "      <th>SpMAD_A</th>\n",
       "      <th>LogEE_A</th>\n",
       "      <th>...</th>\n",
       "      <th>SRW10</th>\n",
       "      <th>TSRW10</th>\n",
       "      <th>MW</th>\n",
       "      <th>AMW</th>\n",
       "      <th>WPath</th>\n",
       "      <th>WPol</th>\n",
       "      <th>Zagreb1</th>\n",
       "      <th>Zagreb2</th>\n",
       "      <th>mZagreb1</th>\n",
       "      <th>mZagreb2</th>\n",
       "    </tr>\n",
       "  </thead>\n",
       "  <tbody>\n",
       "    <tr>\n",
       "      <th>0</th>\n",
       "      <td>12.395521</td>\n",
       "      <td>10.847181</td>\n",
       "      <td>0</td>\n",
       "      <td>0</td>\n",
       "      <td>19.462813</td>\n",
       "      <td>2.447713</td>\n",
       "      <td>4.716372</td>\n",
       "      <td>19.462813</td>\n",
       "      <td>1.216426</td>\n",
       "      <td>3.704694</td>\n",
       "      <td>...</td>\n",
       "      <td>9.698614</td>\n",
       "      <td>62.626045</td>\n",
       "      <td>258.013284</td>\n",
       "      <td>9.923588</td>\n",
       "      <td>442</td>\n",
       "      <td>22</td>\n",
       "      <td>84.0</td>\n",
       "      <td>97.0</td>\n",
       "      <td>6.256944</td>\n",
       "      <td>3.444444</td>\n",
       "    </tr>\n",
       "    <tr>\n",
       "      <th>1</th>\n",
       "      <td>11.370728</td>\n",
       "      <td>10.500427</td>\n",
       "      <td>0</td>\n",
       "      <td>0</td>\n",
       "      <td>19.28989</td>\n",
       "      <td>2.435261</td>\n",
       "      <td>4.703788</td>\n",
       "      <td>19.28989</td>\n",
       "      <td>1.285993</td>\n",
       "      <td>3.636116</td>\n",
       "      <td>...</td>\n",
       "      <td>9.553433</td>\n",
       "      <td>61.306823</td>\n",
       "      <td>204.089878</td>\n",
       "      <td>7.558884</td>\n",
       "      <td>353</td>\n",
       "      <td>22</td>\n",
       "      <td>76.0</td>\n",
       "      <td>90.0</td>\n",
       "      <td>5.305556</td>\n",
       "      <td>3.444444</td>\n",
       "    </tr>\n",
       "    <tr>\n",
       "      <th>3</th>\n",
       "      <td>14.308545</td>\n",
       "      <td>13.613603</td>\n",
       "      <td>0</td>\n",
       "      <td>1</td>\n",
       "      <td>24.388886</td>\n",
       "      <td>2.349426</td>\n",
       "      <td>4.698852</td>\n",
       "      <td>24.388886</td>\n",
       "      <td>1.219444</td>\n",
       "      <td>3.870393</td>\n",
       "      <td>...</td>\n",
       "      <td>9.653808</td>\n",
       "      <td>52.828148</td>\n",
       "      <td>276.220164</td>\n",
       "      <td>5.754587</td>\n",
       "      <td>830</td>\n",
       "      <td>30</td>\n",
       "      <td>92.0</td>\n",
       "      <td>105.0</td>\n",
       "      <td>8.666667</td>\n",
       "      <td>4.861111</td>\n",
       "    </tr>\n",
       "    <tr>\n",
       "      <th>4</th>\n",
       "      <td>8.152948</td>\n",
       "      <td>8.723360</td>\n",
       "      <td>4</td>\n",
       "      <td>0</td>\n",
       "      <td>10.363081</td>\n",
       "      <td>2.44949</td>\n",
       "      <td>4.898979</td>\n",
       "      <td>10.363081</td>\n",
       "      <td>0.942098</td>\n",
       "      <td>3.280313</td>\n",
       "      <td>...</td>\n",
       "      <td>9.682903</td>\n",
       "      <td>42.374286</td>\n",
       "      <td>205.974526</td>\n",
       "      <td>10.840765</td>\n",
       "      <td>136</td>\n",
       "      <td>18</td>\n",
       "      <td>56.0</td>\n",
       "      <td>64.0</td>\n",
       "      <td>8.1875</td>\n",
       "      <td>2.125000</td>\n",
       "    </tr>\n",
       "    <tr>\n",
       "      <th>5</th>\n",
       "      <td>15.024215</td>\n",
       "      <td>13.976628</td>\n",
       "      <td>0</td>\n",
       "      <td>0</td>\n",
       "      <td>20.871816</td>\n",
       "      <td>2.297773</td>\n",
       "      <td>4.595546</td>\n",
       "      <td>20.871816</td>\n",
       "      <td>1.043591</td>\n",
       "      <td>3.864202</td>\n",
       "      <td>...</td>\n",
       "      <td>9.674640</td>\n",
       "      <td>53.096806</td>\n",
       "      <td>290.245710</td>\n",
       "      <td>5.374921</td>\n",
       "      <td>934</td>\n",
       "      <td>21</td>\n",
       "      <td>98.0</td>\n",
       "      <td>100.0</td>\n",
       "      <td>11.75</td>\n",
       "      <td>4.000000</td>\n",
       "    </tr>\n",
       "  </tbody>\n",
       "</table>\n",
       "<p>5 rows × 1613 columns</p>\n",
       "</div>"
      ],
      "text/plain": [
       "         ABC      ABCGG  nAcid  nBase    SpAbs_A   SpMax_A  SpDiam_A  \\\n",
       "0  12.395521  10.847181      0      0  19.462813  2.447713  4.716372   \n",
       "1  11.370728  10.500427      0      0   19.28989  2.435261  4.703788   \n",
       "3  14.308545  13.613603      0      1  24.388886  2.349426  4.698852   \n",
       "4   8.152948   8.723360      4      0  10.363081   2.44949  4.898979   \n",
       "5  15.024215  13.976628      0      0  20.871816  2.297773  4.595546   \n",
       "\n",
       "      SpAD_A   SpMAD_A   LogEE_A  ...     SRW10     TSRW10          MW  \\\n",
       "0  19.462813  1.216426  3.704694  ...  9.698614  62.626045  258.013284   \n",
       "1   19.28989  1.285993  3.636116  ...  9.553433  61.306823  204.089878   \n",
       "3  24.388886  1.219444  3.870393  ...  9.653808  52.828148  276.220164   \n",
       "4  10.363081  0.942098  3.280313  ...  9.682903  42.374286  205.974526   \n",
       "5  20.871816  1.043591  3.864202  ...  9.674640  53.096806  290.245710   \n",
       "\n",
       "         AMW WPath WPol  Zagreb1  Zagreb2  mZagreb1  mZagreb2  \n",
       "0   9.923588   442   22     84.0     97.0  6.256944  3.444444  \n",
       "1   7.558884   353   22     76.0     90.0  5.305556  3.444444  \n",
       "3   5.754587   830   30     92.0    105.0  8.666667  4.861111  \n",
       "4  10.840765   136   18     56.0     64.0    8.1875  2.125000  \n",
       "5   5.374921   934   21     98.0    100.0     11.75  4.000000  \n",
       "\n",
       "[5 rows x 1613 columns]"
      ]
     },
     "execution_count": 55,
     "metadata": {},
     "output_type": "execute_result"
    }
   ],
   "source": [
    "# Display the first few rows of the DataFrame 'df2' (by default, it shows the first 5 rows).\n",
    "df2.head()"
   ]
  },
  {
   "cell_type": "code",
   "execution_count": 56,
   "metadata": {},
   "outputs": [
    {
     "data": {
      "text/plain": [
       "(7258, 1613)"
      ]
     },
     "execution_count": 56,
     "metadata": {},
     "output_type": "execute_result"
    }
   ],
   "source": [
    "# Get the shape of the DataFrame df2 (number of rows and columns).\n",
    "df2.shape"
   ]
  },
  {
   "cell_type": "code",
   "execution_count": 57,
   "metadata": {},
   "outputs": [],
   "source": [
    "# Initialize an empty list called 'missing' to store column names with missing values.\n",
    "missing = []\n",
    "# Iterate through each column name in the DataFrame 'df2'.\n",
    "for column in df2.columns:\n",
    "    # Check if any value in the current 'column' is of type 'Missing'.\n",
    "    # 'df2[column].apply(lambda x: type(x) == Missing)' applies a function to each element in the column.\n",
    "    # The lambda function checks if the type of the element 'x' is equal to the type 'Missing'.\n",
    "    # '.any()' returns True if at least one element in the Series is True (i.e., if at least one value is of type 'Missing').\n",
    "    if (df2[column].apply(lambda x: type(x) == Missing)).any():\n",
    "        # If the condition in the 'if' statement is True (meaning the column contains at least one 'Missing' value),\n",
    "        # append the name of the 'column' to the 'missing' list.\n",
    "        missing.append(column)"
   ]
  },
  {
   "cell_type": "code",
   "execution_count": 58,
   "metadata": {},
   "outputs": [],
   "source": [
    "# Drop columns with known errored value from the DataFrame 'df2' and assign the result to 'df_new'.\n",
    "df_new = df2.drop(missing, axis=1)"
   ]
  },
  {
   "cell_type": "code",
   "execution_count": 59,
   "metadata": {},
   "outputs": [
    {
     "data": {
      "text/html": [
       "<div>\n",
       "<style scoped>\n",
       "    .dataframe tbody tr th:only-of-type {\n",
       "        vertical-align: middle;\n",
       "    }\n",
       "\n",
       "    .dataframe tbody tr th {\n",
       "        vertical-align: top;\n",
       "    }\n",
       "\n",
       "    .dataframe thead th {\n",
       "        text-align: right;\n",
       "    }\n",
       "</style>\n",
       "<table border=\"1\" class=\"dataframe\">\n",
       "  <thead>\n",
       "    <tr style=\"text-align: right;\">\n",
       "      <th></th>\n",
       "      <th>ABC</th>\n",
       "      <th>ABCGG</th>\n",
       "      <th>nAcid</th>\n",
       "      <th>nBase</th>\n",
       "      <th>nAromAtom</th>\n",
       "      <th>nAromBond</th>\n",
       "      <th>nAtom</th>\n",
       "      <th>nHeavyAtom</th>\n",
       "      <th>nSpiro</th>\n",
       "      <th>nBridgehead</th>\n",
       "      <th>...</th>\n",
       "      <th>SRW09</th>\n",
       "      <th>SRW10</th>\n",
       "      <th>TSRW10</th>\n",
       "      <th>MW</th>\n",
       "      <th>AMW</th>\n",
       "      <th>WPath</th>\n",
       "      <th>WPol</th>\n",
       "      <th>Zagreb1</th>\n",
       "      <th>Zagreb2</th>\n",
       "      <th>mZagreb2</th>\n",
       "    </tr>\n",
       "  </thead>\n",
       "  <tbody>\n",
       "    <tr>\n",
       "      <th>0</th>\n",
       "      <td>12.395521</td>\n",
       "      <td>10.847181</td>\n",
       "      <td>0</td>\n",
       "      <td>0</td>\n",
       "      <td>9</td>\n",
       "      <td>10</td>\n",
       "      <td>26</td>\n",
       "      <td>16</td>\n",
       "      <td>0</td>\n",
       "      <td>0</td>\n",
       "      <td>...</td>\n",
       "      <td>6.861711</td>\n",
       "      <td>9.698614</td>\n",
       "      <td>62.626045</td>\n",
       "      <td>258.013284</td>\n",
       "      <td>9.923588</td>\n",
       "      <td>442</td>\n",
       "      <td>22</td>\n",
       "      <td>84.0</td>\n",
       "      <td>97.0</td>\n",
       "      <td>3.444444</td>\n",
       "    </tr>\n",
       "    <tr>\n",
       "      <th>1</th>\n",
       "      <td>11.370728</td>\n",
       "      <td>10.500427</td>\n",
       "      <td>0</td>\n",
       "      <td>0</td>\n",
       "      <td>6</td>\n",
       "      <td>6</td>\n",
       "      <td>27</td>\n",
       "      <td>15</td>\n",
       "      <td>0</td>\n",
       "      <td>0</td>\n",
       "      <td>...</td>\n",
       "      <td>7.002156</td>\n",
       "      <td>9.553433</td>\n",
       "      <td>61.306823</td>\n",
       "      <td>204.089878</td>\n",
       "      <td>7.558884</td>\n",
       "      <td>353</td>\n",
       "      <td>22</td>\n",
       "      <td>76.0</td>\n",
       "      <td>90.0</td>\n",
       "      <td>3.444444</td>\n",
       "    </tr>\n",
       "    <tr>\n",
       "      <th>3</th>\n",
       "      <td>14.308545</td>\n",
       "      <td>13.613603</td>\n",
       "      <td>0</td>\n",
       "      <td>1</td>\n",
       "      <td>6</td>\n",
       "      <td>6</td>\n",
       "      <td>48</td>\n",
       "      <td>20</td>\n",
       "      <td>0</td>\n",
       "      <td>0</td>\n",
       "      <td>...</td>\n",
       "      <td>0.000000</td>\n",
       "      <td>9.653808</td>\n",
       "      <td>52.828148</td>\n",
       "      <td>276.220164</td>\n",
       "      <td>5.754587</td>\n",
       "      <td>830</td>\n",
       "      <td>30</td>\n",
       "      <td>92.0</td>\n",
       "      <td>105.0</td>\n",
       "      <td>4.861111</td>\n",
       "    </tr>\n",
       "    <tr>\n",
       "      <th>4</th>\n",
       "      <td>8.152948</td>\n",
       "      <td>8.723360</td>\n",
       "      <td>4</td>\n",
       "      <td>0</td>\n",
       "      <td>0</td>\n",
       "      <td>0</td>\n",
       "      <td>19</td>\n",
       "      <td>11</td>\n",
       "      <td>0</td>\n",
       "      <td>0</td>\n",
       "      <td>...</td>\n",
       "      <td>0.000000</td>\n",
       "      <td>9.682903</td>\n",
       "      <td>42.374286</td>\n",
       "      <td>205.974526</td>\n",
       "      <td>10.840765</td>\n",
       "      <td>136</td>\n",
       "      <td>18</td>\n",
       "      <td>56.0</td>\n",
       "      <td>64.0</td>\n",
       "      <td>2.125000</td>\n",
       "    </tr>\n",
       "    <tr>\n",
       "      <th>5</th>\n",
       "      <td>15.024215</td>\n",
       "      <td>13.976628</td>\n",
       "      <td>0</td>\n",
       "      <td>0</td>\n",
       "      <td>0</td>\n",
       "      <td>0</td>\n",
       "      <td>54</td>\n",
       "      <td>20</td>\n",
       "      <td>0</td>\n",
       "      <td>0</td>\n",
       "      <td>...</td>\n",
       "      <td>0.000000</td>\n",
       "      <td>9.674640</td>\n",
       "      <td>53.096806</td>\n",
       "      <td>290.245710</td>\n",
       "      <td>5.374921</td>\n",
       "      <td>934</td>\n",
       "      <td>21</td>\n",
       "      <td>98.0</td>\n",
       "      <td>100.0</td>\n",
       "      <td>4.000000</td>\n",
       "    </tr>\n",
       "  </tbody>\n",
       "</table>\n",
       "<p>5 rows × 699 columns</p>\n",
       "</div>"
      ],
      "text/plain": [
       "         ABC      ABCGG  nAcid  nBase  nAromAtom  nAromBond  nAtom  \\\n",
       "0  12.395521  10.847181      0      0          9         10     26   \n",
       "1  11.370728  10.500427      0      0          6          6     27   \n",
       "3  14.308545  13.613603      0      1          6          6     48   \n",
       "4   8.152948   8.723360      4      0          0          0     19   \n",
       "5  15.024215  13.976628      0      0          0          0     54   \n",
       "\n",
       "   nHeavyAtom  nSpiro  nBridgehead  ...     SRW09     SRW10     TSRW10  \\\n",
       "0          16       0            0  ...  6.861711  9.698614  62.626045   \n",
       "1          15       0            0  ...  7.002156  9.553433  61.306823   \n",
       "3          20       0            0  ...  0.000000  9.653808  52.828148   \n",
       "4          11       0            0  ...  0.000000  9.682903  42.374286   \n",
       "5          20       0            0  ...  0.000000  9.674640  53.096806   \n",
       "\n",
       "           MW        AMW  WPath  WPol  Zagreb1  Zagreb2  mZagreb2  \n",
       "0  258.013284   9.923588    442    22     84.0     97.0  3.444444  \n",
       "1  204.089878   7.558884    353    22     76.0     90.0  3.444444  \n",
       "3  276.220164   5.754587    830    30     92.0    105.0  4.861111  \n",
       "4  205.974526  10.840765    136    18     56.0     64.0  2.125000  \n",
       "5  290.245710   5.374921    934    21     98.0    100.0  4.000000  \n",
       "\n",
       "[5 rows x 699 columns]"
      ]
     },
     "execution_count": 59,
     "metadata": {},
     "output_type": "execute_result"
    }
   ],
   "source": [
    "# Display the first 5 rows of the DataFrame 'df_new' to inspect the data.\n",
    "df_new.head()"
   ]
  },
  {
   "cell_type": "code",
   "execution_count": 60,
   "metadata": {},
   "outputs": [
    {
     "data": {
      "text/plain": [
       "(7258, 699)"
      ]
     },
     "execution_count": 60,
     "metadata": {},
     "output_type": "execute_result"
    }
   ],
   "source": [
    "# Returns the shape of the DataFrame 'df_new' as a tuple (number of rows, number of columns).\n",
    "df_new.shape"
   ]
  },
  {
   "cell_type": "code",
   "execution_count": 61,
   "metadata": {},
   "outputs": [],
   "source": [
    "# Assigns the 'NR-AR' column from the DataFrame 'df' to the variable 'y' as the target variable.\n",
    "y = df[\"NR-AR\"]\n",
    "\n",
    "# Assigns the DataFrame 'df_new' to the variable 'X' to be used as the feature matrix (molecular descriptors).\n",
    "X = df_new"
   ]
  },
  {
   "cell_type": "code",
   "execution_count": 62,
   "metadata": {},
   "outputs": [],
   "source": [
    "# Split data into 75% training and 25% test sets\n",
    "# X_train: Features for the training dataset (75% of X).\n",
    "# X_test: Features for the test dataset (25% of X).\n",
    "# y_train: Labels for the training dataset (75% of y).\n",
    "# y_test: Labels for the test dataset (25% of y).\n",
    "# train_test_split: Function used to split the dataset into training and testing sets.\n",
    "# X: Features data to be split.\n",
    "# y: Labels data to be split.\n",
    "# By default, test_size is 0.25 if not specified, meaning 25% of the data will be used for testing, and 75% for training.\n",
    "X_train, X_test, y_train, y_test = train_test_split(X, y)"
   ]
  },
  {
   "cell_type": "markdown",
   "metadata": {},
   "source": [
    "## Random forest\n",
    "\n",
    "A random forest is a meta estimator that fits a number of decision tree\n",
    "classifiers on various sub-samples of the dataset and uses averaging to\n",
    "improve the predictive accuracy and control over-fitting.\n"
   ]
  },
  {
   "cell_type": "code",
   "execution_count": 63,
   "metadata": {},
   "outputs": [],
   "source": [
    "# Import the RandomForestClassifier class from scikit-learn's ensemble module.\n",
    "from sklearn.ensemble import RandomForestClassifier\n",
    "\n",
    "# Create a RandomForestClassifier object with 100 trees (n_estimators=100) and train it using the training data (X_train, y_train).\n",
    "clf = RandomForestClassifier(n_estimators=100).fit(X_train, y_train)"
   ]
  },
  {
   "cell_type": "markdown",
   "metadata": {},
   "source": [
    "### Receiver Operating Characteristic Curve (ROC AUC)\n",
    "\n",
    "Compute Area Under the Receiver Operating Characteristic Curve (ROC AUC) from predicted class probabilities\n",
    "\n",
    "The predicted class probabilities of an input sample are computed as\n",
    "the mean predicted class probabilities of the trees in the forest.\n",
    "\n",
    "The class probability of a single tree is the fraction of samples of\n",
    "the same class in a leaf.\n"
   ]
  },
  {
   "cell_type": "code",
   "execution_count": 64,
   "metadata": {},
   "outputs": [
    {
     "data": {
      "text/plain": [
       "0.7982999092184535"
      ]
     },
     "execution_count": 64,
     "metadata": {},
     "output_type": "execute_result"
    }
   ],
   "source": [
    "# Calculates the Area Under the Receiver Operating Characteristic Curve (ROC AUC) score.\n",
    "roc_auc_score(y_test, clf.predict_proba(X_test)[:, 1])"
   ]
  },
  {
   "cell_type": "code",
   "execution_count": 65,
   "metadata": {},
   "outputs": [
    {
     "data": {
      "text/plain": [
       "0.9992651111519383"
      ]
     },
     "execution_count": 65,
     "metadata": {},
     "output_type": "execute_result"
    }
   ],
   "source": [
    "# Compute the mean accuracy of training data using the classifier 'clf' and training features 'X_train' and labels 'y_train'.\n",
    "clf.score(X_train, y_train)"
   ]
  },
  {
   "cell_type": "code",
   "execution_count": 66,
   "metadata": {},
   "outputs": [
    {
     "data": {
      "text/plain": [
       "0.9746556473829201"
      ]
     },
     "execution_count": 66,
     "metadata": {},
     "output_type": "execute_result"
    }
   ],
   "source": [
    "# Compute the mean accuracy of the classifier (clf) on the test data (X_test, y_test).\n",
    "# This method calculates the accuracy by comparing the classifier's predictions for X_test\n",
    "# against the true labels y_test and returning the mean accuracy score.\n",
    "clf.score(X_test, y_test)"
   ]
  },
  {
   "cell_type": "markdown",
   "metadata": {},
   "source": [
    "## Multi-layer Perceptron classifier\n",
    "\n",
    "This model optimizes the log-loss function using LBFGS or stochastic gradient descent.\n"
   ]
  },
  {
   "cell_type": "code",
   "execution_count": 67,
   "metadata": {},
   "outputs": [
    {
     "name": "stdout",
     "output_type": "stream",
     "text": [
      "            ABC      ABCGG  nAcid  nBase  nAromAtom  nAromBond  nAtom  \\\n",
      "3703  18.577646  15.448423      0      1         12         12     47   \n",
      "2261  10.635111   9.703324      0      1          9         10     30   \n",
      "2839   5.875634   5.566041      0      0          6          6     16   \n",
      "4792  11.313708   9.490206      0      0         12         12     25   \n",
      "3087  18.199514  15.631024      2      0          9         10     37   \n",
      "...         ...        ...    ...    ...        ...        ...    ...   \n",
      "4884  12.647042  10.574357      0      3          6          6     33   \n",
      "4319  14.727922  12.112692      0      0         18         18     34   \n",
      "5840   2.449490   2.449490      0      0          0          0      4   \n",
      "4339  17.177412  13.958277      1      0         17         17     34   \n",
      "2970   8.175294   7.770338      0      0          6          6     20   \n",
      "\n",
      "      nHeavyAtom  nSpiro  nBridgehead  ...     SRW09      SRW10     TSRW10  \\\n",
      "3703          24       0            0  ...  0.000000  10.149683  58.683215   \n",
      "2261          14       0            0  ...  6.823286   9.381011  59.420549   \n",
      "2839           8       0            0  ...  0.000000   8.479907  35.755147   \n",
      "4792          15       0            0  ...  0.000000   9.256556  46.340993   \n",
      "3087          23       0            0  ...  7.627057  10.159718  73.906829   \n",
      "...          ...     ...          ...  ...       ...        ...        ...   \n",
      "4884          16       0            0  ...  6.259581   9.610257  61.557358   \n",
      "4319          19       0            0  ...  0.000000   9.717339  52.084095   \n",
      "5840           4       0            0  ...  0.000000   6.188264  24.179697   \n",
      "4339          22       0            0  ...  6.842683   9.889338  69.905399   \n",
      "2970          11       0            0  ...  0.000000   9.038721  40.914174   \n",
      "\n",
      "              MW        AMW  WPath  WPol  Zagreb1  Zagreb2  mZagreb2  \n",
      "3703  325.167794   6.918464   1273    39    124.0    146.0  5.333333  \n",
      "2261  188.131349   6.271045    304    18     70.0     81.0  3.222222  \n",
      "2839  108.068748   6.754297     61     7     36.0     38.0  1.833333  \n",
      "4792  198.068080   7.922723    394    18     72.0     80.0  3.500000  \n",
      "3087  347.063084   9.380083   1191    36    126.0    150.0  4.819444  \n",
      "...          ...        ...    ...   ...      ...      ...       ...  \n",
      "4884  215.142248   6.519462    431    21     84.0     98.0  3.555556  \n",
      "4319  262.091137   7.708563    666    27     96.0    111.0  4.333333  \n",
      "5840  225.810374  56.452593      9     0     12.0      9.0  1.000000  \n",
      "4339  329.027727   9.677286   1057    31    114.0    132.0  4.833333  \n",
      "2970  151.063329   7.553166    150    13     52.0     57.0  2.444444  \n",
      "\n",
      "[5443 rows x 699 columns]\n",
      "            ABC      ABCGG  nAcid  nBase  nAromAtom  nAromBond  nAtom  \\\n",
      "3703  18.577646  15.448423      0      1         12         12     47   \n",
      "2261  10.635111   9.703324      0      1          9         10     30   \n",
      "2839   5.875634   5.566041      0      0          6          6     16   \n",
      "4792  11.313708   9.490206      0      0         12         12     25   \n",
      "3087  18.199514  15.631024      2      0          9         10     37   \n",
      "...         ...        ...    ...    ...        ...        ...    ...   \n",
      "4884  12.647042  10.574357      0      3          6          6     33   \n",
      "4319  14.727922  12.112692      0      0         18         18     34   \n",
      "5840   2.449490   2.449490      0      0          0          0      4   \n",
      "4339  17.177412  13.958277      1      0         17         17     34   \n",
      "2970   8.175294   7.770338      0      0          6          6     20   \n",
      "\n",
      "      nHeavyAtom  nSpiro  nBridgehead  ...     SRW09      SRW10     TSRW10  \\\n",
      "3703          24       0            0  ...  0.000000  10.149683  58.683215   \n",
      "2261          14       0            0  ...  6.823286   9.381011  59.420549   \n",
      "2839           8       0            0  ...  0.000000   8.479907  35.755147   \n",
      "4792          15       0            0  ...  0.000000   9.256556  46.340993   \n",
      "3087          23       0            0  ...  7.627057  10.159718  73.906829   \n",
      "...          ...     ...          ...  ...       ...        ...        ...   \n",
      "4884          16       0            0  ...  6.259581   9.610257  61.557358   \n",
      "4319          19       0            0  ...  0.000000   9.717339  52.084095   \n",
      "5840           4       0            0  ...  0.000000   6.188264  24.179697   \n",
      "4339          22       0            0  ...  6.842683   9.889338  69.905399   \n",
      "2970          11       0            0  ...  0.000000   9.038721  40.914174   \n",
      "\n",
      "              MW        AMW  WPath  WPol  Zagreb1  Zagreb2  mZagreb2  \n",
      "3703  325.167794   6.918464   1273    39    124.0    146.0  5.333333  \n",
      "2261  188.131349   6.271045    304    18     70.0     81.0  3.222222  \n",
      "2839  108.068748   6.754297     61     7     36.0     38.0  1.833333  \n",
      "4792  198.068080   7.922723    394    18     72.0     80.0  3.500000  \n",
      "3087  347.063084   9.380083   1191    36    126.0    150.0  4.819444  \n",
      "...          ...        ...    ...   ...      ...      ...       ...  \n",
      "4884  215.142248   6.519462    431    21     84.0     98.0  3.555556  \n",
      "4319  262.091137   7.708563    666    27     96.0    111.0  4.333333  \n",
      "5840  225.810374  56.452593      9     0     12.0      9.0  1.000000  \n",
      "4339  329.027727   9.677286   1057    31    114.0    132.0  4.833333  \n",
      "2970  151.063329   7.553166    150    13     52.0     57.0  2.444444  \n",
      "\n",
      "[5443 rows x 699 columns]\n"
     ]
    }
   ],
   "source": [
    "# Print the original DataFrame X_train, including rows with missing values (NaN).\n",
    "print(X_train)\n",
    "\n",
    "# Print a new DataFrame that is created by removing rows with any missing values (NaN) from X_train.\n",
    "# This will show X_train with only complete rows, where no values are missing.\n",
    "print(X_train.dropna())"
   ]
  },
  {
   "cell_type": "markdown",
   "metadata": {},
   "source": [
    "(The following cell may take a few minutes to complete.)\n"
   ]
  },
  {
   "cell_type": "code",
   "execution_count": 68,
   "metadata": {},
   "outputs": [],
   "source": [
    "# Import Multi-layer Perceptron classifier from sklearn.neural_network\n",
    "from sklearn.neural_network import MLPClassifier\n",
    "\n",
    "# Create a Multi-layer Perceptron classifier instance\n",
    "# with 6 hidden layers.\n",
    "# The number of neurons in each hidden layer are specified as a list: [1000, 500, 250, 100, 50, 20].\n",
    "# Layer 1: 1000 neurons\n",
    "# Layer 2: 500 neurons\n",
    "# Layer 3: 250 neurons\n",
    "# Layer 4: 100 neurons\n",
    "# Layer 5: 50 neurons\n",
    "# Layer 6: 20 neurons\n",
    "clf = MLPClassifier(hidden_layer_sizes=[1000, 500, 250, 100, 50, 20])\n",
    "# Train the Multi-layer Perceptron classifier model\n",
    "# using the training data (X_train features and y_train labels).\n",
    "clf = clf.fit(\n",
    "    X_train, y_train\n",
    ")"
   ]
  },
  {
   "cell_type": "markdown",
   "metadata": {},
   "source": [
    "### Receiver Operating Characteristic Curve (ROC AUC)\n",
    "\n",
    "Compute Area Under the Receiver Operating Characteristic Curve (ROC AUC) from predicted class probabilities.\n"
   ]
  },
  {
   "cell_type": "code",
   "execution_count": 69,
   "metadata": {},
   "outputs": [
    {
     "data": {
      "text/plain": [
       "0.745794476080438"
      ]
     },
     "execution_count": 69,
     "metadata": {},
     "output_type": "execute_result"
    }
   ],
   "source": [
    "# Calculate the Area Under the Receiver Operating Characteristic Curve (ROC AUC score).\n",
    "# This metric evaluates the performance of the classifier by measuring the area under the ROC curve.\n",
    "# It uses the true labels (y_test) and the predicted probabilities of the positive class (class '1')\n",
    "# from the classifier (clf) on the test data (X_test).\n",
    "roc_auc_score(y_test, clf.predict_proba(X_test)[:, 1])"
   ]
  },
  {
   "cell_type": "code",
   "execution_count": 70,
   "metadata": {},
   "outputs": [
    {
     "data": {
      "text/plain": [
       "0.9612346132647437"
      ]
     },
     "execution_count": 70,
     "metadata": {},
     "output_type": "execute_result"
    }
   ],
   "source": [
    "# Compute the mean accuracy of the classifier 'clf' on the training data (X_train, y_train).\n",
    "clf.score(X_train, y_train)"
   ]
  },
  {
   "cell_type": "code",
   "execution_count": 71,
   "metadata": {},
   "outputs": [
    {
     "data": {
      "text/plain": [
       "0.9559228650137741"
      ]
     },
     "execution_count": 71,
     "metadata": {},
     "output_type": "execute_result"
    }
   ],
   "source": [
    "# Compute the mean accuracy of the classifier on the test data (X_test, y_test).\n",
    "clf.score(X_test, y_test)"
   ]
  },
  {
   "cell_type": "markdown",
   "metadata": {},
   "source": [
    "## Conclusion\n",
    "\n",
    "This tutorial demonstrated how to:\n",
    "\n",
    "- Work with chemical structure data using RDKit\n",
    "- Calculate molecular descriptors using `mordred`\n",
    "- Build and evaluate machine learning models for predicting drug activity\n",
    "- Use different model architectures (Random Forest and Neural Networks) for classification tasks\n",
    "- Assess model performance using ROC AUC scores and accuracy metrics\n",
    "\n",
    "## Clean up\n",
    "\n",
    "Remember to shut down your Jupyter Notebook environment and delete any unnecessary files or resources once you've completed the tutorial.\n"
   ]
  }
 ],
 "metadata": {
  "kernelspec": {
   "display_name": "Python 3 (ipykernel)",
   "language": "python",
   "name": "python3"
  },
  "language_info": {
   "codemirror_mode": {
    "name": "ipython",
    "version": 3
   },
   "file_extension": ".py",
   "mimetype": "text/x-python",
   "name": "python",
   "nbconvert_exporter": "python",
   "pygments_lexer": "ipython3",
   "version": "3.9.11"
  }
 },
 "nbformat": 4,
 "nbformat_minor": 4
}
