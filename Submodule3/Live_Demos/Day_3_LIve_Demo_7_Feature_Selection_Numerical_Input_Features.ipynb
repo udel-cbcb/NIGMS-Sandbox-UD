{
 "cells": [
  {
   "cell_type": "markdown",
   "metadata": {},
   "source": [
    "#**Select Numerical Input Features**"
   ]
  },
  {
   "cell_type": "markdown",
   "metadata": {},
   "source": [
    "#What is Feature Selection?\n",
    "\n",
    "Feature selection is the process of identifying and selecting a subset of input features that are\n",
    "most relevant to the target variable. Feature selection is often straightforward when working\n",
    "with real-valued input and output data, such as using the Pearson's correlation coefficient, but\n",
    "can be challenging when working with numerical input data and a categorical target variable.\n",
    "The two most commonly used feature selection methods for numerical input data when the\n",
    "target variable is categorical (e.g. classification predictive modeling) are the ANOVA F-test\n",
    "statistic and the mutual information statistic. \n",
    "\n",
    "In this tutorial, you will discover how to perform\n",
    "feature selection with numerical input data for classification. After completing this tutorial, you\n",
    "will learn:\n",
    "* The diabetes predictive modeling problem with numerical inputs and binary classification\n",
    "target variables.\n",
    "* How to evaluate the importance of numerical features using the ANOVA F-test and mutual\n",
    "information statistics.\n",
    "* How to perform feature selection for numerical data when fitting and evaluating a classification model.\n",
    "\n",
    "Adapted from Jason Brownlee. 2020. [Data Preparation for Machine Learning](https://machinelearningmastery.com/data-preparation-for-machine-learning/)."
   ]
  },
  {
   "cell_type": "markdown",
   "metadata": {},
   "source": [
    "##Diabetes Dataset\n",
    "The dataset classifies patient data as\n",
    "either an onset of diabetes within five years or not. \n",
    "```\n",
    "Number of Instances: 768\n",
    "Number of Attributes: 8 plus class \n",
    "For Each Attribute: (all numeric-valued)\n",
    "   1. Number of times pregnant\n",
    "   2. Plasma glucose concentration a 2 hours in an oral glucose tolerance test\n",
    "   3. Diastolic blood pressure (mm Hg)\n",
    "   4. Triceps skin fold thickness (mm)\n",
    "   5. 2-Hour serum insulin (mu U/ml)\n",
    "   6. Body mass index (weight in kg/(height in m)^2)\n",
    "   7. Diabetes pedigree function\n",
    "   8. Age (years)\n",
    "   9. Class variable (0 or 1)\n",
    "Missing Attribute Values: Yes\n",
    "Class Distribution: (class value 1 is interpreted as \"tested positive for\n",
    "   diabetes\")\n",
    "   Class Value  Number of instances\n",
    "   0            500\n",
    "   1            268\n",
    "```\n",
    "\n",
    "You can learn more about the dataset here:\n",
    "\n",
    "* Diabetes Dataset File ([pima-indians-diabetes.csv](https://raw.githubusercontent.com/jbrownlee/Datasets/master/pima-indians-diabetes.csv))\n",
    "* Diabetes Dataset Details ([pima-indians-diabetes.names](https://raw.githubusercontent.com/jbrownlee/Datasets/master/pima-indians-diabetes.names))\n",
    "\n",
    "##Download Diabetes data files"
   ]
  },
  {
   "cell_type": "code",
   "execution_count": null,
   "metadata": {},
   "outputs": [],
   "source": [
    "!pip install wget\n",
    "!python -m wget \"https://raw.githubusercontent.com/jbrownlee/Datasets/master/pima-indians-diabetes.csv\" -o pima-indians-diabetes.csv\n",
    "!python -m wget \"https://raw.githubusercontent.com/jbrownlee/Datasets/master/pima-indians-diabetes.names\" -o pima-indians-diabetes.names"
   ]
  },
  {
   "cell_type": "markdown",
   "metadata": {},
   "source": [
    "Loading and splitting Diabetes data"
   ]
  },
  {
   "cell_type": "code",
   "execution_count": null,
   "metadata": {},
   "outputs": [],
   "source": [
    "# load and summarize the dataset\n",
    "from pandas import read_csv\n",
    "from sklearn.model_selection import train_test_split\n",
    "# load the dataset\n",
    "def load_dataset(filename):\n",
    "  # load the dataset as a pandas DataFrame\n",
    "  dataset = read_csv(filename, header=None)\n",
    "  # retrieve numpy array\n",
    "  data = dataset.values\n",
    "  # split into input (X) and output (y) variables\n",
    "  X = data[:, :-1]\n",
    "  y = data[:,-1]\n",
    "  return X, y\n",
    "  \n",
    "# load the dataset\n",
    "X, y = load_dataset('pima-indians-diabetes.csv')\n",
    "# split into train and test sets\n",
    "X_train, X_test, y_train, y_test = train_test_split(X, y, test_size=0.33, random_state=1)\n",
    "# summarize\n",
    "print('Train', X_train.shape, y_train.shape)\n",
    "print('Test', X_test.shape, y_test.shape)"
   ]
  },
  {
   "cell_type": "markdown",
   "metadata": {},
   "source": [
    "##Numerical Feature Selection\n",
    "There are two popular feature selection techniques that can be used for numerical input data\n",
    "and a categorical (class) target variable. They are:\n",
    "* ANOVA F-Statistic.\n",
    "* Mutual Information Statistics.\n",
    "\n"
   ]
  },
  {
   "cell_type": "markdown",
   "metadata": {},
   "source": [
    "###**ANOVA F-test Feature Selection**\n",
    "ANOVA is an acronym for analysis of variance and is a parametric statistical hypothesis test for\n",
    "determining whether the means from two or more samples of data (often three or more) come\n",
    "from the same distribution or not. An F-statistic, or F-test, is a class of statistical tests that\n",
    "calculate the ratio between variances values, such as the variance from two different samples or\n",
    "the explained and unexplained variance by a statistical test, like ANOVA. The ANOVA method\n",
    "is a type of F-statistic referred to here as an ANOVA F-test.\n",
    "\n",
    "Importantly, ANOVA is used when one variable is numeric and one is categorical, such as\n",
    "numerical input variables and categorical target variable in a classification task. The results\n",
    "of this test can be used for feature selection where those features that are independent of the\n",
    "target variable can be removed from the dataset."
   ]
  },
  {
   "cell_type": "code",
   "execution_count": null,
   "metadata": {},
   "outputs": [],
   "source": [
    "# example of anova f-test feature selection for numerical data\n",
    "from pandas import read_csv\n",
    "from sklearn.model_selection import train_test_split\n",
    "from sklearn.feature_selection import SelectKBest\n",
    "from sklearn.feature_selection import f_classif\n",
    "from matplotlib import pyplot\n",
    "# load the dataset\n",
    "def load_dataset(filename):\n",
    "  # load the dataset as a pandas DataFrame\n",
    "  dataset = read_csv(filename, header=None)\n",
    "  # retrieve numpy array\n",
    "  data = dataset.values\n",
    "  # split into input (X) and output (y) variables\n",
    "  X = data[:, :-1]\n",
    "  y = data[:,-1]\n",
    "  return X, y\n",
    "\n",
    "# feature selection\n",
    "def select_features(X_train, y_train, X_test):\n",
    "  # configure to select all features\n",
    "  fs = SelectKBest(score_func=f_classif, k='all')\n",
    "  # learn relationship from training data\n",
    "  fs.fit(X_train, y_train)\n",
    "  # transform train input data\n",
    "  X_train_fs = fs.transform(X_train)\n",
    "  # transform test input data\n",
    "  X_test_fs = fs.transform(X_test)\n",
    "  return X_train_fs, X_test_fs, fs\n",
    "\n",
    "# load the dataset\n",
    "X, y = load_dataset('pima-indians-diabetes.csv')\n",
    "# split into train and test sets\n",
    "X_train, X_test, y_train, y_test = train_test_split(X, y, test_size=0.33, random_state=1)\n",
    "# feature selection\n",
    "X_train_fs, X_test_fs, fs = select_features(X_train, y_train, X_test)\n",
    "\n",
    "# what are scores for the features\n",
    "for i in range(len(fs.scores_)):\n",
    "  print('Feature %d: %f' % (i, fs.scores_[i]))\n"
   ]
  },
  {
   "cell_type": "markdown",
   "metadata": {},
   "source": [
    "In this case, we can see that some features stand out as perhaps being more relevant than\n",
    "others, with much larger test statistic values. Perhaps features 1, 5, and 7 are most relevant."
   ]
  },
  {
   "cell_type": "code",
   "execution_count": null,
   "metadata": {},
   "outputs": [],
   "source": [
    "# plot the scores\n",
    "pyplot.bar([i for i in range(len(fs.scores_))], fs.scores_)\n",
    "pyplot.show()"
   ]
  },
  {
   "cell_type": "markdown",
   "metadata": {},
   "source": [
    "A bar chart of the feature importance scores for each input feature is created. This clearly\n",
    "shows that feature 1 might be the most relevant (according to test statistic) and that perhaps\n",
    "six of the eight input features are the most relevant. We could set k=6 when configuring the\n",
    "SelectKBest to select these six features."
   ]
  },
  {
   "cell_type": "markdown",
   "metadata": {},
   "source": [
    "###**Mutual Information Feature Selection**\n",
    "Mutual information from the field of information theory is the application of information gain\n",
    "(typically used in the construction of decision trees) to feature selection. Mutual information is\n",
    "calculated between two variables and measures the reduction in uncertainty for one variable given\n",
    "a known value of the other variable. Mutual information is straightforward when considering\n",
    "the distribution of two discrete (categorical or ordinal) variables, such as categorical input and\n",
    "categorical output data. Nevertheless, it can be adapted for use with numerical input and\n",
    "categorical output."
   ]
  },
  {
   "cell_type": "code",
   "execution_count": null,
   "metadata": {},
   "outputs": [],
   "source": [
    "# example of mutual information feature selection for numerical input data\n",
    "from pandas import read_csv\n",
    "from sklearn.model_selection import train_test_split\n",
    "from sklearn.feature_selection import SelectKBest\n",
    "from sklearn.feature_selection import mutual_info_classif\n",
    "from matplotlib import pyplot\n",
    "# load the dataset\n",
    "def load_dataset(filename):\n",
    "  # load the dataset as a pandas DataFrame\n",
    "  dataset = read_csv(filename, header=None)\n",
    "  # retrieve numpy array\n",
    "  data = dataset.values\n",
    "  # split into input (X) and output (y) variables\n",
    "  X = data[:, :-1]\n",
    "  y = data[:,-1]\n",
    "  return X, y\n",
    "\n",
    "# feature selection\n",
    "def select_features(X_train, y_train, X_test):\n",
    "  # configure to select all features\n",
    "  fs = SelectKBest(score_func=mutual_info_classif, k='all')\n",
    "  # learn relationship from training data\n",
    "  fs.fit(X_train, y_train)\n",
    "  # transform train input data\n",
    "  X_train_fs = fs.transform(X_train)\n",
    "  # transform test input data\n",
    "  X_test_fs = fs.transform(X_test)\n",
    "  return X_train_fs, X_test_fs, fs\n",
    "  \n",
    "# load the dataset\n",
    "X, y = load_dataset('pima-indians-diabetes.csv')\n",
    "# split into train and test sets\n",
    "X_train, X_test, y_train, y_test = train_test_split(X, y, test_size=0.33, random_state=1)\n",
    "# feature selection\n",
    "X_train_fs, X_test_fs, fs = select_features(X_train, y_train, X_test)\n",
    "# what are scores for the features\n",
    "for i in range(len(fs.scores_)):\n",
    "  print('Feature %d: %f' % (i, fs.scores_[i]))\n"
   ]
  },
  {
   "cell_type": "markdown",
   "metadata": {},
   "source": [
    "In this case, we can see that some of the features have a modestly low score, suggesting that\n",
    "perhaps they can be removed. Perhaps features 1 and 5 are most relevant."
   ]
  },
  {
   "cell_type": "code",
   "execution_count": null,
   "metadata": {},
   "outputs": [],
   "source": [
    "# plot the scores\n",
    "pyplot.bar([i for i in range(len(fs.scores_))], fs.scores_)\n",
    "pyplot.show()"
   ]
  },
  {
   "cell_type": "markdown",
   "metadata": {},
   "source": [
    "A bar chart of the feature importance scores for each input feature is created. Importantly,\n",
    "a different mixture of features is promoted."
   ]
  },
  {
   "cell_type": "markdown",
   "metadata": {},
   "source": [
    "##Modeling With Selected Features\n",
    " A robust approach is to evaluate models using different\n",
    "feature selection methods (and numbers of features) and select the method that results in a\n",
    "model with the best performance."
   ]
  },
  {
   "cell_type": "markdown",
   "metadata": {},
   "source": [
    "###**Model Built Using All Features**"
   ]
  },
  {
   "cell_type": "code",
   "execution_count": null,
   "metadata": {},
   "outputs": [],
   "source": [
    "# evaluation of a model using all input features\n",
    "from pandas import read_csv\n",
    "from sklearn.model_selection import train_test_split\n",
    "from sklearn.linear_model import LogisticRegression\n",
    "from sklearn.metrics import accuracy_score\n",
    "# load the dataset\n",
    "def load_dataset(filename):\n",
    "  # load the dataset as a pandas DataFrame\n",
    "  dataset = read_csv(filename, header=None)\n",
    "  # retrieve numpy array\n",
    "  data = dataset.values\n",
    "  # split into input (X) and output (y) variables\n",
    "  X = data[:, :-1]\n",
    "  y = data[:,-1]\n",
    "  return X, y\n",
    "  \n",
    "# load the dataset\n",
    "X, y = load_dataset('pima-indians-diabetes.csv')\n",
    "# split into train and test sets\n",
    "X_train, X_test, y_train, y_test = train_test_split(X, y, test_size=0.33, random_state=1)\n",
    "# fit the model\n",
    "model = LogisticRegression(solver='liblinear')\n",
    "model.fit(X_train, y_train)\n",
    "# evaluate the model\n",
    "yhat = model.predict(X_test)\n",
    "# evaluate predictions\n",
    "accuracy = accuracy_score(y_test, yhat)\n",
    "print('Accuracy: %.2f' % (accuracy*100))"
   ]
  },
  {
   "cell_type": "markdown",
   "metadata": {},
   "source": [
    "In this case, we can see that the model achieves a classification accuracy of about 77 percent.\n",
    "We would prefer to use a subset of features that achieves a classification accuracy that is as\n",
    "good or better than this."
   ]
  },
  {
   "cell_type": "markdown",
   "metadata": {},
   "source": [
    "###**Model Built Using ANOVA F-test Features**\n",
    "We can use the ANOVA F-test to score the features and select the four most relevant features."
   ]
  },
  {
   "cell_type": "code",
   "execution_count": null,
   "metadata": {},
   "outputs": [],
   "source": [
    "# evaluation of a model using 4 features chosen with anova f-test\n",
    "from pandas import read_csv\n",
    "from sklearn.model_selection import train_test_split\n",
    "from sklearn.feature_selection import SelectKBest\n",
    "from sklearn.feature_selection import f_classif\n",
    "from sklearn.linear_model import LogisticRegression\n",
    "from sklearn.metrics import accuracy_score\n",
    "# load the dataset\n",
    "def load_dataset(filename):\n",
    "  # load the dataset as a pandas DataFrame\n",
    "  dataset = read_csv(filename, header=None)\n",
    "  # retrieve numpy array\n",
    "  data = dataset.values\n",
    "  # split into input (X) and output (y) variables\n",
    "  X = data[:, :-1]\n",
    "  y = data[:,-1]\n",
    "  return X, y\n",
    "\n",
    "# feature selection\n",
    "def select_features(X_train, y_train, X_test):\n",
    "  # configure to select a subset of features\n",
    "  fs = SelectKBest(score_func=f_classif, k=4)\n",
    "  # learn relationship from training data\n",
    "  fs.fit(X_train, y_train)\n",
    "  # transform train input data\n",
    "  X_train_fs = fs.transform(X_train)\n",
    "  # transform test input data\n",
    "  X_test_fs = fs.transform(X_test)\n",
    "  return X_train_fs, X_test_fs, fs\n",
    "  \n",
    "# load the dataset\n",
    "X, y = load_dataset('pima-indians-diabetes.csv')\n",
    "# split into train and test sets\n",
    "X_train, X_test, y_train, y_test = train_test_split(X, y, test_size=0.33, random_state=1)\n",
    "# feature selection\n",
    "X_train_fs, X_test_fs, fs = select_features(X_train, y_train, X_test)\n",
    "# fit the model\n",
    "model = LogisticRegression(solver='liblinear')\n",
    "model.fit(X_train_fs, y_train)\n",
    "# evaluate the model\n",
    "yhat = model.predict(X_test_fs)\n",
    "# evaluate predictions\n",
    "accuracy = accuracy_score(y_test, yhat)\n",
    "print('Accuracy: %.2f' % (accuracy*100))"
   ]
  },
  {
   "cell_type": "markdown",
   "metadata": {},
   "source": [
    "In this case, we see that the model achieved an accuracy of about 78.74 percent, a lift in\n",
    "performance compared to the baseline that achieved 77.56 percent."
   ]
  },
  {
   "cell_type": "markdown",
   "metadata": {},
   "source": [
    "###**Model Built Using Mutual Information Features**\n",
    "We can repeat the experiment and select the top four features using a mutual information\n",
    "statistic."
   ]
  },
  {
   "cell_type": "code",
   "execution_count": null,
   "metadata": {},
   "outputs": [],
   "source": [
    "# evaluation of a model using 4 features chosen with mutual information\n",
    "from pandas import read_csv\n",
    "from sklearn.model_selection import train_test_split\n",
    "from sklearn.feature_selection import SelectKBest\n",
    "from sklearn.feature_selection import mutual_info_classif\n",
    "from sklearn.linear_model import LogisticRegression\n",
    "from sklearn.metrics import accuracy_score\n",
    "# load the dataset\n",
    "def load_dataset(filename):\n",
    "  # load the dataset as a pandas DataFrame\n",
    "  dataset = read_csv(filename, header=None)\n",
    "  # retrieve numpy array\n",
    "  data = dataset.values\n",
    "  # split into input (X) and output (y) variables\n",
    "  X = data[:, :-1]\n",
    "  y = data[:,-1]\n",
    "  return X, y\n",
    "\n",
    "# feature selection\n",
    "def select_features(X_train, y_train, X_test):\n",
    "  # configure to select a subset of features\n",
    "  fs = SelectKBest(score_func=mutual_info_classif, k=4) # mutual_info_classif()\n",
    "  # learn relationship from training data\n",
    "  fs.fit(X_train, y_train)\n",
    "  # transform train input data\n",
    "  X_train_fs = fs.transform(X_train)\n",
    "  # transform test input data\n",
    "  X_test_fs = fs.transform(X_test)\n",
    "  return X_train_fs, X_test_fs, fs\n",
    "  \n",
    "# load the dataset\n",
    "X, y = load_dataset('pima-indians-diabetes.csv')\n",
    "# split into train and test sets\n",
    "X_train, X_test, y_train, y_test = train_test_split(X, y, test_size=0.33, random_state=1)\n",
    "# feature selection\n",
    "X_train_fs, X_test_fs, fs = select_features(X_train, y_train, X_test)\n",
    "# fit the model\n",
    "model = LogisticRegression(solver='liblinear')\n",
    "model.fit(X_train_fs, y_train)\n",
    "# evaluate the model\n",
    "yhat = model.predict(X_test_fs)\n",
    "# evaluate predictions\n",
    "accuracy = accuracy_score(y_test, yhat)\n",
    "print('Accuracy: %.2f' % (accuracy*100))"
   ]
  },
  {
   "cell_type": "markdown",
   "metadata": {},
   "source": [
    "In this case, we can make no difference compared to the baseline model. This is interesting\n",
    "as we know the method chose a different four features compared to the previous method."
   ]
  },
  {
   "cell_type": "markdown",
   "metadata": {},
   "source": [
    "###Tune the Number of Selected Features\n",
    "Instead of guessing, we can systematically test a range\n",
    "of different numbers of selected features and discover which results in the best performing\n",
    "model. This is called a **grid search**, where the k argument to the SelectKBest class can be\n",
    "tuned. It is good practice to evaluate model configurations on classification tasks using repeated\n",
    "stratified k-fold cross-validation. We will use three repeats of 10-fold cross-validation via the\n",
    "RepeatedStratifiedKFold class."
   ]
  },
  {
   "cell_type": "code",
   "execution_count": null,
   "metadata": {},
   "outputs": [],
   "source": [
    "# compare different numbers of features selected using anova f-test\n",
    "from pandas import read_csv\n",
    "from sklearn.model_selection import RepeatedStratifiedKFold\n",
    "from sklearn.feature_selection import SelectKBest\n",
    "from sklearn.feature_selection import f_classif\n",
    "from sklearn.linear_model import LogisticRegression\n",
    "from sklearn.pipeline import Pipeline\n",
    "from sklearn.model_selection import GridSearchCV\n",
    "# load the dataset\n",
    "def load_dataset(filename):\n",
    "  # load the dataset as a pandas DataFrame\n",
    "  dataset = read_csv(filename, header=None)\n",
    "  # retrieve numpy array\n",
    "  data = dataset.values\n",
    "  # split into input (X) and output (y) variables\n",
    "  X = data[:, :-1]\n",
    "  y = data[:,-1]\n",
    "  return X, y\n",
    "\n",
    "# define dataset\n",
    "X, y = load_dataset('pima-indians-diabetes.csv')\n",
    "# define the evaluation method\n",
    "cv = RepeatedStratifiedKFold(n_splits=10, n_repeats=3, random_state=1)\n",
    "# define the pipeline to evaluate\n",
    "model = LogisticRegression(solver='liblinear')\n",
    "fs = SelectKBest(score_func=f_classif)\n",
    "pipeline = Pipeline(steps=[('anova',fs), ('lr', model)])\n",
    "# define the grid\n",
    "grid = dict()\n",
    "grid['anova__k'] = [i+1 for i in range(X.shape[1])]\n",
    "print(grid)\n",
    "# define the grid search\n",
    "# Exhaustive search over specified parameter values for an estimator.\n",
    "search = GridSearchCV(pipeline, grid, scoring='accuracy', n_jobs=-1, cv=cv)\n",
    "# perform the search\n",
    "results = search.fit(X, y)\n",
    "# summarize best\n",
    "print('Best Mean Accuracy: %.3f' % results.best_score_)\n",
    "print('Best Config: %s' % results.best_params_)"
   ]
  },
  {
   "cell_type": "markdown",
   "metadata": {},
   "source": [
    "In this case, we can see that the best number of selected features is five; that achieves an\n",
    "accuracy of about 77 percent."
   ]
  },
  {
   "cell_type": "markdown",
   "metadata": {},
   "source": [
    "We might want to see the relationship between the number of selected features and classification accuracy. In this relationship, we may expect that more features result in a better\n",
    "performance to a point. This relationship can be explored by manually evaluating each configuration of **k** for the SelectKBest, gathering the sample of accuracy scores, and\n",
    "plotting the results using box and whisker plots side-by-side."
   ]
  },
  {
   "cell_type": "code",
   "execution_count": null,
   "metadata": {},
   "outputs": [],
   "source": [
    "# compare different numbers of features selected using anova f-test\n",
    "from numpy import mean\n",
    "from numpy import std\n",
    "from pandas import read_csv\n",
    "from sklearn.model_selection import cross_val_score\n",
    "from sklearn.model_selection import RepeatedStratifiedKFold\n",
    "from sklearn.feature_selection import SelectKBest\n",
    "from sklearn.feature_selection import f_classif\n",
    "from sklearn.linear_model import LogisticRegression\n",
    "from sklearn.pipeline import Pipeline\n",
    "from matplotlib import pyplot\n",
    "# load the dataset\n",
    "def load_dataset(filename):\n",
    "  # load the dataset as a pandas DataFrame\n",
    "  dataset = read_csv(filename, header=None)\n",
    "  # retrieve numpy array\n",
    "  data = dataset.values\n",
    "  # split into input (X) and output (y) variables\n",
    "  X = data[:, :-1]\n",
    "  y = data[:,-1]\n",
    "  return X, y\n",
    "\n",
    "# evaluate a given model using cross-validation\n",
    "def evaluate_model(model):\n",
    "  cv = RepeatedStratifiedKFold(n_splits=10, n_repeats=3, random_state=1)\n",
    "  scores = cross_val_score(model, X, y, scoring='accuracy', cv=cv, n_jobs=-1)\n",
    "  return scores\n",
    "  \n",
    "# define dataset\n",
    "X, y = load_dataset('pima-indians-diabetes.csv')\n",
    "# define number of features to evaluate\n",
    "num_features = [i+1 for i in range(X.shape[1])]\n",
    "# enumerate each number of features\n",
    "results = list()\n",
    "for k in num_features:\n",
    "  # create pipeline\n",
    "  model = LogisticRegression(solver='liblinear')\n",
    "  fs = SelectKBest(score_func=f_classif, k=k)\n",
    "  pipeline = Pipeline(steps=[('anova',fs), ('lr', model)])\n",
    "  # evaluate the model\n",
    "  scores = evaluate_model(pipeline)\n",
    "  results.append(scores)\n",
    "  # summarize the results\n",
    "  print('>%d %.3f (%.3f)' % (k, mean(scores), std(scores)))\n"
   ]
  },
  {
   "cell_type": "markdown",
   "metadata": {},
   "source": [
    "In this case, it looks like selecting five or seven features results in roughly the same accuracy."
   ]
  },
  {
   "cell_type": "code",
   "execution_count": null,
   "metadata": {},
   "outputs": [],
   "source": [
    "# plot model performance for comparison\n",
    "pyplot.boxplot(results, labels=num_features, showmeans=True)\n",
    "pyplot.show()"
   ]
  }
 ],
 "metadata": {},
 "nbformat": 4,
 "nbformat_minor": 0
}
