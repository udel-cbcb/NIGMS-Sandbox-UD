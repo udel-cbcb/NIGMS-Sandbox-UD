{
 "cells": [
  {
   "cell_type": "markdown",
   "metadata": {},
   "source": [
    "# What is NumPy?\n",
    "\n",
    "## Overview\n",
    "\n",
    "[NumPy](https://numpy.org/) is the fundamental package for scientific computing in Python. It is a Python library that provides a multidimensional array object, various derived objects (such as masked arrays and matrices), and an assortment of routines for fast operations on arrays, including mathematical, logical, shape manipulation, sorting, selecting, I/O, discrete Fourier transforms, basic linear algebra, basic statistical operations, random simulation and much more.\n",
    "\n",
    "## Learning Objectives\n",
    "\n",
    "* Understand the difference between one-, two- and n-dimensional arrays in NumPy\n",
    "* Understand how to apply some linear algebra operations to n-dimensional arrays without using for-loops\n",
    "* Understand axis and shape properties for n-dimensional arrays\n",
    "\n",
    "## Prerequisites\n",
    "\n",
    "You’ll need to know a bit of Python. For a refresher, see the [Python tutorial](https://docs.python.org/tutorial/).\n",
    "\n",
    "## Get Started\n",
    "\n",
    "To get started with this module, you will need to ensure that numpy is installed."
   ]
  },
  {
   "cell_type": "code",
   "execution_count": 98,
   "metadata": {},
   "outputs": [
    {
     "name": "stdout",
     "output_type": "stream",
     "text": [
      "1.26.4\n"
     ]
    }
   ],
   "source": [
    "import numpy as np\n",
    "print(np.__version__)\n",
    "# Install the 'numpy' package using pip (Python's package installer) if the above statement failed\n",
    "# The '%pip' magic command is used in Jupyter notebooks to install packages directly from the notebook\n",
    "# %pip install numpy"
   ]
  },
  {
   "cell_type": "markdown",
   "metadata": {},
   "source": [
    "## Array Basics\n",
    "\n",
    "NumPy’s main object is the homogeneous multidimensional array (ndarray). It is a table of elements (usually numbers), all of the same type, indexed by a tuple of non-negative integers. In NumPy dimensions are called *axes*."
   ]
  },
  {
   "cell_type": "markdown",
   "metadata": {},
   "source": [
    "### An example NumPy ndarray"
   ]
  },
  {
   "cell_type": "code",
   "execution_count": 99,
   "metadata": {},
   "outputs": [
    {
     "data": {
      "text/plain": [
       "array([[ 0,  1,  2,  3,  4],\n",
       "       [ 5,  6,  7,  8,  9],\n",
       "       [10, 11, 12, 13, 14]])"
      ]
     },
     "execution_count": 99,
     "metadata": {},
     "output_type": "execute_result"
    }
   ],
   "source": [
    "# 'arange()' returns evenly spaced values within a given interval.\n",
    "# Values are generated within the half-open interval [start, stop) \n",
    "# (in other words, the interval including start but excluding stop).\n",
    "# Here, np.arange(15) generates an array with values from 0 to 14 (15 elements).\n",
    "a = np.arange(15)\n",
    "\n",
    "# 'reshape()' gives a new shape to an array without changing its data.\n",
    "# In this case, we reshape the 1D array into a 2D array with 3 rows and 5 columns.\n",
    "# The total number of elements must remain the same, i.e., 3*5 = 15 elements.\n",
    "a = a.reshape(3, 5)\n",
    "\n",
    "# Display the reshaped 2D array\n",
    "a"
   ]
  },
  {
   "cell_type": "markdown",
   "metadata": {},
   "source": [
    "### Array attributes"
   ]
  },
  {
   "cell_type": "markdown",
   "metadata": {},
   "source": [
    "#### `ndarray.ndim`\n",
    "\n",
    "The number of axes of the array."
   ]
  },
  {
   "cell_type": "code",
   "execution_count": 100,
   "metadata": {},
   "outputs": [
    {
     "data": {
      "text/plain": [
       "2"
      ]
     },
     "execution_count": 100,
     "metadata": {},
     "output_type": "execute_result"
    }
   ],
   "source": [
    "# Access the number of dimensions (axes) of the array `a`\n",
    "# `ndim` is an attribute that returns the number of dimensions in a NumPy array.\n",
    "# For example, if `a` is a 2D array, `a.ndim` would return 2.\n",
    "a.ndim"
   ]
  },
  {
   "cell_type": "markdown",
   "metadata": {},
   "source": [
    "#### `ndarray.shape`\n",
    "\n",
    "This is a tuple of integers indicating the size of the array in each dimension. For a matrix with n rows and m columns, shape will be (n,m). The length of the shape tuple is therefore the number of axes, ndim."
   ]
  },
  {
   "cell_type": "code",
   "execution_count": 101,
   "metadata": {},
   "outputs": [
    {
     "data": {
      "text/plain": [
       "(3, 5)"
      ]
     },
     "execution_count": 101,
     "metadata": {},
     "output_type": "execute_result"
    }
   ],
   "source": [
    "# Get the shape of the array or dataframe 'a'\n",
    "# This will return a tuple representing the dimensions (rows, columns) or (length,) depending on the type of 'a'\n",
    "a.shape"
   ]
  },
  {
   "cell_type": "markdown",
   "metadata": {},
   "source": [
    "#### `ndarray.size`\n",
    "\n",
    "The total number of elements of the array. This is equal to the product of the elements of shape."
   ]
  },
  {
   "cell_type": "code",
   "execution_count": 102,
   "metadata": {},
   "outputs": [
    {
     "data": {
      "text/plain": [
       "15"
      ]
     },
     "execution_count": 102,
     "metadata": {},
     "output_type": "execute_result"
    }
   ],
   "source": [
    "# `a.size` returns the total number of elements in the array `a`\n",
    "# It gives the product of the dimensions of the array\n",
    "a.size"
   ]
  },
  {
   "cell_type": "markdown",
   "metadata": {},
   "source": [
    "#### `ndarray.dtype`\n",
    "\n",
    "An object describing the type of the elements in the array. One can create or specify dtypes using standard Python types. Additionally NumPy provides types of its own. numpy.int32, numpy.int16, and numpy.float64 are some examples."
   ]
  },
  {
   "cell_type": "code",
   "execution_count": 103,
   "metadata": {},
   "outputs": [
    {
     "data": {
      "text/plain": [
       "dtype('int64')"
      ]
     },
     "execution_count": 103,
     "metadata": {},
     "output_type": "execute_result"
    }
   ],
   "source": [
    "# This retrieves the data type (dtype) of the variable or array 'a'\n",
    "a.dtype"
   ]
  },
  {
   "cell_type": "markdown",
   "metadata": {},
   "source": [
    "#### `ndarray.itemsize`\n",
    "\n",
    "The size in bytes of each element of the array. For example, an array of elements of type float64 has itemsize 8 (=64/8), while one of type complex32 has itemsize 4 (=32/8). It is equivalent to ndarray.dtype.itemsize."
   ]
  },
  {
   "cell_type": "code",
   "execution_count": 104,
   "metadata": {},
   "outputs": [
    {
     "data": {
      "text/plain": [
       "8"
      ]
     },
     "execution_count": 104,
     "metadata": {},
     "output_type": "execute_result"
    }
   ],
   "source": [
    "# a.itemsize returns the size (in bytes) of one element in the array 'a'\n",
    "# This is useful for understanding how much memory each individual element of the array occupies.\n",
    "a.itemsize"
   ]
  },
  {
   "cell_type": "markdown",
   "metadata": {},
   "source": [
    "#### `type()`\n",
    "\n",
    "The data type of the object."
   ]
  },
  {
   "cell_type": "code",
   "execution_count": 105,
   "metadata": {},
   "outputs": [
    {
     "data": {
      "text/plain": [
       "numpy.ndarray"
      ]
     },
     "execution_count": 105,
     "metadata": {},
     "output_type": "execute_result"
    }
   ],
   "source": [
    "# Get the type of the object 'a'\n",
    "# The type() function returns the type of the specified object\n",
    "type(a)"
   ]
  },
  {
   "cell_type": "markdown",
   "metadata": {},
   "source": [
    "### Creating Arrays\n",
    "\n",
    "You can create an array from a regular Python list or tuple using the array function. The type of the resulting array is deduced from the type of the elements in the sequences."
   ]
  },
  {
   "cell_type": "code",
   "execution_count": 106,
   "metadata": {},
   "outputs": [
    {
     "data": {
      "text/plain": [
       "array([2, 3, 4])"
      ]
     },
     "execution_count": 106,
     "metadata": {},
     "output_type": "execute_result"
    }
   ],
   "source": [
    "# Importing the numpy library, which provides support for arrays and mathematical operations\n",
    "import numpy as np\n",
    "\n",
    "# Creating a numpy array with elements 2, 3, and 4\n",
    "a = np.array([2, 3, 4])\n",
    "\n",
    "# Display the numpy array 'a'\n",
    "a"
   ]
  },
  {
   "cell_type": "code",
   "execution_count": 107,
   "metadata": {},
   "outputs": [
    {
     "data": {
      "text/plain": [
       "dtype('int64')"
      ]
     },
     "execution_count": 107,
     "metadata": {},
     "output_type": "execute_result"
    }
   ],
   "source": [
    "# `a.dtype` returns the data type (dtype) of the NumPy array or pandas Series `a`\n",
    "# It helps identify the type of data stored in the array (e.g., int, float, object, etc.)\n",
    "a.dtype"
   ]
  },
  {
   "cell_type": "code",
   "execution_count": 108,
   "metadata": {},
   "outputs": [
    {
     "data": {
      "text/plain": [
       "'int64'"
      ]
     },
     "execution_count": 108,
     "metadata": {},
     "output_type": "execute_result"
    }
   ],
   "source": [
    "# Adding .name extracts just the string name of the data type (e.g., 'int32', 'float64')\n",
    "a.dtype.name"
   ]
  },
  {
   "cell_type": "code",
   "execution_count": 109,
   "metadata": {},
   "outputs": [
    {
     "data": {
      "text/plain": [
       "array([1.5, 3.5, 5.5])"
      ]
     },
     "execution_count": 109,
     "metadata": {},
     "output_type": "execute_result"
    }
   ],
   "source": [
    "# Create a NumPy array with three elements: 1.5, 3.5, and 5.5\n",
    "b = np.array([1.5, 3.5, 5.5])\n",
    "\n",
    "# Display the NumPy array\n",
    "b"
   ]
  },
  {
   "cell_type": "code",
   "execution_count": 110,
   "metadata": {},
   "outputs": [
    {
     "data": {
      "text/plain": [
       "dtype('float64')"
      ]
     },
     "execution_count": 110,
     "metadata": {},
     "output_type": "execute_result"
    }
   ],
   "source": [
    "# Get the data type of the object `b`\n",
    "# `b.dtype` returns the type of the elements stored in the array-like object `b`\n",
    "b.dtype"
   ]
  },
  {
   "cell_type": "markdown",
   "metadata": {},
   "source": [
    "A frequent error consists in calling array with multiple arguments, rather than providing a single sequence as an argument."
   ]
  },
  {
   "cell_type": "code",
   "execution_count": 111,
   "metadata": {},
   "outputs": [],
   "source": [
    "a = np.array(1, 2, 3, 4)    # WRONG"
   ]
  },
  {
   "cell_type": "code",
   "execution_count": 112,
   "metadata": {},
   "outputs": [],
   "source": [
    "a = np.array([1, 2, 3, 4])  # RIGHT"
   ]
  },
  {
   "cell_type": "markdown",
   "metadata": {},
   "source": [
    "**array()** transforms sequences of sequences into two-dimensional arrays, sequences of sequences of sequences into three-dimensional arrays, and so on."
   ]
  },
  {
   "cell_type": "code",
   "execution_count": 113,
   "metadata": {},
   "outputs": [
    {
     "data": {
      "text/plain": [
       "array([[1, 2, 3],\n",
       "       [4, 5, 6]])"
      ]
     },
     "execution_count": 113,
     "metadata": {},
     "output_type": "execute_result"
    }
   ],
   "source": [
    "# Create a 2D NumPy array with 2 rows and 3 columns\n",
    "b = np.array([[1, 2, 3], [4, 5, 6]])\n",
    "\n",
    "# Display the created 2D array\n",
    "b"
   ]
  },
  {
   "cell_type": "markdown",
   "metadata": {},
   "source": [
    "The type of the array can also be explicitly specified at creation time"
   ]
  },
  {
   "cell_type": "code",
   "execution_count": 114,
   "metadata": {},
   "outputs": [
    {
     "data": {
      "text/plain": [
       "array([[1.+0.j, 2.+0.j],\n",
       "       [3.+0.j, 4.+0.j]])"
      ]
     },
     "execution_count": 114,
     "metadata": {},
     "output_type": "execute_result"
    }
   ],
   "source": [
    "# Create a 2x2 numpy array with complex numbers\n",
    "# The 'dtype=complex' ensures the array elements are of complex type\n",
    "c = np.array([[1, 2], [3, 4]], dtype=complex)\n",
    "\n",
    "# Display the array\n",
    "c"
   ]
  },
  {
   "cell_type": "markdown",
   "metadata": {},
   "source": [
    "The function **zeros** creates an array full of zeros, the function **ones** creates an array full of ones, and the function **empty** creates an array whose initial content is random and depends on the state of the memory. By default, the dtype of the created array is **float64**, but it can be specified via the key word argument **dtype**."
   ]
  },
  {
   "cell_type": "code",
   "execution_count": 115,
   "metadata": {},
   "outputs": [
    {
     "data": {
      "text/plain": [
       "array([[0., 0., 0., 0., 0.],\n",
       "       [0., 0., 0., 0., 0.],\n",
       "       [0., 0., 0., 0., 0.],\n",
       "       [0., 0., 0., 0., 0.]])"
      ]
     },
     "execution_count": 115,
     "metadata": {},
     "output_type": "execute_result"
    }
   ],
   "source": [
    "# Return a new array of given shape and type, filled with zeros.\n",
    "# np.zeros() creates an array of the specified shape filled with zeros.\n",
    "# The shape (4, 5) means the array will have 4 rows and 5 columns.\n",
    "\n",
    "np.zeros((4, 5))"
   ]
  },
  {
   "cell_type": "code",
   "execution_count": 116,
   "metadata": {},
   "outputs": [
    {
     "data": {
      "text/plain": [
       "array([[[1, 1, 1, 1, 1],\n",
       "        [1, 1, 1, 1, 1],\n",
       "        [1, 1, 1, 1, 1],\n",
       "        [1, 1, 1, 1, 1]],\n",
       "\n",
       "       [[1, 1, 1, 1, 1],\n",
       "        [1, 1, 1, 1, 1],\n",
       "        [1, 1, 1, 1, 1],\n",
       "        [1, 1, 1, 1, 1]],\n",
       "\n",
       "       [[1, 1, 1, 1, 1],\n",
       "        [1, 1, 1, 1, 1],\n",
       "        [1, 1, 1, 1, 1],\n",
       "        [1, 1, 1, 1, 1]]], dtype=int16)"
      ]
     },
     "execution_count": 116,
     "metadata": {},
     "output_type": "execute_result"
    }
   ],
   "source": [
    "# Return a new array of the given shape and type, filled with ones.\n",
    "# The shape of the array is (3, 4, 5), meaning it will have 3 blocks, \n",
    "# each containing a 4x5 matrix. \n",
    "# The dtype is specified as np.int16, which means each element in the array \n",
    "# will be of type 16-bit integer.\n",
    "np.ones((3, 4, 5), dtype=np.int16)"
   ]
  },
  {
   "cell_type": "code",
   "execution_count": 117,
   "metadata": {},
   "outputs": [
    {
     "data": {
      "text/plain": [
       "array([[0.14100771, 0.96298181, 0.62170053, 0.22127978],\n",
       "       [0.91594584, 1.89594927, 0.10730838, 0.51304512],\n",
       "       [0.37631448, 0.76193221, 0.55999372, 0.49371024]])"
      ]
     },
     "execution_count": 117,
     "metadata": {},
     "output_type": "execute_result"
    }
   ],
   "source": [
    "# Return a new array of the given shape and type, filled with arbitrary data.\n",
    "# The shape of the array is specified as (3, 4), meaning 3 rows and 4 columns.\n",
    "np.empty((3, 4))"
   ]
  },
  {
   "cell_type": "code",
   "execution_count": 118,
   "metadata": {},
   "outputs": [
    {
     "data": {
      "text/plain": [
       "array([[1., 0., 0., 0.],\n",
       "       [0., 1., 0., 0.],\n",
       "       [0., 0., 1., 0.],\n",
       "       [0., 0., 0., 1.]])"
      ]
     },
     "execution_count": 118,
     "metadata": {},
     "output_type": "execute_result"
    }
   ],
   "source": [
    "# Return the identity array of size 4x4.\n",
    "# The identity matrix has ones on the diagonal and zeros elsewhere.\n",
    "np.identity(4)"
   ]
  },
  {
   "cell_type": "code",
   "execution_count": 119,
   "metadata": {},
   "outputs": [
    {
     "data": {
      "text/plain": [
       "array([[ 1.61346664, -1.40969133],\n",
       "       [-1.82305731, -0.83827323]])"
      ]
     },
     "execution_count": 119,
     "metadata": {},
     "output_type": "execute_result"
    }
   ],
   "source": [
    "# Generate a 2x2 array filled with random numbers from a standard normal distribution\n",
    "# (mean = 0, standard deviation = 1)\n",
    "arr = np.random.randn(2, 2)\n",
    "\n",
    "# Display the array\n",
    "arr"
   ]
  },
  {
   "cell_type": "markdown",
   "metadata": {},
   "source": [
    "### Printing Arrays\n",
    "\n",
    "One-dimensional arrays are then printed as rows, bi-dimensionals as matrices and tri-dimensionals as lists of matrices."
   ]
  },
  {
   "cell_type": "code",
   "execution_count": 120,
   "metadata": {},
   "outputs": [
    {
     "name": "stdout",
     "output_type": "stream",
     "text": [
      "[ 0  1  2  3  4  5  6  7  8  9 10 11 12 13 14 15 16 17 18 19 20 21 22 23]\n"
     ]
    }
   ],
   "source": [
    "# Create a NumPy array 'a' with 24 elements, ranging from 0 to 23 (exclusive) using np.arange\n",
    "a = np.arange(24)\n",
    "\n",
    "# Print the created array 'a'\n",
    "print(a)"
   ]
  },
  {
   "cell_type": "code",
   "execution_count": 121,
   "metadata": {},
   "outputs": [
    {
     "name": "stdout",
     "output_type": "stream",
     "text": [
      "[[ 0  1  2  3]\n",
      " [ 4  5  6  7]\n",
      " [ 8  9 10 11]\n",
      " [12 13 14 15]\n",
      " [16 17 18 19]\n",
      " [20 21 22 23]]\n"
     ]
    }
   ],
   "source": [
    "# Create a 1D numpy array with values from 0 to 23 (24 elements)\n",
    "b = np.arange(24)\n",
    "\n",
    "# Reshape the 1D array into a 2D array with 6 rows and 4 columns\n",
    "b = b.reshape(6, 4)\n",
    "\n",
    "# Print the resulting 2D array\n",
    "print(b)"
   ]
  },
  {
   "cell_type": "code",
   "execution_count": 122,
   "metadata": {},
   "outputs": [
    {
     "name": "stdout",
     "output_type": "stream",
     "text": [
      "[[[ 0  1  2  3]\n",
      "  [ 4  5  6  7]\n",
      "  [ 8  9 10 11]]\n",
      "\n",
      " [[12 13 14 15]\n",
      "  [16 17 18 19]\n",
      "  [20 21 22 23]]]\n"
     ]
    }
   ],
   "source": [
    "# Create a NumPy array of shape (2, 3, 4) with values from 0 to 23\n",
    "# np.arange(24) generates an array of 24 values from 0 to 23\n",
    "c = np.arange(24).reshape(2, 3, 4)\n",
    "\n",
    "# Print the reshaped array\n",
    "print(c)"
   ]
  },
  {
   "cell_type": "markdown",
   "metadata": {},
   "source": [
    "### Basic Operations\n",
    "\n",
    "Arithmetic operators on arrays apply elementwise. A new array is created and filled with the result."
   ]
  },
  {
   "cell_type": "code",
   "execution_count": 123,
   "metadata": {},
   "outputs": [
    {
     "data": {
      "text/plain": [
       "array([10, 20, 30, 40])"
      ]
     },
     "execution_count": 123,
     "metadata": {},
     "output_type": "execute_result"
    }
   ],
   "source": [
    "# Create a NumPy array `a` with the specified values\n",
    "a = np.array([10, 20, 30, 40])\n",
    "\n",
    "# Display the array `a`\n",
    "a"
   ]
  },
  {
   "cell_type": "code",
   "execution_count": 124,
   "metadata": {},
   "outputs": [
    {
     "data": {
      "text/plain": [
       "array([0, 1, 2, 3])"
      ]
     },
     "execution_count": 124,
     "metadata": {},
     "output_type": "execute_result"
    }
   ],
   "source": [
    "# Create a NumPy array with values ranging from 0 to 3\n",
    "b = np.arange(4)\n",
    "\n",
    "# Display the array\n",
    "b"
   ]
  },
  {
   "cell_type": "code",
   "execution_count": 125,
   "metadata": {},
   "outputs": [
    {
     "data": {
      "text/plain": [
       "array([10, 19, 28, 37])"
      ]
     },
     "execution_count": 125,
     "metadata": {},
     "output_type": "execute_result"
    }
   ],
   "source": [
    "# Subtract the value of variable 'b' from variable 'a' and store the result in 'c'\n",
    "c = a - b\n",
    "\n",
    "# Output the value of 'c'\n",
    "c"
   ]
  },
  {
   "cell_type": "code",
   "execution_count": 126,
   "metadata": {},
   "outputs": [
    {
     "data": {
      "text/plain": [
       "array([0, 1, 4, 9])"
      ]
     },
     "execution_count": 126,
     "metadata": {},
     "output_type": "execute_result"
    }
   ],
   "source": [
    "# Square the value of 'b' (raise 'b' to the power of 2)\n",
    "b**2"
   ]
  },
  {
   "cell_type": "code",
   "execution_count": 127,
   "metadata": {},
   "outputs": [
    {
     "data": {
      "text/plain": [
       "array([ True,  True,  True, False])"
      ]
     },
     "execution_count": 127,
     "metadata": {},
     "output_type": "execute_result"
    }
   ],
   "source": [
    "# Checks if the value of 'a' is less than 40\n",
    "a < 40"
   ]
  },
  {
   "cell_type": "markdown",
   "metadata": {},
   "source": [
    "The product operator * operates elementwise in NumPy arrays. The matrix product can be performed using the @ operator or the dot function or method:"
   ]
  },
  {
   "cell_type": "code",
   "execution_count": 128,
   "metadata": {},
   "outputs": [
    {
     "data": {
      "text/plain": [
       "array([[ 5, 12],\n",
       "       [21, 32]])"
      ]
     },
     "execution_count": 128,
     "metadata": {},
     "output_type": "execute_result"
    }
   ],
   "source": [
    "# Define a 2x2 NumPy array A\n",
    "A = np.array([[1, 2],\n",
    "              [3, 4]])\n",
    "\n",
    "# Define a 2x2 NumPy array B\n",
    "B = np.array([[5, 6],\n",
    "              [7, 8]])\n",
    "\n",
    "# Perform element-wise multiplication of matrices A and B\n",
    "# Each element in A is multiplied by the corresponding element in B\n",
    "A * B     # elementwise product\n",
    "          # A = [[ a, b ],\n",
    "          #      [ c, d ]]\n",
    "          # B = [[ e, f ],\n",
    "          #      [ g, h ]]\n",
    "          # A * B = [[ ae, bf ],\n",
    "          #          [ cg, dh ]]\n",
    "          # a = 1, b = 2, c = 3, d = 4, e = 5, f = 6, g = 7, h = 8\n",
    "          # ae = 1x5 = 5\n",
    "          # bf = 2x6 = 12\n",
    "          # cg = 3x7 = 21\n",
    "          # dh = 4x8 = 32"
   ]
  },
  {
   "cell_type": "code",
   "execution_count": 129,
   "metadata": {},
   "outputs": [
    {
     "data": {
      "text/plain": [
       "array([[19, 22],\n",
       "       [43, 50]])"
      ]
     },
     "execution_count": 129,
     "metadata": {},
     "output_type": "execute_result"
    }
   ],
   "source": [
    "A @ B     # Matrix multiplication using the \"@\" operator in Python\n",
    "          # A = [[ a, b ],\n",
    "          #      [ c, d ]]\n",
    "          # B = [[ e, f ],\n",
    "          #      [ g, h ]]\n",
    "          # A @ B = [[ ae + bg, af + bh ],\n",
    "          #          [ ce + dg, cf + dh ]]\n",
    "          # a = 1, b = 2, c = 3, d = 4, e = 5, f = 6, g = 7, h = 8\n",
    "          # ae + bg = 1x5 + 2x7 = 19\n",
    "          # af + bh = 1x6 + 2x8 = 22\n",
    "          # ce + dg = 3x5 + 4x7 = 43\n",
    "          # cf + dh = 3x6 + 4x8 = 50"
   ]
  },
  {
   "cell_type": "code",
   "execution_count": 130,
   "metadata": {},
   "outputs": [
    {
     "data": {
      "text/plain": [
       "array([[19, 22],\n",
       "       [43, 50]])"
      ]
     },
     "execution_count": 130,
     "metadata": {},
     "output_type": "execute_result"
    }
   ],
   "source": [
    "A.dot(B)  # Computes the matrix product of A and B using the dot product operation\n",
    "          # A = [[ a, b ],\n",
    "          #      [ c, d ]]\n",
    "          # B = [[ e, f ],\n",
    "          #      [ g, h ]]\n",
    "          # A @ B = [[ ae + bg, af + bh ],\n",
    "          #          [ ce + dg, cf + dh ]]\n",
    "          # a = 1, b = 2, c = 3, d = 4, e = 5, f = 6, g = 7, h = 8\n",
    "          # ae + bg = 1x5 + 2x7 = 19\n",
    "          # af + bh = 1x6 + 2x8 = 22\n",
    "          # ce + dg = 3x5 + 4x7 = 43\n",
    "          # cf + dh = 3x6 + 4x8 = 50"
   ]
  },
  {
   "cell_type": "markdown",
   "metadata": {},
   "source": [
    "+= and *=, act in place to modify an existing array rather than create a new one."
   ]
  },
  {
   "cell_type": "markdown",
   "metadata": {},
   "source": [
    "In NumPy, you can transpose an array using the .T attribute, the transpose() method, or the numpy.transpose() function."
   ]
  },
  {
   "cell_type": "code",
   "execution_count": 131,
   "metadata": {},
   "outputs": [
    {
     "data": {
      "text/plain": [
       "array([[1, 3],\n",
       "       [2, 4]])"
      ]
     },
     "execution_count": 131,
     "metadata": {},
     "output_type": "execute_result"
    }
   ],
   "source": [
    "A.T"
   ]
  },
  {
   "cell_type": "code",
   "execution_count": 132,
   "metadata": {},
   "outputs": [
    {
     "data": {
      "text/plain": [
       "array([[1, 1, 1],\n",
       "       [1, 1, 1]])"
      ]
     },
     "execution_count": 132,
     "metadata": {},
     "output_type": "execute_result"
    }
   ],
   "source": [
    "# Create a 2x3 array filled with ones\n",
    "# The dtype=int ensures that the elements are integers\n",
    "a = np.ones((2, 3), dtype=int)\n",
    "\n",
    "# Display the created array\n",
    "a"
   ]
  },
  {
   "cell_type": "code",
   "execution_count": 133,
   "metadata": {},
   "outputs": [
    {
     "data": {
      "text/plain": [
       "array([[0.51182162, 0.9504637 , 0.14415961],\n",
       "       [0.94864945, 0.31183145, 0.42332645]])"
      ]
     },
     "execution_count": 133,
     "metadata": {},
     "output_type": "execute_result"
    }
   ],
   "source": [
    "# Create an instance of the default random number generator with a fixed seed (1) for reproducibility\n",
    "rg = np.random.default_rng(1)  \n",
    "\n",
    "# Generate a 2x3 array of random numbers uniformly distributed between 0 and 1\n",
    "b = rg.random((2, 3))\n",
    "\n",
    "# Display the generated array\n",
    "b"
   ]
  },
  {
   "cell_type": "code",
   "execution_count": 134,
   "metadata": {},
   "outputs": [
    {
     "data": {
      "text/plain": [
       "array([[3, 3, 3],\n",
       "       [3, 3, 3]])"
      ]
     },
     "execution_count": 134,
     "metadata": {},
     "output_type": "execute_result"
    }
   ],
   "source": [
    "# Multiply the current value of 'a' by 3 and update 'a' with the new value\n",
    "a *= 3  \n",
    "\n",
    "# Display the updated value of 'a'\n",
    "a"
   ]
  },
  {
   "cell_type": "code",
   "execution_count": 135,
   "metadata": {},
   "outputs": [
    {
     "data": {
      "text/plain": [
       "array([[3.51182162, 3.9504637 , 3.14415961],\n",
       "       [3.94864945, 3.31183145, 3.42332645]])"
      ]
     },
     "execution_count": 135,
     "metadata": {},
     "output_type": "execute_result"
    }
   ],
   "source": [
    "# Add the value of variable `a` to the value of variable `b`\n",
    "b += a\n",
    "\n",
    "# Return the updated value of `b`\n",
    "b"
   ]
  },
  {
   "cell_type": "markdown",
   "metadata": {},
   "source": [
    "Many unary operations such as **sum**, **min**, **max** are also available."
   ]
  },
  {
   "cell_type": "code",
   "execution_count": 136,
   "metadata": {},
   "outputs": [
    {
     "data": {
      "text/plain": [
       "array([[0.82770259, 0.40919914, 0.54959369, 0.02755911],\n",
       "       [0.75351311, 0.53814331, 0.32973172, 0.7884287 ],\n",
       "       [0.30319483, 0.45349789, 0.1340417 , 0.40311299]])"
      ]
     },
     "execution_count": 136,
     "metadata": {},
     "output_type": "execute_result"
    }
   ],
   "source": [
    "# Create a 3x4 matrix of random values using a random number generator (rg)\n",
    "# This generates a matrix with 3 rows and 4 columns, filled with random numbers\n",
    "a = rg.random((3, 4))\n",
    "\n",
    "# Display the generated matrix 'a'\n",
    "a"
   ]
  },
  {
   "cell_type": "code",
   "execution_count": 137,
   "metadata": {},
   "outputs": [
    {
     "data": {
      "text/plain": [
       "5.517718775393902"
      ]
     },
     "execution_count": 137,
     "metadata": {},
     "output_type": "execute_result"
    }
   ],
   "source": [
    "# Sum all the elements of the DataFrame or Series 'a'\n",
    "a.sum()"
   ]
  },
  {
   "cell_type": "code",
   "execution_count": 138,
   "metadata": {},
   "outputs": [
    {
     "data": {
      "text/plain": [
       "0.027559113243068367"
      ]
     },
     "execution_count": 138,
     "metadata": {},
     "output_type": "execute_result"
    }
   ],
   "source": [
    "# Get the minimum value from the array, pandas Series, or DataFrame 'a'\n",
    "a.min()"
   ]
  },
  {
   "cell_type": "code",
   "execution_count": 139,
   "metadata": {},
   "outputs": [
    {
     "data": {
      "text/plain": [
       "0.8277025938204418"
      ]
     },
     "execution_count": 139,
     "metadata": {},
     "output_type": "execute_result"
    }
   ],
   "source": [
    "# Call the max() method on the variable 'a' to find the maximum value in it\n",
    "# If 'a' is a NumPy array, pandas Series, or a similar data structure,\n",
    "# this will return the largest value in 'a'.\n",
    "a.max()"
   ]
  },
  {
   "cell_type": "markdown",
   "metadata": {},
   "source": [
    "By default, these operations apply to the array as though it were a list of numbers, regardless of its shape. However, by specifying the **axis** parameter you can apply an operation along the specified axis of an array:"
   ]
  },
  {
   "cell_type": "code",
   "execution_count": 140,
   "metadata": {},
   "outputs": [
    {
     "data": {
      "text/plain": [
       "array([[ 0,  1,  2,  3,  4,  5],\n",
       "       [ 6,  7,  8,  9, 10, 11],\n",
       "       [12, 13, 14, 15, 16, 17],\n",
       "       [18, 19, 20, 21, 22, 23]])"
      ]
     },
     "execution_count": 140,
     "metadata": {},
     "output_type": "execute_result"
    }
   ],
   "source": [
    "# Create a NumPy array with values ranging from 0 to 23 (inclusive), with a total of 24 elements\n",
    "# Then reshape the array into a 4x6 matrix (4 rows and 6 columns)\n",
    "b = np.arange(24).reshape(4, 6)\n",
    "\n",
    "# Display the reshaped matrix\n",
    "b"
   ]
  },
  {
   "cell_type": "code",
   "execution_count": 141,
   "metadata": {},
   "outputs": [
    {
     "data": {
      "text/plain": [
       "array([36, 40, 44, 48, 52, 56])"
      ]
     },
     "execution_count": 141,
     "metadata": {},
     "output_type": "execute_result"
    }
   ],
   "source": [
    "# Sum of each column in the DataFrame `b`\n",
    "# The `axis=0` argument ensures that the sum is calculated for each column (vertically)\n",
    "b.sum(axis=0)"
   ]
  },
  {
   "cell_type": "code",
   "execution_count": 142,
   "metadata": {},
   "outputs": [
    {
     "data": {
      "text/plain": [
       "array([ 0,  6, 12, 18])"
      ]
     },
     "execution_count": 142,
     "metadata": {},
     "output_type": "execute_result"
    }
   ],
   "source": [
    "# Calculate the minimum value of each row in the DataFrame `b`\n",
    "b.min(axis=1)  # axis=1 indicates that the operation is performed row-wise"
   ]
  },
  {
   "cell_type": "code",
   "execution_count": 143,
   "metadata": {},
   "outputs": [
    {
     "data": {
      "text/plain": [
       "array([[  0,   1,   3,   6,  10,  15],\n",
       "       [  6,  13,  21,  30,  40,  51],\n",
       "       [ 12,  25,  39,  54,  70,  87],\n",
       "       [ 18,  37,  57,  78, 100, 123]])"
      ]
     },
     "execution_count": 143,
     "metadata": {},
     "output_type": "execute_result"
    }
   ],
   "source": [
    "# Cumulative sum along each row (axis=1 means operation is performed row-wise)\n",
    "b.cumsum(axis=1)"
   ]
  },
  {
   "cell_type": "markdown",
   "metadata": {},
   "source": [
    "### Universal Functions (ufunc) in NumPy\n",
    "\n",
    "In NumPy, a **Universal Function (ufunc)** is a function that operates element-wise on an array. **ufunc**s provide efficient vectorized operations and broadcasting capabilities, making computations faster and more concise compared to traditional Python loops.\n",
    "\n",
    "#### Features of ufuncs\n",
    "\n",
    "- **Element-wise operations:** Apply functions to each element of an array without explicit loops.\n",
    "- **Vectorization:** Perform computations efficiently using optimized C code under the hood.\n",
    "- **Broadcasting:** Enable operations on arrays of different shapes.\n",
    "- **Type casting:** Automatically convert input types to appropriate data types.\n",
    "- **Reduce and accumulate:** Perform cumulative operations on arrays."
   ]
  },
  {
   "cell_type": "code",
   "execution_count": 144,
   "metadata": {},
   "outputs": [
    {
     "data": {
      "text/plain": [
       "array([0, 1, 2])"
      ]
     },
     "execution_count": 144,
     "metadata": {},
     "output_type": "execute_result"
    }
   ],
   "source": [
    "# Create a NumPy array with values from 0 to 2 (3 is exclusive)\n",
    "B = np.arange(3)\n",
    "\n",
    "# Display the array B\n",
    "B"
   ]
  },
  {
   "cell_type": "code",
   "execution_count": 145,
   "metadata": {},
   "outputs": [
    {
     "data": {
      "text/plain": [
       "array([1.        , 2.71828183, 7.3890561 ])"
      ]
     },
     "execution_count": 145,
     "metadata": {},
     "output_type": "execute_result"
    }
   ],
   "source": [
    "# Apply the exponential function to each element in the array or matrix B\n",
    "# The np.exp() function calculates e raised to the power of each element in B\n",
    "np.exp(B)"
   ]
  },
  {
   "cell_type": "markdown",
   "metadata": {},
   "source": [
    "#### How np.exp(B) Iterates Through Matrix Elements\n",
    "The function np.exp(B) operates on the array element by element:\n",
    "\n",
    "- **Step 1**: Takes B[0] = 0, computes exp(0) = 1.0\n",
    "- **Step 2**: Takes B[1] = 1, computes exp(1) ≈ 2.71828183\n",
    "- **Step 3**: Takes B[2] = 2, computes exp(2) ≈ 7.3890561\n",
    "\n",
    "The entire computation is vectorized, meaning NumPy efficiently applies the operation without using explicit loops."
   ]
  },
  {
   "cell_type": "code",
   "execution_count": 146,
   "metadata": {},
   "outputs": [
    {
     "data": {
      "text/plain": [
       "array([0.        , 1.        , 1.41421356])"
      ]
     },
     "execution_count": 146,
     "metadata": {},
     "output_type": "execute_result"
    }
   ],
   "source": [
    "# Take the square root of the value stored in variable B using NumPy's sqrt function\n",
    "np.sqrt(B)"
   ]
  },
  {
   "cell_type": "code",
   "execution_count": 147,
   "metadata": {},
   "outputs": [
    {
     "data": {
      "text/plain": [
       "array([2., 0., 6.])"
      ]
     },
     "execution_count": 147,
     "metadata": {},
     "output_type": "execute_result"
    }
   ],
   "source": [
    "# Create a NumPy array `C` with values [2.0, -1.0, 4.0]\n",
    "C = np.array([2., -1., 4.])\n",
    "\n",
    "# Add the arrays `B` and `C` element-wise using NumPy's `add` function\n",
    "# This will return a new array where each element is the sum of the corresponding elements of `B` and `C`\n",
    "np.add(B, C)"
   ]
  },
  {
   "cell_type": "markdown",
   "metadata": {},
   "source": [
    "### Indexing, Slicing and Iterating\n",
    "\n",
    "One-dimensional arrays can be indexed, sliced and iterated over, much like lists and other Python sequences."
   ]
  },
  {
   "cell_type": "code",
   "execution_count": 148,
   "metadata": {},
   "outputs": [
    {
     "data": {
      "text/plain": [
       "array([  0,   1,   8,  27,  64, 125, 216, 343, 512, 729])"
      ]
     },
     "execution_count": 148,
     "metadata": {},
     "output_type": "execute_result"
    }
   ],
   "source": [
    "# Create a NumPy array of numbers from 0 to 9 (inclusive)\n",
    "# The `np.arange(10)` generates an array with values from 0 to 9\n",
    "\n",
    "a = np.arange(10)**3  # Raise each element of the array to the power of 3\n",
    "\n",
    "# Display the resulting array\n",
    "a"
   ]
  },
  {
   "cell_type": "code",
   "execution_count": 149,
   "metadata": {},
   "outputs": [
    {
     "data": {
      "text/plain": [
       "8"
      ]
     },
     "execution_count": 149,
     "metadata": {},
     "output_type": "execute_result"
    }
   ],
   "source": [
    "a[2]  # Access the third element of the array 'a'"
   ]
  },
  {
   "cell_type": "code",
   "execution_count": 150,
   "metadata": {},
   "outputs": [
    {
     "data": {
      "text/plain": [
       "array([ 8, 27, 64])"
      ]
     },
     "execution_count": 150,
     "metadata": {},
     "output_type": "execute_result"
    }
   ],
   "source": [
    "a[2:5] # get the third through fifth elements of the array (not including fifth)"
   ]
  },
  {
   "cell_type": "code",
   "execution_count": 151,
   "metadata": {},
   "outputs": [
    {
     "data": {
      "text/plain": [
       "array([ 0,  8, 64])"
      ]
     },
     "execution_count": 151,
     "metadata": {},
     "output_type": "execute_result"
    }
   ],
   "source": [
    "a[0:6:2] # from start to position 6, get every 2nd element (start:end:stepsize)"
   ]
  },
  {
   "cell_type": "code",
   "execution_count": 152,
   "metadata": {},
   "outputs": [
    {
     "data": {
      "text/plain": [
       "array([729, 512, 343, 216, 125,  64,  27,   8,   1,   0])"
      ]
     },
     "execution_count": 152,
     "metadata": {},
     "output_type": "execute_result"
    }
   ],
   "source": [
    "a[::-1] # reversed array"
   ]
  },
  {
   "cell_type": "code",
   "execution_count": 153,
   "metadata": {},
   "outputs": [
    {
     "name": "stdout",
     "output_type": "stream",
     "text": [
      "0.0\n",
      "1.0\n",
      "2.0\n",
      "3.0\n",
      "3.9999999999999996\n",
      "4.999999999999999\n",
      "5.999999999999999\n",
      "6.999999999999999\n",
      "7.999999999999999\n",
      "8.999999999999998\n"
     ]
    }
   ],
   "source": [
    "for i in a: # use for loop to access every element of the array\n",
    "  print(i**(1 / 3.))"
   ]
  },
  {
   "cell_type": "code",
   "execution_count": 154,
   "metadata": {},
   "outputs": [
    {
     "data": {
      "text/plain": [
       "array([[ 0,  1,  2,  3,  4,  5],\n",
       "       [ 6,  7,  8,  9, 10, 11],\n",
       "       [12, 13, 14, 15, 16, 17],\n",
       "       [18, 19, 20, 21, 22, 23]])"
      ]
     },
     "execution_count": 154,
     "metadata": {},
     "output_type": "execute_result"
    }
   ],
   "source": [
    "b"
   ]
  },
  {
   "cell_type": "code",
   "execution_count": 155,
   "metadata": {},
   "outputs": [
    {
     "data": {
      "text/plain": [
       "15"
      ]
     },
     "execution_count": 155,
     "metadata": {},
     "output_type": "execute_result"
    }
   ],
   "source": [
    "b[2, 3] # third row and fouth column element of b"
   ]
  },
  {
   "cell_type": "code",
   "execution_count": 156,
   "metadata": {},
   "outputs": [
    {
     "data": {
      "text/plain": [
       "array([ 1,  7, 13, 19])"
      ]
     },
     "execution_count": 156,
     "metadata": {},
     "output_type": "execute_result"
    }
   ],
   "source": [
    "b[0:5, 1] # each row in the second column of b"
   ]
  },
  {
   "cell_type": "code",
   "execution_count": 157,
   "metadata": {},
   "outputs": [
    {
     "data": {
      "text/plain": [
       "array([ 1,  7, 13, 19])"
      ]
     },
     "execution_count": 157,
     "metadata": {},
     "output_type": "execute_result"
    }
   ],
   "source": [
    "b[:, 1] # equivalent to the previous example"
   ]
  },
  {
   "cell_type": "code",
   "execution_count": 158,
   "metadata": {},
   "outputs": [
    {
     "data": {
      "text/plain": [
       "array([[ 6,  7,  8,  9, 10, 11],\n",
       "       [12, 13, 14, 15, 16, 17]])"
      ]
     },
     "execution_count": 158,
     "metadata": {},
     "output_type": "execute_result"
    }
   ],
   "source": [
    "b[1:3, :] # the second and third row of b"
   ]
  },
  {
   "cell_type": "markdown",
   "metadata": {},
   "source": [
    "Iterating over multidimensional arrays is done with respect to the first axis:\n",
    "\n"
   ]
  },
  {
   "cell_type": "code",
   "execution_count": 159,
   "metadata": {},
   "outputs": [
    {
     "name": "stdout",
     "output_type": "stream",
     "text": [
      "[0 1 2 3 4 5]\n",
      "[ 6  7  8  9 10 11]\n",
      "[12 13 14 15 16 17]\n",
      "[18 19 20 21 22 23]\n"
     ]
    }
   ],
   "source": [
    "# Iterate through each element (row) in the iterable `b`\n",
    "for row in b:\n",
    "    # Print the current element (row) from the iterable `b`\n",
    "    print(row)"
   ]
  },
  {
   "cell_type": "markdown",
   "metadata": {},
   "source": [
    "However, if one wants to perform an operation on each element in the array, one can use the **flat** attribute which is an iterator over all the elements of the array:"
   ]
  },
  {
   "cell_type": "code",
   "execution_count": 160,
   "metadata": {},
   "outputs": [
    {
     "name": "stdout",
     "output_type": "stream",
     "text": [
      "0\n",
      "1\n",
      "2\n",
      "3\n",
      "4\n",
      "5\n",
      "6\n",
      "7\n",
      "8\n",
      "9\n",
      "10\n",
      "11\n",
      "12\n",
      "13\n",
      "14\n",
      "15\n",
      "16\n",
      "17\n",
      "18\n",
      "19\n",
      "20\n",
      "21\n",
      "22\n",
      "23\n"
     ]
    }
   ],
   "source": [
    "# Iterate over each element in the flattened version of the array 'b'\n",
    "# 'b.flat' returns an iterator over all the elements of 'b' in a flat (1-dimensional) order\n",
    "for element in b.flat:\n",
    "    # Print each individual element of the flattened array\n",
    "    print(element)"
   ]
  },
  {
   "cell_type": "markdown",
   "metadata": {},
   "source": [
    "Arrays can be indexed by arrays of integers and arrays of booleans."
   ]
  },
  {
   "cell_type": "code",
   "execution_count": 161,
   "metadata": {},
   "outputs": [
    {
     "data": {
      "text/plain": [
       "array([  0,   1,   4,   9,  16,  25,  36,  49,  64,  81, 100, 121])"
      ]
     },
     "execution_count": 161,
     "metadata": {},
     "output_type": "execute_result"
    }
   ],
   "source": [
    "# Create a NumPy array containing the first 12 square numbers using np.arange() and squaring them\n",
    "a = np.arange(12)**2  # np.arange(12) generates numbers from 0 to 11, and squaring them gives their square values\n",
    "\n",
    "# Display the array\n",
    "a"
   ]
  },
  {
   "cell_type": "code",
   "execution_count": 162,
   "metadata": {},
   "outputs": [
    {
     "data": {
      "text/plain": [
       "array([0, 1, 3, 8, 5])"
      ]
     },
     "execution_count": 162,
     "metadata": {},
     "output_type": "execute_result"
    }
   ],
   "source": [
    "# Create a NumPy array containing a list of indices\n",
    "i = np.array([0, 1, 3, 8, 5])  # an array of indices\n",
    "\n",
    "# Display the array of indices\n",
    "i"
   ]
  },
  {
   "cell_type": "code",
   "execution_count": 163,
   "metadata": {},
   "outputs": [
    {
     "data": {
      "text/plain": [
       "array([ 0,  1,  9, 64, 25])"
      ]
     },
     "execution_count": 163,
     "metadata": {},
     "output_type": "execute_result"
    }
   ],
   "source": [
    "a[i]  # Accesses the element of list/array `a` at the index `i`"
   ]
  },
  {
   "cell_type": "markdown",
   "metadata": {},
   "source": [
    "### Singular Value Decomposition (SVD)\n",
    "\n",
    "**Singular Value Decomposition (SVD)** is a fundamental matrix factorization technique in linear algebra. It decomposes a matrix \\( A \\) into three matrices:\n",
    "\n",
    "$$\n",
    "A = U \\Sigma V^T\n",
    "$$\n",
    "\n",
    "Where:  \n",
    "- $A$: The original matrix (of size $m \\times n$).  \n",
    "- $U$: An orthogonal matrix (of size $m \\times m$) containing the left singular vectors.  \n",
    "- $\\Sigma$: A diagonal matrix (of size $m \\times n$) containing the singular values (non-negative and in descending order).  \n",
    "- $V^T$: The transpose of an orthogonal matrix (of size $n \\times n$) containing the right singular vectors.\n",
    "\n",
    "#### Key Applications of SVD:\n",
    "1. **Dimensionality Reduction**: Used in Principal Component Analysis (PCA) to reduce the number of features while preserving variance.\n",
    "2. **Data Compression**: Reduces the size of data by approximating the original matrix with fewer singular values.\n",
    "3. **Noise Reduction**: Removes noise by truncating smaller singular values.\n",
    "4. **Recommendation Systems**: Used in collaborative filtering (e.g., Netflix recommendations).\n",
    "5. **Image Processing**: Compresses and reconstructs images.\n",
    "\n",
    "#### Example in Python:\n"
   ]
  },
  {
   "cell_type": "code",
   "execution_count": 164,
   "metadata": {},
   "outputs": [
    {
     "name": "stdout",
     "output_type": "stream",
     "text": [
      "U (Left Singular Vectors):\n",
      " [[-0.21483724  0.88723069  0.40824829]\n",
      " [-0.52058739  0.24964395 -0.81649658]\n",
      " [-0.82633754 -0.38794278  0.40824829]]\n",
      "S (Singular Values):\n",
      " [1.68481034e+01 1.06836951e+00 1.47280825e-16]\n",
      "VT (Right Singular Vectors Transpose):\n",
      " [[-0.47967118 -0.57236779 -0.66506441]\n",
      " [-0.77669099 -0.07568647  0.62531805]\n",
      " [ 0.40824829 -0.81649658  0.40824829]]\n"
     ]
    }
   ],
   "source": [
    "import numpy as np  # Import the NumPy library\n",
    "\n",
    "# Create a 3x3 matrix A\n",
    "A = np.array([[1, 2, 3], [4, 5, 6], [7, 8, 9]])\n",
    "\n",
    "# Perform Singular Value Decomposition (SVD)\n",
    "# U: Left singular vectors\n",
    "# S: Singular values\n",
    "# VT: Transpose of the right singular vectors (V^T)\n",
    "U, S, VT = np.linalg.svd(A)\n",
    "\n",
    "# Print the left singular vectors (U matrix)\n",
    "print(\"U (Left Singular Vectors):\\n\", U)\n",
    "\n",
    "# Print the singular values (S matrix, will be a 1D array)\n",
    "print(\"S (Singular Values):\\n\", S)\n",
    "\n",
    "# Print the transpose of the right singular vectors (VT matrix)\n",
    "print(\"VT (Right Singular Vectors Transpose):\\n\", VT)\n"
   ]
  },
  {
   "cell_type": "markdown",
   "metadata": {},
   "source": [
    "### Array creation, filtering, and modification"
   ]
  },
  {
   "cell_type": "code",
   "execution_count": 165,
   "metadata": {},
   "outputs": [
    {
     "name": "stdout",
     "output_type": "stream",
     "text": [
      "Original animal data:\n",
      "[[-0.49212024 -1.20740601  0.27009821 -1.12887281]\n",
      " [-0.06897505  0.04502148 -0.23409612  1.42436451]\n",
      " [-1.20380148 -1.04690335  0.37139877 -1.40528863]]\n"
     ]
    }
   ],
   "source": [
    "# Create a NumPy array containing the names of three animal species\n",
    "animals = np.array([\"Tiger\", \"Elephant\", \"Cheetah\"])\n",
    "\n",
    "# Generate a 3x4 array of random numbers sampled from a standard normal distribution (mean=0, std=1)\n",
    "# This array represents measurements associated with the animals (e.g., weight, length, speed, age)\n",
    "animal_data = np.random.randn(3, 4)\n",
    "\n",
    "# Display the generated animal data\n",
    "print(\"Original animal data:\")\n",
    "print(animal_data)"
   ]
  },
  {
   "cell_type": "code",
   "execution_count": 166,
   "metadata": {},
   "outputs": [
    {
     "name": "stdout",
     "output_type": "stream",
     "text": [
      "\n",
      "Data for Elephant:\n",
      "[[-0.06897505  0.04502148 -0.23409612  1.42436451]]\n"
     ]
    }
   ],
   "source": [
    "# Filter the `animal_data` array to retrieve the row(s) corresponding to the animal \"Elephant\"\n",
    "# `animals == \"Elephant\"` creates a boolean array where the condition is True for \"Elephant\" and False otherwise\n",
    "# This boolean array is used to index `animal_data`, returning the row(s) where the condition is True\n",
    "print(\"\\nData for Elephant:\")\n",
    "print(animal_data[animals == \"Elephant\"])"
   ]
  },
  {
   "cell_type": "code",
   "execution_count": 167,
   "metadata": {},
   "outputs": [
    {
     "name": "stdout",
     "output_type": "stream",
     "text": [
      "\n",
      "Elements less than -0.5:\n",
      "[-1.20740601 -1.12887281 -1.20380148 -1.04690335 -1.40528863]\n"
     ]
    }
   ],
   "source": [
    "# Filter the `animal_data` array to retrieve all elements that are less than -0.5\n",
    "# `animal_data < -0.5` creates a boolean array of the same shape as `animal_data`, where each element is:\n",
    "# - True if the corresponding element in `animal_data` is less than -0.5\n",
    "# - False otherwise\n",
    "# The boolean array is used to index `animal_data`, returning a flattened array of elements that satisfy the condition\n",
    "print(\"\\nElements less than -0.5:\")\n",
    "print(animal_data[animal_data < -0.5])"
   ]
  },
  {
   "cell_type": "code",
   "execution_count": 168,
   "metadata": {},
   "outputs": [
    {
     "name": "stdout",
     "output_type": "stream",
     "text": [
      "\n",
      "Modified animal data (values > 1 set to 1):\n",
      "[[-0.49212024 -1.20740601  0.27009821 -1.12887281]\n",
      " [-0.06897505  0.04502148 -0.23409612  1.        ]\n",
      " [-1.20380148 -1.04690335  0.37139877 -1.40528863]]\n"
     ]
    }
   ],
   "source": [
    "# Replace all elements in `animal_data` that are greater than 1 with 1\n",
    "# `animal_data > 1` creates a boolean array of the same shape as `animal_data`, where each element is:\n",
    "# - True if the corresponding element in `animal_data` is greater than 1\n",
    "# - False otherwise\n",
    "# The boolean array is used to index `animal_data`, and all elements satisfying the condition are set to 1\n",
    "animal_data[animal_data > 1] = 1\n",
    "\n",
    "# Display the modified `animal_data` array\n",
    "print(\"\\nModified animal data (values > 1 set to 1):\")\n",
    "print(animal_data)"
   ]
  },
  {
   "cell_type": "markdown",
   "metadata": {},
   "source": [
    "## Conclusion\n",
    "\n",
    "In this module, we've learned about the basics of NumPy, including creating and manipulating arrays, using universal functions, and indexing/slicing arrays. These skills form the foundation for scientific computing in Python.\n",
    "\n",
    "## Clean up\n",
    "\n",
    "Remember to shut down your Jupyter Notebook instance when you're done to avoid unnecessary charges. You can do this by stopping the notebook instance from the Amazon SageMaker console."
   ]
  }
 ],
 "metadata": {
  "kernelspec": {
   "display_name": "Python 3 (ipykernel)",
   "language": "python",
   "name": "python3"
  },
  "language_info": {
   "codemirror_mode": {
    "name": "ipython",
    "version": 3
   },
   "file_extension": ".py",
   "mimetype": "text/x-python",
   "name": "python",
   "nbconvert_exporter": "python",
   "pygments_lexer": "ipython3",
   "version": "3.9.11"
  }
 },
 "nbformat": 4,
 "nbformat_minor": 4
}
