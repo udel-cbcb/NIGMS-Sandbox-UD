{
 "cells": [
  {
   "cell_type": "markdown",
   "metadata": {},
   "source": [
    "# What is NumPy?\n",
    "\n",
    "## Overview\n",
    "\n",
    "[NumPy](https://numpy.org/) is the fundamental package for scientific computing in Python. It is a Python library that provides a multidimensional array object, various derived objects (such as masked arrays and matrices), and an assortment of routines for fast operations on arrays, including mathematical, logical, shape manipulation, sorting, selecting, I/O, discrete Fourier transforms, basic linear algebra, basic statistical operations, random simulation and much more.\n",
    "\n",
    "## Learning Objectives\n",
    "\n",
    "- Understand the difference between one-, two- and n-dimensional arrays in NumPy\n",
    "- Understand how to apply some linear algebra operations to n-dimensional arrays without using for-loops\n",
    "- Understand axis and shape properties for n-dimensional arrays\n",
    "\n",
    "## Prerequisites\n",
    "\n",
    "You’ll need to know a bit of Python. For a refresher, see the [Python tutorial](https://docs.python.org/tutorial/).\n",
    "\n",
    "## Get Started\n",
    "\n",
    "To get started with this module, you will need to ensure that numpy is installed.\n"
   ]
  },
  {
   "cell_type": "code",
   "execution_count": null,
   "metadata": {},
   "outputs": [],
   "source": [
    "# Install the 'numpy' package using pip (Python's package installer)\n",
    "# The '%pip' magic command is used in Jupyter notebooks to install packages directly from the notebook\n",
    "%pip install numpy"
   ]
  },
  {
   "cell_type": "markdown",
   "metadata": {},
   "source": [
    "## Array Basics\n",
    "\n",
    "NumPy’s main object is the homogeneous multidimensional array (ndarray). It is a table of elements (usually numbers), all of the same type, indexed by a tuple of non-negative integers. In NumPy dimensions are called _axes_.\n"
   ]
  },
  {
   "cell_type": "markdown",
   "metadata": {},
   "source": [
    "### An example NumPy ndarray\n"
   ]
  },
  {
   "cell_type": "code",
   "execution_count": null,
   "metadata": {},
   "outputs": [],
   "source": [
    "import numpy as np\n",
    "\n",
    "# 'arange()' returns evenly spaced values within a given interval.\n",
    "# Values are generated within the half-open interval [start, stop)\n",
    "# (in other words, the interval including start but excluding stop).\n",
    "# Here, np.arange(15) generates an array with values from 0 to 14 (15 elements).\n",
    "a = np.arange(15)\n",
    "\n",
    "# 'reshape()' gives a new shape to an array without changing its data.\n",
    "# In this case, we reshape the 1D array into a 2D array with 3 rows and 5 columns.\n",
    "# The total number of elements must remain the same, i.e., 3*5 = 15 elements.\n",
    "a = a.reshape(3, 5)\n",
    "\n",
    "# Display the reshaped 2D array\n",
    "a"
   ]
  },
  {
   "cell_type": "markdown",
   "metadata": {},
   "source": [
    "### Array attributes\n"
   ]
  },
  {
   "cell_type": "markdown",
   "metadata": {},
   "source": [
    "#### `ndarray.ndim`\n",
    "\n",
    "The number of axes of the array.\n"
   ]
  },
  {
   "cell_type": "code",
   "execution_count": null,
   "metadata": {},
   "outputs": [],
   "source": [
    "# Access the number of dimensions (axes) of the array `a`\n",
    "# `ndim` is an attribute that returns the number of dimensions in a NumPy array.\n",
    "# For example, if `a` is a 2D array, `a.ndim` would return 2.\n",
    "a.ndim"
   ]
  },
  {
   "cell_type": "markdown",
   "metadata": {},
   "source": [
    "#### `ndarray.shape`\n",
    "\n",
    "This is a tuple of integers indicating the size of the array in each dimension. For a matrix with n rows and m columns, shape will be (n,m). The length of the shape tuple is therefore the number of axes, ndim.\n"
   ]
  },
  {
   "cell_type": "code",
   "execution_count": null,
   "metadata": {},
   "outputs": [],
   "source": [
    "# Get the shape of the array or dataframe 'a'\n",
    "# This will return a tuple representing the dimensions (rows, columns) or (length,) depending on the type of 'a'\n",
    "a.shape"
   ]
  },
  {
   "cell_type": "markdown",
   "metadata": {},
   "source": [
    "#### `ndarray.size`\n",
    "\n",
    "The total number of elements of the array. This is equal to the product of the elements of shape.\n"
   ]
  },
  {
   "cell_type": "code",
   "execution_count": null,
   "metadata": {},
   "outputs": [],
   "source": [
    "# `a.size` returns the total number of elements in the array `a`\n",
    "# It gives the product of the dimensions of the array\n",
    "a.size"
   ]
  },
  {
   "cell_type": "markdown",
   "metadata": {},
   "source": [
    "#### `ndarray.dtype`\n",
    "\n",
    "An object describing the type of the elements in the array. In NumPy arrays, unlike Python lists, every element must be the same type.\n",
    "\n",
    "One can create or specify dtypes using standard Python types. Additionally NumPy provides types of its own. numpy.int32, numpy.int16, and numpy.float64 are some examples.\n",
    "\n",
    "It is a good idea to pick a `dtype` that reflects your data usage and requirements. For example,\n",
    "\n",
    "- Small numbers can use smaller sized data types for memory optimization\n",
    "- Calculations may require high levels of precision (like `float128`), but others can get away with using more memory efficient data types that have less precision (like `float32`)\n",
    "- Interoperability with external systems may require a certain data type\n"
   ]
  },
  {
   "cell_type": "code",
   "execution_count": null,
   "metadata": {},
   "outputs": [],
   "source": [
    "# This retrieves the data type (dtype) of the variable or array 'a'\n",
    "a.dtype"
   ]
  },
  {
   "cell_type": "markdown",
   "metadata": {},
   "source": [
    "#### `ndarray.itemsize`\n",
    "\n",
    "The size in bytes of each element of the array. For example, an array of elements of type float64 has itemsize 8 (=64/8), while one of type complex32 has itemsize 4 (=32/8). It is equivalent to ndarray.dtype.itemsize.\n"
   ]
  },
  {
   "cell_type": "code",
   "execution_count": null,
   "metadata": {},
   "outputs": [],
   "source": [
    "# a.itemsize returns the size (in bytes) of one element in the array 'a'\n",
    "# This is useful for understanding how much memory each individual element of the array occupies.\n",
    "a.itemsize"
   ]
  },
  {
   "cell_type": "markdown",
   "metadata": {},
   "source": [
    "#### `type()`\n",
    "\n",
    "The data type of the object.\n"
   ]
  },
  {
   "cell_type": "code",
   "execution_count": null,
   "metadata": {},
   "outputs": [],
   "source": [
    "# Get the type of the object 'a'\n",
    "# The type() function returns the type of the specified object\n",
    "type(a)"
   ]
  },
  {
   "cell_type": "markdown",
   "metadata": {},
   "source": [
    "### Creating Arrays\n",
    "\n",
    "You can create an array from a regular Python list or tuple using the array function. The type of the resulting array is deduced from the type of the elements in the sequences.\n"
   ]
  },
  {
   "cell_type": "code",
   "execution_count": null,
   "metadata": {},
   "outputs": [],
   "source": [
    "# Importing the numpy library, which provides support for arrays and mathematical operations\n",
    "import numpy as np\n",
    "\n",
    "# Creating a numpy array with elements 2, 3, and 4\n",
    "a = np.array([2, 3, 4])\n",
    "\n",
    "# Display the numpy array 'a'\n",
    "a"
   ]
  },
  {
   "cell_type": "code",
   "execution_count": null,
   "metadata": {},
   "outputs": [],
   "source": [
    "# `a.dtype` returns the data type (dtype) of the NumPy array or pandas Series `a`\n",
    "# It helps identify the type of data stored in the array (e.g., int, float, object, etc.)\n",
    "a.dtype"
   ]
  },
  {
   "cell_type": "code",
   "execution_count": null,
   "metadata": {},
   "outputs": [],
   "source": [
    "# Create a NumPy array with three elements: 1.5, 3.5, and 5.5\n",
    "b = np.array([1.5, 3.5, 5.5])\n",
    "\n",
    "# Display the NumPy array\n",
    "b"
   ]
  },
  {
   "cell_type": "code",
   "execution_count": null,
   "metadata": {},
   "outputs": [],
   "source": [
    "# Get the data type of the object `b`\n",
    "# `b.dtype` returns the type of the elements stored in the array-like object `b`\n",
    "b.dtype"
   ]
  },
  {
   "cell_type": "markdown",
   "metadata": {},
   "source": [
    "A frequent error consists in calling array with multiple arguments, rather than providing a single sequence as an argument.\n"
   ]
  },
  {
   "cell_type": "code",
   "execution_count": null,
   "metadata": {},
   "outputs": [],
   "source": [
    "a = np.array(1, 2, 3, 4)  # WRONG"
   ]
  },
  {
   "cell_type": "code",
   "execution_count": null,
   "metadata": {},
   "outputs": [],
   "source": [
    "a = np.array([1, 2, 3, 4])  # RIGHT"
   ]
  },
  {
   "cell_type": "markdown",
   "metadata": {},
   "source": [
    "**array()** transforms sequences of sequences into two-dimensional arrays, sequences of sequences of sequences into three-dimensional arrays, and so on.\n"
   ]
  },
  {
   "cell_type": "code",
   "execution_count": null,
   "metadata": {},
   "outputs": [],
   "source": [
    "# Create a 2D NumPy array with 2 rows and 3 columns\n",
    "b = np.array([[1, 2, 3], [4, 5, 6]])\n",
    "\n",
    "# Display the created 2D array\n",
    "b"
   ]
  },
  {
   "cell_type": "markdown",
   "metadata": {},
   "source": [
    "The type of the array can also be explicitly specified at creation time\n"
   ]
  },
  {
   "cell_type": "code",
   "execution_count": null,
   "metadata": {},
   "outputs": [],
   "source": [
    "# Create a 2x2 numpy array with complex numbers\n",
    "# The 'dtype=complex' ensures the array elements are of complex type\n",
    "c = np.array([[1, 2], [3, 4]], dtype=complex)\n",
    "\n",
    "# Display the array\n",
    "c"
   ]
  },
  {
   "cell_type": "markdown",
   "metadata": {},
   "source": [
    "The function **zeros** creates an array full of zeros, the function **ones** creates an array full of ones, and the function **empty** creates an array whose initial content is random and depends on the state of the memory. By default, the dtype of the created array is **float64**, but it can be specified via the key word argument **dtype**.\n"
   ]
  },
  {
   "cell_type": "code",
   "execution_count": null,
   "metadata": {},
   "outputs": [],
   "source": [
    "# Return a new array of given shape and type, filled with zeros.\n",
    "# np.zeros() creates an array of the specified shape filled with zeros.\n",
    "# The shape (4, 5) means the array will have 4 rows and 5 columns.\n",
    "\n",
    "np.zeros((4, 5))"
   ]
  },
  {
   "cell_type": "code",
   "execution_count": null,
   "metadata": {},
   "outputs": [],
   "source": [
    "# Return a new array of the given shape and type, filled with ones.\n",
    "# The shape of the array is (3, 4, 5), meaning it will have 3 blocks,\n",
    "# each containing a 4x5 matrix.\n",
    "# The dtype is specified as np.int16, which means each element in the array\n",
    "# will be of type 16-bit integer.\n",
    "np.ones((3, 4, 5), dtype=np.int16)"
   ]
  },
  {
   "cell_type": "code",
   "execution_count": null,
   "metadata": {},
   "outputs": [],
   "source": [
    "# Return a new array of the given shape and type, filled with arbitrary data.\n",
    "# The shape of the array is specified as (3, 4), meaning 3 rows and 4 columns.\n",
    "np.empty((3, 4))"
   ]
  },
  {
   "cell_type": "code",
   "execution_count": null,
   "metadata": {},
   "outputs": [],
   "source": [
    "# Return the identity array of size 4x4.\n",
    "# The identity matrix has ones on the diagonal and zeros elsewhere.\n",
    "np.identity(4)"
   ]
  },
  {
   "cell_type": "markdown",
   "metadata": {},
   "source": [
    "### Printing Arrays\n",
    "\n",
    "One-dimensional arrays are then printed as rows, bi-dimensionals as matrices and tri-dimensionals as lists of matrices.\n"
   ]
  },
  {
   "cell_type": "code",
   "execution_count": null,
   "metadata": {},
   "outputs": [],
   "source": [
    "# Create a NumPy array 'a' with 24 elements, ranging from 0 to 23 (exclusive) using np.arange\n",
    "a = np.arange(24)\n",
    "\n",
    "# Print the created array 'a'\n",
    "print(a)"
   ]
  },
  {
   "cell_type": "code",
   "execution_count": null,
   "metadata": {},
   "outputs": [],
   "source": [
    "# Create a 1D numpy array with values from 0 to 23 (24 elements)\n",
    "b = np.arange(24)\n",
    "\n",
    "# Reshape the 1D array into a 2D array with 6 rows and 4 columns\n",
    "b = b.reshape(6, 4)\n",
    "\n",
    "# Print the resulting 2D array\n",
    "print(b)"
   ]
  },
  {
   "cell_type": "code",
   "execution_count": null,
   "metadata": {},
   "outputs": [],
   "source": [
    "# Create a NumPy array of shape (2, 3, 4) with values from 0 to 23\n",
    "# np.arange(24) generates an array of 24 values from 0 to 23\n",
    "c = np.arange(24).reshape(2, 3, 4)\n",
    "\n",
    "# Print the reshaped array\n",
    "print(c)"
   ]
  },
  {
   "cell_type": "markdown",
   "metadata": {},
   "source": [
    "### Basic Operations\n",
    "\n",
    "Arithmetic operators on arrays apply elementwise. A new array is created and filled with the result.\n"
   ]
  },
  {
   "cell_type": "code",
   "execution_count": null,
   "metadata": {},
   "outputs": [],
   "source": [
    "# Create a NumPy array `a` with the specified values\n",
    "a = np.array([10, 20, 30, 40])\n",
    "\n",
    "# Display the array `a`\n",
    "a"
   ]
  },
  {
   "cell_type": "code",
   "execution_count": null,
   "metadata": {},
   "outputs": [],
   "source": [
    "# Create a NumPy array with values ranging from 0 to 3\n",
    "b = np.arange(4)\n",
    "\n",
    "# Display the array\n",
    "b"
   ]
  },
  {
   "cell_type": "code",
   "execution_count": null,
   "metadata": {},
   "outputs": [],
   "source": [
    "# Subtract the value of variable 'b' from variable 'a' and store the result in 'c'\n",
    "c = a - b\n",
    "\n",
    "# Output the value of 'c'\n",
    "c"
   ]
  },
  {
   "cell_type": "code",
   "execution_count": null,
   "metadata": {},
   "outputs": [],
   "source": [
    "# Square the value of 'b' (raise 'b' to the power of 2)\n",
    "b**2"
   ]
  },
  {
   "cell_type": "code",
   "execution_count": null,
   "metadata": {},
   "outputs": [],
   "source": [
    "# Checks if the value of 'a' is less than 40\n",
    "a < 40"
   ]
  },
  {
   "cell_type": "markdown",
   "metadata": {},
   "source": [
    "The product operator \\* operates elementwise in NumPy arrays. The matrix product can be performed using the @ operator or the dot function or method:\n"
   ]
  },
  {
   "cell_type": "code",
   "execution_count": null,
   "metadata": {},
   "outputs": [],
   "source": [
    "# Define a 2x2 NumPy array A\n",
    "A = np.array([[1, 2], [3, 4]])\n",
    "\n",
    "# Define a 2x2 NumPy array B\n",
    "B = np.array([[5, 6], [7, 8]])\n",
    "\n",
    "# Perform element-wise multiplication of matrices A and B\n",
    "# Each element in A is multiplied by the corresponding element in B\n",
    "A * B  # elementwise product\n",
    "# A = [[ a, b ],\n",
    "#      [ c, d ]]\n",
    "# B = [[ e, f ],\n",
    "#      [ g, h ]]\n",
    "# A * B = [[ ae, bf ],\n",
    "#          [ cg, dh ]]\n",
    "# a = 1, b = 2, c = 3, d = 4, e = 5, f = 6, g = 7, h = 8\n",
    "# ae = 1x5 = 5\n",
    "# bf = 2x6 = 12\n",
    "# cg = 3x7 = 21\n",
    "# dh = 4x8 = 32"
   ]
  },
  {
   "cell_type": "code",
   "execution_count": null,
   "metadata": {},
   "outputs": [],
   "source": [
    "A @ B  # Matrix multiplication using the \"@\" operator in Python\n",
    "# A = [[ a, b ],\n",
    "#      [ c, d ]]\n",
    "# B = [[ e, f ],\n",
    "#      [ g, h ]]\n",
    "# A @ B = [[ ae + bg, af + bh ],\n",
    "#          [ ce + dg, cf + dh ]]\n",
    "# a = 1, b = 2, c = 3, d = 4, e = 5, f = 6, g = 7, h = 8\n",
    "# ae + bg = 1x5 + 2x7 = 19\n",
    "# af + bh = 1x6 + 2x8 = 22\n",
    "# ce + dg = 3x5 + 4x7 = 43\n",
    "# cf + dh = 3x6 + 4x8 = 50"
   ]
  },
  {
   "cell_type": "code",
   "execution_count": null,
   "metadata": {},
   "outputs": [],
   "source": [
    "A.dot(B)  # Computes the matrix product of A and B using the dot product operation\n",
    "# A = [[ a, b ],\n",
    "#      [ c, d ]]\n",
    "# B = [[ e, f ],\n",
    "#      [ g, h ]]\n",
    "# A @ B = [[ ae + bg, af + bh ],\n",
    "#          [ ce + dg, cf + dh ]]\n",
    "# a = 1, b = 2, c = 3, d = 4, e = 5, f = 6, g = 7, h = 8\n",
    "# ae + bg = 1x5 + 2x7 = 19\n",
    "# af + bh = 1x6 + 2x8 = 22\n",
    "# ce + dg = 3x5 + 4x7 = 43\n",
    "# cf + dh = 3x6 + 4x8 = 50"
   ]
  },
  {
   "cell_type": "markdown",
   "metadata": {},
   "source": [
    "+= and \\*=, act in place to modify an existing array rather than create a new one.\n"
   ]
  },
  {
   "cell_type": "code",
   "execution_count": null,
   "metadata": {},
   "outputs": [],
   "source": [
    "# Create a 2x3 array filled with ones\n",
    "# The dtype=int ensures that the elements are integers\n",
    "a = np.ones((2, 3), dtype=int)\n",
    "\n",
    "# Display the created array\n",
    "a"
   ]
  },
  {
   "cell_type": "code",
   "execution_count": null,
   "metadata": {},
   "outputs": [],
   "source": [
    "# Create an instance of the default random number generator with a fixed seed (1) for reproducibility\n",
    "rg = np.random.default_rng(1)\n",
    "\n",
    "# Generate a 2x3 array of random numbers uniformly distributed between 0 and 1\n",
    "b = rg.random((2, 3))\n",
    "\n",
    "# Display the generated array\n",
    "b"
   ]
  },
  {
   "cell_type": "code",
   "execution_count": null,
   "metadata": {},
   "outputs": [],
   "source": [
    "# Multiply the current value of 'a' by 3 and update 'a' with the new value\n",
    "a *= 3\n",
    "\n",
    "# Display the updated value of 'a'\n",
    "a"
   ]
  },
  {
   "cell_type": "code",
   "execution_count": null,
   "metadata": {},
   "outputs": [],
   "source": [
    "# Add the value of variable `a` to the value of variable `b`\n",
    "b += a\n",
    "\n",
    "# Return the updated value of `b`\n",
    "b"
   ]
  },
  {
   "cell_type": "markdown",
   "metadata": {},
   "source": [
    "Many unary operations such as **sum**, **min**, **max** are also available.\n"
   ]
  },
  {
   "cell_type": "code",
   "execution_count": null,
   "metadata": {},
   "outputs": [],
   "source": [
    "# Create a 3x4 matrix of random values using a random number generator (rg)\n",
    "# This generates a matrix with 3 rows and 4 columns, filled with random numbers\n",
    "a = rg.random((3, 4))\n",
    "\n",
    "# Display the generated matrix 'a'\n",
    "a"
   ]
  },
  {
   "cell_type": "code",
   "execution_count": null,
   "metadata": {},
   "outputs": [],
   "source": [
    "# Sum all the elements of the DataFrame or Series 'a'\n",
    "a.sum()"
   ]
  },
  {
   "cell_type": "code",
   "execution_count": null,
   "metadata": {},
   "outputs": [],
   "source": [
    "# Get the minimum value from the array, pandas Series, or DataFrame 'a'\n",
    "a.min()"
   ]
  },
  {
   "cell_type": "code",
   "execution_count": null,
   "metadata": {},
   "outputs": [],
   "source": [
    "# Call the max() method on the variable 'a' to find the maximum value in it\n",
    "# If 'a' is a NumPy array, pandas Series, or a similar data structure,\n",
    "# this will return the largest value in 'a'.\n",
    "a.max()"
   ]
  },
  {
   "cell_type": "markdown",
   "metadata": {},
   "source": [
    "By default, these operations apply to the array as though it were a list of numbers, regardless of its shape. However, by specifying the **axis** parameter you can apply an operation along the specified axis of an array:\n"
   ]
  },
  {
   "cell_type": "code",
   "execution_count": null,
   "metadata": {},
   "outputs": [],
   "source": [
    "# Create a NumPy array with values ranging from 0 to 23 (inclusive), with a total of 24 elements\n",
    "# Then reshape the array into a 4x6 matrix (4 rows and 6 columns)\n",
    "b = np.arange(24).reshape(4, 6)\n",
    "\n",
    "# Display the reshaped matrix\n",
    "b"
   ]
  },
  {
   "cell_type": "code",
   "execution_count": null,
   "metadata": {},
   "outputs": [],
   "source": [
    "# Sum of each column in the DataFrame `b`\n",
    "# The `axis=0` argument ensures that the sum is calculated for each column (vertically)\n",
    "b.sum(axis=0)"
   ]
  },
  {
   "cell_type": "code",
   "execution_count": null,
   "metadata": {},
   "outputs": [],
   "source": [
    "# Calculate the minimum value of each row in the DataFrame `b`\n",
    "b.min(axis=1)  # axis=1 indicates that the operation is performed row-wise"
   ]
  },
  {
   "cell_type": "code",
   "execution_count": null,
   "metadata": {},
   "outputs": [],
   "source": [
    "# Cumulative sum along each row (axis=1 means operation is performed row-wise)\n",
    "b.cumsum(axis=1)"
   ]
  },
  {
   "cell_type": "markdown",
   "metadata": {},
   "source": [
    "### Universal Functions\n",
    "\n",
    "NumPy provides familiar mathematical functions such as sin, cos, and exp. In NumPy, these are called “universal functions” (**ufunc**). Within NumPy, these functions operate elementwise on an array, producing an array as output.\n"
   ]
  },
  {
   "cell_type": "code",
   "execution_count": null,
   "metadata": {},
   "outputs": [],
   "source": [
    "# Create a NumPy array with values from 0 to 2 (3 is exclusive)\n",
    "B = np.arange(3)\n",
    "\n",
    "# Display the array B\n",
    "B"
   ]
  },
  {
   "cell_type": "code",
   "execution_count": null,
   "metadata": {},
   "outputs": [],
   "source": [
    "# Apply the exponential function to each element in the array or matrix B\n",
    "# The np.exp() function calculates e raised to the power of each element in B\n",
    "np.exp(B)"
   ]
  },
  {
   "cell_type": "code",
   "execution_count": null,
   "metadata": {},
   "outputs": [],
   "source": [
    "# Take the square root of the value stored in variable B using NumPy's sqrt function\n",
    "np.sqrt(B)"
   ]
  },
  {
   "cell_type": "code",
   "execution_count": null,
   "metadata": {},
   "outputs": [],
   "source": [
    "# Create a NumPy array `C` with values [2.0, -1.0, 4.0]\n",
    "C = np.array([2.0, -1.0, 4.0])\n",
    "\n",
    "# Add the arrays `B` and `C` element-wise using NumPy's `add` function\n",
    "# This will return a new array where each element is the sum of the corresponding elements of `B` and `C`\n",
    "np.add(B, C)"
   ]
  },
  {
   "cell_type": "markdown",
   "metadata": {},
   "source": [
    "### Indexing, Slicing and Iterating\n",
    "\n",
    "One-dimensional arrays can be indexed, sliced and iterated over, much like lists and other Python sequences.\n"
   ]
  },
  {
   "cell_type": "code",
   "execution_count": null,
   "metadata": {},
   "outputs": [],
   "source": [
    "# Create a NumPy array of numbers from 0 to 9 (inclusive)\n",
    "# The `np.arange(10)` generates an array with values from 0 to 9\n",
    "\n",
    "a = np.arange(10) ** 3  # Raise each element of the array to the power of 3\n",
    "\n",
    "# Display the resulting array\n",
    "a"
   ]
  },
  {
   "cell_type": "code",
   "execution_count": null,
   "metadata": {},
   "outputs": [],
   "source": [
    "a[2]  # Access the third element of the array 'a'"
   ]
  },
  {
   "cell_type": "code",
   "execution_count": null,
   "metadata": {},
   "outputs": [],
   "source": [
    "a[2:5]  # get the third through fifth elements of the array (not including fifth)"
   ]
  },
  {
   "cell_type": "code",
   "execution_count": null,
   "metadata": {},
   "outputs": [],
   "source": [
    "a[0:6:2]  # from start to position 6, get every 2nd element (start:end:stepsize)"
   ]
  },
  {
   "cell_type": "code",
   "execution_count": null,
   "metadata": {},
   "outputs": [],
   "source": [
    "a[::-1]  # reversed array"
   ]
  },
  {
   "cell_type": "code",
   "execution_count": null,
   "metadata": {},
   "outputs": [],
   "source": [
    "for i in a:  # use for loop to access every element of the array\n",
    "    print(i ** (1 / 3.0))"
   ]
  },
  {
   "cell_type": "code",
   "execution_count": null,
   "metadata": {},
   "outputs": [],
   "source": [
    "b"
   ]
  },
  {
   "cell_type": "code",
   "execution_count": null,
   "metadata": {},
   "outputs": [],
   "source": [
    "b[2, 3]  # third row and fouth column element of b"
   ]
  },
  {
   "cell_type": "code",
   "execution_count": null,
   "metadata": {},
   "outputs": [],
   "source": [
    "b[0:5, 1]  # each row in the second column of b"
   ]
  },
  {
   "cell_type": "code",
   "execution_count": null,
   "metadata": {},
   "outputs": [],
   "source": [
    "b[:, 1]  # equivalent to the previous example"
   ]
  },
  {
   "cell_type": "code",
   "execution_count": null,
   "metadata": {},
   "outputs": [],
   "source": [
    "b[1:3, :]  # the second and third row of b"
   ]
  },
  {
   "cell_type": "markdown",
   "metadata": {},
   "source": [
    "Iterating over multidimensional arrays is done with respect to the first axis:\n"
   ]
  },
  {
   "cell_type": "code",
   "execution_count": null,
   "metadata": {},
   "outputs": [],
   "source": [
    "# Iterate through each element (row) in the iterable `b`\n",
    "for row in b:\n",
    "    # Print the current element (row) from the iterable `b`\n",
    "    print(row)"
   ]
  },
  {
   "cell_type": "markdown",
   "metadata": {},
   "source": [
    "However, if one wants to perform an operation on each element in the array, one can use the **flat** attribute which is an iterator over all the elements of the array:\n"
   ]
  },
  {
   "cell_type": "code",
   "execution_count": null,
   "metadata": {},
   "outputs": [],
   "source": [
    "# Iterate over each element in the flattened version of the array 'b'\n",
    "# 'b.flat' returns an iterator over all the elements of 'b' in a flat (1-dimensional) order\n",
    "for element in b.flat:\n",
    "    # Print each individual element of the flattened array\n",
    "    print(element)"
   ]
  },
  {
   "cell_type": "markdown",
   "metadata": {},
   "source": [
    "Arrays can be indexed by arrays of integers and arrays of booleans.\n"
   ]
  },
  {
   "cell_type": "code",
   "execution_count": null,
   "metadata": {},
   "outputs": [],
   "source": [
    "# Create a NumPy array containing the first 12 square numbers using np.arange() and squaring them\n",
    "a = (\n",
    "    np.arange(12) ** 2\n",
    ")  # np.arange(12) generates numbers from 0 to 11, and squaring them gives their square values\n",
    "\n",
    "# Display the array\n",
    "a"
   ]
  },
  {
   "cell_type": "code",
   "execution_count": null,
   "metadata": {},
   "outputs": [],
   "source": [
    "# Create a NumPy array containing a list of indices\n",
    "i = np.array([0, 1, 3, 8, 5])  # an array of indices\n",
    "\n",
    "# Display the array of indices\n",
    "i"
   ]
  },
  {
   "cell_type": "code",
   "execution_count": null,
   "metadata": {},
   "outputs": [],
   "source": [
    "a[i]  # Accesses the element of list/array `a` at the index `i`"
   ]
  },
  {
   "cell_type": "markdown",
   "metadata": {},
   "source": [
    "### Singular Value Decomposition (SVD)\n",
    "\n",
    "**Singular Value Decomposition (SVD)** is a fundamental matrix factorization technique in linear algebra. It decomposes a matrix \\( A \\) into three matrices:\n",
    "\n",
    "$$\n",
    "A = U \\Sigma V^T\n",
    "$$\n",
    "\n",
    "Where:\n",
    "\n",
    "- $A$: The original matrix (of size $m \\times n$).\n",
    "- $U$: An orthogonal matrix (of size $m \\times m$) containing the left singular vectors.\n",
    "- $\\Sigma$: A diagonal matrix (of size $m \\times n$) containing the singular values (non-negative and in descending order).\n",
    "- $V^T$: The transpose of an orthogonal matrix (of size $n \\times n$) containing the right singular vectors.\n",
    "\n",
    "#### Key Applications of SVD:\n",
    "\n",
    "1. **Dimensionality Reduction**: Used in Principal Component Analysis (PCA) to reduce the number of features while preserving variance.\n",
    "2. **Data Compression**: Reduces the size of data by approximating the original matrix with fewer singular values.\n",
    "3. **Noise Reduction**: Removes noise by truncating smaller singular values.\n",
    "4. **Recommendation Systems**: Used in collaborative filtering (e.g., Netflix recommendations).\n",
    "5. **Image Processing**: Compresses and reconstructs images.\n",
    "\n",
    "#### Example in Python:\n"
   ]
  },
  {
   "cell_type": "code",
   "execution_count": null,
   "metadata": {},
   "outputs": [],
   "source": [
    "import numpy as np  # Import the NumPy library\n",
    "\n",
    "# Create a 3x3 matrix A\n",
    "A = np.array([[1, 2, 3], [4, 5, 6], [7, 8, 9]])\n",
    "\n",
    "# Perform Singular Value Decomposition (SVD)\n",
    "# U: Left singular vectors\n",
    "# S: Singular values\n",
    "# VT: Transpose of the right singular vectors (V^T)\n",
    "U, S, VT = np.linalg.svd(A)\n",
    "\n",
    "# Print the left singular vectors (U matrix)\n",
    "print(\"U (Left Singular Vectors):\\n\", U)\n",
    "\n",
    "# Print the singular values (S matrix, will be a 1D array)\n",
    "print(\"S (Singular Values):\\n\", S)\n",
    "\n",
    "# Print the transpose of the right singular vectors (VT matrix)\n",
    "print(\"VT (Right Singular Vectors Transpose):\\n\", VT)\n"
   ]
  },
  {
   "cell_type": "markdown",
   "metadata": {},
   "source": [
    "## Conclusion\n",
    "\n",
    "In this module, we've learned about the basics of NumPy, including creating and manipulating arrays, using universal functions, and indexing/slicing arrays. These skills form the foundation for scientific computing in Python.\n",
    "\n",
    "## Clean up\n",
    "\n",
    "Remember to shut down your Jupyter Notebook instance when you're done to avoid unnecessary charges. You can do this by stopping the notebook instance from the Amazon SageMaker console.\n"
   ]
  }
 ],
 "metadata": {},
 "nbformat": 4,
 "nbformat_minor": 4
}
