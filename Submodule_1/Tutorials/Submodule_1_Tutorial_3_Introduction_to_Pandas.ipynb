{
 "cells": [
  {
   "cell_type": "markdown",
   "metadata": {},
   "source": [
    "# Introduction to Pandas\n",
    "\n",
    "## Overview\n",
    "\n",
    "This module introduces Pandas, a powerful data manipulation library for Python. It covers basic operations, data structures, and common data analysis tasks using Pandas, including analyzing, cleaning, exploring, and manipulating data.\n",
    "\n",
    "## Learning Objectives\n",
    "\n",
    "- Understand Pandas data structures: Series and DataFrame\n",
    "- Learn to create, read, and manipulate DataFrames\n",
    "- Perform basic data analysis operations using Pandas\n",
    "- Handle missing data in Pandas\n",
    "\n",
    "## Prerequisites\n",
    "\n",
    "- Basic Python knowledge (For a refresher, see the [Python tutorial](https://docs.python.org/tutorial/).)\n",
    "- Familiarity with NumPy is helpful but not required\n",
    "\n",
    "## Get Started\n",
    "\n",
    "Install pandas and import the required libraries.\n"
   ]
  },
  {
   "cell_type": "code",
   "execution_count": 1,
   "metadata": {},
   "outputs": [
    {
     "name": "stdout",
     "output_type": "stream",
     "text": [
      "Requirement already satisfied: tables in /Users/chenc/miniconda3/lib/python3.9/site-packages (3.9.2)\n",
      "Requirement already satisfied: numpy>=1.19.0 in /Users/chenc/miniconda3/lib/python3.9/site-packages (from tables) (1.26.4)\n",
      "Requirement already satisfied: numexpr>=2.6.2 in /Users/chenc/miniconda3/lib/python3.9/site-packages (from tables) (2.10.2)\n",
      "Requirement already satisfied: packaging in /Users/chenc/miniconda3/lib/python3.9/site-packages (from tables) (23.1)\n",
      "Requirement already satisfied: py-cpuinfo in /Users/chenc/miniconda3/lib/python3.9/site-packages (from tables) (9.0.0)\n",
      "Requirement already satisfied: blosc2>=2.3.0 in /Users/chenc/miniconda3/lib/python3.9/site-packages (from tables) (2.5.1)\n",
      "Requirement already satisfied: ndindex>=1.4 in /Users/chenc/miniconda3/lib/python3.9/site-packages (from blosc2>=2.3.0->tables) (1.9.2)\n",
      "Requirement already satisfied: msgpack in /Users/chenc/miniconda3/lib/python3.9/site-packages (from blosc2>=2.3.0->tables) (1.1.0)\n",
      "Note: you may need to restart the kernel to use updated packages.\n",
      "Requirement already satisfied: openpyxl in /Users/chenc/miniconda3/lib/python3.9/site-packages (3.1.2)\n",
      "Requirement already satisfied: et-xmlfile in /Users/chenc/miniconda3/lib/python3.9/site-packages (from openpyxl) (1.1.0)\n",
      "Note: you may need to restart the kernel to use updated packages.\n"
     ]
    }
   ],
   "source": [
    "# Install the tables library to read and write HDF5 files, typically used for large datasets\n",
    "%pip install tables\n",
    "\n",
    "# Install the openpyxl library to read and write Excel files (.xlsx)\n",
    "%pip install openpyxl\n",
    "\n",
    "# Import pandas library, used for data manipulation and analysis\n",
    "import pandas as pd\n",
    "\n",
    "# Import numpy library, used for numerical operations and working with arrays\n",
    "import numpy as np\n"
   ]
  },
  {
   "cell_type": "markdown",
   "metadata": {},
   "source": [
    "## Object creation\n",
    "\n",
    "See the [introduction to data structures](https://pandas.pydata.org/docs/user_guide/dsintro.html#dsintro) section of Pandas documentation for details.\n",
    "\n",
    "You can create a [Series](https://pandas.pydata.org/docs/reference/api/pandas.Series.html#pandas.Series) (One-dimensional ndarray with axis labels, including time series) by passing a list of values, letting pandas create a default integer index:\n"
   ]
  },
  {
   "cell_type": "code",
   "execution_count": 2,
   "metadata": {},
   "outputs": [
    {
     "data": {
      "text/plain": [
       "0    1.0\n",
       "1    3.0\n",
       "2    5.0\n",
       "3    NaN\n",
       "4    6.0\n",
       "5    8.0\n",
       "dtype: float64"
      ]
     },
     "execution_count": 2,
     "metadata": {},
     "output_type": "execute_result"
    }
   ],
   "source": [
    "# Create a pandas Series with some integer values and a NaN (Not a Number) value\n",
    "# The NaN value represents missing data or undefined values in the series\n",
    "s = pd.Series([1, 3, 5, np.nan, 6, 8])\n",
    "\n",
    "# Display the Series to view its contents\n",
    "s"
   ]
  },
  {
   "cell_type": "code",
   "execution_count": 3,
   "metadata": {},
   "outputs": [],
   "source": [
    "# Create a pandas Series with hourly energy consumption values (in kWh) for a day\n",
    "# The index represents hours (0 to 23), and the values are sample energy readings\n",
    "energy = pd.Series(\n",
    "    [2.5, 2.7, 2.3, 2.1, 2.0, 2.4, 2.8, 3.0, 3.5, 3.2, 3.1, 2.9, 2.8, 2.6, 2.5, 2.7, 3.0, 3.4, 3.6, 3.2, 2.9, 2.5, 2.3, 2.1],\n",
    "    index=range(24)\n",
    ")"
   ]
  },
  {
   "cell_type": "code",
   "execution_count": 4,
   "metadata": {},
   "outputs": [
    {
     "name": "stdout",
     "output_type": "stream",
     "text": [
      "Full Series:\n",
      "0     2.5\n",
      "1     2.7\n",
      "2     2.3\n",
      "3     2.1\n",
      "4     2.0\n",
      "5     2.4\n",
      "6     2.8\n",
      "7     3.0\n",
      "8     3.5\n",
      "9     3.2\n",
      "10    3.1\n",
      "11    2.9\n",
      "12    2.8\n",
      "13    2.6\n",
      "14    2.5\n",
      "15    2.7\n",
      "16    3.0\n",
      "17    3.4\n",
      "18    3.6\n",
      "19    3.2\n",
      "20    2.9\n",
      "21    2.5\n",
      "22    2.3\n",
      "23    2.1\n",
      "dtype: float64\n"
     ]
    }
   ],
   "source": [
    "# Display the entire Series to view its contents\n",
    "print(\"Full Series:\")\n",
    "print(energy)"
   ]
  },
  {
   "cell_type": "code",
   "execution_count": 5,
   "metadata": {},
   "outputs": [
    {
     "name": "stdout",
     "output_type": "stream",
     "text": [
      "\n",
      "Slice from index 2 to 15 with step 3:\n",
      "2     2.3\n",
      "5     2.4\n",
      "8     3.5\n",
      "11    2.9\n",
      "14    2.5\n",
      "dtype: float64\n"
     ]
    }
   ],
   "source": [
    "# Slice the `energy` Series to extract elements from index 2 to 15 (exclusive) with a step of 3\n",
    "# This means selecting every third element starting from index 2 up to (but not including) index 15\n",
    "# Corresponds to hours 2, 5, 8, 11, 14\n",
    "print(\"\\nSlice from index 2 to 15 with step 3:\")\n",
    "print(energy[2:15:3])"
   ]
  },
  {
   "cell_type": "markdown",
   "metadata": {},
   "source": [
    "You can create a [DataFrame](https://pandas.pydata.org/docs/reference/api/pandas.DataFrame.html#pandas.DataFrame) (Two-dimensional, size-mutable, potentially heterogeneous tabular data) by passing a NumPy array, with a datetime index and labeled columns:\n"
   ]
  },
  {
   "cell_type": "code",
   "execution_count": 6,
   "metadata": {},
   "outputs": [
    {
     "data": {
      "text/plain": [
       "DatetimeIndex(['2022-03-06', '2022-03-07', '2022-03-08', '2022-03-09',\n",
       "               '2022-03-10', '2022-03-11'],\n",
       "              dtype='datetime64[ns]', freq='D')"
      ]
     },
     "execution_count": 6,
     "metadata": {},
     "output_type": "execute_result"
    }
   ],
   "source": [
    "# Generates a range of equally spaced time points (dates)\n",
    "# \"20220306\" is the starting date (March 6, 2022)\n",
    "# `periods=6` specifies that the range will contain 6 equally spaced dates\n",
    "dates = pd.date_range(\"20220306\", periods=6)\n",
    "\n",
    "# Displays the generated date range\n",
    "dates"
   ]
  },
  {
   "cell_type": "code",
   "execution_count": 7,
   "metadata": {},
   "outputs": [
    {
     "data": {
      "text/html": [
       "<div>\n",
       "<style scoped>\n",
       "    .dataframe tbody tr th:only-of-type {\n",
       "        vertical-align: middle;\n",
       "    }\n",
       "\n",
       "    .dataframe tbody tr th {\n",
       "        vertical-align: top;\n",
       "    }\n",
       "\n",
       "    .dataframe thead th {\n",
       "        text-align: right;\n",
       "    }\n",
       "</style>\n",
       "<table border=\"1\" class=\"dataframe\">\n",
       "  <thead>\n",
       "    <tr style=\"text-align: right;\">\n",
       "      <th></th>\n",
       "      <th>A</th>\n",
       "      <th>B</th>\n",
       "      <th>C</th>\n",
       "      <th>D</th>\n",
       "    </tr>\n",
       "  </thead>\n",
       "  <tbody>\n",
       "    <tr>\n",
       "      <th>2022-03-06</th>\n",
       "      <td>-0.670684</td>\n",
       "      <td>0.271868</td>\n",
       "      <td>0.824433</td>\n",
       "      <td>-0.209901</td>\n",
       "    </tr>\n",
       "    <tr>\n",
       "      <th>2022-03-07</th>\n",
       "      <td>-0.741747</td>\n",
       "      <td>-0.846171</td>\n",
       "      <td>-0.606836</td>\n",
       "      <td>-0.427040</td>\n",
       "    </tr>\n",
       "    <tr>\n",
       "      <th>2022-03-08</th>\n",
       "      <td>2.444058</td>\n",
       "      <td>-1.958974</td>\n",
       "      <td>0.472534</td>\n",
       "      <td>0.711935</td>\n",
       "    </tr>\n",
       "    <tr>\n",
       "      <th>2022-03-09</th>\n",
       "      <td>-0.958433</td>\n",
       "      <td>-0.159032</td>\n",
       "      <td>-1.932648</td>\n",
       "      <td>-0.071142</td>\n",
       "    </tr>\n",
       "    <tr>\n",
       "      <th>2022-03-10</th>\n",
       "      <td>-0.206521</td>\n",
       "      <td>0.508824</td>\n",
       "      <td>0.094088</td>\n",
       "      <td>-1.158213</td>\n",
       "    </tr>\n",
       "    <tr>\n",
       "      <th>2022-03-11</th>\n",
       "      <td>-0.751636</td>\n",
       "      <td>-0.548407</td>\n",
       "      <td>0.892564</td>\n",
       "      <td>-2.556644</td>\n",
       "    </tr>\n",
       "  </tbody>\n",
       "</table>\n",
       "</div>"
      ],
      "text/plain": [
       "                   A         B         C         D\n",
       "2022-03-06 -0.670684  0.271868  0.824433 -0.209901\n",
       "2022-03-07 -0.741747 -0.846171 -0.606836 -0.427040\n",
       "2022-03-08  2.444058 -1.958974  0.472534  0.711935\n",
       "2022-03-09 -0.958433 -0.159032 -1.932648 -0.071142\n",
       "2022-03-10 -0.206521  0.508824  0.094088 -1.158213\n",
       "2022-03-11 -0.751636 -0.548407  0.892564 -2.556644"
      ]
     },
     "execution_count": 7,
     "metadata": {},
     "output_type": "execute_result"
    }
   ],
   "source": [
    "# Create a DataFrame with random values from a standard normal distribution\n",
    "# The shape of the DataFrame is (6, 4), i.e., 6 rows and 4 columns\n",
    "# The index is set to the `dates` variable (which should be a list, array, or pandas DateTimeIndex)\n",
    "# The column labels are set to the list ['A', 'B', 'C', 'D']\n",
    "df = pd.DataFrame(np.random.randn(6, 4), index=dates, columns=list(\"ABCD\"))\n",
    "\n",
    "# Display the DataFrame\n",
    "df"
   ]
  },
  {
   "cell_type": "markdown",
   "metadata": {},
   "source": [
    "You can also create a DataFrame by passing a dictionary of objects that can be converted into a series-like structure:\n"
   ]
  },
  {
   "cell_type": "code",
   "execution_count": 8,
   "metadata": {},
   "outputs": [
    {
     "data": {
      "text/html": [
       "<div>\n",
       "<style scoped>\n",
       "    .dataframe tbody tr th:only-of-type {\n",
       "        vertical-align: middle;\n",
       "    }\n",
       "\n",
       "    .dataframe tbody tr th {\n",
       "        vertical-align: top;\n",
       "    }\n",
       "\n",
       "    .dataframe thead th {\n",
       "        text-align: right;\n",
       "    }\n",
       "</style>\n",
       "<table border=\"1\" class=\"dataframe\">\n",
       "  <thead>\n",
       "    <tr style=\"text-align: right;\">\n",
       "      <th></th>\n",
       "      <th>A</th>\n",
       "      <th>B</th>\n",
       "      <th>C</th>\n",
       "      <th>D</th>\n",
       "      <th>E</th>\n",
       "      <th>F</th>\n",
       "    </tr>\n",
       "  </thead>\n",
       "  <tbody>\n",
       "    <tr>\n",
       "      <th>0</th>\n",
       "      <td>1.0</td>\n",
       "      <td>2013-01-02</td>\n",
       "      <td>1.0</td>\n",
       "      <td>3</td>\n",
       "      <td>test</td>\n",
       "      <td>foo</td>\n",
       "    </tr>\n",
       "    <tr>\n",
       "      <th>1</th>\n",
       "      <td>1.0</td>\n",
       "      <td>2013-01-02</td>\n",
       "      <td>1.0</td>\n",
       "      <td>3</td>\n",
       "      <td>train</td>\n",
       "      <td>foo</td>\n",
       "    </tr>\n",
       "    <tr>\n",
       "      <th>2</th>\n",
       "      <td>1.0</td>\n",
       "      <td>2013-01-02</td>\n",
       "      <td>1.0</td>\n",
       "      <td>3</td>\n",
       "      <td>test</td>\n",
       "      <td>foo</td>\n",
       "    </tr>\n",
       "    <tr>\n",
       "      <th>3</th>\n",
       "      <td>1.0</td>\n",
       "      <td>2013-01-02</td>\n",
       "      <td>1.0</td>\n",
       "      <td>3</td>\n",
       "      <td>train</td>\n",
       "      <td>foo</td>\n",
       "    </tr>\n",
       "  </tbody>\n",
       "</table>\n",
       "</div>"
      ],
      "text/plain": [
       "     A          B    C  D      E    F\n",
       "0  1.0 2013-01-02  1.0  3   test  foo\n",
       "1  1.0 2013-01-02  1.0  3  train  foo\n",
       "2  1.0 2013-01-02  1.0  3   test  foo\n",
       "3  1.0 2013-01-02  1.0  3  train  foo"
      ]
     },
     "execution_count": 8,
     "metadata": {},
     "output_type": "execute_result"
    }
   ],
   "source": [
    "# Create a new DataFrame named df2 with various types of data for each column\n",
    "df2 = pd.DataFrame(\n",
    "    {\n",
    "        # Column 'A' with a constant value of 1.0 for all rows\n",
    "        \"A\": 1.0,\n",
    "        # Column 'B' with a single timestamp (2013-01-02) for all rows\n",
    "        \"B\": pd.Timestamp(\"20130102\"),\n",
    "        # Column 'C' with a pandas Series of length 4 filled with 1's, dtype is float32\n",
    "        \"C\": pd.Series(1, index=list(range(4)), dtype=\"float32\"),\n",
    "        # Column 'D' with a NumPy array of integers (3 repeated 4 times), dtype is int32\n",
    "        \"D\": np.array([3] * 4, dtype=\"int32\"),\n",
    "        # Column 'E' with a categorical variable containing 'test' and 'train'\n",
    "        \"E\": pd.Categorical([\"test\", \"train\", \"test\", \"train\"]),\n",
    "        # Column 'F' with a string constant \"foo\" for all rows\n",
    "        \"F\": \"foo\",\n",
    "    }\n",
    ")\n",
    "\n",
    "# Display the DataFrame df2\n",
    "df2"
   ]
  },
  {
   "cell_type": "markdown",
   "metadata": {},
   "source": [
    "The columns of the resulting DataFrame have different `dtypes`:\n"
   ]
  },
  {
   "cell_type": "code",
   "execution_count": 9,
   "metadata": {},
   "outputs": [
    {
     "data": {
      "text/plain": [
       "A          float64\n",
       "B    datetime64[s]\n",
       "C          float32\n",
       "D            int32\n",
       "E         category\n",
       "F           object\n",
       "dtype: object"
      ]
     },
     "execution_count": 9,
     "metadata": {},
     "output_type": "execute_result"
    }
   ],
   "source": [
    "# Display the data types of each column in the DataFrame `df2`\n",
    "# This allows us to check the type of data stored in each column (e.g., int, float, object, etc.)\n",
    "df2.dtypes"
   ]
  },
  {
   "cell_type": "markdown",
   "metadata": {},
   "source": [
    "## Viewing data\n",
    "\n",
    "See [Essential basic functionality](https://pandas.pydata.org/docs/user_guide/basics.html#basics) section of Pandas documentation for details.\n",
    "\n",
    "You can view the top and bottom rows of the frame:\n"
   ]
  },
  {
   "cell_type": "code",
   "execution_count": 10,
   "metadata": {},
   "outputs": [
    {
     "data": {
      "text/html": [
       "<div>\n",
       "<style scoped>\n",
       "    .dataframe tbody tr th:only-of-type {\n",
       "        vertical-align: middle;\n",
       "    }\n",
       "\n",
       "    .dataframe tbody tr th {\n",
       "        vertical-align: top;\n",
       "    }\n",
       "\n",
       "    .dataframe thead th {\n",
       "        text-align: right;\n",
       "    }\n",
       "</style>\n",
       "<table border=\"1\" class=\"dataframe\">\n",
       "  <thead>\n",
       "    <tr style=\"text-align: right;\">\n",
       "      <th></th>\n",
       "      <th>A</th>\n",
       "      <th>B</th>\n",
       "      <th>C</th>\n",
       "      <th>D</th>\n",
       "    </tr>\n",
       "  </thead>\n",
       "  <tbody>\n",
       "    <tr>\n",
       "      <th>2022-03-06</th>\n",
       "      <td>-0.670684</td>\n",
       "      <td>0.271868</td>\n",
       "      <td>0.824433</td>\n",
       "      <td>-0.209901</td>\n",
       "    </tr>\n",
       "    <tr>\n",
       "      <th>2022-03-07</th>\n",
       "      <td>-0.741747</td>\n",
       "      <td>-0.846171</td>\n",
       "      <td>-0.606836</td>\n",
       "      <td>-0.427040</td>\n",
       "    </tr>\n",
       "    <tr>\n",
       "      <th>2022-03-08</th>\n",
       "      <td>2.444058</td>\n",
       "      <td>-1.958974</td>\n",
       "      <td>0.472534</td>\n",
       "      <td>0.711935</td>\n",
       "    </tr>\n",
       "  </tbody>\n",
       "</table>\n",
       "</div>"
      ],
      "text/plain": [
       "                   A         B         C         D\n",
       "2022-03-06 -0.670684  0.271868  0.824433 -0.209901\n",
       "2022-03-07 -0.741747 -0.846171 -0.606836 -0.427040\n",
       "2022-03-08  2.444058 -1.958974  0.472534  0.711935"
      ]
     },
     "execution_count": 10,
     "metadata": {},
     "output_type": "execute_result"
    }
   ],
   "source": [
    "df.head(3)  # first three rows"
   ]
  },
  {
   "cell_type": "code",
   "execution_count": 11,
   "metadata": {},
   "outputs": [
    {
     "data": {
      "text/html": [
       "<div>\n",
       "<style scoped>\n",
       "    .dataframe tbody tr th:only-of-type {\n",
       "        vertical-align: middle;\n",
       "    }\n",
       "\n",
       "    .dataframe tbody tr th {\n",
       "        vertical-align: top;\n",
       "    }\n",
       "\n",
       "    .dataframe thead th {\n",
       "        text-align: right;\n",
       "    }\n",
       "</style>\n",
       "<table border=\"1\" class=\"dataframe\">\n",
       "  <thead>\n",
       "    <tr style=\"text-align: right;\">\n",
       "      <th></th>\n",
       "      <th>A</th>\n",
       "      <th>B</th>\n",
       "      <th>C</th>\n",
       "      <th>D</th>\n",
       "    </tr>\n",
       "  </thead>\n",
       "  <tbody>\n",
       "    <tr>\n",
       "      <th>2022-03-10</th>\n",
       "      <td>-0.206521</td>\n",
       "      <td>0.508824</td>\n",
       "      <td>0.094088</td>\n",
       "      <td>-1.158213</td>\n",
       "    </tr>\n",
       "    <tr>\n",
       "      <th>2022-03-11</th>\n",
       "      <td>-0.751636</td>\n",
       "      <td>-0.548407</td>\n",
       "      <td>0.892564</td>\n",
       "      <td>-2.556644</td>\n",
       "    </tr>\n",
       "  </tbody>\n",
       "</table>\n",
       "</div>"
      ],
      "text/plain": [
       "                   A         B         C         D\n",
       "2022-03-10 -0.206521  0.508824  0.094088 -1.158213\n",
       "2022-03-11 -0.751636 -0.548407  0.892564 -2.556644"
      ]
     },
     "execution_count": 11,
     "metadata": {},
     "output_type": "execute_result"
    }
   ],
   "source": [
    "df.tail(2)  # last two rows"
   ]
  },
  {
   "cell_type": "markdown",
   "metadata": {},
   "source": [
    "You can display the indexes and columns:\n"
   ]
  },
  {
   "cell_type": "code",
   "execution_count": 12,
   "metadata": {},
   "outputs": [
    {
     "data": {
      "text/plain": [
       "DatetimeIndex(['2022-03-06', '2022-03-07', '2022-03-08', '2022-03-09',\n",
       "               '2022-03-10', '2022-03-11'],\n",
       "              dtype='datetime64[ns]', freq='D')"
      ]
     },
     "execution_count": 12,
     "metadata": {},
     "output_type": "execute_result"
    }
   ],
   "source": [
    "df.index"
   ]
  },
  {
   "cell_type": "code",
   "execution_count": 13,
   "metadata": {},
   "outputs": [
    {
     "data": {
      "text/plain": [
       "Index(['A', 'B', 'C', 'D'], dtype='object')"
      ]
     },
     "execution_count": 13,
     "metadata": {},
     "output_type": "execute_result"
    }
   ],
   "source": [
    "df.columns"
   ]
  },
  {
   "cell_type": "markdown",
   "metadata": {},
   "source": [
    "**describe**() shows a quick statistic summary of your data:\n",
    "#### **What It Calculates**  \n",
    "\n",
    "##### **For Numeric Columns**  \n",
    "| Statistic | Meaning | Example |  \n",
    "|-----------|---------|---------|  \n",
    "| **count** | Number of non-missing values | `100` (out of 100 rows) |  \n",
    "| **mean**  | Average value | `25.3` |  \n",
    "| **std**   | Standard deviation (spread of data) | `10.5` |  \n",
    "| **min**   | Smallest value | `5` |  \n",
    "| **25%**   | 25th percentile (Q1) | `18` |  \n",
    "| **50%**   | Median (Q2) | `25` |  \n",
    "| **75%**   | 75th percentile (Q3) | `32` |  \n",
    "| **max**   | Largest value | `50` |  \n",
    "\n",
    "##### **For Categorical Columns** (e.g., strings)  \n",
    "| Statistic | Meaning | Example |  \n",
    "|-----------|---------|---------|  \n",
    "| **count** | Non-missing values | `150` |  \n",
    "| **unique**| Number of distinct categories | `5` |  \n",
    "| **top**   | Most frequent category | `\"IT\"` |  \n",
    "| **freq**  | Count of the top category | `42` |  \n"
   ]
  },
  {
   "cell_type": "code",
   "execution_count": 14,
   "metadata": {},
   "outputs": [
    {
     "data": {
      "text/html": [
       "<div>\n",
       "<style scoped>\n",
       "    .dataframe tbody tr th:only-of-type {\n",
       "        vertical-align: middle;\n",
       "    }\n",
       "\n",
       "    .dataframe tbody tr th {\n",
       "        vertical-align: top;\n",
       "    }\n",
       "\n",
       "    .dataframe thead th {\n",
       "        text-align: right;\n",
       "    }\n",
       "</style>\n",
       "<table border=\"1\" class=\"dataframe\">\n",
       "  <thead>\n",
       "    <tr style=\"text-align: right;\">\n",
       "      <th></th>\n",
       "      <th>A</th>\n",
       "      <th>B</th>\n",
       "      <th>C</th>\n",
       "      <th>D</th>\n",
       "    </tr>\n",
       "  </thead>\n",
       "  <tbody>\n",
       "    <tr>\n",
       "      <th>count</th>\n",
       "      <td>6.000000</td>\n",
       "      <td>6.000000</td>\n",
       "      <td>6.000000</td>\n",
       "      <td>6.000000</td>\n",
       "    </tr>\n",
       "    <tr>\n",
       "      <th>mean</th>\n",
       "      <td>-0.147494</td>\n",
       "      <td>-0.455315</td>\n",
       "      <td>-0.042644</td>\n",
       "      <td>-0.618501</td>\n",
       "    </tr>\n",
       "    <tr>\n",
       "      <th>std</th>\n",
       "      <td>1.293762</td>\n",
       "      <td>0.890906</td>\n",
       "      <td>1.077123</td>\n",
       "      <td>1.124363</td>\n",
       "    </tr>\n",
       "    <tr>\n",
       "      <th>min</th>\n",
       "      <td>-0.958433</td>\n",
       "      <td>-1.958974</td>\n",
       "      <td>-1.932648</td>\n",
       "      <td>-2.556644</td>\n",
       "    </tr>\n",
       "    <tr>\n",
       "      <th>25%</th>\n",
       "      <td>-0.749164</td>\n",
       "      <td>-0.771730</td>\n",
       "      <td>-0.431605</td>\n",
       "      <td>-0.975419</td>\n",
       "    </tr>\n",
       "    <tr>\n",
       "      <th>50%</th>\n",
       "      <td>-0.706216</td>\n",
       "      <td>-0.353719</td>\n",
       "      <td>0.283311</td>\n",
       "      <td>-0.318470</td>\n",
       "    </tr>\n",
       "    <tr>\n",
       "      <th>75%</th>\n",
       "      <td>-0.322562</td>\n",
       "      <td>0.164143</td>\n",
       "      <td>0.736458</td>\n",
       "      <td>-0.105832</td>\n",
       "    </tr>\n",
       "    <tr>\n",
       "      <th>max</th>\n",
       "      <td>2.444058</td>\n",
       "      <td>0.508824</td>\n",
       "      <td>0.892564</td>\n",
       "      <td>0.711935</td>\n",
       "    </tr>\n",
       "  </tbody>\n",
       "</table>\n",
       "</div>"
      ],
      "text/plain": [
       "              A         B         C         D\n",
       "count  6.000000  6.000000  6.000000  6.000000\n",
       "mean  -0.147494 -0.455315 -0.042644 -0.618501\n",
       "std    1.293762  0.890906  1.077123  1.124363\n",
       "min   -0.958433 -1.958974 -1.932648 -2.556644\n",
       "25%   -0.749164 -0.771730 -0.431605 -0.975419\n",
       "50%   -0.706216 -0.353719  0.283311 -0.318470\n",
       "75%   -0.322562  0.164143  0.736458 -0.105832\n",
       "max    2.444058  0.508824  0.892564  0.711935"
      ]
     },
     "execution_count": 14,
     "metadata": {},
     "output_type": "execute_result"
    }
   ],
   "source": [
    "df.describe()"
   ]
  },
  {
   "cell_type": "markdown",
   "metadata": {},
   "source": [
    "Transposing your data:\n"
   ]
  },
  {
   "cell_type": "code",
   "execution_count": 15,
   "metadata": {},
   "outputs": [
    {
     "data": {
      "text/html": [
       "<div>\n",
       "<style scoped>\n",
       "    .dataframe tbody tr th:only-of-type {\n",
       "        vertical-align: middle;\n",
       "    }\n",
       "\n",
       "    .dataframe tbody tr th {\n",
       "        vertical-align: top;\n",
       "    }\n",
       "\n",
       "    .dataframe thead th {\n",
       "        text-align: right;\n",
       "    }\n",
       "</style>\n",
       "<table border=\"1\" class=\"dataframe\">\n",
       "  <thead>\n",
       "    <tr style=\"text-align: right;\">\n",
       "      <th></th>\n",
       "      <th>2022-03-06</th>\n",
       "      <th>2022-03-07</th>\n",
       "      <th>2022-03-08</th>\n",
       "      <th>2022-03-09</th>\n",
       "      <th>2022-03-10</th>\n",
       "      <th>2022-03-11</th>\n",
       "    </tr>\n",
       "  </thead>\n",
       "  <tbody>\n",
       "    <tr>\n",
       "      <th>A</th>\n",
       "      <td>-0.670684</td>\n",
       "      <td>-0.741747</td>\n",
       "      <td>2.444058</td>\n",
       "      <td>-0.958433</td>\n",
       "      <td>-0.206521</td>\n",
       "      <td>-0.751636</td>\n",
       "    </tr>\n",
       "    <tr>\n",
       "      <th>B</th>\n",
       "      <td>0.271868</td>\n",
       "      <td>-0.846171</td>\n",
       "      <td>-1.958974</td>\n",
       "      <td>-0.159032</td>\n",
       "      <td>0.508824</td>\n",
       "      <td>-0.548407</td>\n",
       "    </tr>\n",
       "    <tr>\n",
       "      <th>C</th>\n",
       "      <td>0.824433</td>\n",
       "      <td>-0.606836</td>\n",
       "      <td>0.472534</td>\n",
       "      <td>-1.932648</td>\n",
       "      <td>0.094088</td>\n",
       "      <td>0.892564</td>\n",
       "    </tr>\n",
       "    <tr>\n",
       "      <th>D</th>\n",
       "      <td>-0.209901</td>\n",
       "      <td>-0.427040</td>\n",
       "      <td>0.711935</td>\n",
       "      <td>-0.071142</td>\n",
       "      <td>-1.158213</td>\n",
       "      <td>-2.556644</td>\n",
       "    </tr>\n",
       "  </tbody>\n",
       "</table>\n",
       "</div>"
      ],
      "text/plain": [
       "   2022-03-06  2022-03-07  2022-03-08  2022-03-09  2022-03-10  2022-03-11\n",
       "A   -0.670684   -0.741747    2.444058   -0.958433   -0.206521   -0.751636\n",
       "B    0.271868   -0.846171   -1.958974   -0.159032    0.508824   -0.548407\n",
       "C    0.824433   -0.606836    0.472534   -1.932648    0.094088    0.892564\n",
       "D   -0.209901   -0.427040    0.711935   -0.071142   -1.158213   -2.556644"
      ]
     },
     "execution_count": 15,
     "metadata": {},
     "output_type": "execute_result"
    }
   ],
   "source": [
    "df.T"
   ]
  },
  {
   "cell_type": "markdown",
   "metadata": {},
   "source": [
    "[Sorting](https://pandas.pydata.org/docs/reference/api/pandas.DataFrame.sort_index.html) by axis:\n"
   ]
  },
  {
   "cell_type": "code",
   "execution_count": 16,
   "metadata": {},
   "outputs": [
    {
     "data": {
      "text/html": [
       "<div>\n",
       "<style scoped>\n",
       "    .dataframe tbody tr th:only-of-type {\n",
       "        vertical-align: middle;\n",
       "    }\n",
       "\n",
       "    .dataframe tbody tr th {\n",
       "        vertical-align: top;\n",
       "    }\n",
       "\n",
       "    .dataframe thead th {\n",
       "        text-align: right;\n",
       "    }\n",
       "</style>\n",
       "<table border=\"1\" class=\"dataframe\">\n",
       "  <thead>\n",
       "    <tr style=\"text-align: right;\">\n",
       "      <th></th>\n",
       "      <th>D</th>\n",
       "      <th>C</th>\n",
       "      <th>B</th>\n",
       "      <th>A</th>\n",
       "    </tr>\n",
       "  </thead>\n",
       "  <tbody>\n",
       "    <tr>\n",
       "      <th>2022-03-06</th>\n",
       "      <td>-0.209901</td>\n",
       "      <td>0.824433</td>\n",
       "      <td>0.271868</td>\n",
       "      <td>-0.670684</td>\n",
       "    </tr>\n",
       "    <tr>\n",
       "      <th>2022-03-07</th>\n",
       "      <td>-0.427040</td>\n",
       "      <td>-0.606836</td>\n",
       "      <td>-0.846171</td>\n",
       "      <td>-0.741747</td>\n",
       "    </tr>\n",
       "    <tr>\n",
       "      <th>2022-03-08</th>\n",
       "      <td>0.711935</td>\n",
       "      <td>0.472534</td>\n",
       "      <td>-1.958974</td>\n",
       "      <td>2.444058</td>\n",
       "    </tr>\n",
       "    <tr>\n",
       "      <th>2022-03-09</th>\n",
       "      <td>-0.071142</td>\n",
       "      <td>-1.932648</td>\n",
       "      <td>-0.159032</td>\n",
       "      <td>-0.958433</td>\n",
       "    </tr>\n",
       "    <tr>\n",
       "      <th>2022-03-10</th>\n",
       "      <td>-1.158213</td>\n",
       "      <td>0.094088</td>\n",
       "      <td>0.508824</td>\n",
       "      <td>-0.206521</td>\n",
       "    </tr>\n",
       "    <tr>\n",
       "      <th>2022-03-11</th>\n",
       "      <td>-2.556644</td>\n",
       "      <td>0.892564</td>\n",
       "      <td>-0.548407</td>\n",
       "      <td>-0.751636</td>\n",
       "    </tr>\n",
       "  </tbody>\n",
       "</table>\n",
       "</div>"
      ],
      "text/plain": [
       "                   D         C         B         A\n",
       "2022-03-06 -0.209901  0.824433  0.271868 -0.670684\n",
       "2022-03-07 -0.427040 -0.606836 -0.846171 -0.741747\n",
       "2022-03-08  0.711935  0.472534 -1.958974  2.444058\n",
       "2022-03-09 -0.071142 -1.932648 -0.159032 -0.958433\n",
       "2022-03-10 -1.158213  0.094088  0.508824 -0.206521\n",
       "2022-03-11 -2.556644  0.892564 -0.548407 -0.751636"
      ]
     },
     "execution_count": 16,
     "metadata": {},
     "output_type": "execute_result"
    }
   ],
   "source": [
    "# The axis along which to sort. The value 0 identifies the rows, and 1 identifies the columns.\n",
    "df.sort_index(axis=1, ascending=False)  # Sort based on column label"
   ]
  },
  {
   "cell_type": "markdown",
   "metadata": {},
   "source": [
    "[Sorting](https://pandas.pydata.org/docs/reference/api/pandas.DataFrame.sort_values.html#pandas.DataFrame.sort_values) by values:\n"
   ]
  },
  {
   "cell_type": "code",
   "execution_count": 17,
   "metadata": {},
   "outputs": [
    {
     "data": {
      "text/html": [
       "<div>\n",
       "<style scoped>\n",
       "    .dataframe tbody tr th:only-of-type {\n",
       "        vertical-align: middle;\n",
       "    }\n",
       "\n",
       "    .dataframe tbody tr th {\n",
       "        vertical-align: top;\n",
       "    }\n",
       "\n",
       "    .dataframe thead th {\n",
       "        text-align: right;\n",
       "    }\n",
       "</style>\n",
       "<table border=\"1\" class=\"dataframe\">\n",
       "  <thead>\n",
       "    <tr style=\"text-align: right;\">\n",
       "      <th></th>\n",
       "      <th>A</th>\n",
       "      <th>B</th>\n",
       "      <th>C</th>\n",
       "      <th>D</th>\n",
       "    </tr>\n",
       "  </thead>\n",
       "  <tbody>\n",
       "    <tr>\n",
       "      <th>2022-03-09</th>\n",
       "      <td>-0.958433</td>\n",
       "      <td>-0.159032</td>\n",
       "      <td>-1.932648</td>\n",
       "      <td>-0.071142</td>\n",
       "    </tr>\n",
       "    <tr>\n",
       "      <th>2022-03-07</th>\n",
       "      <td>-0.741747</td>\n",
       "      <td>-0.846171</td>\n",
       "      <td>-0.606836</td>\n",
       "      <td>-0.427040</td>\n",
       "    </tr>\n",
       "    <tr>\n",
       "      <th>2022-03-10</th>\n",
       "      <td>-0.206521</td>\n",
       "      <td>0.508824</td>\n",
       "      <td>0.094088</td>\n",
       "      <td>-1.158213</td>\n",
       "    </tr>\n",
       "    <tr>\n",
       "      <th>2022-03-08</th>\n",
       "      <td>2.444058</td>\n",
       "      <td>-1.958974</td>\n",
       "      <td>0.472534</td>\n",
       "      <td>0.711935</td>\n",
       "    </tr>\n",
       "    <tr>\n",
       "      <th>2022-03-06</th>\n",
       "      <td>-0.670684</td>\n",
       "      <td>0.271868</td>\n",
       "      <td>0.824433</td>\n",
       "      <td>-0.209901</td>\n",
       "    </tr>\n",
       "    <tr>\n",
       "      <th>2022-03-11</th>\n",
       "      <td>-0.751636</td>\n",
       "      <td>-0.548407</td>\n",
       "      <td>0.892564</td>\n",
       "      <td>-2.556644</td>\n",
       "    </tr>\n",
       "  </tbody>\n",
       "</table>\n",
       "</div>"
      ],
      "text/plain": [
       "                   A         B         C         D\n",
       "2022-03-09 -0.958433 -0.159032 -1.932648 -0.071142\n",
       "2022-03-07 -0.741747 -0.846171 -0.606836 -0.427040\n",
       "2022-03-10 -0.206521  0.508824  0.094088 -1.158213\n",
       "2022-03-08  2.444058 -1.958974  0.472534  0.711935\n",
       "2022-03-06 -0.670684  0.271868  0.824433 -0.209901\n",
       "2022-03-11 -0.751636 -0.548407  0.892564 -2.556644"
      ]
     },
     "execution_count": 17,
     "metadata": {},
     "output_type": "execute_result"
    }
   ],
   "source": [
    "df.sort_values(by=\"C\")  # Sort by 'C' column ascending"
   ]
  },
  {
   "cell_type": "markdown",
   "metadata": {},
   "source": [
    "## Selection\n",
    "\n",
    "See [Indexing and Selecting Data](https://pandas.pydata.org/docs/user_guide/indexing.html#indexing) section of Pandas documentation for details.\n",
    "\n",
    "Selecting a single column, which yields a Series, equivalent to df.A:\n"
   ]
  },
  {
   "cell_type": "code",
   "execution_count": 18,
   "metadata": {},
   "outputs": [
    {
     "data": {
      "text/plain": [
       "2022-03-06   -0.670684\n",
       "2022-03-07   -0.741747\n",
       "2022-03-08    2.444058\n",
       "2022-03-09   -0.958433\n",
       "2022-03-10   -0.206521\n",
       "2022-03-11   -0.751636\n",
       "Freq: D, Name: A, dtype: float64"
      ]
     },
     "execution_count": 18,
     "metadata": {},
     "output_type": "execute_result"
    }
   ],
   "source": [
    "df[\"A\"]  # Select 'A' column"
   ]
  },
  {
   "cell_type": "markdown",
   "metadata": {},
   "source": [
    "Selecting via [], which slices the rows:\n"
   ]
  },
  {
   "cell_type": "code",
   "execution_count": 19,
   "metadata": {},
   "outputs": [
    {
     "data": {
      "text/html": [
       "<div>\n",
       "<style scoped>\n",
       "    .dataframe tbody tr th:only-of-type {\n",
       "        vertical-align: middle;\n",
       "    }\n",
       "\n",
       "    .dataframe tbody tr th {\n",
       "        vertical-align: top;\n",
       "    }\n",
       "\n",
       "    .dataframe thead th {\n",
       "        text-align: right;\n",
       "    }\n",
       "</style>\n",
       "<table border=\"1\" class=\"dataframe\">\n",
       "  <thead>\n",
       "    <tr style=\"text-align: right;\">\n",
       "      <th></th>\n",
       "      <th>A</th>\n",
       "      <th>B</th>\n",
       "      <th>C</th>\n",
       "      <th>D</th>\n",
       "    </tr>\n",
       "  </thead>\n",
       "  <tbody>\n",
       "    <tr>\n",
       "      <th>2022-03-06</th>\n",
       "      <td>-0.670684</td>\n",
       "      <td>0.271868</td>\n",
       "      <td>0.824433</td>\n",
       "      <td>-0.209901</td>\n",
       "    </tr>\n",
       "    <tr>\n",
       "      <th>2022-03-07</th>\n",
       "      <td>-0.741747</td>\n",
       "      <td>-0.846171</td>\n",
       "      <td>-0.606836</td>\n",
       "      <td>-0.427040</td>\n",
       "    </tr>\n",
       "    <tr>\n",
       "      <th>2022-03-08</th>\n",
       "      <td>2.444058</td>\n",
       "      <td>-1.958974</td>\n",
       "      <td>0.472534</td>\n",
       "      <td>0.711935</td>\n",
       "    </tr>\n",
       "    <tr>\n",
       "      <th>2022-03-09</th>\n",
       "      <td>-0.958433</td>\n",
       "      <td>-0.159032</td>\n",
       "      <td>-1.932648</td>\n",
       "      <td>-0.071142</td>\n",
       "    </tr>\n",
       "  </tbody>\n",
       "</table>\n",
       "</div>"
      ],
      "text/plain": [
       "                   A         B         C         D\n",
       "2022-03-06 -0.670684  0.271868  0.824433 -0.209901\n",
       "2022-03-07 -0.741747 -0.846171 -0.606836 -0.427040\n",
       "2022-03-08  2.444058 -1.958974  0.472534  0.711935\n",
       "2022-03-09 -0.958433 -0.159032 -1.932648 -0.071142"
      ]
     },
     "execution_count": 19,
     "metadata": {},
     "output_type": "execute_result"
    }
   ],
   "source": [
    "df[0:4]  # Select first 4 rows"
   ]
  },
  {
   "cell_type": "code",
   "execution_count": 20,
   "metadata": {},
   "outputs": [
    {
     "data": {
      "text/html": [
       "<div>\n",
       "<style scoped>\n",
       "    .dataframe tbody tr th:only-of-type {\n",
       "        vertical-align: middle;\n",
       "    }\n",
       "\n",
       "    .dataframe tbody tr th {\n",
       "        vertical-align: top;\n",
       "    }\n",
       "\n",
       "    .dataframe thead th {\n",
       "        text-align: right;\n",
       "    }\n",
       "</style>\n",
       "<table border=\"1\" class=\"dataframe\">\n",
       "  <thead>\n",
       "    <tr style=\"text-align: right;\">\n",
       "      <th></th>\n",
       "      <th>A</th>\n",
       "      <th>B</th>\n",
       "      <th>C</th>\n",
       "      <th>D</th>\n",
       "    </tr>\n",
       "  </thead>\n",
       "  <tbody>\n",
       "    <tr>\n",
       "      <th>2022-03-06</th>\n",
       "      <td>-0.670684</td>\n",
       "      <td>0.271868</td>\n",
       "      <td>0.824433</td>\n",
       "      <td>-0.209901</td>\n",
       "    </tr>\n",
       "    <tr>\n",
       "      <th>2022-03-07</th>\n",
       "      <td>-0.741747</td>\n",
       "      <td>-0.846171</td>\n",
       "      <td>-0.606836</td>\n",
       "      <td>-0.427040</td>\n",
       "    </tr>\n",
       "    <tr>\n",
       "      <th>2022-03-08</th>\n",
       "      <td>2.444058</td>\n",
       "      <td>-1.958974</td>\n",
       "      <td>0.472534</td>\n",
       "      <td>0.711935</td>\n",
       "    </tr>\n",
       "    <tr>\n",
       "      <th>2022-03-09</th>\n",
       "      <td>-0.958433</td>\n",
       "      <td>-0.159032</td>\n",
       "      <td>-1.932648</td>\n",
       "      <td>-0.071142</td>\n",
       "    </tr>\n",
       "    <tr>\n",
       "      <th>2022-03-10</th>\n",
       "      <td>-0.206521</td>\n",
       "      <td>0.508824</td>\n",
       "      <td>0.094088</td>\n",
       "      <td>-1.158213</td>\n",
       "    </tr>\n",
       "  </tbody>\n",
       "</table>\n",
       "</div>"
      ],
      "text/plain": [
       "                   A         B         C         D\n",
       "2022-03-06 -0.670684  0.271868  0.824433 -0.209901\n",
       "2022-03-07 -0.741747 -0.846171 -0.606836 -0.427040\n",
       "2022-03-08  2.444058 -1.958974  0.472534  0.711935\n",
       "2022-03-09 -0.958433 -0.159032 -1.932648 -0.071142\n",
       "2022-03-10 -0.206521  0.508824  0.094088 -1.158213"
      ]
     },
     "execution_count": 20,
     "metadata": {},
     "output_type": "execute_result"
    }
   ],
   "source": [
    "df[\"20220306\":\"20220310\"]  # Get \"2022-03-06\" through \"2022-03-10\" rows"
   ]
  },
  {
   "cell_type": "markdown",
   "metadata": {},
   "source": [
    "### Selection by label\n",
    "\n",
    "- **loc** selects rows and columns with specific labels.\n",
    "- **at** selects a single value for a row/column pair with specific labels (faster than `loc` when you only need a single value)\n",
    "\n",
    "Getting a cross section using a label:\n"
   ]
  },
  {
   "cell_type": "code",
   "execution_count": 21,
   "metadata": {},
   "outputs": [
    {
     "data": {
      "text/plain": [
       "DatetimeIndex(['2022-03-06', '2022-03-07', '2022-03-08', '2022-03-09',\n",
       "               '2022-03-10', '2022-03-11'],\n",
       "              dtype='datetime64[ns]', freq='D')"
      ]
     },
     "execution_count": 21,
     "metadata": {},
     "output_type": "execute_result"
    }
   ],
   "source": [
    "dates"
   ]
  },
  {
   "cell_type": "code",
   "execution_count": 22,
   "metadata": {},
   "outputs": [
    {
     "data": {
      "text/plain": [
       "A   -0.670684\n",
       "B    0.271868\n",
       "C    0.824433\n",
       "D   -0.209901\n",
       "Name: 2022-03-06 00:00:00, dtype: float64"
      ]
     },
     "execution_count": 22,
     "metadata": {},
     "output_type": "execute_result"
    }
   ],
   "source": [
    "df.loc[dates[0]]  # Get row indexed by '2022-03-06'"
   ]
  },
  {
   "cell_type": "markdown",
   "metadata": {},
   "source": [
    "Selecting on a multi-axis by label:\n"
   ]
  },
  {
   "cell_type": "code",
   "execution_count": 23,
   "metadata": {},
   "outputs": [
    {
     "data": {
      "text/html": [
       "<div>\n",
       "<style scoped>\n",
       "    .dataframe tbody tr th:only-of-type {\n",
       "        vertical-align: middle;\n",
       "    }\n",
       "\n",
       "    .dataframe tbody tr th {\n",
       "        vertical-align: top;\n",
       "    }\n",
       "\n",
       "    .dataframe thead th {\n",
       "        text-align: right;\n",
       "    }\n",
       "</style>\n",
       "<table border=\"1\" class=\"dataframe\">\n",
       "  <thead>\n",
       "    <tr style=\"text-align: right;\">\n",
       "      <th></th>\n",
       "      <th>A</th>\n",
       "      <th>B</th>\n",
       "    </tr>\n",
       "  </thead>\n",
       "  <tbody>\n",
       "    <tr>\n",
       "      <th>2022-03-06</th>\n",
       "      <td>-0.670684</td>\n",
       "      <td>0.271868</td>\n",
       "    </tr>\n",
       "    <tr>\n",
       "      <th>2022-03-07</th>\n",
       "      <td>-0.741747</td>\n",
       "      <td>-0.846171</td>\n",
       "    </tr>\n",
       "    <tr>\n",
       "      <th>2022-03-08</th>\n",
       "      <td>2.444058</td>\n",
       "      <td>-1.958974</td>\n",
       "    </tr>\n",
       "    <tr>\n",
       "      <th>2022-03-09</th>\n",
       "      <td>-0.958433</td>\n",
       "      <td>-0.159032</td>\n",
       "    </tr>\n",
       "    <tr>\n",
       "      <th>2022-03-10</th>\n",
       "      <td>-0.206521</td>\n",
       "      <td>0.508824</td>\n",
       "    </tr>\n",
       "    <tr>\n",
       "      <th>2022-03-11</th>\n",
       "      <td>-0.751636</td>\n",
       "      <td>-0.548407</td>\n",
       "    </tr>\n",
       "  </tbody>\n",
       "</table>\n",
       "</div>"
      ],
      "text/plain": [
       "                   A         B\n",
       "2022-03-06 -0.670684  0.271868\n",
       "2022-03-07 -0.741747 -0.846171\n",
       "2022-03-08  2.444058 -1.958974\n",
       "2022-03-09 -0.958433 -0.159032\n",
       "2022-03-10 -0.206521  0.508824\n",
       "2022-03-11 -0.751636 -0.548407"
      ]
     },
     "execution_count": 23,
     "metadata": {},
     "output_type": "execute_result"
    }
   ],
   "source": [
    "df.loc[:, [\"A\", \"B\"]]  # Get 'A' and 'B' columns for all rows"
   ]
  },
  {
   "cell_type": "markdown",
   "metadata": {},
   "source": [
    "Showing label slicing, both endpoints are included:\n"
   ]
  },
  {
   "cell_type": "code",
   "execution_count": 24,
   "metadata": {},
   "outputs": [
    {
     "data": {
      "text/html": [
       "<div>\n",
       "<style scoped>\n",
       "    .dataframe tbody tr th:only-of-type {\n",
       "        vertical-align: middle;\n",
       "    }\n",
       "\n",
       "    .dataframe tbody tr th {\n",
       "        vertical-align: top;\n",
       "    }\n",
       "\n",
       "    .dataframe thead th {\n",
       "        text-align: right;\n",
       "    }\n",
       "</style>\n",
       "<table border=\"1\" class=\"dataframe\">\n",
       "  <thead>\n",
       "    <tr style=\"text-align: right;\">\n",
       "      <th></th>\n",
       "      <th>A</th>\n",
       "      <th>B</th>\n",
       "    </tr>\n",
       "  </thead>\n",
       "  <tbody>\n",
       "    <tr>\n",
       "      <th>2022-03-07</th>\n",
       "      <td>-0.741747</td>\n",
       "      <td>-0.846171</td>\n",
       "    </tr>\n",
       "    <tr>\n",
       "      <th>2022-03-08</th>\n",
       "      <td>2.444058</td>\n",
       "      <td>-1.958974</td>\n",
       "    </tr>\n",
       "    <tr>\n",
       "      <th>2022-03-09</th>\n",
       "      <td>-0.958433</td>\n",
       "      <td>-0.159032</td>\n",
       "    </tr>\n",
       "  </tbody>\n",
       "</table>\n",
       "</div>"
      ],
      "text/plain": [
       "                   A         B\n",
       "2022-03-07 -0.741747 -0.846171\n",
       "2022-03-08  2.444058 -1.958974\n",
       "2022-03-09 -0.958433 -0.159032"
      ]
     },
     "execution_count": 24,
     "metadata": {},
     "output_type": "execute_result"
    }
   ],
   "source": [
    "df.loc[\n",
    "    \"20220307\":\"20220309\", [\"A\", \"B\"]\n",
    "]  # # Get 'A' and 'B' columns for rows indexed by '2022-03-07' through '2022-03-09'"
   ]
  },
  {
   "cell_type": "markdown",
   "metadata": {},
   "source": [
    "Reduction in the dimensions of the returned object:\n"
   ]
  },
  {
   "cell_type": "code",
   "execution_count": 25,
   "metadata": {},
   "outputs": [
    {
     "data": {
      "text/plain": [
       "A    2.444058\n",
       "B   -1.958974\n",
       "Name: 2022-03-08 00:00:00, dtype: float64"
      ]
     },
     "execution_count": 25,
     "metadata": {},
     "output_type": "execute_result"
    }
   ],
   "source": [
    "df.loc[\"20220308\", [\"A\", \"B\"]]  # Get 'A' and 'B' columns of '2022-03-08' row"
   ]
  },
  {
   "cell_type": "markdown",
   "metadata": {},
   "source": [
    "Getting a scalar value:\n"
   ]
  },
  {
   "cell_type": "code",
   "execution_count": 26,
   "metadata": {},
   "outputs": [
    {
     "data": {
      "text/plain": [
       "-0.6706836168720861"
      ]
     },
     "execution_count": 26,
     "metadata": {},
     "output_type": "execute_result"
    }
   ],
   "source": [
    "df.loc[dates[0], \"A\"]  # Get value at dates[0] row and 'A' column."
   ]
  },
  {
   "cell_type": "markdown",
   "metadata": {},
   "source": [
    "Getting fast access to a scalar (equivalent to the prior method):\n"
   ]
  },
  {
   "cell_type": "code",
   "execution_count": 27,
   "metadata": {},
   "outputs": [
    {
     "data": {
      "text/plain": [
       "-0.6706836168720861"
      ]
     },
     "execution_count": 27,
     "metadata": {},
     "output_type": "execute_result"
    }
   ],
   "source": [
    "df.at[dates[0], \"A\"]"
   ]
  },
  {
   "cell_type": "markdown",
   "metadata": {},
   "source": [
    "### Selection by position\n",
    "\n",
    "- **iloc** selects rows and columns at specific integer positions.\n",
    "- **iat** selects a single value for a row/column pair at specific integer positions (faster than `iloc` when you only need a single value)\n",
    "\n",
    "Selecting via the position of the passed integers:\n"
   ]
  },
  {
   "cell_type": "code",
   "execution_count": 28,
   "metadata": {},
   "outputs": [
    {
     "data": {
      "text/plain": [
       "A    2.444058\n",
       "B   -1.958974\n",
       "C    0.472534\n",
       "D    0.711935\n",
       "Name: 2022-03-08 00:00:00, dtype: float64"
      ]
     },
     "execution_count": 28,
     "metadata": {},
     "output_type": "execute_result"
    }
   ],
   "source": [
    "df.iloc[2]  # Get all values of third row"
   ]
  },
  {
   "cell_type": "markdown",
   "metadata": {},
   "source": [
    "By integer slices, similar to NumPy/Python:\n"
   ]
  },
  {
   "cell_type": "code",
   "execution_count": 29,
   "metadata": {},
   "outputs": [
    {
     "data": {
      "text/html": [
       "<div>\n",
       "<style scoped>\n",
       "    .dataframe tbody tr th:only-of-type {\n",
       "        vertical-align: middle;\n",
       "    }\n",
       "\n",
       "    .dataframe tbody tr th {\n",
       "        vertical-align: top;\n",
       "    }\n",
       "\n",
       "    .dataframe thead th {\n",
       "        text-align: right;\n",
       "    }\n",
       "</style>\n",
       "<table border=\"1\" class=\"dataframe\">\n",
       "  <thead>\n",
       "    <tr style=\"text-align: right;\">\n",
       "      <th></th>\n",
       "      <th>A</th>\n",
       "      <th>B</th>\n",
       "      <th>C</th>\n",
       "      <th>D</th>\n",
       "    </tr>\n",
       "  </thead>\n",
       "  <tbody>\n",
       "    <tr>\n",
       "      <th>2022-03-06</th>\n",
       "      <td>-0.670684</td>\n",
       "      <td>0.271868</td>\n",
       "      <td>0.824433</td>\n",
       "      <td>-0.209901</td>\n",
       "    </tr>\n",
       "    <tr>\n",
       "      <th>2022-03-07</th>\n",
       "      <td>-0.741747</td>\n",
       "      <td>-0.846171</td>\n",
       "      <td>-0.606836</td>\n",
       "      <td>-0.427040</td>\n",
       "    </tr>\n",
       "    <tr>\n",
       "      <th>2022-03-08</th>\n",
       "      <td>2.444058</td>\n",
       "      <td>-1.958974</td>\n",
       "      <td>0.472534</td>\n",
       "      <td>0.711935</td>\n",
       "    </tr>\n",
       "    <tr>\n",
       "      <th>2022-03-09</th>\n",
       "      <td>-0.958433</td>\n",
       "      <td>-0.159032</td>\n",
       "      <td>-1.932648</td>\n",
       "      <td>-0.071142</td>\n",
       "    </tr>\n",
       "    <tr>\n",
       "      <th>2022-03-10</th>\n",
       "      <td>-0.206521</td>\n",
       "      <td>0.508824</td>\n",
       "      <td>0.094088</td>\n",
       "      <td>-1.158213</td>\n",
       "    </tr>\n",
       "    <tr>\n",
       "      <th>2022-03-11</th>\n",
       "      <td>-0.751636</td>\n",
       "      <td>-0.548407</td>\n",
       "      <td>0.892564</td>\n",
       "      <td>-2.556644</td>\n",
       "    </tr>\n",
       "  </tbody>\n",
       "</table>\n",
       "</div>"
      ],
      "text/plain": [
       "                   A         B         C         D\n",
       "2022-03-06 -0.670684  0.271868  0.824433 -0.209901\n",
       "2022-03-07 -0.741747 -0.846171 -0.606836 -0.427040\n",
       "2022-03-08  2.444058 -1.958974  0.472534  0.711935\n",
       "2022-03-09 -0.958433 -0.159032 -1.932648 -0.071142\n",
       "2022-03-10 -0.206521  0.508824  0.094088 -1.158213\n",
       "2022-03-11 -0.751636 -0.548407  0.892564 -2.556644"
      ]
     },
     "execution_count": 29,
     "metadata": {},
     "output_type": "execute_result"
    }
   ],
   "source": [
    "df"
   ]
  },
  {
   "cell_type": "code",
   "execution_count": 30,
   "metadata": {},
   "outputs": [
    {
     "data": {
      "text/html": [
       "<div>\n",
       "<style scoped>\n",
       "    .dataframe tbody tr th:only-of-type {\n",
       "        vertical-align: middle;\n",
       "    }\n",
       "\n",
       "    .dataframe tbody tr th {\n",
       "        vertical-align: top;\n",
       "    }\n",
       "\n",
       "    .dataframe thead th {\n",
       "        text-align: right;\n",
       "    }\n",
       "</style>\n",
       "<table border=\"1\" class=\"dataframe\">\n",
       "  <thead>\n",
       "    <tr style=\"text-align: right;\">\n",
       "      <th></th>\n",
       "      <th>A</th>\n",
       "      <th>B</th>\n",
       "    </tr>\n",
       "  </thead>\n",
       "  <tbody>\n",
       "    <tr>\n",
       "      <th>2022-03-09</th>\n",
       "      <td>-0.958433</td>\n",
       "      <td>-0.159032</td>\n",
       "    </tr>\n",
       "    <tr>\n",
       "      <th>2022-03-10</th>\n",
       "      <td>-0.206521</td>\n",
       "      <td>0.508824</td>\n",
       "    </tr>\n",
       "  </tbody>\n",
       "</table>\n",
       "</div>"
      ],
      "text/plain": [
       "                   A         B\n",
       "2022-03-09 -0.958433 -0.159032\n",
       "2022-03-10 -0.206521  0.508824"
      ]
     },
     "execution_count": 30,
     "metadata": {},
     "output_type": "execute_result"
    }
   ],
   "source": [
    "df.iloc[3:5, 0:2]  # Get values of 4 and 5 rows, 'A', 'B' columns"
   ]
  },
  {
   "cell_type": "markdown",
   "metadata": {},
   "source": [
    "By lists of integer position locations, similar to the NumPy/Python style:\n"
   ]
  },
  {
   "cell_type": "code",
   "execution_count": 31,
   "metadata": {},
   "outputs": [
    {
     "data": {
      "text/html": [
       "<div>\n",
       "<style scoped>\n",
       "    .dataframe tbody tr th:only-of-type {\n",
       "        vertical-align: middle;\n",
       "    }\n",
       "\n",
       "    .dataframe tbody tr th {\n",
       "        vertical-align: top;\n",
       "    }\n",
       "\n",
       "    .dataframe thead th {\n",
       "        text-align: right;\n",
       "    }\n",
       "</style>\n",
       "<table border=\"1\" class=\"dataframe\">\n",
       "  <thead>\n",
       "    <tr style=\"text-align: right;\">\n",
       "      <th></th>\n",
       "      <th>A</th>\n",
       "      <th>C</th>\n",
       "    </tr>\n",
       "  </thead>\n",
       "  <tbody>\n",
       "    <tr>\n",
       "      <th>2022-03-07</th>\n",
       "      <td>-0.741747</td>\n",
       "      <td>-0.606836</td>\n",
       "    </tr>\n",
       "    <tr>\n",
       "      <th>2022-03-08</th>\n",
       "      <td>2.444058</td>\n",
       "      <td>0.472534</td>\n",
       "    </tr>\n",
       "    <tr>\n",
       "      <th>2022-03-10</th>\n",
       "      <td>-0.206521</td>\n",
       "      <td>0.094088</td>\n",
       "    </tr>\n",
       "  </tbody>\n",
       "</table>\n",
       "</div>"
      ],
      "text/plain": [
       "                   A         C\n",
       "2022-03-07 -0.741747 -0.606836\n",
       "2022-03-08  2.444058  0.472534\n",
       "2022-03-10 -0.206521  0.094088"
      ]
     },
     "execution_count": 31,
     "metadata": {},
     "output_type": "execute_result"
    }
   ],
   "source": [
    "df.iloc[[1, 2, 4], [0, 2]]  # Get values of 2, 3, 5 rows, 'A', 'C' columns"
   ]
  },
  {
   "cell_type": "markdown",
   "metadata": {},
   "source": [
    "Slicing rows explicitly:\n"
   ]
  },
  {
   "cell_type": "code",
   "execution_count": 32,
   "metadata": {},
   "outputs": [
    {
     "data": {
      "text/html": [
       "<div>\n",
       "<style scoped>\n",
       "    .dataframe tbody tr th:only-of-type {\n",
       "        vertical-align: middle;\n",
       "    }\n",
       "\n",
       "    .dataframe tbody tr th {\n",
       "        vertical-align: top;\n",
       "    }\n",
       "\n",
       "    .dataframe thead th {\n",
       "        text-align: right;\n",
       "    }\n",
       "</style>\n",
       "<table border=\"1\" class=\"dataframe\">\n",
       "  <thead>\n",
       "    <tr style=\"text-align: right;\">\n",
       "      <th></th>\n",
       "      <th>A</th>\n",
       "      <th>B</th>\n",
       "      <th>C</th>\n",
       "      <th>D</th>\n",
       "    </tr>\n",
       "  </thead>\n",
       "  <tbody>\n",
       "    <tr>\n",
       "      <th>2022-03-07</th>\n",
       "      <td>-0.741747</td>\n",
       "      <td>-0.846171</td>\n",
       "      <td>-0.606836</td>\n",
       "      <td>-0.427040</td>\n",
       "    </tr>\n",
       "    <tr>\n",
       "      <th>2022-03-08</th>\n",
       "      <td>2.444058</td>\n",
       "      <td>-1.958974</td>\n",
       "      <td>0.472534</td>\n",
       "      <td>0.711935</td>\n",
       "    </tr>\n",
       "  </tbody>\n",
       "</table>\n",
       "</div>"
      ],
      "text/plain": [
       "                   A         B         C         D\n",
       "2022-03-07 -0.741747 -0.846171 -0.606836 -0.427040\n",
       "2022-03-08  2.444058 -1.958974  0.472534  0.711935"
      ]
     },
     "execution_count": 32,
     "metadata": {},
     "output_type": "execute_result"
    }
   ],
   "source": [
    "df.iloc[1:3, :]  # Get values of 2 and 3 rows"
   ]
  },
  {
   "cell_type": "markdown",
   "metadata": {},
   "source": [
    "Slicing columns explicitly:\n"
   ]
  },
  {
   "cell_type": "code",
   "execution_count": 33,
   "metadata": {},
   "outputs": [
    {
     "data": {
      "text/html": [
       "<div>\n",
       "<style scoped>\n",
       "    .dataframe tbody tr th:only-of-type {\n",
       "        vertical-align: middle;\n",
       "    }\n",
       "\n",
       "    .dataframe tbody tr th {\n",
       "        vertical-align: top;\n",
       "    }\n",
       "\n",
       "    .dataframe thead th {\n",
       "        text-align: right;\n",
       "    }\n",
       "</style>\n",
       "<table border=\"1\" class=\"dataframe\">\n",
       "  <thead>\n",
       "    <tr style=\"text-align: right;\">\n",
       "      <th></th>\n",
       "      <th>B</th>\n",
       "      <th>C</th>\n",
       "    </tr>\n",
       "  </thead>\n",
       "  <tbody>\n",
       "    <tr>\n",
       "      <th>2022-03-06</th>\n",
       "      <td>0.271868</td>\n",
       "      <td>0.824433</td>\n",
       "    </tr>\n",
       "    <tr>\n",
       "      <th>2022-03-07</th>\n",
       "      <td>-0.846171</td>\n",
       "      <td>-0.606836</td>\n",
       "    </tr>\n",
       "    <tr>\n",
       "      <th>2022-03-08</th>\n",
       "      <td>-1.958974</td>\n",
       "      <td>0.472534</td>\n",
       "    </tr>\n",
       "    <tr>\n",
       "      <th>2022-03-09</th>\n",
       "      <td>-0.159032</td>\n",
       "      <td>-1.932648</td>\n",
       "    </tr>\n",
       "    <tr>\n",
       "      <th>2022-03-10</th>\n",
       "      <td>0.508824</td>\n",
       "      <td>0.094088</td>\n",
       "    </tr>\n",
       "    <tr>\n",
       "      <th>2022-03-11</th>\n",
       "      <td>-0.548407</td>\n",
       "      <td>0.892564</td>\n",
       "    </tr>\n",
       "  </tbody>\n",
       "</table>\n",
       "</div>"
      ],
      "text/plain": [
       "                   B         C\n",
       "2022-03-06  0.271868  0.824433\n",
       "2022-03-07 -0.846171 -0.606836\n",
       "2022-03-08 -1.958974  0.472534\n",
       "2022-03-09 -0.159032 -1.932648\n",
       "2022-03-10  0.508824  0.094088\n",
       "2022-03-11 -0.548407  0.892564"
      ]
     },
     "execution_count": 33,
     "metadata": {},
     "output_type": "execute_result"
    }
   ],
   "source": [
    "df.iloc[:, 1:3]  # Get values of 2 and 3 columns"
   ]
  },
  {
   "cell_type": "markdown",
   "metadata": {},
   "source": [
    "Getting a value explicitly:\n"
   ]
  },
  {
   "cell_type": "code",
   "execution_count": 34,
   "metadata": {},
   "outputs": [
    {
     "data": {
      "text/plain": [
       "-0.8461708398077648"
      ]
     },
     "execution_count": 34,
     "metadata": {},
     "output_type": "execute_result"
    }
   ],
   "source": [
    "df.iloc[1, 1]  # Get value at 2nd row and 2nd columns"
   ]
  },
  {
   "cell_type": "markdown",
   "metadata": {},
   "source": [
    "Getting fast access to a scalar (equivalent to the prior method):\n"
   ]
  },
  {
   "cell_type": "code",
   "execution_count": 35,
   "metadata": {},
   "outputs": [
    {
     "data": {
      "text/plain": [
       "-0.8461708398077648"
      ]
     },
     "execution_count": 35,
     "metadata": {},
     "output_type": "execute_result"
    }
   ],
   "source": [
    "df.iat[1, 1]"
   ]
  },
  {
   "cell_type": "markdown",
   "metadata": {},
   "source": [
    "### Boolean indexing\n",
    "\n",
    "Using a single column’s values to select data:\n"
   ]
  },
  {
   "cell_type": "code",
   "execution_count": 36,
   "metadata": {},
   "outputs": [
    {
     "data": {
      "text/html": [
       "<div>\n",
       "<style scoped>\n",
       "    .dataframe tbody tr th:only-of-type {\n",
       "        vertical-align: middle;\n",
       "    }\n",
       "\n",
       "    .dataframe tbody tr th {\n",
       "        vertical-align: top;\n",
       "    }\n",
       "\n",
       "    .dataframe thead th {\n",
       "        text-align: right;\n",
       "    }\n",
       "</style>\n",
       "<table border=\"1\" class=\"dataframe\">\n",
       "  <thead>\n",
       "    <tr style=\"text-align: right;\">\n",
       "      <th></th>\n",
       "      <th>A</th>\n",
       "      <th>B</th>\n",
       "      <th>C</th>\n",
       "      <th>D</th>\n",
       "    </tr>\n",
       "  </thead>\n",
       "  <tbody>\n",
       "    <tr>\n",
       "      <th>2022-03-08</th>\n",
       "      <td>2.444058</td>\n",
       "      <td>-1.958974</td>\n",
       "      <td>0.472534</td>\n",
       "      <td>0.711935</td>\n",
       "    </tr>\n",
       "  </tbody>\n",
       "</table>\n",
       "</div>"
      ],
      "text/plain": [
       "                   A         B         C         D\n",
       "2022-03-08  2.444058 -1.958974  0.472534  0.711935"
      ]
     },
     "execution_count": 36,
     "metadata": {},
     "output_type": "execute_result"
    }
   ],
   "source": [
    "df[df[\"A\"] > 0]  # Get rows where 'A' columns is greater than 0"
   ]
  },
  {
   "cell_type": "markdown",
   "metadata": {},
   "source": [
    "Using the isin() method for filtering:\n"
   ]
  },
  {
   "cell_type": "code",
   "execution_count": 37,
   "metadata": {},
   "outputs": [
    {
     "data": {
      "text/html": [
       "<div>\n",
       "<style scoped>\n",
       "    .dataframe tbody tr th:only-of-type {\n",
       "        vertical-align: middle;\n",
       "    }\n",
       "\n",
       "    .dataframe tbody tr th {\n",
       "        vertical-align: top;\n",
       "    }\n",
       "\n",
       "    .dataframe thead th {\n",
       "        text-align: right;\n",
       "    }\n",
       "</style>\n",
       "<table border=\"1\" class=\"dataframe\">\n",
       "  <thead>\n",
       "    <tr style=\"text-align: right;\">\n",
       "      <th></th>\n",
       "      <th>A</th>\n",
       "      <th>B</th>\n",
       "      <th>C</th>\n",
       "      <th>D</th>\n",
       "      <th>E</th>\n",
       "    </tr>\n",
       "  </thead>\n",
       "  <tbody>\n",
       "    <tr>\n",
       "      <th>2022-03-06</th>\n",
       "      <td>-0.670684</td>\n",
       "      <td>0.271868</td>\n",
       "      <td>0.824433</td>\n",
       "      <td>-0.209901</td>\n",
       "      <td>one</td>\n",
       "    </tr>\n",
       "    <tr>\n",
       "      <th>2022-03-07</th>\n",
       "      <td>-0.741747</td>\n",
       "      <td>-0.846171</td>\n",
       "      <td>-0.606836</td>\n",
       "      <td>-0.427040</td>\n",
       "      <td>one</td>\n",
       "    </tr>\n",
       "    <tr>\n",
       "      <th>2022-03-08</th>\n",
       "      <td>2.444058</td>\n",
       "      <td>-1.958974</td>\n",
       "      <td>0.472534</td>\n",
       "      <td>0.711935</td>\n",
       "      <td>two</td>\n",
       "    </tr>\n",
       "    <tr>\n",
       "      <th>2022-03-09</th>\n",
       "      <td>-0.958433</td>\n",
       "      <td>-0.159032</td>\n",
       "      <td>-1.932648</td>\n",
       "      <td>-0.071142</td>\n",
       "      <td>three</td>\n",
       "    </tr>\n",
       "    <tr>\n",
       "      <th>2022-03-10</th>\n",
       "      <td>-0.206521</td>\n",
       "      <td>0.508824</td>\n",
       "      <td>0.094088</td>\n",
       "      <td>-1.158213</td>\n",
       "      <td>four</td>\n",
       "    </tr>\n",
       "    <tr>\n",
       "      <th>2022-03-11</th>\n",
       "      <td>-0.751636</td>\n",
       "      <td>-0.548407</td>\n",
       "      <td>0.892564</td>\n",
       "      <td>-2.556644</td>\n",
       "      <td>three</td>\n",
       "    </tr>\n",
       "  </tbody>\n",
       "</table>\n",
       "</div>"
      ],
      "text/plain": [
       "                   A         B         C         D      E\n",
       "2022-03-06 -0.670684  0.271868  0.824433 -0.209901    one\n",
       "2022-03-07 -0.741747 -0.846171 -0.606836 -0.427040    one\n",
       "2022-03-08  2.444058 -1.958974  0.472534  0.711935    two\n",
       "2022-03-09 -0.958433 -0.159032 -1.932648 -0.071142  three\n",
       "2022-03-10 -0.206521  0.508824  0.094088 -1.158213   four\n",
       "2022-03-11 -0.751636 -0.548407  0.892564 -2.556644  three"
      ]
     },
     "execution_count": 37,
     "metadata": {},
     "output_type": "execute_result"
    }
   ],
   "source": [
    "df2 = df.copy()\n",
    "df2[\"E\"] = [\"one\", \"one\", \"two\", \"three\", \"four\", \"three\"]  # Add new column 'E'\n",
    "df2"
   ]
  },
  {
   "cell_type": "code",
   "execution_count": 38,
   "metadata": {},
   "outputs": [
    {
     "data": {
      "text/html": [
       "<div>\n",
       "<style scoped>\n",
       "    .dataframe tbody tr th:only-of-type {\n",
       "        vertical-align: middle;\n",
       "    }\n",
       "\n",
       "    .dataframe tbody tr th {\n",
       "        vertical-align: top;\n",
       "    }\n",
       "\n",
       "    .dataframe thead th {\n",
       "        text-align: right;\n",
       "    }\n",
       "</style>\n",
       "<table border=\"1\" class=\"dataframe\">\n",
       "  <thead>\n",
       "    <tr style=\"text-align: right;\">\n",
       "      <th></th>\n",
       "      <th>A</th>\n",
       "      <th>B</th>\n",
       "      <th>C</th>\n",
       "      <th>D</th>\n",
       "      <th>E</th>\n",
       "    </tr>\n",
       "  </thead>\n",
       "  <tbody>\n",
       "    <tr>\n",
       "      <th>2022-03-08</th>\n",
       "      <td>2.444058</td>\n",
       "      <td>-1.958974</td>\n",
       "      <td>0.472534</td>\n",
       "      <td>0.711935</td>\n",
       "      <td>two</td>\n",
       "    </tr>\n",
       "    <tr>\n",
       "      <th>2022-03-10</th>\n",
       "      <td>-0.206521</td>\n",
       "      <td>0.508824</td>\n",
       "      <td>0.094088</td>\n",
       "      <td>-1.158213</td>\n",
       "      <td>four</td>\n",
       "    </tr>\n",
       "  </tbody>\n",
       "</table>\n",
       "</div>"
      ],
      "text/plain": [
       "                   A         B         C         D     E\n",
       "2022-03-08  2.444058 -1.958974  0.472534  0.711935   two\n",
       "2022-03-10 -0.206521  0.508824  0.094088 -1.158213  four"
      ]
     },
     "execution_count": 38,
     "metadata": {},
     "output_type": "execute_result"
    }
   ],
   "source": [
    "df2[\n",
    "    df2[\"E\"].isin([\"two\", \"four\"])\n",
    "]  # Get rows where the values in column 'E' is either \"two\" or \"four\""
   ]
  },
  {
   "cell_type": "markdown",
   "metadata": {},
   "source": [
    "## Setting\n",
    "\n",
    "Setting a new column automatically aligns the data by the indexes:\n"
   ]
  },
  {
   "cell_type": "code",
   "execution_count": 39,
   "metadata": {},
   "outputs": [
    {
     "data": {
      "text/plain": [
       "2022-03-06    1\n",
       "2022-03-07    2\n",
       "2022-03-08    3\n",
       "2022-03-09    4\n",
       "2022-03-10    5\n",
       "2022-03-11    6\n",
       "Freq: D, dtype: int64"
      ]
     },
     "execution_count": 39,
     "metadata": {},
     "output_type": "execute_result"
    }
   ],
   "source": [
    "s1 = pd.Series([1, 2, 3, 4, 5, 6], index=pd.date_range(\"20220306\", periods=6))\n",
    "s1"
   ]
  },
  {
   "cell_type": "code",
   "execution_count": 40,
   "metadata": {},
   "outputs": [
    {
     "data": {
      "text/html": [
       "<div>\n",
       "<style scoped>\n",
       "    .dataframe tbody tr th:only-of-type {\n",
       "        vertical-align: middle;\n",
       "    }\n",
       "\n",
       "    .dataframe tbody tr th {\n",
       "        vertical-align: top;\n",
       "    }\n",
       "\n",
       "    .dataframe thead th {\n",
       "        text-align: right;\n",
       "    }\n",
       "</style>\n",
       "<table border=\"1\" class=\"dataframe\">\n",
       "  <thead>\n",
       "    <tr style=\"text-align: right;\">\n",
       "      <th></th>\n",
       "      <th>A</th>\n",
       "      <th>B</th>\n",
       "      <th>C</th>\n",
       "      <th>D</th>\n",
       "      <th>F</th>\n",
       "    </tr>\n",
       "  </thead>\n",
       "  <tbody>\n",
       "    <tr>\n",
       "      <th>2022-03-06</th>\n",
       "      <td>-0.670684</td>\n",
       "      <td>0.271868</td>\n",
       "      <td>0.824433</td>\n",
       "      <td>-0.209901</td>\n",
       "      <td>1</td>\n",
       "    </tr>\n",
       "    <tr>\n",
       "      <th>2022-03-07</th>\n",
       "      <td>-0.741747</td>\n",
       "      <td>-0.846171</td>\n",
       "      <td>-0.606836</td>\n",
       "      <td>-0.427040</td>\n",
       "      <td>2</td>\n",
       "    </tr>\n",
       "    <tr>\n",
       "      <th>2022-03-08</th>\n",
       "      <td>2.444058</td>\n",
       "      <td>-1.958974</td>\n",
       "      <td>0.472534</td>\n",
       "      <td>0.711935</td>\n",
       "      <td>3</td>\n",
       "    </tr>\n",
       "    <tr>\n",
       "      <th>2022-03-09</th>\n",
       "      <td>-0.958433</td>\n",
       "      <td>-0.159032</td>\n",
       "      <td>-1.932648</td>\n",
       "      <td>-0.071142</td>\n",
       "      <td>4</td>\n",
       "    </tr>\n",
       "    <tr>\n",
       "      <th>2022-03-10</th>\n",
       "      <td>-0.206521</td>\n",
       "      <td>0.508824</td>\n",
       "      <td>0.094088</td>\n",
       "      <td>-1.158213</td>\n",
       "      <td>5</td>\n",
       "    </tr>\n",
       "    <tr>\n",
       "      <th>2022-03-11</th>\n",
       "      <td>-0.751636</td>\n",
       "      <td>-0.548407</td>\n",
       "      <td>0.892564</td>\n",
       "      <td>-2.556644</td>\n",
       "      <td>6</td>\n",
       "    </tr>\n",
       "  </tbody>\n",
       "</table>\n",
       "</div>"
      ],
      "text/plain": [
       "                   A         B         C         D  F\n",
       "2022-03-06 -0.670684  0.271868  0.824433 -0.209901  1\n",
       "2022-03-07 -0.741747 -0.846171 -0.606836 -0.427040  2\n",
       "2022-03-08  2.444058 -1.958974  0.472534  0.711935  3\n",
       "2022-03-09 -0.958433 -0.159032 -1.932648 -0.071142  4\n",
       "2022-03-10 -0.206521  0.508824  0.094088 -1.158213  5\n",
       "2022-03-11 -0.751636 -0.548407  0.892564 -2.556644  6"
      ]
     },
     "execution_count": 40,
     "metadata": {},
     "output_type": "execute_result"
    }
   ],
   "source": [
    "df[\"F\"] = s1\n",
    "df"
   ]
  },
  {
   "cell_type": "markdown",
   "metadata": {},
   "source": [
    "Setting values by label:\n"
   ]
  },
  {
   "cell_type": "code",
   "execution_count": 41,
   "metadata": {},
   "outputs": [
    {
     "data": {
      "text/html": [
       "<div>\n",
       "<style scoped>\n",
       "    .dataframe tbody tr th:only-of-type {\n",
       "        vertical-align: middle;\n",
       "    }\n",
       "\n",
       "    .dataframe tbody tr th {\n",
       "        vertical-align: top;\n",
       "    }\n",
       "\n",
       "    .dataframe thead th {\n",
       "        text-align: right;\n",
       "    }\n",
       "</style>\n",
       "<table border=\"1\" class=\"dataframe\">\n",
       "  <thead>\n",
       "    <tr style=\"text-align: right;\">\n",
       "      <th></th>\n",
       "      <th>A</th>\n",
       "      <th>B</th>\n",
       "      <th>C</th>\n",
       "      <th>D</th>\n",
       "      <th>F</th>\n",
       "    </tr>\n",
       "  </thead>\n",
       "  <tbody>\n",
       "    <tr>\n",
       "      <th>2022-03-06</th>\n",
       "      <td>0.000000</td>\n",
       "      <td>0.271868</td>\n",
       "      <td>0.824433</td>\n",
       "      <td>-0.209901</td>\n",
       "      <td>1</td>\n",
       "    </tr>\n",
       "    <tr>\n",
       "      <th>2022-03-07</th>\n",
       "      <td>-0.741747</td>\n",
       "      <td>-0.846171</td>\n",
       "      <td>-0.606836</td>\n",
       "      <td>-0.427040</td>\n",
       "      <td>2</td>\n",
       "    </tr>\n",
       "    <tr>\n",
       "      <th>2022-03-08</th>\n",
       "      <td>2.444058</td>\n",
       "      <td>-1.958974</td>\n",
       "      <td>0.472534</td>\n",
       "      <td>0.711935</td>\n",
       "      <td>3</td>\n",
       "    </tr>\n",
       "    <tr>\n",
       "      <th>2022-03-09</th>\n",
       "      <td>-0.958433</td>\n",
       "      <td>-0.159032</td>\n",
       "      <td>-1.932648</td>\n",
       "      <td>-0.071142</td>\n",
       "      <td>4</td>\n",
       "    </tr>\n",
       "    <tr>\n",
       "      <th>2022-03-10</th>\n",
       "      <td>-0.206521</td>\n",
       "      <td>0.508824</td>\n",
       "      <td>0.094088</td>\n",
       "      <td>-1.158213</td>\n",
       "      <td>5</td>\n",
       "    </tr>\n",
       "    <tr>\n",
       "      <th>2022-03-11</th>\n",
       "      <td>-0.751636</td>\n",
       "      <td>-0.548407</td>\n",
       "      <td>0.892564</td>\n",
       "      <td>-2.556644</td>\n",
       "      <td>6</td>\n",
       "    </tr>\n",
       "  </tbody>\n",
       "</table>\n",
       "</div>"
      ],
      "text/plain": [
       "                   A         B         C         D  F\n",
       "2022-03-06  0.000000  0.271868  0.824433 -0.209901  1\n",
       "2022-03-07 -0.741747 -0.846171 -0.606836 -0.427040  2\n",
       "2022-03-08  2.444058 -1.958974  0.472534  0.711935  3\n",
       "2022-03-09 -0.958433 -0.159032 -1.932648 -0.071142  4\n",
       "2022-03-10 -0.206521  0.508824  0.094088 -1.158213  5\n",
       "2022-03-11 -0.751636 -0.548407  0.892564 -2.556644  6"
      ]
     },
     "execution_count": 41,
     "metadata": {},
     "output_type": "execute_result"
    }
   ],
   "source": [
    "df.at[dates[0], \"A\"] = 0  # Set the value at dates[0] and 'A' column to be 0\n",
    "df"
   ]
  },
  {
   "cell_type": "markdown",
   "metadata": {},
   "source": [
    "Setting values by position:\n"
   ]
  },
  {
   "cell_type": "code",
   "execution_count": 42,
   "metadata": {},
   "outputs": [
    {
     "data": {
      "text/html": [
       "<div>\n",
       "<style scoped>\n",
       "    .dataframe tbody tr th:only-of-type {\n",
       "        vertical-align: middle;\n",
       "    }\n",
       "\n",
       "    .dataframe tbody tr th {\n",
       "        vertical-align: top;\n",
       "    }\n",
       "\n",
       "    .dataframe thead th {\n",
       "        text-align: right;\n",
       "    }\n",
       "</style>\n",
       "<table border=\"1\" class=\"dataframe\">\n",
       "  <thead>\n",
       "    <tr style=\"text-align: right;\">\n",
       "      <th></th>\n",
       "      <th>A</th>\n",
       "      <th>B</th>\n",
       "      <th>C</th>\n",
       "      <th>D</th>\n",
       "      <th>F</th>\n",
       "    </tr>\n",
       "  </thead>\n",
       "  <tbody>\n",
       "    <tr>\n",
       "      <th>2022-03-06</th>\n",
       "      <td>0.000000</td>\n",
       "      <td>0.000000</td>\n",
       "      <td>0.824433</td>\n",
       "      <td>-0.209901</td>\n",
       "      <td>1</td>\n",
       "    </tr>\n",
       "    <tr>\n",
       "      <th>2022-03-07</th>\n",
       "      <td>-0.741747</td>\n",
       "      <td>-0.846171</td>\n",
       "      <td>-0.606836</td>\n",
       "      <td>-0.427040</td>\n",
       "      <td>2</td>\n",
       "    </tr>\n",
       "    <tr>\n",
       "      <th>2022-03-08</th>\n",
       "      <td>2.444058</td>\n",
       "      <td>-1.958974</td>\n",
       "      <td>0.472534</td>\n",
       "      <td>0.711935</td>\n",
       "      <td>3</td>\n",
       "    </tr>\n",
       "    <tr>\n",
       "      <th>2022-03-09</th>\n",
       "      <td>-0.958433</td>\n",
       "      <td>-0.159032</td>\n",
       "      <td>-1.932648</td>\n",
       "      <td>-0.071142</td>\n",
       "      <td>4</td>\n",
       "    </tr>\n",
       "    <tr>\n",
       "      <th>2022-03-10</th>\n",
       "      <td>-0.206521</td>\n",
       "      <td>0.508824</td>\n",
       "      <td>0.094088</td>\n",
       "      <td>-1.158213</td>\n",
       "      <td>5</td>\n",
       "    </tr>\n",
       "    <tr>\n",
       "      <th>2022-03-11</th>\n",
       "      <td>-0.751636</td>\n",
       "      <td>-0.548407</td>\n",
       "      <td>0.892564</td>\n",
       "      <td>-2.556644</td>\n",
       "      <td>6</td>\n",
       "    </tr>\n",
       "  </tbody>\n",
       "</table>\n",
       "</div>"
      ],
      "text/plain": [
       "                   A         B         C         D  F\n",
       "2022-03-06  0.000000  0.000000  0.824433 -0.209901  1\n",
       "2022-03-07 -0.741747 -0.846171 -0.606836 -0.427040  2\n",
       "2022-03-08  2.444058 -1.958974  0.472534  0.711935  3\n",
       "2022-03-09 -0.958433 -0.159032 -1.932648 -0.071142  4\n",
       "2022-03-10 -0.206521  0.508824  0.094088 -1.158213  5\n",
       "2022-03-11 -0.751636 -0.548407  0.892564 -2.556644  6"
      ]
     },
     "execution_count": 42,
     "metadata": {},
     "output_type": "execute_result"
    }
   ],
   "source": [
    "df.iat[0, 1] = 0  # Set the value at first row, second column to be 0\n",
    "df"
   ]
  },
  {
   "cell_type": "markdown",
   "metadata": {},
   "source": [
    "Setting by assigning with a NumPy array:\n"
   ]
  },
  {
   "cell_type": "code",
   "execution_count": 43,
   "metadata": {},
   "outputs": [
    {
     "data": {
      "text/html": [
       "<div>\n",
       "<style scoped>\n",
       "    .dataframe tbody tr th:only-of-type {\n",
       "        vertical-align: middle;\n",
       "    }\n",
       "\n",
       "    .dataframe tbody tr th {\n",
       "        vertical-align: top;\n",
       "    }\n",
       "\n",
       "    .dataframe thead th {\n",
       "        text-align: right;\n",
       "    }\n",
       "</style>\n",
       "<table border=\"1\" class=\"dataframe\">\n",
       "  <thead>\n",
       "    <tr style=\"text-align: right;\">\n",
       "      <th></th>\n",
       "      <th>A</th>\n",
       "      <th>B</th>\n",
       "      <th>C</th>\n",
       "      <th>D</th>\n",
       "      <th>F</th>\n",
       "    </tr>\n",
       "  </thead>\n",
       "  <tbody>\n",
       "    <tr>\n",
       "      <th>2022-03-06</th>\n",
       "      <td>0.000000</td>\n",
       "      <td>0.000000</td>\n",
       "      <td>0.824433</td>\n",
       "      <td>5</td>\n",
       "      <td>1</td>\n",
       "    </tr>\n",
       "    <tr>\n",
       "      <th>2022-03-07</th>\n",
       "      <td>-0.741747</td>\n",
       "      <td>-0.846171</td>\n",
       "      <td>-0.606836</td>\n",
       "      <td>5</td>\n",
       "      <td>2</td>\n",
       "    </tr>\n",
       "    <tr>\n",
       "      <th>2022-03-08</th>\n",
       "      <td>2.444058</td>\n",
       "      <td>-1.958974</td>\n",
       "      <td>0.472534</td>\n",
       "      <td>5</td>\n",
       "      <td>3</td>\n",
       "    </tr>\n",
       "    <tr>\n",
       "      <th>2022-03-09</th>\n",
       "      <td>-0.958433</td>\n",
       "      <td>-0.159032</td>\n",
       "      <td>-1.932648</td>\n",
       "      <td>5</td>\n",
       "      <td>4</td>\n",
       "    </tr>\n",
       "    <tr>\n",
       "      <th>2022-03-10</th>\n",
       "      <td>-0.206521</td>\n",
       "      <td>0.508824</td>\n",
       "      <td>0.094088</td>\n",
       "      <td>5</td>\n",
       "      <td>5</td>\n",
       "    </tr>\n",
       "    <tr>\n",
       "      <th>2022-03-11</th>\n",
       "      <td>-0.751636</td>\n",
       "      <td>-0.548407</td>\n",
       "      <td>0.892564</td>\n",
       "      <td>5</td>\n",
       "      <td>6</td>\n",
       "    </tr>\n",
       "  </tbody>\n",
       "</table>\n",
       "</div>"
      ],
      "text/plain": [
       "                   A         B         C  D  F\n",
       "2022-03-06  0.000000  0.000000  0.824433  5  1\n",
       "2022-03-07 -0.741747 -0.846171 -0.606836  5  2\n",
       "2022-03-08  2.444058 -1.958974  0.472534  5  3\n",
       "2022-03-09 -0.958433 -0.159032 -1.932648  5  4\n",
       "2022-03-10 -0.206521  0.508824  0.094088  5  5\n",
       "2022-03-11 -0.751636 -0.548407  0.892564  5  6"
      ]
     },
     "execution_count": 43,
     "metadata": {},
     "output_type": "execute_result"
    }
   ],
   "source": [
    "df[df.columns[3]] = np.array([5] * len(df)) # Index-Based Assignment\n",
    "df"
   ]
  },
  {
   "cell_type": "markdown",
   "metadata": {},
   "source": [
    "## Missing data\n",
    "\n",
    "See [Missing Data](https://pandas.pydata.org/docs/user_guide/missing_data.html#missing-data) section of Pandas documentation for details.\n",
    "\n",
    "Pandas primarily uses the value `np.nan` to represent missing data. It is by default not included in computations.\n"
   ]
  },
  {
   "cell_type": "code",
   "execution_count": 44,
   "metadata": {},
   "outputs": [
    {
     "data": {
      "text/html": [
       "<div>\n",
       "<style scoped>\n",
       "    .dataframe tbody tr th:only-of-type {\n",
       "        vertical-align: middle;\n",
       "    }\n",
       "\n",
       "    .dataframe tbody tr th {\n",
       "        vertical-align: top;\n",
       "    }\n",
       "\n",
       "    .dataframe thead th {\n",
       "        text-align: right;\n",
       "    }\n",
       "</style>\n",
       "<table border=\"1\" class=\"dataframe\">\n",
       "  <thead>\n",
       "    <tr style=\"text-align: right;\">\n",
       "      <th></th>\n",
       "      <th>A</th>\n",
       "      <th>B</th>\n",
       "      <th>C</th>\n",
       "      <th>D</th>\n",
       "      <th>F</th>\n",
       "      <th>E</th>\n",
       "    </tr>\n",
       "  </thead>\n",
       "  <tbody>\n",
       "    <tr>\n",
       "      <th>2022-03-06</th>\n",
       "      <td>0.000000</td>\n",
       "      <td>0.000000</td>\n",
       "      <td>0.824433</td>\n",
       "      <td>5</td>\n",
       "      <td>1</td>\n",
       "      <td>1.0</td>\n",
       "    </tr>\n",
       "    <tr>\n",
       "      <th>2022-03-07</th>\n",
       "      <td>-0.741747</td>\n",
       "      <td>-0.846171</td>\n",
       "      <td>-0.606836</td>\n",
       "      <td>5</td>\n",
       "      <td>2</td>\n",
       "      <td>1.0</td>\n",
       "    </tr>\n",
       "    <tr>\n",
       "      <th>2022-03-08</th>\n",
       "      <td>2.444058</td>\n",
       "      <td>-1.958974</td>\n",
       "      <td>0.472534</td>\n",
       "      <td>5</td>\n",
       "      <td>3</td>\n",
       "      <td>NaN</td>\n",
       "    </tr>\n",
       "    <tr>\n",
       "      <th>2022-03-09</th>\n",
       "      <td>-0.958433</td>\n",
       "      <td>-0.159032</td>\n",
       "      <td>-1.932648</td>\n",
       "      <td>5</td>\n",
       "      <td>4</td>\n",
       "      <td>NaN</td>\n",
       "    </tr>\n",
       "  </tbody>\n",
       "</table>\n",
       "</div>"
      ],
      "text/plain": [
       "                   A         B         C  D  F    E\n",
       "2022-03-06  0.000000  0.000000  0.824433  5  1  1.0\n",
       "2022-03-07 -0.741747 -0.846171 -0.606836  5  2  1.0\n",
       "2022-03-08  2.444058 -1.958974  0.472534  5  3  NaN\n",
       "2022-03-09 -0.958433 -0.159032 -1.932648  5  4  NaN"
      ]
     },
     "execution_count": 44,
     "metadata": {},
     "output_type": "execute_result"
    }
   ],
   "source": [
    "# Reindexing allows you to change/add/delete the index on a specified axis. This returns a copy of the data:\n",
    "df1 = df.reindex(index=dates[0:4], columns=list(df.columns) + [\"E\"])\n",
    "# Add a new column \"E\" and set the first two rows of \"E\" to be \"1\"\n",
    "df1.loc[dates[0] : dates[1], \"E\"] = 1\n",
    "df1"
   ]
  },
  {
   "cell_type": "markdown",
   "metadata": {},
   "source": [
    "To drop any rows that have missing data:\n"
   ]
  },
  {
   "cell_type": "code",
   "execution_count": 45,
   "metadata": {},
   "outputs": [
    {
     "data": {
      "text/html": [
       "<div>\n",
       "<style scoped>\n",
       "    .dataframe tbody tr th:only-of-type {\n",
       "        vertical-align: middle;\n",
       "    }\n",
       "\n",
       "    .dataframe tbody tr th {\n",
       "        vertical-align: top;\n",
       "    }\n",
       "\n",
       "    .dataframe thead th {\n",
       "        text-align: right;\n",
       "    }\n",
       "</style>\n",
       "<table border=\"1\" class=\"dataframe\">\n",
       "  <thead>\n",
       "    <tr style=\"text-align: right;\">\n",
       "      <th></th>\n",
       "      <th>A</th>\n",
       "      <th>B</th>\n",
       "      <th>C</th>\n",
       "      <th>D</th>\n",
       "      <th>F</th>\n",
       "      <th>E</th>\n",
       "    </tr>\n",
       "  </thead>\n",
       "  <tbody>\n",
       "    <tr>\n",
       "      <th>2022-03-06</th>\n",
       "      <td>0.000000</td>\n",
       "      <td>0.000000</td>\n",
       "      <td>0.824433</td>\n",
       "      <td>5</td>\n",
       "      <td>1</td>\n",
       "      <td>1.0</td>\n",
       "    </tr>\n",
       "    <tr>\n",
       "      <th>2022-03-07</th>\n",
       "      <td>-0.741747</td>\n",
       "      <td>-0.846171</td>\n",
       "      <td>-0.606836</td>\n",
       "      <td>5</td>\n",
       "      <td>2</td>\n",
       "      <td>1.0</td>\n",
       "    </tr>\n",
       "  </tbody>\n",
       "</table>\n",
       "</div>"
      ],
      "text/plain": [
       "                   A         B         C  D  F    E\n",
       "2022-03-06  0.000000  0.000000  0.824433  5  1  1.0\n",
       "2022-03-07 -0.741747 -0.846171 -0.606836  5  2  1.0"
      ]
     },
     "execution_count": 45,
     "metadata": {},
     "output_type": "execute_result"
    }
   ],
   "source": [
    "# Drop rows with any missing (NaN) values\n",
    "# The 'how=\"any\"' parameter specifies that if any column in a row has a NaN value, that row will be dropped\n",
    "df1.dropna(how=\"any\")"
   ]
  },
  {
   "cell_type": "markdown",
   "metadata": {},
   "source": [
    "Filling missing data:\n"
   ]
  },
  {
   "cell_type": "code",
   "execution_count": 46,
   "metadata": {},
   "outputs": [
    {
     "data": {
      "text/html": [
       "<div>\n",
       "<style scoped>\n",
       "    .dataframe tbody tr th:only-of-type {\n",
       "        vertical-align: middle;\n",
       "    }\n",
       "\n",
       "    .dataframe tbody tr th {\n",
       "        vertical-align: top;\n",
       "    }\n",
       "\n",
       "    .dataframe thead th {\n",
       "        text-align: right;\n",
       "    }\n",
       "</style>\n",
       "<table border=\"1\" class=\"dataframe\">\n",
       "  <thead>\n",
       "    <tr style=\"text-align: right;\">\n",
       "      <th></th>\n",
       "      <th>A</th>\n",
       "      <th>B</th>\n",
       "      <th>C</th>\n",
       "      <th>D</th>\n",
       "      <th>F</th>\n",
       "      <th>E</th>\n",
       "    </tr>\n",
       "  </thead>\n",
       "  <tbody>\n",
       "    <tr>\n",
       "      <th>2022-03-06</th>\n",
       "      <td>0.000000</td>\n",
       "      <td>0.000000</td>\n",
       "      <td>0.824433</td>\n",
       "      <td>5</td>\n",
       "      <td>1</td>\n",
       "      <td>1.0</td>\n",
       "    </tr>\n",
       "    <tr>\n",
       "      <th>2022-03-07</th>\n",
       "      <td>-0.741747</td>\n",
       "      <td>-0.846171</td>\n",
       "      <td>-0.606836</td>\n",
       "      <td>5</td>\n",
       "      <td>2</td>\n",
       "      <td>1.0</td>\n",
       "    </tr>\n",
       "    <tr>\n",
       "      <th>2022-03-08</th>\n",
       "      <td>2.444058</td>\n",
       "      <td>-1.958974</td>\n",
       "      <td>0.472534</td>\n",
       "      <td>5</td>\n",
       "      <td>3</td>\n",
       "      <td>5.0</td>\n",
       "    </tr>\n",
       "    <tr>\n",
       "      <th>2022-03-09</th>\n",
       "      <td>-0.958433</td>\n",
       "      <td>-0.159032</td>\n",
       "      <td>-1.932648</td>\n",
       "      <td>5</td>\n",
       "      <td>4</td>\n",
       "      <td>5.0</td>\n",
       "    </tr>\n",
       "  </tbody>\n",
       "</table>\n",
       "</div>"
      ],
      "text/plain": [
       "                   A         B         C  D  F    E\n",
       "2022-03-06  0.000000  0.000000  0.824433  5  1  1.0\n",
       "2022-03-07 -0.741747 -0.846171 -0.606836  5  2  1.0\n",
       "2022-03-08  2.444058 -1.958974  0.472534  5  3  5.0\n",
       "2022-03-09 -0.958433 -0.159032 -1.932648  5  4  5.0"
      ]
     },
     "execution_count": 46,
     "metadata": {},
     "output_type": "execute_result"
    }
   ],
   "source": [
    "# Fill missing (NaN) values in the DataFrame `df1` with the specified value (5)\n",
    "df1.fillna(value=5)"
   ]
  },
  {
   "cell_type": "markdown",
   "metadata": {},
   "source": [
    "To get the boolean mask where values are _NaN_:\n"
   ]
  },
  {
   "cell_type": "code",
   "execution_count": 47,
   "metadata": {},
   "outputs": [
    {
     "data": {
      "text/html": [
       "<div>\n",
       "<style scoped>\n",
       "    .dataframe tbody tr th:only-of-type {\n",
       "        vertical-align: middle;\n",
       "    }\n",
       "\n",
       "    .dataframe tbody tr th {\n",
       "        vertical-align: top;\n",
       "    }\n",
       "\n",
       "    .dataframe thead th {\n",
       "        text-align: right;\n",
       "    }\n",
       "</style>\n",
       "<table border=\"1\" class=\"dataframe\">\n",
       "  <thead>\n",
       "    <tr style=\"text-align: right;\">\n",
       "      <th></th>\n",
       "      <th>A</th>\n",
       "      <th>B</th>\n",
       "      <th>C</th>\n",
       "      <th>D</th>\n",
       "      <th>F</th>\n",
       "      <th>E</th>\n",
       "    </tr>\n",
       "  </thead>\n",
       "  <tbody>\n",
       "    <tr>\n",
       "      <th>2022-03-06</th>\n",
       "      <td>False</td>\n",
       "      <td>False</td>\n",
       "      <td>False</td>\n",
       "      <td>False</td>\n",
       "      <td>False</td>\n",
       "      <td>False</td>\n",
       "    </tr>\n",
       "    <tr>\n",
       "      <th>2022-03-07</th>\n",
       "      <td>False</td>\n",
       "      <td>False</td>\n",
       "      <td>False</td>\n",
       "      <td>False</td>\n",
       "      <td>False</td>\n",
       "      <td>False</td>\n",
       "    </tr>\n",
       "    <tr>\n",
       "      <th>2022-03-08</th>\n",
       "      <td>False</td>\n",
       "      <td>False</td>\n",
       "      <td>False</td>\n",
       "      <td>False</td>\n",
       "      <td>False</td>\n",
       "      <td>True</td>\n",
       "    </tr>\n",
       "    <tr>\n",
       "      <th>2022-03-09</th>\n",
       "      <td>False</td>\n",
       "      <td>False</td>\n",
       "      <td>False</td>\n",
       "      <td>False</td>\n",
       "      <td>False</td>\n",
       "      <td>True</td>\n",
       "    </tr>\n",
       "  </tbody>\n",
       "</table>\n",
       "</div>"
      ],
      "text/plain": [
       "                A      B      C      D      F      E\n",
       "2022-03-06  False  False  False  False  False  False\n",
       "2022-03-07  False  False  False  False  False  False\n",
       "2022-03-08  False  False  False  False  False   True\n",
       "2022-03-09  False  False  False  False  False   True"
      ]
     },
     "execution_count": 47,
     "metadata": {},
     "output_type": "execute_result"
    }
   ],
   "source": [
    "# Check for missing (NaN) values in the DataFrame 'df1'\n",
    "# df1.isna() returns a DataFrame of the same shape as 'df1' with True for NaN values and False for non-NaN values\n",
    "\n",
    "df1.isna()"
   ]
  },
  {
   "cell_type": "markdown",
   "metadata": {},
   "source": [
    "## Operations\n",
    "\n",
    "See the [Flexible binary operations](https://pandas.pydata.org/docs/user_guide/basics.html#basics-binop) section of Pandas documentation for details.\n",
    "\n",
    "### Stats\n",
    "\n",
    "Operations in general exclude missing data.\n",
    "\n",
    "Performing a descriptive statistic:\n"
   ]
  },
  {
   "cell_type": "code",
   "execution_count": 48,
   "metadata": {},
   "outputs": [
    {
     "data": {
      "text/html": [
       "<div>\n",
       "<style scoped>\n",
       "    .dataframe tbody tr th:only-of-type {\n",
       "        vertical-align: middle;\n",
       "    }\n",
       "\n",
       "    .dataframe tbody tr th {\n",
       "        vertical-align: top;\n",
       "    }\n",
       "\n",
       "    .dataframe thead th {\n",
       "        text-align: right;\n",
       "    }\n",
       "</style>\n",
       "<table border=\"1\" class=\"dataframe\">\n",
       "  <thead>\n",
       "    <tr style=\"text-align: right;\">\n",
       "      <th></th>\n",
       "      <th>A</th>\n",
       "      <th>B</th>\n",
       "      <th>C</th>\n",
       "      <th>D</th>\n",
       "      <th>F</th>\n",
       "    </tr>\n",
       "  </thead>\n",
       "  <tbody>\n",
       "    <tr>\n",
       "      <th>2022-03-06</th>\n",
       "      <td>0.000000</td>\n",
       "      <td>0.000000</td>\n",
       "      <td>0.824433</td>\n",
       "      <td>5</td>\n",
       "      <td>1</td>\n",
       "    </tr>\n",
       "    <tr>\n",
       "      <th>2022-03-07</th>\n",
       "      <td>-0.741747</td>\n",
       "      <td>-0.846171</td>\n",
       "      <td>-0.606836</td>\n",
       "      <td>5</td>\n",
       "      <td>2</td>\n",
       "    </tr>\n",
       "    <tr>\n",
       "      <th>2022-03-08</th>\n",
       "      <td>2.444058</td>\n",
       "      <td>-1.958974</td>\n",
       "      <td>0.472534</td>\n",
       "      <td>5</td>\n",
       "      <td>3</td>\n",
       "    </tr>\n",
       "    <tr>\n",
       "      <th>2022-03-09</th>\n",
       "      <td>-0.958433</td>\n",
       "      <td>-0.159032</td>\n",
       "      <td>-1.932648</td>\n",
       "      <td>5</td>\n",
       "      <td>4</td>\n",
       "    </tr>\n",
       "    <tr>\n",
       "      <th>2022-03-10</th>\n",
       "      <td>-0.206521</td>\n",
       "      <td>0.508824</td>\n",
       "      <td>0.094088</td>\n",
       "      <td>5</td>\n",
       "      <td>5</td>\n",
       "    </tr>\n",
       "    <tr>\n",
       "      <th>2022-03-11</th>\n",
       "      <td>-0.751636</td>\n",
       "      <td>-0.548407</td>\n",
       "      <td>0.892564</td>\n",
       "      <td>5</td>\n",
       "      <td>6</td>\n",
       "    </tr>\n",
       "  </tbody>\n",
       "</table>\n",
       "</div>"
      ],
      "text/plain": [
       "                   A         B         C  D  F\n",
       "2022-03-06  0.000000  0.000000  0.824433  5  1\n",
       "2022-03-07 -0.741747 -0.846171 -0.606836  5  2\n",
       "2022-03-08  2.444058 -1.958974  0.472534  5  3\n",
       "2022-03-09 -0.958433 -0.159032 -1.932648  5  4\n",
       "2022-03-10 -0.206521  0.508824  0.094088  5  5\n",
       "2022-03-11 -0.751636 -0.548407  0.892564  5  6"
      ]
     },
     "execution_count": 48,
     "metadata": {},
     "output_type": "execute_result"
    }
   ],
   "source": [
    "df"
   ]
  },
  {
   "cell_type": "code",
   "execution_count": 49,
   "metadata": {},
   "outputs": [
    {
     "data": {
      "text/plain": [
       "A    2.444058\n",
       "B    0.508824\n",
       "C    0.892564\n",
       "D    5.000000\n",
       "F    6.000000\n",
       "dtype: float64"
      ]
     },
     "execution_count": 49,
     "metadata": {},
     "output_type": "execute_result"
    }
   ],
   "source": [
    "df.max(axis=0)  # Get max of all columns"
   ]
  },
  {
   "cell_type": "markdown",
   "metadata": {},
   "source": [
    "Same operation on the other axis:\n"
   ]
  },
  {
   "cell_type": "code",
   "execution_count": 50,
   "metadata": {},
   "outputs": [
    {
     "data": {
      "text/plain": [
       "2022-03-06    5.0\n",
       "2022-03-07    5.0\n",
       "2022-03-08    5.0\n",
       "2022-03-09    5.0\n",
       "2022-03-10    5.0\n",
       "2022-03-11    6.0\n",
       "Freq: D, dtype: float64"
      ]
     },
     "execution_count": 50,
     "metadata": {},
     "output_type": "execute_result"
    }
   ],
   "source": [
    "df.max(axis=1)  # Get max of all rows"
   ]
  },
  {
   "cell_type": "code",
   "execution_count": 51,
   "metadata": {},
   "outputs": [],
   "source": [
    "# Create a pandas DataFrame with employee performance metrics for three departments\n",
    "# The DataFrame includes some missing values (NaN) to demonstrate handling of incomplete data\n",
    "data = {\n",
    "    'Employee': ['Alice', 'Bob', 'Charlie', 'David', 'Eve', 'Frank'],\n",
    "    'Sales': [12000, 15000, None, 10000, 18000, 13000],\n",
    "    'Productivity': [85, 90, 78, 82, 95, None],\n",
    "    'Customer_Rating': [4.5, None, 4.0, 3.8, 4.8, 4.2]\n",
    "}\n",
    "df_emp = pd.DataFrame(data)"
   ]
  },
  {
   "cell_type": "code",
   "execution_count": 52,
   "metadata": {},
   "outputs": [
    {
     "name": "stdout",
     "output_type": "stream",
     "text": [
      "Full DataFrame:\n",
      "  Employee    Sales  Productivity  Customer_Rating\n",
      "0    Alice  12000.0          85.0              4.5\n",
      "1      Bob  15000.0          90.0              NaN\n",
      "2  Charlie      NaN          78.0              4.0\n",
      "3    David  10000.0          82.0              3.8\n",
      "4      Eve  18000.0          95.0              4.8\n",
      "5    Frank  13000.0           NaN              4.2\n"
     ]
    }
   ],
   "source": [
    "# Display the full DataFrame to view its contents\n",
    "print(\"Full DataFrame:\")\n",
    "print(df_emp)"
   ]
  },
  {
   "cell_type": "code",
   "execution_count": 53,
   "metadata": {},
   "outputs": [
    {
     "name": "stdout",
     "output_type": "stream",
     "text": [
      "\n",
      "Descriptive Statistics (describe()):\n",
      "              Sales  Productivity  Customer_Rating\n",
      "count      5.000000      5.000000         5.000000\n",
      "mean   13600.000000     86.000000         4.260000\n",
      "std     3049.590136      6.670832         0.397492\n",
      "min    10000.000000     78.000000         3.800000\n",
      "25%    12000.000000     82.000000         4.000000\n",
      "50%    13000.000000     85.000000         4.200000\n",
      "75%    15000.000000     90.000000         4.500000\n",
      "max    18000.000000     95.000000         4.800000\n"
     ]
    }
   ],
   "source": [
    "# Compute descriptive statistics for all numerical columns using describe()\n",
    "# This provides count, mean, std, min, 25% (Q1), 50% (median), 75% (Q3), and max\n",
    "print(\"\\nDescriptive Statistics (describe()):\")\n",
    "print(df_emp.describe())"
   ]
  },
  {
   "cell_type": "code",
   "execution_count": 54,
   "metadata": {},
   "outputs": [
    {
     "name": "stdout",
     "output_type": "stream",
     "text": [
      "\n",
      "Custom Quantiles (10th, 25th, 75th, 90th percentiles):\n",
      "        Sales  Productivity  Customer_Rating\n",
      "0.10  10800.0          79.6             3.88\n",
      "0.25  12000.0          82.0             4.00\n",
      "0.75  15000.0          90.0             4.50\n",
      "0.90  16800.0          93.0             4.68\n"
     ]
    }
   ],
   "source": [
    "# Compute specific quantiles (10th, 25th, 75th, 90th percentiles) for each numerical column\n",
    "# quantile() accepts a single value or list of values between 0 and 1\n",
    "print(\"\\nCustom Quantiles (10th, 25th, 75th, 90th percentiles):\")\n",
    "print(df_emp[['Sales', 'Productivity', 'Customer_Rating']].quantile([0.1, 0.25, 0.75, 0.9]))"
   ]
  },
  {
   "cell_type": "code",
   "execution_count": 55,
   "metadata": {},
   "outputs": [
    {
     "name": "stdout",
     "output_type": "stream",
     "text": [
      "\n",
      "Mean Values per Metric:\n",
      "Sales              13600.00\n",
      "Productivity          86.00\n",
      "Customer_Rating        4.26\n",
      "dtype: float64\n"
     ]
    }
   ],
   "source": [
    "# Compute the mean for each metric\n",
    "print(\"\\nMean Values per Metric:\")\n",
    "print(df_emp[['Sales', 'Productivity', 'Customer_Rating']].mean())"
   ]
  },
  {
   "cell_type": "code",
   "execution_count": 56,
   "metadata": {},
   "outputs": [
    {
     "name": "stdout",
     "output_type": "stream",
     "text": [
      "\n",
      "Median Values per Metric:\n",
      "Sales              13000.0\n",
      "Productivity          85.0\n",
      "Customer_Rating        4.2\n",
      "dtype: float64\n"
     ]
    }
   ],
   "source": [
    "# Compute the median (50th percentile) for each metric\n",
    "print(\"\\nMedian Values per Metric:\")\n",
    "print(df_emp[['Sales', 'Productivity', 'Customer_Rating']].median())"
   ]
  },
  {
   "cell_type": "code",
   "execution_count": 57,
   "metadata": {},
   "outputs": [
    {
     "name": "stdout",
     "output_type": "stream",
     "text": [
      "\n",
      "Standard Deviation per Metric:\n",
      "Sales              3049.590136\n",
      "Productivity          6.670832\n",
      "Customer_Rating       0.397492\n",
      "dtype: float64\n"
     ]
    }
   ],
   "source": [
    "# Compute the standard deviation for each metric\n",
    "print(\"\\nStandard Deviation per Metric:\")\n",
    "print(df_emp[['Sales', 'Productivity', 'Customer_Rating']].std())"
   ]
  },
  {
   "cell_type": "code",
   "execution_count": 58,
   "metadata": {},
   "outputs": [
    {
     "name": "stdout",
     "output_type": "stream",
     "text": [
      "\n",
      "Count of Non-Missing Values per Metric:\n",
      "Sales              5\n",
      "Productivity       5\n",
      "Customer_Rating    5\n",
      "dtype: int64\n"
     ]
    }
   ],
   "source": [
    "# Count non-missing values for each metric\n",
    "print(\"\\nCount of Non-Missing Values per Metric:\")\n",
    "print(df_emp[['Sales', 'Productivity', 'Customer_Rating']].count())"
   ]
  },
  {
   "cell_type": "code",
   "execution_count": 59,
   "metadata": {},
   "outputs": [
    {
     "name": "stdout",
     "output_type": "stream",
     "text": [
      "\n",
      "Minimum Value per Employee (across metrics):\n",
      "0     4.5\n",
      "1    90.0\n",
      "2     4.0\n",
      "3     3.8\n",
      "4     4.8\n",
      "5     4.2\n",
      "dtype: float64\n"
     ]
    }
   ],
   "source": [
    "# Compute the minimum value across all metrics for each employee\n",
    "# Use min() along axis=1 to find the lowest value per row (excluding 'Employee' column)\n",
    "print(\"\\nMinimum Value per Employee (across metrics):\")\n",
    "print(df_emp[['Sales', 'Productivity', 'Customer_Rating']].min(axis=1))"
   ]
  },
  {
   "cell_type": "markdown",
   "metadata": {},
   "source": [
    "### Apply\n",
    "\n",
    "Applying functions to the data:\n"
   ]
  },
  {
   "cell_type": "code",
   "execution_count": 60,
   "metadata": {},
   "outputs": [
    {
     "data": {
      "text/plain": [
       "2022-03-06    5.000000\n",
       "2022-03-07    5.846171\n",
       "2022-03-08    6.958974\n",
       "2022-03-09    6.932648\n",
       "2022-03-10    5.206521\n",
       "2022-03-11    6.751636\n",
       "Freq: D, dtype: float64"
      ]
     },
     "execution_count": 60,
     "metadata": {},
     "output_type": "execute_result"
    }
   ],
   "source": [
    "df.apply(lambda x: x.max() - x.min(), axis=1)  # Get the max-min differences of columns\n",
    "# def test(x):\n",
    "#   result = x.max() - x.min()\n",
    "#   return result"
   ]
  },
  {
   "cell_type": "markdown",
   "metadata": {},
   "source": [
    "### String Methods\n",
    "\n",
    "Series is equipped with a set of string processing methods in the `str` attribute that make it easy to operate on each element of the array, as in the code snippet below. Note that pattern-matching in `str` generally uses regular expressions by default (and in some cases always uses them).\n"
   ]
  },
  {
   "cell_type": "code",
   "execution_count": 61,
   "metadata": {},
   "outputs": [
    {
     "data": {
      "text/plain": [
       "0       a\n",
       "1       b\n",
       "2       c\n",
       "3    aaba\n",
       "4    baca\n",
       "5     NaN\n",
       "6    caba\n",
       "7     dog\n",
       "8     cat\n",
       "dtype: object"
      ]
     },
     "execution_count": 61,
     "metadata": {},
     "output_type": "execute_result"
    }
   ],
   "source": [
    "# Create a pandas Series with a mix of strings and a NaN value\n",
    "s = pd.Series([\"A\", \"B\", \"C\", \"Aaba\", \"Baca\", np.nan, \"CABA\", \"dog\", \"cat\"])\n",
    "\n",
    "# Apply the `str.lower()` function to convert all string elements in the Series to lowercase\n",
    "# This function works element-wise, meaning it will convert each string in the Series to lowercase\n",
    "s.str.lower()"
   ]
  },
  {
   "cell_type": "code",
   "execution_count": 62,
   "metadata": {},
   "outputs": [],
   "source": [
    "# Create a pandas DataFrame with data about animal species\n",
    "# Columns include species name, weight, lifespan, population size, and predation risk\n",
    "data = {\n",
    "    'species': ['Tiger', 'Elephant', 'Blue Whale', 'Bald Eagle'],\n",
    "    'weight_kg': [250, 5000, 150000, 6],\n",
    "    'lifespan_years': [15, 60, 90, 20],\n",
    "    'population': [3900, 40000, 25000, 100000],\n",
    "    'predation_risk': [0.3, 0.1, 0.05, 0.2]\n",
    "}\n",
    "animal_data = pd.DataFrame(data)\n"
   ]
  },
  {
   "cell_type": "code",
   "execution_count": 63,
   "metadata": {},
   "outputs": [
    {
     "name": "stdout",
     "output_type": "stream",
     "text": [
      "Full DataFrame:\n",
      "      species  weight_kg  lifespan_years  population  predation_risk\n",
      "0       Tiger        250              15        3900            0.30\n",
      "1    Elephant       5000              60       40000            0.10\n",
      "2  Blue Whale     150000              90       25000            0.05\n",
      "3  Bald Eagle          6              20      100000            0.20\n"
     ]
    }
   ],
   "source": [
    "# Display the full DataFrame to view its contents\n",
    "print(\"Full DataFrame:\")\n",
    "print(animal_data)"
   ]
  },
  {
   "cell_type": "code",
   "execution_count": 64,
   "metadata": {},
   "outputs": [],
   "source": [
    "# Filter the `animal_data` DataFrame to include animals with a weight greater than 1000 kg\n",
    "# The condition animal_data[\"weight_kg\"] > 1000 selects rows where the weight exceeds 1000 kg\n",
    "# Then, select only the columns whose names start with \"p\"\n",
    "# This is achieved using the str.startswith(\"p\") function on the column names\n",
    "filtered_data = animal_data[animal_data[\"weight_kg\"] > 1000][\n",
    "    animal_data.columns[pd.Series(animal_data.columns).str.startswith(\"p\")]\n",
    "]"
   ]
  },
  {
   "cell_type": "code",
   "execution_count": 65,
   "metadata": {},
   "outputs": [
    {
     "name": "stdout",
     "output_type": "stream",
     "text": [
      "\n",
      "Filtered DataFrame (weight > 1000 kg, columns starting with 'p'):\n",
      "   population  predation_risk\n",
      "1       40000            0.10\n",
      "2       25000            0.05\n"
     ]
    }
   ],
   "source": [
    "# Display the filtered DataFrame\n",
    "print(\"\\nFiltered DataFrame (weight > 1000 kg, columns starting with 'p'):\")\n",
    "print(filtered_data)"
   ]
  },
  {
   "cell_type": "markdown",
   "metadata": {},
   "source": [
    "## Getting data in/out\n",
    "\n",
    "### CSV\n",
    "\n",
    "Writing to a csv file:\n"
   ]
  },
  {
   "cell_type": "code",
   "execution_count": 66,
   "metadata": {},
   "outputs": [],
   "source": [
    "# Save the DataFrame `df` to a CSV file named \"foo.csv\"\n",
    "# The `to_csv` method writes the data from the DataFrame into a CSV file\n",
    "df.to_csv(\"foo.csv\")"
   ]
  },
  {
   "cell_type": "markdown",
   "metadata": {},
   "source": [
    "Reading from a csv file:\n"
   ]
  },
  {
   "cell_type": "code",
   "execution_count": 67,
   "metadata": {},
   "outputs": [
    {
     "data": {
      "text/html": [
       "<div>\n",
       "<style scoped>\n",
       "    .dataframe tbody tr th:only-of-type {\n",
       "        vertical-align: middle;\n",
       "    }\n",
       "\n",
       "    .dataframe tbody tr th {\n",
       "        vertical-align: top;\n",
       "    }\n",
       "\n",
       "    .dataframe thead th {\n",
       "        text-align: right;\n",
       "    }\n",
       "</style>\n",
       "<table border=\"1\" class=\"dataframe\">\n",
       "  <thead>\n",
       "    <tr style=\"text-align: right;\">\n",
       "      <th></th>\n",
       "      <th>Unnamed: 0</th>\n",
       "      <th>A</th>\n",
       "      <th>B</th>\n",
       "      <th>C</th>\n",
       "      <th>D</th>\n",
       "      <th>F</th>\n",
       "    </tr>\n",
       "  </thead>\n",
       "  <tbody>\n",
       "    <tr>\n",
       "      <th>0</th>\n",
       "      <td>2022-03-06</td>\n",
       "      <td>0.000000</td>\n",
       "      <td>0.000000</td>\n",
       "      <td>0.824433</td>\n",
       "      <td>5</td>\n",
       "      <td>1</td>\n",
       "    </tr>\n",
       "    <tr>\n",
       "      <th>1</th>\n",
       "      <td>2022-03-07</td>\n",
       "      <td>-0.741747</td>\n",
       "      <td>-0.846171</td>\n",
       "      <td>-0.606836</td>\n",
       "      <td>5</td>\n",
       "      <td>2</td>\n",
       "    </tr>\n",
       "    <tr>\n",
       "      <th>2</th>\n",
       "      <td>2022-03-08</td>\n",
       "      <td>2.444058</td>\n",
       "      <td>-1.958974</td>\n",
       "      <td>0.472534</td>\n",
       "      <td>5</td>\n",
       "      <td>3</td>\n",
       "    </tr>\n",
       "    <tr>\n",
       "      <th>3</th>\n",
       "      <td>2022-03-09</td>\n",
       "      <td>-0.958433</td>\n",
       "      <td>-0.159032</td>\n",
       "      <td>-1.932648</td>\n",
       "      <td>5</td>\n",
       "      <td>4</td>\n",
       "    </tr>\n",
       "    <tr>\n",
       "      <th>4</th>\n",
       "      <td>2022-03-10</td>\n",
       "      <td>-0.206521</td>\n",
       "      <td>0.508824</td>\n",
       "      <td>0.094088</td>\n",
       "      <td>5</td>\n",
       "      <td>5</td>\n",
       "    </tr>\n",
       "    <tr>\n",
       "      <th>5</th>\n",
       "      <td>2022-03-11</td>\n",
       "      <td>-0.751636</td>\n",
       "      <td>-0.548407</td>\n",
       "      <td>0.892564</td>\n",
       "      <td>5</td>\n",
       "      <td>6</td>\n",
       "    </tr>\n",
       "  </tbody>\n",
       "</table>\n",
       "</div>"
      ],
      "text/plain": [
       "   Unnamed: 0         A         B         C  D  F\n",
       "0  2022-03-06  0.000000  0.000000  0.824433  5  1\n",
       "1  2022-03-07 -0.741747 -0.846171 -0.606836  5  2\n",
       "2  2022-03-08  2.444058 -1.958974  0.472534  5  3\n",
       "3  2022-03-09 -0.958433 -0.159032 -1.932648  5  4\n",
       "4  2022-03-10 -0.206521  0.508824  0.094088  5  5\n",
       "5  2022-03-11 -0.751636 -0.548407  0.892564  5  6"
      ]
     },
     "execution_count": 67,
     "metadata": {},
     "output_type": "execute_result"
    }
   ],
   "source": [
    "# Use pandas to read a CSV file and load its contents into a DataFrame\n",
    "df = pd.read_csv(\"foo.csv\")\n",
    "df"
   ]
  },
  {
   "cell_type": "markdown",
   "metadata": {},
   "source": [
    "### HDF5\n",
    "\n",
    "HDF5 is a unique technology suite that makes possible the management of extremely large and complex data collections. If you want to know more about HDF5 format, please see [Introduction to HDF5](https://support.hdfgroup.org/documentation/hdf5/latest/_intro_h_d_f5.html) for details.\n",
    "\n",
    "Reading and writing to HDFStores.\n"
   ]
  },
  {
   "cell_type": "code",
   "execution_count": 68,
   "metadata": {},
   "outputs": [],
   "source": [
    "# Save the DataFrame 'df' to a HDF5 file named 'foo.h5', with the data stored under the key \"df\"\n",
    "df.to_hdf(\"foo.h5\", key=\"df\")"
   ]
  },
  {
   "cell_type": "markdown",
   "metadata": {},
   "source": [
    "Reading from a HDF5 Store:\n"
   ]
  },
  {
   "cell_type": "code",
   "execution_count": 69,
   "metadata": {},
   "outputs": [
    {
     "data": {
      "text/html": [
       "<div>\n",
       "<style scoped>\n",
       "    .dataframe tbody tr th:only-of-type {\n",
       "        vertical-align: middle;\n",
       "    }\n",
       "\n",
       "    .dataframe tbody tr th {\n",
       "        vertical-align: top;\n",
       "    }\n",
       "\n",
       "    .dataframe thead th {\n",
       "        text-align: right;\n",
       "    }\n",
       "</style>\n",
       "<table border=\"1\" class=\"dataframe\">\n",
       "  <thead>\n",
       "    <tr style=\"text-align: right;\">\n",
       "      <th></th>\n",
       "      <th>Unnamed: 0</th>\n",
       "      <th>A</th>\n",
       "      <th>B</th>\n",
       "      <th>C</th>\n",
       "      <th>D</th>\n",
       "      <th>F</th>\n",
       "    </tr>\n",
       "  </thead>\n",
       "  <tbody>\n",
       "    <tr>\n",
       "      <th>0</th>\n",
       "      <td>2022-03-06</td>\n",
       "      <td>0.000000</td>\n",
       "      <td>0.000000</td>\n",
       "      <td>0.824433</td>\n",
       "      <td>5</td>\n",
       "      <td>1</td>\n",
       "    </tr>\n",
       "    <tr>\n",
       "      <th>1</th>\n",
       "      <td>2022-03-07</td>\n",
       "      <td>-0.741747</td>\n",
       "      <td>-0.846171</td>\n",
       "      <td>-0.606836</td>\n",
       "      <td>5</td>\n",
       "      <td>2</td>\n",
       "    </tr>\n",
       "    <tr>\n",
       "      <th>2</th>\n",
       "      <td>2022-03-08</td>\n",
       "      <td>2.444058</td>\n",
       "      <td>-1.958974</td>\n",
       "      <td>0.472534</td>\n",
       "      <td>5</td>\n",
       "      <td>3</td>\n",
       "    </tr>\n",
       "    <tr>\n",
       "      <th>3</th>\n",
       "      <td>2022-03-09</td>\n",
       "      <td>-0.958433</td>\n",
       "      <td>-0.159032</td>\n",
       "      <td>-1.932648</td>\n",
       "      <td>5</td>\n",
       "      <td>4</td>\n",
       "    </tr>\n",
       "    <tr>\n",
       "      <th>4</th>\n",
       "      <td>2022-03-10</td>\n",
       "      <td>-0.206521</td>\n",
       "      <td>0.508824</td>\n",
       "      <td>0.094088</td>\n",
       "      <td>5</td>\n",
       "      <td>5</td>\n",
       "    </tr>\n",
       "    <tr>\n",
       "      <th>5</th>\n",
       "      <td>2022-03-11</td>\n",
       "      <td>-0.751636</td>\n",
       "      <td>-0.548407</td>\n",
       "      <td>0.892564</td>\n",
       "      <td>5</td>\n",
       "      <td>6</td>\n",
       "    </tr>\n",
       "  </tbody>\n",
       "</table>\n",
       "</div>"
      ],
      "text/plain": [
       "   Unnamed: 0         A         B         C  D  F\n",
       "0  2022-03-06  0.000000  0.000000  0.824433  5  1\n",
       "1  2022-03-07 -0.741747 -0.846171 -0.606836  5  2\n",
       "2  2022-03-08  2.444058 -1.958974  0.472534  5  3\n",
       "3  2022-03-09 -0.958433 -0.159032 -1.932648  5  4\n",
       "4  2022-03-10 -0.206521  0.508824  0.094088  5  5\n",
       "5  2022-03-11 -0.751636 -0.548407  0.892564  5  6"
      ]
     },
     "execution_count": 69,
     "metadata": {},
     "output_type": "execute_result"
    }
   ],
   "source": [
    "# Use pandas to read an HDF5 file (\"foo.h5\") and load the data from the \"df\" dataset\n",
    "df = pd.read_hdf(\"foo.h5\", \"df\")\n",
    "df"
   ]
  },
  {
   "cell_type": "code",
   "execution_count": 70,
   "metadata": {},
   "outputs": [
    {
     "data": {
      "text/html": [
       "<div>\n",
       "<style scoped>\n",
       "    .dataframe tbody tr th:only-of-type {\n",
       "        vertical-align: middle;\n",
       "    }\n",
       "\n",
       "    .dataframe tbody tr th {\n",
       "        vertical-align: top;\n",
       "    }\n",
       "\n",
       "    .dataframe thead th {\n",
       "        text-align: right;\n",
       "    }\n",
       "</style>\n",
       "<table border=\"1\" class=\"dataframe\">\n",
       "  <thead>\n",
       "    <tr style=\"text-align: right;\">\n",
       "      <th></th>\n",
       "      <th>Unnamed: 0</th>\n",
       "      <th>A</th>\n",
       "      <th>B</th>\n",
       "      <th>C</th>\n",
       "      <th>D</th>\n",
       "      <th>F</th>\n",
       "    </tr>\n",
       "  </thead>\n",
       "  <tbody>\n",
       "    <tr>\n",
       "      <th>0</th>\n",
       "      <td>2022-03-06</td>\n",
       "      <td>0.000000</td>\n",
       "      <td>0.000000</td>\n",
       "      <td>0.824433</td>\n",
       "      <td>5.0</td>\n",
       "      <td>1</td>\n",
       "    </tr>\n",
       "    <tr>\n",
       "      <th>1</th>\n",
       "      <td>2022-03-07</td>\n",
       "      <td>NaN</td>\n",
       "      <td>-0.846171</td>\n",
       "      <td>-0.606836</td>\n",
       "      <td>5.0</td>\n",
       "      <td>2</td>\n",
       "    </tr>\n",
       "    <tr>\n",
       "      <th>2</th>\n",
       "      <td>2022-03-08</td>\n",
       "      <td>2.444058</td>\n",
       "      <td>-1.958974</td>\n",
       "      <td>0.472534</td>\n",
       "      <td>NaN</td>\n",
       "      <td>3</td>\n",
       "    </tr>\n",
       "    <tr>\n",
       "      <th>3</th>\n",
       "      <td>2022-03-09</td>\n",
       "      <td>-0.958433</td>\n",
       "      <td>-0.159032</td>\n",
       "      <td>-1.932648</td>\n",
       "      <td>5.0</td>\n",
       "      <td>4</td>\n",
       "    </tr>\n",
       "    <tr>\n",
       "      <th>4</th>\n",
       "      <td>2022-03-10</td>\n",
       "      <td>-0.206521</td>\n",
       "      <td>0.508824</td>\n",
       "      <td>0.094088</td>\n",
       "      <td>5.0</td>\n",
       "      <td>5</td>\n",
       "    </tr>\n",
       "    <tr>\n",
       "      <th>5</th>\n",
       "      <td>2022-03-11</td>\n",
       "      <td>-0.751636</td>\n",
       "      <td>-0.548407</td>\n",
       "      <td>0.892564</td>\n",
       "      <td>5.0</td>\n",
       "      <td>6</td>\n",
       "    </tr>\n",
       "  </tbody>\n",
       "</table>\n",
       "</div>"
      ],
      "text/plain": [
       "   Unnamed: 0         A         B         C    D  F\n",
       "0  2022-03-06  0.000000  0.000000  0.824433  5.0  1\n",
       "1  2022-03-07       NaN -0.846171 -0.606836  5.0  2\n",
       "2  2022-03-08  2.444058 -1.958974  0.472534  NaN  3\n",
       "3  2022-03-09 -0.958433 -0.159032 -1.932648  5.0  4\n",
       "4  2022-03-10 -0.206521  0.508824  0.094088  5.0  5\n",
       "5  2022-03-11 -0.751636 -0.548407  0.892564  5.0  6"
      ]
     },
     "execution_count": 70,
     "metadata": {},
     "output_type": "execute_result"
    }
   ],
   "source": [
    "# Replace specific cells with NaN using loc\n",
    "df.loc[1, 'A'] = np.nan  # Row index 1, PageRank column\n",
    "df.loc[2, 'D'] = np.nan    # Row index 2, Degree column\n",
    "df "
   ]
  },
  {
   "cell_type": "markdown",
   "metadata": {},
   "source": [
    "### Excel\n",
    "\n",
    "Reading and writing to MS Excel.\n",
    "\n",
    "Writing to an excel file:\n"
   ]
  },
  {
   "cell_type": "code",
   "execution_count": 71,
   "metadata": {},
   "outputs": [],
   "source": [
    "# Save the dataframe 'df' to an Excel file with the name 'foo.xlsx'\n",
    "# The data will be written to the sheet named 'Sheet1'\n",
    "df.to_excel(\"foo.xlsx\", sheet_name=\"Sheet1\")"
   ]
  },
  {
   "cell_type": "markdown",
   "metadata": {},
   "source": [
    "Reading from an excel file:\n"
   ]
  },
  {
   "cell_type": "code",
   "execution_count": 72,
   "metadata": {},
   "outputs": [
    {
     "data": {
      "text/html": [
       "<div>\n",
       "<style scoped>\n",
       "    .dataframe tbody tr th:only-of-type {\n",
       "        vertical-align: middle;\n",
       "    }\n",
       "\n",
       "    .dataframe tbody tr th {\n",
       "        vertical-align: top;\n",
       "    }\n",
       "\n",
       "    .dataframe thead th {\n",
       "        text-align: right;\n",
       "    }\n",
       "</style>\n",
       "<table border=\"1\" class=\"dataframe\">\n",
       "  <thead>\n",
       "    <tr style=\"text-align: right;\">\n",
       "      <th></th>\n",
       "      <th>id</th>\n",
       "      <th>date</th>\n",
       "      <th>A</th>\n",
       "      <th>B</th>\n",
       "      <th>C</th>\n",
       "      <th>D</th>\n",
       "      <th>F</th>\n",
       "    </tr>\n",
       "  </thead>\n",
       "  <tbody>\n",
       "    <tr>\n",
       "      <th>0</th>\n",
       "      <td>0</td>\n",
       "      <td>2022-03-06</td>\n",
       "      <td>0.000000</td>\n",
       "      <td>0.000000</td>\n",
       "      <td>0.824433</td>\n",
       "      <td>5.0</td>\n",
       "      <td>1</td>\n",
       "    </tr>\n",
       "    <tr>\n",
       "      <th>1</th>\n",
       "      <td>1</td>\n",
       "      <td>2022-03-07</td>\n",
       "      <td>NaN</td>\n",
       "      <td>-0.846171</td>\n",
       "      <td>-0.606836</td>\n",
       "      <td>5.0</td>\n",
       "      <td>2</td>\n",
       "    </tr>\n",
       "    <tr>\n",
       "      <th>2</th>\n",
       "      <td>2</td>\n",
       "      <td>2022-03-08</td>\n",
       "      <td>2.444058</td>\n",
       "      <td>-1.958974</td>\n",
       "      <td>0.472534</td>\n",
       "      <td>NaN</td>\n",
       "      <td>3</td>\n",
       "    </tr>\n",
       "    <tr>\n",
       "      <th>3</th>\n",
       "      <td>3</td>\n",
       "      <td>2022-03-09</td>\n",
       "      <td>-0.958433</td>\n",
       "      <td>-0.159032</td>\n",
       "      <td>-1.932648</td>\n",
       "      <td>5.0</td>\n",
       "      <td>4</td>\n",
       "    </tr>\n",
       "    <tr>\n",
       "      <th>4</th>\n",
       "      <td>4</td>\n",
       "      <td>2022-03-10</td>\n",
       "      <td>-0.206521</td>\n",
       "      <td>0.508824</td>\n",
       "      <td>0.094088</td>\n",
       "      <td>5.0</td>\n",
       "      <td>5</td>\n",
       "    </tr>\n",
       "    <tr>\n",
       "      <th>5</th>\n",
       "      <td>5</td>\n",
       "      <td>2022-03-11</td>\n",
       "      <td>-0.751636</td>\n",
       "      <td>-0.548407</td>\n",
       "      <td>0.892564</td>\n",
       "      <td>5.0</td>\n",
       "      <td>6</td>\n",
       "    </tr>\n",
       "  </tbody>\n",
       "</table>\n",
       "</div>"
      ],
      "text/plain": [
       "   id        date         A         B         C    D  F\n",
       "0   0  2022-03-06  0.000000  0.000000  0.824433  5.0  1\n",
       "1   1  2022-03-07       NaN -0.846171 -0.606836  5.0  2\n",
       "2   2  2022-03-08  2.444058 -1.958974  0.472534  NaN  3\n",
       "3   3  2022-03-09 -0.958433 -0.159032 -1.932648  5.0  4\n",
       "4   4  2022-03-10 -0.206521  0.508824  0.094088  5.0  5\n",
       "5   5  2022-03-11 -0.751636 -0.548407  0.892564  5.0  6"
      ]
     },
     "execution_count": 72,
     "metadata": {},
     "output_type": "execute_result"
    }
   ],
   "source": [
    "# Read an Excel file and load the data from \"Sheet1\"\n",
    "# - \"foo.xlsx\" is the path to the Excel file.\n",
    "# - \"Sheet1\" specifies the sheet name to be read.\n",
    "# - index_col=None ensures that no column is used as the index.\n",
    "# - na_values=[\"NA\"] specifies that any \"NA\" values in the data should be treated as NaN (Not a Number).\n",
    "df = pd.read_excel(\"foo.xlsx\", \"Sheet1\", index_col=None, na_values=[\"NA\"])\n",
    "new_columns = ['id', 'date'] + df.columns[2:].tolist()\n",
    "df.columns = new_columns\n",
    "df"
   ]
  },
  {
   "cell_type": "markdown",
   "metadata": {},
   "source": [
    "## Conclusion\n",
    "\n",
    "In this module, we've learned about understanding Pandas data structures: Series and DataFrame. We also learned to create, read, and manipulate DataFrames, performed basic data analysis operations using Pandas, and handled missing data in Pandas.\n",
    "\n",
    "## Clean up\n",
    "\n",
    "Remember to shut down your Jupyter Notebook instance when you're done to avoid unnecessary charges. You can do this by stopping the notebook instance from the Amazon SageMaker console.\n"
   ]
  }
 ],
 "metadata": {
  "kernelspec": {
   "display_name": "Python 3 (ipykernel)",
   "language": "python",
   "name": "python3"
  },
  "language_info": {
   "codemirror_mode": {
    "name": "ipython",
    "version": 3
   },
   "file_extension": ".py",
   "mimetype": "text/x-python",
   "name": "python",
   "nbconvert_exporter": "python",
   "pygments_lexer": "ipython3",
   "version": "3.9.11"
  }
 },
 "nbformat": 4,
 "nbformat_minor": 4
}
