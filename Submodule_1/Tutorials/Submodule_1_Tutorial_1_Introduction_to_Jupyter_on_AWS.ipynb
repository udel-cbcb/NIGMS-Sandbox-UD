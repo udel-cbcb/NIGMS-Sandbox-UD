{
 "cells": [
  {
   "cell_type": "markdown",
   "metadata": {},
   "source": [
    "# Getting started with Jupyter Notebooks on Amazon SageMaker"
   ]
  },
  {
   "cell_type": "markdown",
   "metadata": {},
   "source": [
    "## Overview\n",
    "\n",
    "This module introduces Jupyter Notebooks on Amazon SageMaker, covering the basics of creating and using notebooks in a cloud environment.\n",
    "\n",
    "## Learning Objectives\n",
    "\n",
    "* Create and open a Jupyter Notebook on Amazon SageMaker\n",
    "* Understand the structure and types of cells in a Jupyter Notebook\n",
    "* Execute Python code and system commands in a notebook\n",
    "* Work with interactive outputs and visualizations\n",
    "* Access files from various sources, including GitHub and local file system\n",
    "* Install and manage Python libraries in the notebook environment\n",
    "\n",
    "## Prerequisites\n",
    "\n",
    "* An AWS account with access to Amazon SageMaker\n",
    "* Basic understanding of Python programming\n",
    "\n",
    "## Get Started\n",
    "\n",
    "This notebook will cover the following steps.\n",
    "\n",
    "1. Initialize a JupyterLab instance on Amazon SageMaker\n",
    "   - Using Notebook Instances\n",
    "1. Create a new notebook\n",
    "1. Explore different cell types (code and markdown)\n",
    "1. Execute Python code and interrupt long-running processes\n",
    "1. Run system commands using the `!` prefix\n",
    "1. Create interactive outputs, such as charts with matplotlib\n",
    "1. Access files from GitHub and local file system\n",
    "1. Install and manage Python libraries using pip\n"
   ]
  },
  {
   "cell_type": "markdown",
   "metadata": {},
   "source": [
    "## Initial set up"
   ]
  },
  {
   "cell_type": "markdown",
   "metadata": {},
   "source": [
    "### Initializing a JupyterLab instance\n",
    "\n",
    "There are multiple ways to start a JupyterLab instance on AWS.\n",
    "\n",
    "#### Using Notebook Instances\n",
    "\n",
    "You can set up notebook instances without starting up SageMaker Studio.\n",
    "\n",
    "1. Go to the Amazon SageMaker landing page.  \n",
    "1. There are several ways to create/open SageMaker notebook.\n",
    "1. Expand the options at the top left.\n",
    "1. Under `Applications and IDEs` click on `Notebooks`.\n",
    "1. Click the `Create notebook instance` button.\n",
    "1. You should now see a form with options for `Notebook instance settings`.  Fill in the form with the following values:\n",
    "    * `Notebook instance name` -> `test-notebook-1`\n",
    "    * ` Notebook instance type` -> `ml.t3.medium`\n",
    "    * `Platform identifier` -> `Amazon Linux 2, Jupyter Lab 4`\n",
    "    * Leave all other options alone for now.\n",
    "1. Click `Create notebook instance` at the bottom of the form.\n",
    "1. If all went well, you should see a notification banner at the top saying that your notebook instance was created successfully.\n",
    "1. In the `Notebook instances` card, click on the name of your notebook. (In this case, it would be `test-notebook-1`.)\n",
    "    * You should now see a page with information about your notebook instance.\n",
    "    * In particular, you may see a `Status Pending` message.  This will remain until the notebook environment is provisioned.\n",
    "1. Once the status indicator switches to `InService`, you can now start the notebook by clicking the `Open JupyterLab` button.\n",
    "1. After a few moments, you will see the standard JupyterLab launch page.\n"
   ]
  },
  {
   "cell_type": "markdown",
   "metadata": {},
   "source": [
    "### Creating a new notebook\n",
    "\n",
    "Once you have a running instance of JupyterLab, you can create and run notebooks using the typical JupyterLab workflow.  For example, \n",
    "\n",
    "1. You should see a `Launcher` screen.  If not, click on the blue plus button in the top right corner.\n",
    "1. Click on the `conda_python3` card to open a new Python notebook.\n",
    "1. You should now see a new notebook page called `Untitled.ipynb`.\n",
    "1. To test that everything is working as expected, in the currently selected input box, type in the following `print('Hello, World!')`.\n",
    "1. To run the code, either:\n",
    "    * Click on the small play button near the top of the notebook page.\n",
    "    * Type `ctrl-enter` on Windows or Linux, or `command-return` if you are using a Mac.\n",
    "1. You should see `Hello, World!` printed just below the input box.\n",
    "\n",
    "If all went well, you should now have a working Jupyter notebook in a JupyterLab instance running on AWS."
   ]
  },
  {
   "cell_type": "markdown",
   "metadata": {},
   "source": [
    "## Cells\n",
    "\n",
    "A notebook is a list of cells. Cells contain either explanatory text or executable code and its output. Click a cell to select it."
   ]
  },
  {
   "cell_type": "markdown",
   "metadata": {},
   "source": [
    "### Code cells\n",
    "\n",
    "Below is a **code cell**. Once the toolbar button indicates CONNECTED, click in the cell to select it and execute the contents in the following ways:\n",
    "\n",
    "* Click the **Play icon** in the left gutter of the cell;\n",
    "* Type **Cmd/Ctrl+Enter** to run the cell in place;\n",
    "* Type **Shift+Enter** (Windows) / **Shift+Return** (Mac) to run the cell and move focus to the next cell (adding one if none exists); or\n",
    "* Type **Alt+Enter** to run the cell and insert a new code cell immediately below it.\n",
    "\n",
    "There are additional options for running some or all cells in the **Runtime** menu."
   ]
  },
  {
   "cell_type": "code",
   "execution_count": 1,
   "metadata": {},
   "outputs": [
    {
     "data": {
      "text/plain": [
       "10"
      ]
     },
     "execution_count": 1,
     "metadata": {},
     "output_type": "execute_result"
    }
   ],
   "source": [
    "# Assign the value 10 to the variable 'a'\n",
    "a = 10  \n",
    "\n",
    "# Output the value of 'a'\n",
    "a  "
   ]
  },
  {
   "cell_type": "markdown",
   "metadata": {},
   "source": [
    "### Text cells\n",
    "\n",
    "This is a **text cell**. You can **double-click** to edit this cell. Text cells\n",
    "use markdown syntax. To learn more, please see [markdown\n",
    "guide](/notebooks/markdown_guide.ipynb).\n",
    "\n",
    "You can also add math to text cells using [LaTeX](http://www.latex-project.org/)\n",
    "to be rendered by [MathJax](https://www.mathjax.org). Just place the statement\n",
    "within a pair of **\\$** signs. For example `$\\sqrt{3x-1}+(1+x)^2$` becomes\n",
    "$\\sqrt{3x-1}+(1+x)^2.$"
   ]
  },
  {
   "cell_type": "markdown",
   "metadata": {},
   "source": [
    "### Adding and moving cells\n",
    "\n",
    "You can add new cells by using the **+ CODE** and **+ TEXT** buttons that show when you hover between cells. These buttons are also in the toolbar above the notebook where they can be used to add a cell below the currently selected cell.\n",
    "\n",
    "You can move a cell by selecting it and clicking **Cell Up** or **Cell Down** in the top toolbar. \n",
    "\n",
    "Consecutive cells can be selected by \"lasso selection\" by dragging from outside one cell and through the group.  Non-adjacent cells can be selected concurrently by clicking one and then holding down Ctrl while clicking another.  Similarly, using Shift instead of Ctrl will select all intermediate cells."
   ]
  },
  {
   "cell_type": "markdown",
   "metadata": {},
   "source": [
    "## Key Differences between ! and %\n",
    "\n",
    "| Feature          | `!` (Shell Command)         | `%` (Magic Command)          |\n",
    "|------------------|-----------------------------|------------------------------|\n",
    "| **Purpose**      | Runs system shell commands  | Provides Jupyter-specific enhancements |\n",
    "| **Scope**        | Single line only            | Line (`%`) or cell (`%%`) magics |\n",
    "| **Use Case**     | File operations, package management (`!ls`, `!pip`) | Code profiling (`%timeit`), extensions (`%load_ext`), debugging |\n",
    "\n",
    "### When to Use Which?\n",
    "- **`!`** → When you need to interact with the **system** (e.g., file operations, installing packages).  \n",
    "  Example:\n",
    "  `!pip install faker`  # Install numpy into system kernel\n",
    "\n",
    "- **`%`** → For **Jupyter-specific tasks** (e.g., measuring execution time, loading extensions).  \n",
    "  Example:\n",
    "  \n",
    "  `%timeit [x**2 for x in range(1000)]`\n",
    "  \n",
    "  `%pip install faker`  # Install numpy into user's current kernel\n",
    "\n",
    "- **`%%`** → When the entire **cell** should be treated as a script (e.g., `%%bash`, `%%writefile`).  \n",
    "  Example:  \n",
    "  ```python\n",
    "  %%writefile hello.txt\n",
    "  This is saved to a file!"
   ]
  },
  {
   "cell_type": "markdown",
   "metadata": {},
   "source": [
    "## Working with Python\n",
    "\n",
    "Long running python processes can be interrupted. Run the following cell and select **Kernel -> Interrupt Kernel** (*hotkey: press the `i` key twice*) to stop execution."
   ]
  },
  {
   "cell_type": "code",
   "execution_count": 2,
   "metadata": {},
   "outputs": [
    {
     "name": "stdout",
     "output_type": "stream",
     "text": [
      "Sleeping\n",
      "Done Sleeping\n"
     ]
    }
   ],
   "source": [
    "import time\n",
    "print(\"Sleeping\")\n",
    "time.sleep(10) # sleep for a while; interrupt me!\n",
    "print(\"Done Sleeping\")"
   ]
  },
  {
   "cell_type": "markdown",
   "metadata": {},
   "source": [
    "## System commands\n",
    "\n",
    "Jupyter includes shortcuts for common system commands, such as ls:"
   ]
  },
  {
   "cell_type": "code",
   "execution_count": 3,
   "metadata": {},
   "outputs": [
    {
     "name": "stdout",
     "output_type": "stream",
     "text": [
      "total 104\n",
      "-rw-rw-r-- 1 ec2-user ec2-user 21522 Apr 16 01:12 Submodule_1_Tutorial_1_Introduction_to_Jupyter_on_AWS.ipynb\n",
      "-rw-rw-r-- 1 ec2-user ec2-user 31605 Apr 16 01:01 Submodule_1_Tutorial_2_Introduction_to_NumPy.ipynb\n",
      "-rw-rw-r-- 1 ec2-user ec2-user 25245 Apr 16 00:53 Submodule_1_Tutorial_3_Introduction_to_Pandas.ipynb\n",
      "-rw-rw-r-- 1 ec2-user ec2-user 17200 Apr 16 00:53 Submodule_1_Tutorial_4_Introduction_to_Biology_with_Python.ipynb\n"
     ]
    }
   ],
   "source": [
    "# List files in the directory \"/usr/local/bin\" with detailed information\n",
    "# The \"ls -l\" command will show a detailed (long) listing, including file permissions, number of links, owner, group, size, and timestamp\n",
    "!ls -l "
   ]
  },
  {
   "cell_type": "markdown",
   "metadata": {},
   "source": [
    "That `!ls` probably generated a large output. You can select the cell and clear the output by either: \n",
    "\n",
    "1. Clicking on the clear output button (x) on the left gutter of the output area; or\n",
    "2. Right clicking the output area and selecting \"Clear output\" from the context menu."
   ]
  },
  {
   "cell_type": "markdown",
   "metadata": {},
   "source": [
    "## Interactive outputs\n",
    "\n",
    "Until now all of the generated outputs have been text, but they can be more interesting, like the chart below.\n",
    "\n",
    "_Note: This code block may take a few moments to run if it is your first time running it on a fresh AWS instance._"
   ]
  },
  {
   "cell_type": "code",
   "execution_count": 4,
   "metadata": {},
   "outputs": [
    {
     "name": "stderr",
     "output_type": "stream",
     "text": [
      "Matplotlib is building the font cache; this may take a moment.\n"
     ]
    },
    {
     "data": {
      "image/png": "[encoded data removed]",
      "text/plain": [
       "<Figure size 640x480 with 1 Axes>"
      ]
     },
     "metadata": {},
     "output_type": "display_data"
    }
   ],
   "source": [
    "# Importing necessary libraries\n",
    "import numpy as np\n",
    "from matplotlib import pyplot as plt\n",
    "\n",
    "# Generating random data for ys: 100 random values centered around 200 with standard deviation of 1\n",
    "ys = 200 + np.random.randn(100)\n",
    "\n",
    "# Creating a list for x with values from 0 to the length of ys (100 points)\n",
    "x = [x for x in range(len(ys))]\n",
    "\n",
    "# Plotting the line graph with x on the x-axis and ys on the y-axis\n",
    "# The '-' argument makes it a line plot\n",
    "plt.plot(x, ys, '-')\n",
    "\n",
    "# Filling the area between the curve (ys) and a horizontal line at y=195\n",
    "# The `where` argument specifies the condition for filling (only where ys > 195)\n",
    "# The `facecolor='g'` sets the fill color to green and `alpha=0.6` sets transparency to 60%\n",
    "plt.fill_between(x, ys, 195, where=(ys > 195), facecolor='g', alpha=0.6)\n",
    "\n",
    "# Adding a title to the plot\n",
    "plt.title(\"Fills and Alpha Example\")\n",
    "\n",
    "# Displaying the plot\n",
    "plt.show()"
   ]
  },
  {
   "cell_type": "markdown",
   "metadata": {},
   "source": [
    "### Open files from GitHub\n",
    "\n",
    "To open a file from GitHub, you can clone the repo or fetch the file directly.\n",
    "\n",
    "If you are trying to access files from a private repo, you must use a [GitHub access token](https://help.github.com/en/articles/creating-a-personal-access-token-for-the-command-line)."
   ]
  },
  {
   "cell_type": "code",
   "execution_count": 5,
   "metadata": {},
   "outputs": [
    {
     "name": "stdout",
     "output_type": "stream",
     "text": [
      "Cloning into 'cloned-repo'...\n",
      "remote: Enumerating objects: 1927, done.\u001b[K\n",
      "remote: Counting objects: 100% (58/58), done.\u001b[K\n",
      "remote: Compressing objects: 100% (52/52), done.\u001b[K\n",
      "remote: Total 1927 (delta 16), reused 6 (delta 6), pack-reused 1869 (from 2)\u001b[K\n",
      "Receiving objects: 100% (1927/1927), 44.15 MiB | 36.76 MiB/s, done.\n",
      "Resolving deltas: 100% (1226/1226), done.\n",
      "cloned-repo\n",
      "Submodule_1_Tutorial_1_Introduction_to_Jupyter_on_AWS.ipynb\n",
      "Submodule_1_Tutorial_2_Introduction_to_NumPy.ipynb\n",
      "Submodule_1_Tutorial_3_Introduction_to_Pandas.ipynb\n",
      "Submodule_1_Tutorial_4_Introduction_to_Biology_with_Python.ipynb\n"
     ]
    }
   ],
   "source": [
    "# Clone the entire repository from GitHub to the local machine\n",
    "# The URL points to the repository and 'cloned-repo' is the folder name where it will be stored locally\n",
    "!git clone https://github.com/jakevdp/PythonDataScienceHandbook.git cloned-repo\n",
    "\n",
    "# Change the working directory to the cloned repository folder\n",
    "!cd cloned-repo\n",
    "\n",
    "# List the files and directories in the cloned repository to verify the contents\n",
    "!ls"
   ]
  },
  {
   "cell_type": "code",
   "execution_count": 6,
   "metadata": {},
   "outputs": [
    {
     "name": "stdout",
     "output_type": "stream",
     "text": [
      "  % Total    % Received % Xferd  Average Speed   Time    Time     Time  Current\n",
      "                                 Dload  Upload   Total   Spent    Left  Speed\n",
      "100   141  100   141    0     0   1947      0 --:--:-- --:--:-- --:--:--  1958\n"
     ]
    }
   ],
   "source": [
    "# Fetch a single <1MB file using the raw GitHub URL.\n",
    "\n",
    "# Use `curl` to download the file from a specified URL\n",
    "# Download the file and save it with its original name\n",
    "# Set the request header to accept the raw content of the file\n",
    "# Follow redirects if the URL has been moved\n",
    "# Fetch a single <1MB file using the raw GitHub URL.\n",
    "!curl --remote-name \\\n",
    "     -H 'Accept: application/vnd.github.v3.raw' \\\n",
    "     --location https://api.github.com/repos/jakevdp/PythonDataScienceHandbook/contents/notebooks/data/california_cities.csv"
   ]
  },
  {
   "cell_type": "markdown",
   "metadata": {},
   "source": [
    "### Save your work as a file\n",
    "\n",
    "In this code block, we create a small dataset of dummy data and save it to different file formats."
   ]
  },
  {
   "cell_type": "code",
   "execution_count": 7,
   "metadata": {},
   "outputs": [
    {
     "name": "stdout",
     "output_type": "stream",
     "text": [
      "total 128\n",
      "-rw-rw-r-- 1 ec2-user ec2-user   141 Apr 16 01:13 california_cities.csv\n",
      "drwxrwxr-x 8 ec2-user ec2-user  4096 Apr 16 01:13 \u001b[0m\u001b[01;34mcloned-repo\u001b[0m/\n",
      "-rw-rw-r-- 1 ec2-user ec2-user   306 Apr 16 01:13 dummy_data.csv\n",
      "-rw-rw-r-- 1 ec2-user ec2-user  1158 Apr 16 01:13 dummy_data.pkl\n",
      "-rw-rw-r-- 1 ec2-user ec2-user  5785 Apr 16 01:13 dummy_data.xlsx\n",
      "-rw-rw-r-- 1 ec2-user ec2-user 21522 Apr 16 01:12 Submodule_1_Tutorial_1_Introduction_to_Jupyter_on_AWS.ipynb\n",
      "-rw-rw-r-- 1 ec2-user ec2-user 31605 Apr 16 01:01 Submodule_1_Tutorial_2_Introduction_to_NumPy.ipynb\n",
      "-rw-rw-r-- 1 ec2-user ec2-user 25245 Apr 16 00:53 Submodule_1_Tutorial_3_Introduction_to_Pandas.ipynb\n",
      "-rw-rw-r-- 1 ec2-user ec2-user 17200 Apr 16 00:53 Submodule_1_Tutorial_4_Introduction_to_Biology_with_Python.ipynb\n"
     ]
    }
   ],
   "source": [
    "#%pip install --upgrade numpy pandas\n",
    "\n",
    "import pandas as pd\n",
    "import numpy as np\n",
    "\n",
    "# Create dummy data\n",
    "data = {\n",
    "    'ID': np.arange(1, 11),\n",
    "    'Name': ['Alice', 'Bob', 'Charlie', 'David', 'Eve', 'Frank', 'Grace', 'Heidi', 'Ivan', 'Judy'],\n",
    "    'Age': np.random.randint(18, 60, size=10),\n",
    "    'Score': np.random.uniform(50, 100, size=10)\n",
    "}\n",
    "\n",
    "# Convert to DataFrame\n",
    "df = pd.DataFrame(data)\n",
    "\n",
    "# Display the DataFrame\n",
    "df.head()\n",
    "\n",
    "# Save to CSV\n",
    "df.to_csv('dummy_data.csv', index=False)\n",
    "\n",
    "# Optionally, save to Excel\n",
    "df.to_excel('dummy_data.xlsx', index=False)\n",
    "\n",
    "# Save as Pickle file for later use\n",
    "df.to_pickle('dummy_data.pkl')\n",
    "\n",
    "%ls -l"
   ]
  },
  {
   "cell_type": "markdown",
   "metadata": {},
   "source": [
    "### Open files from your local file system\n",
    "\n",
    "You can upload files from your local filesystem into the JupyterLab instance by clicking the `Upload Files` button, which looks like a tiny up arrow and is to the right of the `New Launcher` button (the blue plus botton)."
   ]
  },
  {
   "cell_type": "markdown",
   "metadata": {},
   "source": [
    "## Import libraries/install dependencies\n",
    "\n",
    "You need to use your usual **%pip install** and **import** commands followed by the libraries/dependencies name.\n",
    "\n",
    "A great thing about SageMaker notebook is that it comes with many preinstalled dependencies that are often used.\n",
    "\n",
    "Any installations only remain for the duration of your session, so if you close the session/notebook, you’ll have to run inline installations whenever you open your project again.\n"
   ]
  },
  {
   "cell_type": "markdown",
   "metadata": {},
   "source": [
    "The Faker package is a Python library for generating fake (but realistic) dummy data. You can check which version of a library you’re using with **%pip show**. For example, to check which version of faker you are using you would use **%pip show faker**"
   ]
  },
  {
   "cell_type": "code",
   "execution_count": 8,
   "metadata": {},
   "outputs": [
    {
     "name": "stdout",
     "output_type": "stream",
     "text": [
      "Name: Faker\n",
      "Version: 18.11.2\n",
      "Summary: Faker is a Python package that generates fake data for you.\n",
      "Home-page: https://github.com/joke2k/faker\n",
      "Author: joke2k\n",
      "Author-email: joke2k@gmail.com\n",
      "License: MIT License\n",
      "Location: /home/ec2-user/anaconda3/envs/python3/lib/python3.10/site-packages\n",
      "Requires: python-dateutil\n",
      "Required-by: \n",
      "Note: you may need to restart the kernel to use updated packages.\n"
     ]
    }
   ],
   "source": [
    "# Use the %pip magic command to show information about the installed faker package\n",
    "# (Expected output: Either package details or \"Package 'faker' not found\")\n",
    "%pip show faker"
   ]
  },
  {
   "cell_type": "code",
   "execution_count": 9,
   "metadata": {},
   "outputs": [
    {
     "name": "stdout",
     "output_type": "stream",
     "text": [
      "Requirement already satisfied: faker in /home/ec2-user/anaconda3/envs/python3/lib/python3.10/site-packages (18.11.2)\n",
      "Requirement already satisfied: python-dateutil>=2.4 in /home/ec2-user/anaconda3/envs/python3/lib/python3.10/site-packages (from faker) (2.9.0.post0)\n",
      "Requirement already satisfied: six>=1.5 in /home/ec2-user/anaconda3/envs/python3/lib/python3.10/site-packages (from python-dateutil>=2.4->faker) (1.17.0)\n",
      "Note: you may need to restart the kernel to use updated packages.\n"
     ]
    }
   ],
   "source": [
    "# Install the faker package\n",
    "%pip install faker"
   ]
  },
  {
   "cell_type": "markdown",
   "metadata": {},
   "source": [
    "\n",
    "To upgrade an already installed library to the latest version, use **%pip install --upgrade faker**"
   ]
  },
  {
   "cell_type": "code",
   "execution_count": 10,
   "metadata": {},
   "outputs": [
    {
     "name": "stdout",
     "output_type": "stream",
     "text": [
      "Requirement already satisfied: faker in /home/ec2-user/anaconda3/envs/python3/lib/python3.10/site-packages (18.11.2)\n",
      "Collecting faker\n",
      "  Using cached faker-37.1.0-py3-none-any.whl.metadata (15 kB)\n",
      "Requirement already satisfied: tzdata in /home/ec2-user/anaconda3/envs/python3/lib/python3.10/site-packages (from faker) (2025.2)\n",
      "Using cached faker-37.1.0-py3-none-any.whl (1.9 MB)\n",
      "Installing collected packages: faker\n",
      "  Attempting uninstall: faker\n",
      "    Found existing installation: Faker 18.11.2\n",
      "    Uninstalling Faker-18.11.2:\n",
      "      Successfully uninstalled Faker-18.11.2\n",
      "Successfully installed faker-37.1.0\n",
      "Note: you may need to restart the kernel to use updated packages.\n"
     ]
    }
   ],
   "source": [
    "# Install or upgrade the `faker` package using pip\n",
    "# The `--upgrade` flag ensures that if an older version of faker is already installed, it will be updated to the latest version\n",
    "%pip install --upgrade faker"
   ]
  },
  {
   "cell_type": "markdown",
   "metadata": {},
   "source": [
    "And finally to install a specific version, use **%pip install faker==18.11.2**"
   ]
  },
  {
   "cell_type": "code",
   "execution_count": 11,
   "metadata": {},
   "outputs": [
    {
     "name": "stdout",
     "output_type": "stream",
     "text": [
      "Collecting faker==18.11.2\n",
      "  Using cached Faker-18.11.2-py3-none-any.whl.metadata (15 kB)\n",
      "Requirement already satisfied: python-dateutil>=2.4 in /home/ec2-user/anaconda3/envs/python3/lib/python3.10/site-packages (from faker==18.11.2) (2.9.0.post0)\n",
      "Requirement already satisfied: six>=1.5 in /home/ec2-user/anaconda3/envs/python3/lib/python3.10/site-packages (from python-dateutil>=2.4->faker==18.11.2) (1.17.0)\n",
      "Using cached Faker-18.11.2-py3-none-any.whl (1.7 MB)\n",
      "Installing collected packages: faker\n",
      "  Attempting uninstall: faker\n",
      "    Found existing installation: Faker 37.1.0\n",
      "    Uninstalling Faker-37.1.0:\n",
      "      Successfully uninstalled Faker-37.1.0\n",
      "Successfully installed faker-18.11.2\n",
      "Note: you may need to restart the kernel to use updated packages.\n"
     ]
    }
   ],
   "source": [
    "# Install a specific version of the faker library using pip\n",
    "# In this case, version 18.11.2 of faker will be installed\n",
    "%pip install faker==18.11.2"
   ]
  },
  {
   "cell_type": "markdown",
   "metadata": {},
   "source": [
    "## Conclusion\n",
    "\n",
    "In this module, you've learned how to create and use Jupyter Notebooks on Amazon SageMaker. You've explored various features including code execution, markdown cells, system commands, file access, and library management. These skills provide a foundation for data analysis and machine learning projects in a cloud environment.\n",
    "\n",
    "## Clean up\n",
    "\n",
    "Remember to shut down your Jupyter Notebook instance when you're done to avoid unnecessary charges. You can do this by stopping the notebook instance from the Amazon SageMaker console."
   ]
  }
 ],
 "metadata": {
  "kernelspec": {
   "display_name": "conda_python3",
   "language": "python",
   "name": "conda_python3"
  },
  "language_info": {
   "codemirror_mode": {
    "name": "ipython",
    "version": 3
   },
   "file_extension": ".py",
   "mimetype": "text/x-python",
   "name": "python",
   "nbconvert_exporter": "python",
   "pygments_lexer": "ipython3",
   "version": "3.10.16"
  }
 },
 "nbformat": 4,
 "nbformat_minor": 4
}
