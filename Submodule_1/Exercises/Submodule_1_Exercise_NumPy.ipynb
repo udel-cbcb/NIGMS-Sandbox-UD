{
 "cells": [
  {
   "cell_type": "markdown",
   "metadata": {},
   "source": [
    "# NumPy Exercises\n",
    "\n",
    "## Overview\n",
    "\n",
    "This notebook covers NumPy arrays, focusing on array attributes, creation, indexing, and other operations.\n",
    "\n",
    "## Learning Objectives\n",
    "\n",
    "- Understand NumPy ndarray attributes\n",
    "- Create arrays using various NumPy functions\n",
    "- Access array elements through basic indexing and slicing\n",
    "- Perform advanced indexing on NumPy arrays\n",
    "- Execute operations on NumPy arrays\n",
    "\n",
    "## Prerequisites\n",
    "\n",
    "- Basic understanding of Python\n",
    "- NumPy library installed"
   ]
  },
  {
   "cell_type": "markdown",
   "metadata": {},
   "source": [
    "## Get Started\n",
    "\n",
    "To begin working with this notebook, import the NumPy library, and create an example array to work with in subsequent exercises."
   ]
  },
  {
   "cell_type": "code",
   "execution_count": null,
   "metadata": {},
   "outputs": [],
   "source": [
    "# Import the numpy library for numerical operations\n",
    "import numpy as np\n",
    "\n",
    "# Create a numpy array containing the values 1 through 6\n",
    "arr = np.array([1, 2, 3, 4, 5, 6])\n",
    "\n",
    "# Display the numpy array\n",
    "arr"
   ]
  },
  {
   "cell_type": "markdown",
   "metadata": {},
   "source": [
    "Then, run through the exercises in each section."
   ]
  },
  {
   "cell_type": "markdown",
   "metadata": {},
   "source": [
    "## NumPy ndarray attributes"
   ]
  },
  {
   "cell_type": "markdown",
   "metadata": {},
   "source": [
    "What is the shape of the array **arr**?"
   ]
  },
  {
   "cell_type": "code",
   "execution_count": null,
   "metadata": {},
   "outputs": [],
   "source": [
    "# Your code goes here"
   ]
  },
  {
   "cell_type": "markdown",
   "metadata": {},
   "source": [
    "What is the type of elements in the array **arr**?"
   ]
  },
  {
   "cell_type": "code",
   "execution_count": null,
   "metadata": {},
   "outputs": [],
   "source": [
    "# Your code goes here"
   ]
  },
  {
   "cell_type": "markdown",
   "metadata": {},
   "source": [
    "## Creating arrays\n",
    "\n",
    "Create a 3 by 3 matrix of integers"
   ]
  },
  {
   "cell_type": "code",
   "execution_count": null,
   "metadata": {},
   "outputs": [],
   "source": [
    "# Your code goes here"
   ]
  },
  {
   "cell_type": "markdown",
   "metadata": {},
   "source": [
    "Create a 2 by 4 matrix containing only zeros"
   ]
  },
  {
   "cell_type": "code",
   "execution_count": null,
   "metadata": {},
   "outputs": [],
   "source": [
    "# Your code goes here"
   ]
  },
  {
   "cell_type": "markdown",
   "metadata": {},
   "source": [
    "Create a 2 by 4 matrix containing only ones"
   ]
  },
  {
   "cell_type": "code",
   "execution_count": null,
   "metadata": {},
   "outputs": [],
   "source": [
    "# Your code goes here"
   ]
  },
  {
   "cell_type": "markdown",
   "metadata": {},
   "source": [
    "Create a 3 by 3 identity matrix"
   ]
  },
  {
   "cell_type": "code",
   "execution_count": null,
   "metadata": {},
   "outputs": [],
   "source": [
    "# Your code goes here"
   ]
  },
  {
   "cell_type": "markdown",
   "metadata": {},
   "source": [
    "Create a 3 by 4 matrix of random numbers"
   ]
  },
  {
   "cell_type": "code",
   "execution_count": null,
   "metadata": {},
   "outputs": [],
   "source": [
    "# Your code goes here"
   ]
  },
  {
   "cell_type": "markdown",
   "metadata": {},
   "source": [
    "## Accessing array elements"
   ]
  },
  {
   "cell_type": "markdown",
   "metadata": {},
   "source": [
    "### Basic indexing and slicing"
   ]
  },
  {
   "cell_type": "code",
   "execution_count": null,
   "metadata": {},
   "outputs": [],
   "source": [
    "# Create a 1D array of integers from 0 to 11, then reshape it into a 3D array\n",
    "# with dimensions 2×2×3 (2 layers, each with 2 rows and 3 columns)\n",
    "arr = np.arange(12).reshape(2, 2, 3)\n",
    "\n",
    "# Display the array\n",
    "# Will output:\n",
    "# array([[[ 0,  1,  2],    # Layer 0, Row 0\n",
    "#         [ 3,  4,  5]],   # Layer 0, Row 1\n",
    "#        [[ 6,  7,  8],    # Layer 1, Row 0\n",
    "#         [ 9, 10, 11]]])  # Layer 1, Row 1\n",
    "arr"
   ]
  },
  {
   "cell_type": "markdown",
   "metadata": {},
   "source": [
    "What is the first slice of the array **arr**?"
   ]
  },
  {
   "cell_type": "code",
   "execution_count": null,
   "metadata": {},
   "outputs": [],
   "source": [
    "# Your code goes here"
   ]
  },
  {
   "cell_type": "code",
   "execution_count": null,
   "metadata": {},
   "outputs": [],
   "source": [
    "# Create a 1D array containing integers from 0 to 9 (10 elements total)\n",
    "# np.arange(10) generates a sequence starting at 0, stopping before 10\n",
    "arr = np.arange(10)\n",
    "\n",
    "# Display the array\n",
    "# Will output:\n",
    "# array([0, 1, 2, 3, 4, 5, 6, 7, 8, 9])\n",
    "arr"
   ]
  },
  {
   "cell_type": "markdown",
   "metadata": {},
   "source": [
    "What are the first five elements of the array **arr**?"
   ]
  },
  {
   "cell_type": "code",
   "execution_count": null,
   "metadata": {},
   "outputs": [],
   "source": [
    "# Your code goes here"
   ]
  },
  {
   "cell_type": "markdown",
   "metadata": {},
   "source": [
    "What are the last five elements of the array **arr**?"
   ]
  },
  {
   "cell_type": "code",
   "execution_count": null,
   "metadata": {},
   "outputs": [],
   "source": [
    "# Your code goes here"
   ]
  },
  {
   "cell_type": "markdown",
   "metadata": {},
   "source": [
    "What are the 3rd through 6th elements of the array **arr**?"
   ]
  },
  {
   "cell_type": "code",
   "execution_count": null,
   "metadata": {},
   "outputs": [],
   "source": [
    "# Your code goes here"
   ]
  },
  {
   "cell_type": "code",
   "execution_count": null,
   "metadata": {},
   "outputs": [],
   "source": [
    "# Create a 1D array of integers from 0 to 26, then reshape it into a 3×3×3 3D array\n",
    "# (3 layers, each with 3 rows and 3 columns, making a 3D cube of 27 elements)\n",
    "arr = np.arange(27).reshape(3, 3, 3)\n",
    "\n",
    "# Display the array\n",
    "# Will output:\n",
    "# array([[[ 0,  1,  2],    # Layer 0, Row 0\n",
    "#         [ 3,  4,  5],    # Layer 0, Row 1\n",
    "#         [ 6,  7,  8]],   # Layer 0, Row 2\n",
    "#        [[ 9, 10, 11],    # Layer 1, Row 0\n",
    "#         [12, 13, 14],    # Layer 1, Row 1\n",
    "#         [15, 16, 17]],   # Layer 1, Row 2\n",
    "#        [[18, 19, 20],    # Layer 2, Row 0\n",
    "#         [21, 22, 23],    # Layer 2, Row 1\n",
    "#         [24, 25, 26]]])  # Layer 2, Row 2\n",
    "arr"
   ]
  },
  {
   "cell_type": "markdown",
   "metadata": {},
   "source": [
    "How do you access the third column of the array **arr**?"
   ]
  },
  {
   "cell_type": "code",
   "execution_count": null,
   "metadata": {},
   "outputs": [],
   "source": [
    "# Your code goes here"
   ]
  },
  {
   "cell_type": "markdown",
   "metadata": {},
   "source": [
    "### Advanced indexing"
   ]
  },
  {
   "cell_type": "code",
   "execution_count": null,
   "metadata": {},
   "outputs": [],
   "source": [
    "# Create a 1D array with values from 0 to 8\n",
    "arr = np.arange(9)  \n",
    "\n",
    "# Reshape the 1D array into a 3x3 matrix\n",
    "arr = arr.reshape(3, 3)  \n",
    "\n",
    "# Display the resulting 3x3 array\n",
    "arr  "
   ]
  },
  {
   "cell_type": "markdown",
   "metadata": {},
   "source": [
    "How do you get a new array consists of the element in the first row, second column, and second row, first column?"
   ]
  },
  {
   "cell_type": "code",
   "execution_count": null,
   "metadata": {},
   "outputs": [],
   "source": [
    "# Your code goes here"
   ]
  },
  {
   "cell_type": "code",
   "execution_count": null,
   "metadata": {},
   "outputs": [],
   "source": [
    "# Create a NumPy array containing the names of three cities\n",
    "cities = np.array([\"Newark\", \"Wilmington\", \"Dover\"])\n",
    "\n",
    "# Generate a 3x4 array of random numbers sampled from a standard normal distribution (mean=0, std=1)\n",
    "# This array represents some data associated with the cities (e.g., measurements, statistics, etc.)\n",
    "city_data = np.random.randn(3, 4)\n",
    "\n",
    "# Display the generated city data\n",
    "city_data"
   ]
  },
  {
   "cell_type": "markdown",
   "metadata": {},
   "source": [
    "How do you access city_data for Wilmington?"
   ]
  },
  {
   "cell_type": "code",
   "execution_count": null,
   "metadata": {},
   "outputs": [],
   "source": [
    "# Your code goes here"
   ]
  },
  {
   "cell_type": "markdown",
   "metadata": {},
   "source": [
    "How do you access positive elements in city_data?"
   ]
  },
  {
   "cell_type": "code",
   "execution_count": null,
   "metadata": {},
   "outputs": [],
   "source": [
    "# Your code goes here"
   ]
  },
  {
   "cell_type": "markdown",
   "metadata": {},
   "source": [
    "How do you replace negative elements in city_data with 0?"
   ]
  },
  {
   "cell_type": "code",
   "execution_count": null,
   "metadata": {},
   "outputs": [],
   "source": [
    "# Replace all elements in `city_data` that are less than 0 with 0\n",
    "# `city_data < 0` creates a boolean array of the same shape as `city_data`, where each element is:\n",
    "# - True if the corresponding element in `city_data` is less than 0\n",
    "# - False otherwise\n",
    "# The boolean array is used to index `city_data`, and all elements satisfying the condition are set to 0\n",
    "city_data[city_data < 0] = 0\n",
    "\n",
    "# Display the modified `city_data` array\n",
    "city_data"
   ]
  },
  {
   "cell_type": "markdown",
   "metadata": {},
   "source": [
    "## Operations on arrays"
   ]
  },
  {
   "cell_type": "code",
   "execution_count": null,
   "metadata": {},
   "outputs": [],
   "source": [
    "# Create a 1D array with values ranging from 0 to 14 (15 elements)\n",
    "arr = np.arange(15)\n",
    "\n",
    "# Reshape the 1D array into a 2D array with 3 rows and 5 columns\n",
    "arr = arr.reshape(3, 5)\n",
    "\n",
    "# Display the reshaped array\n",
    "arr"
   ]
  },
  {
   "cell_type": "markdown",
   "metadata": {},
   "source": [
    "How do you double all the elements in the array **arr**?"
   ]
  },
  {
   "cell_type": "code",
   "execution_count": null,
   "metadata": {},
   "outputs": [],
   "source": [
    "# Multiply every element in the array `arr` by 2\n",
    "# This operation is performed element-wise, meaning each value in the array is multiplied by 2\n",
    "arr * 2"
   ]
  },
  {
   "cell_type": "code",
   "execution_count": null,
   "metadata": {},
   "outputs": [],
   "source": [
    "# Create a 3x3 NumPy array `A` with the following values:\n",
    "# [[1, 2, 3],\n",
    "#  [4, 5, 6],\n",
    "#  [7, 8, 9]]\n",
    "A = np.array([[1, 2, 3], [4, 5, 6], [7, 8, 9]])\n",
    "\n",
    "# Create another 3x3 NumPy array `B` with the following values:\n",
    "# [[9, 8, 7],\n",
    "#  [6, 5, 4],\n",
    "#  [3, 2, 1]]\n",
    "B = np.array([[9, 8, 7], [6, 5, 4], [3, 2, 1]])"
   ]
  },
  {
   "cell_type": "markdown",
   "metadata": {},
   "source": [
    "What are the dot product of matrix **A** and **B**?"
   ]
  },
  {
   "cell_type": "code",
   "execution_count": null,
   "metadata": {},
   "outputs": [],
   "source": [
    "# Your code goes here"
   ]
  },
  {
   "cell_type": "code",
   "execution_count": null,
   "metadata": {},
   "outputs": [],
   "source": [
    "# Create a 1D array with values ranging from 0 to 14 (15 elements)\n",
    "A = np.arange(15)\n",
    "\n",
    "# Reshape the 1D array into a 2D array with 3 rows and 5 columns\n",
    "A = A.reshape(3, 5)\n",
    "\n",
    "# Display the reshaped array\n",
    "A"
   ]
  },
  {
   "cell_type": "markdown",
   "metadata": {},
   "source": [
    "How do you get the transpose of the matrix **A**?"
   ]
  },
  {
   "cell_type": "code",
   "execution_count": null,
   "metadata": {},
   "outputs": [],
   "source": [
    "# Compute the transpose of the array `A`\n",
    "# The transpose of a matrix swaps its rows and columns\n",
    "A_transpose = A.T\n",
    "\n",
    "# Display the transposed array\n",
    "A_transpose"
   ]
  },
  {
   "cell_type": "markdown",
   "metadata": {},
   "source": [
    "How do you calculate the Singular Value Decomposition of matrix **A**? (Hint: *linalg.svd*)"
   ]
  },
  {
   "cell_type": "code",
   "execution_count": null,
   "metadata": {},
   "outputs": [],
   "source": [
    "# Your code goes here"
   ]
  },
  {
   "cell_type": "markdown",
   "metadata": {},
   "source": [
    "## Conclusion\n",
    "\n",
    "In this exercise, you've learned how to:\n",
    "\n",
    "- Examine NumPy array attributes like shape and data type\n",
    "- Create arrays using functions such as `np.array()`, `np.zeros()`, `np.ones()`, `np.identity()`, and `np.random.randn()`\n",
    "- Access array elements using basic indexing, slicing, and advanced indexing techniques\n",
    "- Perform operations on arrays, including element-wise operations, matrix multiplication, and linear algebra operations like Singular Value Decomposition\n",
    "- These skills form the foundation for more advanced data manipulation and analysis using NumPy.\n",
    "\n",
    "## Clean up\n",
    "\n",
    "Remember to shut down your Jupyter notebook when you're finished to free up resources."
   ]
  }
 ],
 "metadata": {},
 "nbformat": 4,
 "nbformat_minor": 4
}
