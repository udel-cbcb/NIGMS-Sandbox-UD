{
 "cells": [
  {
   "cell_type": "markdown",
   "metadata": {},
   "source": [
    "# Pandas Exercises (Solution)\n",
    "\n",
    "## Overview\n",
    "\n",
    "This module covers essential Pandas operations, including data manipulation, analysis, and basic statistical functions. It provides hands-on experience with real-world data using the Pandas library.\n",
    "\n",
    "## Learning Objectives\n",
    "\n",
    "- Convert list of dictionaries and CSV files to DataFrames\n",
    "- Perform data access operations using Pandas\n",
    "- Handle missing data with `fillna` function\n",
    "- Apply descriptive statistics functions to analyze data\n",
    "- Utilize Pandas for data slicing and dicing\n",
    "\n",
    "## Prerequisites\n",
    "\n",
    "- Basic understanding of Python\n",
    "- Familiarity with Jupyter notebooks\n",
    "- Installed libraries: numpy, pandas"
   ]
  },
  {
   "cell_type": "markdown",
   "metadata": {},
   "source": [
    "## Get Started"
   ]
  },
  {
   "cell_type": "markdown",
   "metadata": {},
   "source": [
    "### Import necessary libraries"
   ]
  },
  {
   "cell_type": "code",
   "execution_count": null,
   "metadata": {},
   "outputs": [],
   "source": [
    "# Importing the numpy library, which provides support for large, multi-dimensional arrays and matrices\n",
    "# It also provides mathematical functions to operate on these arrays\n",
    "import numpy as np\n",
    "\n",
    "# Importing the pandas library, which is a powerful, flexible, and easy-to-use data manipulation and analysis tool\n",
    "# It provides data structures such as DataFrame and Series to handle and analyze structured data\n",
    "import pandas as pd"
   ]
  },
  {
   "cell_type": "markdown",
   "metadata": {},
   "source": [
    "## Convert list of dictionaries to DataFrame"
   ]
  },
  {
   "cell_type": "code",
   "execution_count": null,
   "metadata": {},
   "outputs": [],
   "source": [
    "# List of dictionaries containing city names and associated data values\n",
    "d = [\n",
    "    # First city: Delhi with associated data value 1000\n",
    "    {\"city\": \"Delhi\", \"data\": 1000},\n",
    "    \n",
    "    # Second city: Bangalore with associated data value 2000\n",
    "    {\"city\": \"Bangalore\", \"data\": 2000},\n",
    "    \n",
    "    # Third city: Mumbai with associated data value 1000\n",
    "    {\"city\": \"Mumbai\", \"data\": 1000},\n",
    "]\n",
    "\n",
    "# Output the list of dictionaries\n",
    "d"
   ]
  },
  {
   "cell_type": "markdown",
   "metadata": {},
   "source": [
    "Convert the list of dictionaries `d` into a DataFrame."
   ]
  },
  {
   "cell_type": "code",
   "execution_count": null,
   "metadata": {},
   "outputs": [],
   "source": [
    "# Create a pandas DataFrame from the dictionary 'd'\n",
    "df = pd.DataFrame(d)\n",
    "\n",
    "# Display the DataFrame\n",
    "df"
   ]
  },
  {
   "cell_type": "markdown",
   "metadata": {},
   "source": [
    "## Convert CSV files to DataFrame"
   ]
  },
  {
   "cell_type": "markdown",
   "metadata": {},
   "source": [
    "Read in csv file and convert it to DataFrame."
   ]
  },
  {
   "cell_type": "code",
   "execution_count": null,
   "metadata": {},
   "outputs": [],
   "source": [
    "# Read the CSV file containing city data into a pandas DataFrame\n",
    "# The path to the CSV file is provided as relative from the current working directory\n",
    "city_data = pd.read_csv(\"../../Data/simplemaps-worldcities-basic.csv\")"
   ]
  },
  {
   "cell_type": "markdown",
   "metadata": {},
   "source": [
    "Show the first 10 rows of converted DataFrame."
   ]
  },
  {
   "cell_type": "code",
   "execution_count": null,
   "metadata": {},
   "outputs": [],
   "source": [
    "# Display the first 10 rows of the 'city_data' DataFrame\n",
    "city_data.head(n=10)"
   ]
  },
  {
   "cell_type": "markdown",
   "metadata": {},
   "source": [
    "## Data Access\n",
    "\n",
    "### Head and Tail\n",
    "\n",
    "Get the last 10 rows of `city_data`:"
   ]
  },
  {
   "cell_type": "code",
   "execution_count": null,
   "metadata": {},
   "outputs": [],
   "source": [
    "# The .tail(10) method retrieves the last 10 rows of the DataFrame\n",
    "# This is useful for quickly inspecting the end of the dataset\n",
    "city_data.tail(10)"
   ]
  },
  {
   "cell_type": "markdown",
   "metadata": {},
   "source": [
    "### Slicing and Dicing"
   ]
  },
  {
   "cell_type": "code",
   "execution_count": null,
   "metadata": {},
   "outputs": [],
   "source": [
    "# Extract the 'lat' column from the DataFrame as a Pandas Series\n",
    "# This creates a one-dimensional labeled array with the latitude values\n",
    "series_es = city_data.lat\n",
    "\n",
    "# Use the type() function to determine the data type of 'series_es'\n",
    "# This will return <class 'pandas.core.series.Series'>, confirming it's a Pandas Series\n",
    "type(series_es)"
   ]
  },
  {
   "cell_type": "markdown",
   "metadata": {},
   "source": [
    "Get the first 5 odd number of rows of `series_es`:"
   ]
  },
  {
   "cell_type": "code",
   "execution_count": null,
   "metadata": {},
   "outputs": [],
   "source": [
    "# Slice the `series_es` object to extract elements from index 1 to 10 (exclusive) with a step of 2\n",
    "# This means selecting every second element starting from index 1 up to (but not including) index 10\n",
    "series_es[1:10:2]"
   ]
  },
  {
   "cell_type": "markdown",
   "metadata": {},
   "source": [
    "Get the first 8 rows of `series_es` using Python list slicing:"
   ]
  },
  {
   "cell_type": "code",
   "execution_count": null,
   "metadata": {},
   "outputs": [],
   "source": [
    "# Slice the `series_es` object to extract elements from the beginning up to index 8 (exclusive)\n",
    "# This selects all elements from index 0 to index 7\n",
    "series_es[:8]"
   ]
  },
  {
   "cell_type": "markdown",
   "metadata": {},
   "source": [
    "Get first 8 rows of `city_data` using Python list slicing:"
   ]
  },
  {
   "cell_type": "code",
   "execution_count": null,
   "metadata": {},
   "outputs": [],
   "source": [
    "# Slice the `city_data` array to extract the first 8 rows\n",
    "# This selects all rows from index 0 to index 7 (inclusive)\n",
    "city_data[:8]"
   ]
  },
  {
   "cell_type": "markdown",
   "metadata": {},
   "source": [
    "Get the first 4 columns of the first 5 rows of **city_data**:"
   ]
  },
  {
   "cell_type": "code",
   "execution_count": null,
   "metadata": {},
   "outputs": [],
   "source": [
    "# Use `.iloc` to slice the `city_data` DataFrame\n",
    "# `.iloc` is used for integer-location based indexing\n",
    "# `:5` selects the first 5 rows (indices 0 to 4)\n",
    "# `:4` selects the first 4 columns (indices 0 to 3)\n",
    "city_data.iloc[:5, :4]"
   ]
  },
  {
   "cell_type": "markdown",
   "metadata": {},
   "source": [
    "Select cities that have population of more than 10 million and select columns with column name start with the letter `p`:"
   ]
  },
  {
   "cell_type": "code",
   "execution_count": null,
   "metadata": {},
   "outputs": [],
   "source": [
    "# Filter the city_data dataframe to include cities with a population greater than 10 million\n",
    "# The condition city_data[\"pop\"] > 10000000 selects rows where the population exceeds 10 million\n",
    "# Then, select only the columns whose names start with \"p\"\n",
    "# This is achieved using the str.startswith(\"p\") function on the column names\n",
    "city_data[city_data[\"pop\"] > 10000000][\n",
    "    city_data.columns[pd.Series(city_data.columns).str.startswith(\"p\")]\n",
    "]"
   ]
  },
  {
   "cell_type": "markdown",
   "metadata": {},
   "source": [
    "## Data Operations\n",
    "\n",
    "### Missing data and the `fillna` function"
   ]
  },
  {
   "cell_type": "code",
   "execution_count": null,
   "metadata": {},
   "outputs": [],
   "source": [
    "# Create a DataFrame with 8 rows and 3 columns, filled with random numbers from a normal distribution\n",
    "df = pd.DataFrame(np.random.randn(8, 3), columns=[\"A\", \"B\", \"C\"])\n",
    "\n",
    "# Set a specific value (at row 4, column 'C') to NaN (missing value)\n",
    "df.iloc[4, 2] = np.nan\n",
    "\n",
    "# Display the DataFrame\n",
    "df"
   ]
  },
  {
   "cell_type": "markdown",
   "metadata": {},
   "source": [
    "Replace all the \"NaN\" in `df` with `0`:"
   ]
  },
  {
   "cell_type": "code",
   "execution_count": null,
   "metadata": {},
   "outputs": [],
   "source": [
    "# Replace all missing values (NaN) in the DataFrame `df` with 0\n",
    "# `fillna(0)` fills NaN values with the specified value (in this case, 0)\n",
    "df_filled = df.fillna(0)\n",
    "\n",
    "# Display the DataFrame with missing values replaced\n",
    "df_filled"
   ]
  },
  {
   "cell_type": "markdown",
   "metadata": {},
   "source": [
    "## Descriptive Statistics functions"
   ]
  },
  {
   "cell_type": "code",
   "execution_count": null,
   "metadata": {},
   "outputs": [],
   "source": [
    "# Define a list of column names that contain numeric data\n",
    "# This list can be used to select or manipulate specific columns in a DataFrame\n",
    "columns_numeric = [\"lat\", \"lng\", \"pop\"]"
   ]
  },
  {
   "cell_type": "markdown",
   "metadata": {},
   "source": [
    "Get average `lat`, `lng`, and `pop` values of `city_data`:"
   ]
  },
  {
   "cell_type": "code",
   "execution_count": null,
   "metadata": {},
   "outputs": [],
   "source": [
    "# Calculate the mean (average) of the numeric columns in `city_data` specified by `columns_numeric`\n",
    "# `columns_numeric` is a list of column names containing numeric data (e.g., [\"lat\", \"lng\", \"pop\"])\n",
    "# The `.mean()` function computes the mean for each column\n",
    "mean_values = city_data[columns_numeric].mean()\n",
    "\n",
    "# Display the mean values for the specified columns\n",
    "mean_values"
   ]
  },
  {
   "cell_type": "markdown",
   "metadata": {},
   "source": [
    "Get sum of `lat`, `lng`, and `pop` values of `city_data`:"
   ]
  },
  {
   "cell_type": "code",
   "execution_count": null,
   "metadata": {},
   "outputs": [],
   "source": [
    "# Calculate the sum of the numeric columns in `city_data` specified by `columns_numeric`\n",
    "# `columns_numeric` is a list of column names containing numeric data (e.g., [\"lat\", \"lng\", \"pop\"])\n",
    "# The `.sum()` function computes the sum for each column\n",
    "sum_values = city_data[columns_numeric].sum()\n",
    "\n",
    "# Display the sum values for the specified columns\n",
    "sum_values"
   ]
  },
  {
   "cell_type": "markdown",
   "metadata": {},
   "source": [
    "Get total number of `lat`, `lng`, and `pop` values of `city_data`:"
   ]
  },
  {
   "cell_type": "code",
   "execution_count": null,
   "metadata": {},
   "outputs": [],
   "source": [
    "# Count the number of non-missing (non-NaN) values in the numeric columns of `city_data` specified by `columns_numeric`\n",
    "# `columns_numeric` is a list of column names containing numeric data (e.g., [\"lat\", \"lng\", \"pop\"])\n",
    "# The `.count()` function counts the number of non-missing values for each column\n",
    "count_values = city_data[columns_numeric].count()\n",
    "\n",
    "# Display the count of non-missing values for the specified columns\n",
    "count_values"
   ]
  },
  {
   "cell_type": "markdown",
   "metadata": {},
   "source": [
    "Get 75 percentile of `lat`, `lng`, and `pop` values of `city_data`:"
   ]
  },
  {
   "cell_type": "code",
   "execution_count": null,
   "metadata": {},
   "outputs": [],
   "source": [
    "# Calculate the 75th percentile (third quartile) for the numeric columns in `city_data` specified by `columns_numeric`\n",
    "# `columns_numeric` is a list of column names containing numeric data (e.g., [\"lat\", \"lng\", \"pop\"])\n",
    "# The `.quantile(0.75)` function computes the 75th percentile for each column\n",
    "quantile_values = city_data[columns_numeric].quantile(0.75)\n",
    "\n",
    "# Display the 75th percentile values for the specified columns\n",
    "quantile_values"
   ]
  },
  {
   "cell_type": "markdown",
   "metadata": {},
   "source": [
    "Get sums of each row of `city_data`:"
   ]
  },
  {
   "cell_type": "code",
   "execution_count": null,
   "metadata": {},
   "outputs": [],
   "source": [
    "# Calculate the sum of numeric columns in `city_data` specified by `columns_numeric` row-wise (across columns)\n",
    "# `columns_numeric` is a list of column names containing numeric data (e.g., [\"lat\", \"lng\", \"pop\"])\n",
    "# The `.sum(axis=1)` function computes the sum for each row (axis=1 refers to columns)\n",
    "row_sums = city_data[columns_numeric].sum(axis=1)\n",
    "\n",
    "# Display the sum of numeric values for each row\n",
    "row_sums"
   ]
  },
  {
   "cell_type": "markdown",
   "metadata": {},
   "source": [
    "Calculate\n",
    "the most important statistics for numerical data in `city_data` in one go so that we don’t have to use individual functions:"
   ]
  },
  {
   "cell_type": "code",
   "execution_count": null,
   "metadata": {},
   "outputs": [],
   "source": [
    "# Generate descriptive statistics for the numeric columns in `city_data` specified by `columns_numeric`\n",
    "# `columns_numeric` is a list of column names containing numeric data (e.g., [\"lat\", \"lng\", \"pop\"])\n",
    "# The `.describe()` function computes summary statistics for each column\n",
    "summary_statistics = city_data[columns_numeric].describe()\n",
    "\n",
    "# Display the summary statistics for the specified columns\n",
    "summary_statistics"
   ]
  },
  {
   "cell_type": "markdown",
   "metadata": {},
   "source": [
    "## Conclusion\n",
    "\n",
    "In this module, you've learned how to:\n",
    "\n",
    "- Convert different data formats to Pandas DataFrames\n",
    "- Access and manipulate data using Pandas\n",
    "- Handle missing data\n",
    "- Perform basic statistical analysis on datasets\n",
    "- Use various Pandas functions for data exploration and manipulation\n",
    "\n",
    "These skills form a foundation for more advanced data analysis and machine learning tasks using Python and Pandas.\n",
    "\n",
    "## Clean up\n",
    "\n",
    "Remember to shut down your Jupyter notebook kernel when you're done to free up resources."
   ]
  }
 ],
 "metadata": {},
 "nbformat": 4,
 "nbformat_minor": 4
}
