{
 "cells": [
  {
   "cell_type": "markdown",
   "metadata": {},
   "source": [
    "# Pandas Exercises (Solution)\n",
    "\n",
    "## Overview\n",
    "\n",
    "This module covers essential Pandas operations, including data manipulation, analysis, and basic statistical functions. It provides hands-on experience with real-world data using the Pandas library.\n",
    "\n",
    "## Learning Objectives\n",
    "\n",
    "- Convert list of dictionaries and CSV files to DataFrames\n",
    "- Perform data access operations using Pandas\n",
    "- Handle missing data with `fillna` function\n",
    "- Apply descriptive statistics functions to analyze data\n",
    "- Utilize Pandas for data slicing and dicing\n",
    "\n",
    "## Prerequisites\n",
    "\n",
    "- Basic understanding of Python\n",
    "- Familiarity with Jupyter notebooks\n",
    "- Installed libraries: numpy, pandas"
   ]
  },
  {
   "cell_type": "markdown",
   "metadata": {},
   "source": [
    "## Get Started"
   ]
  },
  {
   "cell_type": "markdown",
   "metadata": {},
   "source": [
    "### Import necessary libraries"
   ]
  },
  {
   "cell_type": "code",
   "execution_count": 1,
   "metadata": {},
   "outputs": [],
   "source": [
    "# Importing the numpy library, which provides support for large, multi-dimensional arrays and matrices\n",
    "# It also provides mathematical functions to operate on these arrays\n",
    "import numpy as np\n",
    "\n",
    "# Importing the pandas library, which is a powerful, flexible, and easy-to-use data manipulation and analysis tool\n",
    "# It provides data structures such as DataFrame and Series to handle and analyze structured data\n",
    "import pandas as pd"
   ]
  },
  {
   "cell_type": "markdown",
   "metadata": {},
   "source": [
    "## Convert list of dictionaries to DataFrame"
   ]
  },
  {
   "cell_type": "code",
   "execution_count": 2,
   "metadata": {},
   "outputs": [
    {
     "data": {
      "text/plain": [
       "[{'city': 'Delhi', 'data': 1000},\n",
       " {'city': 'Bangalore', 'data': 2000},\n",
       " {'city': 'Mumbai', 'data': 1000}]"
      ]
     },
     "execution_count": 2,
     "metadata": {},
     "output_type": "execute_result"
    }
   ],
   "source": [
    "# List of dictionaries containing city names and associated data values\n",
    "d = [\n",
    "    # First city: Delhi with associated data value 1000\n",
    "    {\"city\": \"Delhi\", \"data\": 1000},\n",
    "    \n",
    "    # Second city: Bangalore with associated data value 2000\n",
    "    {\"city\": \"Bangalore\", \"data\": 2000},\n",
    "    \n",
    "    # Third city: Mumbai with associated data value 1000\n",
    "    {\"city\": \"Mumbai\", \"data\": 1000},\n",
    "]\n",
    "\n",
    "# Output the list of dictionaries\n",
    "d"
   ]
  },
  {
   "cell_type": "markdown",
   "metadata": {},
   "source": [
    "Convert the list of dictionaries `d` into a DataFrame."
   ]
  },
  {
   "cell_type": "code",
   "execution_count": 3,
   "metadata": {},
   "outputs": [
    {
     "data": {
      "text/html": [
       "<div>\n",
       "<style scoped>\n",
       "    .dataframe tbody tr th:only-of-type {\n",
       "        vertical-align: middle;\n",
       "    }\n",
       "\n",
       "    .dataframe tbody tr th {\n",
       "        vertical-align: top;\n",
       "    }\n",
       "\n",
       "    .dataframe thead th {\n",
       "        text-align: right;\n",
       "    }\n",
       "</style>\n",
       "<table border=\"1\" class=\"dataframe\">\n",
       "  <thead>\n",
       "    <tr style=\"text-align: right;\">\n",
       "      <th></th>\n",
       "      <th>city</th>\n",
       "      <th>data</th>\n",
       "    </tr>\n",
       "  </thead>\n",
       "  <tbody>\n",
       "    <tr>\n",
       "      <th>0</th>\n",
       "      <td>Delhi</td>\n",
       "      <td>1000</td>\n",
       "    </tr>\n",
       "    <tr>\n",
       "      <th>1</th>\n",
       "      <td>Bangalore</td>\n",
       "      <td>2000</td>\n",
       "    </tr>\n",
       "    <tr>\n",
       "      <th>2</th>\n",
       "      <td>Mumbai</td>\n",
       "      <td>1000</td>\n",
       "    </tr>\n",
       "  </tbody>\n",
       "</table>\n",
       "</div>"
      ],
      "text/plain": [
       "        city  data\n",
       "0      Delhi  1000\n",
       "1  Bangalore  2000\n",
       "2     Mumbai  1000"
      ]
     },
     "execution_count": 3,
     "metadata": {},
     "output_type": "execute_result"
    }
   ],
   "source": [
    "# Create a pandas DataFrame from the dictionary 'd'\n",
    "df = pd.DataFrame(d)\n",
    "\n",
    "# Display the DataFrame\n",
    "df"
   ]
  },
  {
   "cell_type": "markdown",
   "metadata": {},
   "source": [
    "## Convert CSV files to DataFrame"
   ]
  },
  {
   "cell_type": "markdown",
   "metadata": {},
   "source": [
    "Read in csv file and convert it to DataFrame."
   ]
  },
  {
   "cell_type": "code",
   "execution_count": 4,
   "metadata": {},
   "outputs": [],
   "source": [
    "# Read the CSV file containing city data into a pandas DataFrame\n",
    "# The path to the CSV file is provided as relative from the current working directory\n",
    "city_data = pd.read_csv(\"../../Data/simplemaps-worldcities-basic.csv\")"
   ]
  },
  {
   "cell_type": "markdown",
   "metadata": {},
   "source": [
    "Show the first 10 rows of converted DataFrame."
   ]
  },
  {
   "cell_type": "code",
   "execution_count": 5,
   "metadata": {},
   "outputs": [
    {
     "data": {
      "text/html": [
       "<div>\n",
       "<style scoped>\n",
       "    .dataframe tbody tr th:only-of-type {\n",
       "        vertical-align: middle;\n",
       "    }\n",
       "\n",
       "    .dataframe tbody tr th {\n",
       "        vertical-align: top;\n",
       "    }\n",
       "\n",
       "    .dataframe thead th {\n",
       "        text-align: right;\n",
       "    }\n",
       "</style>\n",
       "<table border=\"1\" class=\"dataframe\">\n",
       "  <thead>\n",
       "    <tr style=\"text-align: right;\">\n",
       "      <th></th>\n",
       "      <th>city</th>\n",
       "      <th>city_ascii</th>\n",
       "      <th>lat</th>\n",
       "      <th>lng</th>\n",
       "      <th>pop</th>\n",
       "      <th>country</th>\n",
       "      <th>iso2</th>\n",
       "      <th>iso3</th>\n",
       "      <th>province</th>\n",
       "    </tr>\n",
       "  </thead>\n",
       "  <tbody>\n",
       "    <tr>\n",
       "      <th>0</th>\n",
       "      <td>Qal eh-ye Now</td>\n",
       "      <td>Qal eh-ye</td>\n",
       "      <td>34.983000</td>\n",
       "      <td>63.133300</td>\n",
       "      <td>2997.0</td>\n",
       "      <td>Afghanistan</td>\n",
       "      <td>AF</td>\n",
       "      <td>AFG</td>\n",
       "      <td>Badghis</td>\n",
       "    </tr>\n",
       "    <tr>\n",
       "      <th>1</th>\n",
       "      <td>Chaghcharan</td>\n",
       "      <td>Chaghcharan</td>\n",
       "      <td>34.516701</td>\n",
       "      <td>65.250001</td>\n",
       "      <td>15000.0</td>\n",
       "      <td>Afghanistan</td>\n",
       "      <td>AF</td>\n",
       "      <td>AFG</td>\n",
       "      <td>Ghor</td>\n",
       "    </tr>\n",
       "    <tr>\n",
       "      <th>2</th>\n",
       "      <td>Lashkar Gah</td>\n",
       "      <td>Lashkar Gah</td>\n",
       "      <td>31.582998</td>\n",
       "      <td>64.360000</td>\n",
       "      <td>201546.0</td>\n",
       "      <td>Afghanistan</td>\n",
       "      <td>AF</td>\n",
       "      <td>AFG</td>\n",
       "      <td>Hilmand</td>\n",
       "    </tr>\n",
       "    <tr>\n",
       "      <th>3</th>\n",
       "      <td>Zaranj</td>\n",
       "      <td>Zaranj</td>\n",
       "      <td>31.112001</td>\n",
       "      <td>61.886998</td>\n",
       "      <td>49851.0</td>\n",
       "      <td>Afghanistan</td>\n",
       "      <td>AF</td>\n",
       "      <td>AFG</td>\n",
       "      <td>Nimroz</td>\n",
       "    </tr>\n",
       "    <tr>\n",
       "      <th>4</th>\n",
       "      <td>Tarin Kowt</td>\n",
       "      <td>Tarin Kowt</td>\n",
       "      <td>32.633298</td>\n",
       "      <td>65.866699</td>\n",
       "      <td>10000.0</td>\n",
       "      <td>Afghanistan</td>\n",
       "      <td>AF</td>\n",
       "      <td>AFG</td>\n",
       "      <td>Uruzgan</td>\n",
       "    </tr>\n",
       "    <tr>\n",
       "      <th>5</th>\n",
       "      <td>Zareh Sharan</td>\n",
       "      <td>Zareh Sharan</td>\n",
       "      <td>32.850000</td>\n",
       "      <td>68.416705</td>\n",
       "      <td>13737.0</td>\n",
       "      <td>Afghanistan</td>\n",
       "      <td>AF</td>\n",
       "      <td>AFG</td>\n",
       "      <td>Paktika</td>\n",
       "    </tr>\n",
       "    <tr>\n",
       "      <th>6</th>\n",
       "      <td>Asadabad</td>\n",
       "      <td>Asadabad</td>\n",
       "      <td>34.866000</td>\n",
       "      <td>71.150005</td>\n",
       "      <td>48400.0</td>\n",
       "      <td>Afghanistan</td>\n",
       "      <td>AF</td>\n",
       "      <td>AFG</td>\n",
       "      <td>Kunar</td>\n",
       "    </tr>\n",
       "    <tr>\n",
       "      <th>7</th>\n",
       "      <td>Taloqan</td>\n",
       "      <td>Taloqan</td>\n",
       "      <td>36.729999</td>\n",
       "      <td>69.540004</td>\n",
       "      <td>64256.0</td>\n",
       "      <td>Afghanistan</td>\n",
       "      <td>AF</td>\n",
       "      <td>AFG</td>\n",
       "      <td>Takhar</td>\n",
       "    </tr>\n",
       "    <tr>\n",
       "      <th>8</th>\n",
       "      <td>Mahmud-E Eraqi</td>\n",
       "      <td>Mahmud-E Eraqi</td>\n",
       "      <td>35.016696</td>\n",
       "      <td>69.333301</td>\n",
       "      <td>7407.0</td>\n",
       "      <td>Afghanistan</td>\n",
       "      <td>AF</td>\n",
       "      <td>AFG</td>\n",
       "      <td>Kapisa</td>\n",
       "    </tr>\n",
       "    <tr>\n",
       "      <th>9</th>\n",
       "      <td>Mehtar Lam</td>\n",
       "      <td>Mehtar Lam</td>\n",
       "      <td>34.650000</td>\n",
       "      <td>70.166701</td>\n",
       "      <td>17345.0</td>\n",
       "      <td>Afghanistan</td>\n",
       "      <td>AF</td>\n",
       "      <td>AFG</td>\n",
       "      <td>Laghman</td>\n",
       "    </tr>\n",
       "  </tbody>\n",
       "</table>\n",
       "</div>"
      ],
      "text/plain": [
       "             city      city_ascii        lat        lng       pop  \\\n",
       "0   Qal eh-ye Now       Qal eh-ye  34.983000  63.133300    2997.0   \n",
       "1     Chaghcharan     Chaghcharan  34.516701  65.250001   15000.0   \n",
       "2     Lashkar Gah     Lashkar Gah  31.582998  64.360000  201546.0   \n",
       "3          Zaranj          Zaranj  31.112001  61.886998   49851.0   \n",
       "4      Tarin Kowt      Tarin Kowt  32.633298  65.866699   10000.0   \n",
       "5    Zareh Sharan    Zareh Sharan  32.850000  68.416705   13737.0   \n",
       "6        Asadabad        Asadabad  34.866000  71.150005   48400.0   \n",
       "7         Taloqan         Taloqan  36.729999  69.540004   64256.0   \n",
       "8  Mahmud-E Eraqi  Mahmud-E Eraqi  35.016696  69.333301    7407.0   \n",
       "9      Mehtar Lam      Mehtar Lam  34.650000  70.166701   17345.0   \n",
       "\n",
       "       country iso2 iso3 province  \n",
       "0  Afghanistan   AF  AFG  Badghis  \n",
       "1  Afghanistan   AF  AFG     Ghor  \n",
       "2  Afghanistan   AF  AFG  Hilmand  \n",
       "3  Afghanistan   AF  AFG   Nimroz  \n",
       "4  Afghanistan   AF  AFG  Uruzgan  \n",
       "5  Afghanistan   AF  AFG  Paktika  \n",
       "6  Afghanistan   AF  AFG    Kunar  \n",
       "7  Afghanistan   AF  AFG   Takhar  \n",
       "8  Afghanistan   AF  AFG   Kapisa  \n",
       "9  Afghanistan   AF  AFG  Laghman  "
      ]
     },
     "execution_count": 5,
     "metadata": {},
     "output_type": "execute_result"
    }
   ],
   "source": [
    "# Display the first 10 rows of the 'city_data' DataFrame\n",
    "city_data.head(n=10)"
   ]
  },
  {
   "cell_type": "markdown",
   "metadata": {},
   "source": [
    "## Data Access\n",
    "\n",
    "### Head and Tail\n",
    "\n",
    "Get the last 10 rows of `city_data`:"
   ]
  },
  {
   "cell_type": "code",
   "execution_count": 6,
   "metadata": {},
   "outputs": [
    {
     "data": {
      "text/html": [
       "<div>\n",
       "<style scoped>\n",
       "    .dataframe tbody tr th:only-of-type {\n",
       "        vertical-align: middle;\n",
       "    }\n",
       "\n",
       "    .dataframe tbody tr th {\n",
       "        vertical-align: top;\n",
       "    }\n",
       "\n",
       "    .dataframe thead th {\n",
       "        text-align: right;\n",
       "    }\n",
       "</style>\n",
       "<table border=\"1\" class=\"dataframe\">\n",
       "  <thead>\n",
       "    <tr style=\"text-align: right;\">\n",
       "      <th></th>\n",
       "      <th>city</th>\n",
       "      <th>city_ascii</th>\n",
       "      <th>lat</th>\n",
       "      <th>lng</th>\n",
       "      <th>pop</th>\n",
       "      <th>country</th>\n",
       "      <th>iso2</th>\n",
       "      <th>iso3</th>\n",
       "      <th>province</th>\n",
       "    </tr>\n",
       "  </thead>\n",
       "  <tbody>\n",
       "    <tr>\n",
       "      <th>7312</th>\n",
       "      <td>Karoi</td>\n",
       "      <td>Karoi</td>\n",
       "      <td>-16.819556</td>\n",
       "      <td>29.679987</td>\n",
       "      <td>13194.0</td>\n",
       "      <td>Zimbabwe</td>\n",
       "      <td>ZW</td>\n",
       "      <td>ZWE</td>\n",
       "      <td>Mashonaland West</td>\n",
       "    </tr>\n",
       "    <tr>\n",
       "      <th>7313</th>\n",
       "      <td>Chinhoyi</td>\n",
       "      <td>Chinhoyi</td>\n",
       "      <td>-17.359626</td>\n",
       "      <td>30.180008</td>\n",
       "      <td>52812.0</td>\n",
       "      <td>Zimbabwe</td>\n",
       "      <td>ZW</td>\n",
       "      <td>ZWE</td>\n",
       "      <td>Mashonaland West</td>\n",
       "    </tr>\n",
       "    <tr>\n",
       "      <th>7314</th>\n",
       "      <td>Kariba</td>\n",
       "      <td>Kariba</td>\n",
       "      <td>-16.529600</td>\n",
       "      <td>28.800040</td>\n",
       "      <td>23133.5</td>\n",
       "      <td>Zimbabwe</td>\n",
       "      <td>ZW</td>\n",
       "      <td>ZWE</td>\n",
       "      <td>Mashonaland West</td>\n",
       "    </tr>\n",
       "    <tr>\n",
       "      <th>7315</th>\n",
       "      <td>Hwange</td>\n",
       "      <td>Hwange</td>\n",
       "      <td>-18.370004</td>\n",
       "      <td>26.500026</td>\n",
       "      <td>33599.5</td>\n",
       "      <td>Zimbabwe</td>\n",
       "      <td>ZW</td>\n",
       "      <td>ZWE</td>\n",
       "      <td>Matabeleland North</td>\n",
       "    </tr>\n",
       "    <tr>\n",
       "      <th>7316</th>\n",
       "      <td>Gweru</td>\n",
       "      <td>Gweru</td>\n",
       "      <td>-19.450041</td>\n",
       "      <td>29.820030</td>\n",
       "      <td>164715.5</td>\n",
       "      <td>Zimbabwe</td>\n",
       "      <td>ZW</td>\n",
       "      <td>ZWE</td>\n",
       "      <td>Midlands</td>\n",
       "    </tr>\n",
       "    <tr>\n",
       "      <th>7317</th>\n",
       "      <td>Mutare</td>\n",
       "      <td>Mutare</td>\n",
       "      <td>-18.970019</td>\n",
       "      <td>32.650038</td>\n",
       "      <td>216785.0</td>\n",
       "      <td>Zimbabwe</td>\n",
       "      <td>ZW</td>\n",
       "      <td>ZWE</td>\n",
       "      <td>Manicaland</td>\n",
       "    </tr>\n",
       "    <tr>\n",
       "      <th>7318</th>\n",
       "      <td>Kadoma</td>\n",
       "      <td>Kadoma</td>\n",
       "      <td>-18.330006</td>\n",
       "      <td>29.909947</td>\n",
       "      <td>56400.0</td>\n",
       "      <td>Zimbabwe</td>\n",
       "      <td>ZW</td>\n",
       "      <td>ZWE</td>\n",
       "      <td>Mashonaland West</td>\n",
       "    </tr>\n",
       "    <tr>\n",
       "      <th>7319</th>\n",
       "      <td>Chitungwiza</td>\n",
       "      <td>Chitungwiza</td>\n",
       "      <td>-18.000001</td>\n",
       "      <td>31.100003</td>\n",
       "      <td>331071.0</td>\n",
       "      <td>Zimbabwe</td>\n",
       "      <td>ZW</td>\n",
       "      <td>ZWE</td>\n",
       "      <td>Harare</td>\n",
       "    </tr>\n",
       "    <tr>\n",
       "      <th>7320</th>\n",
       "      <td>Harare</td>\n",
       "      <td>Harare</td>\n",
       "      <td>-17.817790</td>\n",
       "      <td>31.044709</td>\n",
       "      <td>1557406.5</td>\n",
       "      <td>Zimbabwe</td>\n",
       "      <td>ZW</td>\n",
       "      <td>ZWE</td>\n",
       "      <td>Harare</td>\n",
       "    </tr>\n",
       "    <tr>\n",
       "      <th>7321</th>\n",
       "      <td>Bulawayo</td>\n",
       "      <td>Bulawayo</td>\n",
       "      <td>-20.169998</td>\n",
       "      <td>28.580002</td>\n",
       "      <td>697096.0</td>\n",
       "      <td>Zimbabwe</td>\n",
       "      <td>ZW</td>\n",
       "      <td>ZWE</td>\n",
       "      <td>Bulawayo</td>\n",
       "    </tr>\n",
       "  </tbody>\n",
       "</table>\n",
       "</div>"
      ],
      "text/plain": [
       "             city   city_ascii        lat        lng        pop   country  \\\n",
       "7312        Karoi        Karoi -16.819556  29.679987    13194.0  Zimbabwe   \n",
       "7313     Chinhoyi     Chinhoyi -17.359626  30.180008    52812.0  Zimbabwe   \n",
       "7314       Kariba       Kariba -16.529600  28.800040    23133.5  Zimbabwe   \n",
       "7315       Hwange       Hwange -18.370004  26.500026    33599.5  Zimbabwe   \n",
       "7316        Gweru        Gweru -19.450041  29.820030   164715.5  Zimbabwe   \n",
       "7317       Mutare       Mutare -18.970019  32.650038   216785.0  Zimbabwe   \n",
       "7318       Kadoma       Kadoma -18.330006  29.909947    56400.0  Zimbabwe   \n",
       "7319  Chitungwiza  Chitungwiza -18.000001  31.100003   331071.0  Zimbabwe   \n",
       "7320       Harare       Harare -17.817790  31.044709  1557406.5  Zimbabwe   \n",
       "7321     Bulawayo     Bulawayo -20.169998  28.580002   697096.0  Zimbabwe   \n",
       "\n",
       "     iso2 iso3            province  \n",
       "7312   ZW  ZWE    Mashonaland West  \n",
       "7313   ZW  ZWE    Mashonaland West  \n",
       "7314   ZW  ZWE    Mashonaland West  \n",
       "7315   ZW  ZWE  Matabeleland North  \n",
       "7316   ZW  ZWE            Midlands  \n",
       "7317   ZW  ZWE          Manicaland  \n",
       "7318   ZW  ZWE    Mashonaland West  \n",
       "7319   ZW  ZWE              Harare  \n",
       "7320   ZW  ZWE              Harare  \n",
       "7321   ZW  ZWE            Bulawayo  "
      ]
     },
     "execution_count": 6,
     "metadata": {},
     "output_type": "execute_result"
    }
   ],
   "source": [
    "# The .tail(10) method retrieves the last 10 rows of the DataFrame\n",
    "# This is useful for quickly inspecting the end of the dataset\n",
    "city_data.tail(10)"
   ]
  },
  {
   "cell_type": "markdown",
   "metadata": {},
   "source": [
    "### Slicing and Dicing"
   ]
  },
  {
   "cell_type": "code",
   "execution_count": 7,
   "metadata": {},
   "outputs": [
    {
     "data": {
      "text/plain": [
       "pandas.core.series.Series"
      ]
     },
     "execution_count": 7,
     "metadata": {},
     "output_type": "execute_result"
    }
   ],
   "source": [
    "# Extract the 'lat' column from the DataFrame as a Pandas Series\n",
    "# This creates a one-dimensional labeled array with the latitude values\n",
    "series_es = city_data.lat\n",
    "\n",
    "# Use the type() function to determine the data type of 'series_es'\n",
    "# This will return <class 'pandas.core.series.Series'>, confirming it's a Pandas Series\n",
    "type(series_es)"
   ]
  },
  {
   "cell_type": "markdown",
   "metadata": {},
   "source": [
    "Get the first 5 odd number of rows of `series_es`:"
   ]
  },
  {
   "cell_type": "code",
   "execution_count": 8,
   "metadata": {},
   "outputs": [
    {
     "data": {
      "text/plain": [
       "1    34.516701\n",
       "3    31.112001\n",
       "5    32.850000\n",
       "7    36.729999\n",
       "9    34.650000\n",
       "Name: lat, dtype: float64"
      ]
     },
     "execution_count": 8,
     "metadata": {},
     "output_type": "execute_result"
    }
   ],
   "source": [
    "# Slice the `series_es` object to extract elements from index 1 to 10 (exclusive) with a step of 2\n",
    "# This means selecting every second element starting from index 1 up to (but not including) index 10\n",
    "series_es[1:10:2]"
   ]
  },
  {
   "cell_type": "markdown",
   "metadata": {},
   "source": [
    "Get the first 8 rows of `series_es`:"
   ]
  },
  {
   "cell_type": "code",
   "execution_count": 9,
   "metadata": {},
   "outputs": [
    {
     "data": {
      "text/plain": [
       "0    34.983000\n",
       "1    34.516701\n",
       "2    31.582998\n",
       "3    31.112001\n",
       "4    32.633298\n",
       "5    32.850000\n",
       "6    34.866000\n",
       "7    36.729999\n",
       "Name: lat, dtype: float64"
      ]
     },
     "execution_count": 9,
     "metadata": {},
     "output_type": "execute_result"
    }
   ],
   "source": [
    "# Slice the `series_es` object to extract elements from the beginning up to index 8 (exclusive)\n",
    "# This selects all elements from index 0 to index 7\n",
    "series_es[:8]"
   ]
  },
  {
   "cell_type": "markdown",
   "metadata": {},
   "source": [
    "Get first 8 rows of `city_data`:"
   ]
  },
  {
   "cell_type": "code",
   "execution_count": 10,
   "metadata": {},
   "outputs": [
    {
     "data": {
      "text/html": [
       "<div>\n",
       "<style scoped>\n",
       "    .dataframe tbody tr th:only-of-type {\n",
       "        vertical-align: middle;\n",
       "    }\n",
       "\n",
       "    .dataframe tbody tr th {\n",
       "        vertical-align: top;\n",
       "    }\n",
       "\n",
       "    .dataframe thead th {\n",
       "        text-align: right;\n",
       "    }\n",
       "</style>\n",
       "<table border=\"1\" class=\"dataframe\">\n",
       "  <thead>\n",
       "    <tr style=\"text-align: right;\">\n",
       "      <th></th>\n",
       "      <th>city</th>\n",
       "      <th>city_ascii</th>\n",
       "      <th>lat</th>\n",
       "      <th>lng</th>\n",
       "      <th>pop</th>\n",
       "      <th>country</th>\n",
       "      <th>iso2</th>\n",
       "      <th>iso3</th>\n",
       "      <th>province</th>\n",
       "    </tr>\n",
       "  </thead>\n",
       "  <tbody>\n",
       "    <tr>\n",
       "      <th>0</th>\n",
       "      <td>Qal eh-ye Now</td>\n",
       "      <td>Qal eh-ye</td>\n",
       "      <td>34.983000</td>\n",
       "      <td>63.133300</td>\n",
       "      <td>2997.0</td>\n",
       "      <td>Afghanistan</td>\n",
       "      <td>AF</td>\n",
       "      <td>AFG</td>\n",
       "      <td>Badghis</td>\n",
       "    </tr>\n",
       "    <tr>\n",
       "      <th>1</th>\n",
       "      <td>Chaghcharan</td>\n",
       "      <td>Chaghcharan</td>\n",
       "      <td>34.516701</td>\n",
       "      <td>65.250001</td>\n",
       "      <td>15000.0</td>\n",
       "      <td>Afghanistan</td>\n",
       "      <td>AF</td>\n",
       "      <td>AFG</td>\n",
       "      <td>Ghor</td>\n",
       "    </tr>\n",
       "    <tr>\n",
       "      <th>2</th>\n",
       "      <td>Lashkar Gah</td>\n",
       "      <td>Lashkar Gah</td>\n",
       "      <td>31.582998</td>\n",
       "      <td>64.360000</td>\n",
       "      <td>201546.0</td>\n",
       "      <td>Afghanistan</td>\n",
       "      <td>AF</td>\n",
       "      <td>AFG</td>\n",
       "      <td>Hilmand</td>\n",
       "    </tr>\n",
       "    <tr>\n",
       "      <th>3</th>\n",
       "      <td>Zaranj</td>\n",
       "      <td>Zaranj</td>\n",
       "      <td>31.112001</td>\n",
       "      <td>61.886998</td>\n",
       "      <td>49851.0</td>\n",
       "      <td>Afghanistan</td>\n",
       "      <td>AF</td>\n",
       "      <td>AFG</td>\n",
       "      <td>Nimroz</td>\n",
       "    </tr>\n",
       "    <tr>\n",
       "      <th>4</th>\n",
       "      <td>Tarin Kowt</td>\n",
       "      <td>Tarin Kowt</td>\n",
       "      <td>32.633298</td>\n",
       "      <td>65.866699</td>\n",
       "      <td>10000.0</td>\n",
       "      <td>Afghanistan</td>\n",
       "      <td>AF</td>\n",
       "      <td>AFG</td>\n",
       "      <td>Uruzgan</td>\n",
       "    </tr>\n",
       "    <tr>\n",
       "      <th>5</th>\n",
       "      <td>Zareh Sharan</td>\n",
       "      <td>Zareh Sharan</td>\n",
       "      <td>32.850000</td>\n",
       "      <td>68.416705</td>\n",
       "      <td>13737.0</td>\n",
       "      <td>Afghanistan</td>\n",
       "      <td>AF</td>\n",
       "      <td>AFG</td>\n",
       "      <td>Paktika</td>\n",
       "    </tr>\n",
       "    <tr>\n",
       "      <th>6</th>\n",
       "      <td>Asadabad</td>\n",
       "      <td>Asadabad</td>\n",
       "      <td>34.866000</td>\n",
       "      <td>71.150005</td>\n",
       "      <td>48400.0</td>\n",
       "      <td>Afghanistan</td>\n",
       "      <td>AF</td>\n",
       "      <td>AFG</td>\n",
       "      <td>Kunar</td>\n",
       "    </tr>\n",
       "    <tr>\n",
       "      <th>7</th>\n",
       "      <td>Taloqan</td>\n",
       "      <td>Taloqan</td>\n",
       "      <td>36.729999</td>\n",
       "      <td>69.540004</td>\n",
       "      <td>64256.0</td>\n",
       "      <td>Afghanistan</td>\n",
       "      <td>AF</td>\n",
       "      <td>AFG</td>\n",
       "      <td>Takhar</td>\n",
       "    </tr>\n",
       "  </tbody>\n",
       "</table>\n",
       "</div>"
      ],
      "text/plain": [
       "            city    city_ascii        lat        lng       pop      country  \\\n",
       "0  Qal eh-ye Now     Qal eh-ye  34.983000  63.133300    2997.0  Afghanistan   \n",
       "1    Chaghcharan   Chaghcharan  34.516701  65.250001   15000.0  Afghanistan   \n",
       "2    Lashkar Gah   Lashkar Gah  31.582998  64.360000  201546.0  Afghanistan   \n",
       "3         Zaranj        Zaranj  31.112001  61.886998   49851.0  Afghanistan   \n",
       "4     Tarin Kowt    Tarin Kowt  32.633298  65.866699   10000.0  Afghanistan   \n",
       "5   Zareh Sharan  Zareh Sharan  32.850000  68.416705   13737.0  Afghanistan   \n",
       "6       Asadabad      Asadabad  34.866000  71.150005   48400.0  Afghanistan   \n",
       "7        Taloqan       Taloqan  36.729999  69.540004   64256.0  Afghanistan   \n",
       "\n",
       "  iso2 iso3 province  \n",
       "0   AF  AFG  Badghis  \n",
       "1   AF  AFG     Ghor  \n",
       "2   AF  AFG  Hilmand  \n",
       "3   AF  AFG   Nimroz  \n",
       "4   AF  AFG  Uruzgan  \n",
       "5   AF  AFG  Paktika  \n",
       "6   AF  AFG    Kunar  \n",
       "7   AF  AFG   Takhar  "
      ]
     },
     "execution_count": 10,
     "metadata": {},
     "output_type": "execute_result"
    }
   ],
   "source": [
    "# Slice the `city_data` array to extract the first 8 rows\n",
    "# This selects all rows from index 0 to index 7 (inclusive)\n",
    "city_data[:8]"
   ]
  },
  {
   "cell_type": "markdown",
   "metadata": {},
   "source": [
    "Get the first 4 columns of the first 5 rows of **city_data**:"
   ]
  },
  {
   "cell_type": "code",
   "execution_count": 11,
   "metadata": {},
   "outputs": [
    {
     "data": {
      "text/html": [
       "<div>\n",
       "<style scoped>\n",
       "    .dataframe tbody tr th:only-of-type {\n",
       "        vertical-align: middle;\n",
       "    }\n",
       "\n",
       "    .dataframe tbody tr th {\n",
       "        vertical-align: top;\n",
       "    }\n",
       "\n",
       "    .dataframe thead th {\n",
       "        text-align: right;\n",
       "    }\n",
       "</style>\n",
       "<table border=\"1\" class=\"dataframe\">\n",
       "  <thead>\n",
       "    <tr style=\"text-align: right;\">\n",
       "      <th></th>\n",
       "      <th>city</th>\n",
       "      <th>city_ascii</th>\n",
       "      <th>lat</th>\n",
       "      <th>lng</th>\n",
       "    </tr>\n",
       "  </thead>\n",
       "  <tbody>\n",
       "    <tr>\n",
       "      <th>0</th>\n",
       "      <td>Qal eh-ye Now</td>\n",
       "      <td>Qal eh-ye</td>\n",
       "      <td>34.983000</td>\n",
       "      <td>63.133300</td>\n",
       "    </tr>\n",
       "    <tr>\n",
       "      <th>1</th>\n",
       "      <td>Chaghcharan</td>\n",
       "      <td>Chaghcharan</td>\n",
       "      <td>34.516701</td>\n",
       "      <td>65.250001</td>\n",
       "    </tr>\n",
       "    <tr>\n",
       "      <th>2</th>\n",
       "      <td>Lashkar Gah</td>\n",
       "      <td>Lashkar Gah</td>\n",
       "      <td>31.582998</td>\n",
       "      <td>64.360000</td>\n",
       "    </tr>\n",
       "    <tr>\n",
       "      <th>3</th>\n",
       "      <td>Zaranj</td>\n",
       "      <td>Zaranj</td>\n",
       "      <td>31.112001</td>\n",
       "      <td>61.886998</td>\n",
       "    </tr>\n",
       "    <tr>\n",
       "      <th>4</th>\n",
       "      <td>Tarin Kowt</td>\n",
       "      <td>Tarin Kowt</td>\n",
       "      <td>32.633298</td>\n",
       "      <td>65.866699</td>\n",
       "    </tr>\n",
       "  </tbody>\n",
       "</table>\n",
       "</div>"
      ],
      "text/plain": [
       "            city   city_ascii        lat        lng\n",
       "0  Qal eh-ye Now    Qal eh-ye  34.983000  63.133300\n",
       "1    Chaghcharan  Chaghcharan  34.516701  65.250001\n",
       "2    Lashkar Gah  Lashkar Gah  31.582998  64.360000\n",
       "3         Zaranj       Zaranj  31.112001  61.886998\n",
       "4     Tarin Kowt   Tarin Kowt  32.633298  65.866699"
      ]
     },
     "execution_count": 11,
     "metadata": {},
     "output_type": "execute_result"
    }
   ],
   "source": [
    "# Use `.iloc` to slice the `city_data` DataFrame\n",
    "# `.iloc` is used for integer-location based indexing\n",
    "# `:5` selects the first 5 rows (indices 0 to 4)\n",
    "# `:4` selects the first 4 columns (indices 0 to 3)\n",
    "city_data.iloc[:5, :4]"
   ]
  },
  {
   "cell_type": "markdown",
   "metadata": {},
   "source": [
    "Select cities that have population of more than 10 million and select columns with column name start with the letter `p`:"
   ]
  },
  {
   "cell_type": "code",
   "execution_count": 12,
   "metadata": {},
   "outputs": [
    {
     "data": {
      "text/html": [
       "<div>\n",
       "<style scoped>\n",
       "    .dataframe tbody tr th:only-of-type {\n",
       "        vertical-align: middle;\n",
       "    }\n",
       "\n",
       "    .dataframe tbody tr th {\n",
       "        vertical-align: top;\n",
       "    }\n",
       "\n",
       "    .dataframe thead th {\n",
       "        text-align: right;\n",
       "    }\n",
       "</style>\n",
       "<table border=\"1\" class=\"dataframe\">\n",
       "  <thead>\n",
       "    <tr style=\"text-align: right;\">\n",
       "      <th></th>\n",
       "      <th>pop</th>\n",
       "      <th>province</th>\n",
       "    </tr>\n",
       "  </thead>\n",
       "  <tbody>\n",
       "    <tr>\n",
       "      <th>360</th>\n",
       "      <td>11862073.0</td>\n",
       "      <td>Ciudad de Buenos Aires</td>\n",
       "    </tr>\n",
       "    <tr>\n",
       "      <th>1171</th>\n",
       "      <td>14433147.5</td>\n",
       "      <td>São Paulo</td>\n",
       "    </tr>\n",
       "    <tr>\n",
       "      <th>2068</th>\n",
       "      <td>14797756.0</td>\n",
       "      <td>Shanghai</td>\n",
       "    </tr>\n",
       "    <tr>\n",
       "      <th>3098</th>\n",
       "      <td>11779606.5</td>\n",
       "      <td>Delhi</td>\n",
       "    </tr>\n",
       "    <tr>\n",
       "      <th>3110</th>\n",
       "      <td>15834918.0</td>\n",
       "      <td>Maharashtra</td>\n",
       "    </tr>\n",
       "    <tr>\n",
       "      <th>3492</th>\n",
       "      <td>22006299.5</td>\n",
       "      <td>Tokyo</td>\n",
       "    </tr>\n",
       "    <tr>\n",
       "      <th>4074</th>\n",
       "      <td>14919501.0</td>\n",
       "      <td>Distrito Federal</td>\n",
       "    </tr>\n",
       "    <tr>\n",
       "      <th>4513</th>\n",
       "      <td>11877109.5</td>\n",
       "      <td>Sind</td>\n",
       "    </tr>\n",
       "    <tr>\n",
       "      <th>5394</th>\n",
       "      <td>10452000.0</td>\n",
       "      <td>Moskva</td>\n",
       "    </tr>\n",
       "    <tr>\n",
       "      <th>6124</th>\n",
       "      <td>10003305.0</td>\n",
       "      <td>Istanbul</td>\n",
       "    </tr>\n",
       "    <tr>\n",
       "      <th>7071</th>\n",
       "      <td>13524139.0</td>\n",
       "      <td>New York</td>\n",
       "    </tr>\n",
       "  </tbody>\n",
       "</table>\n",
       "</div>"
      ],
      "text/plain": [
       "             pop                province\n",
       "360   11862073.0  Ciudad de Buenos Aires\n",
       "1171  14433147.5               São Paulo\n",
       "2068  14797756.0                Shanghai\n",
       "3098  11779606.5                   Delhi\n",
       "3110  15834918.0             Maharashtra\n",
       "3492  22006299.5                   Tokyo\n",
       "4074  14919501.0        Distrito Federal\n",
       "4513  11877109.5                    Sind\n",
       "5394  10452000.0                  Moskva\n",
       "6124  10003305.0                Istanbul\n",
       "7071  13524139.0                New York"
      ]
     },
     "execution_count": 12,
     "metadata": {},
     "output_type": "execute_result"
    }
   ],
   "source": [
    "# Filter the city_data dataframe to include cities with a population greater than 10 million\n",
    "# The condition city_data[\"pop\"] > 10000000 selects rows where the population exceeds 10 million\n",
    "# Then, select only the columns whose names start with \"p\"\n",
    "# This is achieved using the str.startswith(\"p\") function on the column names\n",
    "city_data[city_data[\"pop\"] > 10000000][\n",
    "    city_data.columns[pd.Series(city_data.columns).str.startswith(\"p\")]\n",
    "]"
   ]
  },
  {
   "cell_type": "markdown",
   "metadata": {},
   "source": [
    "## Data Operations\n",
    "\n",
    "### Missing data and the `fillna` function"
   ]
  },
  {
   "cell_type": "code",
   "execution_count": 14,
   "metadata": {},
   "outputs": [
    {
     "data": {
      "text/html": [
       "<div>\n",
       "<style scoped>\n",
       "    .dataframe tbody tr th:only-of-type {\n",
       "        vertical-align: middle;\n",
       "    }\n",
       "\n",
       "    .dataframe tbody tr th {\n",
       "        vertical-align: top;\n",
       "    }\n",
       "\n",
       "    .dataframe thead th {\n",
       "        text-align: right;\n",
       "    }\n",
       "</style>\n",
       "<table border=\"1\" class=\"dataframe\">\n",
       "  <thead>\n",
       "    <tr style=\"text-align: right;\">\n",
       "      <th></th>\n",
       "      <th>A</th>\n",
       "      <th>B</th>\n",
       "      <th>C</th>\n",
       "    </tr>\n",
       "  </thead>\n",
       "  <tbody>\n",
       "    <tr>\n",
       "      <th>0</th>\n",
       "      <td>-0.022991</td>\n",
       "      <td>0.107699</td>\n",
       "      <td>-1.314345</td>\n",
       "    </tr>\n",
       "    <tr>\n",
       "      <th>1</th>\n",
       "      <td>-0.308230</td>\n",
       "      <td>-0.042155</td>\n",
       "      <td>-0.326718</td>\n",
       "    </tr>\n",
       "    <tr>\n",
       "      <th>2</th>\n",
       "      <td>0.030758</td>\n",
       "      <td>-0.409561</td>\n",
       "      <td>0.759102</td>\n",
       "    </tr>\n",
       "    <tr>\n",
       "      <th>3</th>\n",
       "      <td>-0.917075</td>\n",
       "      <td>0.652545</td>\n",
       "      <td>-0.303112</td>\n",
       "    </tr>\n",
       "    <tr>\n",
       "      <th>4</th>\n",
       "      <td>-0.810755</td>\n",
       "      <td>-1.723134</td>\n",
       "      <td>NaN</td>\n",
       "    </tr>\n",
       "    <tr>\n",
       "      <th>5</th>\n",
       "      <td>-0.143315</td>\n",
       "      <td>0.898778</td>\n",
       "      <td>2.257264</td>\n",
       "    </tr>\n",
       "    <tr>\n",
       "      <th>6</th>\n",
       "      <td>0.370698</td>\n",
       "      <td>1.641371</td>\n",
       "      <td>0.183067</td>\n",
       "    </tr>\n",
       "    <tr>\n",
       "      <th>7</th>\n",
       "      <td>-0.989167</td>\n",
       "      <td>-1.343341</td>\n",
       "      <td>1.371197</td>\n",
       "    </tr>\n",
       "  </tbody>\n",
       "</table>\n",
       "</div>"
      ],
      "text/plain": [
       "          A         B         C\n",
       "0 -0.022991  0.107699 -1.314345\n",
       "1 -0.308230 -0.042155 -0.326718\n",
       "2  0.030758 -0.409561  0.759102\n",
       "3 -0.917075  0.652545 -0.303112\n",
       "4 -0.810755 -1.723134       NaN\n",
       "5 -0.143315  0.898778  2.257264\n",
       "6  0.370698  1.641371  0.183067\n",
       "7 -0.989167 -1.343341  1.371197"
      ]
     },
     "execution_count": 14,
     "metadata": {},
     "output_type": "execute_result"
    }
   ],
   "source": [
    "# Create a DataFrame with 8 rows and 3 columns, filled with random numbers from a normal distribution\n",
    "df = pd.DataFrame(np.random.randn(8, 3), columns=[\"A\", \"B\", \"C\"])\n",
    "\n",
    "# Set a specific value (at row 4, column 'C') to NaN (missing value)\n",
    "df.iloc[4, 2] = np.nan\n",
    "\n",
    "# Display the DataFrame\n",
    "df"
   ]
  },
  {
   "cell_type": "markdown",
   "metadata": {},
   "source": [
    "Replace all the \"NaN\" in `df` with `0`:"
   ]
  },
  {
   "cell_type": "code",
   "execution_count": 15,
   "metadata": {},
   "outputs": [
    {
     "data": {
      "text/html": [
       "<div>\n",
       "<style scoped>\n",
       "    .dataframe tbody tr th:only-of-type {\n",
       "        vertical-align: middle;\n",
       "    }\n",
       "\n",
       "    .dataframe tbody tr th {\n",
       "        vertical-align: top;\n",
       "    }\n",
       "\n",
       "    .dataframe thead th {\n",
       "        text-align: right;\n",
       "    }\n",
       "</style>\n",
       "<table border=\"1\" class=\"dataframe\">\n",
       "  <thead>\n",
       "    <tr style=\"text-align: right;\">\n",
       "      <th></th>\n",
       "      <th>A</th>\n",
       "      <th>B</th>\n",
       "      <th>C</th>\n",
       "    </tr>\n",
       "  </thead>\n",
       "  <tbody>\n",
       "    <tr>\n",
       "      <th>0</th>\n",
       "      <td>-0.022991</td>\n",
       "      <td>0.107699</td>\n",
       "      <td>-1.314345</td>\n",
       "    </tr>\n",
       "    <tr>\n",
       "      <th>1</th>\n",
       "      <td>-0.308230</td>\n",
       "      <td>-0.042155</td>\n",
       "      <td>-0.326718</td>\n",
       "    </tr>\n",
       "    <tr>\n",
       "      <th>2</th>\n",
       "      <td>0.030758</td>\n",
       "      <td>-0.409561</td>\n",
       "      <td>0.759102</td>\n",
       "    </tr>\n",
       "    <tr>\n",
       "      <th>3</th>\n",
       "      <td>-0.917075</td>\n",
       "      <td>0.652545</td>\n",
       "      <td>-0.303112</td>\n",
       "    </tr>\n",
       "    <tr>\n",
       "      <th>4</th>\n",
       "      <td>-0.810755</td>\n",
       "      <td>-1.723134</td>\n",
       "      <td>0.000000</td>\n",
       "    </tr>\n",
       "    <tr>\n",
       "      <th>5</th>\n",
       "      <td>-0.143315</td>\n",
       "      <td>0.898778</td>\n",
       "      <td>2.257264</td>\n",
       "    </tr>\n",
       "    <tr>\n",
       "      <th>6</th>\n",
       "      <td>0.370698</td>\n",
       "      <td>1.641371</td>\n",
       "      <td>0.183067</td>\n",
       "    </tr>\n",
       "    <tr>\n",
       "      <th>7</th>\n",
       "      <td>-0.989167</td>\n",
       "      <td>-1.343341</td>\n",
       "      <td>1.371197</td>\n",
       "    </tr>\n",
       "  </tbody>\n",
       "</table>\n",
       "</div>"
      ],
      "text/plain": [
       "          A         B         C\n",
       "0 -0.022991  0.107699 -1.314345\n",
       "1 -0.308230 -0.042155 -0.326718\n",
       "2  0.030758 -0.409561  0.759102\n",
       "3 -0.917075  0.652545 -0.303112\n",
       "4 -0.810755 -1.723134  0.000000\n",
       "5 -0.143315  0.898778  2.257264\n",
       "6  0.370698  1.641371  0.183067\n",
       "7 -0.989167 -1.343341  1.371197"
      ]
     },
     "execution_count": 15,
     "metadata": {},
     "output_type": "execute_result"
    }
   ],
   "source": [
    "# Replace all missing values (NaN) in the DataFrame `df` with 0\n",
    "# `fillna(0)` fills NaN values with the specified value (in this case, 0)\n",
    "df_filled = df.fillna(0)\n",
    "\n",
    "# Display the DataFrame with missing values replaced\n",
    "df_filled"
   ]
  },
  {
   "cell_type": "markdown",
   "metadata": {},
   "source": [
    "## Descriptive Statistics functions"
   ]
  },
  {
   "cell_type": "code",
   "execution_count": 16,
   "metadata": {},
   "outputs": [],
   "source": [
    "# Define a list of column names that contain numeric data\n",
    "# This list can be used to select or manipulate specific columns in a DataFrame\n",
    "columns_numeric = [\"lat\", \"lng\", \"pop\"]"
   ]
  },
  {
   "cell_type": "markdown",
   "metadata": {},
   "source": [
    "Get average `lat`, `lng`, and `pop` values:"
   ]
  },
  {
   "cell_type": "code",
   "execution_count": 17,
   "metadata": {},
   "outputs": [
    {
     "data": {
      "text/plain": [
       "lat        20.662876\n",
       "lng        10.711914\n",
       "pop    265463.071633\n",
       "dtype: float64"
      ]
     },
     "execution_count": 17,
     "metadata": {},
     "output_type": "execute_result"
    }
   ],
   "source": [
    "# Calculate the mean (average) of the numeric columns in `city_data` specified by `columns_numeric`\n",
    "# `columns_numeric` is a list of column names containing numeric data (e.g., [\"lat\", \"lng\", \"pop\"])\n",
    "# The `.mean()` function computes the mean for each column\n",
    "mean_values = city_data[columns_numeric].mean()\n",
    "\n",
    "# Display the mean values for the specified columns\n",
    "mean_values"
   ]
  },
  {
   "cell_type": "markdown",
   "metadata": {},
   "source": [
    "Get sum of `lat`, `lng`, and `pop` values:"
   ]
  },
  {
   "cell_type": "code",
   "execution_count": 18,
   "metadata": {},
   "outputs": [
    {
     "data": {
      "text/plain": [
       "lat    1.512936e+05\n",
       "lng    7.843263e+04\n",
       "pop    1.943721e+09\n",
       "dtype: float64"
      ]
     },
     "execution_count": 18,
     "metadata": {},
     "output_type": "execute_result"
    }
   ],
   "source": [
    "# Calculate the sum of the numeric columns in `city_data` specified by `columns_numeric`\n",
    "# `columns_numeric` is a list of column names containing numeric data (e.g., [\"lat\", \"lng\", \"pop\"])\n",
    "# The `.sum()` function computes the sum for each column\n",
    "sum_values = city_data[columns_numeric].sum()\n",
    "\n",
    "# Display the sum values for the specified columns\n",
    "sum_values"
   ]
  },
  {
   "cell_type": "markdown",
   "metadata": {},
   "source": [
    "Get total number of `lat`, `lng`, and `pop` values:"
   ]
  },
  {
   "cell_type": "code",
   "execution_count": 19,
   "metadata": {},
   "outputs": [
    {
     "data": {
      "text/plain": [
       "lat    7322\n",
       "lng    7322\n",
       "pop    7322\n",
       "dtype: int64"
      ]
     },
     "execution_count": 19,
     "metadata": {},
     "output_type": "execute_result"
    }
   ],
   "source": [
    "# Count the number of non-missing (non-NaN) values in the numeric columns of `city_data` specified by `columns_numeric`\n",
    "# `columns_numeric` is a list of column names containing numeric data (e.g., [\"lat\", \"lng\", \"pop\"])\n",
    "# The `.count()` function counts the number of non-missing values for each column\n",
    "count_values = city_data[columns_numeric].count()\n",
    "\n",
    "# Display the count of non-missing values for the specified columns\n",
    "count_values"
   ]
  },
  {
   "cell_type": "markdown",
   "metadata": {},
   "source": [
    "Get 75 percentile of `lat`, `lng`, and `pop` values:"
   ]
  },
  {
   "cell_type": "code",
   "execution_count": 20,
   "metadata": {},
   "outputs": [
    {
     "data": {
      "text/plain": [
       "lat        43.575448\n",
       "lng        73.103628\n",
       "pop    200172.625000\n",
       "Name: 0.75, dtype: float64"
      ]
     },
     "execution_count": 20,
     "metadata": {},
     "output_type": "execute_result"
    }
   ],
   "source": [
    "# Calculate the 75th percentile (third quartile) for the numeric columns in `city_data` specified by `columns_numeric`\n",
    "# `columns_numeric` is a list of column names containing numeric data (e.g., [\"lat\", \"lng\", \"pop\"])\n",
    "# The `.quantile(0.75)` function computes the 75th percentile for each column\n",
    "quantile_values = city_data[columns_numeric].quantile(0.75)\n",
    "\n",
    "# Display the 75th percentile values for the specified columns\n",
    "quantile_values"
   ]
  },
  {
   "cell_type": "markdown",
   "metadata": {},
   "source": [
    "Get sums of each row:"
   ]
  },
  {
   "cell_type": "code",
   "execution_count": 21,
   "metadata": {},
   "outputs": [
    {
     "data": {
      "text/plain": [
       "0       3.095116e+03\n",
       "1       1.509977e+04\n",
       "2       2.016419e+05\n",
       "3       4.994400e+04\n",
       "4       1.009850e+04\n",
       "            ...     \n",
       "7317    2.167987e+05\n",
       "7318    5.641158e+04\n",
       "7319    3.310841e+05\n",
       "7320    1.557420e+06\n",
       "7321    6.971044e+05\n",
       "Length: 7322, dtype: float64"
      ]
     },
     "execution_count": 21,
     "metadata": {},
     "output_type": "execute_result"
    }
   ],
   "source": [
    "# Calculate the sum of numeric columns in `city_data` specified by `columns_numeric` row-wise (across columns)\n",
    "# `columns_numeric` is a list of column names containing numeric data (e.g., [\"lat\", \"lng\", \"pop\"])\n",
    "# The `.sum(axis=1)` function computes the sum for each row (axis=1 refers to columns)\n",
    "row_sums = city_data[columns_numeric].sum(axis=1)\n",
    "\n",
    "# Display the sum of numeric values for each row\n",
    "row_sums"
   ]
  },
  {
   "cell_type": "markdown",
   "metadata": {},
   "source": [
    "Calculate\n",
    "the most important statistics for numerical data in one go so that we don’t have to use individual functions:"
   ]
  },
  {
   "cell_type": "code",
   "execution_count": 22,
   "metadata": {},
   "outputs": [
    {
     "data": {
      "text/html": [
       "<div>\n",
       "<style scoped>\n",
       "    .dataframe tbody tr th:only-of-type {\n",
       "        vertical-align: middle;\n",
       "    }\n",
       "\n",
       "    .dataframe tbody tr th {\n",
       "        vertical-align: top;\n",
       "    }\n",
       "\n",
       "    .dataframe thead th {\n",
       "        text-align: right;\n",
       "    }\n",
       "</style>\n",
       "<table border=\"1\" class=\"dataframe\">\n",
       "  <thead>\n",
       "    <tr style=\"text-align: right;\">\n",
       "      <th></th>\n",
       "      <th>lat</th>\n",
       "      <th>lng</th>\n",
       "      <th>pop</th>\n",
       "    </tr>\n",
       "  </thead>\n",
       "  <tbody>\n",
       "    <tr>\n",
       "      <th>count</th>\n",
       "      <td>7322.000000</td>\n",
       "      <td>7322.000000</td>\n",
       "      <td>7.322000e+03</td>\n",
       "    </tr>\n",
       "    <tr>\n",
       "      <th>mean</th>\n",
       "      <td>20.662876</td>\n",
       "      <td>10.711914</td>\n",
       "      <td>2.654631e+05</td>\n",
       "    </tr>\n",
       "    <tr>\n",
       "      <th>std</th>\n",
       "      <td>29.134818</td>\n",
       "      <td>79.044615</td>\n",
       "      <td>8.287622e+05</td>\n",
       "    </tr>\n",
       "    <tr>\n",
       "      <th>min</th>\n",
       "      <td>-89.982894</td>\n",
       "      <td>-179.589979</td>\n",
       "      <td>-9.900000e+01</td>\n",
       "    </tr>\n",
       "    <tr>\n",
       "      <th>25%</th>\n",
       "      <td>-0.324710</td>\n",
       "      <td>-64.788472</td>\n",
       "      <td>1.734425e+04</td>\n",
       "    </tr>\n",
       "    <tr>\n",
       "      <th>50%</th>\n",
       "      <td>26.792730</td>\n",
       "      <td>18.617509</td>\n",
       "      <td>6.132275e+04</td>\n",
       "    </tr>\n",
       "    <tr>\n",
       "      <th>75%</th>\n",
       "      <td>43.575448</td>\n",
       "      <td>73.103628</td>\n",
       "      <td>2.001726e+05</td>\n",
       "    </tr>\n",
       "    <tr>\n",
       "      <th>max</th>\n",
       "      <td>82.483323</td>\n",
       "      <td>179.383304</td>\n",
       "      <td>2.200630e+07</td>\n",
       "    </tr>\n",
       "  </tbody>\n",
       "</table>\n",
       "</div>"
      ],
      "text/plain": [
       "               lat          lng           pop\n",
       "count  7322.000000  7322.000000  7.322000e+03\n",
       "mean     20.662876    10.711914  2.654631e+05\n",
       "std      29.134818    79.044615  8.287622e+05\n",
       "min     -89.982894  -179.589979 -9.900000e+01\n",
       "25%      -0.324710   -64.788472  1.734425e+04\n",
       "50%      26.792730    18.617509  6.132275e+04\n",
       "75%      43.575448    73.103628  2.001726e+05\n",
       "max      82.483323   179.383304  2.200630e+07"
      ]
     },
     "execution_count": 22,
     "metadata": {},
     "output_type": "execute_result"
    }
   ],
   "source": [
    "# Generate descriptive statistics for the numeric columns in `city_data` specified by `columns_numeric`\n",
    "# `columns_numeric` is a list of column names containing numeric data (e.g., [\"lat\", \"lng\", \"pop\"])\n",
    "# The `.describe()` function computes summary statistics for each column\n",
    "summary_statistics = city_data[columns_numeric].describe()\n",
    "\n",
    "# Display the summary statistics for the specified columns\n",
    "summary_statistics"
   ]
  },
  {
   "cell_type": "markdown",
   "metadata": {},
   "source": [
    "## Conclusion\n",
    "\n",
    "In this module, you've learned how to:\n",
    "\n",
    "- Convert different data formats to Pandas DataFrames\n",
    "- Access and manipulate data using Pandas\n",
    "- Handle missing data\n",
    "- Perform basic statistical analysis on datasets\n",
    "- Use various Pandas functions for data exploration and manipulation\n",
    "\n",
    "These skills form a foundation for more advanced data analysis and machine learning tasks using Python and Pandas.\n",
    "\n",
    "## Clean up\n",
    "\n",
    "Remember to shut down your Jupyter notebook kernel when you're done to free up resources."
   ]
  }
 ],
 "metadata": {
  "kernelspec": {
   "display_name": "Python (S2_T2)",
   "language": "python",
   "name": "s2_t2"
  },
  "language_info": {
   "codemirror_mode": {
    "name": "ipython",
    "version": 3
   },
   "file_extension": ".py",
   "mimetype": "text/x-python",
   "name": "python",
   "nbconvert_exporter": "python",
   "pygments_lexer": "ipython3",
   "version": "3.10.17"
  }
 },
 "nbformat": 4,
 "nbformat_minor": 4
}
