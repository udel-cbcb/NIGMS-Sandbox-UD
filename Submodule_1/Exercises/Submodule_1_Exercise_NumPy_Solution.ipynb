{
 "cells": [
  {
   "cell_type": "markdown",
   "metadata": {},
   "source": [
    "# NumPy Exercises (Solution)\n",
    "\n",
    "## Overview\n",
    "\n",
    "This notebook covers NumPy arrays, focusing on array attributes, creation, indexing, and other operations.\n",
    "\n",
    "## Learning Objectives\n",
    "\n",
    "- Understand NumPy ndarray attributes\n",
    "- Create arrays using various NumPy functions\n",
    "- Access array elements through basic indexing and slicing\n",
    "- Perform advanced indexing on NumPy arrays\n",
    "- Execute operations on NumPy arrays\n",
    "\n",
    "## Prerequisites\n",
    "\n",
    "- Basic understanding of Python\n",
    "- NumPy library installed"
   ]
  },
  {
   "cell_type": "markdown",
   "metadata": {},
   "source": [
    "## Get Started\n",
    "\n",
    "To begin working with this notebook, import the NumPy library, and create an example array to work with in subsequent exercises."
   ]
  },
  {
   "cell_type": "code",
   "execution_count": null,
   "metadata": {},
   "outputs": [],
   "source": [
    "# Import the numpy library for numerical operations\n",
    "import numpy as np\n",
    "\n",
    "# Create a numpy array containing the values 1 through 6\n",
    "arr = np.array([1, 2, 3, 4, 5, 6])\n",
    "\n",
    "# Display the numpy array\n",
    "arr"
   ]
  },
  {
   "cell_type": "markdown",
   "metadata": {},
   "source": [
    "Then, run through the exercises in each section."
   ]
  },
  {
   "cell_type": "markdown",
   "metadata": {},
   "source": [
    "## NumPy ndarray attributes"
   ]
  },
  {
   "cell_type": "markdown",
   "metadata": {},
   "source": [
    "What is the shape of the array **arr**?"
   ]
  },
  {
   "cell_type": "code",
   "execution_count": null,
   "metadata": {},
   "outputs": [],
   "source": [
    "# The .shape attribute returns a tuple representing the dimensions of the array\n",
    "# For example, a 2D array with 3 rows and 4 columns would return (3, 4)\n",
    "arr.shape"
   ]
  },
  {
   "cell_type": "markdown",
   "metadata": {},
   "source": [
    "What is the type of elements in the array **arr**?"
   ]
  },
  {
   "cell_type": "code",
   "execution_count": null,
   "metadata": {},
   "outputs": [],
   "source": [
    "# The .dtype attribute returns the data type object of the array's elements\n",
    "# Adding .name extracts just the string name of the data type (e.g., 'int32', 'float64')\n",
    "arr.dtype.name"
   ]
  },
  {
   "cell_type": "markdown",
   "metadata": {},
   "source": [
    "## Creating arrays\n",
    "\n",
    "Create a 3 by 3 matrix of integers"
   ]
  },
  {
   "cell_type": "code",
   "execution_count": null,
   "metadata": {},
   "outputs": [],
   "source": [
    "# Create a 2D NumPy array from a list of lists\n",
    "# The input is [[1, 2, 3], [4, 5, 6], [7, 8, 9]], which forms a 3x3 matrix\n",
    "# Each inner list represents a row, resulting in 3 rows and 3 columns\n",
    "arr = np.array([[1, 2, 3], [4, 5, 6], [7, 8, 9]])\n",
    "\n",
    "# The .shape attribute returns a tuple showing the array's dimensions\n",
    "# For this 3x3 array, it will return (3, 3), meaning 3 rows and 3 columns\n",
    "arr.shape"
   ]
  },
  {
   "cell_type": "markdown",
   "metadata": {},
   "source": [
    "Create a 2 by 4 matrix containing only zeros"
   ]
  },
  {
   "cell_type": "code",
   "execution_count": null,
   "metadata": {},
   "outputs": [],
   "source": [
    "# Create a 2D NumPy array filled with zeros\n",
    "# The argument (2, 4) specifies the shape: 2 rows and 4 columns\n",
    "# By default, the data type is float64, so the array contains 0.0 values\n",
    "arr = np.zeros((2, 4))\n",
    "\n",
    "# Display the array in the Jupyter Notebook output\n",
    "# In Jupyter, simply writing 'arr' at the end of a cell shows its contents\n",
    "arr"
   ]
  },
  {
   "cell_type": "markdown",
   "metadata": {},
   "source": [
    "Create a 2 by 4 matrix containing only ones"
   ]
  },
  {
   "cell_type": "code",
   "execution_count": null,
   "metadata": {},
   "outputs": [],
   "source": [
    "# Create a 2D NumPy array filled with ones\n",
    "# The argument (2, 4) specifies the shape: 2 rows and 4 columns\n",
    "# By default, the data type is float64, so the array contains 1.0 values\n",
    "arr = np.ones((2, 4))\n",
    "\n",
    "# Display the array in the Jupyter Notebook output\n",
    "# In Jupyter, simply writing 'arr' at the end of a cell shows its contents\n",
    "arr"
   ]
  },
  {
   "cell_type": "markdown",
   "metadata": {},
   "source": [
    "Create a 3 by 3 identity matrix"
   ]
  },
  {
   "cell_type": "code",
   "execution_count": null,
   "metadata": {},
   "outputs": [],
   "source": [
    "# Creates a 3x3 identity matrix where diagonal elements are 1 and others are 0\n",
    "arr = np.identity(3)\n",
    "\n",
    "# Display the array (in Jupyter notebook or similar environment)\n",
    "# Will output: \n",
    "# array([[1., 0., 0.],\n",
    "#        [0., 1., 0.],\n",
    "#        [0., 0., 1.]])\n",
    "arr"
   ]
  },
  {
   "cell_type": "markdown",
   "metadata": {},
   "source": [
    "Create a 3 by 4 matrix of random numbers"
   ]
  },
  {
   "cell_type": "code",
   "execution_count": null,
   "metadata": {},
   "outputs": [],
   "source": [
    "# Generate a 3x4 array filled with random numbers from a standard normal distribution\n",
    "# (mean = 0, standard deviation = 1)\n",
    "arr = np.random.randn(3, 4)\n",
    "\n",
    "# Display the array\n",
    "arr"
   ]
  },
  {
   "cell_type": "markdown",
   "metadata": {},
   "source": [
    "## Accessing array elements"
   ]
  },
  {
   "cell_type": "markdown",
   "metadata": {},
   "source": [
    "### Basic indexing and slicing"
   ]
  },
  {
   "cell_type": "code",
   "execution_count": null,
   "metadata": {},
   "outputs": [],
   "source": [
    "# Create a 1D array of integers from 0 to 11, then reshape it into a 3D array\n",
    "# with dimensions 2×2×3 (2 layers, each with 2 rows and 3 columns)\n",
    "arr = np.arange(12).reshape(2, 2, 3)\n",
    "\n",
    "# Display the array\n",
    "# Will output:\n",
    "# array([[[ 0,  1,  2],    # Layer 0, Row 0\n",
    "#         [ 3,  4,  5]],   # Layer 0, Row 1\n",
    "#        [[ 6,  7,  8],    # Layer 1, Row 0\n",
    "#         [ 9, 10, 11]]])  # Layer 1, Row 1\n",
    "arr"
   ]
  },
  {
   "cell_type": "markdown",
   "metadata": {},
   "source": [
    "What is the first slice of the array **arr**?"
   ]
  },
  {
   "cell_type": "code",
   "execution_count": null,
   "metadata": {},
   "outputs": [],
   "source": [
    "# Access the first layer (index 0) of the 3D array\n",
    "# Since arr has shape (2, 2, 3), this returns a 2×3 2D array\n",
    "arr[0]"
   ]
  },
  {
   "cell_type": "code",
   "execution_count": null,
   "metadata": {},
   "outputs": [],
   "source": [
    "# Create a 1D array containing integers from 0 to 9 (10 elements total)\n",
    "# np.arange(10) generates a sequence starting at 0, stopping before 10\n",
    "arr = np.arange(10)\n",
    "\n",
    "# Display the array\n",
    "# Will output:\n",
    "# array([0, 1, 2, 3, 4, 5, 6, 7, 8, 9])\n",
    "arr"
   ]
  },
  {
   "cell_type": "markdown",
   "metadata": {},
   "source": [
    "What are the first five elements of the array **arr**?"
   ]
  },
  {
   "cell_type": "code",
   "execution_count": null,
   "metadata": {},
   "outputs": [],
   "source": [
    "# Slice the array to get elements from the start (index 0) up to (but not including) index 5\n",
    "# Returns a 1D array with the first 5 elements\n",
    "arr[:5]\n",
    "\n",
    "# Will output:\n",
    "# array([0, 1, 2, 3, 4])"
   ]
  },
  {
   "cell_type": "markdown",
   "metadata": {},
   "source": [
    "What are the last five elements of the array **arr**?"
   ]
  },
  {
   "cell_type": "code",
   "execution_count": null,
   "metadata": {},
   "outputs": [],
   "source": [
    "# Slice the array to get the last 5 elements\n",
    "# -5 counts from the end backward, and : extends to the end of the array\n",
    "arr[-5:]\n",
    "\n",
    "# Will output:\n",
    "# array([5, 6, 7, 8, 9])"
   ]
  },
  {
   "cell_type": "markdown",
   "metadata": {},
   "source": [
    "What are the 3rd through 6th elements of the array **arr**?"
   ]
  },
  {
   "cell_type": "code",
   "execution_count": null,
   "metadata": {},
   "outputs": [],
   "source": [
    "# Slice the array from index 2 up to (but not including) index 6\n",
    "# Returns a 1D array with elements at positions 2, 3, 4, and 5\n",
    "arr[2:6]\n",
    "\n",
    "# Will output:\n",
    "# array([2, 3, 4, 5])"
   ]
  },
  {
   "cell_type": "code",
   "execution_count": null,
   "metadata": {},
   "outputs": [],
   "source": [
    "# Create a 1D array of integers from 0 to 26, then reshape it into a 3×3×3 3D array\n",
    "# (3 layers, each with 3 rows and 3 columns, making a 3D cube of 27 elements)\n",
    "arr = np.arange(27).reshape(3, 3, 3)\n",
    "\n",
    "# Display the array\n",
    "# Will output:\n",
    "# array([[[ 0,  1,  2],    # Layer 0, Row 0\n",
    "#         [ 3,  4,  5],    # Layer 0, Row 1\n",
    "#         [ 6,  7,  8]],   # Layer 0, Row 2\n",
    "#        [[ 9, 10, 11],    # Layer 1, Row 0\n",
    "#         [12, 13, 14],    # Layer 1, Row 1\n",
    "#         [15, 16, 17]],   # Layer 1, Row 2\n",
    "#        [[18, 19, 20],    # Layer 2, Row 0\n",
    "#         [21, 22, 23],    # Layer 2, Row 1\n",
    "#         [24, 25, 26]]])  # Layer 2, Row 2\n",
    "arr"
   ]
  },
  {
   "cell_type": "markdown",
   "metadata": {},
   "source": [
    "How do you access the third column of the array **arr**?"
   ]
  },
  {
   "cell_type": "code",
   "execution_count": null,
   "metadata": {},
   "outputs": [],
   "source": [
    "# Select all elements from the first two dimensions (layers and rows),\n",
    "# and only the third column (index 2) from the last dimension\n",
    "# Returns a 3×3 2D array containing the third column of each layer\n",
    "arr[:, :, 2]\n",
    "\n",
    "# Alternative syntax using ellipsis (...) to represent all preceding dimensions,\n",
    "# selecting the third column (index 2) from the last dimension\n",
    "# Also returns a 3×3 2D array, identical to the above\n",
    "arr[..., 2]\n",
    "\n",
    "# Both will output:\n",
    "# array([[ 2,  5,  8],    # Third column from Layer 0\n",
    "#        [11, 14, 17],    # Third column from Layer 1\n",
    "#        [20, 23, 26]])   # Third column from Layer 2"
   ]
  },
  {
   "cell_type": "markdown",
   "metadata": {},
   "source": [
    "### Advanced indexing"
   ]
  },
  {
   "cell_type": "code",
   "execution_count": null,
   "metadata": {},
   "outputs": [],
   "source": [
    "# Create a 1D array with values from 0 to 8\n",
    "arr = np.arange(9)  \n",
    "\n",
    "# Reshape the 1D array into a 3x3 matrix\n",
    "arr = arr.reshape(3, 3)  \n",
    "\n",
    "# Display the resulting 3x3 array\n",
    "arr  "
   ]
  },
  {
   "cell_type": "markdown",
   "metadata": {},
   "source": [
    "How do you get a new array consists of the element in the first row, second column, and second row, first column?"
   ]
  },
  {
   "cell_type": "code",
   "execution_count": null,
   "metadata": {},
   "outputs": [],
   "source": [
    "# Accessing specific elements in a 2D NumPy array using advanced indexing\n",
    "# arr[[0, 1], [1, 0]] selects elements at the following positions:\n",
    "# - First row, second column (row 0, column 1)\n",
    "# - Second row, first column (row 1, column 0)\n",
    "arr[[0, 1], [1, 0]]"
   ]
  },
  {
   "cell_type": "code",
   "execution_count": null,
   "metadata": {},
   "outputs": [],
   "source": [
    "# Create a NumPy array containing the names of three cities\n",
    "cities = np.array([\"Newark\", \"Wilmington\", \"Dover\"])\n",
    "\n",
    "# Generate a 3x4 array of random numbers sampled from a standard normal distribution (mean=0, std=1)\n",
    "# This array represents some data associated with the cities (e.g., measurements, statistics, etc.)\n",
    "city_data = np.random.randn(3, 4)\n",
    "\n",
    "# Display the generated city data\n",
    "city_data"
   ]
  },
  {
   "cell_type": "markdown",
   "metadata": {},
   "source": [
    "How do you access city_data for Wilmington?"
   ]
  },
  {
   "cell_type": "code",
   "execution_count": null,
   "metadata": {},
   "outputs": [],
   "source": [
    "# Filter the `city_data` array to retrieve the row(s) corresponding to the city \"Wilmington\"\n",
    "# `cities == \"Wilmington\"` creates a boolean array where the condition is True for \"Wilmington\" and False otherwise\n",
    "# This boolean array is used to index `city_data`, returning the row(s) where the condition is True\n",
    "city_data[cities == \"Wilmington\"]"
   ]
  },
  {
   "cell_type": "markdown",
   "metadata": {},
   "source": [
    "How do you access positive elements in city_data?"
   ]
  },
  {
   "cell_type": "code",
   "execution_count": null,
   "metadata": {},
   "outputs": [],
   "source": [
    "# Filter the `city_data` array to retrieve all elements that are greater than 0\n",
    "# `city_data > 0` creates a boolean array of the same shape as `city_data`, where each element is:\n",
    "# - True if the corresponding element in `city_data` is greater than 0\n",
    "# - False otherwise\n",
    "# The boolean array is used to index `city_data`, returning a flattened array of elements that satisfy the condition\n",
    "city_data[city_data > 0]"
   ]
  },
  {
   "cell_type": "markdown",
   "metadata": {},
   "source": [
    "How do you replace negative elements in city_data with 0?"
   ]
  },
  {
   "cell_type": "code",
   "execution_count": null,
   "metadata": {},
   "outputs": [],
   "source": [
    "# Replace all elements in `city_data` that are less than 0 with 0\n",
    "# `city_data < 0` creates a boolean array of the same shape as `city_data`, where each element is:\n",
    "# - True if the corresponding element in `city_data` is less than 0\n",
    "# - False otherwise\n",
    "# The boolean array is used to index `city_data`, and all elements satisfying the condition are set to 0\n",
    "city_data[city_data < 0] = 0\n",
    "\n",
    "# Display the modified `city_data` array\n",
    "city_data"
   ]
  },
  {
   "cell_type": "markdown",
   "metadata": {},
   "source": [
    "## Operations on arrays"
   ]
  },
  {
   "cell_type": "code",
   "execution_count": null,
   "metadata": {},
   "outputs": [],
   "source": [
    "# Create a 1D array with values ranging from 0 to 14 (15 elements)\n",
    "arr = np.arange(15)\n",
    "\n",
    "# Reshape the 1D array into a 2D array with 3 rows and 5 columns\n",
    "arr = arr.reshape(3, 5)\n",
    "\n",
    "# Display the reshaped array\n",
    "arr"
   ]
  },
  {
   "cell_type": "markdown",
   "metadata": {},
   "source": [
    "How do you double all the elements in the array **arr**?"
   ]
  },
  {
   "cell_type": "code",
   "execution_count": null,
   "metadata": {},
   "outputs": [],
   "source": [
    "# Multiply every element in the array `arr` by 2\n",
    "# This operation is performed element-wise, meaning each value in the array is multiplied by 2\n",
    "arr * 2"
   ]
  },
  {
   "cell_type": "code",
   "execution_count": null,
   "metadata": {},
   "outputs": [],
   "source": [
    "# Create a 3x3 NumPy array `A` with the following values:\n",
    "# [[1, 2, 3],\n",
    "#  [4, 5, 6],\n",
    "#  [7, 8, 9]]\n",
    "A = np.array([[1, 2, 3], [4, 5, 6], [7, 8, 9]])\n",
    "\n",
    "# Create another 3x3 NumPy array `B` with the following values:\n",
    "# [[9, 8, 7],\n",
    "#  [6, 5, 4],\n",
    "#  [3, 2, 1]]\n",
    "B = np.array([[9, 8, 7], [6, 5, 4], [3, 2, 1]])"
   ]
  },
  {
   "cell_type": "markdown",
   "metadata": {},
   "source": [
    "What are the dot product of matrix **A** and **B**?"
   ]
  },
  {
   "cell_type": "code",
   "execution_count": null,
   "metadata": {},
   "outputs": [],
   "source": [
    "# Perform matrix multiplication between arrays `A` and `B` using the `dot` method\n",
    "# Matrix multiplication is not element-wise; it computes the dot product of rows of `A` with columns of `B`\n",
    "result = A.dot(B)\n",
    "\n",
    "# Display the resulting matrix\n",
    "result"
   ]
  },
  {
   "cell_type": "code",
   "execution_count": null,
   "metadata": {},
   "outputs": [],
   "source": [
    "# Create a 1D array with values ranging from 0 to 14 (15 elements)\n",
    "A = np.arange(15)\n",
    "\n",
    "# Reshape the 1D array into a 2D array with 3 rows and 5 columns\n",
    "A = A.reshape(3, 5)\n",
    "\n",
    "# Display the reshaped array\n",
    "A"
   ]
  },
  {
   "cell_type": "markdown",
   "metadata": {},
   "source": [
    "How do you get the transpose of the matrix **A**?"
   ]
  },
  {
   "cell_type": "code",
   "execution_count": null,
   "metadata": {},
   "outputs": [],
   "source": [
    "# Compute the transpose of the array `A`\n",
    "# The transpose of a matrix swaps its rows and columns\n",
    "A_transpose = A.T\n",
    "\n",
    "# Display the transposed array\n",
    "A_transpose"
   ]
  },
  {
   "cell_type": "markdown",
   "metadata": {},
   "source": [
    "How do you calculate the Singular Value Decomposition of matrix **A**? (Hint: *linalg.svd*)"
   ]
  },
  {
   "cell_type": "code",
   "execution_count": null,
   "metadata": {},
   "outputs": [],
   "source": [
    "# Perform Singular Value Decomposition (SVD) on the matrix `A`\n",
    "# SVD decomposes a matrix into three matrices: U, Sigma, and Vt\n",
    "# A = U @ Sigma @ Vt\n",
    "U, Sigma, Vt = np.linalg.svd(A)\n",
    "\n",
    "# Display the results\n",
    "U, Sigma, Vt"
   ]
  },
  {
   "cell_type": "markdown",
   "metadata": {},
   "source": [
    "## Conclusion\n",
    "\n",
    "In this exercise, you've learned how to:\n",
    "\n",
    "- Examine NumPy array attributes like shape and data type\n",
    "- Create arrays using functions such as `np.array()`, `np.zeros()`, `np.ones()`, `np.identity()`, and `np.random.randn()`\n",
    "- Access array elements using basic indexing, slicing, and advanced indexing techniques\n",
    "- Perform operations on arrays, including element-wise operations, matrix multiplication, and linear algebra operations like Singular Value Decomposition\n",
    "- These skills form the foundation for more advanced data manipulation and analysis using NumPy.\n",
    "\n",
    "## Clean up\n",
    "\n",
    "Remember to shut down your Jupyter notebook when you're finished to free up resources."
   ]
  }
 ],
 "metadata": {
  "kernelspec": {
   "display_name": "Python 3 (ipykernel)",
   "language": "python",
   "name": "python3"
  },
  "language_info": {
   "codemirror_mode": {
    "name": "ipython",
    "version": 3
   },
   "file_extension": ".py",
   "mimetype": "text/x-python",
   "name": "python",
   "nbconvert_exporter": "python",
   "pygments_lexer": "ipython3",
   "version": "3.9.11"
  }
 },
 "nbformat": 4,
 "nbformat_minor": 4
}
