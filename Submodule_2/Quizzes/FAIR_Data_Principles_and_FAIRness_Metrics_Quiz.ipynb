{
 "cells": [
  {
   "cell_type": "code",
   "execution_count": null,
   "metadata": {},
   "outputs": [],
   "source": [
    "from jupyterquiz import display_quiz\n",
    "display_quiz(\"FAIR_Data_Principles_and_FAIRness_Metrics_Quiz.json\")"
   ]
  }
 ],
 "metadata": {},
 "nbformat": 4,
 "nbformat_minor": 2
}
