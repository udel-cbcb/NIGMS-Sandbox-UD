{
 "cells": [
  {
   "cell_type": "markdown",
   "id": "19a354d9-27d8-4ff1-8b66-91fd2b93fb02",
   "metadata": {},
   "source": [
    "# Feature Engineering: Derive New Input Variables\n",
    "\n",
    "Apdated from Jason Brownlee. 2020. [Data Preparation for Machine Learning](https://machinelearningmastery.com/data-preparation-for-machine-learning/).\n",
    "\n",
    "## Overview\n",
    "\n",
    "This module covers polynomial feature engineering for predictive modeling tasks. We explore how to create new features by transforming existing input variables using polynomial combinations and interactions between features.\n",
    "\n",
    "## Learning Objectives\n",
    "\n",
    "- Learn how machine learning algorithms perform with polynomial input features\n",
    "- Understand how to use polynomial features transform to create new versions of input variables\n",
    "- Examine how the degree of polynomial impacts the number of input features created\n",
    "- Apply polynomial feature transformation to real datasets\n",
    "\n",
    "### Tasks to complete\n",
    "\n",
    "- Implement polynomial feature transforms\n",
    "- Evaluate model performance with different polynomial degrees\n",
    "- Compare results across transformations\n",
    "- Create visualizations of feature relationships\n",
    "\n",
    "## Prerequisites\n",
    "\n",
    "- Python 3.x environment\n",
    "- Basic understanding of Python programming\n",
    "- Basic understanding of machine learning concepts\n",
    "- Familiarity with NumPy and scikit-learn libraries\n",
    "\n",
    "## Get Started\n",
    "\n",
    "Setup steps:\n",
    "\n",
    "- Install required Python packages:\n",
    "  - numpy\n",
    "  - pandas\n",
    "  - scikit-learn\n",
    "  - matplotlib"
   ]
  },
  {
   "cell_type": "markdown",
   "id": "bc7a842d-db96-4ddd-a04f-98dbbef96987",
   "metadata": {},
   "source": [
    "### Install required packages"
   ]
  },
  {
   "cell_type": "code",
   "execution_count": 19,
   "id": "2654f4aa-7474-43a3-81cd-3e3d79046ad6",
   "metadata": {},
   "outputs": [
    {
     "name": "stdout",
     "output_type": "stream",
     "text": [
      "Requirement already satisfied: matplotlib in /Users/chenc/miniconda3/lib/python3.9/site-packages (3.7.1)\n",
      "Requirement already satisfied: contourpy>=1.0.1 in /Users/chenc/miniconda3/lib/python3.9/site-packages (from matplotlib) (1.1.0)\n",
      "Requirement already satisfied: cycler>=0.10 in /Users/chenc/miniconda3/lib/python3.9/site-packages (from matplotlib) (0.11.0)\n",
      "Requirement already satisfied: fonttools>=4.22.0 in /Users/chenc/miniconda3/lib/python3.9/site-packages (from matplotlib) (4.40.0)\n",
      "Requirement already satisfied: kiwisolver>=1.0.1 in /Users/chenc/miniconda3/lib/python3.9/site-packages (from matplotlib) (1.4.4)\n",
      "Requirement already satisfied: numpy>=1.20 in /Users/chenc/miniconda3/lib/python3.9/site-packages (from matplotlib) (1.26.4)\n",
      "Requirement already satisfied: packaging>=20.0 in /Users/chenc/miniconda3/lib/python3.9/site-packages (from matplotlib) (23.1)\n",
      "Requirement already satisfied: pillow>=6.2.0 in /Users/chenc/miniconda3/lib/python3.9/site-packages (from matplotlib) (9.5.0)\n",
      "Requirement already satisfied: pyparsing>=2.3.1 in /Users/chenc/miniconda3/lib/python3.9/site-packages (from matplotlib) (3.1.1)\n",
      "Requirement already satisfied: python-dateutil>=2.7 in /Users/chenc/miniconda3/lib/python3.9/site-packages (from matplotlib) (2.8.2)\n",
      "Requirement already satisfied: importlib-resources>=3.2.0 in /Users/chenc/miniconda3/lib/python3.9/site-packages (from matplotlib) (6.1.0)\n",
      "Requirement already satisfied: zipp>=3.1.0 in /Users/chenc/miniconda3/lib/python3.9/site-packages (from importlib-resources>=3.2.0->matplotlib) (3.17.0)\n",
      "Requirement already satisfied: six>=1.5 in /Users/chenc/miniconda3/lib/python3.9/site-packages (from python-dateutil>=2.7->matplotlib) (1.16.0)\n",
      "Note: you may need to restart the kernel to use updated packages.\n",
      "Requirement already satisfied: numpy in /Users/chenc/miniconda3/lib/python3.9/site-packages (1.26.4)\n",
      "Note: you may need to restart the kernel to use updated packages.\n",
      "Requirement already satisfied: pandas in /Users/chenc/miniconda3/lib/python3.9/site-packages (2.0.2)\n",
      "Requirement already satisfied: python-dateutil>=2.8.2 in /Users/chenc/miniconda3/lib/python3.9/site-packages (from pandas) (2.8.2)\n",
      "Requirement already satisfied: pytz>=2020.1 in /Users/chenc/miniconda3/lib/python3.9/site-packages (from pandas) (2022.1)\n",
      "Requirement already satisfied: tzdata>=2022.1 in /Users/chenc/miniconda3/lib/python3.9/site-packages (from pandas) (2023.3)\n",
      "Requirement already satisfied: numpy>=1.20.3 in /Users/chenc/miniconda3/lib/python3.9/site-packages (from pandas) (1.26.4)\n",
      "Requirement already satisfied: six>=1.5 in /Users/chenc/miniconda3/lib/python3.9/site-packages (from python-dateutil>=2.8.2->pandas) (1.16.0)\n",
      "Note: you may need to restart the kernel to use updated packages.\n",
      "Requirement already satisfied: scikit-learn in /Users/chenc/miniconda3/lib/python3.9/site-packages (1.3.2)\n",
      "Requirement already satisfied: numpy<2.0,>=1.17.3 in /Users/chenc/miniconda3/lib/python3.9/site-packages (from scikit-learn) (1.26.4)\n",
      "Requirement already satisfied: scipy>=1.5.0 in /Users/chenc/miniconda3/lib/python3.9/site-packages (from scikit-learn) (1.11.4)\n",
      "Requirement already satisfied: joblib>=1.1.1 in /Users/chenc/miniconda3/lib/python3.9/site-packages (from scikit-learn) (1.3.2)\n",
      "Requirement already satisfied: threadpoolctl>=2.0.0 in /Users/chenc/miniconda3/lib/python3.9/site-packages (from scikit-learn) (3.1.0)\n",
      "Note: you may need to restart the kernel to use updated packages.\n"
     ]
    }
   ],
   "source": [
    "# Installs matplotlib, a comprehensive library for creating static, interactive, and animated visualizations in Python.\n",
    "%pip install matplotlib\n",
    "# Installs numpy, the fundamental package for numerical computation in Python, providing support for large, multi-dimensional arrays and matrices, along with a large collection of high-level mathematical functions to operate on these arrays.\n",
    "%pip install numpy\n",
    "# Installs pandas, a powerful data manipulation and analysis library, offering data structures like DataFrames for efficiently handling and analyzing structured data.\n",
    "%pip install pandas\n",
    "# Installs scikit-learn, a popular machine learning library providing simple and efficient tools for data mining and data analysis, built on NumPy, SciPy, and matplotlib, featuring various classification, regression and clustering algorithms.\n",
    "%pip install scikit-learn"
   ]
  },
  {
   "cell_type": "markdown",
   "id": "9fa004d3-abda-42fe-bb97-aca838130a5f",
   "metadata": {},
   "source": [
    "### Import necessary libraries"
   ]
  },
  {
   "cell_type": "code",
   "execution_count": 20,
   "id": "cfa68b1a-676b-4fbf-ab21-3c32e191c356",
   "metadata": {},
   "outputs": [],
   "source": [
    "# Import the warnings module to handle warning messages during execution.\n",
    "import warnings\n",
    "# Import the Path class from the pathlib module for working with file paths in an object-oriented way.\n",
    "from pathlib import Path\n",
    "\n",
    "# Import the pyplot module from matplotlib for plotting graphs and visualizations.\n",
    "from matplotlib import pyplot as plt\n",
    "# Import the asarray, mean, and std functions from the numpy library for numerical operations, specifically array conversion, mean, and standard deviation calculations.\n",
    "from numpy import asarray, mean, std\n",
    "# Import the DataFrame and read_csv classes from the pandas library for data manipulation and reading CSV files.\n",
    "from pandas import DataFrame, read_csv\n",
    "# Import the RepeatedStratifiedKFold and cross_val_score classes from sklearn.model_selection for model evaluation using repeated stratified k-fold cross-validation.\n",
    "from sklearn.model_selection import RepeatedStratifiedKFold, cross_val_score\n",
    "# Import the KNeighborsClassifier class from sklearn.neighbors for using the K-Nearest Neighbors classification algorithm.\n",
    "from sklearn.neighbors import KNeighborsClassifier\n",
    "# Import the Pipeline class from sklearn.pipeline to construct composite estimators.\n",
    "from sklearn.pipeline import Pipeline\n",
    "# Import the LabelEncoder and PolynomialFeatures classes from sklearn.preprocessing for data preprocessing tasks like encoding labels and generating polynomial features.\n",
    "from sklearn.preprocessing import LabelEncoder, PolynomialFeatures"
   ]
  },
  {
   "cell_type": "markdown",
   "id": "1545feec-b54e-498c-a26d-332cb6402f62",
   "metadata": {},
   "source": [
    "## Polynomial Features\n",
    "\n",
    "Polynomial features are those features created by raising existing features to an exponent. For\n",
    "example, if a dataset had one input feature X, then a polynomial feature would be the addition\n",
    "of a new feature (column) where values were calculated by squaring the values in X, e.g. $X^2$.\n",
    "This process can be repeated for each input variable in the dataset, creating a transformed\n",
    "version of each. As such, polynomial features are a type of feature engineering, e.g. the creation\n",
    "of new input features based on the existing features. The degree of the polynomial is used to\n",
    "control the number of features added, e.g. a degree of 3 will add two new variables for each\n",
    "input variable. Typically a small degree is used such as 2 or 3.\n",
    "\n",
    "It is also common to add new variables that represent the interaction between features, e.g. \n",
    "a new column that represents one variable multiplied by another. This too can be repeated\n",
    "for each input variable creating a new interaction variable for each pair of input variables. A\n",
    "squared or cubed version of an input variable will change the probability distribution, separating\n",
    "the small and large values, a separation that is increased with the size of the exponent.\n",
    "\n",
    "This separation can help some machine learning algorithms make better predictions and is\n",
    "common for regression predictive modeling tasks and generally tasks that have numerical input\n",
    "variables. Typically linear algorithms, such as linear regression and logistic regression, respond\n",
    "well to the use of polynomial input variables.\n",
    "\n",
    "## Polynomial Feature Transform\n",
    "\n",
    "The polynomial features transform is available in the scikit-learn Python machine learning\n",
    "library via the `PolynomialFeatures` class.\n",
    "\n",
    "It generates a new feature matrix consisting of all polynomial combinations of the features with degree less than or equal to the specified degree. For example, if an input sample is two dimensional and of the form [a, b], the degree-2 polynomial features are [1, a, b, a^2, ab, b^2]."
   ]
  },
  {
   "cell_type": "code",
   "execution_count": 21,
   "id": "19fe5fa1-ed9f-40b0-88dd-8a27a76d1010",
   "metadata": {},
   "outputs": [
    {
     "name": "stdout",
     "output_type": "stream",
     "text": [
      "Original Data:\n",
      "[[2 3]\n",
      " [2 3]\n",
      " [2 3]]\n",
      "\n",
      "Polynomial Features (Degree=2):\n",
      "[[1. 2. 3. 4. 6. 9.]\n",
      " [1. 2. 3. 4. 6. 9.]\n",
      " [1. 2. 3. 4. 6. 9.]]\n"
     ]
    }
   ],
   "source": [
    "# Demonstrate the types of polynomial features created\n",
    "# Import the asarray function from the numpy library to create arrays.\n",
    "from numpy import asarray\n",
    "# Import the PolynomialFeatures class from sklearn.preprocessing to generate polynomial features.\n",
    "from sklearn.preprocessing import PolynomialFeatures\n",
    "\n",
    "# Define the dataset as a numpy array with shape (3, 2).\n",
    "data = asarray([[2, 3], [2, 3], [2, 3]])\n",
    "# Print the original dataset to the console.\n",
    "print(\"Original Data:\")\n",
    "# Print the 'data' numpy array.\n",
    "print(data)\n",
    "\n",
    "# Create a PolynomialFeatures object, setting the degree of the polynomial to 2.\n",
    "trans = PolynomialFeatures(degree=2)\n",
    "# Fit the PolynomialFeatures transformer to the 'data' and then transform 'data' into polynomial features.\n",
    "data = trans.fit_transform(data)\n",
    "# Print a newline character and a message indicating the polynomial features are of degree 2.\n",
    "print(\"\\nPolynomial Features (Degree=2):\")\n",
    "# Print the 'data' array after the polynomial feature transformation.\n",
    "print(data)"
   ]
  },
  {
   "cell_type": "markdown",
   "id": "a65296e9-936b-4d6d-9eb4-c95589e9ae9f",
   "metadata": {},
   "source": [
    "Running the example first reports the raw data with two features (columns) and each feature\n",
    "has the same value, either 2 or 3. Then the polynomial features are created, resulting in six\n",
    "features, matching what was described above.\n",
    "\n",
    "The *degree* argument controls the number of features created and defaults to 2. The\n",
    "*interaction_only* argument means that only the raw values (degree 1) and the interaction\n",
    "(pairs of values multiplied with each other) are included, defaulting to False. The *include_bias*\n",
    "argument defaults to True to include the bias feature."
   ]
  },
  {
   "cell_type": "markdown",
   "id": "7916414c-66fe-4945-a6a9-01fd5fe15c69",
   "metadata": {},
   "source": [
    "## Wisconsin Breast Cancer Dataset\n",
    "\n",
    "The Wisconsin Breast Cancer Dataset (WBCD) is a widely used dataset for breast cancer diagnosis. It contains features computed from digitized images of fine needle aspirate (FNA) of breast masses, which describe characteristics of cell nuclei.\n",
    "\n",
    "### **Dataset Information:**\n",
    "- **Number of Instances:** 569\n",
    "- **Number of Features:** 30 (excluding the ID column)\n",
    "- **Target Variable:** Diagnosis (Malignant or Benign)\n",
    "\n",
    "### **Feature Description:**\n",
    "Each instance in the dataset has 30 real-valued features extracted from images of cell nuclei, including:\n",
    "- Radius (mean of distances from center to points on the perimeter)\n",
    "- Texture (standard deviation of gray-scale values)\n",
    "- Perimeter\n",
    "- Area\n",
    "- Smoothness\n",
    "- Compactness\n",
    "- Concavity\n",
    "- Concave points\n",
    "- Symmetry\n",
    "- Fractal dimension\n",
    "\n",
    "### **Insights:**\n",
    "- Features such as **concavity, concave points, and radius** tend to have higher importance in distinguishing malignant from benign tumors.\n",
    "- **Malignant tumors** generally have higher values in most of these features compared to benign ones.\n",
    "- The dataset is commonly used in machine learning models for binary classification.\n",
    "\n",
    "### **Source:**\n",
    "This dataset is available from the UCI Machine Learning Repository: [Wisconsin Breast Cancer Dataset](https://archive.ics.uci.edu/ml/datasets/Breast+Cancer+Wisconsin+%28Diagnostic%29).\n",
    "\n",
    "\n",
    "The **Wisconsin Breast Cancer Dataset** is crucial for predictive modeling in medical research. It provides meaningful insights into breast cancer diagnosis and is often used for testing machine learning algorithms like Support Vector Machines, Random Forest, and Neural Networks.\n",
    "\n",
    "Further analysis could involve feature selection techniques and hyperparameter tuning to optimize classification performance."
   ]
  },
  {
   "cell_type": "markdown",
   "id": "205a56bb-af79-44a8-ad9a-00dadd407a1b",
   "metadata": {},
   "source": [
    "### Loading data and summarizing the variables"
   ]
  },
  {
   "cell_type": "code",
   "execution_count": 22,
   "id": "ccb96eaf-d2f9-442e-8fb6-441088ef5ce4",
   "metadata": {},
   "outputs": [
    {
     "name": "stdout",
     "output_type": "stream",
     "text": [
      "\n",
      "First 5 rows:\n",
      "         id diagnosis  radius_mean  texture_mean  perimeter_mean  area_mean  \\\n",
      "0    842302         M        17.99         10.38          122.80     1001.0   \n",
      "1    842517         M        20.57         17.77          132.90     1326.0   \n",
      "2  84300903         M        19.69         21.25          130.00     1203.0   \n",
      "3  84348301         M        11.42         20.38           77.58      386.1   \n",
      "4  84358402         M        20.29         14.34          135.10     1297.0   \n",
      "\n",
      "   smoothness_mean  compactness_mean  concavity_mean  concave_points_mean  \\\n",
      "0          0.11840           0.27760          0.3001              0.14710   \n",
      "1          0.08474           0.07864          0.0869              0.07017   \n",
      "2          0.10960           0.15990          0.1974              0.12790   \n",
      "3          0.14250           0.28390          0.2414              0.10520   \n",
      "4          0.10030           0.13280          0.1980              0.10430   \n",
      "\n",
      "   ...  radius_worst  texture_worst  perimeter_worst  area_worst  \\\n",
      "0  ...         25.38          17.33           184.60      2019.0   \n",
      "1  ...         24.99          23.41           158.80      1956.0   \n",
      "2  ...         23.57          25.53           152.50      1709.0   \n",
      "3  ...         14.91          26.50            98.87       567.7   \n",
      "4  ...         22.54          16.67           152.20      1575.0   \n",
      "\n",
      "   smoothness_worst  compactness_worst  concavity_worst  concave_points_worst  \\\n",
      "0            0.1622             0.6656           0.7119                0.2654   \n",
      "1            0.1238             0.1866           0.2416                0.1860   \n",
      "2            0.1444             0.4245           0.4504                0.2430   \n",
      "3            0.2098             0.8663           0.6869                0.2575   \n",
      "4            0.1374             0.2050           0.4000                0.1625   \n",
      "\n",
      "   symmetry_worst  fractal_dimension_worst  \n",
      "0          0.4601                  0.11890  \n",
      "1          0.2750                  0.08902  \n",
      "2          0.3613                  0.08758  \n",
      "3          0.6638                  0.17300  \n",
      "4          0.2364                  0.07678  \n",
      "\n",
      "[5 rows x 32 columns]\n",
      "\n",
      "Dataset Shape: (569, 32)\n",
      "\n",
      "Summary Statistics:\n",
      "                 id  radius_mean  texture_mean  perimeter_mean    area_mean  \\\n",
      "count  5.690000e+02   569.000000    569.000000      569.000000   569.000000   \n",
      "mean   3.037183e+07    14.127292     19.289649       91.969033   654.889104   \n",
      "std    1.250206e+08     3.524049      4.301036       24.298981   351.914129   \n",
      "min    8.670000e+03     6.981000      9.710000       43.790000   143.500000   \n",
      "25%    8.692180e+05    11.700000     16.170000       75.170000   420.300000   \n",
      "50%    9.060240e+05    13.370000     18.840000       86.240000   551.100000   \n",
      "75%    8.813129e+06    15.780000     21.800000      104.100000   782.700000   \n",
      "max    9.113205e+08    28.110000     39.280000      188.500000  2501.000000   \n",
      "\n",
      "       smoothness_mean  compactness_mean  concavity_mean  concave_points_mean  \\\n",
      "count       569.000000        569.000000      569.000000           569.000000   \n",
      "mean          0.096360          0.104341        0.088799             0.048919   \n",
      "std           0.014064          0.052813        0.079720             0.038803   \n",
      "min           0.052630          0.019380        0.000000             0.000000   \n",
      "25%           0.086370          0.064920        0.029560             0.020310   \n",
      "50%           0.095870          0.092630        0.061540             0.033500   \n",
      "75%           0.105300          0.130400        0.130700             0.074000   \n",
      "max           0.163400          0.345400        0.426800             0.201200   \n",
      "\n",
      "       symmetry_mean  ...  radius_worst  texture_worst  perimeter_worst  \\\n",
      "count     569.000000  ...    569.000000     569.000000       569.000000   \n",
      "mean        0.181162  ...     16.269190      25.677223       107.261213   \n",
      "std         0.027414  ...      4.833242       6.146258        33.602542   \n",
      "min         0.106000  ...      7.930000      12.020000        50.410000   \n",
      "25%         0.161900  ...     13.010000      21.080000        84.110000   \n",
      "50%         0.179200  ...     14.970000      25.410000        97.660000   \n",
      "75%         0.195700  ...     18.790000      29.720000       125.400000   \n",
      "max         0.304000  ...     36.040000      49.540000       251.200000   \n",
      "\n",
      "        area_worst  smoothness_worst  compactness_worst  concavity_worst  \\\n",
      "count   569.000000        569.000000         569.000000       569.000000   \n",
      "mean    880.583128          0.132369           0.254265         0.272188   \n",
      "std     569.356993          0.022832           0.157336         0.208624   \n",
      "min     185.200000          0.071170           0.027290         0.000000   \n",
      "25%     515.300000          0.116600           0.147200         0.114500   \n",
      "50%     686.500000          0.131300           0.211900         0.226700   \n",
      "75%    1084.000000          0.146000           0.339100         0.382900   \n",
      "max    4254.000000          0.222600           1.058000         1.252000   \n",
      "\n",
      "       concave_points_worst  symmetry_worst  fractal_dimension_worst  \n",
      "count            569.000000      569.000000               569.000000  \n",
      "mean               0.114606        0.290076                 0.083946  \n",
      "std                0.065732        0.061867                 0.018061  \n",
      "min                0.000000        0.156500                 0.055040  \n",
      "25%                0.064930        0.250400                 0.071460  \n",
      "50%                0.099930        0.282200                 0.080040  \n",
      "75%                0.161400        0.317900                 0.092080  \n",
      "max                0.291000        0.663800                 0.207500  \n",
      "\n",
      "[8 rows x 31 columns]\n"
     ]
    }
   ],
   "source": [
    "# Load the Wisconsin Breast Cancer Dataset from ../../Data\n",
    "# Defines the file path to the Wisconsin Breast Cancer dataset.\n",
    "data_path = \"../../Data/wdbc.data\"\n",
    "\n",
    "# Load and summarize the dataset\n",
    "# Reads the data from the specified file path into a pandas DataFrame, assuming no header row.\n",
    "dataset = read_csv(data_path, header=None)\n",
    "\n",
    "# Add column names (from the dataset description)\n",
    "# Defines a list of column names for the dataset, based on the dataset description.\n",
    "columns = [\n",
    "    \"id\", \"diagnosis\",  # Target: M=Malignant, B=Benign\n",
    "    \"radius_mean\", \"texture_mean\", \"perimeter_mean\", \"area_mean\",\n",
    "    \"smoothness_mean\", \"compactness_mean\", \"concavity_mean\",\n",
    "    \"concave_points_mean\", \"symmetry_mean\", \"fractal_dimension_mean\",\n",
    "    \"radius_se\", \"texture_se\", \"perimeter_se\", \"area_se\",\n",
    "    \"smoothness_se\", \"compactness_se\", \"concavity_se\",\n",
    "    \"concave_points_se\", \"symmetry_se\", \"fractal_dimension_se\",\n",
    "    \"radius_worst\", \"texture_worst\", \"perimeter_worst\", \"area_worst\",\n",
    "    \"smoothness_worst\", \"compactness_worst\", \"concavity_worst\",\n",
    "    \"concave_points_worst\", \"symmetry_worst\", \"fractal_dimension_worst\"\n",
    "]\n",
    "# Assigns the defined list of column names to the DataFrame.\n",
    "dataset.columns = columns\n",
    "\n",
    "# Summarize the dataset\n",
    "# Prints a header indicating the display of the first 5 rows.\n",
    "print(\"\\nFirst 5 rows:\")\n",
    "# Prints the first 5 rows of the DataFrame to display sample data.\n",
    "print(dataset.head())\n",
    "\n",
    "# Prints a header indicating the display of the dataset shape.\n",
    "print(\"\\nDataset Shape:\", dataset.shape)\n",
    "# Prints the shape of the DataFrame (number of rows and columns).\n",
    "print(\"\\nSummary Statistics:\")\n",
    "# Prints summary statistics for each numerical column in the DataFrame (count, mean, std, min, quartiles, max).\n",
    "print(dataset.describe())"
   ]
  },
  {
   "cell_type": "markdown",
   "id": "043c25a9-fa6f-4506-a5d0-81d5cf85cd9d",
   "metadata": {},
   "source": [
    "### Histograms of the variables"
   ]
  },
  {
   "cell_type": "code",
   "execution_count": 23,
   "id": "cb4b9ab7-06ca-4428-a2b8-e229c2a7be76",
   "metadata": {},
   "outputs": [
    {
     "data": {
      "image/png": "[encoded data removed]",
      "text/plain": [
       "<Figure size 1200x1000 with 30 Axes>"
      ]
     },
     "metadata": {},
     "output_type": "display_data"
    }
   ],
   "source": [
    "# Histograms of the variables\n",
    "# Creates histograms for all columns in the 'dataset' DataFrame starting from the third column (index 2) to the end. Sets x and y label sizes, and figure size.\n",
    "fig = dataset.iloc[:, 2:].hist(xlabelsize=4, ylabelsize=4, figsize=(12, 10))\n",
    "# Iterates through each histogram subplot in the figure and sets the title size to 4.\n",
    "[x.title.set_size(4) for x in fig.ravel()]\n",
    "# Sets the suptitle (overall title) for the entire figure to \"Feature Distributions\", adjusting vertical position for better layout.\n",
    "plt.suptitle(\"Feature Distributions\", y=1.02)\n",
    "# Displays the generated histograms plot.\n",
    "plt.show()"
   ]
  },
  {
   "cell_type": "markdown",
   "id": "4ddb97d9-57fe-4cd2-9a55-0b815fd5c1c1",
   "metadata": {},
   "source": [
    "### Evaluate KNN on the raw dataset"
   ]
  },
  {
   "cell_type": "code",
   "execution_count": 24,
   "id": "94131782-84a2-4d4e-bd26-3515b11f482d",
   "metadata": {},
   "outputs": [
    {
     "name": "stdout",
     "output_type": "stream",
     "text": [
      "\n",
      "KNN Accuracy (Raw Data): 0.934 (0.030)\n"
     ]
    }
   ],
   "source": [
    "# Separate into input and output columns\n",
    "X = dataset.iloc[:, 2:].values  # Features (all columns except ID and diagnosis)\n",
    "y = dataset[\"diagnosis\"].values  # Target (M=Malignant, B=Benign)\n",
    "\n",
    "# Encode labels (M=1, B=0)\n",
    "y = LabelEncoder().fit_transform(y)\n",
    "\n",
    "# Define and configure the model\n",
    "model = KNeighborsClassifier()\n",
    "\n",
    "# Evaluate the model\n",
    "# Defines cross-validation splitting strategy using RepeatedStratifiedKFold for robust evaluation.\n",
    "cv = RepeatedStratifiedKFold(n_splits=10, n_repeats=3, random_state=1)\n",
    "# Performs cross-validation to evaluate the 'model' using features 'X' and target 'y', scoring by 'accuracy'.\n",
    "n_scores = cross_val_score(model, X, y, scoring=\"accuracy\", cv=cv, n_jobs=-1)\n",
    "\n",
    "# Report model performance\n",
    "print(\"\\nKNN Accuracy (Raw Data): %.3f (%.3f)\" % (mean(n_scores), std(n_scores)))"
   ]
  },
  {
   "cell_type": "markdown",
   "id": "4ceb468a-f544-45dd-91a4-4361c14f2d11",
   "metadata": {},
   "source": [
    "### Visualize a polynomial features transform of the dataset"
   ]
  },
  {
   "cell_type": "code",
   "execution_count": 25,
   "id": "b2d6ad1f-ea3c-4c18-9212-fdbaa31d9580",
   "metadata": {},
   "outputs": [
    {
     "name": "stdout",
     "output_type": "stream",
     "text": [
      "\n",
      "Transformed Dataset Shape: (569, 5456)\n",
      "\n",
      "KNN Accuracy (Polynomial Features): 0.930 (0.026)\n"
     ]
    }
   ],
   "source": [
    "# Perform a polynomial features transform of the dataset\n",
    "trans = PolynomialFeatures(degree=3)\n",
    "data = trans.fit_transform(X)\n",
    "\n",
    "# Convert the array back to a dataframe\n",
    "dataset_transformed = DataFrame(data)\n",
    "\n",
    "# Summarize\n",
    "print(\"\\nTransformed Dataset Shape:\", dataset_transformed.shape)\n",
    "\n",
    "# Evaluate KNN on the dataset with polynomial features transform\n",
    "\n",
    "# Define the pipeline\n",
    "trans = PolynomialFeatures(degree=3)\n",
    "model = KNeighborsClassifier()\n",
    "pipeline = Pipeline(steps=[(\"t\", trans), (\"m\", model)])\n",
    "\n",
    "# Evaluate the pipeline\n",
    "cv = RepeatedStratifiedKFold(n_splits=10, n_repeats=3, random_state=1)\n",
    "n_scores = cross_val_score(pipeline, X, y, scoring=\"accuracy\", cv=cv, n_jobs=-1)\n",
    "\n",
    "# Report pipeline performance\n",
    "print(\"\\nKNN Accuracy (Polynomial Features): %.3f (%.3f)\" % (mean(n_scores), std(n_scores)))"
   ]
  },
  {
   "cell_type": "markdown",
   "id": "a1b0bfab-d669-4cab-8ed2-6ab2e8382a3c",
   "metadata": {},
   "source": [
    "### Compare the effect of the degree on the number of created features"
   ]
  },
  {
   "cell_type": "code",
   "execution_count": 26,
   "id": "64cc83bf-b3b4-490a-bcee-ceab5ed00e6e",
   "metadata": {},
   "outputs": [
    {
     "name": "stdout",
     "output_type": "stream",
     "text": [
      "Degree: 1, Features: 31\n",
      "Degree: 2, Features: 496\n",
      "Degree: 3, Features: 5456\n",
      "Degree: 4, Features: 46376\n"
     ]
    },
    {
     "data": {
      "image/png": "[encoded data removed]",
      "text/plain": [
       "<Figure size 640x480 with 1 Axes>"
      ]
     },
     "metadata": {},
     "output_type": "display_data"
    }
   ],
   "source": [
    "# Calculate change in number of features\n",
    "num_features = []\n",
    "degrees = list(range(1, 5))\n",
    "for d in degrees:\n",
    "    # Create transform\n",
    "    trans = PolynomialFeatures(degree=d)\n",
    "    # Fit and transform\n",
    "    data = trans.fit_transform(X)\n",
    "    # Record number of features\n",
    "    num_features.append(data.shape[1])\n",
    "    # Summarize\n",
    "    print(\"Degree: %d, Features: %d\" % (d, data.shape[1]))\n",
    "\n",
    "# Plot degree vs number of features\n",
    "plt.plot(degrees, num_features, marker='o')\n",
    "plt.xlabel(\"Degree\")\n",
    "plt.ylabel(\"Number of Features\")\n",
    "plt.title(\"Polynomial Features vs Degree\")\n",
    "plt.show()"
   ]
  },
  {
   "cell_type": "markdown",
   "id": "d68315e7-8d53-4ef6-954f-dbc83c2c3976",
   "metadata": {},
   "source": [
    "### Understanding Polynomial Feature Expansion\n",
    "\n",
    "#### Plot Explanation\n",
    "The plot shows the relationship between the polynomial degree and the number of generated features in the dataset. As the degree increases, the number of polynomial features grows exponentially.\n",
    "\n",
    "##### Key Observations:\n",
    "- The x-axis represents the **degree of polynomial features**.\n",
    "- The y-axis represents the **number of features** after applying polynomial expansion.\n",
    "- For low-degree polynomials (e.g., degree 1 and 2), the number of features remains relatively small.\n",
    "- As the degree increases beyond 3, the number of features grows dramatically, highlighting the **curse of dimensionality**.\n",
    "\n",
    "#### Interpretation:\n",
    "- **Degree 1** corresponds to the original feature set.\n",
    "- **Degree 2 and 3** show a gradual increase in the number of features.\n",
    "- **Degree 4** shows an exponential rise, leading to a significant increase in the number of features, which can cause computational inefficiency and overfitting.\n",
    "\n",
    "##### Summary:\n",
    "This plot illustrates the importance of carefully choosing the polynomial degree in machine learning models. While higher-degree polynomials can capture more complex relationships, they also introduce a high computational cost and risk of overfitting.\n"
   ]
  },
  {
   "cell_type": "markdown",
   "id": "0b1d03c3-69c1-4434-89ef-538a5273140d",
   "metadata": {},
   "source": [
    "## Explore the effect of degree on accuracy for the polynomial features transform"
   ]
  },
  {
   "cell_type": "code",
   "execution_count": 27,
   "id": "fa76b0a6-e2ac-43d1-b25a-aa53f5979154",
   "metadata": {},
   "outputs": [
    {
     "name": "stdout",
     "output_type": "stream",
     "text": [
      "> Degree=1, Accuracy: 0.934 (0.030)\n",
      "> Degree=2, Accuracy: 0.930 (0.026)\n",
      "> Degree=3, Accuracy: 0.930 (0.026)\n",
      "> Degree=4, Accuracy: 0.930 (0.027)\n"
     ]
    },
    {
     "data": {
      "image/png": "[encoded data removed]",
      "text/plain": [
       "<Figure size 640x480 with 1 Axes>"
      ]
     },
     "metadata": {},
     "output_type": "display_data"
    }
   ],
   "source": [
    "warnings.filterwarnings(\"ignore\")\n",
    "\n",
    "# Get a list of models to evaluate\n",
    "# Defines a function called 'get_models' that returns a dictionary of machine learning pipelines.\n",
    "def get_models():\n",
    "    # Initializes an empty dictionary called 'models' to store the pipelines.\n",
    "    models = {}\n",
    "    # Iterates through degrees from 1 to 4 (exclusive of 5) to create polynomial features.\n",
    "    for d in range(1, 5):\n",
    "        # Define the pipeline\n",
    "        # Creates a PolynomialFeatures transformer with the current degree 'd'.\n",
    "        trans = PolynomialFeatures(degree=d)\n",
    "        # Creates a KNeighborsClassifier model with default parameters.\n",
    "        model = KNeighborsClassifier()\n",
    "        # Stores the pipeline in the 'models' dictionary with the degree 'd' as the key.\n",
    "        models[str(d)] = Pipeline(steps=[(\"t\", trans), (\"m\", model)])\n",
    "    # Returns the dictionary 'models' containing pipelines for different polynomial degrees.\n",
    "    return models\n",
    "\n",
    "# Evaluate a given model using cross-validation\n",
    "# Defines a function called 'evaluate_model' that takes a model, features (X), and labels (y) as input to evaluate model performance.\n",
    "def evaluate_model(model, X, y):\n",
    "    # Initializes RepeatedStratifiedKFold cross-validation with 10 splits, 3 repeats, and a fixed random state for reproducibility.\n",
    "    cv = RepeatedStratifiedKFold(n_splits=10, n_repeats=3, random_state=1)\n",
    "    # Performs cross-validation using the provided model, features (X), and labels (y), scoring accuracy, using the defined cross-validation strategy (cv), and utilizing all available CPU cores (n_jobs=-1).\n",
    "    scores = cross_val_score(model, X, y, scoring=\"accuracy\", cv=cv, n_jobs=-1)\n",
    "    # Returns the array of accuracy scores obtained from cross-validation.\n",
    "    return scores\n",
    "\n",
    "# Get the models to evaluate\n",
    "models = get_models()\n",
    "\n",
    "# Evaluate the models and store results\n",
    "results = []\n",
    "names = []\n",
    "# Iterate through each item (model name and model object) in the 'models' dictionary.\n",
    "for name, model in models.items():\n",
    "    # Evaluate the current 'model' using the 'evaluate_model' function with features 'X' and labels 'y', and store the scores.\n",
    "    scores = evaluate_model(model, X, y)\n",
    "    # Append the calculated 'scores' to the 'results' list.\n",
    "    results.append(scores)\n",
    "    # Append the current 'model' name to the 'names' list.\n",
    "    names.append(name)\n",
    "    # Print the model's degree (name), mean accuracy score, and standard deviation of accuracy scores, formatted to 3 decimal places.\n",
    "    print(\"> Degree=%s, Accuracy: %.3f (%.3f)\" % (name, mean(scores), std(scores)))\n",
    "\n",
    "# Plot model performance for comparison\n",
    "plt.boxplot(results, labels=names, showmeans=True)\n",
    "plt.xlabel(\"Polynomial Degree\")\n",
    "plt.ylabel(\"Accuracy\")\n",
    "plt.title(\"KNN Performance with Polynomial Features\")\n",
    "plt.show()"
   ]
  },
  {
   "cell_type": "markdown",
   "id": "137b9346-77d4-4a4b-a91d-b79dd579b2a0",
   "metadata": {},
   "source": [
    "### KNN Performance with Polynomial Features\n",
    "\n",
    "#### Plot Explanation\n",
    "The box plot illustrates the **accuracy** of a K-Nearest Neighbors (KNN) classifier with different polynomial feature transformations. The x-axis represents the **polynomial degree**, while the y-axis shows the **accuracy** of the model.\n",
    "\n",
    "##### Key Observations:\n",
    "- The **median accuracy** (orange line) remains relatively stable across polynomial degrees 1 to 4.\n",
    "- The **mean accuracy** (green triangle) is similar across different degrees, indicating that increasing polynomial features does not significantly improve performance.\n",
    "- The **variance (spread of the box)** increases slightly for higher polynomial degrees, suggesting that adding more features may introduce more variability.\n",
    "- The presence of **outliers** at lower degrees suggests occasional drops in accuracy for specific runs.\n",
    "\n",
    "#### Interpretation:\n",
    "- **Polynomial Degree 1**: The model performs well, with a relatively high median and minimal variance.\n",
    "- **Polynomial Degrees 2-4**: While the accuracy remains stable, the variance slightly increases, implying that additional polynomial features do not substantially improve KNN performance.\n",
    "\n",
    "#### Summary:\n",
    "- Applying polynomial feature expansion does not necessarily enhance KNN model accuracy.\n",
    "- Higher polynomial degrees increase feature complexity but may not provide better predictive power, potentially leading to overfitting or computational inefficiency.\n"
   ]
  },
  {
   "cell_type": "markdown",
   "id": "b9b20b24-fe76-4afb-9976-b63a3059b8da",
   "metadata": {},
   "source": [
    "## Conclusion\n",
    "\n",
    "Through this module, we learned how to create polynomial features to potentially improve model performance. We explored the impact of different polynomial degrees on feature space dimensionality and model accuracy. The techniques demonstrated show how feature engineering can expose non-linear relationships in data that may improve predictive modeling results.\n",
    "\n",
    "## Clean up\n",
    "\n",
    "Remember to shut down your Jupyter Notebook environment and delete any unnecessary files or resources once you've completed the tutorial.￼"
   ]
  }
 ],
 "metadata": {
  "kernelspec": {
   "display_name": "Python 3 (ipykernel)",
   "language": "python",
   "name": "python3"
  },
  "language_info": {
   "codemirror_mode": {
    "name": "ipython",
    "version": 3
   },
   "file_extension": ".py",
   "mimetype": "text/x-python",
   "name": "python",
   "nbconvert_exporter": "python",
   "pygments_lexer": "ipython3",
   "version": "3.9.11"
  }
 },
 "nbformat": 4,
 "nbformat_minor": 5
}
