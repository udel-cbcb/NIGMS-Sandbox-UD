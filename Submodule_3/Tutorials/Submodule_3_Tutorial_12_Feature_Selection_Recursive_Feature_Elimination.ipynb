{
 "cells": [
  {
   "cell_type": "markdown",
   "metadata": {},
   "source": [
    "# Feature Selection:  Recursive Feature Elimination\n",
    "\n",
    "Adapted from Jason Brownlee. 2020. [Data Preparation for Machine Learning](https://machinelearningmastery.com/data-preparation-for-machine-learning/).\n",
    "\n",
    "## Overview\n",
    "\n",
    "Recursive Feature Elimination, or RFE for short, is a popular feature selection algorithm. RFE\n",
    "is popular because it is easy to configure and use, and effective at selecting those\n",
    "features (columns) in a training dataset that are more or most relevant in predicting the target\n",
    "variable. There are two important configuration options when using RFE: the choice in the\n",
    "number of features to select and the choice of the algorithm used to help choosing the features. Both\n",
    "of these hyperparameters can be explored, although the performance of the method is not\n",
    "strongly dependent on these hyperparameters being configured well.\n",
    "\n",
    "## Learning Objectives\n",
    "\n",
    "- Learn how RFE is an efficient approach for eliminating features from a training dataset for feature selection\n",
    "- Learn how to use RFE for feature selection for classification and regression predictive modeling problems\n",
    "- Learn how to explore the number of selected features and wrapped algorithm used by the RFE procedure\n",
    "- Understand how to evaluate different algorithms wrapped by RFE for optimal feature selection\n",
    "\n",
    "### Tasks to complete\n",
    "\n",
    "- Implement RFE for classification problems\n",
    "- Implement RFE for regression problems \n",
    "- Explore RFE hyperparameters\n",
    "- Evaluate different estimator algorithms for RFE\n",
    "- Analyze selected features\n",
    "\n",
    "## Prerequisites\n",
    "\n",
    "- A working Python environment and familiarity with Python\n",
    "- Basic understanding of machine learning concepts\n",
    "- Familiarity with pandas and numpy libraries\n",
    "- Knowledge of basic statistical concepts"
   ]
  },
  {
   "cell_type": "markdown",
   "metadata": {},
   "source": [
    "## Get Started\n",
    "\n",
    "To start, we install required packages and import the necessary libraries."
   ]
  },
  {
   "cell_type": "markdown",
   "metadata": {},
   "source": [
    "### Install packages"
   ]
  },
  {
   "cell_type": "code",
   "execution_count": null,
   "metadata": {},
   "outputs": [],
   "source": [
    "%pip install matplotlib numpy scikit-learn"
   ]
  },
  {
   "cell_type": "markdown",
   "metadata": {},
   "source": [
    "### Import libraries"
   ]
  },
  {
   "cell_type": "code",
   "execution_count": null,
   "metadata": {},
   "outputs": [],
   "source": [
    "from matplotlib import pyplot\n",
    "from numpy import mean, std\n",
    "from sklearn.datasets import make_classification, make_regression\n",
    "from sklearn.ensemble import GradientBoostingClassifier, RandomForestClassifier\n",
    "from sklearn.feature_selection import RFE, RFECV\n",
    "from sklearn.linear_model import LogisticRegression, Perceptron\n",
    "from sklearn.model_selection import (\n",
    "    RepeatedKFold,\n",
    "    RepeatedStratifiedKFold,\n",
    "    cross_val_score,\n",
    ")\n",
    "from sklearn.pipeline import Pipeline\n",
    "from sklearn.tree import DecisionTreeClassifier, DecisionTreeRegressor"
   ]
  },
  {
   "cell_type": "markdown",
   "metadata": {},
   "source": [
    "## RFE for Classification\n",
    "\n",
    "First, we can use the\n",
    "**make_classification**() function to create a synthetic binary classification problem with 1,000\n",
    "examples and 10 input features, five of which are informative and five of which are redundant.\n",
    "\n",
    "Next, we can evaluate an RFE feature selection algorithm on this dataset. We will use a\n",
    "**DecisionTreeClassifier** to choose features and set the number of features to five. We will\n",
    "then fit a new DecisionTreeClassifier model on the selected features. We will evaluate the\n",
    "model using repeated stratified k-fold cross-validation, with three repeats and 10 folds. We will\n",
    "report the mean and standard deviation of the accuracy of the model across all repeats and\n",
    "folds."
   ]
  },
  {
   "cell_type": "code",
   "execution_count": null,
   "metadata": {},
   "outputs": [],
   "source": [
    "# evaluate RFE for classification\n",
    "\n",
    "# define dataset\n",
    "\n",
    "# Generate a random n-class classification problem.\n",
    "X, y = make_classification(\n",
    "    n_samples=1000, n_features=10, n_informative=5, n_redundant=5, random_state=1\n",
    ")\n",
    "\n",
    "# create pipeline\n",
    "rfe = RFE(estimator=DecisionTreeClassifier(), n_features_to_select=5)\n",
    "model = DecisionTreeClassifier()\n",
    "pipeline = Pipeline(steps=[(\"s\", rfe), (\"m\", model)])\n",
    "\n",
    "# evaluate model\n",
    "cv = RepeatedStratifiedKFold(n_splits=10, n_repeats=3, random_state=1)\n",
    "n_scores = cross_val_score(pipeline, X, y, scoring=\"accuracy\", cv=cv, n_jobs=-1)\n",
    "\n",
    "# report performance\n",
    "print(\"Accuracy: %.3f (%.3f)\" % (mean(n_scores), std(n_scores)))"
   ]
  },
  {
   "cell_type": "markdown",
   "metadata": {},
   "source": [
    "In this case, we can see the RFE that uses a decision tree and selects five features and\n",
    "then fits a decision tree on the selected features achieves a classification accuracy of about 88\n",
    "percent."
   ]
  },
  {
   "cell_type": "markdown",
   "metadata": {},
   "source": [
    "We can also use the RFE model pipeline as a final model and make predictions for classification. First, the RFE and model are fit on all available data, then the predict() function can\n",
    "be called to make predictions on new data."
   ]
  },
  {
   "cell_type": "code",
   "execution_count": null,
   "metadata": {},
   "outputs": [],
   "source": [
    "# make a prediction with an RFE pipeline\n",
    "\n",
    "# define dataset\n",
    "X, y = make_classification(\n",
    "    n_samples=1000, n_features=10, n_informative=5, n_redundant=5, random_state=1\n",
    ")\n",
    "\n",
    "# create pipeline\n",
    "rfe = RFE(estimator=DecisionTreeClassifier(), n_features_to_select=5)\n",
    "model = DecisionTreeClassifier()\n",
    "pipeline = Pipeline(steps=[(\"s\", rfe), (\"m\", model)])\n",
    "\n",
    "# fit the model on all available data\n",
    "pipeline.fit(X, y)\n",
    "\n",
    "# make a prediction for one example\n",
    "data = [\n",
    "    [\n",
    "        2.56999479,\n",
    "        -0.13019997,\n",
    "        3.16075093,\n",
    "        -4.35936352,\n",
    "        -1.61271951,\n",
    "        -1.39352057,\n",
    "        -2.48924933,\n",
    "        -1.93094078,\n",
    "        3.26130366,\n",
    "        2.05692145,\n",
    "    ]\n",
    "]\n",
    "yhat = pipeline.predict(data)\n",
    "print(\"Predicted Class: %d\" % (yhat))"
   ]
  },
  {
   "cell_type": "markdown",
   "metadata": {},
   "source": [
    "## RFE for Regression\n",
    "\n",
    "Next, we will look at using RFE for a regression problem. First, we can use the\n",
    "**make_regression**() function to create a synthetic regression problem with 1,000 examples and\n",
    "10 input features, five of which are important and five of which are redundant."
   ]
  },
  {
   "cell_type": "code",
   "execution_count": null,
   "metadata": {},
   "outputs": [],
   "source": [
    "# evaluate RFE for regression\n",
    "\n",
    "# define dataset\n",
    "\n",
    "# Generate a random regression problem.\n",
    "X, y = make_regression(n_samples=1000, n_features=10, n_informative=5, random_state=1)\n",
    "\n",
    "# create pipeline\n",
    "rfe = RFE(estimator=DecisionTreeRegressor(), n_features_to_select=5)\n",
    "model = DecisionTreeRegressor()\n",
    "pipeline = Pipeline(steps=[(\"s\", rfe), (\"m\", model)])\n",
    "\n",
    "# evaluate model\n",
    "# Repeated K-Fold cross validator.\n",
    "# Repeats K-Fold n times with different randomization in each repetition.\n",
    "cv = RepeatedKFold(n_splits=10, n_repeats=3, random_state=1)\n",
    "\n",
    "# All scorer objects follow the convention that higher return values are better than lower return values.\n",
    "# Thus metrics which measure the distance between the model and the data, like metrics.mean_squared_error,\n",
    "# are available as neg_mean_squared_error which return the negated value of the metric.\n",
    "n_scores = cross_val_score(\n",
    "    pipeline, X, y, scoring=\"neg_mean_absolute_error\", cv=cv, n_jobs=-1\n",
    ")\n",
    "\n",
    "# report performance\n",
    "print(\"MAE: %.3f (%.3f)\" % (mean(n_scores), std(n_scores)))"
   ]
  },
  {
   "cell_type": "markdown",
   "metadata": {},
   "source": [
    "In this case, we can see the RFE pipeline with a decision tree model achieves a MAE of\n",
    "about 27."
   ]
  },
  {
   "cell_type": "markdown",
   "metadata": {},
   "source": [
    "We can also use the RFE as part of the final model and make predictions for regression.\n",
    "First, the Pipeline is fit on all available data, then the predict() function can be called to\n",
    "make predictions on new data."
   ]
  },
  {
   "cell_type": "code",
   "execution_count": null,
   "metadata": {},
   "outputs": [],
   "source": [
    "# make a regression prediction with an RFE pipeline\n",
    "\n",
    "# define dataset\n",
    "X, y = make_regression(n_samples=1000, n_features=10, n_informative=5, random_state=1)\n",
    "\n",
    "# create pipeline\n",
    "rfe = RFE(estimator=DecisionTreeRegressor(), n_features_to_select=5)\n",
    "model = DecisionTreeRegressor()\n",
    "pipeline = Pipeline(steps=[(\"s\", rfe), (\"m\", model)])\n",
    "\n",
    "# fit the model on all available data\n",
    "pipeline.fit(X, y)\n",
    "\n",
    "# make a prediction for one example\n",
    "data = [\n",
    "    [\n",
    "        -2.02220122,\n",
    "        0.31563495,\n",
    "        0.82797464,\n",
    "        -0.30620401,\n",
    "        0.16003707,\n",
    "        -1.44411381,\n",
    "        0.87616892,\n",
    "        -0.50446586,\n",
    "        0.23009474,\n",
    "        0.76201118,\n",
    "    ]\n",
    "]\n",
    "yhat = pipeline.predict(data)\n",
    "print(\"Predicted: %.3f\" % (yhat))"
   ]
  },
  {
   "cell_type": "markdown",
   "metadata": {},
   "source": [
    "## RFE Hyperparameters\n",
    "\n",
    "In this section, we will take a closer look at some of the hyperparameters you should consider\n",
    "tuning for the RFE method for feature selection and their effect on model performance."
   ]
  },
  {
   "cell_type": "markdown",
   "metadata": {},
   "source": [
    "### Explore Number of Features\n",
    "\n",
    "An important hyperparameter for the RFE algorithm is the number of features to select. In\n",
    "the previous section, we used an arbitrary number of selected features, five, which matches\n",
    "the number of informative features in the synthetic dataset. In practice, we cannot know the\n",
    "best number of features to select with RFE; instead, it is good practice to test different values."
   ]
  },
  {
   "cell_type": "code",
   "execution_count": null,
   "metadata": {},
   "outputs": [],
   "source": [
    "# explore the number of selected features for RFE\n",
    "\n",
    "# get the dataset\n",
    "def get_dataset():\n",
    "    X, y = make_classification(\n",
    "        n_samples=1000, n_features=10, n_informative=5, n_redundant=5, random_state=1\n",
    "    )\n",
    "    return X, y\n",
    "\n",
    "\n",
    "# get a list of models to evaluate\n",
    "def get_models():\n",
    "    models = {}\n",
    "    for i in range(2, 10):\n",
    "        rfe = RFE(estimator=DecisionTreeClassifier(), n_features_to_select=i)\n",
    "        model = DecisionTreeClassifier()\n",
    "        models[str(i)] = Pipeline(steps=[(\"s\", rfe), (\"m\", model)])\n",
    "    return models\n",
    "\n",
    "\n",
    "# evaluate a given model using cross-validation\n",
    "def evaluate_model(model, X, y):\n",
    "    cv = RepeatedStratifiedKFold(n_splits=10, n_repeats=3, random_state=1)\n",
    "    scores = cross_val_score(model, X, y, scoring=\"accuracy\", cv=cv, n_jobs=-1)\n",
    "    return scores\n",
    "\n",
    "\n",
    "# define dataset\n",
    "X, y = get_dataset()\n",
    "\n",
    "# get the models to evaluate\n",
    "models = get_models()\n",
    "\n",
    "# evaluate the models and store results\n",
    "results, names = [], []\n",
    "for name, model in models.items():\n",
    "    scores = evaluate_model(model, X, y)\n",
    "    results.append(scores)\n",
    "    names.append(name)\n",
    "    print(\">%s %.3f (%.3f)\" % (name, mean(scores), std(scores)))"
   ]
  },
  {
   "cell_type": "markdown",
   "metadata": {},
   "source": [
    "In this case, we can see that performance improves as the number of features increase and\n",
    "perhaps peaks around 4-to-7 as we might expect, given that only  five features are relevant to\n",
    "the target variable."
   ]
  },
  {
   "cell_type": "markdown",
   "metadata": {},
   "source": [
    "A box and whisker plot is created for the distribution of accuracy scores for each con gured\n",
    "number of features."
   ]
  },
  {
   "cell_type": "code",
   "execution_count": null,
   "metadata": {},
   "outputs": [],
   "source": [
    "# plot model performance for comparison\n",
    "pyplot.boxplot(results, tick_labels=names, showmeans=True)\n",
    "pyplot.show()"
   ]
  },
  {
   "cell_type": "markdown",
   "metadata": {},
   "source": [
    "### Automatically Select the Number of Features\n",
    "\n",
    "It is also possible to automatically select the number of features chosen by RFE. This can be\n",
    "achieved by performing cross-validation evaluation of different numbers of features as we did in\n",
    "the previous section and automatically selecting the number of features that resulted in the\n",
    "best mean score. The **RFECV** class implements this."
   ]
  },
  {
   "cell_type": "code",
   "execution_count": null,
   "metadata": {},
   "outputs": [],
   "source": [
    "# automatically select the number of features for RFE\n",
    "\n",
    "# define dataset\n",
    "X, y = make_classification(\n",
    "    n_samples=1000, n_features=10, n_informative=5, n_redundant=5, random_state=1\n",
    ")\n",
    "\n",
    "# create pipeline\n",
    "# Recursive feature elimination with cross-validation to select the number of features.\n",
    "rfe = RFECV(estimator=DecisionTreeClassifier())\n",
    "model = DecisionTreeClassifier()\n",
    "pipeline = Pipeline(steps=[(\"s\", rfe), (\"m\", model)])\n",
    "\n",
    "# evaluate model\n",
    "cv = RepeatedStratifiedKFold(n_splits=10, n_repeats=3, random_state=1)\n",
    "n_scores = cross_val_score(pipeline, X, y, scoring=\"accuracy\", cv=cv, n_jobs=-1)\n",
    "\n",
    "# report performance\n",
    "print(\"Accuracy: %.3f (%.3f)\" % (mean(n_scores), std(n_scores)))"
   ]
  },
  {
   "cell_type": "markdown",
   "metadata": {},
   "source": [
    "In this case, we can see the RFE that uses a decision tree and automatically selects a number\n",
    "of features and then fits a decision tree on the selected features achieves a classification accuracy\n",
    "of about 88 percent."
   ]
  },
  {
   "cell_type": "markdown",
   "metadata": {},
   "source": [
    "### Which Features Were Selected\n",
    "\n",
    "When using RFE, we may be interested to know which features were selected and which were\n",
    "removed. This can be achieved by reviewing the attributes of the fit **RFE** object (or fit **RFECV**\n",
    "object). The support attribute reports true or false as to which features in order of column\n",
    "index were included and the ranking attribute reports the relative ranking of features in the\n",
    "same order. The example below fits an RFE model on the whole dataset and selects five features,\n",
    "then reports each feature column index (0 to 9), whether it was selected or not (True or False),\n",
    "and the relative feature ranking."
   ]
  },
  {
   "cell_type": "code",
   "execution_count": null,
   "metadata": {},
   "outputs": [],
   "source": [
    "# report which features were selected by RFE\n",
    "\n",
    "# define dataset\n",
    "X, y = make_classification(\n",
    "    n_samples=1000, n_features=10, n_informative=5, n_redundant=5, random_state=1\n",
    ")\n",
    "\n",
    "# define RFE\n",
    "# Feature ranking with recursive feature elimination.\n",
    "rfe = RFE(estimator=DecisionTreeClassifier(), n_features_to_select=5)\n",
    "\n",
    "# fit RFE\n",
    "rfe.fit(X, y)\n",
    "\n",
    "# summarize all features\n",
    "for i in range(X.shape[1]):\n",
    "    print(\"Column: %d, Selected=%s, Rank: %d\" % (i, rfe.support_[i], rfe.ranking_[i]))"
   ]
  },
  {
   "cell_type": "markdown",
   "metadata": {},
   "source": [
    "### Explore Estimator Algorithm\n",
    "\n",
    "There are many algorithms that can be used in the core RFE, as long as they provide some\n",
    "indication of variable importance. Most decision tree algorithms are likely to report the same\n",
    "general trends in feature importance, but this is not guaranteed. It might be helpful to explore\n",
    "the use of different algorithms wrapped by RFE. The example below demonstrates how you\n",
    "might explore this configuration option."
   ]
  },
  {
   "cell_type": "code",
   "execution_count": null,
   "metadata": {},
   "outputs": [],
   "source": [
    "# explore the algorithm wrapped by RFE\n",
    "\n",
    "# get the dataset\n",
    "def get_dataset():\n",
    "    X, y = make_classification(\n",
    "        n_samples=1000, n_features=10, n_informative=5, n_redundant=5, random_state=1\n",
    "    )\n",
    "    return X, y\n",
    "\n",
    "\n",
    "# get a list of models to evaluate\n",
    "def get_models():\n",
    "    models = {}\n",
    "\n",
    "    # lr - LogisticRegression\n",
    "    # estimator - A supervised learning estimator with a fit method that provides information about feature importance\n",
    "    rfe = RFE(estimator=LogisticRegression(), n_features_to_select=5)\n",
    "    model = DecisionTreeClassifier()\n",
    "    models[\"lr\"] = Pipeline(steps=[(\"s\", rfe), (\"m\", model)])\n",
    "\n",
    "    # per - Perceptron\n",
    "    rfe = RFE(estimator=Perceptron(), n_features_to_select=5)\n",
    "    model = DecisionTreeClassifier()\n",
    "    models[\"per\"] = Pipeline(steps=[(\"s\", rfe), (\"m\", model)])\n",
    "\n",
    "    # dtc - DecisionTreeClassifier\n",
    "    rfe = RFE(estimator=DecisionTreeClassifier(), n_features_to_select=5)\n",
    "    model = DecisionTreeClassifier()\n",
    "    models[\"dtc\"] = Pipeline(steps=[(\"s\", rfe), (\"m\", model)])\n",
    "\n",
    "    # rf - RandomForestClassifier\n",
    "    rfe = RFE(estimator=RandomForestClassifier(), n_features_to_select=5)\n",
    "    model = DecisionTreeClassifier()\n",
    "    models[\"rf\"] = Pipeline(steps=[(\"s\", rfe), (\"m\", model)])\n",
    "\n",
    "    # gbm - GradientBoostingClassifier\n",
    "    rfe = RFE(estimator=GradientBoostingClassifier(), n_features_to_select=5)\n",
    "    model = DecisionTreeClassifier()\n",
    "    models[\"gbm\"] = Pipeline(steps=[(\"s\", rfe), (\"m\", model)])\n",
    "\n",
    "    return models\n",
    "\n",
    "\n",
    "# evaluate a given model using cross-validation\n",
    "def evaluate_model(model, X, y):\n",
    "    cv = RepeatedStratifiedKFold(n_splits=10, n_repeats=3, random_state=1)\n",
    "    scores = cross_val_score(model, X, y, scoring=\"accuracy\", cv=cv, n_jobs=-1)\n",
    "    return scores\n",
    "\n",
    "\n",
    "# define dataset\n",
    "X, y = get_dataset()\n",
    "\n",
    "# get the models to evaluate\n",
    "models = get_models()\n",
    "\n",
    "# evaluate the models and store results\n",
    "results, names = [], []\n",
    "for name, model in models.items():\n",
    "    scores = evaluate_model(model, X, y)\n",
    "    results.append(scores)\n",
    "    names.append(name)\n",
    "    print(\">%s %.3f (%.3f)\" % (name, mean(scores), std(scores)))"
   ]
  },
  {
   "cell_type": "markdown",
   "metadata": {},
   "source": [
    "In this case, the results suggest that linear algorithms like logistic regression might select better features more reliably than the chosen decision tree and ensemble\n",
    "of decision tree algorithms."
   ]
  },
  {
   "cell_type": "code",
   "execution_count": null,
   "metadata": {},
   "outputs": [],
   "source": [
    "# plot model performance for comparison\n",
    "pyplot.boxplot(results, tick_labels=names, showmeans=True)\n",
    "pyplot.show()"
   ]
  },
  {
   "cell_type": "markdown",
   "metadata": {},
   "source": [
    "A box and whisker plot is created for the distribution of accuracy scores for each configured\n",
    "wrapped algorithm. We can see the general trend of good performance with logistic regression,\n",
    "DTC and perhaps GBM. The model used within RFE can make an important\n",
    "difference to which features are selected and in turn the performance on the prediction problem."
   ]
  },
  {
   "cell_type": "markdown",
   "metadata": {},
   "source": [
    "## Conclusion\n",
    "\n",
    "Through this tutorial, we learned how to effectively use Recursive Feature Elimination for feature selection in both classification and regression problems. We explored key hyperparameters like the number of features to select and the choice of wrapped algorithm. The techniques covered demonstrate how RFE can be used to identify the most relevant features for predictive modeling tasks.\n",
    "\n",
    "## Clean up\n",
    "\n",
    "Remember to:\n",
    "- Close all plot windows\n",
    "- Shutdown the Jupyter notebook kernel\n",
    "- Delete any temporary files created during the tutorial"
   ]
  }
 ],
 "metadata": {},
 "nbformat": 4,
 "nbformat_minor": 0
}
