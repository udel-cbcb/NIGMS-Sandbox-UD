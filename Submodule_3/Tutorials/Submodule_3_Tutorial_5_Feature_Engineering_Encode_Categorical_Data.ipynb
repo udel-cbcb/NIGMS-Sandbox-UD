{
 "cells": [
  {
   "cell_type": "markdown",
   "metadata": {},
   "source": [
    "#**Encode Categorical Data**\n",
    "\n"
   ]
  },
  {
   "cell_type": "markdown",
   "metadata": {},
   "source": [
    "Machine learning models require all input and output variables to be numeric. This means\n",
    "that if your data contains categorical data, you must encode it to numbers before you can fit\n",
    "and evaluate a model. The two most popular techniques are an Ordinal encoding and a One\n",
    "Hot encoding.\n",
    "\n",
    "In this tutorial, you will learn:\n",
    "\n",
    "* Encoding is a required pre-processing step when working with categorical data for machine\n",
    "learning algorithms.\n",
    "* How to use ordinal encoding for categorical variables that have a natural rank ordering.\n",
    "* How to use one hot encoding for categorical variables that do not have a natural rank\n",
    "ordering.\n",
    "\n",
    "Adapted from Jason Brownlee. 2020. [Data Preparation for Machine Learning](https://machinelearningmastery.com/data-preparation-for-machine-learning/)."
   ]
  },
  {
   "cell_type": "markdown",
   "metadata": {},
   "source": [
    "##Nominal and Ordinal Variables\n",
    "\n",
    "* **Nominal Variable**. Variable comprises a finite set of discrete values with no rank-order\n",
    "relationship between values.\n",
    "* **Ordinal Variable**. Variable comprises a finite set of discrete values with a ranked\n",
    "ordering between values.\n",
    "\n",
    "Some algorithms can work with categorical data directly. For example, a decision tree can\n",
    "be learned directly from categorical data with no data transform required (this depends on\n",
    "the specific implementation). Many machine learning algorithms cannot operate on label data\n",
    "directly. They require all input variables and output variables to be numeric. In general, this is\n",
    "mostly a constraint of the effcient implementation of machine learning algorithms rather than\n",
    "hard limitations on the algorithms themselves.\n",
    "\n",
    "Some implementations of machine learning algorithms require all data to be numerical. This means that categorical data must be converted\n",
    "to a numerical form. If the categorical variable is an output variable, you may also want to\n",
    "convert predictions by the model back into a categorical form in order to present them or use\n",
    "them in some application."
   ]
  },
  {
   "cell_type": "markdown",
   "metadata": {},
   "source": [
    "##Encoding Categorical Data\n",
    "\n",
    "There are three common approaches for converting ordinal and categorical variables to numerical\n",
    "values. They are:\n",
    "* Ordinal Encoding\n",
    "* One Hot Encoding\n",
    "* Dummy Variable Encoding"
   ]
  },
  {
   "cell_type": "markdown",
   "metadata": {},
   "source": [
    "###Ordinal Encoding\n",
    "In ordinal encoding, each unique category value is assigned an integer value. An integer ordinal encoding is a natural encoding for ordinal variables. For categorical\n",
    "variables, it imposes an ordinal relationship where no such relationship may exist. This can\n",
    "cause problems and a one hot encoding may be used instead."
   ]
  },
  {
   "cell_type": "code",
   "execution_count": null,
   "metadata": {},
   "outputs": [],
   "source": [
    "# example of an ordinal encoding\n",
    "from numpy import asarray\n",
    "# Encode categorical features as an integer array\n",
    "from sklearn.preprocessing import OrdinalEncoder\n",
    "# define data\n",
    "data = asarray([['red'], ['green'], ['blue']])\n",
    "print(\"Original data: \\n\",data)\n",
    "# define ordinal encoding\n",
    "encoder = OrdinalEncoder()\n",
    "# # Fit OrdinalEncoder to data, then transform data.\n",
    "result = encoder.fit_transform(data)\n",
    "print(\"Encoded data: \\n\",result)"
   ]
  },
  {
   "cell_type": "markdown",
   "metadata": {},
   "source": [
    "We\n",
    "can see that the numbers are assigned to the labels as we expected.\n",
    "\n",
    "This **OrdinalEncoder** class is intended for input variables that are organized into rows and\n",
    "columns, e.g. a matrix. If a categorical target variable needs to be encoded for a classification\n",
    "problem, then the **LabelEncoder** class can be used. It does the same\n",
    "thing as the **OrdinalEncoder**, although it expects a one-dimensional input for the single target\n",
    "variable."
   ]
  },
  {
   "cell_type": "markdown",
   "metadata": {},
   "source": [
    "###One Hot Encoding\n",
    "For categorical variables where no ordinal relationship exists, the integer encoding may not be\n",
    "enough or even misleading to the model. Forcing an ordinal relationship via an ordinal encoding\n",
    "and allowing the model to assume a natural ordering between categories may result in poor\n",
    "performance or unexpected results (predictions halfway between categories). In this case, a one\n",
    "hot encoding can be applied to the ordinal representation. This is where the integer encoded\n",
    "variable is removed and one new binary variable is added for each unique integer value in the\n",
    "variable."
   ]
  },
  {
   "cell_type": "code",
   "execution_count": null,
   "metadata": {},
   "outputs": [],
   "source": [
    "# example of an one hot encoding\n",
    "from numpy import asarray\n",
    "# Encode categorical features as a one-hot numeric array.\n",
    "from sklearn.preprocessing import OneHotEncoder\n",
    "# define data\n",
    "data = asarray([['red'], ['green'], ['blue']])\n",
    "print(data)\n",
    "# define one hot encoding\n",
    "# Will return sparse matrix if set True else will return an array.\n",
    "encoder = OneHotEncoder(sparse=False) \n",
    "# Fit OneHotEncoder to data, then transform data.\n",
    "onehot = encoder.fit_transform(data)\n",
    "print(onehot)"
   ]
  },
  {
   "cell_type": "markdown",
   "metadata": {},
   "source": [
    "We can see the one hot encoding\n",
    "matching our expectation of 3 binary variables in the order blue, green and red."
   ]
  },
  {
   "cell_type": "markdown",
   "metadata": {},
   "source": [
    "###Dummy Variable Encoding\n",
    "The one hot encoding creates one binary variable for each category. The problem is that this\n",
    "representation includes redundancy. For example, if we know that [1, 0, 0] represents blue and\n",
    "[0, 1, 0] represents green we don't need another binary variable to represent red, instead we\n",
    "could use 0 values alone, e.g. [0, 0]. This is called a dummy variable encoding, and always\n",
    "represents C categories with C - 1 binary variables."
   ]
  },
  {
   "cell_type": "markdown",
   "metadata": {},
   "source": [
    "We can use the OneHotEncoder class to implement a dummy encoding as well as a one hot\n",
    "encoding. The drop argument can be set to indicate which category will become the one that is\n",
    "assigned all zero values, called the baseline. We can set this to `firrst' so that the first category is\n",
    "used. When the labels are sorted alphabetically, the blue label will be the first and will become\n",
    "the baseline."
   ]
  },
  {
   "cell_type": "code",
   "execution_count": null,
   "metadata": {},
   "outputs": [],
   "source": [
    "# example of a dummy variable encoding\n",
    "from numpy import asarray\n",
    "from sklearn.preprocessing import OneHotEncoder\n",
    "# define data\n",
    "data = asarray([['red'], ['green'], ['blue']])\n",
    "print(data)\n",
    "# define one hot encoding\n",
    "# drop the first category in each feature. If only one category is present, \n",
    "# the feature will be dropped entirely.\n",
    "# Will return sparse matrix if set True else will return an array.\n",
    "encoder = OneHotEncoder(drop='first', sparse=False) \n",
    "# Fit OneHotEncoder to data, then transform data.\n",
    "onehot = encoder.fit_transform(data)\n",
    "print(onehot)"
   ]
  },
  {
   "cell_type": "markdown",
   "metadata": {},
   "source": [
    "##Breast Cancer Categorical Dataset\n",
    "Breast cancer dataset classifies breast cancer\n",
    "patient as either a recurrence or no recurrence of cancer. \n",
    "```\n",
    "Number of Instances: 286\n",
    "Number of Attributes: 9 + the class attribute\n",
    "Attribute Information:\n",
    "   1. Class: no-recurrence-events, recurrence-events\n",
    "   2. age: 10-19, 20-29, 30-39, 40-49, 50-59, 60-69, 70-79, 80-89, 90-99.\n",
    "   3. menopause: lt40, ge40, premeno.\n",
    "   4. tumor-size: 0-4, 5-9, 10-14, 15-19, 20-24, 25-29, 30-34, 35-39, 40-44, 45-49, 50-54, 55-59.\n",
    "   5. inv-nodes: 0-2, 3-5, 6-8, 9-11, 12-14, 15-17, 18-20, 21-23, 24-26, 27-29, 30-32, 33-35, 36-39.\n",
    "   6. node-caps: yes, no.\n",
    "   7. deg-malig: 1, 2, 3.\n",
    "   8. breast: left, right.\n",
    "   9. breast-quad: left-up, left-low, right-up,\tright-low, central.\n",
    "  10. irradiat:\tyes, no.\n",
    "Missing Attribute Values: (denoted by \"?\")\n",
    "   Attribute #:  Number of instances with missing values:\n",
    "   6.             8\n",
    "   9.             1.\n",
    "Class Distribution:\n",
    "    1. no-recurrence-events: 201 instances\n",
    "    2. recurrence-events: 85 instances \n",
    "```\n",
    "You can learn more about the dataset here:\n",
    "* Breast Cancer Dataset ([breast-cancer.csv](https://raw.githubusercontent.com/jbrownlee/Datasets/master/breast-cancer.csv))\n",
    "* Breast Cancer Dataset Description ([breast-cancer.names](https://raw.githubusercontent.com/jbrownlee/Datasets/master/breast-cancer.names))"
   ]
  },
  {
   "cell_type": "markdown",
   "metadata": {},
   "source": [
    "###Download Breast Cancer data files"
   ]
  },
  {
   "cell_type": "code",
   "execution_count": null,
   "metadata": {},
   "outputs": [],
   "source": [
    "!pip install wget\n",
    "!python -m wget \"https://raw.githubusercontent.com/jbrownlee/Datasets/master/breast-cancer.csv\" -o breast-cancer.csv\n",
    "!python -m wget \"https://raw.githubusercontent.com/jbrownlee/Datasets/master/breast-cancer.names\" -o breast-cancer.names"
   ]
  },
  {
   "cell_type": "code",
   "execution_count": null,
   "metadata": {},
   "outputs": [],
   "source": [
    "# load and summarize the dataset\n",
    "from pandas import read_csv\n",
    "# load the dataset\n",
    "dataset = read_csv('breast-cancer.csv', header=None)\n",
    "print(dataset.head())\n",
    "# retrieve the array of data\n",
    "data = dataset.values\n",
    "# separate into input and output columns\n",
    "X = data[:, :-1].astype(str)\n",
    "y = data[:, -1].astype(str)\n",
    "# summarize\n",
    "print('Input', X.shape)\n",
    "print('Output', y.shape)"
   ]
  },
  {
   "cell_type": "markdown",
   "metadata": {},
   "source": [
    "We\n",
    "can see that we have 286 examples and nine input variables.\n",
    "\n"
   ]
  },
  {
   "cell_type": "markdown",
   "metadata": {},
   "source": [
    "###OrdinalEncoder Transform\n",
    "An ordinal encoding involves mapping each unique label to an integer value. This type of\n",
    "encoding is really only appropriate if there is a known relationship between the categories. This\n",
    "relationship does exist for some of the variables in our dataset, and ideally, this should be\n",
    "harnessed when preparing the data. In this case, we will ignore any possible existing ordinal\n",
    "relationship and assume all variables are categorical. It can still be helpful to use an ordinal\n",
    "encoding, at least as a point of reference with other encoding schemes.\n",
    "We can use the OrdinalEncoder from scikit-learn to encode each variable to integers."
   ]
  },
  {
   "cell_type": "code",
   "execution_count": null,
   "metadata": {},
   "outputs": [],
   "source": [
    "# ordinal encode the breast cancer dataset\n",
    "from pandas import read_csv\n",
    "from sklearn.preprocessing import LabelEncoder\n",
    "from sklearn.preprocessing import OrdinalEncoder\n",
    "# load the dataset\n",
    "dataset = read_csv('breast-cancer.csv', header=None)\n",
    "# retrieve the array of data\n",
    "data = dataset.values\n",
    "# separate into input and output columns\n",
    "X = data[:, :-1].astype(str)\n",
    "y = data[:, -1].astype(str)\n",
    "# ordinal encode input variables\n",
    "ordinal_encoder = OrdinalEncoder()\n",
    "X = ordinal_encoder.fit_transform(X)\n",
    "# ordinal encode target variable\n",
    "label_encoder = LabelEncoder()\n",
    "y = label_encoder.fit_transform(y)\n",
    "# summarize the transformed data\n",
    "print('Input', X.shape)\n",
    "print(X[:5, :])\n",
    "print('Output', y.shape)\n",
    "print(y[:5])"
   ]
  },
  {
   "cell_type": "markdown",
   "metadata": {},
   "source": [
    "We would expect the number of rows, and in this case, the number of columns, to be unchanged,\n",
    "except all string values are now integer values. As expected, in this case, we can see that the\n",
    "number of variables is unchanged, but all values are now ordinal encoded integers."
   ]
  },
  {
   "cell_type": "markdown",
   "metadata": {},
   "source": [
    "Next, let's evaluate machine learning on this dataset with this encoding. The best practice\n",
    "when encoding variables is to fit the encoding on the training dataset, then apply it to the train\n",
    "and test datasets. We will first split the dataset, then prepare the encoding on the training set,\n",
    "and apply it to the test set."
   ]
  },
  {
   "cell_type": "code",
   "execution_count": null,
   "metadata": {},
   "outputs": [],
   "source": [
    "# evaluate logistic regression on the breast cancer dataset with an ordinal encoding\n",
    "from pandas import read_csv\n",
    "from sklearn.model_selection import train_test_split\n",
    "from sklearn.linear_model import LogisticRegression\n",
    "from sklearn.preprocessing import LabelEncoder\n",
    "from sklearn.preprocessing import OrdinalEncoder\n",
    "from sklearn.metrics import accuracy_score\n",
    "# load the dataset\n",
    "dataset = read_csv('breast-cancer.csv', header=None)\n",
    "# retrieve the array of data\n",
    "data = dataset.values\n",
    "# separate into input and output columns\n",
    "X = data[:, :-1].astype(str)\n",
    "y = data[:, -1].astype(str)\n",
    "# split the dataset into train and test sets\n",
    "X_train, X_test, y_train, y_test = train_test_split(X, y, test_size=0.33, random_state=1)\n",
    "# ordinal encode input variables\n",
    "ordinal_encoder = OrdinalEncoder()\n",
    "ordinal_encoder.fit(X_train)\n",
    "X_train = ordinal_encoder.transform(X_train)\n",
    "X_test = ordinal_encoder.transform(X_test)\n",
    "# ordinal encode target variable\n",
    "label_encoder = LabelEncoder()\n",
    "label_encoder.fit(y_train)\n",
    "y_train = label_encoder.transform(y_train)\n",
    "y_test = label_encoder.transform(y_test)\n",
    "# define the model\n",
    "model = LogisticRegression()\n",
    "# fit on the training set\n",
    "model.fit(X_train, y_train)\n",
    "# predict on test set\n",
    "yhat = model.predict(X_test)\n",
    "# evaluate predictions\n",
    "accuracy = accuracy_score(y_test, yhat)\n",
    "print('Accuracy: %.2f' % (accuracy*100))"
   ]
  },
  {
   "cell_type": "markdown",
   "metadata": {},
   "source": [
    "In this case, the model achieved a classification accuracy of about 75.79 percent, which is a\n",
    "reasonable score."
   ]
  },
  {
   "cell_type": "markdown",
   "metadata": {},
   "source": [
    "###OneHotEncoder Transform\n",
    "A one hot encoding is appropriate for categorical data where no relationship exists between\n",
    "categories. The scikit-learn library provides the OneHotEncoder class to automatically one hot\n",
    "encode one or more variables. By default the OneHotEncoder will output data with a sparse\n",
    "representation, which is efficient given that most values are 0 in the encoded representation.\n",
    "We will disable this feature by setting the sparse argument to False so that we can review the\n",
    "effect of the encoding. Once defined, we can call the fit transform() function and pass it to\n",
    "our dataset to create a quantile transformed version of our dataset."
   ]
  },
  {
   "cell_type": "code",
   "execution_count": null,
   "metadata": {},
   "outputs": [],
   "source": [
    "# one-hot encode the breast cancer dataset\n",
    "from pandas import read_csv\n",
    "from sklearn.preprocessing import LabelEncoder\n",
    "from sklearn.preprocessing import OneHotEncoder\n",
    "# load the dataset\n",
    "dataset = read_csv('breast-cancer.csv', header=None)\n",
    "# retrieve the array of data\n",
    "data = dataset.values\n",
    "# separate into input and output columns\n",
    "X = data[:, :-1].astype(str)\n",
    "y = data[:, -1].astype(str)\n",
    "# one hot encode input variables\n",
    "onehot_encoder = OneHotEncoder(sparse=False)\n",
    "X = onehot_encoder.fit_transform(X)\n",
    "# ordinal encode target variable\n",
    "label_encoder = LabelEncoder()\n",
    "y = label_encoder.fit_transform(y)\n",
    "# summarize the transformed data\n",
    "print('Input', X.shape)\n",
    "print(X[:5, :])"
   ]
  },
  {
   "cell_type": "markdown",
   "metadata": {},
   "source": [
    "We would expect the number of rows to remain the same, but the number of columns to\n",
    "dramatically increase. As expected, in this case, we can see that the number of variables has\n",
    "leaped up from 9 to 43 and all values are now binary values 0 or 1."
   ]
  },
  {
   "cell_type": "markdown",
   "metadata": {},
   "source": [
    "Next, let's evaluate machine learning on this dataset with this encoding as we did in the\n",
    "previous section. The encoding is fit on the training set then applied to both train and test sets\n",
    "as before."
   ]
  },
  {
   "cell_type": "code",
   "execution_count": null,
   "metadata": {},
   "outputs": [],
   "source": [
    "# evaluate logistic regression on the breast cancer dataset with a one-hot encoding\n",
    "from pandas import read_csv\n",
    "from sklearn.model_selection import train_test_split\n",
    "from sklearn.linear_model import LogisticRegression\n",
    "from sklearn.preprocessing import LabelEncoder\n",
    "from sklearn.preprocessing import OneHotEncoder\n",
    "from sklearn.metrics import accuracy_score\n",
    "# load the dataset\n",
    "dataset = read_csv('breast-cancer.csv', header=None)\n",
    "# retrieve the array of data\n",
    "data = dataset.values\n",
    "# separate into input and output columns\n",
    "X = data[:, :-1].astype(str)\n",
    "y = data[:, -1].astype(str)\n",
    "# split the dataset into train and test sets\n",
    "X_train, X_test, y_train, y_test = train_test_split(X, y, test_size=0.33, random_state=1)\n",
    "# one-hot encode input variables\n",
    "onehot_encoder = OneHotEncoder()\n",
    "onehot_encoder.fit(X_train)\n",
    "X_train = onehot_encoder.transform(X_train)\n",
    "X_test = onehot_encoder.transform(X_test)\n",
    "# ordinal encode target variable\n",
    "label_encoder = LabelEncoder()\n",
    "label_encoder.fit(y_train)\n",
    "y_train = label_encoder.transform(y_train)\n",
    "y_test = label_encoder.transform(y_test)\n",
    "# define the model\n",
    "model = LogisticRegression()\n",
    "# fit on the training set\n",
    "model.fit(X_train, y_train)\n",
    "# predict on test set\n",
    "yhat = model.predict(X_test)\n",
    "# evaluate predictions\n",
    "accuracy = accuracy_score(y_test, yhat)\n",
    "print('Accuracy: %.2f' % (accuracy*100))"
   ]
  },
  {
   "cell_type": "markdown",
   "metadata": {},
   "source": [
    "In this case, the model achieved a classifcation accuracy of about 70.53 percent, which is\n",
    "worse than the ordinal encoding in the previous section."
   ]
  }
 ],
 "metadata": {},
 "nbformat": 4,
 "nbformat_minor": 0
}
