{
 "cells": [
  {
   "cell_type": "markdown",
   "metadata": {},
   "source": [
    "# Encode Categorical Data\n",
    "\n",
    "Adapted from Jason Brownlee. 2020. [Data Preparation for Machine Learning](https://machinelearningmastery.com/data-preparation-for-machine-learning/).\n",
    "\n",
    "## Overview\n",
    "\n",
    "This module covers techniques for encoding categorical data into numerical formats for machine learning models. We'll explore different encoding methods including ordinal encoding, one-hot encoding, and dummy variable encoding using a breast cancer dataset as a practical example.\n",
    "\n",
    "## Learning Objectives\n",
    "\n",
    "- Learn why encoding is required for preprocessing categorical data in machine learning algorithms\n",
    "- Understand how to use ordinal encoding for categorical variables with natural rank ordering\n",
    "- Understand one-hot encoding techniques for categorical variables without natural rank ordering\n",
    "- Apply encoding techniques to real medical data for breast cancer prediction\n",
    "\n",
    "## Prerequisites\n",
    "\n",
    "- Basic understanding of Python programming\n",
    "- Familiarity with NumPy libraries\n",
    "- Knowledge of basic statistical concepts"
   ]
  },
  {
   "cell_type": "markdown",
   "metadata": {},
   "source": [
    "## Get Started\n",
    "\n",
    "To start, we install required packages, import the necessary libraries, and define a helper function to download data using the `requests` library."
   ]
  },
  {
   "cell_type": "markdown",
   "metadata": {},
   "source": [
    "### Install required packages"
   ]
  },
  {
   "cell_type": "code",
   "execution_count": null,
   "metadata": {},
   "outputs": [],
   "source": [
    "%pip install numpy pandas requests scikit-learn"
   ]
  },
  {
   "cell_type": "markdown",
   "metadata": {},
   "source": [
    "### Import necessary libraries"
   ]
  },
  {
   "cell_type": "code",
   "execution_count": null,
   "metadata": {},
   "outputs": [],
   "source": [
    "from pathlib import Path\n",
    "\n",
    "import requests\n",
    "from numpy import asarray\n",
    "from pandas import read_csv\n",
    "from sklearn.linear_model import LogisticRegression\n",
    "from sklearn.metrics import accuracy_score\n",
    "from sklearn.model_selection import train_test_split\n",
    "from sklearn.preprocessing import LabelEncoder, OneHotEncoder, OrdinalEncoder"
   ]
  },
  {
   "cell_type": "markdown",
   "metadata": {},
   "source": [
    "### Define utility functions\n",
    "\n",
    "Define a helper function for downloading example datasets.  \n",
    "\n",
    "*Note!* It is not essential that you understand the following code.  It is just for getting the example data."
   ]
  },
  {
   "cell_type": "code",
   "execution_count": null,
   "metadata": {},
   "outputs": [],
   "source": [
    "def download(url, to_file):\n",
    "    \"\"\"Download content from the given URL and save it to a file.\n",
    "\n",
    "    Args:\n",
    "        url (str): The URL to download the content from.\n",
    "        to_file (str): The name of the file to save the downloaded content to.\n",
    "\n",
    "    \"\"\"\n",
    "    response = requests.get(url, timeout=10)\n",
    "    Path(to_file).write_bytes(response.content)\n",
    "    print(f\"downloaded file '{to_file}'\")"
   ]
  },
  {
   "cell_type": "markdown",
   "metadata": {},
   "source": [
    "## Breast Cancer Categorical Dataset\n",
    "\n",
    "Breast cancer dataset classifies breast cancer\n",
    "patient as either a recurrence or no recurrence of cancer. \n",
    "\n",
    "```\n",
    "Number of Instances: 286\n",
    "Number of Attributes: 9 + the class attribute\n",
    "Attribute Information:\n",
    "   1. Class: no-recurrence-events, recurrence-events\n",
    "   2. age: 10-19, 20-29, 30-39, 40-49, 50-59, 60-69, 70-79, 80-89, 90-99.\n",
    "   3. menopause: lt40, ge40, premeno.\n",
    "   4. tumor-size: 0-4, 5-9, 10-14, 15-19, 20-24, 25-29, 30-34, 35-39, 40-44, 45-49, 50-54, 55-59.\n",
    "   5. inv-nodes: 0-2, 3-5, 6-8, 9-11, 12-14, 15-17, 18-20, 21-23, 24-26, 27-29, 30-32, 33-35, 36-39.\n",
    "   6. node-caps: yes, no.\n",
    "   7. deg-malig: 1, 2, 3.\n",
    "   8. breast: left, right.\n",
    "   9. breast-quad: left-up, left-low, right-up,\tright-low, central.\n",
    "  10. irradiat:\tyes, no.\n",
    "Missing Attribute Values: (denoted by \"?\")\n",
    "   Attribute #:  Number of instances with missing values:\n",
    "   6.             8\n",
    "   9.             1.\n",
    "Class Distribution:\n",
    "    1. no-recurrence-events: 201 instances\n",
    "    2. recurrence-events: 85 instances \n",
    "```\n",
    "\n",
    "You can learn more about the dataset here:\n",
    "* Breast Cancer Dataset ([breast-cancer.csv](https://raw.githubusercontent.com/jbrownlee/Datasets/master/breast-cancer.csv))\n",
    "* Breast Cancer Dataset Description ([breast-cancer.names](https://raw.githubusercontent.com/jbrownlee/Datasets/master/breast-cancer.names))"
   ]
  },
  {
   "cell_type": "markdown",
   "metadata": {},
   "source": [
    "### Download Breast Cancer data files"
   ]
  },
  {
   "cell_type": "code",
   "execution_count": null,
   "metadata": {},
   "outputs": [],
   "source": [
    "download(\n",
    "    url=\"https://raw.githubusercontent.com/jbrownlee/Datasets/master/breast-cancer.csv\",\n",
    "    to_file=\"breast-cancer.csv\",\n",
    ")\n",
    "\n",
    "download(\n",
    "    url=\"https://raw.githubusercontent.com/jbrownlee/Datasets/master/breast-cancer.names\",\n",
    "    to_file=\"breast-cancer.names\",\n",
    ")"
   ]
  },
  {
   "cell_type": "markdown",
   "metadata": {},
   "source": [
    "### Load and summarize the dataset"
   ]
  },
  {
   "cell_type": "code",
   "execution_count": null,
   "metadata": {},
   "outputs": [],
   "source": [
    "# load the dataset\n",
    "dataset = read_csv(\"breast-cancer.csv\", header=None)\n",
    "print(dataset.head())\n",
    "\n",
    "# retrieve the array of data\n",
    "data = dataset.values\n",
    "\n",
    "# separate into input and output columns\n",
    "X = data[:, :-1].astype(str)\n",
    "y = data[:, -1].astype(str)\n",
    "\n",
    "# summarize\n",
    "print(\"Input\", X.shape)\n",
    "print(\"Output\", y.shape)"
   ]
  },
  {
   "cell_type": "markdown",
   "metadata": {},
   "source": [
    "We\n",
    "can see that we have 286 examples and nine input variables.\n",
    "\n"
   ]
  },
  {
   "cell_type": "markdown",
   "metadata": {},
   "source": [
    "## Nominal And Ordinal Variables\n",
    "\n",
    "* **Nominal Variable**. Variable comprises a finite set of discrete values with no rank-order\n",
    "relationship between values.\n",
    "* **Ordinal Variable**. Variable comprises a finite set of discrete values with a ranked\n",
    "ordering between values.\n",
    "\n",
    "Some algorithms can work with categorical data directly. For example, a decision tree can\n",
    "be learned directly from categorical data with no data transform required (this depends on\n",
    "the specific implementation). Many machine learning algorithms cannot operate on label data\n",
    "directly. They require all input variables and output variables to be numeric. In general, this is\n",
    "mostly a constraint of the effcient implementation of machine learning algorithms rather than\n",
    "hard limitations on the algorithms themselves.\n",
    "\n",
    "Some implementations of machine learning algorithms require all data to be numerical. This means that categorical data must be converted\n",
    "to a numerical form. If the categorical variable is an output variable, you may also want to\n",
    "convert predictions by the model back into a categorical form in order to present them or use\n",
    "them in some application."
   ]
  },
  {
   "cell_type": "markdown",
   "metadata": {},
   "source": [
    "## Encoding Categorical Data\n",
    "\n",
    "There are three common approaches for converting ordinal and categorical variables to numerical\n",
    "values. They are:\n",
    "* Ordinal Encoding\n",
    "* One-Hot Encoding\n",
    "* Dummy Variable Encoding"
   ]
  },
  {
   "cell_type": "markdown",
   "metadata": {},
   "source": [
    "### Ordinal Encoding\n",
    "\n",
    "In ordinal encoding, each unique category value is assigned an integer value. An integer ordinal encoding is a natural encoding for ordinal variables. For categorical\n",
    "variables, it imposes an ordinal relationship where no such relationship may exist. This can\n",
    "cause problems and a one-hot encoding may be used instead."
   ]
  },
  {
   "cell_type": "code",
   "execution_count": null,
   "metadata": {},
   "outputs": [],
   "source": [
    "# example of an ordinal encoding\n",
    "\n",
    "# Encode categorical features as an integer array\n",
    "\n",
    "# define data\n",
    "data = asarray([[\"red\"], [\"green\"], [\"blue\"]])\n",
    "print(\"Original data: \\n\", data)\n",
    "\n",
    "# define ordinal encoding\n",
    "encoder = OrdinalEncoder()\n",
    "\n",
    "# # Fit OrdinalEncoder to data, then transform data.\n",
    "result = encoder.fit_transform(data)\n",
    "print(\"Encoded data: \\n\", result)"
   ]
  },
  {
   "cell_type": "markdown",
   "metadata": {},
   "source": [
    "We\n",
    "can see that the numbers are assigned to the labels as we expected.\n",
    "\n",
    "This **OrdinalEncoder** class is intended for input variables that are organized into rows and\n",
    "columns, e.g. a matrix. If a categorical target variable needs to be encoded for a classification\n",
    "problem, then the **LabelEncoder** class can be used. It does the same\n",
    "thing as the **OrdinalEncoder**, although it expects a one-dimensional input for the single target\n",
    "variable."
   ]
  },
  {
   "cell_type": "markdown",
   "metadata": {},
   "source": [
    "### One-Hot Encoding\n",
    "\n",
    "For categorical variables where no ordinal relationship exists, the integer encoding may not be\n",
    "enough or even misleading to the model. Forcing an ordinal relationship via an ordinal encoding\n",
    "and allowing the model to assume a natural ordering between categories may result in poor\n",
    "performance or unexpected results (predictions halfway between categories). In this case, a one\n",
    "hot encoding can be applied to the ordinal representation. This is where the integer encoded\n",
    "variable is removed and one new binary variable is added for each unique integer value in the\n",
    "variable."
   ]
  },
  {
   "cell_type": "code",
   "execution_count": null,
   "metadata": {},
   "outputs": [],
   "source": [
    "# example of an one-hot encoding\n",
    "\n",
    "# Encode categorical features as a one-hot numeric array.\n",
    "\n",
    "# define data\n",
    "data = asarray([[\"red\"], [\"green\"], [\"blue\"]])\n",
    "print(data)\n",
    "\n",
    "# define one-hot encoding\n",
    "# Will return sparse matrix if set True else will return an array.\n",
    "encoder = OneHotEncoder(sparse_output=False)\n",
    "\n",
    "# Fit OneHotEncoder to data, then transform data.\n",
    "onehot = encoder.fit_transform(data)\n",
    "print(onehot)"
   ]
  },
  {
   "cell_type": "markdown",
   "metadata": {},
   "source": [
    "We can see the one-hot encoding\n",
    "matching our expectation of 3 binary variables in the order blue, green and red."
   ]
  },
  {
   "cell_type": "markdown",
   "metadata": {},
   "source": [
    "### Dummy Variable Encoding\n",
    "\n",
    "The one-hot encoding creates one binary variable for each category. The problem is that this\n",
    "representation includes redundancy. For example, if we know that `[1, 0, 0]` represents blue and\n",
    "`[0, 1, 0]` represents green we don't need another binary variable to represent red, instead we\n",
    "could use 0 values alone, e.g. `[0, 0]`. This is called a dummy variable encoding, and always\n",
    "represents `C` categories with `C - 1` binary variables."
   ]
  },
  {
   "cell_type": "markdown",
   "metadata": {},
   "source": [
    "We can use the OneHotEncoder class to implement a dummy encoding as well as a one-hot\n",
    "encoding. The drop argument can be set to indicate which category will become the one that is\n",
    "assigned all zero values, called the baseline. We can set this to `firrst' so that the first category is\n",
    "used. When the labels are sorted alphabetically, the blue label will be the first and will become\n",
    "the baseline."
   ]
  },
  {
   "cell_type": "code",
   "execution_count": null,
   "metadata": {},
   "outputs": [],
   "source": [
    "# example of a dummy variable encoding\n",
    "\n",
    "# define data\n",
    "data = asarray([[\"red\"], [\"green\"], [\"blue\"]])\n",
    "print(data)\n",
    "\n",
    "# define one-hot encoding\n",
    "# drop the first category in each feature. If only one category is present,\n",
    "# the feature will be dropped entirely.\n",
    "# Will return sparse matrix if set True else will return an array.\n",
    "encoder = OneHotEncoder(drop=\"first\", sparse_output=False)\n",
    "\n",
    "# Fit OneHotEncoder to data, then transform data.\n",
    "onehot = encoder.fit_transform(data)\n",
    "print(onehot)"
   ]
  },
  {
   "cell_type": "markdown",
   "metadata": {},
   "source": [
    "### `OrdinalEncoder` Transform\n",
    "\n",
    "An ordinal encoding involves mapping each unique label to an integer value. This type of\n",
    "encoding is really only appropriate if there is a known relationship between the categories. This\n",
    "relationship does exist for some of the variables in our dataset, and ideally, this should be\n",
    "harnessed when preparing the data. In this case, we will ignore any possible existing ordinal\n",
    "relationship and assume all variables are categorical. It can still be helpful to use an ordinal\n",
    "encoding, at least as a point of reference with other encoding schemes.\n",
    "We can use the `OrdinalEncoder` from scikit-learn to encode each variable to integers."
   ]
  },
  {
   "cell_type": "markdown",
   "metadata": {},
   "source": [
    "#### Ordinal Encode The Breast Cancer Dataset\n"
   ]
  },
  {
   "cell_type": "code",
   "execution_count": null,
   "metadata": {},
   "outputs": [],
   "source": [
    "# load the dataset\n",
    "dataset = read_csv(\"breast-cancer.csv\", header=None)\n",
    "\n",
    "# retrieve the array of data\n",
    "data = dataset.values\n",
    "\n",
    "# separate into input and output columns\n",
    "X = data[:, :-1].astype(str)\n",
    "y = data[:, -1].astype(str)\n",
    "\n",
    "# ordinal encode input variables\n",
    "ordinal_encoder = OrdinalEncoder()\n",
    "X = ordinal_encoder.fit_transform(X)\n",
    "\n",
    "# ordinal encode target variable\n",
    "label_encoder = LabelEncoder()\n",
    "y = label_encoder.fit_transform(y)\n",
    "\n",
    "# summarize the transformed data\n",
    "print(\"Input\", X.shape)\n",
    "print(X[:5, :])\n",
    "print(\"Output\", y.shape)\n",
    "print(y[:5])"
   ]
  },
  {
   "cell_type": "markdown",
   "metadata": {},
   "source": [
    "We would expect the number of rows, and in this case, the number of columns, to be unchanged,\n",
    "except all string values are now integer values. As expected, in this case, we can see that the\n",
    "number of variables is unchanged, but all values are now ordinal encoded integers."
   ]
  },
  {
   "cell_type": "markdown",
   "metadata": {},
   "source": [
    "Next, let's evaluate machine learning on this dataset with this encoding. The best practice\n",
    "when encoding variables is to fit the encoding on the training dataset, then apply it to the train\n",
    "and test datasets. We will first split the dataset, then prepare the encoding on the training set,\n",
    "and apply it to the test set."
   ]
  },
  {
   "cell_type": "markdown",
   "metadata": {},
   "source": [
    "#### Logistic Regression With Ordinal Encoding\n",
    "\n",
    "Next, we evaluate logistic regression on the breast cancer dataset with an ordinal encoding."
   ]
  },
  {
   "cell_type": "code",
   "execution_count": null,
   "metadata": {},
   "outputs": [],
   "source": [
    "# load the dataset\n",
    "dataset = read_csv(\"breast-cancer.csv\", header=None)\n",
    "\n",
    "# retrieve the array of data\n",
    "data = dataset.values\n",
    "\n",
    "# separate into input and output columns\n",
    "X = data[:, :-1].astype(str)\n",
    "y = data[:, -1].astype(str)\n",
    "\n",
    "# split the dataset into train and test sets\n",
    "X_train, X_test, y_train, y_test = train_test_split(\n",
    "    X, y, test_size=0.33, random_state=1\n",
    ")\n",
    "\n",
    "# ordinal encode input variables\n",
    "ordinal_encoder = OrdinalEncoder()\n",
    "ordinal_encoder.fit(X_train)\n",
    "X_train = ordinal_encoder.transform(X_train)\n",
    "X_test = ordinal_encoder.transform(X_test)\n",
    "\n",
    "# ordinal encode target variable\n",
    "label_encoder = LabelEncoder()\n",
    "label_encoder.fit(y_train)\n",
    "y_train = label_encoder.transform(y_train)\n",
    "y_test = label_encoder.transform(y_test)\n",
    "\n",
    "# define the model\n",
    "model = LogisticRegression()\n",
    "\n",
    "# fit on the training set\n",
    "model.fit(X_train, y_train)\n",
    "\n",
    "# predict on test set\n",
    "yhat = model.predict(X_test)\n",
    "\n",
    "# evaluate predictions\n",
    "accuracy = accuracy_score(y_test, yhat)\n",
    "print(\"Accuracy: %.2f\" % (accuracy * 100))"
   ]
  },
  {
   "cell_type": "markdown",
   "metadata": {},
   "source": [
    "In this case, the model achieved a classification accuracy of about 75.79 percent, which is a\n",
    "reasonable score."
   ]
  },
  {
   "cell_type": "markdown",
   "metadata": {},
   "source": [
    "### `OneHotEncoder` Transform\n",
    "\n",
    "A one-hot encoding is appropriate for categorical data where no relationship exists between\n",
    "categories. The scikit-learn library provides the OneHotEncoder class to automatically one-hot\n",
    "encode one or more variables. By default the `OneHotEncoder` will output data with a sparse\n",
    "representation, which is efficient given that most values are 0 in the encoded representation.\n",
    "We will disable this feature by setting the sparse argument to False so that we can review the\n",
    "effect of the encoding. Once defined, we can call the fit transform() function and pass it to\n",
    "our dataset to create a quantile transformed version of our dataset."
   ]
  },
  {
   "cell_type": "markdown",
   "metadata": {},
   "source": [
    "#### One-hot Encode The Breast Cancer Dataset"
   ]
  },
  {
   "cell_type": "code",
   "execution_count": null,
   "metadata": {},
   "outputs": [],
   "source": [
    "# load the dataset\n",
    "dataset = read_csv(\"breast-cancer.csv\", header=None)\n",
    "\n",
    "# retrieve the array of data\n",
    "data = dataset.values\n",
    "\n",
    "# separate into input and output columns\n",
    "X = data[:, :-1].astype(str)\n",
    "y = data[:, -1].astype(str)\n",
    "\n",
    "# one-hot encode input variables\n",
    "onehot_encoder = OneHotEncoder(sparse_output=False)\n",
    "X = onehot_encoder.fit_transform(X)\n",
    "\n",
    "# ordinal encode target variable\n",
    "label_encoder = LabelEncoder()\n",
    "y = label_encoder.fit_transform(y)\n",
    "\n",
    "# summarize the transformed data\n",
    "print(\"Input\", X.shape)\n",
    "print(X[:5, :])"
   ]
  },
  {
   "cell_type": "markdown",
   "metadata": {},
   "source": [
    "We would expect the number of rows to remain the same, but the number of columns to\n",
    "dramatically increase. As expected, in this case, we can see that the number of variables has\n",
    "leaped up from 9 to 43 and all values are now binary values 0 or 1."
   ]
  },
  {
   "cell_type": "markdown",
   "metadata": {},
   "source": [
    "Next, let's evaluate machine learning on this dataset with this encoding as we did in the\n",
    "previous section. The encoding is fit on the training set then applied to both train and test sets\n",
    "as before."
   ]
  },
  {
   "cell_type": "markdown",
   "metadata": {},
   "source": [
    "#### Logistic Regression With One-Hot Encoding \n",
    "\n",
    "Next, we evaluate logistic regression on the breast cancer dataset with a one-hot encoding."
   ]
  },
  {
   "cell_type": "code",
   "execution_count": null,
   "metadata": {},
   "outputs": [],
   "source": [
    "# load the dataset\n",
    "dataset = read_csv(\"breast-cancer.csv\", header=None)\n",
    "\n",
    "# retrieve the array of data\n",
    "data = dataset.values\n",
    "\n",
    "# separate into input and output columns\n",
    "X = data[:, :-1].astype(str)\n",
    "y = data[:, -1].astype(str)\n",
    "\n",
    "# split the dataset into train and test sets\n",
    "X_train, X_test, y_train, y_test = train_test_split(\n",
    "    X, y, test_size=0.33, random_state=1\n",
    ")\n",
    "\n",
    "# one-hot encode input variables\n",
    "onehot_encoder = OneHotEncoder()\n",
    "onehot_encoder.fit(X_train)\n",
    "X_train = onehot_encoder.transform(X_train)\n",
    "X_test = onehot_encoder.transform(X_test)\n",
    "\n",
    "# ordinal encode target variable\n",
    "label_encoder = LabelEncoder()\n",
    "label_encoder.fit(y_train)\n",
    "y_train = label_encoder.transform(y_train)\n",
    "y_test = label_encoder.transform(y_test)\n",
    "\n",
    "# define the model\n",
    "model = LogisticRegression()\n",
    "\n",
    "# fit on the training set\n",
    "model.fit(X_train, y_train)\n",
    "\n",
    "# predict on test set\n",
    "yhat = model.predict(X_test)\n",
    "\n",
    "# evaluate predictions\n",
    "accuracy = accuracy_score(y_test, yhat)\n",
    "print(\"Accuracy: %.2f\" % (accuracy * 100))"
   ]
  },
  {
   "cell_type": "markdown",
   "metadata": {},
   "source": [
    "In this case, the model achieved a classifcation accuracy of about 70.53 percent, which is\n",
    "worse than the ordinal encoding in the previous section."
   ]
  },
  {
   "cell_type": "markdown",
   "metadata": {},
   "source": [
    "## Conclusion\n",
    "\n",
    "In this module, we explored different techniques for encoding categorical data into numerical formats suitable for machine learning models.  Keep in mind that choice of encoding method can significantly impact model performance, and that some categorical variables may have natural relationships that should be considered when choosing encoding methods.\n",
    "\n",
    "## Clean up\n",
    "\n",
    "Remember to shut down your Jupyter Notebook environment and delete any unnecessary files or resources once you've completed the tutorial."
   ]
  }
 ],
 "metadata": {},
 "nbformat": 4,
 "nbformat_minor": 0
}
