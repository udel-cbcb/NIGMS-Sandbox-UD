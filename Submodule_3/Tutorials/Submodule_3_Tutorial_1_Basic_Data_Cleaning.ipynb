{
 "cells": [
  {
   "cell_type": "markdown",
   "metadata": {},
   "source": [
    "# Basic Data Cleaning\n",
    "\n",
    "Adpated from Jason Brownlee. 2020. [Data Preparation for Machine Learning](https://machinelearningmastery.com/data-preparation-for-machine-learning/).\n",
    "\n",
    "## Overview\n",
    "\n",
    "This tutorial covers basic data cleaning techniques using Python and pandas. We'll explore common data quality issues and learn how to address them effectively.\n",
    "\n",
    "Data cleaning is a crucial step in the data science workflow, ensuring that your datasets are accurate, consistent, and ready for analysis. In this tutorial, you'll learn to identify and address common data quality issues, such as missing values, duplicates, and inconsistent formats. Through hands-on exercises using pandas, you'll gain practical experience in essential data cleaning tasks. By the end of this tutorial, you'll have developed the skills necessary to prepare datasets for further analysis and modeling, setting a strong foundation for your data science projects.\n",
    "\n",
    "## Learning Objectives\n",
    "\n",
    "- Understand the importance of data cleaning in the data science workflow\n",
    "- Learn to identify and handle common data quality issues\n",
    "- Gain practical experience in using pandas for data cleaning tasks\n",
    "- Develop skills to prepare datasets for further analysis and modeling\n",
    "\n",
    "## Prerequisites\n",
    "\n",
    "- Basic knowledge of Python programming\n",
    "- Familiarity with pandas library"
   ]
  },
  {
   "cell_type": "markdown",
   "metadata": {},
   "source": [
    "## Get Started\n",
    "\n",
    "To start, we install required packages, import the necessary libraries."
   ]
  },
  {
   "cell_type": "markdown",
   "metadata": {},
   "source": [
    "### Install required packages"
   ]
  },
  {
   "cell_type": "code",
   "execution_count": 1,
   "metadata": {},
   "outputs": [
    {
     "name": "stdout",
     "output_type": "stream",
     "text": [
      "Requirement already satisfied: pandas in /Users/chenc/miniconda3/lib/python3.9/site-packages (2.2.3)\n",
      "Requirement already satisfied: numpy>=1.22.4 in /Users/chenc/miniconda3/lib/python3.9/site-packages (from pandas) (1.26.4)\n",
      "Requirement already satisfied: python-dateutil>=2.8.2 in /Users/chenc/miniconda3/lib/python3.9/site-packages (from pandas) (2.8.2)\n",
      "Requirement already satisfied: pytz>=2020.1 in /Users/chenc/miniconda3/lib/python3.9/site-packages (from pandas) (2022.1)\n",
      "Requirement already satisfied: tzdata>=2022.7 in /Users/chenc/miniconda3/lib/python3.9/site-packages (from pandas) (2023.3)\n",
      "Requirement already satisfied: six>=1.5 in /Users/chenc/miniconda3/lib/python3.9/site-packages (from python-dateutil>=2.8.2->pandas) (1.16.0)\n",
      "Note: you may need to restart the kernel to use updated packages.\n"
     ]
    }
   ],
   "source": [
    "# Installs the pandas library using pip, a package installer for Python.\n",
    "# Pandas is a powerful data manipulation and analysis library.\n",
    "%pip install pandas"
   ]
  },
  {
   "cell_type": "markdown",
   "metadata": {},
   "source": [
    "### Import necessary libraries"
   ]
  },
  {
   "cell_type": "code",
   "execution_count": 2,
   "metadata": {},
   "outputs": [],
   "source": [
    "# Imports the pandas library and assigns it the alias 'pd' for easier use throughout the code.\n",
    "import pandas as pd"
   ]
  },
  {
   "cell_type": "markdown",
   "metadata": {},
   "source": [
    "## Messy Dataset\n",
    "\n",
    "The breast cancer dataset classifies breast cancer patient as either a recurrence or no recurrence of cancer. \n",
    "\n",
    "```\n",
    "Number of Instances: 289\n",
    "Number of Attributes: 9 + the class attribute\n",
    "Attribute Information:\n",
    "   1. Class: no-recurrence-events, recurrence-events\n",
    "   2. age: 10-19, 20-29, 30-39, 40-49, 50-59, 60-69, 70-79, 80-89, 90-99.\n",
    "   3. menopause: lt40, ge40, premeno.\n",
    "   4. tumor-size: 0-4, 5-9, 10-14, 15-19, 20-24, 25-29, 30-34, 35-39, 40-44, 45-49, 50-54, 55-59.\n",
    "   5. inv-nodes: 0-2, 3-5, 6-8, 9-11, 12-14, 15-17, 18-20, 21-23, 24-26, 27-29, 30-32, 33-35, 36-39.\n",
    "   6. node-caps: yes, no.\n",
    "   7. deg-malig: 1, 2, 3.\n",
    "   8. breast: left, right.\n",
    "   9. breast-quad: left-up, left-low, right-up,\tright-low, central.\n",
    "  10. irradiat:\tyes, no.\n",
    "Missing Attribute Values: (denoted by \"?\")\n",
    "   Attribute #:  Number of instances with missing values:\n",
    "   6.             8\n",
    "   9.             1.\n",
    "Class Distribution:\n",
    "    1. no-recurrence-events: 201 instances\n",
    "    2. recurrence-events: 85 instances \n",
    "```\n",
    "\n",
    "You can learn more about the dataset here:\n",
    "\n",
    "* Breast Cancer Dataset ([breast-cancer.csv](https://raw.githubusercontent.com/jbrownlee/Datasets/master/breast-cancer.csv))\n",
    "* Breast Cancer Dataset Description ([breast-cancer.names](https://raw.githubusercontent.com/jbrownlee/Datasets/master/breast-cancer.names))\n",
    "\n",
    "\n",
    "The messy dataset was modified from Breast Cancer Dataset so that various data cleaning techniques may be demonstrated."
   ]
  },
  {
   "cell_type": "markdown",
   "metadata": {},
   "source": [
    "## Identify Columns That Contain a Single Value\n",
    "\n",
    "First, summarize the number of unique values for each column using pandas."
   ]
  },
  {
   "cell_type": "code",
   "execution_count": 3,
   "metadata": {},
   "outputs": [
    {
     "data": {
      "text/html": [
       "<div>\n",
       "<style scoped>\n",
       "    .dataframe tbody tr th:only-of-type {\n",
       "        vertical-align: middle;\n",
       "    }\n",
       "\n",
       "    .dataframe tbody tr th {\n",
       "        vertical-align: top;\n",
       "    }\n",
       "\n",
       "    .dataframe thead th {\n",
       "        text-align: right;\n",
       "    }\n",
       "</style>\n",
       "<table border=\"1\" class=\"dataframe\">\n",
       "  <thead>\n",
       "    <tr style=\"text-align: right;\">\n",
       "      <th></th>\n",
       "      <th>0</th>\n",
       "      <th>1</th>\n",
       "      <th>2</th>\n",
       "      <th>3</th>\n",
       "      <th>4</th>\n",
       "      <th>5</th>\n",
       "      <th>6</th>\n",
       "      <th>7</th>\n",
       "      <th>8</th>\n",
       "      <th>9</th>\n",
       "      <th>10</th>\n",
       "    </tr>\n",
       "  </thead>\n",
       "  <tbody>\n",
       "    <tr>\n",
       "      <th>0</th>\n",
       "      <td>'40-49'</td>\n",
       "      <td>'premeno'</td>\n",
       "      <td>'15-19'</td>\n",
       "      <td>'0-2'</td>\n",
       "      <td>'yes'</td>\n",
       "      <td>4'</td>\n",
       "      <td>'3'</td>\n",
       "      <td>'right'</td>\n",
       "      <td>'left_up'</td>\n",
       "      <td>'no'</td>\n",
       "      <td>'recurrence-events'</td>\n",
       "    </tr>\n",
       "    <tr>\n",
       "      <th>1</th>\n",
       "      <td>'50-59'</td>\n",
       "      <td>'ge40'</td>\n",
       "      <td>'15-19'</td>\n",
       "      <td>'0-2'</td>\n",
       "      <td>'no'</td>\n",
       "      <td>4'</td>\n",
       "      <td>'1'</td>\n",
       "      <td>'right'</td>\n",
       "      <td>'central'</td>\n",
       "      <td>'no'</td>\n",
       "      <td>'no-recurrence-events'</td>\n",
       "    </tr>\n",
       "    <tr>\n",
       "      <th>2</th>\n",
       "      <td>'50-59'</td>\n",
       "      <td>'ge40'</td>\n",
       "      <td>'35-39'</td>\n",
       "      <td>'0-2'</td>\n",
       "      <td>'no'</td>\n",
       "      <td>4'</td>\n",
       "      <td>'2'</td>\n",
       "      <td>'left'</td>\n",
       "      <td>'left_low'</td>\n",
       "      <td>'no'</td>\n",
       "      <td>'recurrence-events'</td>\n",
       "    </tr>\n",
       "    <tr>\n",
       "      <th>3</th>\n",
       "      <td>'40-49'</td>\n",
       "      <td>'premeno'</td>\n",
       "      <td>'35-39'</td>\n",
       "      <td>'0-2'</td>\n",
       "      <td>'yes'</td>\n",
       "      <td>4'</td>\n",
       "      <td>'3'</td>\n",
       "      <td>'right'</td>\n",
       "      <td>'left_low'</td>\n",
       "      <td>'yes'</td>\n",
       "      <td>'no-recurrence-events'</td>\n",
       "    </tr>\n",
       "    <tr>\n",
       "      <th>4</th>\n",
       "      <td>'40-49'</td>\n",
       "      <td>'premeno'</td>\n",
       "      <td>'30-34'</td>\n",
       "      <td>'3-5'</td>\n",
       "      <td>'yes'</td>\n",
       "      <td>4'</td>\n",
       "      <td>'2'</td>\n",
       "      <td>'left'</td>\n",
       "      <td>'right_up'</td>\n",
       "      <td>'no'</td>\n",
       "      <td>'recurrence-events'</td>\n",
       "    </tr>\n",
       "  </tbody>\n",
       "</table>\n",
       "</div>"
      ],
      "text/plain": [
       "        0          1        2      3      4   5    6        7           8   \\\n",
       "0  '40-49'  'premeno'  '15-19'  '0-2'  'yes'  4'  '3'  'right'   'left_up'   \n",
       "1  '50-59'     'ge40'  '15-19'  '0-2'   'no'  4'  '1'  'right'   'central'   \n",
       "2  '50-59'     'ge40'  '35-39'  '0-2'   'no'  4'  '2'   'left'  'left_low'   \n",
       "3  '40-49'  'premeno'  '35-39'  '0-2'  'yes'  4'  '3'  'right'  'left_low'   \n",
       "4  '40-49'  'premeno'  '30-34'  '3-5'  'yes'  4'  '2'   'left'  'right_up'   \n",
       "\n",
       "      9                       10  \n",
       "0   'no'     'recurrence-events'  \n",
       "1   'no'  'no-recurrence-events'  \n",
       "2   'no'     'recurrence-events'  \n",
       "3  'yes'  'no-recurrence-events'  \n",
       "4   'no'     'recurrence-events'  "
      ]
     },
     "execution_count": 3,
     "metadata": {},
     "output_type": "execute_result"
    }
   ],
   "source": [
    "# Define the file path to the messy_data.csv dataset.\n",
    "messy_data = \"../../Data/messy_data.csv\"\n",
    "\n",
    "# Load the dataset into a pandas DataFrame\n",
    "df = pd.read_csv(messy_data, header=None)\n",
    "\n",
    "# Display the first few rows of the DataFrame to inspect the data\n",
    "df.head()"
   ]
  },
  {
   "cell_type": "markdown",
   "metadata": {},
   "source": [
    "Then, summarize the number of unique values in each column using `nunique()`."
   ]
  },
  {
   "cell_type": "code",
   "execution_count": 4,
   "metadata": {},
   "outputs": [
    {
     "name": "stdout",
     "output_type": "stream",
     "text": [
      "Shape of messy data:  (289, 11)\n",
      "Column\t#Unique values \n",
      "0      6\n",
      "1      3\n",
      "2     11\n",
      "3      7\n",
      "4      2\n",
      "5      1\n",
      "6      3\n",
      "7      2\n",
      "8      5\n",
      "9      2\n",
      "10     2\n",
      "dtype: int64\n"
     ]
    }
   ],
   "source": [
    "# Print the shape of the DataFrame 'df', which represents the number of rows and columns.\n",
    "print(\"Shape of messy data: \", df.shape)\n",
    "# Print a header to indicate that the following output shows the number of unique values per column.\n",
    "print(\"Column\\t#Unique values \")\n",
    "# Print the number of unique values for each column in the DataFrame 'df'.\n",
    "print(df.nunique())"
   ]
  },
  {
   "cell_type": "markdown",
   "metadata": {},
   "source": [
    "We can see that column index 5 only has a single value and should be removed."
   ]
  },
  {
   "cell_type": "markdown",
   "metadata": {},
   "source": [
    "## Delete columns that contain a single value"
   ]
  },
  {
   "cell_type": "code",
   "execution_count": 5,
   "metadata": {},
   "outputs": [
    {
     "name": "stdout",
     "output_type": "stream",
     "text": [
      "(289, 11)\n",
      "[5]\n",
      "(289, 10)\n"
     ]
    }
   ],
   "source": [
    "# Load the dataset from a CSV file into a pandas DataFrame. The file path is specified by the variable 'messy_data' and there is no header row in the CSV.\n",
    "df = pd.read_csv(messy_data, header=None)\n",
    "# print the shape (number of rows and columns) of the DataFrame to understand its dimensions\n",
    "print(df.shape)\n",
    "\n",
    "# calculate and store the number of unique values in each column of the DataFrame\n",
    "counts = df.nunique()\n",
    "\n",
    "# create a list called 'to_del' containing the indices of columns where the number of unique values is equal to 1\n",
    "to_del = [i for i, v in enumerate(counts) if v == 1]\n",
    "# print the list of column indices that are marked for deletion because they have only one unique value\n",
    "print(to_del)\n",
    "\n",
    "# drop the columns identified in 'to_del' from the DataFrame in place (modifying the DataFrame directly)\n",
    "df.drop(to_del, axis=1, inplace=True)\n",
    "# print the shape of the DataFrame again after dropping the columns to show the updated dimensions\n",
    "print(df.shape)"
   ]
  },
  {
   "cell_type": "markdown",
   "metadata": {},
   "source": [
    "## Identify columns that have very few values"
   ]
  },
  {
   "cell_type": "code",
   "execution_count": 6,
   "metadata": {},
   "outputs": [
    {
     "name": "stdout",
     "output_type": "stream",
     "text": [
      "Column, Count, <1%\n",
      "4, 2, 0.7%\n",
      "5, 1, 0.3%\n",
      "7, 2, 0.7%\n",
      "9, 2, 0.7%\n",
      "10, 2, 0.7%\n"
     ]
    }
   ],
   "source": [
    "# Load the dataset from a CSV file into a pandas DataFrame. The file path is specified by the variable 'messy_data' and there is no header row in the CSV.\n",
    "df = pd.read_csv(messy_data, header=None)\n",
    "\n",
    "# Print a header to the output summarizing the columns that will be displayed.\n",
    "print(\"Column, Count, <1%\")\n",
    "# Iterate through each column index and the count of unique values in each column of the DataFrame.\n",
    "for i, v in enumerate(df.nunique()):\n",
    "    # Calculate the percentage of unique values in the current column relative to the total number of rows in the DataFrame.\n",
    "    percentage = float(v) / df.shape[0] * 100\n",
    "    # Check if the calculated percentage is less than 1%.\n",
    "    if percentage < 1:\n",
    "        # If the percentage is less than 1%, print the column index (i), the count of unique values (v), and the calculated percentage (formatted to one decimal place).\n",
    "        print(\"%d, %d, %.1f%%\" % (i, v, percentage))"
   ]
  },
  {
   "cell_type": "markdown",
   "metadata": {},
   "source": [
    "## Drop columns with unique values less than 1 percent of rows"
   ]
  },
  {
   "cell_type": "code",
   "execution_count": 7,
   "metadata": {},
   "outputs": [
    {
     "name": "stdout",
     "output_type": "stream",
     "text": [
      "(289, 11)\n",
      "Columns to delete:  [4, 5, 7, 9, 10]\n",
      "(289, 6)\n"
     ]
    }
   ],
   "source": [
    "# Load the dataset from a CSV file into a pandas DataFrame. The file path is specified by the variable 'messy_data' and there is no header row in the CSV.\n",
    "df = pd.read_csv(messy_data, header=None)\n",
    "# print the shape of the DataFrame (number of rows and columns) to get an overview of its dimensions.\n",
    "print(df.shape)\n",
    "\n",
    "# calculate the number of unique values in each column of the DataFrame.\n",
    "counts = df.nunique()\n",
    "\n",
    "# identify columns to be deleted based on a threshold: if the percentage of unique values in a column is less than 1% of the total number of rows, mark it for deletion.\n",
    "to_del = [i for i, v in enumerate(counts) if (float(v) / df.shape[0] * 100) < 1]\n",
    "# print the indices of the columns identified for deletion.\n",
    "print(\"Columns to delete: \", to_del)\n",
    "\n",
    "# drop the columns identified in 'to_del' from the DataFrame. axis=1 specifies columns, and inplace=True modifies the DataFrame directly.\n",
    "df.drop(to_del, axis=1, inplace=True)\n",
    "# print the shape of the DataFrame again after dropping the columns to show the reduced dimensions.\n",
    "print(df.shape)"
   ]
  },
  {
   "cell_type": "markdown",
   "metadata": {},
   "source": [
    "## Identify rows that contain duplicate data"
   ]
  },
  {
   "cell_type": "code",
   "execution_count": 8,
   "metadata": {},
   "outputs": [
    {
     "name": "stdout",
     "output_type": "stream",
     "text": [
      "Any duplicates?  True\n",
      "Duplicated rows:\n",
      "          0          1        2      3      4   5    6        7           8   \\\n",
      "17   '60-69'     'ge40'  '15-19'  '0-2'   'no'  4'  '2'  'right'   'left_up'   \n",
      "27   '40-49'  'premeno'  '10-14'  '0-2'   'no'  4'  '1'  'right'   'left_up'   \n",
      "44   '30-39'  'premeno'  '15-19'  '0-2'   'no'  4'  '1'   'left'  'left_low'   \n",
      "65   '50-59'     'ge40'  '15-19'  '0-2'   'no'  4'  '1'  'right'   'central'   \n",
      "117  '60-69'     'ge40'  '10-14'  '0-2'   'no'  4'  '1'   'left'   'left_up'   \n",
      "178  '40-49'  'premeno'  '25-29'  '0-2'   'no'  4'  '2'  'right'  'left_low'   \n",
      "190  '50-59'  'premeno'  '25-29'  '0-2'   'no'  4'  '2'   'left'  'right_up'   \n",
      "214  '40-49'  'premeno'  '20-24'  '0-2'   'no'  4'  '2'  'right'   'left_up'   \n",
      "217  '50-59'  'premeno'  '25-29'  '0-2'   'no'  4'  '2'   'left'  'left_low'   \n",
      "221  '50-59'     'ge40'  '20-24'  '0-2'   'no'  4'  '3'   'left'   'left_up'   \n",
      "237  '30-39'     'lt40'  '15-19'  '0-2'   'no'  4'  '3'  'right'   'left_up'   \n",
      "240  '50-59'     'ge40'  '40-44'  '6-8'  'yes'  4'  '3'   'left'  'left_low'   \n",
      "246  '60-69'     'ge40'  '15-19'  '0-2'   'no'  4'  '2'   'left'  'left_low'   \n",
      "268  '30-39'  'premeno'  '35-39'  '0-2'   'no'  4'  '3'   'left'  'left_low'   \n",
      "270  '60-69'     'ge40'  '20-24'  '0-2'   'no'  4'  '1'   'left'  'left_low'   \n",
      "287  '40-49'  'premeno'  '20-24'  '0-2'   'no'  4'  '2'  'right'  'right_up'   \n",
      "288  '50-59'     'ge40'  '40-44'  '0-2'   'no'  4'  '2'   'left'  'left_low'   \n",
      "\n",
      "        9                       10  \n",
      "17    'no'  'no-recurrence-events'  \n",
      "27    'no'  'no-recurrence-events'  \n",
      "44    'no'  'no-recurrence-events'  \n",
      "65    'no'  'no-recurrence-events'  \n",
      "117   'no'  'no-recurrence-events'  \n",
      "178   'no'     'recurrence-events'  \n",
      "190   'no'     'recurrence-events'  \n",
      "214   'no'  'no-recurrence-events'  \n",
      "217   'no'  'no-recurrence-events'  \n",
      "221   'no'  'no-recurrence-events'  \n",
      "237   'no'  'no-recurrence-events'  \n",
      "240  'yes'     'recurrence-events'  \n",
      "246   'no'  'no-recurrence-events'  \n",
      "268   'no'     'recurrence-events'  \n",
      "270   'no'  'no-recurrence-events'  \n",
      "287   'no'  'no-recurrence-events'  \n",
      "288   'no'  'no-recurrence-events'  \n"
     ]
    }
   ],
   "source": [
    "# Load the dataset from a CSV file into a pandas DataFrame. The file path is specified by the variable 'messy_data' and there is no header row in the CSV.\n",
    "df = pd.read_csv(messy_data, header=None)\n",
    "\n",
    "# Identify and create a boolean Series 'dups' indicating duplicate rows in the DataFrame 'df'.\n",
    "dups = df.duplicated()\n",
    "\n",
    "# Print a message to the console indicating whether any duplicate rows were found in the DataFrame 'df'.\n",
    "print(\"Any duplicates? \", dups.any())\n",
    "\n",
    "# Print a header message indicating the display of duplicated rows.\n",
    "print(\"Duplicated rows:\")\n",
    "# Print all rows from the DataFrame 'df' that are marked as duplicates in the boolean Series 'dups'.\n",
    "print(df[dups])"
   ]
  },
  {
   "cell_type": "markdown",
   "metadata": {},
   "source": [
    "## Delete rows that contain duplicate data"
   ]
  },
  {
   "cell_type": "code",
   "execution_count": 9,
   "metadata": {},
   "outputs": [
    {
     "name": "stdout",
     "output_type": "stream",
     "text": [
      "(289, 11)\n",
      "(272, 11)\n"
     ]
    }
   ],
   "source": [
    "# Load the dataset from a CSV file into a pandas DataFrame. The file path is specified by the variable 'messy_data' and there is no header row in the CSV.\n",
    "df = pd.read_csv(messy_data, header=None)\n",
    "# Print the shape of the DataFrame after loading the data.\n",
    "# This will output the number of rows and columns in the DataFrame before removing duplicates.\n",
    "print(df.shape)\n",
    "\n",
    "# Remove duplicate rows from the DataFrame in place.\n",
    "# 'inplace=True' modifies the DataFrame directly instead of returning a new DataFrame.\n",
    "df.drop_duplicates(inplace=True)\n",
    "# Print the shape of the DataFrame after removing duplicate rows.\n",
    "# This will output the number of rows and columns in the DataFrame after duplicate rows are removed.\n",
    "print(df.shape)"
   ]
  },
  {
   "cell_type": "markdown",
   "metadata": {},
   "source": [
    "## Conclusion\n",
    "\n",
    "In this tutorial, we've learned essential data cleaning techniques using Python and pandas. We've covered how to handle missing values, remove duplicates, correct data types, and address inconsistent data. These skills are crucial for preparing datasets for further analysis and modeling in data science projects.\n",
    "\n",
    "## Clean up\n",
    "\n",
    "Remember to shut down your Jupyter Notebook environment and delete any unnecessary files or resources once you've completed the tutorial.\n",
    "\n"
   ]
  }
 ],
 "metadata": {
  "kernelspec": {
   "display_name": "Python 3 (ipykernel)",
   "language": "python",
   "name": "python3"
  },
  "language_info": {
   "codemirror_mode": {
    "name": "ipython",
    "version": 3
   },
   "file_extension": ".py",
   "mimetype": "text/x-python",
   "name": "python",
   "nbconvert_exporter": "python",
   "pygments_lexer": "ipython3",
   "version": "3.9.11"
  }
 },
 "nbformat": 4,
 "nbformat_minor": 4
}
