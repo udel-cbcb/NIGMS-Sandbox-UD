{
 "cells": [
  {
   "cell_type": "markdown",
   "metadata": {},
   "source": [
    "# Data Wrangling Exercise\n",
    "\n",
    "Adapted from Dipanjan Sarkar et al. 2018. [Practical Machine Learning with Python](https://link.springer.com/book/10.1007/978-1-4842-3207-1).\n",
    "\n",
    "## Overview\n",
    "\n",
    "Data wrangling or data munging is the process of cleaning, transforming, and mapping data from one form to another to utilize it for tasks such as analytics, summarization, reporting, visualization, and so on.\n",
    "\n",
    "Data wrangling is one of most important and involving steps in the whole Data Science workflow. The output of this process directly impacts all downstream steps such as exploration, summarization, visualization, analysis and even the final result. This clearly shows why Data Scientists spend a lot of time in Data Collection and Wrangling.\n",
    "\n",
    "## Learning Objectives\n",
    "\n",
    "- Learn to clean and transform data using pandas\n",
    "- Master key data wrangling operations:\n",
    "  - Renaming and rearranging columns\n",
    "  - Filtering data\n",
    "  - Handling missing values\n",
    "  - Managing duplicates\n",
    "  - Encoding categorical variables\n",
    "  - Normalizing numeric values\n",
    "- Perform data summarization and aggregation\n",
    "\n",
    "### Tasks to be completed\n",
    "\n",
    "- Clean column names\n",
    "- Sort and filter data\n",
    "- Handle missing values\n",
    "- Remove duplicates\n",
    "- Encode categorical variables\n",
    "- Normalize numeric features\n",
    "- Perform data aggregation\n",
    "\n",
    "## Prerequisites\n",
    "\n",
    "- Python programming environment\n",
    "- Basic understanding of statistical and machine learning concepts\n",
    "- Familiarity with common ML libraries\n"
   ]
  },
  {
   "cell_type": "markdown",
   "metadata": {},
   "source": [
    "## Get Started\n",
    "\n",
    "- Please select kernel \"conda_python3\" from SageMaker notebook instance.\n",
    "\n",
    "### Import necessary libraries\n"
   ]
  },
  {
   "cell_type": "code",
   "execution_count": null,
   "metadata": {},
   "outputs": [],
   "source": [
    "# Import required libraries\n",
    "import numpy as np  # NumPy for numerical operations\n",
    "import pandas as pd  # Pandas for handling tabular data\n",
    "from IPython.display import display  # Allows displaying objects in Jupyter Notebook outputs\n",
    "from sklearn import preprocessing  # Import preprocessing utilities from scikit-learn\n",
    "\n",
    "# Suppress chained assignment warning in Pandas\n",
    "# This warning occurs when modifying a slice of a DataFrame, which can sometimes lead to unexpected behavior.\n",
    "# Setting it to None disables the warning but requires careful handling to avoid unintended data modifications.\n",
    "pd.options.mode.chained_assignment = None  "
   ]
  },
  {
   "cell_type": "markdown",
   "metadata": {},
   "source": [
    "## Data wrangling utility functions\n"
   ]
  },
  {
   "cell_type": "code",
   "execution_count": null,
   "metadata": {},
   "outputs": [],
   "source": [
    "def describe_dataframe(df=pd.DataFrame()):\n",
    "    \"\"\"\n",
    "    This function generates descriptive statistics for a given dataframe.\n",
    "    \n",
    "    Args:\n",
    "        df (pd.DataFrame): The dataframe to be analyzed. Defaults to an empty DataFrame.\n",
    "    \n",
    "    Returns:\n",
    "        None\n",
    "    \"\"\"\n",
    "\n",
    "    # Print section header\n",
    "    print(\"\\n\\n\")\n",
    "    print(\"*\" * 30)\n",
    "    print(\"About the Data\")\n",
    "    print(\"*\" * 30)\n",
    "\n",
    "    # Print the number of rows and columns in the dataframe\n",
    "    print(\"Number of rows::\", df.shape[0])\n",
    "    print(\"Number of columns::\", df.shape[1])\n",
    "    print(\"\\n\")\n",
    "\n",
    "    # Print column names\n",
    "    print(\"Column Names::\", df.columns.values.tolist())\n",
    "    print(\"\\n\")\n",
    "\n",
    "    # Print data types of each column\n",
    "    print\n",
    "\n",
    "\n",
    "\n",
    "def cleanup_column_names(df, rename_dict={}, do_inplace=True):\n",
    "    \"\"\"This function renames columns of a pandas dataframe\n",
    "       It converts column names to snake case if rename_dict is not passed.\n",
    "    Args:\n",
    "        rename_dict (dict): keys represent old column names and values point to\n",
    "                            newer ones\n",
    "        do_inplace (bool): flag to update existing dataframe or return a new one\n",
    "    Returns:\n",
    "        pandas dataframe if do_inplace is set to False, None otherwise\n",
    "\n",
    "    \"\"\"\n",
    "    # If rename_dict is empty or None, apply automatic column renaming\n",
    "    if not rename_dict:  \n",
    "        return df.rename(\n",
    "            columns={\n",
    "                # Convert column names to lowercase and replace spaces and slashes with underscores\n",
    "                col: col.lower().replace(\" \", \"_\").replace(r\"/\", \"_\")  \n",
    "                for col in df.columns.values.tolist()\n",
    "            },\n",
    "            inplace=do_inplace,  # Apply renaming in place if do_inplace is True\n",
    "        )\n",
    "    else:\n",
    "        # If rename_dict is provided, use it directly for renaming\n",
    "        return df.rename(columns=rename_dict, inplace=do_inplace)"
   ]
  },
  {
   "cell_type": "markdown",
   "metadata": {},
   "source": [
    "## Wine recognition dataset\n",
    "\n",
    "This is UCI ML Wine recognition datasets. https://archive.ics.uci.edu/ml/machine-learning-databases/wine/wine.data\n",
    "\n",
    "The data is the results of a chemical analysis of wines grown in the same region in Italy by three different cultivators. There are thirteen different measurements taken for different constituents found in the three types of wine.\n",
    "\n",
    "Original Owners:\n",
    "\n",
    "Forina, M. et al, PARVUS - An Extendible Package for Data Exploration, Classification and Correlation. Institute of Pharmaceutical and Food Analysis and Technologies, Via Brigata Salerno, 16147 Genoa, Italy.\n",
    "\n",
    "Citation:\n",
    "\n",
    "Lichman, M. (2013). UCI Machine Learning Repository [https://archive.ics.uci.edu/ml]. Irvine, CA: University of California, School of Information and Computer Science.\n",
    "\n",
    "Dataset characteristics:\n",
    "\n",
    "- Number of Instances: 178 (50 in each of three classes)\n",
    "- Number of Attributes: 13 numeric, predictive attributes and the class\n",
    "- Attribute info:\n",
    "\n",
    "1. **Alcohol**: alcohol content, reported in units of ABV (alcohol by volume).\n",
    "\n",
    "1. **Malic acid**: one of the principal organic acids found in wine. Although found in nearly every fruit and berry, it’s flavor is most prominent in green apples; likewise, it projects this sour flavor into wine. For more information, feel free to read about acids in wine.\n",
    "\n",
    "1. **Ash**: yep, wine has ash in it. Ash is simply the inorganic matter left after evaporation and incineration.\n",
    "\n",
    "1. **Alcalinity of ash**: the alkalinity of ash determines how basic (as opposed to acidic) the ash in a wine is.\n",
    "\n",
    "1. **Magnesium**: magnesium is a metal that affects the flavor of wine.\n",
    "\n",
    "1. **Total phenols**: Phenols are chemicals that affect the taste, color, and mouthfeel (i.e., texture) of wine. For some (very) in-depth information about phenols, we refer you to phenolic content in wine.\n",
    "\n",
    "1. **Flavoids**: flavonoids are a type of phenol.\n",
    "\n",
    "1. **Nonflavoid phenols**: nonflavonoids are another type of phenol.\n",
    "\n",
    "1. **Proanthocyanins**: proanthocyanidins are yet another type of phenol.\n",
    "\n",
    "1. **Color intensity**: the color intensity of a wine: i.e., how dark it is.\n",
    "\n",
    "1. **Hue**: the hue of a wine, which is typically determined by the color of the cultivar used (although this is not always the case).\n",
    "\n",
    "1. **OD280/OD315 of diluted wines**: protein content measurements.\n",
    "\n",
    "1. **Proline**: an amino acid present in wines.\n",
    "\n",
    "- Class\n",
    "  - Class 0: 59\n",
    "  - Class 1: 71\n",
    "  - Class 2: 48\n",
    "\n",
    "'messy_wine_data.csv' is a modified from 'Wine recognition dataset' by introducing some missing values.\n"
   ]
  },
  {
   "cell_type": "markdown",
   "metadata": {},
   "source": [
    "## Import data"
   ]
  },
  {
   "cell_type": "code",
   "execution_count": null,
   "metadata": {},
   "outputs": [],
   "source": [
    "# Define the file path for the messy wine dataset\n",
    "messy_wine_data = \"../../Data/messy_wine_data.csv\"\n",
    "\n",
    "# Load the dataset into a Pandas DataFrame\n",
    "df = pd.read_csv(messy_wine_data)\n",
    "\n",
    "# Display the first few rows of the dataset to inspect its contents\n",
    "df.head()"
   ]
  },
  {
   "cell_type": "code",
   "execution_count": null,
   "metadata": {},
   "outputs": [],
   "source": [
    "# Call the describe_dataframe function to generate statistical summaries  \n",
    "# of the given DataFrame (df). This typically includes metrics like mean, \n",
    "# standard deviation, min, max, and quartiles for numerical columns.\n",
    "describe_dataframe(df)"
   ]
  },
  {
   "cell_type": "code",
   "execution_count": null,
   "metadata": {},
   "outputs": [],
   "source": [
    "# Print the shape (dimensions) of the DataFrame `df`\n",
    "# `df.shape` returns a tuple (number of rows, number of columns)\n",
    "print(\"Shape of df={}\".format(df.shape))"
   ]
  },
  {
   "cell_type": "markdown",
   "metadata": {},
   "source": [
    "## Rename Columns\n"
   ]
  },
  {
   "cell_type": "code",
   "execution_count": null,
   "metadata": {},
   "outputs": [],
   "source": [
    "# Print the column names of the DataFrame 'df'.\n",
    "print(\"Dataframe columns:\\n{}\".format(df.columns.tolist()))\n",
    "# - `df.columns` accesses the column index of the DataFrame 'df'.\n",
    "# - `.tolist()` converts the column index (which is a Pandas Index object) into a Python list.\n",
    "# - `\"{}\\n\".format(...)` is a string formatting method to insert the list of column names into the string and add a newline character for better readability.\n",
    "# - `print(...)` function displays the formatted string to the console, showing the list of column names."
   ]
  },
  {
   "cell_type": "code",
   "execution_count": null,
   "metadata": {},
   "outputs": [],
   "source": [
    "# Call cleanup_column_names function on a Pandas DataFrame.\n",
    "cleanup_column_names(df)"
   ]
  },
  {
   "cell_type": "code",
   "execution_count": null,
   "metadata": {},
   "outputs": [],
   "source": [
    "# Print the list of column names of the DataFrame 'df'.\n",
    "print(\"Dataframe columns:\\n{}\".format(df.columns.tolist()))"
   ]
  },
  {
   "cell_type": "markdown",
   "metadata": {},
   "source": [
    "## Sort Rows on defined attributes\n"
   ]
  },
  {
   "cell_type": "code",
   "execution_count": null,
   "metadata": {},
   "outputs": [],
   "source": [
    "# Display the first 5 rows of the DataFrame 'df'.\n",
    "# This function is useful for quickly inspecting the structure and sample data of the DataFrame.\n",
    "df.head()"
   ]
  },
  {
   "cell_type": "code",
   "execution_count": null,
   "metadata": {},
   "outputs": [],
   "source": [
    "# Sort the DataFrame `df` based on two columns:  \n",
    "# 1. `malic_acid` in ascending order (smallest to largest)  \n",
    "# 2. `ash` in descending order (largest to smallest)  \n",
    "sorted_df = df.sort_values([\"malic_acid\", \"ash\"], ascending=[True, False])\n",
    "\n",
    "# Display the first few rows of the sorted DataFrame  \n",
    "display(sorted_df.head())"
   ]
  },
  {
   "cell_type": "code",
   "execution_count": null,
   "metadata": {},
   "outputs": [],
   "source": [
    "# Sort the DataFrame by the \"alcohol\" column in descending order\n",
    "# The highest alcohol values will appear first\n",
    "sorted_df =  # Your code goes here\n",
    "\n",
    "# Display the first few rows of the sorted DataFrame\n",
    "display(sorted_df.head())"
   ]
  },
  {
   "cell_type": "markdown",
   "metadata": {},
   "source": [
    "## Rearrange Columns in a Dataframe\n"
   ]
  },
  {
   "cell_type": "code",
   "execution_count": null,
   "metadata": {},
   "outputs": [],
   "source": [
    "# Display the first 5 rows of the DataFrame 'df'.\n",
    "# This function is useful for quickly inspecting the structure and sample data of the DataFrame.\n",
    "df.head()"
   ]
  },
  {
   "cell_type": "code",
   "execution_count": null,
   "metadata": {},
   "outputs": [],
   "source": [
    "# Rearrange the columns in a specific order for better readability and analysis.\n",
    "# The columns are ordered as: 'class', followed by various chemical properties of the wine.\n",
    "\n",
    "display(\n",
    "    df[\n",
    "        [   # List of columns arranged in the desired order\n",
    "            \"class\",  # Target variable representing the wine class/category\n",
    "            \"alcohol\",  # Alcohol content in the wine\n",
    "            \"malic_acid\",  # Malic acid concentration\n",
    "            \"ash\",  # Ash content in the wine\n",
    "            \"alcalinity_of_ash\",  # Alkalinity of ash\n",
    "            \"magnesium\",  # Magnesium content\n",
    "            \"total_phenols\",  # Total phenolic compounds\n",
    "            \"flavanoids\",  # Flavonoid content\n",
    "            \"nonflavanoid_phenols\",  # Non-flavonoid phenols\n",
    "            \"proanthocyanins\",  # Proanthocyanins (a type of phenolic compound)\n",
    "            \"color_intensity\",  # Intensity of the wine color\n",
    "            \"hue\",  # Hue of the wine\n",
    "            \"od280_od315_of_diluted_wines\",  # OD280/OD315 ratio (indicator of wine quality)\n",
    "            \"proline\",  # Proline content (an amino acid relevant to wine properties)\n",
    "        ]\n",
    "    ].head()  # Display the first few rows of the reordered DataFrame\n",
    ")"
   ]
  },
  {
   "cell_type": "code",
   "execution_count": null,
   "metadata": {},
   "outputs": [],
   "source": [
    "# Display the first few rows of the dataframe (head) with columns rearranged in a specified order\n",
    "\n",
    "# Rearrange columns in the order of 'alcohol', 'color_intensity',   'hue',\n",
    "# 'malic_acid',   'ash',  'alcalinity_of_ash', 'magnesium',  'total_phenols',\n",
    "# 'flavanoids',  'nonflavanoid_phenols', 'proanthocyanins',\n",
    "# 'od280_od315_of_diluted_wines','proline', 'class'.\n",
    "\n",
    "# The `display()` function is used to show the top rows of the dataframe.\n",
    "\n",
    "# Your code goes here"
   ]
  },
  {
   "cell_type": "markdown",
   "metadata": {},
   "source": [
    "## Filtering Columns\n",
    "\n",
    "Using Column Index\n"
   ]
  },
  {
   "cell_type": "code",
   "execution_count": null,
   "metadata": {},
   "outputs": [],
   "source": [
    "# Access the DataFrame's 3rd column (index 3) using iloc\n",
    "# iloc[:, 3] selects all rows from the column at index 3\n",
    "# .values returns the underlying NumPy array for that column\n",
    "# [0:10] slices the first 10 values from the array\n",
    "\n",
    "# Print the first 10 values from the 3rd column\n",
    "\n",
    "# Your code goes here"
   ]
  },
  {
   "cell_type": "markdown",
   "metadata": {},
   "source": [
    "### Using Column Name\n"
   ]
  },
  {
   "cell_type": "code",
   "execution_count": null,
   "metadata": {},
   "outputs": [],
   "source": [
    "# Print the first 10 values of the 'total_phenols' column from the DataFrame\n",
    "# 'df' is assumed to be the DataFrame containing the data\n",
    "\n",
    "# Accesses 'total_phenols' column and prints the first 10 values\n",
    "\n",
    "# Your code goes here"
   ]
  },
  {
   "cell_type": "markdown",
   "metadata": {},
   "source": [
    "### Using Column Datatype\n"
   ]
  },
  {
   "cell_type": "code",
   "execution_count": null,
   "metadata": {},
   "outputs": [],
   "source": [
    "# Select columns with data type 'float64' from the DataFrame (df)\n",
    "# `select_dtypes(include=[\"float64\"])` filters columns that are of type float64\n",
    "# This will return a DataFrame containing only the float64 columns\n",
    "float_columns = df.select_dtypes(include=[\"float64\"])\n",
    "\n",
    "# Print the first 10 values of the first float64 column (from the filtered DataFrame)\n",
    "# `values` gives the underlying NumPy array of the DataFrame\n",
    "# `[:10, 0]` selects the first 10 rows and the first column (0-indexed) from the NumPy array\n",
    "print(float_columns.values[:10, 0])"
   ]
  },
  {
   "cell_type": "markdown",
   "metadata": {},
   "source": [
    "## Filtering Rows\n",
    "\n",
    "Select specific rows\n"
   ]
  },
  {
   "cell_type": "code",
   "execution_count": null,
   "metadata": {},
   "outputs": [],
   "source": [
    "# Select specific rows by their index positions: 21, 45, and 100\n",
    "# The .iloc[] method is used to access rows by their integer index positions (0-based index)\n",
    "\n",
    "# Display rows 21, 45, and 100 from the DataFrame 'df'\n",
    "\n",
    "# Your code goes here"
   ]
  },
  {
   "cell_type": "markdown",
   "metadata": {},
   "source": [
    "### Exclude Specific Row indices\n"
   ]
  },
  {
   "cell_type": "code",
   "execution_count": null,
   "metadata": {},
   "outputs": [],
   "source": [
    "# drop the first and third rows (index 0 and index 2)\n",
    "# The 'axis=0' specifies that we are working with rows (not columns).\n",
    "# 'drop' method removes the rows from the DataFrame based on their index values.\n",
    "\n",
    "# Display the first few rows of the modified DataFrame\n",
    "\n",
    "# Your code goes here"
   ]
  },
  {
   "cell_type": "markdown",
   "metadata": {},
   "source": [
    "### Conditional Filtering\n"
   ]
  },
  {
   "cell_type": "code",
   "execution_count": null,
   "metadata": {},
   "outputs": [],
   "source": [
    "# Filter the rows where the 'ash' column value is greater than 2\n",
    "# Then display the first 5 rows of the resulting DataFrame\n",
    "\n",
    "# Your code goes here"
   ]
  },
  {
   "cell_type": "markdown",
   "metadata": {},
   "source": [
    "### Offset from top of the dataframe\n"
   ]
  },
  {
   "cell_type": "code",
   "execution_count": null,
   "metadata": {},
   "outputs": [],
   "source": [
    "# Skip the top 100 rows of the DataFrame `df` and display the first 5 rows of the remaining data\n",
    "\n",
    "# Your code goes here"
   ]
  },
  {
   "cell_type": "markdown",
   "metadata": {},
   "source": [
    "### Offset from bottom of the dataframe\n"
   ]
  },
  {
   "cell_type": "code",
   "execution_count": null,
   "metadata": {},
   "outputs": [],
   "source": [
    "# Skip the last 10 rows of the DataFrame 'df' and display the first few rows of the remaining data\n",
    "# The slicing `df[:-10]` skips the last 10 rows by specifying a range that goes up to the 10th-to-last row\n",
    "\n",
    "# Display the first few rows of the modified DataFrame\n",
    "\n",
    "# Your code goes here"
   ]
  },
  {
   "cell_type": "markdown",
   "metadata": {},
   "source": [
    "## TypeCasting/Data Type Conversion\n"
   ]
  },
  {
   "cell_type": "code",
   "execution_count": null,
   "metadata": {},
   "outputs": [],
   "source": [
    "# Print the data types of the columns in the original dataframe\n",
    "print(\"Old dtypes:\\n\", df.dtypes)\n",
    "\n",
    "# Change the data type of the 'hue' column from float (float64) to integer (int)\n",
    "\n",
    "# Your code goes here\n",
    "\n",
    "# Print the data types of the columns in the dataframe after the change\n",
    "print(\"New dtypes:\\n\", df.dtypes)"
   ]
  },
  {
   "cell_type": "markdown",
   "metadata": {},
   "source": [
    "## Missing Values\n",
    "\n",
    "_Note: you make get some `FutureWarning` notifications in the following cells. They shouldn't cause problems._\n"
   ]
  },
  {
   "cell_type": "code",
   "execution_count": null,
   "metadata": {},
   "outputs": [],
   "source": [
    "# Drop rows with missing values in the 'malic_acid' column\n",
    "# This will remove any rows where 'malic_acid' is NaN\n",
    "\n",
    "df_dropped = # Your code goes here\n",
    "\n",
    "# Display the shape of the DataFrame after dropping rows\n",
    "df_dropped.shape  # This will return the number of rows and columns in the new DataFrame"
   ]
  },
  {
   "cell_type": "code",
   "execution_count": null,
   "metadata": {},
   "outputs": [],
   "source": [
    "# Fill missing 'magnesium' values in the df_dropped DataFrame with the mean of 'magnesium' column\n",
    "# We use np.round to round the mean to 2 decimal places\n",
    "\n",
    "# Your code goes here"
   ]
  },
  {
   "cell_type": "code",
   "execution_count": null,
   "metadata": {},
   "outputs": [],
   "source": [
    "# Fill missing values in the \"flavanoids\" column using the previous row's value (forward fill)\n",
    "# This method propagates the last valid observation forward to the next missing value\n",
    "\n",
    "# Your code goes here"
   ]
  },
  {
   "cell_type": "code",
   "execution_count": null,
   "metadata": {},
   "outputs": [],
   "source": [
    "# Fill missing values in the \"flavanoids\" column by using the value from the next row (backward fill)\n",
    "\n",
    "# Your code goes here"
   ]
  },
  {
   "cell_type": "markdown",
   "metadata": {},
   "source": [
    "## Duplicates\n"
   ]
  },
  {
   "cell_type": "code",
   "execution_count": null,
   "metadata": {},
   "outputs": [],
   "source": [
    "# Display the first few rows of the dataframe before dropping duplicates\n",
    "display(df_dropped.head())\n",
    "\n",
    "# Print the shape (number of rows and columns) of the dataframe before dropping duplicates\n",
    "print(\"Shape of df before dropping duplicates ={}\".format(df_dropped.shape))"
   ]
  },
  {
   "cell_type": "code",
   "execution_count": null,
   "metadata": {},
   "outputs": [],
   "source": [
    "# Drop duplicate rows based on the 'alcohol' column\n",
    "\n",
    "# Your code goes here\n",
    "\n",
    "# Display the updated dataframe (after duplicates are dropped) to verify the changes\n",
    "display(df_dropped.head())\n",
    "\n",
    "# Print the shape (number of rows and columns) of the dataframe after dropping duplicates\n",
    "print(\"Shape of df after dropping duplicates ={}\".format(df_dropped.shape))"
   ]
  },
  {
   "cell_type": "markdown",
   "metadata": {},
   "source": [
    "## Encode Categoricals\n"
   ]
  },
  {
   "cell_type": "code",
   "execution_count": null,
   "metadata": {},
   "outputs": [],
   "source": [
    "# Get One Hot Encoding using get_dummies() for 'class'\n",
    "# The get_dummies() function converts categorical variable(s) into dummy/indicator variables\n",
    "# Here, we are applying it to the 'class' column of the DataFrame 'df'\n",
    "\n",
    "# 'columns=[\"class\"]' specifies that the 'class' column will be encoded\n",
    "\n",
    "# Your code goes here\n",
    "\n",
    "# The 'head()' function displays the first 5 rows of the resulting DataFrame after encoding"
   ]
  },
  {
   "cell_type": "markdown",
   "metadata": {},
   "source": [
    "## Random Sampling data from DataFrame\n"
   ]
  },
  {
   "cell_type": "code",
   "execution_count": null,
   "metadata": {},
   "outputs": [],
   "source": [
    "# Randomly sample 30% of the rows from the DataFrame (with replacement)\n",
    "# frac=0.3: Specifies the fraction of rows to sample (30%)\n",
    "# replace=True: Sampling is done with replacement, meaning the same row can be sampled multiple times\n",
    "# random_state=42: Ensures reproducibility by setting a fixed seed for the random number generator\n",
    "# display(): Used to show the first few rows of the randomly sampled DataFrame\n",
    "\n",
    "# Your code goes here"
   ]
  },
  {
   "cell_type": "markdown",
   "metadata": {},
   "source": [
    "## Normalizing Numeric Values\n",
    "\n",
    "Normalizing values is a crucial step in machine learning to ensure that all features contribute equally to the model's learning process. Features with larger magnitude values can dominate the model, leading to bias and poor performance, especially in algorithms sensitive to scale, such as gradient-based methods (e.g., linear regression, neural networks) and distance-based algorithms (e.g., k-Nearest Neighbors, k-Means). Normalization scales features to a standard range, such as [0, 1] or a mean of 0 and a standard deviation of 1, which helps improve convergence speed, enhances model accuracy, and ensures fair comparison across features. Additionally, normalization reduces the impact of outliers, making the model more robust and reliable. By standardizing the data, normalization enables algorithms to perform optimally, leading to better generalization and interpretability of results.\n",
    "\n",
    "Normalize 'alcohol' values using **Min-Max Scaler**\n"
   ]
  },
  {
   "cell_type": "code",
   "execution_count": null,
   "metadata": {},
   "outputs": [],
   "source": [
    "# Normalize 'alcohol' values using Min-Max Scaler\n",
    "\n",
    "# Create a copy of the dataframe without missing values to avoid altering the original data\n",
    "df_normalized = df.dropna().copy()\n",
    "\n",
    "# Create an instance of MinMaxScaler from sklearn.preprocessing to scale data between 0 and 1\n",
    "min_max_scaler = preprocessing.MinMaxScaler()\n",
    "\n",
    "# Transform the 'alcohol' column values:\n",
    "# - Reshape the data to (-1, 1) to ensure it’s in the correct 2D format for the scaler\n",
    "# - Fit the MinMaxScaler to the 'alcohol' values and then transform them into scaled values\n",
    "alcohol_scaled = min_max_scaler.fit_transform(\n",
    "    df_normalized[\"alcohol\"].values.reshape(-1, 1)\n",
    ")\n",
    "\n",
    "# Replace the original 'alcohol' column with the scaled values\n",
    "df_normalized[\"alcohol\"] = alcohol_scaled.reshape(-1, 1)"
   ]
  },
  {
   "cell_type": "code",
   "execution_count": null,
   "metadata": {},
   "outputs": [],
   "source": [
    "# Display the first few rows of the normalized DataFrame to check the results\n",
    "display(df_normalized.head())"
   ]
  },
  {
   "cell_type": "markdown",
   "metadata": {},
   "source": [
    "### Normalize quantity purchased values using **Robust Scaler**\n"
   ]
  },
  {
   "cell_type": "code",
   "execution_count": null,
   "metadata": {},
   "outputs": [],
   "source": [
    "# Normalize 'magnesium' values using Robust Scaler\n",
    "\n",
    "# Create a copy of the DataFrame with any NaN values dropped for clean data\n",
    "df_normalized = df.dropna().copy()\n",
    "\n",
    "# Create a RobustScaler instance (this scales data by removing the median and scaling according to the interquartile range)\n",
    "\n",
    "# Your code goes here\n",
    "\n",
    "# Apply RobustScaler to the 'magnesium' column by reshaping it into a 2D array (required by the scaler)\n",
    "# The .fit_transform() method fits the scaler and applies it to normalize the 'magnesium' values\n",
    "\n",
    "# Your code goes here\n",
    "\n",
    "# Replace the original 'magnesium' values in the DataFrame with the scaled values\n",
    "df_normalized[\"magnesium\"] = magnesium_scaled.reshape(-1, 1)"
   ]
  },
  {
   "cell_type": "code",
   "execution_count": null,
   "metadata": {},
   "outputs": [],
   "source": [
    "# Display the first few rows (default 5 rows) of the DataFrame to inspect the normalized data\n",
    "display(df_normalized.head())"
   ]
  },
  {
   "cell_type": "markdown",
   "metadata": {},
   "source": [
    "## Data Summarization\n",
    "\n",
    "Condition based aggregation\n"
   ]
  },
  {
   "cell_type": "code",
   "execution_count": null,
   "metadata": {},
   "outputs": [],
   "source": [
    "# Get the mean 'hue' of class 1 wine\n",
    "# Filter the dataframe to select only rows where the 'class' column is equal to 1,\n",
    "# then select the 'hue' column from those rows and calculate the mean.\n",
    "mean_hue = df[\"hue\"][df[\"class\"] == 1].mean()\n",
    "\n",
    "# Print the mean 'hue' value for class 1 wine\n",
    "print(\"Mean 'hue' of class 1 wine :: {}\".format(mean_hue))"
   ]
  },
  {
   "cell_type": "code",
   "execution_count": null,
   "metadata": {},
   "outputs": [],
   "source": [
    "# Filter the rows where the 'class' column is equal to 0 (class 0 wine)\n",
    "# Then, select the 'alcohol' column from these filtered rows\n",
    "# Finally, get the maximum value from the 'alcohol' column for class 0 wine\n",
    "\n",
    "# Your code goes here\n",
    "\n",
    "# Print the result, showing the maximum 'alcohol' value for class 0 wine\n",
    "print(\"Max 'alcohol' of class 0 wine :: {}\".format(max_alcohol))"
   ]
  },
  {
   "cell_type": "markdown",
   "metadata": {},
   "source": [
    "## Conclusion\n",
    "\n",
    "Through this exercise, we learned essential data wrangling techniques including:\n",
    "\n",
    "- Data cleaning and transformation\n",
    "- Column manipulation\n",
    "- Row filtering\n",
    "- Missing value handling\n",
    "- Data type conversion\n",
    "- Categorical encoding\n",
    "- Numeric value normalization\n",
    "- Data summarization\n",
    "\n",
    "## Clean up\n",
    "\n",
    "Remember to shut down your Jupyter Notebook environment and delete any unnecessary files or resources once you've completed the tutorial.\n"
   ]
  }
 ],
 "metadata": {
  "kernelspec": {
   "display_name": "conda_python3",
   "language": "python",
   "name": "conda_python3"
  },
  "language_info": {
   "codemirror_mode": {
    "name": "ipython",
    "version": 3
   },
   "file_extension": ".py",
   "mimetype": "text/x-python",
   "name": "python",
   "nbconvert_exporter": "python",
   "pygments_lexer": "ipython3",
   "version": "3.10.16"
  }
 },
 "nbformat": 4,
 "nbformat_minor": 4
}
