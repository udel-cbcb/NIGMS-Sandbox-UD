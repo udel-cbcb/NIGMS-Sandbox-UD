{
 "cells": [
  {
   "cell_type": "markdown",
   "metadata": {},
   "source": [
    "# Data Wrangling Exercise\n",
    "\n",
    "Adapted from Dipanjan Sarkar et al. 2018. [Practical Machine Learning with Python](https://link.springer.com/book/10.1007/978-1-4842-3207-1).\n",
    "\n",
    "## Overview\n",
    "\n",
    "Data wrangling or data munging is the process of cleaning, transforming, and mapping data from one form to another to utilize it for tasks such as analytics, summarization, reporting, visualization, and so on.\n",
    "\n",
    "Data wrangling is one of most important and involving steps in the whole Data Science workflow. The output of this process directly impacts all downstream steps such as exploration, summarization, visualization, analysis and even the final result. This clearly shows why Data Scientists spend a lot of time in Data Collection and Wrangling.\n",
    "\n",
    "## Learning Objectives\n",
    "\n",
    "- Learn to clean and transform data using pandas\n",
    "- Master key data wrangling operations:\n",
    "  - Renaming and rearranging columns\n",
    "  - Filtering data\n",
    "  - Handling missing values\n",
    "  - Managing duplicates\n",
    "  - Encoding categorical variables\n",
    "  - Normalizing numeric values\n",
    "- Perform data summarization and aggregation\n",
    "\n",
    "### Tasks to be completed\n",
    "\n",
    "- Clean column names\n",
    "- Sort and filter data\n",
    "- Handle missing values\n",
    "- Remove duplicates\n",
    "- Encode categorical variables\n",
    "- Normalize numeric features\n",
    "- Perform data aggregation\n",
    "\n",
    "## Prerequisites\n",
    "\n",
    "- Python programming environment\n",
    "- Basic understanding of statistical and machine learning concepts\n",
    "- Familiarity with common ML libraries\n"
   ]
  },
  {
   "cell_type": "markdown",
   "metadata": {},
   "source": [
    "## Get Started\n",
    "\n",
    "### Set up conda environment\n",
    "\n",
    "Ensure that you have created then conda environment using the `conda_env.yml` file included in this repository. E.g.,\n",
    "\n",
    "```\n",
    "# Create conda environment\n",
    "conda env create -f conda_env.yml\n",
    "\n",
    "# Register the kernel\n",
    "python -m ipykernel install --user \\\n",
    "    --name=nigms_sandbox_ud \\\n",
    "    --display-name \"Python (NIGMS Sandbox UD)\"\n",
    "```\n",
    "\n",
    "Then, when starting the notebook, select the `\"Python (NIGMS Sandbox UD)\"` kernel from the list.\n",
    "\n",
    "Note that you may need to restart Jupyter Lab for these changes to take effect.\n",
    "\n",
    "### Import necessary libraries\n"
   ]
  },
  {
   "cell_type": "code",
   "execution_count": null,
   "metadata": {},
   "outputs": [],
   "source": [
    "# import required libraries\n",
    "import numpy as np\n",
    "import pandas as pd\n",
    "from IPython.display import display  # Display a Python object in all frontends\n",
    "from sklearn import preprocessing\n",
    "\n",
    "pd.options.mode.chained_assignment = (\n",
    "    None  # ignoring the warning when working on slices of dataframes\n",
    ")"
   ]
  },
  {
   "cell_type": "markdown",
   "metadata": {},
   "source": [
    "## Import data\n",
    "\n",
    "TODO: move the data import here\n"
   ]
  },
  {
   "cell_type": "markdown",
   "metadata": {},
   "source": [
    "## Data wrangling utility functions\n"
   ]
  },
  {
   "cell_type": "code",
   "execution_count": null,
   "metadata": {},
   "outputs": [],
   "source": [
    "def describe_dataframe(df=pd.DataFrame()):\n",
    "    \"\"\"This function generates descriptive stats of a dataframe\n",
    "    Args:\n",
    "        df (dataframe): the dataframe to be analyzed\n",
    "    Returns:\n",
    "        None\n",
    "\n",
    "    \"\"\"\n",
    "    print(\"\\n\\n\")\n",
    "    print(\"*\" * 30)\n",
    "    print(\"About the Data\")\n",
    "    print(\"*\" * 30)\n",
    "\n",
    "    print(\"Number of rows::\", df.shape[0])\n",
    "    print(\"Number of columns::\", df.shape[1])\n",
    "    print(\"\\n\")\n",
    "\n",
    "    print(\"Column Names::\", df.columns.values.tolist())\n",
    "    print(\"\\n\")\n",
    "\n",
    "    print(\"Column Data Types::\\n\", df.dtypes)\n",
    "    print(\"\\n\")\n",
    "\n",
    "    print(\"Columns with Missing Values::\", df.columns[df.isnull().any()].tolist())\n",
    "    print(\"\\n\")\n",
    "\n",
    "    print(\"Number of rows with Missing Values::\", df.isna().any(axis=1).sum())\n",
    "    print(\"\\n\")\n",
    "\n",
    "    print(\"Sample Indices with missing data::\", df[df.isna().any(axis=1)].index[0:5])\n",
    "    print(\"\\n\")\n",
    "\n",
    "    print(\"General Stats::\")\n",
    "    print(df.info())\n",
    "    print(\"\\n\")\n",
    "\n",
    "    print(\"Summary Stats::\")\n",
    "    print(df.describe())\n",
    "    print(\"\\n\")\n",
    "\n",
    "    print(\"Dataframe Sample Rows::\")\n",
    "    display(df.head(5))\n",
    "\n",
    "\n",
    "def cleanup_column_names(df, rename_dict={}, do_inplace=True):\n",
    "    \"\"\"This function renames columns of a pandas dataframe\n",
    "       It converts column names to snake case if rename_dict is not passed.\n",
    "    Args:\n",
    "        rename_dict (dict): keys represent old column names and values point to\n",
    "                            newer ones\n",
    "        do_inplace (bool): flag to update existing dataframe or return a new one\n",
    "    Returns:\n",
    "        pandas dataframe if do_inplace is set to False, None otherwise\n",
    "\n",
    "    \"\"\"\n",
    "    if not rename_dict:\n",
    "        return df.rename(\n",
    "            columns={\n",
    "                col: col.lower().replace(\" \", \"_\").replace(r\"/\", \"_\")\n",
    "                for col in df.columns.values.tolist()\n",
    "            },\n",
    "            inplace=do_inplace,\n",
    "        )\n",
    "    else:\n",
    "        return df.rename(columns=rename_dict, inplace=do_inplace)"
   ]
  },
  {
   "cell_type": "markdown",
   "metadata": {},
   "source": [
    "## Wine recognition dataset\n",
    "\n",
    "This is UCI ML Wine recognition datasets. https://archive.ics.uci.edu/ml/machine-learning-databases/wine/wine.data\n",
    "\n",
    "The data is the results of a chemical analysis of wines grown in the same region in Italy by three different cultivators. There are thirteen different measurements taken for different constituents found in the three types of wine.\n",
    "\n",
    "Original Owners:\n",
    "\n",
    "Forina, M. et al, PARVUS - An Extendible Package for Data Exploration, Classification and Correlation. Institute of Pharmaceutical and Food Analysis and Technologies, Via Brigata Salerno, 16147 Genoa, Italy.\n",
    "\n",
    "Citation:\n",
    "\n",
    "Lichman, M. (2013). UCI Machine Learning Repository [https://archive.ics.uci.edu/ml]. Irvine, CA: University of California, School of Information and Computer Science.\n",
    "\n",
    "Dataset characteristics:\n",
    "\n",
    "- Number of Instances: 178 (50 in each of three classes)\n",
    "- Number of Attributes: 13 numeric, predictive attributes and the class\n",
    "- Attribute info:\n",
    "\n",
    "1. **Alcohol**: alcohol content, reported in units of ABV (alcohol by volume).\n",
    "\n",
    "1. **Malic acid**: one of the principal organic acids found in wine. Although found in nearly every fruit and berry, it’s flavor is most prominent in green apples; likewise, it projects this sour flavor into wine. For more information, feel free to read about acids in wine.\n",
    "\n",
    "1. **Ash**: yep, wine has ash in it. Ash is simply the inorganic matter left after evaporation and incineration.\n",
    "\n",
    "1. **Alcalinity of ash**: the alkalinity of ash determines how basic (as opposed to acidic) the ash in a wine is.\n",
    "\n",
    "1. **Magnesium**: magnesium is a metal that affects the flavor of wine.\n",
    "\n",
    "1. **Total phenols**: Phenols are chemicals that affect the taste, color, and mouthfeel (i.e., texture) of wine. For some (very) in-depth information about phenols, we refer you to phenolic content in wine.\n",
    "\n",
    "1. **Flavoids**: flavonoids are a type of phenol.\n",
    "\n",
    "1. **Nonflavoid phenols**: nonflavonoids are another type of phenol.\n",
    "\n",
    "1. **Proanthocyanins**: proanthocyanidins are yet another type of phenol.\n",
    "\n",
    "1. **Color intensity**: the color intensity of a wine: i.e., how dark it is.\n",
    "\n",
    "1. **Hue**: the hue of a wine, which is typically determined by the color of the cultivar used (although this is not always the case).\n",
    "\n",
    "1. **OD280/OD315 of diluted wines**: protein content measurements.\n",
    "\n",
    "1. **Proline**: an amino acid present in wines.\n",
    "\n",
    "- Class\n",
    "  - Class 0: 59\n",
    "  - Class 1: 71\n",
    "  - Class 2: 48\n",
    "\n",
    "'messy_wine_data.csv' is a modified from 'Wine recognition dataset' by introducing some missing values.\n"
   ]
  },
  {
   "cell_type": "code",
   "execution_count": null,
   "metadata": {},
   "outputs": [],
   "source": [
    "# Load messy wine dataset\n",
    "messy_wine_data = \"../../Data/messy_wine_data.csv\"\n",
    "\n",
    "df = pd.read_csv(messy_wine_data)\n",
    "df.head()"
   ]
  },
  {
   "cell_type": "code",
   "execution_count": null,
   "metadata": {},
   "outputs": [],
   "source": [
    "# describe the stats of dataframe\n",
    "describe_dataframe(df)"
   ]
  },
  {
   "cell_type": "code",
   "execution_count": null,
   "metadata": {},
   "outputs": [],
   "source": [
    "print(\"Shape of df={}\".format(df.shape))"
   ]
  },
  {
   "cell_type": "markdown",
   "metadata": {},
   "source": [
    "## Rename Columns\n"
   ]
  },
  {
   "cell_type": "code",
   "execution_count": null,
   "metadata": {},
   "outputs": [],
   "source": [
    "print(\"Dataframe columns:\\n{}\".format(df.columns.tolist()))"
   ]
  },
  {
   "cell_type": "code",
   "execution_count": null,
   "metadata": {},
   "outputs": [],
   "source": [
    "cleanup_column_names(df)"
   ]
  },
  {
   "cell_type": "code",
   "execution_count": null,
   "metadata": {},
   "outputs": [],
   "source": [
    "print(\"Dataframe columns:\\n{}\".format(df.columns.tolist()))"
   ]
  },
  {
   "cell_type": "markdown",
   "metadata": {},
   "source": [
    "## Sort Rows on defined attributes\n"
   ]
  },
  {
   "cell_type": "code",
   "execution_count": null,
   "metadata": {},
   "outputs": [],
   "source": [
    "df.head()"
   ]
  },
  {
   "cell_type": "code",
   "execution_count": null,
   "metadata": {},
   "outputs": [],
   "source": [
    "# Sort data by ascending malic_acid and decreasing ash\n",
    "display(df.sort_values([\"malic_acid\", \"ash\"], ascending=[True, False]).head())"
   ]
  },
  {
   "cell_type": "code",
   "execution_count": null,
   "metadata": {},
   "outputs": [],
   "source": [
    "# Sort data by decreasing alcohol\n",
    "\n",
    "# Your code goes here"
   ]
  },
  {
   "cell_type": "markdown",
   "metadata": {},
   "source": [
    "## Rearrange Columns in a Dataframe\n"
   ]
  },
  {
   "cell_type": "code",
   "execution_count": null,
   "metadata": {},
   "outputs": [],
   "source": [
    "df.head()"
   ]
  },
  {
   "cell_type": "code",
   "execution_count": null,
   "metadata": {},
   "outputs": [],
   "source": [
    "# Rearrange columns in the order of 'class', 'alcohol', 'malic_acid',   'ash',\n",
    "# 'alcalinity_of_ash', 'magnesium',  'total_phenols', 'flavanoids',\n",
    "# 'nonflavanoid_phenols', 'proanthocyanins', 'color_intensity',    'hue',\n",
    "# 'od280_od315_of_diluted_wines','proline'.\n",
    "display(\n",
    "    df[\n",
    "        [\n",
    "            \"class\",\n",
    "            \"alcohol\",\n",
    "            \"malic_acid\",\n",
    "            \"ash\",\n",
    "            \"alcalinity_of_ash\",\n",
    "            \"magnesium\",\n",
    "            \"total_phenols\",\n",
    "            \"flavanoids\",\n",
    "            \"nonflavanoid_phenols\",\n",
    "            \"proanthocyanins\",\n",
    "            \"color_intensity\",\n",
    "            \"hue\",\n",
    "            \"od280_od315_of_diluted_wines\",\n",
    "            \"proline\",\n",
    "        ]\n",
    "    ].head()\n",
    ")"
   ]
  },
  {
   "cell_type": "code",
   "execution_count": null,
   "metadata": {},
   "outputs": [],
   "source": [
    "# Rearrange columns in the order of 'alcohol', 'color_intensity',   'hue',\n",
    "# 'malic_acid',   'ash',  'alcalinity_of_ash', 'magnesium',  'total_phenols',\n",
    "# 'flavanoids',  'nonflavanoid_phenols', 'proanthocyanins',\n",
    "# 'od280_od315_of_diluted_wines','proline', 'class'.\n",
    "\n",
    "# Your code goes here"
   ]
  },
  {
   "cell_type": "markdown",
   "metadata": {},
   "source": [
    "## Filtering Columns\n",
    "\n",
    "Using Column Index\n"
   ]
  },
  {
   "cell_type": "code",
   "execution_count": null,
   "metadata": {},
   "outputs": [],
   "source": [
    "# print 10 values from column at index 3\n",
    "\n",
    "# Your code goes here"
   ]
  },
  {
   "cell_type": "markdown",
   "metadata": {},
   "source": [
    "### Using Column Name\n"
   ]
  },
  {
   "cell_type": "code",
   "execution_count": null,
   "metadata": {},
   "outputs": [],
   "source": [
    "# print 10 values of total_phenols\n",
    "\n",
    "# Your code goes here"
   ]
  },
  {
   "cell_type": "markdown",
   "metadata": {},
   "source": [
    "### Using Column Datatype\n"
   ]
  },
  {
   "cell_type": "code",
   "execution_count": null,
   "metadata": {},
   "outputs": [],
   "source": [
    "# print 10 values of columns with data type float\n",
    "\n",
    "# Your code goes here"
   ]
  },
  {
   "cell_type": "markdown",
   "metadata": {},
   "source": [
    "## Filtering Rows\n",
    "\n",
    "Select specific rows\n"
   ]
  },
  {
   "cell_type": "code",
   "execution_count": null,
   "metadata": {},
   "outputs": [],
   "source": [
    "# Select rows of 21, 45, 100\n",
    "\n",
    "# Your code goes here (hint: use 'iloc()')"
   ]
  },
  {
   "cell_type": "markdown",
   "metadata": {},
   "source": [
    "### Exclude Specific Row indices\n"
   ]
  },
  {
   "cell_type": "code",
   "execution_count": null,
   "metadata": {},
   "outputs": [],
   "source": [
    "# drop the first and third rows\n",
    "\n",
    "# Your code goes here (hint: use 'drop()')"
   ]
  },
  {
   "cell_type": "markdown",
   "metadata": {},
   "source": [
    "### Conditional Filtering\n"
   ]
  },
  {
   "cell_type": "code",
   "execution_count": null,
   "metadata": {},
   "outputs": [],
   "source": [
    "# Get those wines with ash > 2\n",
    "\n",
    "# Your code goes here"
   ]
  },
  {
   "cell_type": "markdown",
   "metadata": {},
   "source": [
    "### Offset from top of the dataframe\n"
   ]
  },
  {
   "cell_type": "code",
   "execution_count": null,
   "metadata": {},
   "outputs": [],
   "source": [
    "# Skip the top 100 rows\n",
    "\n",
    "# Your code goes here"
   ]
  },
  {
   "cell_type": "markdown",
   "metadata": {},
   "source": [
    "### Offset from bottom of the dataframe\n"
   ]
  },
  {
   "cell_type": "code",
   "execution_count": null,
   "metadata": {},
   "outputs": [],
   "source": [
    "# Skip the last 10 rows\n",
    "\n",
    "# Your code goes here"
   ]
  },
  {
   "cell_type": "markdown",
   "metadata": {},
   "source": [
    "## TypeCasting/Data Type Conversion\n"
   ]
  },
  {
   "cell_type": "code",
   "execution_count": null,
   "metadata": {},
   "outputs": [],
   "source": [
    "print(\"Old dtypes:\\n\", df.dtypes)\n",
    "# change the data type of hue\t object to 'int'\n",
    "\n",
    "# Your code goes here\n",
    "\n",
    "# compare dtypes of the original df with this one\n",
    "print(\"New dtypes:\\n\", df.dtypes)"
   ]
  },
  {
   "cell_type": "markdown",
   "metadata": {},
   "source": [
    "## Missing Values\n",
    "\n",
    "_Note: you make get some `FutureWarning` notifications in the following cells. They shouldn't cause problems._\n"
   ]
  },
  {
   "cell_type": "code",
   "execution_count": null,
   "metadata": {},
   "outputs": [],
   "source": [
    "# Drop rows with missing values in 'malic_acid' column\n",
    "df_dropped = ...  # Your code goes here\n",
    "\n",
    "df_dropped.shape"
   ]
  },
  {
   "cell_type": "code",
   "execution_count": null,
   "metadata": {},
   "outputs": [],
   "source": [
    "# Fill Missing 'magnesium' values with mean 'magnesium'\n",
    "\n",
    "# Your code goes here"
   ]
  },
  {
   "cell_type": "code",
   "execution_count": null,
   "metadata": {},
   "outputs": [],
   "source": [
    "# Fill Missing flavanoids values with value from previous row (forward fill)\n",
    "\n",
    "# Your code goes here"
   ]
  },
  {
   "cell_type": "code",
   "execution_count": null,
   "metadata": {},
   "outputs": [],
   "source": [
    "# Fill Missing user_type values with value from next row (backward fill)\n",
    "\n",
    "# Your code goes here"
   ]
  },
  {
   "cell_type": "markdown",
   "metadata": {},
   "source": [
    "## Duplicates\n"
   ]
  },
  {
   "cell_type": "code",
   "execution_count": null,
   "metadata": {},
   "outputs": [],
   "source": [
    "# Before dropping Duplicate 'alcohol' rows\n",
    "display(df_dropped.head())\n",
    "print(\"Shape of df before dropping duplicates ={}\".format(df_dropped.shape))"
   ]
  },
  {
   "cell_type": "code",
   "execution_count": null,
   "metadata": {},
   "outputs": [],
   "source": [
    "# After dropping Duplicate 'alcohol' rows\n",
    "\n",
    "# Your code goes here\n",
    "\n",
    "# updated dataframe\n",
    "display(df_dropped.head())\n",
    "print(\"Shape of df after dropping duplicates ={}\".format(df_dropped.shape))"
   ]
  },
  {
   "cell_type": "markdown",
   "metadata": {},
   "source": [
    "## Encode Categoricals\n"
   ]
  },
  {
   "cell_type": "code",
   "execution_count": null,
   "metadata": {},
   "outputs": [],
   "source": [
    "# Get One Hot Encoding using get_dummies() for 'class'\n",
    "\n",
    "# Your code goes here (hint: use get_dummies())"
   ]
  },
  {
   "cell_type": "markdown",
   "metadata": {},
   "source": [
    "## Random Sampling data from DataFrame\n"
   ]
  },
  {
   "cell_type": "code",
   "execution_count": null,
   "metadata": {},
   "outputs": [],
   "source": [
    "# Randomly sample 30% of samples\n",
    "\n",
    "# Your code goes here (hint: use sample())"
   ]
  },
  {
   "cell_type": "markdown",
   "metadata": {},
   "source": [
    "## Normalizing Numeric Values\n",
    "\n",
    "Normalize 'alcohol' values using **Min-Max Scaler**\n"
   ]
  },
  {
   "cell_type": "code",
   "execution_count": null,
   "metadata": {},
   "outputs": [],
   "source": [
    "# Normalize 'alcohol' values using Min-Max Scaler\n",
    "df_normalized = df.dropna().copy()\n",
    "# Create a min_max_scaler\n",
    "min_max_scaler = preprocessing.MinMaxScaler()\n",
    "# Transform data, reshape your data using array.reshape(-1, 1) if your data has a single feature\n",
    "alcohol_scaled = min_max_scaler.fit_transform(\n",
    "    df_normalized[\"alcohol\"].values.reshape(-1, 1)\n",
    ")\n",
    "df_normalized[\"alcohol\"] = alcohol_scaled.reshape(-1, 1)"
   ]
  },
  {
   "cell_type": "code",
   "execution_count": null,
   "metadata": {},
   "outputs": [],
   "source": [
    "display(df_normalized.head())"
   ]
  },
  {
   "cell_type": "markdown",
   "metadata": {},
   "source": [
    "### Normalize quantity purchased values using **Robust Scaler**\n"
   ]
  },
  {
   "cell_type": "code",
   "execution_count": null,
   "metadata": {},
   "outputs": [],
   "source": [
    "# Normalize 'magnesium' values using Robust Scaler\n",
    "df_normalized = df.dropna().copy()\n",
    "# Create a RobustScaler\n",
    "robust_scaler = ...  # Your code goes here (hint: use sample())\n",
    "magnesium_scaled = ...  # Your code goes here (hint: use sample())\n",
    "df_normalized[\"magnesium\"] = magnesium_scaled.reshape(-1, 1)"
   ]
  },
  {
   "cell_type": "code",
   "execution_count": null,
   "metadata": {},
   "outputs": [],
   "source": [
    "display(df_normalized.head())"
   ]
  },
  {
   "cell_type": "markdown",
   "metadata": {},
   "source": [
    "## Data Summarization\n",
    "\n",
    "Condition based aggregation\n"
   ]
  },
  {
   "cell_type": "code",
   "execution_count": null,
   "metadata": {},
   "outputs": [],
   "source": [
    "# Get the mean 'hue' of class 1 wine\n",
    "mean_hue = df[\"hue\"][df[\"class\"] == 1].mean()\n",
    "print(\"Mean 'hue' of class 1 wine :: {}\".format(mean_hue))"
   ]
  },
  {
   "cell_type": "code",
   "execution_count": null,
   "metadata": {},
   "outputs": [],
   "source": [
    "# Get the max 'alcohol' of class 0 wine\n",
    "\n",
    "# Your code goes here\n",
    "\n",
    "print(\"Max 'alcohol' of class 0 wine :: {}\".format(max_alcohol))"
   ]
  },
  {
   "cell_type": "markdown",
   "metadata": {},
   "source": [
    "## Conclusion\n",
    "\n",
    "Through this exercise, we learned essential data wrangling techniques including:\n",
    "\n",
    "- Data cleaning and transformation\n",
    "- Column manipulation\n",
    "- Row filtering\n",
    "- Missing value handling\n",
    "- Data type conversion\n",
    "- Categorical encoding\n",
    "- Numeric value normalization\n",
    "- Data summarization\n",
    "\n",
    "## Clean up\n",
    "\n",
    "Remember to shut down your Jupyter Notebook environment and delete any unnecessary files or resources once you've completed the tutorial.\n"
   ]
  }
 ],
 "metadata": {},
 "nbformat": 4,
 "nbformat_minor": 4
}
