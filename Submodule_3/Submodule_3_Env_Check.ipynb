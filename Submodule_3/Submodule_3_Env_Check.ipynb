{
 "cells": [
  {
   "cell_type": "markdown",
   "metadata": {},
   "source": [
    "# Environment Check -- Submodule 3\n",
    "\n",
    "If this notebook runs successfully, then all the required packages for this submodule are properly installed.\n"
   ]
  },
  {
   "cell_type": "code",
   "execution_count": null,
   "metadata": {},
   "outputs": [],
   "source": [
    "import warnings\n",
    "from pathlib import Path\n",
    "\n",
    "import matplotlib as mpl\n",
    "import matplotlib.pyplot as plt\n",
    "import numpy as np\n",
    "import pandas as pd\n",
    "import requests\n",
    "import scipy.stats as spstats\n",
    "import seaborn as sns\n",
    "from IPython.display import (\n",
    "    YouTubeVideo,\n",
    "    display,  # Display a Python object in all frontends\n",
    ")\n",
    "from jupyterquiz import display_quiz\n",
    "from matplotlib import pyplot\n",
    "from numpy import asarray, exp, isnan, mean, nan, percentile, random, std\n",
    "from numpy.random import randn\n",
    "from pandas import DataFrame, read_csv\n",
    "from sklearn import preprocessing\n",
    "from sklearn.datasets import load_breast_cancer, make_classification, make_regression\n",
    "from sklearn.discriminant_analysis import LinearDiscriminantAnalysis\n",
    "from sklearn.ensemble import GradientBoostingClassifier, RandomForestClassifier\n",
    "from sklearn.experimental import enable_iterative_imputer\n",
    "from sklearn.feature_selection import (\n",
    "    RFE,\n",
    "    RFECV,\n",
    "    SelectKBest,\n",
    "    VarianceThreshold,\n",
    "    chi2,\n",
    "    f_classif,\n",
    "    mutual_info_classif,\n",
    ")\n",
    "from sklearn.impute import IterativeImputer, KNNImputer, SimpleImputer\n",
    "from sklearn.linear_model import LinearRegression, LogisticRegression, Perceptron\n",
    "from sklearn.metrics import accuracy_score, mean_absolute_error\n",
    "from sklearn.model_selection import (\n",
    "    GridSearchCV,\n",
    "    KFold,\n",
    "    RepeatedKFold,\n",
    "    RepeatedStratifiedKFold,\n",
    "    cross_val_score,\n",
    "    train_test_split,\n",
    ")\n",
    "from sklearn.neighbors import KNeighborsClassifier, LocalOutlierFactor\n",
    "from sklearn.pipeline import Pipeline\n",
    "from sklearn.preprocessing import (\n",
    "    Binarizer,\n",
    "    LabelEncoder,\n",
    "    MinMaxScaler,\n",
    "    OneHotEncoder,\n",
    "    OrdinalEncoder,\n",
    "    PolynomialFeatures,\n",
    "    QuantileTransformer,\n",
    "    RobustScaler,\n",
    "    StandardScaler,\n",
    ")\n",
    "from sklearn.tree import DecisionTreeClassifier, DecisionTreeRegressor\n",
    "\n",
    "# Settings\n",
    "%matplotlib inline\n",
    "mpl.style.reload_library()\n",
    "mpl.style.use(\"classic\")\n",
    "mpl.rcParams[\"figure.facecolor\"] = (1, 1, 1, 0)\n",
    "mpl.rcParams[\"figure.figsize\"] = [6.0, 4.0]\n",
    "mpl.rcParams[\"figure.dpi\"] = 100\n",
    "\n",
    "pd.options.mode.chained_assignment = (\n",
    "    None  # ignoring the warning when working on slices of dataframes\n",
    ")\n",
    "\n",
    "print(\"OK!\")"
   ]
  },
  {
   "cell_type": "markdown",
   "metadata": {},
   "source": [
    "## Set up conda environment\n",
    "\n",
    "TODO\n"
   ]
  }
 ],
 "metadata": {
  "language_info": {
   "name": "python"
  }
 },
 "nbformat": 4,
 "nbformat_minor": 2
}
