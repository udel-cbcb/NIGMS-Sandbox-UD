{
 "cells": [
  {
   "cell_type": "markdown",
   "metadata": {},
   "source": [
    "# AlphaFold: Revolutionizing Protein Structure Prediction\n",
    "## What is AlphaFold?\n",
    "Developed by DeepMind (a subsidiary of Alphabet/Google), [AlphaFold](https://deepmind.google/technologies/alphafold/) is an artificial intelligence (AI) system that predicts the 3D structure of proteins from their amino acid sequences. It addresses the long-standing \"protein folding problem,\" which has puzzled scientists for decades. Proteins are essential to nearly all biological processes, and their functions are determined by their intricate 3D shapes. Traditional methods like X-ray crystallography or cryo-EM are time-consuming and costly, making computational prediction a game-changer.\n",
    "\n",
    "## How AlphaFold Works:\n",
    "AlphaFold uses deep learning and neural networks trained on:\n",
    "- Protein Data Bank (PDB): A repository of experimentally determined protein structures.\n",
    "- Evolutionary Data: Multiple sequence alignments (MSAs) to infer evolutionary relationships.\n",
    "- Physical Constraints: Geometric and chemical rules (e.g., bond angles, steric clashes).\n",
    "\n",
    "The system employs a transformer-based architecture to model interactions between amino acids, generating highly accurate predictions (often near-experimental accuracy).\n",
    "\n",
    "## Applications of AlphaFold\n",
    "- Drug Discovery:\n",
    "    - Accelerates identification of drug targets by predicting structures of disease-related proteins (e.g., cancer, Alzheimer’s).\n",
    "    - Enables structure-based drug design (e.g., targeting SARS-CoV-2 spike protein).\n",
    "- Understanding Genetic Diseases:\n",
    "    - Predicts how mutations (e.g., in cystic fibrosis or sickle cell anemia) disrupt protein function.\n",
    "- Enzyme Engineering:\n",
    "    - Designs enzymes for industrial applications (e.g., biofuel production, plastic degradation).\n",
    "- Synthetic Biology:\n",
    "    - Facilitates creation of artificial proteins for novel functions.\n",
    "- Antibiotic Development:\n",
    "    - Predicts structures of bacterial proteins to combat antibiotic resistance.\n",
    "- Basic Research:\n",
    "    - Provides structural insights for poorly characterized proteins, expanding biological knowledge.\n",
    "\n",
    "AlphaFold’s success was validated in the CASP competition (Critical Assessment of Structure Prediction), where it achieved unprecedented accuracy, rivaling experimental methods.\n",
    "\n",
    "# LocalColabFold: Democratizing AlphaFold’s Power\n",
    "## What is LocalColabFold?\n",
    "[LocalColabFold](https://github.com/YoshitakaMo/localcolabfold) is an open-source, community-driven adaptation of ColabFold, which itself combines AlphaFold with faster, user-friendly tools. It allows researchers to run protein structure predictions locally (on their own hardware) without relying on cloud services like Google Colab.\n",
    "\n",
    "Key Features:\n",
    "- Accessibility:\n",
    "    - Eliminates dependency on internet or cloud resources.\n",
    "    - Ideal for sensitive data (e.g., proprietary or medical sequences).\n",
    "- Speed & Efficiency:\n",
    "    - Uses MMseqs2 (instead of HHblits) for rapid multiple sequence alignments (MSAs).\n",
    "    - Reduced computational footprint compared to AlphaFold’s original implementation.\n",
    "- Ease of Use:\n",
    "    - Simplified setup via Conda or Docker.\n",
    "    - Compatible with GPUs for faster predictions.\n",
    "## Applications of LocalColabFold\n",
    "- Academic Research:\n",
    "    - Enables small labs to predict structures for hypothesis testing.\n",
    "    - Useful for teaching structural biology concepts.\n",
    "- Personalized Medicine:\n",
    "    - Predicts structures of patient-specific protein variants.\n",
    "- Structural Genomics:\n",
    "    - Scales predictions for large protein datasets (e.g., metagenomic studies).\n",
    "- Collaborative Projects:\n",
    "    - Integrates with high-performance computing (HPC) clusters for batch processing.\n",
    "## Limitations\n",
    "- **Computational Resources**: LocalColabFold still requires a GPU for optimal performance.\n",
    "- **Accuracy**: Slightly lower than AlphaFold for certain proteins due to simplified MSAs.\n",
    "- **Multimer Support**: Early versions struggled with protein complexes, but updates have improved this.\n",
    "\n"
   ]
  },
  {
   "cell_type": "markdown",
   "metadata": {},
   "source": [
    "## Setup an AWS SageMaker Notebook Instance\n",
    "\n",
    "**Instance Type**: Choose a GPU-enabled instance (e.g., g4dn.xlarge or p3.2xlarge for CUDA support)."
   ]
  },
  {
   "cell_type": "markdown",
   "metadata": {},
   "source": [
    "## Install LocalColabFold"
   ]
  },
  {
   "cell_type": "markdown",
   "metadata": {},
   "source": [
    "From \"File\"->\"New\"->\"Terminal\". Click the newwly opened Terminal tab and run the commands below to download \"install_colabbatch_linux.sh\" from repository\n",
    "```bash\n",
    "cd  /home/ec2-user/\n",
    "wget https://raw.githubusercontent.com/YoshitakaMo/localcolabfold/main/install_colabbatch_linux.sh\n",
    "bash install_colabbatch_linux.sh\n",
    "```"
   ]
  },
  {
   "cell_type": "markdown",
   "metadata": {},
   "source": [
    "If installation is successful, you will see the following message:\n",
    "\n",
    "```bash\n",
    "Installation of ColabFold finished.\n",
    "Add /home/ec2-user/localcolabfold/colabfold-conda/bin to your PATH environment variable to run 'colabfold_batch'.\n",
    "i.e. for Bash:\n",
    "        export PATH=\"/home/ec2-user/localcolabfold/colabfold-conda/bin:$PATH\"\n",
    "For more details, please run 'colabfold_batch --help'.\n",
    "```\n"
   ]
  },
  {
   "cell_type": "markdown",
   "metadata": {},
   "source": [
    "Add environment variables to ~/.bashrc by running the following commands from the terminal.\n",
    "```bash\n",
    "echo 'export PATH=\"/home/ec2-user/localcolabfold/colabfold-conda/bin:$PATH\"' >> ~/.bashrc\n",
    "echo 'export LD_LIBRARY_PATH=\"/home/ec2-user/localcolabfold/colabfold-conda/lib/:$LD_LIBRARY_PATH\"' >> ~/.bashrc\n",
    "source ~/.bashrc\n",
    "```"
   ]
  },
  {
   "cell_type": "markdown",
   "metadata": {},
   "source": [
    "## Run LocalColabFold"
   ]
  },
  {
   "cell_type": "markdown",
   "metadata": {},
   "source": [
    "Run the following commands from the terminal.\n",
    "\n",
    "```bash\n",
    "echo \">Example_Protein|ChainA\" > example.fasta \n",
    "echo \"GIVEQCCTSICSLYQLENYCN\" >> example.fasta\n",
    "colabfold_batch --templates --amber example.fasta results/\n",
    "ls -l results/\n",
    "```\n"
   ]
  },
  {
   "cell_type": "markdown",
   "metadata": {},
   "source": [
    "## Visualization of Prediction Results"
   ]
  },
  {
   "cell_type": "code",
   "execution_count": null,
   "metadata": {},
   "outputs": [],
   "source": [
    "# Install py3Dmol for visualization\n",
    "!pip install py3Dmol"
   ]
  },
  {
   "cell_type": "markdown",
   "metadata": {},
   "source": [
    "### Visualize multiple PDB files using py3Dmol and Interactive Dropdown Viewer"
   ]
  },
  {
   "cell_type": "code",
   "execution_count": null,
   "metadata": {},
   "outputs": [],
   "source": [
    "from ipywidgets import interact, Dropdown\n",
    "import py3Dmol\n",
    "import glob\n",
    "import re\n",
    "from IPython.display import display, HTML\n",
    "\n",
    "results_dir = \"/home/ec2-user/results/\"\n",
    "# 1. Get sorted list of PDB files by rank\n",
    "pdb_files = sorted(glob.glob(results_dir+'*_rank_*_alphafold2_ptm_model_*.pdb'),\n",
    "                   key=lambda x: int(re.search(r'rank_(\\d+)', x).group(1)))\n",
    "\n",
    "# Create dropdown selector\n",
    "pdb_dict = {f: f for f in pdb_files}\n",
    "\n",
    "@interact(File=Dropdown(options=pdb_dict))\n",
    "def show_structure(File):\n",
    "    view = py3Dmol.view(width=600, height=400)\n",
    "    with open(File) as f:\n",
    "        view.addModel(f.read(), 'pdb')\n",
    "    view.setStyle({'cartoon': {'color': 'spectrum'}})\n",
    "    view.zoomTo()\n",
    "    return view.show()"
   ]
  },
  {
   "cell_type": "code",
   "execution_count": null,
   "metadata": {},
   "outputs": [],
   "source": []
  }
 ],
 "metadata": {
  "kernelspec": {
   "display_name": "conda_tensorflow2_p310",
   "language": "python",
   "name": "conda_tensorflow2_p310"
  },
  "language_info": {
   "codemirror_mode": {
    "name": "ipython",
    "version": 3
   },
   "file_extension": ".py",
   "mimetype": "text/x-python",
   "name": "python",
   "nbconvert_exporter": "python",
   "pygments_lexer": "ipython3",
   "version": "3.10.16"
  }
 },
 "nbformat": 4,
 "nbformat_minor": 4
}
