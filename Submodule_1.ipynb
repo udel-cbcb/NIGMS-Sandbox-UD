{
 "cells": [
  {
   "cell_type": "markdown",
   "metadata": {},
   "source": [
    "# Submodule 1 - Introduction"
   ]
  },
  {
   "cell_type": "markdown",
   "metadata": {},
   "source": [
    "\n",
    "## Overview\n",
    "This lecture will start with a brief introduction of AI/ML, its history and diverse applications. Then focus on some key concepts used in AI/ML. We will compare different AI/ML algorithms and make recommendations for using different AI/ML algorithms for different data types in biomedical research. You will learn core concepts, diverse applications, introductory algorithms, and data challenges."
   ]
  },
  {
   "cell_type": "markdown",
   "metadata": {},
   "source": [
    "## Learning Objectives\n",
    "At the end of this module, you should be able to:\n",
    "\n",
    "+ Understand the difference/relation between artificial intelligence (AI) and machine learning (ML)\n",
    "+ Learn key concepts in ML, learning types and algorithms\n",
    "+ Familiarize with some applications of AI/ML in the biomedical field"
   ]
  },
  {
   "cell_type": "markdown",
   "metadata": {},
   "source": [
    "## Prerequisites\n",
    "None"
   ]
  },
  {
   "cell_type": "markdown",
   "metadata": {},
   "source": [
    "## Get Started\n",
    "- Watch the Lecture Videos.\n",
    "- Complete the Quizzes to solidify your understanding.\n",
    "- Enhance your programming skills with Tutorials.\n",
    "- Challenge yourself with the Exercises."
   ]
  },
  {
   "cell_type": "markdown",
   "metadata": {},
   "source": [
    "## Introduction to Artificial Intelligence (AI) and Machine Learning (ML)\n",
    "\n",
    "The following presentations will introduce you to the field of Artificial intelligence and machine learning.\n",
    "\n",
    "We will start a new topic with some historical background as it helps to understand the evolution of the field and how knowledge builds in many cases aligned with the technological advancements."
   ]
  },
  {
   "cell_type": "markdown",
   "metadata": {},
   "source": [
    "### Lecture Video"
   ]
  },
  {
   "cell_type": "code",
   "execution_count": null,
   "metadata": {},
   "outputs": [],
   "source": [
    "from IPython.display import YouTubeVideo\n",
    "\n",
    "# Youtube\n",
    "YouTubeVideo(id='intro_to_ai_ml', height=200, width=400)"
   ]
  },
  {
   "cell_type": "markdown",
   "metadata": {},
   "source": [
    "### Lecture Slides\n",
    "\n",
    "Download the lecture slides [Introduction to AI and ML](Submodule_1/Lectures/Submodule_1_Lecture_1_AI_MLintro.pptx)."
   ]
  },
  {
   "cell_type": "markdown",
   "metadata": {},
   "source": [
    "### Quizzes\n",
    "+ [Introduction to AI/ML](Submodule_1/Quizzes/Intro_to_AL_ML_Quiz.ipynb)"
   ]
  },
  {
   "cell_type": "markdown",
   "metadata": {},
   "source": [
    "## AI/ML Basic Concepts\n",
    "In this section you will learn some foundational AI/ML concepts that you will encounter in the subsequent submodules."
   ]
  },
  {
   "cell_type": "markdown",
   "metadata": {},
   "source": [
    "### Lecture Video"
   ]
  },
  {
   "cell_type": "code",
   "execution_count": null,
   "metadata": {},
   "outputs": [],
   "source": [
    "from IPython.display import YouTubeVideo\n",
    "\n",
    "# Youtube\n",
    "YouTubeVideo(id='basic_concepts_in_ai_ml', height=200, width=400)"
   ]
  },
  {
   "cell_type": "markdown",
   "metadata": {},
   "source": [
    "### Lecture Slides\n",
    "\n",
    "Download the lecture slides [Basic Concepts in AI and ML](Submodule_1/Lectures/Submodule_1_Lecture_2_AL_ML_basic_concepts.pptx)."
   ]
  },
  {
   "cell_type": "markdown",
   "metadata": {},
   "source": [
    "### Quizzes\n",
    "+ [Basic Concepts in AI/ML](Submodule_1/Quizzes/AL_ML_Basic_Concepts_Quiz.ipynb)"
   ]
  },
  {
   "cell_type": "markdown",
   "metadata": {},
   "source": [
    "## AI/ML Applications\n",
    "In this section you will go over some general applications of AI/ML in the biomedical doamin."
   ]
  },
  {
   "cell_type": "markdown",
   "metadata": {},
   "source": [
    "#### Lecture Video"
   ]
  },
  {
   "cell_type": "code",
   "execution_count": null,
   "metadata": {},
   "outputs": [],
   "source": [
    "from IPython.display import YouTubeVideo\n",
    "\n",
    "# Youtube\n",
    "YouTubeVideo(id='applications_in_ai_ml', height=200, width=400)"
   ]
  },
  {
   "cell_type": "markdown",
   "metadata": {},
   "source": [
    "### Lecture Slides\n",
    "\n",
    "Download the lecture slides [Applications in AI and ML](Submodule_1/Lectures/Submodule_1_Lecture_2_AL_ML_applocations.pptx)."
   ]
  },
  {
   "cell_type": "markdown",
   "metadata": {},
   "source": [
    "### Quizzes\n",
    "+ [Applications in AI/ML](Submodule_1/Quizzes/AL_ML_Applications_Quiz.ipynb)"
   ]
  },
  {
   "cell_type": "markdown",
   "metadata": {},
   "source": [
    "## Tutorials\n",
    "+ [Getting started with Jupyter Notebooks on Amazon SageMaker](Submodule_1/Tutorials/Submodule_1_Tutorial_1_Introduction_to_Jupyter_on_AWS.ipynb)\n",
    "+ [Introduction to NumPy](Submodule_1/Tutorials/Submodule_1_Tutorial_2_Introduction_to_NumPy.ipynb)\n",
    "+ [Introduction to Pandas](Submodule_1/Tutorials/Submodule_1_Tutorial_3_Introduction_to_Pandas.ipynb)\n",
    "+ [Introduction to Biology with Python](Submodule_1/Tutorials/Submodule_1_Tutorial_4_Introduction_to_Biology_with_Python.ipynb)"
   ]
  },
  {
   "cell_type": "markdown",
   "metadata": {},
   "source": [
    "## Exercises\n",
    "+ [NumPy Exercise](Submodule_1/Exercises/Submodule_1_Exercise_NumPy.ipynb) ([Solution](Submodule_1/Exercises/Submodule_1_Exercise_NumPy_Solution.ipynb))\n",
    "+ [Pandas Exercise](Submodule_1/Exercises/Submodule_1_Exercise_Pandas.ipynb) ([Solution](Submodule_1/Exercises/Submodule_1_Exercise_Pandas_Solution.ipynb))"
   ]
  },
  {
   "cell_type": "markdown",
   "metadata": {},
   "source": [
    "## Conclusions\n",
    "After this module, learners should have a basic understanding of AI/ML, its core concepts and applications."
   ]
  },
  {
   "cell_type": "markdown",
   "metadata": {},
   "source": [
    "## Clean up\n",
    "A reminder to shutdown VM and delete any relevant resources. <br><br>"
   ]
  }
 ],
 "metadata": {},
 "nbformat": 4,
 "nbformat_minor": 4
}
