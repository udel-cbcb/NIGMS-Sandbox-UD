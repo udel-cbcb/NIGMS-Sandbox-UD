{
 "cells": [
  {
   "cell_type": "markdown",
   "metadata": {},
   "source": [
    "# Submodule 1 - Introduction"
   ]
  },
  {
   "cell_type": "markdown",
   "metadata": {},
   "source": [
    "\n",
    "## Overview\n",
    "This lecture will start with a brief introduction of AI/ML, its history and diverse applications. Then focus on some key concepts used in AI/ML. We will compare different AI/ML algorithms and make recommendations for using different AI/ML algorithms for different data types in biomedical research."
   ]
  },
  {
   "cell_type": "markdown",
   "metadata": {},
   "source": [
    "## Learning Objectives\n",
    "At the end of this module, you should be able to:\n",
    "\n",
    "+ Understand the difference/relation between artificial intelligence (AI) and machine learning (ML)\n",
    "+ Learn key concepts in ML, learning types and algorithms\n",
    "+ Familiarize with some applications of AI/ML in the biomedical field"
   ]
  },
  {
   "cell_type": "markdown",
   "metadata": {},
   "source": [
    "## Prerequisites\n",
    "None"
   ]
  },
  {
   "cell_type": "markdown",
   "metadata": {},
   "source": [
    "## Get Started\n",
    "- Watch the lecture videos.\n",
    "- Complete the Quizzes below to solidify your understanding."
   ]
  },
  {
   "cell_type": "markdown",
   "metadata": {},
   "source": [
    "## 1. Introduction to Artificial Intelligence (AI) and Machine Learning (ML)\n",
    "\n",
    "The following presentations will introduce you to the field of Artificial intelligence and machine learning.\n",
    "\n",
    "We will start a new topic with some historical background as it helps to understand the evolution of the field and how knowledge builds in many cases aligned with the technological advancements."
   ]
  },
  {
   "cell_type": "markdown",
   "metadata": {},
   "source": [
    "### Lecture Video"
   ]
  },
  {
   "cell_type": "code",
   "execution_count": null,
   "metadata": {},
   "outputs": [],
   "source": [
    "from IPython.display import YouTubeVideo\n",
    "\n",
    "# Youtube\n",
    "YouTubeVideo(id='intro_to_ai_ml', height=200, width=400)"
   ]
  },
  {
   "cell_type": "markdown",
   "metadata": {},
   "source": [
    "### Lecture Slides\n",
    "\n",
    "Download the lecture slides [Introduction to AI and ML](https://github.com/udel-cbcb/NIGMS-Sandbox-UD/raw/refs/heads/main/Submodule_1/Lectures/Submodule_1_Lecture_1_AI_MLintro.pptx)."
   ]
  },
  {
   "cell_type": "markdown",
   "metadata": {},
   "source": [
    "### Quizzes\n",
    "+ [Introduction to AI/ML](\"https://github.com/udel-cbcb/NIGMS-Sandbox-UD/blob/main/Submodule_1/Quizzes/Intro_to_AL_ML_Quiz.ipynb\")"
   ]
  },
  {
   "cell_type": "markdown",
   "metadata": {},
   "source": [
    "## 2. AI/ML Basic Concepts\n",
    "In this section you will learn some foundational AI/ML concepts that you will encounter in the subsequent submodules."
   ]
  },
  {
   "cell_type": "markdown",
   "metadata": {},
   "source": [
    "### Lecture Video"
   ]
  },
  {
   "cell_type": "code",
   "execution_count": null,
   "metadata": {},
   "outputs": [],
   "source": [
    "from IPython.display import YouTubeVideo\n",
    "\n",
    "# Youtube\n",
    "YouTubeVideo(id='basic_concepts_in_ai_ml', height=200, width=400)"
   ]
  },
  {
   "cell_type": "markdown",
   "metadata": {},
   "source": [
    "### Lecture Slides\n",
    "\n",
    "Download the lecture slides [Basic Concepts in AI and ML](https://github.com/udel-cbcb/NIGMS-Sandbox-UD/raw/refs/heads/main/Submodule_1/Lectures/Submodule_1_Lecture_2_AL_ML_basic_concepts.pptx)."
   ]
  },
  {
   "cell_type": "markdown",
   "metadata": {},
   "source": [
    "### Quizzes\n",
    "+ [Basic Concepts in AI/ML](\"https://github.com/udel-cbcb/NIGMS-Sandbox-UD/blob/main/Submodule_1/Quizzes/AL_ML_Basic_Concepts_Quiz.ipynb\")"
   ]
  },
  {
   "cell_type": "markdown",
   "metadata": {},
   "source": [
    "## 3. AI/ML Applications\n",
    "In this section you will go over some general applications of AI/ML in the biomedical doamin."
   ]
  },
  {
   "cell_type": "markdown",
   "metadata": {},
   "source": [
    "#### Lecture Video"
   ]
  },
  {
   "cell_type": "code",
   "execution_count": null,
   "metadata": {},
   "outputs": [],
   "source": [
    "from IPython.display import YouTubeVideo\n",
    "\n",
    "# Youtube\n",
    "YouTubeVideo(id='applications_in_ai_ml', height=200, width=400)"
   ]
  },
  {
   "cell_type": "markdown",
   "metadata": {},
   "source": [
    "### Lecture Slides\n",
    "\n",
    "Download the lecture slides [Applications in AI and ML](https://github.com/udel-cbcb/NIGMS-Sandbox-UD/raw/refs/heads/main/Submodule_1/Lectures/Submodule_1_Lecture_2_AL_ML_applocations.pptx)."
   ]
  },
  {
   "cell_type": "markdown",
   "metadata": {},
   "source": [
    "### Quizzes\n",
    "+ [Applications in AI/ML](\"https://github.com/udel-cbcb/NIGMS-Sandbox-UD/blob/main/Submodule_1/Quizzes/AL_ML_Applications_Quiz.ipynb\")"
   ]
  },
  {
   "cell_type": "markdown",
   "metadata": {},
   "source": [
    "## Conclusions\n",
    "After this module, learners should have a basic understanding of AI/ML, its core concepts and applications."
   ]
  },
  {
   "cell_type": "markdown",
   "metadata": {},
   "source": [
    "## Clean up\n",
    "A reminder to shutdown VM and delete any relevant resources. <br><br>"
   ]
  }
 ],
 "metadata": {
  "language_info": {
   "name": "python"
  }
 },
 "nbformat": 4,
 "nbformat_minor": 4
}
