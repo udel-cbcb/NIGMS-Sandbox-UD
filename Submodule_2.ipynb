{
 "cells": [
  {
   "cell_type": "markdown",
   "metadata": {},
   "source": [
    "# Submodule 2 - Data Science Life Cycles, FAIR Data Principles, Data-Centric AI/ML, and Responsible AI/M"
   ]
  },
  {
   "cell_type": "markdown",
   "metadata": {},
   "source": [
    "\n",
    "## Overview\n",
    "This submodule will cover Data Science life cycle, FAIR principles for responsible data management, systematically engineering the data used to build an AI/ML system, and understand fairness, transparency, and accountability in AI/ML development and deployment."
   ]
  },
  {
   "cell_type": "markdown",
   "metadata": {},
   "source": [
    "## Learning Objectives\n",
    "At the end of this module, you should be able to:\n",
    "\n",
    "+ Understand the data science life cycle\n",
    "+ FAIR data principles and metrics to measure the FAIRness of a digital resource\n",
    "+ The discipline of systematically engineering the data used to build an AI/ML system\n",
    "+ The development and deployment of AI/ML systems that are ethical, fair, transparent, and accountable"
   ]
  },
  {
   "cell_type": "markdown",
   "metadata": {},
   "source": [
    "## Prerequisites\n",
    "* An AWS account with access to Amazon SageMaker\n",
    "* Basic understanding of Python programming"
   ]
  },
  {
   "cell_type": "markdown",
   "metadata": {},
   "source": [
    "## Get Started\n",
    "- Watch the Lecture Videos.\n",
    "- Complete the Quizzes to solidify your understanding.\n",
    "- Enhance your programming skills with Tutorials.\n",
    "- Challenge yourself with the Exercises."
   ]
  },
  {
   "cell_type": "markdown",
   "metadata": {},
   "source": [
    "## Data Science Life Cycle\n",
    "\n",
    "Data Science has deep roots in the world of business analytics where decades of work has leveraged customer databases, financial data, and other metrics to optimize and predict the success of business models.  Many of the same concepts that apply in business are relevant to all applications of data science.  In this lecture we will examine the data science lifecycle and generalize it to a concept that can easily be applied to any scientific data analysis."
   ]
  },
  {
   "cell_type": "markdown",
   "metadata": {},
   "source": [
    "### Lecture Video"
   ]
  },
  {
   "cell_type": "code",
   "execution_count": null,
   "metadata": {},
   "outputs": [],
   "source": [
    "from IPython.display import YouTubeVideo\n",
    "\n",
    "# Youtube\n",
    "YouTubeVideo(id='data_science_life_cycles', height=200, width=400)"
   ]
  },
  {
   "cell_type": "markdown",
   "metadata": {},
   "source": [
    "### Lecture Slides\n",
    "\n",
    "Download the lecture slides [Data Science Life Cycle](Submodule_2/Lectures/Submodule_2_Lecture_1_Data_Science_Life_Cycle.pptx)."
   ]
  },
  {
   "cell_type": "markdown",
   "metadata": {},
   "source": [
    "### Quizzes\n",
    "+ [Data Science Life Cycle](Submodule_2/Quizzes/Data_Science_Life_Cycle_Quiz.ipynb)"
   ]
  },
  {
   "cell_type": "markdown",
   "metadata": {},
   "source": [
    "## FAIR Data Principles and FAIRness Metrics\n",
    "This section covers the principles of FAIR data analysis.  As data has become more and more prevalent and our ability to analyze and reanalyze data has increased, there has been a growing need for standards to make sure that data produced today will still be accessible and usable tomorrow.  The FAIR data principles are a set of guidelines for how to achieve this.  Funding agencies including the NIH and NSF are increasingly asking (or requiring) their funded research to comply to these standards."
   ]
  },
  {
   "cell_type": "markdown",
   "metadata": {},
   "source": [
    "### Lecture Video"
   ]
  },
  {
   "cell_type": "code",
   "execution_count": null,
   "metadata": {},
   "outputs": [],
   "source": [
    "from IPython.display import YouTubeVideo\n",
    "\n",
    "# Youtube\n",
    "YouTubeVideo(id='fair_data_principles_fairness_metrics', height=200, width=400)"
   ]
  },
  {
   "cell_type": "markdown",
   "metadata": {},
   "source": [
    "### Lecture Slides\n",
    "\n",
    "Download the lecture slides [FAIR Data Principles and FAIRness Metrics](Submodule_2/Lectures/Submodule_2_Lecture_2_FAIR_Data_Principles_and_FAIRness_Metrics.pptx)."
   ]
  },
  {
   "cell_type": "markdown",
   "metadata": {},
   "source": [
    "### Quizzes\n",
    "+ [FAIR Data Principles and FAIRness Metrics](Submodule_2/Quizzes/FAIR_Data_Principles_and_FAIRness_Metrics_Quiz.ipynb)"
   ]
  },
  {
   "cell_type": "markdown",
   "metadata": {},
   "source": [
    "## Responsible AI/ML \n",
    "In this section we will introduce responsible AI/ML, common biases in AI/ML datasets, fairness in machine learning life cycle, how to measure fairness, how to do bias mitigation and finally some responsible AI/ML tools."
   ]
  },
  {
   "cell_type": "markdown",
   "metadata": {},
   "source": [
    "#### Lecture Video"
   ]
  },
  {
   "cell_type": "code",
   "execution_count": null,
   "metadata": {},
   "outputs": [],
   "source": [
    "from IPython.display import YouTubeVideo\n",
    "\n",
    "# Youtube\n",
    "YouTubeVideo(id='responsible_ai_ml', height=200, width=400)"
   ]
  },
  {
   "cell_type": "markdown",
   "metadata": {},
   "source": [
    "### Lecture Slides\n",
    "\n",
    "Download the lecture slides [Responsible AI/ML](Submodule_2/Lectures/Submodule_2_Lecture_4_Responsible_AL_ML.pptx)."
   ]
  },
  {
   "cell_type": "markdown",
   "metadata": {},
   "source": [
    "### Quizzes\n",
    "+ [Responsible AI/ML](Submodule_2/Quizzes/Responsible_AI_ML_Quiz.ipynb)"
   ]
  },
  {
   "cell_type": "markdown",
   "metadata": {},
   "source": [
    "## Tutorials\n"
   ]
  },
  {
   "cell_type": "markdown",
   "metadata": {},
   "source": [
    "## Exercises\n"
   ]
  },
  {
   "cell_type": "markdown",
   "metadata": {},
   "source": [
    "## Conclusions\n",
    "After this module, learners should have a basic understanding of AI/ML, its core concepts and applications."
   ]
  },
  {
   "cell_type": "markdown",
   "metadata": {},
   "source": [
    "## Clean up\n",
    "A reminder to shutdown VM and delete any relevant resources. <br><br>"
   ]
  }
 ],
 "metadata": {
  "language_info": {
   "name": "python"
  }
 },
 "nbformat": 4,
 "nbformat_minor": 4
}
